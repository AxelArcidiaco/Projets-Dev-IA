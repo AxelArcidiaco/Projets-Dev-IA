{
 "cells": [
  {
   "cell_type": "code",
   "execution_count": null,
   "metadata": {},
   "outputs": [],
   "source": [
    "def algo1(n):\n",
    "    t = []\n",
    "    for i in range(n+1):\n",
    "        for j in range(n+1):\n",
    "            if i**2 + j**2 == n:\n",
    "                t.append((i,j)) # on ajoute le tuple (i,j)\n",
    "    return t\n",
    "\n",
    "algo1(10)"
   ]
  },
  {
   "cell_type": "code",
   "execution_count": null,
   "metadata": {},
   "outputs": [],
   "source": [
    "def algo2(n):\n",
    "    t = []\n",
    "    for i in range(n+1):\n",
    "        for j in range(0,i+1): # pour j de 0 à i. On évite les doublons (i,j) et (j,i)\n",
    "            if i**2 + j**2 == n:\n",
    "                t.append((i,j))\n",
    "    return t\n",
    "\n",
    "algo2(10)"
   ]
  },
  {
   "cell_type": "code",
   "execution_count": 8,
   "metadata": {},
   "outputs": [
    {
     "data": {
      "text/plain": [
       "[(3, 1)]"
      ]
     },
     "execution_count": 8,
     "metadata": {},
     "output_type": "execute_result"
    }
   ],
   "source": [
    "import math\n",
    "\n",
    "def algo3(n):\n",
    "    t = []\n",
    "    N = math.floor(math.sqrt(n))\n",
    "    for i in range(N+1): # si i^2+j^2 = n, alors i^2 <= n donc i <= sqrt(n)\n",
    "        for j in range(0,i+1): # pour j de 0 à i. On évite les doublons (i,j) et (j,i)\n",
    "            if i**2 + j**2 == n:\n",
    "                t.append((i,j))\n",
    "    return t\n",
    "\n",
    "algo3(10)"
   ]
  },
  {
   "cell_type": "code",
   "execution_count": 9,
   "metadata": {},
   "outputs": [
    {
     "data": {
      "text/plain": [
       "[(1, 3), (3, 1)]"
      ]
     },
     "execution_count": 9,
     "metadata": {},
     "output_type": "execute_result"
    }
   ],
   "source": [
    "def algo4(n):\n",
    "    t = []\n",
    "    N = math.floor(math.sqrt(n))\n",
    "    for i in range(N+1):\n",
    "        j = math.sqrt(n -i**2) # candidat pour être solution\n",
    "        if j == math.floor(j): # si j est entier\n",
    "            t.append((i,int(j)))\n",
    "    return t\n",
    "\n",
    "algo4(10)"
   ]
  },
  {
   "cell_type": "code",
   "execution_count": 17,
   "metadata": {},
   "outputs": [
    {
     "name": "stdout",
     "output_type": "stream",
     "text": [
      "calcul 1\n",
      "calcul 2\n",
      "calcul 3\n",
      "calcul 4\n"
     ]
    },
    {
     "data": {
      "text/plain": [
       "1024"
      ]
     },
     "execution_count": 17,
     "metadata": {},
     "output_type": "execute_result"
    }
   ],
   "source": [
    "def expo_rapide(x,n):\n",
    "    \"\"\"\n",
    "    Données: x un entier et n un entier naturel\n",
    "    Résultat: l’entier x puissance n\n",
    "    \"\"\"\n",
    "    p = 1 # p comme produit\n",
    "    a = x # nombre que l’on exponentie\n",
    "    e = n # e comme exposant\n",
    "    i = 0\n",
    "    while e != 0:\n",
    "        if e % 2 == 1:\n",
    "            p = p*a\n",
    "            e = e - 1\n",
    "        e = e // 2\n",
    "        a = a * a\n",
    "        i += 1\n",
    "        print(\"calcul\", i)\n",
    "    return(p)\n",
    "\n",
    "expo_rapide(2,10)"
   ]
  },
  {
   "cell_type": "code",
   "execution_count": 16,
   "metadata": {},
   "outputs": [
    {
     "name": "stdout",
     "output_type": "stream",
     "text": [
      "Calcul 1\n",
      "Calcul 2\n",
      "Calcul 3\n",
      "Calcul 4\n",
      "Calcul 5\n",
      "Calcul 6\n",
      "Calcul 7\n",
      "Calcul 8\n",
      "Calcul 9\n",
      "Calcul 10\n"
     ]
    },
    {
     "data": {
      "text/plain": [
       "1024"
      ]
     },
     "execution_count": 16,
     "metadata": {},
     "output_type": "execute_result"
    }
   ],
   "source": [
    "def expo_naif(x,n):\n",
    "    \"\"\"\n",
    "    Données: x un entier et n un entier naturel\n",
    "    Résultat: l’entier x puissance n\n",
    "    \"\"\"\n",
    "    p = 1\n",
    "    for i in range(n):\n",
    "        p = p * x\n",
    "        print(\"Calcul\", i+1)\n",
    "    return p\n",
    "\n",
    "expo_naif(2,10)"
   ]
  }
 ],
 "metadata": {
  "kernelspec": {
   "display_name": "NLP",
   "language": "python",
   "name": "python3"
  },
  "language_info": {
   "codemirror_mode": {
    "name": "ipython",
    "version": 3
   },
   "file_extension": ".py",
   "mimetype": "text/x-python",
   "name": "python",
   "nbconvert_exporter": "python",
   "pygments_lexer": "ipython3",
   "version": "3.8.16"
  },
  "orig_nbformat": 4
 },
 "nbformat": 4,
 "nbformat_minor": 2
}
