{
 "cells": [
  {
   "cell_type": "code",
   "execution_count": 7,
   "metadata": {},
   "outputs": [
    {
     "name": "stdout",
     "output_type": "stream",
     "text": [
      "(2.25, 6.25)\n",
      "(3.0625, 5.0625)\n",
      "(3.3611111111111107, 4.694444444444444)\n",
      "(3.515625, 4.515625)\n",
      "(3.610000000000002, 4.410000000000003)\n",
      "(3.673611111111108, 4.340277777777774)\n",
      "(3.719387755102037, 4.290816326530608)\n",
      "(3.75390625, 4.25390625)\n",
      "(3.7808641975308674, 4.225308641975312)\n",
      "(3.8025000000000055, 4.202500000000006)\n",
      "(3.8202479338842927, 4.183884297520656)\n",
      "(3.835069444444448, 4.168402777777782)\n",
      "(3.84763313609468, 4.155325443786989)\n",
      "(3.858418367346945, 4.144132653061232)\n",
      "(3.867777777777789, 4.134444444444457)\n",
      "(3.8759765625, 4.1259765625)\n",
      "(3.88321799307957, 4.118512110726628)\n",
      "(3.889660493827148, 4.11188271604937)\n",
      "(3.8954293628808916, 4.105955678670366)\n",
      "(3.9006249999999896, 4.100624999999988)\n"
     ]
    }
   ],
   "source": [
    "# \n",
    "def rectangle(nb):\n",
    "    x = v = u = 0\n",
    "    h = 2 / nb\n",
    "    for k in range(nb):\n",
    "        u = u + h * x ** 3\n",
    "        x = x + h\n",
    "        v = v + h * x ** 3\n",
    "    return(u, v)\n",
    "\n",
    "print(rectangle(4))\n",
    "print(rectangle(8))\n",
    "print(rectangle(12))\n",
    "print(rectangle(16))\n",
    "print(rectangle(20))\n",
    "print(rectangle(24))\n",
    "print(rectangle(28))\n",
    "print(rectangle(32))\n",
    "print(rectangle(36))\n",
    "print(rectangle(40))\n",
    "print(rectangle(44))\n",
    "print(rectangle(48))\n",
    "print(rectangle(52))\n",
    "print(rectangle(56))\n",
    "print(rectangle(60))\n",
    "print(rectangle(64))\n",
    "print(rectangle(68))\n",
    "print(rectangle(72))\n",
    "print(rectangle(76))\n",
    "print(rectangle(80))"
   ]
  }
 ],
 "metadata": {
  "kernelspec": {
   "display_name": "base",
   "language": "python",
   "name": "python3"
  },
  "language_info": {
   "codemirror_mode": {
    "name": "ipython",
    "version": 3
   },
   "file_extension": ".py",
   "mimetype": "text/x-python",
   "name": "python",
   "nbconvert_exporter": "python",
   "pygments_lexer": "ipython3",
   "version": "3.9.13"
  },
  "orig_nbformat": 4,
  "vscode": {
   "interpreter": {
    "hash": "700029e5f9c8992c55d37e3a404b0b432c68d401a3c06e21a848c27e97636ef3"
   }
  }
 },
 "nbformat": 4,
 "nbformat_minor": 2
}
