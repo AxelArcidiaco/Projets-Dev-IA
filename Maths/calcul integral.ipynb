{
 "cells": [
  {
   "cell_type": "code",
   "execution_count": 4,
   "metadata": {},
   "outputs": [
    {
     "name": "stdout",
     "output_type": "stream",
     "text": [
      "(2.25, 6.25)\n",
      "(3.0625, 5.0625)\n",
      "(3.3611111111111107, 4.694444444444444)\n",
      "(3.515625, 4.515625)\n",
      "(3.610000000000002, 4.410000000000003)\n",
      "(3.673611111111108, 4.340277777777774)\n"
     ]
    }
   ],
   "source": [
    "# \n",
    "def rectangle(nb):\n",
    "    x = v = u = 0\n",
    "    h = 2 / nb\n",
    "    for k in range(0, nb):\n",
    "        u = u + h * x ** 3\n",
    "        x = x + h\n",
    "        v = v + h * x ** 3\n",
    "    return(u, v)\n",
    "\n",
    "print(rectangle(4))\n",
    "print(rectangle(8))\n",
    "print(rectangle(12))\n",
    "print(rectangle(16))\n",
    "print(rectangle(20))\n",
    "print(rectangle(24))"
   ]
  }
 ],
 "metadata": {
  "kernelspec": {
   "display_name": "base",
   "language": "python",
   "name": "python3"
  },
  "language_info": {
   "codemirror_mode": {
    "name": "ipython",
    "version": 3
   },
   "file_extension": ".py",
   "mimetype": "text/x-python",
   "name": "python",
   "nbconvert_exporter": "python",
   "pygments_lexer": "ipython3",
   "version": "3.9.13"
  },
  "orig_nbformat": 4,
  "vscode": {
   "interpreter": {
    "hash": "700029e5f9c8992c55d37e3a404b0b432c68d401a3c06e21a848c27e97636ef3"
   }
  }
 },
 "nbformat": 4,
 "nbformat_minor": 2
}
