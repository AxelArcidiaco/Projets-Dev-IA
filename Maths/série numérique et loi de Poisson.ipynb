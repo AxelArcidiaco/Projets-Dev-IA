{
 "cells": [
  {
   "cell_type": "code",
   "execution_count": 3,
   "metadata": {},
   "outputs": [
    {
     "name": "stdout",
     "output_type": "stream",
     "text": [
      "Calcul de la somme de tous les termes d'une suite géométrique de terme u0 = 2 et de raison q = 1/3\n",
      "Pour n termes égual 100 : 2.9999999999999996\n"
     ]
    }
   ],
   "source": [
    "# Séries Géométriques\n",
    "def calc_sum_suite_geo(u0, q, nb_terme):\n",
    "    res = u0*((1 - pow(q, nb_terme + 1)) / (1 - q))\n",
    "    return res\n",
    "\n",
    "print(\"Calcul de la somme de tous les termes d'une suite géométrique de terme u0 = 2 et de raison q = 1/3\")\n",
    "u0 = 2\n",
    "q = 1/3\n",
    "print(\"Pour n termes égual 100 :\", end=\" \")\n",
    "print(calc_sum_suite_geo(u0, q, 100))"
   ]
  }
 ],
 "metadata": {
  "kernelspec": {
   "display_name": "base",
   "language": "python",
   "name": "python3"
  },
  "language_info": {
   "codemirror_mode": {
    "name": "ipython",
    "version": 3
   },
   "file_extension": ".py",
   "mimetype": "text/x-python",
   "name": "python",
   "nbconvert_exporter": "python",
   "pygments_lexer": "ipython3",
   "version": "3.9.13"
  },
  "orig_nbformat": 4,
  "vscode": {
   "interpreter": {
    "hash": "700029e5f9c8992c55d37e3a404b0b432c68d401a3c06e21a848c27e97636ef3"
   }
  }
 },
 "nbformat": 4,
 "nbformat_minor": 2
}
