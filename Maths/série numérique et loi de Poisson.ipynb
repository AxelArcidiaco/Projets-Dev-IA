{
 "cells": [
  {
   "cell_type": "code",
   "execution_count": 4,
   "metadata": {},
   "outputs": [
    {
     "name": "stdout",
     "output_type": "stream",
     "text": [
      "Calcul de la somme de tous les termes d'une suite géométrique de terme u0 = 2 et de raison q = 1/3\n",
      "Pour n termes égal 100 : 2.9999999999999996\n",
      "Pour n termes égal 250 : 2.9999999999999996\n",
      "Pour n termes égal 500 : 2.9999999999999996\n",
      "Pour n termes égal 750 : 2.9999999999999996\n",
      "Pour n termes égal 1000 : 2.9999999999999996\n",
      "Pour n termes égal 2500 : 2.9999999999999996\n",
      "Pour n termes égal 5000 : 2.9999999999999996\n",
      "Pour n termes égal 7500 : 2.9999999999999996\n",
      "Pour n termes égal 10000 : 2.9999999999999996\n",
      "Pour n termes égal 100000 : 2.9999999999999996\n"
     ]
    }
   ],
   "source": [
    "# Séries Géométriques\n",
    "def calc_sum_suite_geo(u0, q, nb_terme):\n",
    "    res = u0 * ((1 - pow(q, nb_terme + 1)) / (1 - q))\n",
    "    return res\n",
    "\n",
    "print(\"Calcul de la somme de tous les termes d'une suite géométrique de terme u0 = 2 et de raison q = 1/3\")\n",
    "u0 = 2\n",
    "q = 1/3\n",
    "listn = [100, 250, 500, 750, 1000, 2500, 5000, 7500, 10000, 100000]\n",
    "for n in listn:    \n",
    "    print(\"Pour n termes égal {} :\".format(n), end=\" \")\n",
    "    print(calc_sum_suite_geo(u0, q, n))"
   ]
  },
  {
   "cell_type": "code",
   "execution_count": 8,
   "metadata": {},
   "outputs": [
    {
     "name": "stdout",
     "output_type": "stream",
     "text": [
      "Pour n = 100000, la somme est : 3.0\n"
     ]
    }
   ],
   "source": [
    "def serie_geo(up, q, n):\n",
    "    sum = up\n",
    "    un = up\n",
    "    for i in range(n):\n",
    "        un = un * q\n",
    "        sum += un\n",
    "    print(\"Pour n = {}, la somme est : {}\".format(n, sum))\n",
    "    \n",
    "up = 2\n",
    "q = 1/3\n",
    "n = 100000\n",
    "\n",
    "serie_geo(up, q, n)"
   ]
  }
 ],
 "metadata": {
  "kernelspec": {
   "display_name": "base",
   "language": "python",
   "name": "python3"
  },
  "language_info": {
   "codemirror_mode": {
    "name": "ipython",
    "version": 3
   },
   "file_extension": ".py",
   "mimetype": "text/x-python",
   "name": "python",
   "nbconvert_exporter": "python",
   "pygments_lexer": "ipython3",
   "version": "3.9.13"
  },
  "orig_nbformat": 4,
  "vscode": {
   "interpreter": {
    "hash": "700029e5f9c8992c55d37e3a404b0b432c68d401a3c06e21a848c27e97636ef3"
   }
  }
 },
 "nbformat": 4,
 "nbformat_minor": 2
}
