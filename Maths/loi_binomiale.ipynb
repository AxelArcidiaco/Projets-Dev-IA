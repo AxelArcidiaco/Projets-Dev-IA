{
 "cells": [
  {
   "cell_type": "code",
   "execution_count": 1,
   "metadata": {},
   "outputs": [
    {
     "name": "stdout",
     "output_type": "stream",
     "text": [
      "3\n"
     ]
    }
   ],
   "source": [
    "# importation\n",
    "from random import randint\n",
    "\n",
    "def lancer_de():\n",
    "    return randint(1,6)\n",
    "\n",
    "print(lancer_de())"
   ]
  },
  {
   "cell_type": "code",
   "execution_count": 2,
   "metadata": {},
   "outputs": [
    {
     "name": "stdout",
     "output_type": "stream",
     "text": [
      "3\n",
      "6\n",
      "1\n",
      "1\n"
     ]
    }
   ],
   "source": [
    "for i in range(0, 4, 1):\n",
    "    print(lancer_de())"
   ]
  },
  {
   "cell_type": "code",
   "execution_count": 15,
   "metadata": {},
   "outputs": [
    {
     "name": "stdout",
     "output_type": "stream",
     "text": [
      "1.359048368887363e-16\n"
     ]
    }
   ],
   "source": [
    "import math\n",
    "\n",
    "def getProbaTenSixes(throwNumber):\n",
    "    res = 0\n",
    "    successes = 10\n",
    "    proba_success = 1/6\n",
    "    proba_failure = 5/6\n",
    "    # Calcul de la valeur de res, la variable qui va contenir le résultat de notre calcul de probabilité\n",
    "    res = (math.factorial(throwNumber) / (math.factorial(successes) * math.factorial(throwNumber - successes))) * pow(proba_success, successes) * pow(1 - proba_failure, throwNumber - successes)\n",
    "    \n",
    "    return res\n",
    "\n",
    "print(getProbaTenSixes(30))"
   ]
  },
  {
   "cell_type": "code",
   "execution_count": 17,
   "metadata": {},
   "outputs": [
    {
     "name": "stdout",
     "output_type": "stream",
     "text": [
      "1.359048368887363e-16\n",
      "6.471658899463632e-17\n",
      "2.647496822507849e-17\n",
      "9.2086846000273e-18\n",
      "2.6858663416746286e-18\n",
      "6.446079220019108e-19\n",
      "1.2396306192344434e-19\n",
      "1.8364898062732493e-20\n",
      "1.967667649578481e-21\n",
      "1.3570121721230903e-22\n"
     ]
    }
   ],
   "source": [
    "\n",
    "res = 0\n",
    "successes = 10\n",
    "proba_success = 1/6\n",
    "proba_failure = 5/6\n",
    "# Calcul de la valeur de res, la variable qui va contenir le résultat de notre calcul de probabilité\n",
    "while (successes > 0):\n",
    "    res = (math.factorial(30) / (math.factorial(successes) * math.factorial(30 - successes))) * pow(proba_success, successes) * pow(1 - proba_failure, 30 - successes)\n",
    "    successes -= 1\n",
    "    print(res)"
   ]
  },
  {
   "cell_type": "code",
   "execution_count": 19,
   "metadata": {},
   "outputs": [
    {
     "name": "stdout",
     "output_type": "stream",
     "text": [
      "4.753060597683195e-15\n"
     ]
    }
   ],
   "source": [
    "def getProbaTenSixes(throwNumber):\n",
    "    res = 0\n",
    "    successes = 30\n",
    "    proba_success = 1/6\n",
    "    proba_failure = 5/6\n",
    "    # Calcul de la valeur de res, la variable qui va contenir le résultat de notre calcul de probabilité\n",
    "    while (successes > 9):\n",
    "        res += (math.factorial(throwNumber) / (math.factorial(successes) * math.factorial(throwNumber - successes))) * pow(proba_success, successes) * pow(1 - proba_failure, throwNumber - successes)\n",
    "        successes -= 1\n",
    "    \n",
    "    return res\n",
    "\n",
    "print(getProbaTenSixes(30))"
   ]
  },
  {
   "cell_type": "code",
   "execution_count": 20,
   "metadata": {},
   "outputs": [
    {
     "name": "stdout",
     "output_type": "stream",
     "text": [
      "1.517\n"
     ]
    }
   ],
   "source": [
    "count = 0\n",
    "range_draw = 100000\n",
    "\n",
    "table_all = []\n",
    "\n",
    "for j in range (range_draw) :\n",
    "    table = []\n",
    "    ite = 0\n",
    "    for i in range(4) :\n",
    "        draw = randint(1, 6)\n",
    "        table.append(draw)\n",
    "\n",
    "        if draw == 6 :\n",
    "            ite += 1\n",
    "    if ite == 3 :\n",
    "        count += 1\n",
    "percent_all = (100 * count) / range_draw\n",
    "\n",
    "print(percent_all)"
   ]
  },
  {
   "cell_type": "code",
   "execution_count": 26,
   "metadata": {},
   "outputs": [
    {
     "name": "stdout",
     "output_type": "stream",
     "text": [
      "99.346\n"
     ]
    }
   ],
   "source": [
    "count = 0\n",
    "range_draw = 100000\n",
    "\n",
    "table_all = []\n",
    "\n",
    "for j in range (range_draw) :\n",
    "    table = []\n",
    "    ite = 0\n",
    "    for i in range(30) :\n",
    "        draw = randint(1, 6)\n",
    "        table.append(draw)\n",
    "\n",
    "        if draw == 6 :\n",
    "            ite += 1\n",
    "\n",
    "    if ite <= 10 :\n",
    "        count += 1\n",
    "\n",
    "percent_all = ( 100 * count ) / range_draw\n",
    "\n",
    "print(percent_all)"
   ]
  },
  {
   "attachments": {},
   "cell_type": "markdown",
   "metadata": {},
   "source": [
    "# Esperance, Variance, et Ecart-Type"
   ]
  },
  {
   "cell_type": "code",
   "execution_count": 24,
   "metadata": {},
   "outputs": [
    {
     "name": "stdout",
     "output_type": "stream",
     "text": [
      "1.359048368887363e-16\n",
      "4.077145106662089e-15\n",
      "4.0771451066620886e-15\n",
      "6.385252623555381e-08\n"
     ]
    }
   ],
   "source": [
    "p = (math.factorial(30) / (math.factorial(10) * math.factorial(30 - 10))) * pow(1/6, 10) * pow(1 - 5/6, 30 - 10)\n",
    "print(p)\n",
    "print(30*p)\n",
    "print(30*p*(1-p))\n",
    "print(math.sqrt(30*p*(1-p)))"
   ]
  },
  {
   "cell_type": "code",
   "execution_count": 25,
   "metadata": {},
   "outputs": [
    {
     "name": "stdout",
     "output_type": "stream",
     "text": [
      "4.753060597683195e-15\n",
      "1.4259181793049584e-13\n",
      "1.4259181793049516e-13\n",
      "3.776133179993724e-07\n"
     ]
    }
   ],
   "source": [
    "p = 4.753060597683195e-15\n",
    "print(p)\n",
    "print(30*p)\n",
    "print(30*p*(1-p))\n",
    "print(math.sqrt(30*p*(1-p)))"
   ]
  }
 ],
 "metadata": {
  "kernelspec": {
   "display_name": "base",
   "language": "python",
   "name": "python3"
  },
  "language_info": {
   "codemirror_mode": {
    "name": "ipython",
    "version": 3
   },
   "file_extension": ".py",
   "mimetype": "text/x-python",
   "name": "python",
   "nbconvert_exporter": "python",
   "pygments_lexer": "ipython3",
   "version": "3.9.13"
  },
  "orig_nbformat": 4,
  "vscode": {
   "interpreter": {
    "hash": "700029e5f9c8992c55d37e3a404b0b432c68d401a3c06e21a848c27e97636ef3"
   }
  }
 },
 "nbformat": 4,
 "nbformat_minor": 2
}
