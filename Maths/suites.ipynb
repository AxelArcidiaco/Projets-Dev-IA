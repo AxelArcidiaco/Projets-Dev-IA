{
 "cells": [
  {
   "cell_type": "code",
   "execution_count": 1,
   "metadata": {},
   "outputs": [
    {
     "name": "stdout",
     "output_type": "stream",
     "text": [
      "3\n",
      "18\n"
     ]
    }
   ],
   "source": [
    "# Partie B : Génération de suites \n",
    "# Situation 1 : A l'aide d'une fonction\n",
    "# Exercice question 2 & 3\n",
    "def aidefct(x) :\n",
    "    return (x**2 - 2 * x + 3)\n",
    "\n",
    "print(aidefct(0))\n",
    "print(aidefct(5))"
   ]
  },
  {
   "cell_type": "code",
   "execution_count": 3,
   "metadata": {},
   "outputs": [
    {
     "name": "stdout",
     "output_type": "stream",
     "text": [
      "1\n",
      "-29\n"
     ]
    }
   ],
   "source": [
    "# Situation 2 : Par récurence\n",
    "# Exercice question 1, 2, & 3\n",
    "def parrecur(n) :\n",
    "    res = 2\n",
    "    if (n != 0):\n",
    "        for i in range(n):\n",
    "            res = 2 * res - 3\n",
    "    return res\n",
    "\n",
    "print(parrecur(1))\n",
    "print(parrecur(5))"
   ]
  }
 ],
 "metadata": {
  "kernelspec": {
   "display_name": "Python 3.9.13 ('base')",
   "language": "python",
   "name": "python3"
  },
  "language_info": {
   "codemirror_mode": {
    "name": "ipython",
    "version": 3
   },
   "file_extension": ".py",
   "mimetype": "text/x-python",
   "name": "python",
   "nbconvert_exporter": "python",
   "pygments_lexer": "ipython3",
   "version": "3.9.13"
  },
  "orig_nbformat": 4,
  "vscode": {
   "interpreter": {
    "hash": "700029e5f9c8992c55d37e3a404b0b432c68d401a3c06e21a848c27e97636ef3"
   }
  }
 },
 "nbformat": 4,
 "nbformat_minor": 2
}
