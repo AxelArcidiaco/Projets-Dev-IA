{
 "cells": [
  {
   "cell_type": "code",
   "execution_count": 50,
   "metadata": {},
   "outputs": [
    {
     "name": "stdout",
     "output_type": "stream",
     "text": [
      "3\n",
      "18\n"
     ]
    }
   ],
   "source": [
    "# Partie B : Génération de suites \n",
    "# Situation 1 : A l'aide d'une fonction\n",
    "# Exercice question 2 & 3\n",
    "def aidefct(x) :\n",
    "    return (x**2 - 2 * x + 3)\n",
    "\n",
    "print(aidefct(0))\n",
    "print(aidefct(5))"
   ]
  },
  {
   "cell_type": "code",
   "execution_count": 51,
   "metadata": {},
   "outputs": [
    {
     "name": "stdout",
     "output_type": "stream",
     "text": [
      "1\n",
      "-29\n"
     ]
    }
   ],
   "source": [
    "# Situation 2 : Par récurence\n",
    "# Exercice question 1, 2, & 3\n",
    "def parrecur(n) :\n",
    "    res = 2\n",
    "    if (n != 0):\n",
    "        for i in range(n):\n",
    "            res = 2 * res - 3\n",
    "    return res\n",
    "\n",
    "print(parrecur(1))\n",
    "print(parrecur(5))"
   ]
  },
  {
   "cell_type": "code",
   "execution_count": 52,
   "metadata": {},
   "outputs": [
    {
     "name": "stdout",
     "output_type": "stream",
     "text": [
      "10000\n",
      "10200.0\n",
      "10404.0\n",
      "10612.08\n"
     ]
    }
   ],
   "source": [
    "# Partie C : Suites arithmétiques et géométriques\n",
    "# Exercice 2 : Suites géométriques\n",
    "def suiteGeo(nbAnne, somme_init):\n",
    "    res = somme_init\n",
    "    if (nbAnne != 0):\n",
    "        for i in range(nbAnne):\n",
    "            res = res * 1.02\n",
    "    return res\n",
    "\n",
    "for j in range(4):\n",
    "    print(suiteGeo(j, 10000))"
   ]
  },
  {
   "cell_type": "code",
   "execution_count": 69,
   "metadata": {},
   "outputs": [
    {
     "name": "stdout",
     "output_type": "stream",
     "text": [
      "Calcul de la somme S des valeurs de U entre U10 et U2022\n",
      "S = 6127517\n"
     ]
    }
   ],
   "source": [
    "# Partie D : Sommes de termes d'une suite\n",
    "# Exercice 1 : Sommes de termes d'une suite arithmétique\n",
    "def valUdeN(n):\n",
    "    u1 = 5\n",
    "    u6 = 20\n",
    "    if (n == 1):\n",
    "        return u1\n",
    "    elif (n == 6):\n",
    "        return u6\n",
    "    elif (n == 0):\n",
    "        return u1 - 3\n",
    "    else:\n",
    "        res = u1 - 3\n",
    "        for j in range(n):\n",
    "            res = res + 3\n",
    "        return res\n",
    "\n",
    "# Calcul et sauvegarde des valeurs de U de 0 à 2022 dans une liste\n",
    "un = 2020\n",
    "myList = []\n",
    "for k in range(un + 1):\n",
    "    myList.append(valUdeN(k))\n",
    "\n",
    "'''\n",
    "# Affichage des valeurs de U de 0 à 2020\n",
    "print(\"Valeurs de la suite U de 0 à 2020 :\")\n",
    "print(myList)\n",
    "'''\n",
    "\n",
    "# print(\"U10 = \", valUdeN(10), \"| myList[10] = \", myList[10]) # Valeur calculé de U10 et vérification de la valeur de U10 dans la liste\n",
    "\n",
    "# Calcul de la somme des valeurs de u de U10 à U2020\n",
    "somme = 0\n",
    "cpt = 10\n",
    "while cpt <= 2020:\n",
    "    somme += myList[cpt]\n",
    "    cpt += 1\n",
    "\n",
    "print(\"Calcul de la somme S des valeurs de U entre U10 et U2022\")\n",
    "print(\"S =\", somme)"
   ]
  },
  {
   "cell_type": "code",
   "execution_count": 8,
   "metadata": {},
   "outputs": [
    {
     "name": "stdout",
     "output_type": "stream",
     "text": [
      "U10 = 65610\n",
      "Valeurs de U5 à U20 : [270, 810, 2430, 7290, 21870, 65610, 196830, 590490, 1771470, 5314410, 15943230, 47829690, 143489070, 430467210, 1291401630, 3874204890]\n",
      "S = 5811307200\n"
     ]
    }
   ],
   "source": [
    "# Exercice 2 : Somme de termes de suite géométrique\n",
    "def suiteGeo(n):\n",
    "    u2 = 10\n",
    "    if (n == 2):\n",
    "        return u2\n",
    "    elif (n > 2):\n",
    "        return u2 * pow(3, n - 2)\n",
    "    elif (n == 1):\n",
    "        return u2 / 3\n",
    "    else:\n",
    "        return u2 / 3 / 3\n",
    "\n",
    "# Calcul de U10\n",
    "n = 10\n",
    "print(\"U\"+ str(n) + \" =\", suiteGeo(n))\n",
    "\n",
    "# Calcul et sauvegarde des valeurs de U entre 5 et 20\n",
    "suite = []\n",
    "for i in range(5, 21):\n",
    "    suite.append(suiteGeo(i))\n",
    "\n",
    "print(\"Valeurs de U5 à U20 :\", suite)\n",
    "\n",
    "#Calcul de la somme S des valeurs de U entre 5 et 20\n",
    "somme = 0\n",
    "for k in range(len(suite)):\n",
    "    somme += suite[k]\n",
    "\n",
    "print(\"S =\", somme)"
   ]
  },
  {
   "cell_type": "code",
   "execution_count": 4,
   "metadata": {},
   "outputs": [
    {
     "name": "stdout",
     "output_type": "stream",
     "text": [
      "Sissa a 36893488147419103231 grain de riz\n",
      "C'est équivalent à 7.378697629483821e+17 g de riz.\n",
      "Soit 737869762948.3821 tonnes de riz.\n",
      "Soit 737.8697629483821 milliard de tonnes de riz.\n",
      "Soit 94.74444824709582 % de la production mondiale de riz en 2018\n"
     ]
    }
   ],
   "source": [
    "import math\n",
    "\n",
    "# Exercice : La légende de Sissa\n",
    "def legSissa(n):\n",
    "    u0 = 1\n",
    "    un = u0\n",
    "    for i in range(n):\n",
    "        un = un * 2\n",
    "    return un\n",
    "\n",
    "n = 64\n",
    "somme = 0\n",
    "sissa = []\n",
    "for j in range(n + 1):\n",
    "    sissa.append(legSissa(j))\n",
    "    somme += sissa[j]\n",
    "\n",
    "print(\"Sissa a\", somme, \"grain de riz\")\n",
    "mass = somme * 0.02 # Calcul de la masse en grammes\n",
    "print(\"C'est équivalent à\", mass, \"g de riz.\")\n",
    "mass = mass / 1000 / 1000 # Conversion en tonnes\n",
    "print(\"Soit\", mass, \"tonnes de riz.\")\n",
    "mass = mass / 1000000000 # Conversion en milliard de tonnes\n",
    "print(\"Soit\", mass, \"milliard de tonnes de riz.\")\n",
    "# Conversion en pourcentage par rapport à la production mondiale de riz en 2018 ~778.8 milliard de tonnes de riz\n",
    "print(\"Soit\", mass / 778.8 * 100, \"%\" + \" de la production mondiale de riz en 2018\")"
   ]
  }
 ],
 "metadata": {
  "kernelspec": {
   "display_name": "Python 3.9.13 ('base')",
   "language": "python",
   "name": "python3"
  },
  "language_info": {
   "codemirror_mode": {
    "name": "ipython",
    "version": 3
   },
   "file_extension": ".py",
   "mimetype": "text/x-python",
   "name": "python",
   "nbconvert_exporter": "python",
   "pygments_lexer": "ipython3",
   "version": "3.9.13"
  },
  "orig_nbformat": 4,
  "vscode": {
   "interpreter": {
    "hash": "700029e5f9c8992c55d37e3a404b0b432c68d401a3c06e21a848c27e97636ef3"
   }
  }
 },
 "nbformat": 4,
 "nbformat_minor": 2
}
