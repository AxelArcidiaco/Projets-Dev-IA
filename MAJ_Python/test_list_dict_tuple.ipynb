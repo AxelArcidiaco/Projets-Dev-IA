{
 "cells": [
  {
   "cell_type": "markdown",
   "metadata": {},
   "source": [
    "# Test sur les listes, dictionnaire, et tuples en Python"
   ]
  },
  {
   "cell_type": "code",
   "execution_count": 6,
   "metadata": {},
   "outputs": [
    {
     "name": "stdout",
     "output_type": "stream",
     "text": [
      "[3, 9, 27, 13, 5] ['Paris', 'Berlin', 'Vienne'] [[3, 9, 27, 13, 5], ['Paris', 'Berlin', 'Vienne']] []\n",
      "['Paris', 'Berlin', 'Madrid', 'Vienne']\n",
      "['Paris', 'Berlin', 'Madrid', 'Vienne', 'Rome', 'Budapest', 'Tokyo']\n",
      "None\n"
     ]
    }
   ],
   "source": [
    "# Liste\n",
    "liste1 = [3, 9, 27, 13, 5]\n",
    "villes = [\"Paris\", \"Berlin\", \"Vienne\"]\n",
    "liste2 = [liste1, villes]\n",
    "liste3 = []\n",
    "\n",
    "print(liste1, villes, liste2, liste3)\n",
    "villes.insert(2, \"Madrid\")\n",
    "print(villes)\n",
    "\n",
    "villes2 = [\"Rome\", \"Budapest\", \"Tokyo\"]\n",
    "villes.extend(villes2)\n",
    "print(villes)\n",
    "\n",
    "# Tri d'une liste\n",
    "liste1 = liste1.sort()\n",
    "print(liste1)"
   ]
  },
  {
   "cell_type": "code",
   "execution_count": null,
   "metadata": {},
   "outputs": [],
   "source": [
    "# Tuple\n",
    "tuple1 = (3, 9, 27, 13, 5)"
   ]
  }
 ],
 "metadata": {
  "kernelspec": {
   "display_name": "Python 3.9.13 ('base')",
   "language": "python",
   "name": "python3"
  },
  "language_info": {
   "codemirror_mode": {
    "name": "ipython",
    "version": 3
   },
   "file_extension": ".py",
   "mimetype": "text/x-python",
   "name": "python",
   "nbconvert_exporter": "python",
   "pygments_lexer": "ipython3",
   "version": "3.9.13"
  },
  "orig_nbformat": 4,
  "vscode": {
   "interpreter": {
    "hash": "700029e5f9c8992c55d37e3a404b0b432c68d401a3c06e21a848c27e97636ef3"
   }
  }
 },
 "nbformat": 4,
 "nbformat_minor": 2
}
