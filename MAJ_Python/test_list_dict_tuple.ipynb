{
 "cells": [
  {
   "cell_type": "markdown",
   "metadata": {},
   "source": [
    "# Test sur les listes, dictionnaire, et tuples en Python"
   ]
  },
  {
   "cell_type": "code",
   "execution_count": 1,
   "metadata": {},
   "outputs": [
    {
     "name": "stdout",
     "output_type": "stream",
     "text": [
      "[3, 9, 27, 13, 5] ['Paris', 'Berlin', 'Vienne'] [[3, 9, 27, 13, 5], ['Paris', 'Berlin', 'Vienne']] []\n"
     ]
    }
   ],
   "source": [
    "# Liste\n",
    "liste1 = [3, 9, 27, 13, 5]\n",
    "villes = [\"Paris\", \"Berlin\", \"Vienne\"]\n",
    "liste2 = [liste1, villes]\n",
    "liste3 = []\n",
    "\n",
    "print(liste1, villes, liste2, liste3)"
   ]
  }
 ],
 "metadata": {
  "kernelspec": {
   "display_name": "Python 3.9.13 ('base')",
   "language": "python",
   "name": "python3"
  },
  "language_info": {
   "codemirror_mode": {
    "name": "ipython",
    "version": 3
   },
   "file_extension": ".py",
   "mimetype": "text/x-python",
   "name": "python",
   "nbconvert_exporter": "python",
   "pygments_lexer": "ipython3",
   "version": "3.9.13"
  },
  "orig_nbformat": 4,
  "vscode": {
   "interpreter": {
    "hash": "700029e5f9c8992c55d37e3a404b0b432c68d401a3c06e21a848c27e97636ef3"
   }
  }
 },
 "nbformat": 4,
 "nbformat_minor": 2
}
