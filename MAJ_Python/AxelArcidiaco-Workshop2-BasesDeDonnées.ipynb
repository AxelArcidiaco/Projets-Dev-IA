{
 "cells": [
  {
   "cell_type": "markdown",
   "metadata": {},
   "source": [
    "# Step 1 : Création du dictionnaire vide client1"
   ]
  },
  {
   "cell_type": "code",
   "execution_count": null,
   "metadata": {},
   "outputs": [],
   "source": [
    "client1 = {}"
   ]
  },
  {
   "cell_type": "markdown",
   "metadata": {},
   "source": [
    "# Step 2 : Récupération des données du client1 via une boucle"
   ]
  },
  {
   "cell_type": "code",
   "execution_count": 16,
   "metadata": {},
   "outputs": [
    {
     "name": "stdout",
     "output_type": "stream",
     "text": [
      "{'Nom': 'ARCIDIACO', 'Prénom': 'Axel', 'Sexe': 'M', 'Solde': '3000'}\n"
     ]
    }
   ],
   "source": [
    "# Fonction qui permet de créer un nouveau dictionnaire de données client\n",
    "def create_client():\n",
    "    # Liste de clés correspondant aux divers attributs client attendu (Nom, Prénom, Sexe, Solde)\n",
    "    keys = [\"Nom\", \"Prénom\", \"Sexe\", \"Solde\"]\n",
    "    # Liste qui contient les attributs client du client1\n",
    "    values = []\n",
    "    # Boucle for qui permet de récupérer via des inputs les 4 attributs client attendu\n",
    "    for key in keys:\n",
    "        values.append(input(\"Saississer le {} du client\".format(key)))\n",
    "    # On crée le dictionnaire client à partir des listes keys et values\n",
    "    client = {keys[i] : values[i] for i in range(len(keys))}\n",
    "    # On renvoie le dictionnaire client ainsi créé\n",
    "    return client\n",
    "\n",
    "print(create_client())"
   ]
  },
  {
   "cell_type": "markdown",
   "metadata": {},
   "source": [
    "# Step 3 & 4 : Création d'une liste de 12 dictionnaires client avec les même clés et remplissage de celle-ci via des inputs"
   ]
  },
  {
   "cell_type": "code",
   "execution_count": 12,
   "metadata": {},
   "outputs": [
    {
     "name": "stdout",
     "output_type": "stream",
     "text": [
      "[{'Nom': 'ARCIDIACO', 'Prénom': 'Axel', 'Sexe': 'M', 'Solde': '3000'}, {'Nom': 'BAKOUZOU', 'Prénom': 'Briand', 'Sexe': 'M', 'Solde': '2000'}, {'Nom': 'BOUCHONNET', 'Prénom': 'Aude', 'Sexe': 'F', 'Solde': '1500'}, {'Nom': 'DAOU', 'Prénom': 'Seydou', 'Sexe': 'M', 'Solde': '4500'}, {'Nom': 'EDSA EDANNANG', 'Prénom': 'Solenn', 'Sexe': 'F', 'Solde': '5000'}, {'Nom': 'GAIDOT', 'Prénom': 'Adeline', 'Sexe': 'F', 'Solde': '3500'}, {'Nom': 'JACQUENET', 'Prénom': 'Adrien', 'Sexe': 'M', 'Solde': '2500'}, {'Nom': 'PANEL', 'Prénom': 'Loïc', 'Sexe': 'M', 'Solde': '4000'}, {'Nom': 'PERCIOT', 'Prénom': 'Nicolas', 'Sexe': 'M', 'Solde': '1000'}, {'Nom': 'SOSSAH', 'Prénom': 'Jean-Paul', 'Sexe': 'M', 'Solde': '3000'}, {'Nom': 'TARASENKO', 'Prénom': 'Tetyana', 'Sexe': 'F', 'Solde': '2500'}, {'Nom': 'WAGNER', 'Prénom': 'Etienne', 'Sexe': 'M', 'Solde': '4500'}]\n"
     ]
    }
   ],
   "source": [
    "# Liste qui contient un dictionnaire de données pour chaque clients\n",
    "clients = []\n",
    "\n",
    "# On utilise une boucle for pour remplir la liste clients avec les 12 dictionnaires client\n",
    "for i in range(12):\n",
    "    clients.append(create_client())\n",
    "\n",
    "# On affiche la liste clients qui contient 12 dictionnaires client    \n",
    "print(clients)"
   ]
  },
  {
   "cell_type": "markdown",
   "metadata": {},
   "source": [
    "# Liste des clients en dure\n",
    "La ligne de code si dessus permet d'enregistrer directement dans le programme la liste de dictionnaires de clients pour les manipulations de celle-ci dans les étapes suivantes"
   ]
  },
  {
   "cell_type": "code",
   "execution_count": 37,
   "metadata": {},
   "outputs": [],
   "source": [
    "clients = [\n",
    "    {'Nom': 'ARCIDIACO', 'Prénom': 'Axel', 'Sexe': 'M', 'Solde': '3000'}, \n",
    "    {'Nom': 'BAKOUZOU', 'Prénom': 'Briand', 'Sexe': 'M', 'Solde': '2000'}, \n",
    "    {'Nom': 'BOUCHONNET', 'Prénom': 'Aude', 'Sexe': 'F', 'Solde': '1500'}, \n",
    "    {'Nom': 'DAOU', 'Prénom': 'Seydou', 'Sexe': 'M', 'Solde': '4500'}, \n",
    "    {'Nom': 'EDSA EDANNANG', 'Prénom': 'Solenn', 'Sexe': 'F', 'Solde': '5000'}, \n",
    "    {'Nom': 'GAIDOT', 'Prénom': 'Adeline', 'Sexe': 'F', 'Solde': '3500'}, \n",
    "    {'Nom': 'JACQUENET', 'Prénom': 'Adrien', 'Sexe': 'M', 'Solde': '2500'}, \n",
    "    {'Nom': 'PANEL', 'Prénom': 'Loïc', 'Sexe': 'M', 'Solde': '4000'}, \n",
    "    {'Nom': 'PERCIOT', 'Prénom': 'Nicolas', 'Sexe': 'M', 'Solde': '1000'}, \n",
    "    {'Nom': 'SOSSAH', 'Prénom': 'Jean-Paul', 'Sexe': 'M', 'Solde': '3000'}, \n",
    "    {'Nom': 'TARASENKO', 'Prénom': 'Tetyana', 'Sexe': 'F', 'Solde': '2500'}, \n",
    "    {'Nom': 'WAGNER', 'Prénom': 'Etienne', 'Sexe': 'M', 'Solde': '4500'}\n",
    "]"
   ]
  },
  {
   "cell_type": "markdown",
   "metadata": {},
   "source": [
    "# Step 5 : Retrait de 500 euros pour client4"
   ]
  },
  {
   "cell_type": "code",
   "execution_count": 40,
   "metadata": {},
   "outputs": [
    {
     "name": "stdout",
     "output_type": "stream",
     "text": [
      "Les données du client DAOU Seydou sont  {'Nom': 'DAOU', 'Prénom': 'Seydou', 'Sexe': 'M', 'Solde': '4500'}\n",
      "4000\n"
     ]
    }
   ],
   "source": [
    "# Bloc de code qui permet de faire un retrait de 500 € sur le solde du client 4\n",
    "# On récupére les données du client 4 et on les affiche\n",
    "client4 = clients[3]\n",
    "print(\"Les données du client {} {} sont\".format(client4[\"Nom\"], client4[\"Prénom\"]), client4)\n",
    "\n",
    "# On modifie le solde du client 4\n",
    "client4[\"Solde\"] = int(client4[\"Solde\"]) - 500\n",
    "print(client4[\"Solde\"])"
   ]
  },
  {
   "cell_type": "markdown",
   "metadata": {},
   "source": [
    "# Fonctions de retrait et de dépot d'argent sur le solde d'un client"
   ]
  },
  {
   "cell_type": "code",
   "execution_count": 25,
   "metadata": {},
   "outputs": [],
   "source": [
    "# Fonction permettant d'effectuer un retrait sur le solde d'un client\n",
    "def retrait(cli, retrait):\n",
    "    cli[\"Solde\"] = int(cli[\"Solde\"]) - retrait\n",
    "    \n",
    "# Fonction permettant de faire un dépot d'argent sur le solde d'un client\n",
    "def depot(cli, depot):\n",
    "    cli[\"Solde\"] = int(cli[\"Solde\"]) + depot"
   ]
  },
  {
   "cell_type": "markdown",
   "metadata": {},
   "source": [
    "# Step 6 : Solde total"
   ]
  },
  {
   "cell_type": "code",
   "execution_count": 19,
   "metadata": {},
   "outputs": [
    {
     "name": "stdout",
     "output_type": "stream",
     "text": [
      "Le solde total des 12 clients de la banque est 36500 €\n"
     ]
    }
   ],
   "source": [
    "# Bloc de code qui permet de calculer le solde total\n",
    "solde_total = 0\n",
    "for client in clients:\n",
    "    solde_total += int(client[\"Solde\"])\n",
    "    \n",
    "# On affiche le solde totat des clients\n",
    "print(\"Le solde total des {} clients de la banque est {} €\".format(len(clients), solde_total))"
   ]
  },
  {
   "cell_type": "markdown",
   "metadata": {},
   "source": [
    "# Fonction de calcul du solde total"
   ]
  },
  {
   "cell_type": "code",
   "execution_count": 24,
   "metadata": {},
   "outputs": [],
   "source": [
    "# Fonction permettant d'obtenir le solde total des clients\n",
    "def get_solde_total(clients):\n",
    "    solde_total = 0\n",
    "    for client in clients:\n",
    "        solde_total += int(client[\"Solde\"])\n",
    "    \n",
    "    return solde_total"
   ]
  },
  {
   "cell_type": "markdown",
   "metadata": {},
   "source": [
    "# Step 7 : Comptage des hommes et des femmes"
   ]
  },
  {
   "cell_type": "code",
   "execution_count": 18,
   "metadata": {},
   "outputs": [
    {
     "name": "stdout",
     "output_type": "stream",
     "text": [
      "Il y a 8 client(s) de sexe masculin et 4 de sexe féminin.\n"
     ]
    }
   ],
   "source": [
    "# Fonction permettant de savoir combien d'hommes et de femmes sont parmi les clients\n",
    "def get_nb_genders(clients):\n",
    "    nb_hommes = 0\n",
    "    nb_femmes = 0\n",
    "    for client in clients:\n",
    "        if client[\"Sexe\"] == \"M\":\n",
    "            nb_hommes += 1\n",
    "        else:\n",
    "            nb_femmes += 1\n",
    "    \n",
    "    return \"Il y a {} client(s) de sexe masculin et {} de sexe féminin.\".format(nb_hommes, nb_femmes)\n",
    "\n",
    "# On affiche le nombre d'hommes et de femmes parmi les clients\n",
    "print(get_nb_genders(clients))"
   ]
  },
  {
   "cell_type": "markdown",
   "metadata": {},
   "source": [
    "# Step 8 : Ajout de M. KURDY Bassam avec un solde de 2000 € dans la liste clients"
   ]
  },
  {
   "cell_type": "code",
   "execution_count": 36,
   "metadata": {},
   "outputs": [
    {
     "name": "stdout",
     "output_type": "stream",
     "text": [
      "Les données du nouveau client : {'Nom': 'KURDY', 'Prénom': 'Bassam', 'Sexe': 'M', 'Solde': '2000'}\n",
      "Liste des clients :\n",
      "[{'Nom': 'ARCIDIACO', 'Prénom': 'Axel', 'Sexe': 'M', 'Solde': '3000'}, {'Nom': 'BAKOUZOU', 'Prénom': 'Briand', 'Sexe': 'M', 'Solde': '2000'}, {'Nom': 'BOUCHONNET', 'Prénom': 'Aude', 'Sexe': 'F', 'Solde': '1500'}, {'Nom': 'DAOU', 'Prénom': 'Seydou', 'Sexe': 'M', 'Solde': 4000}, {'Nom': 'EDSA EDANNANG', 'Prénom': 'Solenn', 'Sexe': 'F', 'Solde': '5000'}, {'Nom': 'GAIDOT', 'Prénom': 'Adeline', 'Sexe': 'F', 'Solde': '3500'}, {'Nom': 'JACQUENET', 'Prénom': 'Adrien', 'Sexe': 'M', 'Solde': '2500'}, {'Nom': 'PANEL', 'Prénom': 'Loïc', 'Sexe': 'M', 'Solde': '4000'}, {'Nom': 'PERCIOT', 'Prénom': 'Nicolas', 'Sexe': 'M', 'Solde': '1000'}, {'Nom': 'SOSSAH', 'Prénom': 'Jean-Paul', 'Sexe': 'M', 'Solde': '3000'}, {'Nom': 'TARASENKO', 'Prénom': 'Tetyana', 'Sexe': 'F', 'Solde': '2500'}, {'Nom': 'WAGNER', 'Prénom': 'Etienne', 'Sexe': 'M', 'Solde': '4500'}, {'Nom': 'KURDY', 'Prénom': 'Bassam', 'Sexe': 'M', 'Solde': '2000'}]\n",
      "Il y a 9 client(s) de sexe masculin et 4 de sexe féminin.\n",
      "Le solde total des clients est 38500 €.\n"
     ]
    }
   ],
   "source": [
    "# Fonction de vérification si le nouveau client n'existe pas dans la liste\n",
    "def verif_doublon(clients, client):\n",
    "    deja_present = False\n",
    "    for cli in clients:\n",
    "        if (cli[\"Nom\"] == client[\"Nom\"] and cli[\"Prénom\"] == client[\"Prénom\"] and cli[\"Sexe\"] == client[\"Sexe\"]):\n",
    "            deja_present = True\n",
    "            return deja_present\n",
    "    return deja_present     \n",
    "\n",
    "# Création du client Bassam Kurdy\n",
    "bassam = create_client()\n",
    "\n",
    "# Affichage des données du client Bassam\n",
    "print(\"Les données du nouveau client :\", bassam)\n",
    "\n",
    "# Ajout du client Bassam à la liste de clients s'il n'exite pas dans la liste de clients)\n",
    "if verif_doublon(clients, bassam) == False:\n",
    "    clients.append(bassam)\n",
    "\n",
    "# On affiche la liste des clients pour vérifier que le client Bassam a été enrigistrer correctement\n",
    "print(\"Liste des clients :\")\n",
    "print(clients)\n",
    "\n",
    "# On affiche le nombre de clients masculin et féminin dans la liste ainsi que le nouveau solde total des clients\n",
    "print(get_nb_genders(clients))\n",
    "print(\"Le solde total des clients est {} €.\".format(get_solde_total(clients)))"
   ]
  },
  {
   "cell_type": "markdown",
   "metadata": {},
   "source": [
    "# Bonus : Factorielle récurrente"
   ]
  },
  {
   "cell_type": "code",
   "execution_count": 41,
   "metadata": {},
   "outputs": [
    {
     "name": "stdout",
     "output_type": "stream",
     "text": [
      "La factorielle de 6 est 720\n"
     ]
    }
   ],
   "source": [
    "# Fonction récurente qui permet d'obtenir la factorielle d'un nombre n donné comme argument\n",
    "def factorielle_recurrente(n):\n",
    "    if n == 1:\n",
    "        return n\n",
    "    else:\n",
    "        return n * factorielle_recurrente(n - 1)\n",
    "    \n",
    "# Test de la factorielle récurente\n",
    "# On demande à l'utilisateur de saisir un entier positif\n",
    "test_val = int(input(\"Saissisez un nombre entier positif\"))\n",
    "\n",
    "# Tant que la valeur de l'utilisateur est négative on lui demande de saisir un nouvel entier positif à factoriser\n",
    "while test_val <= 0:\n",
    "    test_val = int(input(\"Saissisez un nombre entier positif\"))\n",
    "    \n",
    "# On affiche le résultat du calcul de la factorielle\n",
    "print(\"La factorielle de {} est\".format(test_val), factorielle_recurrente(test_val))  \n",
    "    "
   ]
  }
 ],
 "metadata": {
  "kernelspec": {
   "display_name": "Python 3.9.13 ('base')",
   "language": "python",
   "name": "python3"
  },
  "language_info": {
   "codemirror_mode": {
    "name": "ipython",
    "version": 3
   },
   "file_extension": ".py",
   "mimetype": "text/x-python",
   "name": "python",
   "nbconvert_exporter": "python",
   "pygments_lexer": "ipython3",
   "version": "3.9.13"
  },
  "orig_nbformat": 4,
  "vscode": {
   "interpreter": {
    "hash": "700029e5f9c8992c55d37e3a404b0b432c68d401a3c06e21a848c27e97636ef3"
   }
  }
 },
 "nbformat": 4,
 "nbformat_minor": 2
}
