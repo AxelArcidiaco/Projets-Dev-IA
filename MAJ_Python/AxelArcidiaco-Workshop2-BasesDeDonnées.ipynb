{
 "cells": [
  {
   "cell_type": "markdown",
   "metadata": {},
   "source": [
    "# Step 1 : Création du dictionnaire vide client1"
   ]
  },
  {
   "cell_type": "code",
   "execution_count": null,
   "metadata": {},
   "outputs": [],
   "source": [
    "client1 = {}"
   ]
  },
  {
   "cell_type": "markdown",
   "metadata": {},
   "source": [
    "# Step 2 : Récupération des données du client1 via une boucle"
   ]
  },
  {
   "cell_type": "code",
   "execution_count": 11,
   "metadata": {},
   "outputs": [
    {
     "name": "stdout",
     "output_type": "stream",
     "text": [
      "{'Nom': 'ARCIDIACO', 'Prénom': 'Axel', 'Sexe': 'M', 'Solde': '3000'}\n"
     ]
    }
   ],
   "source": [
    "# Fonction qui permet de créer un nouveau dictionnaire de données client\n",
    "def create_client():\n",
    "    # Liste de clés correspondant aux divers attributs client attendu (Nom, Prénom, Sexe, Solde)\n",
    "    keys = [\"Nom\", \"Prénom\", \"Sexe\", \"Solde\"]\n",
    "    # Liste qui contient les attributs client du client1\n",
    "    values = []\n",
    "    # Boucle for qui permet de récupérer via des inputs les 4 attributs client attendu\n",
    "    for i in keys:\n",
    "        values.append(input(\"Saississer le {} du client\".format(i)))\n",
    "    # On crée le dictionnaire client à partir des listes keys et values\n",
    "    client = {keys[i] : values[i] for i in range(len(keys))}\n",
    "    # On renvoie le dictionnaire client ainsi créé\n",
    "    return client\n",
    "\n",
    "print(create_client())"
   ]
  },
  {
   "cell_type": "markdown",
   "metadata": {},
   "source": [
    "# Step 3 & 4 : Création d'une liste de 12 dictionnaires client avec les même clés et remplissage de celle-ci via des inputs"
   ]
  },
  {
   "cell_type": "code",
   "execution_count": 12,
   "metadata": {},
   "outputs": [
    {
     "name": "stdout",
     "output_type": "stream",
     "text": [
      "[{'Nom': 'ARCIDIACO', 'Prénom': 'Axel', 'Sexe': 'M', 'Solde': '3000'}, {'Nom': 'BAKOUZOU', 'Prénom': 'Briand', 'Sexe': 'M', 'Solde': '2000'}, {'Nom': 'BOUCHONNET', 'Prénom': 'Aude', 'Sexe': 'F', 'Solde': '1500'}, {'Nom': 'DAOU', 'Prénom': 'Seydou', 'Sexe': 'M', 'Solde': '4500'}, {'Nom': 'EDSA EDANNANG', 'Prénom': 'Solenn', 'Sexe': 'F', 'Solde': '5000'}, {'Nom': 'GAIDOT', 'Prénom': 'Adeline', 'Sexe': 'F', 'Solde': '3500'}, {'Nom': 'JACQUENET', 'Prénom': 'Adrien', 'Sexe': 'M', 'Solde': '2500'}, {'Nom': 'PANEL', 'Prénom': 'Loïc', 'Sexe': 'M', 'Solde': '4000'}, {'Nom': 'PERCIOT', 'Prénom': 'Nicolas', 'Sexe': 'M', 'Solde': '1000'}, {'Nom': 'SOSSAH', 'Prénom': 'Jean-Paul', 'Sexe': 'M', 'Solde': '3000'}, {'Nom': 'TARASENKO', 'Prénom': 'Tetyana', 'Sexe': 'F', 'Solde': '2500'}, {'Nom': 'WAGNER', 'Prénom': 'Etienne', 'Sexe': 'M', 'Solde': '4500'}]\n"
     ]
    }
   ],
   "source": [
    "# Liste qui contient un dictionnaire de données pour chaque clients\n",
    "clients = []\n",
    "\n",
    "# On utilise une boucle for pour remplir la liste clients avec les 12 dictionnaires client\n",
    "for i in range(12):\n",
    "    clients.append(create_client())\n",
    "\n",
    "# On affiche la liste clients qui contient 12 dictionnaires client    \n",
    "print(clients)"
   ]
  },
  {
   "cell_type": "markdown",
   "metadata": {},
   "source": [
    "# Bonus : Factorielle récurrente"
   ]
  },
  {
   "cell_type": "code",
   "execution_count": 2,
   "metadata": {},
   "outputs": [
    {
     "name": "stdout",
     "output_type": "stream",
     "text": [
      "La factorielle de 6 est  720\n"
     ]
    }
   ],
   "source": [
    "# Fonction récurente qui permet d'obtenir la factorielle d'un nombre n donné comme argument\n",
    "def factorielle_recurrente(n):\n",
    "    if n == 1:\n",
    "        return n\n",
    "    else:\n",
    "        return n * factorielle_recurrente(n - 1)\n",
    "    \n",
    "# Test de la factorielle récurente\n",
    "# On demande à l'utilisateur de saisir un entier positif\n",
    "test_val = int(input(\"Saissisez un nombre entier positif\"))\n",
    "# Tant que la valeur de l'utilisateur est négative on demande\n",
    "while test_val <= 0:\n",
    "    test_val = int(input(\"Saissisez un nombre entier positif\"))\n",
    "print(\"La factorielle de {} est\".format(test_val), factorielle_recurrente(test_val))"
   ]
  }
 ],
 "metadata": {
  "kernelspec": {
   "display_name": "Python 3.9.13 ('base')",
   "language": "python",
   "name": "python3"
  },
  "language_info": {
   "codemirror_mode": {
    "name": "ipython",
    "version": 3
   },
   "file_extension": ".py",
   "mimetype": "text/x-python",
   "name": "python",
   "nbconvert_exporter": "python",
   "pygments_lexer": "ipython3",
   "version": "3.9.13"
  },
  "orig_nbformat": 4,
  "vscode": {
   "interpreter": {
    "hash": "700029e5f9c8992c55d37e3a404b0b432c68d401a3c06e21a848c27e97636ef3"
   }
  }
 },
 "nbformat": 4,
 "nbformat_minor": 2
}
