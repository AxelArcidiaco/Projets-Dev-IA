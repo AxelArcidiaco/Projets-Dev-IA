{
 "cells": [
  {
   "cell_type": "code",
   "execution_count": 25,
   "metadata": {},
   "outputs": [],
   "source": [
    "# Fichier Python pour les exercices de la ressource de la Story: \"Initiation au Python - Les types et les variables\" : Cours de Python en pdf\n",
    "# Lien du cours : https://python.sdv.univ-paris-diderot.fr/cours-python.pdf\n"
   ]
  },
  {
   "cell_type": "code",
   "execution_count": 26,
   "metadata": {},
   "outputs": [
    {
     "name": "stdout",
     "output_type": "stream",
     "text": [
      "736 343 724 1285 2187\n"
     ]
    }
   ],
   "source": [
    "# Exercice 1 -  Nombres de Friedman\n",
    "'''\n",
    "Les nombre de Friedman sont des nombres qui peuvent s'exprimer avec tous leurs chiffres dans une expression mathématique.\n",
    "Par exemple, 347 est un nombre de Friedman car il peut s'écrire sous la forme de 4 + 7^3. De même 127 peut s'écrire sous la forme 2^7 - 1.\n",
    "Determinez si les expressions suivantes correspondent à des nombres de friedman.\n",
    "Pour cela, vous les écrirez en Python puis exécuterez le code correspondant.\n",
    "- 7+3^6\n",
    "- (3+4)^3\n",
    "- 3^6 - 5\n",
    "- (1+2^8)*5\n",
    "- (2+1^8)^7'''\n",
    "\n",
    "e1 = 7 + pow(3, 6)\n",
    "e2 = pow((3+4), 3)\n",
    "e3 = pow(3, 6) - 5\n",
    "e4 = (1 + pow(2, 8)) * 5\n",
    "e5 = pow(2 + pow(1, 8), 7)\n",
    "\n",
    "print(e1, e2, e3, e4, e5)"
   ]
  },
  {
   "cell_type": "code",
   "execution_count": 27,
   "metadata": {},
   "outputs": [
    {
     "name": "stdout",
     "output_type": "stream",
     "text": [
      "27\n",
      "DaDaDaDa\n",
      "PaLaPaLa\n",
      "2.5\n",
      "2\n",
      "1\n"
     ]
    }
   ],
   "source": [
    "#Exercice 2 - Prédire le résultat : opérations\n",
    "''' Essayez de prédire le résultat de chacune des instructions suivantes, puis vérifiez-le dans l’interpréteur Python :\n",
    "— (1+2)**3\n",
    "— \"Da\" * 4\n",
    "— \"Da\" + 3\n",
    "— (\"Pa\"+\"La\") * 2\n",
    "— (\"Da\"*4) / 2\n",
    "— 5 / 2\n",
    "— 5 // 2\n",
    "— 5 % 2 '''\n",
    "\n",
    "# On va obtenir 27 car 1+2=3 et 3**3 c'est équivalent 3 puissance 3\n",
    "i1 = (1+2)**3\n",
    "print(i1)\n",
    "\n",
    "# On va obtenir une novelle chaîne de caractère qui va être constitué de 4 répition du contenu de la chaîne de caractère \"Da\"\n",
    "i2 = \"Da\" * 4\n",
    "print(i2)\n",
    "\n",
    "# On va obtenir une exception car on essaye de concaténer une chaîne de caractère avec un entier.\n",
    "# Pour tester l'expression retirer les ''' autour des 2 instructions ci-dessous.\n",
    "'''\n",
    "i3 = \"Da\" + 3\n",
    "print(i3)\n",
    "'''\n",
    "\n",
    "# On va obtenir une chaîne de caractère avec comme contenu deux fois le contenu de la chaîne résultant de \n",
    "# la concaténation des chaîne de caractères \"Pa\" & \"La\"\n",
    "i4 = (\"Pa\"+\"La\") * 2\n",
    "print(i4)\n",
    "\n",
    "# On va obtenir une exception car on ne peut pas divisé une chaîne de caractère avec un entier.\n",
    "# Pour tester l'expression retirer les ''' autour des 2 instructions ci-dessous.\n",
    "'''\n",
    "i5 = (\"Da\"*4) / 2\n",
    "print(i5)\n",
    "'''\n",
    "\n",
    "# on va obtenir 2.5\n",
    "i6 = 5 / 2 \n",
    "print(i6)\n",
    "\n",
    "# On va obtenir 2, le résultat entier de la division entière de 5 par 2\n",
    "i7 = 5 // 2\n",
    "print(i7)\n",
    "\n",
    "# On va obtenir 1, le reste entier de la division entière de 5 par 2\n",
    "i8 = 5 % 2\n",
    "print(i8)"
   ]
  },
  {
   "cell_type": "code",
   "execution_count": 28,
   "metadata": {},
   "outputs": [
    {
     "name": "stdout",
     "output_type": "stream",
     "text": [
      "444\n",
      "6.2\n",
      "0.750.75\n"
     ]
    }
   ],
   "source": [
    "#Excercice 3 - Prédire le résultat : opérations et conversions de types\n",
    "'''\n",
    "Essayez de prédire le résultat de chacune des instructions suivantes, puis vérifiez-le dans l’interpréteur Python :\n",
    "— str(4) * int(\"3\")\n",
    "— int(\"3\") + float(\"3.2\")\n",
    "— str(3) * float(\"3.2\")\n",
    "— str(3/4) * 2\n",
    "'''\n",
    "\n",
    "# str(4) * int(\"3\") va nous donner la chaîne de caractères \"444\"\n",
    "i1 = str(4) * int(\"3\")\n",
    "print(i1)\n",
    "\n",
    "# int(\"3\") + float(\"3.2\") va nous donner le nombre à virgule (variable de type float) 6.2\n",
    "i2 = int(\"3\") + float(\"3.2\")\n",
    "print(i2)\n",
    "\n",
    "# str(3) + float(\"3.2\") va nous donner une erreur car on essaye de concaténer une chaîne de caractères avec un float. \n",
    "# Pour tester l'expression retirer les ''' autour des 2 instructions ci-dessous.\n",
    "'''\n",
    "i3 = str(3) + float(\"3.2\")\n",
    "print(i3)\n",
    "'''\n",
    "\n",
    "# str(3/4) * 2 va nous donner une chaîne de caractères composé de 2 fois la chaîne contenant le résultat de la division de par 4\n",
    "# qui est 0.75 donc \"0.750.75\"\n",
    "i4 = str(3/4) * 2\n",
    "print(i4)"
   ]
  }
 ],
 "metadata": {
  "kernelspec": {
   "display_name": "Python 3 (ipykernel)",
   "language": "python",
   "name": "python3"
  },
  "language_info": {
   "codemirror_mode": {
    "name": "ipython",
    "version": 3
   },
   "file_extension": ".py",
   "mimetype": "text/x-python",
   "name": "python",
   "nbconvert_exporter": "python",
   "pygments_lexer": "ipython3",
   "version": "3.9.13"
  },
  "vscode": {
   "interpreter": {
    "hash": "700029e5f9c8992c55d37e3a404b0b432c68d401a3c06e21a848c27e97636ef3"
   }
  }
 },
 "nbformat": 4,
 "nbformat_minor": 2
}
