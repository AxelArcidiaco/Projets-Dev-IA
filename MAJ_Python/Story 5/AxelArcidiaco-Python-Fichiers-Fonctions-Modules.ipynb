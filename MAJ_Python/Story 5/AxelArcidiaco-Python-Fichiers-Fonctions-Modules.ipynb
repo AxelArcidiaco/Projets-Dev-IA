{
 "cells": [
  {
   "cell_type": "markdown",
   "metadata": {},
   "source": [
    "## Python : Fichiers - Fonctions - Modules\n",
    "Axel Arcidiaco"
   ]
  },
  {
   "cell_type": "markdown",
   "metadata": {},
   "source": [
    "# 1) Fonctions built-in"
   ]
  },
  {
   "cell_type": "markdown",
   "metadata": {},
   "source": [
    "a) Fonctions de bases"
   ]
  },
  {
   "cell_type": "code",
   "execution_count": 2,
   "metadata": {},
   "outputs": [
    {
     "name": "stdout",
     "output_type": "stream",
     "text": [
      "L'absolue de -3 est 3\n",
      "L'arondie de 3.14 est 3 \n",
      "\n",
      "liste1 = [3, 9, 27, 13, 5, 0]\n",
      "max(liste1) = 27\n",
      "min(liste1) = 0\n",
      "sum(liste1) = 57 \n",
      "\n",
      "liste2 = [True, False, True]\n",
      "all(liste2) = False\n",
      "any(liste2) = True \n",
      "\n",
      "liste1 = [3, 9, 27, 13, 5, 0]\n",
      "All = False\n",
      "Any = True\n"
     ]
    }
   ],
   "source": [
    "x = -3 # un entier négatif\n",
    "y = 3.14 # un float\n",
    "liste1 = [3, 9, 27, 13, 5, 0] # Une liste de nombres\n",
    "liste2 = [True, False, True] # Une liste de booléens\n",
    "\n",
    "# Tests des fonctions built-in abs() & round() sur x & y\n",
    "print(\"L'absolue de {} est {}\".format(x, abs(x)))\n",
    "print(\"L'arondie de {} est {}\".format(y, round(y)),\"\\n\")\n",
    "\n",
    "# Tests des fonctions built-in max(), min(), sum() sur liste1\n",
    "print(\"liste1 =\", liste1)\n",
    "print(\"max(liste1) =\", max(liste1))\n",
    "print(\"min(liste1) =\", min(liste1))\n",
    "print(\"sum(liste1) =\", sum(liste1), \"\\n\")\n",
    "\n",
    "# Tests des fonctions built-in all() & any() sur liste2 & 1\n",
    "print(\"liste2 =\", liste2)\n",
    "print(\"all(liste2) =\", all(liste2)) # Affiche True uniquement si tous les éléments de liste2 sont égal à True\n",
    "print(\"any(liste2) =\", any(liste2), \"\\n\") # Affiche True si au moins un élément de liste2 est égal à True\n",
    "print(\"liste1 =\", liste1)\n",
    "print(\"All =\", all(liste1)) # Affiche True uniquement si tous les éléments de liste1 sont différent de 0\n",
    "print(\"Any =\", any(liste1)) # Affiche True si au moins un élément de liste1 est différent de 0"
   ]
  },
  {
   "cell_type": "markdown",
   "metadata": {},
   "source": [
    "b) Conversion de type"
   ]
  },
  {
   "cell_type": "code",
   "execution_count": 3,
   "metadata": {},
   "outputs": [
    {
     "name": "stdout",
     "output_type": "stream",
     "text": [
      "13 int(s) = 13 float(s) = 13.0\n",
      "27 str(n) = 27 float(n) = 27.0\n",
      "3.14 str(f) = 3.14 int(f) = 3\n"
     ]
    }
   ],
   "source": [
    "s = \"13\" # Une string\n",
    "n = 27 # Un int\n",
    "f = 3.14 # Un float\n",
    "\n",
    "# Conversion\n",
    "print(s, \"int(s) =\", int(s), \"float(s) =\", float(s))\n",
    "print(n, \"str(n) =\", str(n), \"float(n) =\", float(n))\n",
    "print(f, \"str(f) =\", str(f), \"int(f) =\", int(f))"
   ]
  },
  {
   "cell_type": "markdown",
   "metadata": {},
   "source": [
    "c) Conversion de structure de données"
   ]
  },
  {
   "cell_type": "code",
   "execution_count": 4,
   "metadata": {},
   "outputs": [
    {
     "name": "stdout",
     "output_type": "stream",
     "text": [
      "(3, 9, 27, 13, 5, 0)\n",
      "[3, 9, 27, 13, 5, 0]\n",
      "['Cat', 'Bird', 'Bubble Fish']\n"
     ]
    }
   ],
   "source": [
    "liste3 = [\"Chat\", \"Chien\", \"Oiseau\", \"Poison Rouge\"]\n",
    "\n",
    "# Conversion liste3 en tuples\n",
    "tuple1 = tuple(liste1)\n",
    "print(tuple1)\n",
    "\n",
    "# Conversion tuple1 en list\n",
    "print(list(tuple1))\n",
    "\n",
    "# Conversion d'un dictionnaire en list\n",
    "dico = {\"Cat\":\"Chat\", \"Bird\":\"Oiseau\", \"Bubble Fish\":\"Poison Rouge\"}\n",
    "liste4 = list(dico.keys())\n",
    "print(liste4)"
   ]
  },
  {
   "cell_type": "markdown",
   "metadata": {},
   "source": [
    "# 2) Importation de modules"
   ]
  },
  {
   "cell_type": "code",
   "execution_count": 4,
   "metadata": {},
   "outputs": [
    {
     "name": "stdout",
     "output_type": "stream",
     "text": [
      "Valeur de pi = 3.141592653589793\n",
      "Sinus de pi = 1.2246467991473532e-16\n",
      "Cosinus de pi = -1.0\n",
      "Nombre aléatoire entre 0 et 100 : 64\n",
      "Nombre aléatoire de la liste [3, 9, 27, 13, 5, 0, 3.141592653589793] : 5\n",
      "Valeurs de liste1 : [3, 9, 27, 13, 5, 0, 3.141592653589793]\n",
      "Moyenne de liste1 : 8.59165609336997\n",
      "Variance de liste1 : 84.35895390231666\n"
     ]
    }
   ],
   "source": [
    "import random # Importation du module random qui permet de faire des aléatoires\n",
    "import math # Importation du module math qui permet d'utiliser des fonctions des calcul mathématique avancé comme sin() ou cos()\n",
    "import statistics # Importation du module statistics qui permet de faire des statistiques\n",
    "\n",
    "liste5 = [3, 9, 27, 13, 5, 0, math.pi] # Une liste de nombres\n",
    "\n",
    "# math\n",
    "# Affichage du nombre pi\n",
    "print(\"Valeur de pi = {}\".format(math.pi))\n",
    "# Sinus et Cosinus de pi\n",
    "print(\"Sinus de pi = {}\".format(math.sin(math.pi)))\n",
    "print(\"Cosinus de pi = {}\".format(math.cos(math.pi)))\n",
    "\n",
    "# random\n",
    "# Affichage d'un nombre aléatoire entre 0 et 100\n",
    "print(\"Nombre aléatoire entre 0 et 100 : {}\".format(random.randint(0, 100)))\n",
    "# Affichage d'un nombre aléatoire dans une liste\n",
    "print(\"Nombre aléatoire de la liste {} : {}\".format(liste5, random.choice(liste5)))\n",
    "\n",
    "# statistics\n",
    "# Affichage de la moyenne et de la variance des valeurs d'une liste avec le module statistics\n",
    "print(\"Valeurs de liste1 : {}\".format(liste5))\n",
    "print(\"Moyenne de liste1 : {}\".format(statistics.mean(liste5)))\n",
    "print(\"Variance de liste1 : {}\".format(statistics.variance(liste5)))"
   ]
  },
  {
   "cell_type": "markdown",
   "metadata": {},
   "source": [
    "# 3) Ecriture et lecture fichiers .txt"
   ]
  },
  {
   "cell_type": "code",
   "execution_count": 9,
   "metadata": {},
   "outputs": [
    {
     "name": "stdout",
     "output_type": "stream",
     "text": [
      "Axel, Nicolas, Solenn, Tetyana\n",
      "Dijon, Auxerre, Renne, Belfort\n"
     ]
    }
   ],
   "source": [
    "# importation\n",
    "import glob\n",
    "\n",
    "# Ecriture de fichiers textes\n",
    "filenames = [\"villes.txt\", \"prénom.txt\"]\n",
    "for file in filenames:\n",
    "    # Ouverture de nouveau fichiers .txt /!\\ l'instructions 'w' (write) écrase tous contenu déjà présent dans les fichiers s'ils existent déjà\n",
    "    with open(file, 'w') as f:\n",
    "        if (file == \"villes.txt\"):\n",
    "            f.write(\"Dijon, Auxerre, Renne, Belfort\")\n",
    "        else:\n",
    "            f.write(\"Axel, Nicolas, Solenn, Tetyana\")\n",
    "        f.close()\n",
    "\n",
    "# Lecture de fichiers textes\n",
    "filenames = glob.glob(\"*.txt\") # récupération des noms des fichiers .txt\n",
    "for file in filenames:\n",
    "    with open(file, 'r') as f: # ouverture des fichiers\n",
    "        print(f.read()) # lecture du contenu des fichiers"
   ]
  },
  {
   "cell_type": "markdown",
   "metadata": {},
   "source": [
    "# 4) Tests sur la librairie Pandas et les DataFrames"
   ]
  },
  {
   "cell_type": "code",
   "execution_count": 12,
   "metadata": {},
   "outputs": [
    {
     "name": "stdout",
     "output_type": "stream",
     "text": [
      "(1309, 14)\n"
     ]
    },
    {
     "data": {
      "text/html": [
       "<div>\n",
       "<style scoped>\n",
       "    .dataframe tbody tr th:only-of-type {\n",
       "        vertical-align: middle;\n",
       "    }\n",
       "\n",
       "    .dataframe tbody tr th {\n",
       "        vertical-align: top;\n",
       "    }\n",
       "\n",
       "    .dataframe thead th {\n",
       "        text-align: right;\n",
       "    }\n",
       "</style>\n",
       "<table border=\"1\" class=\"dataframe\">\n",
       "  <thead>\n",
       "    <tr style=\"text-align: right;\">\n",
       "      <th></th>\n",
       "      <th>pclass</th>\n",
       "      <th>survived</th>\n",
       "      <th>name</th>\n",
       "      <th>sex</th>\n",
       "      <th>age</th>\n",
       "      <th>sibsp</th>\n",
       "      <th>parch</th>\n",
       "      <th>ticket</th>\n",
       "      <th>fare</th>\n",
       "      <th>cabin</th>\n",
       "      <th>embarked</th>\n",
       "      <th>boat</th>\n",
       "      <th>body</th>\n",
       "      <th>home.dest</th>\n",
       "    </tr>\n",
       "  </thead>\n",
       "  <tbody>\n",
       "    <tr>\n",
       "      <th>0</th>\n",
       "      <td>1</td>\n",
       "      <td>1</td>\n",
       "      <td>Allen, Miss. Elisabeth Walton</td>\n",
       "      <td>female</td>\n",
       "      <td>29.0000</td>\n",
       "      <td>0</td>\n",
       "      <td>0</td>\n",
       "      <td>24160</td>\n",
       "      <td>211.3375</td>\n",
       "      <td>B5</td>\n",
       "      <td>S</td>\n",
       "      <td>2</td>\n",
       "      <td>NaN</td>\n",
       "      <td>St Louis, MO</td>\n",
       "    </tr>\n",
       "    <tr>\n",
       "      <th>1</th>\n",
       "      <td>1</td>\n",
       "      <td>1</td>\n",
       "      <td>Allison, Master. Hudson Trevor</td>\n",
       "      <td>male</td>\n",
       "      <td>0.9167</td>\n",
       "      <td>1</td>\n",
       "      <td>2</td>\n",
       "      <td>113781</td>\n",
       "      <td>151.5500</td>\n",
       "      <td>C22 C26</td>\n",
       "      <td>S</td>\n",
       "      <td>11</td>\n",
       "      <td>NaN</td>\n",
       "      <td>Montreal, PQ / Chesterville, ON</td>\n",
       "    </tr>\n",
       "    <tr>\n",
       "      <th>2</th>\n",
       "      <td>1</td>\n",
       "      <td>0</td>\n",
       "      <td>Allison, Miss. Helen Loraine</td>\n",
       "      <td>female</td>\n",
       "      <td>2.0000</td>\n",
       "      <td>1</td>\n",
       "      <td>2</td>\n",
       "      <td>113781</td>\n",
       "      <td>151.5500</td>\n",
       "      <td>C22 C26</td>\n",
       "      <td>S</td>\n",
       "      <td>NaN</td>\n",
       "      <td>NaN</td>\n",
       "      <td>Montreal, PQ / Chesterville, ON</td>\n",
       "    </tr>\n",
       "    <tr>\n",
       "      <th>3</th>\n",
       "      <td>1</td>\n",
       "      <td>0</td>\n",
       "      <td>Allison, Mr. Hudson Joshua Creighton</td>\n",
       "      <td>male</td>\n",
       "      <td>30.0000</td>\n",
       "      <td>1</td>\n",
       "      <td>2</td>\n",
       "      <td>113781</td>\n",
       "      <td>151.5500</td>\n",
       "      <td>C22 C26</td>\n",
       "      <td>S</td>\n",
       "      <td>NaN</td>\n",
       "      <td>135.0</td>\n",
       "      <td>Montreal, PQ / Chesterville, ON</td>\n",
       "    </tr>\n",
       "    <tr>\n",
       "      <th>4</th>\n",
       "      <td>1</td>\n",
       "      <td>0</td>\n",
       "      <td>Allison, Mrs. Hudson J C (Bessie Waldo Daniels)</td>\n",
       "      <td>female</td>\n",
       "      <td>25.0000</td>\n",
       "      <td>1</td>\n",
       "      <td>2</td>\n",
       "      <td>113781</td>\n",
       "      <td>151.5500</td>\n",
       "      <td>C22 C26</td>\n",
       "      <td>S</td>\n",
       "      <td>NaN</td>\n",
       "      <td>NaN</td>\n",
       "      <td>Montreal, PQ / Chesterville, ON</td>\n",
       "    </tr>\n",
       "  </tbody>\n",
       "</table>\n",
       "</div>"
      ],
      "text/plain": [
       "   pclass  survived                                             name     sex  \\\n",
       "0       1         1                    Allen, Miss. Elisabeth Walton  female   \n",
       "1       1         1                   Allison, Master. Hudson Trevor    male   \n",
       "2       1         0                     Allison, Miss. Helen Loraine  female   \n",
       "3       1         0             Allison, Mr. Hudson Joshua Creighton    male   \n",
       "4       1         0  Allison, Mrs. Hudson J C (Bessie Waldo Daniels)  female   \n",
       "\n",
       "       age  sibsp  parch  ticket      fare    cabin embarked boat   body  \\\n",
       "0  29.0000      0      0   24160  211.3375       B5        S    2    NaN   \n",
       "1   0.9167      1      2  113781  151.5500  C22 C26        S   11    NaN   \n",
       "2   2.0000      1      2  113781  151.5500  C22 C26        S  NaN    NaN   \n",
       "3  30.0000      1      2  113781  151.5500  C22 C26        S  NaN  135.0   \n",
       "4  25.0000      1      2  113781  151.5500  C22 C26        S  NaN    NaN   \n",
       "\n",
       "                         home.dest  \n",
       "0                     St Louis, MO  \n",
       "1  Montreal, PQ / Chesterville, ON  \n",
       "2  Montreal, PQ / Chesterville, ON  \n",
       "3  Montreal, PQ / Chesterville, ON  \n",
       "4  Montreal, PQ / Chesterville, ON  "
      ]
     },
     "execution_count": 12,
     "metadata": {},
     "output_type": "execute_result"
    }
   ],
   "source": [
    "# Importation\n",
    "import pandas as pd\n",
    "\n",
    "# Test de lecture d'un fichier xls et d'affichage de ses premières lignes\n",
    "data = pd.read_excel('titanic.xls') # lie les données du fichier titanic.xls et les sauvegardent dans la variable data\n",
    "print(data.shape) # Vérification de la taille du DataFrame data (format = ligne, colonnes)\n",
    "data.head() # Affiche les premières lignes du fichier titanic.xls"
   ]
  },
  {
   "cell_type": "code",
   "execution_count": 15,
   "metadata": {},
   "outputs": [
    {
     "data": {
      "text/html": [
       "<div>\n",
       "<style scoped>\n",
       "    .dataframe tbody tr th:only-of-type {\n",
       "        vertical-align: middle;\n",
       "    }\n",
       "\n",
       "    .dataframe tbody tr th {\n",
       "        vertical-align: top;\n",
       "    }\n",
       "\n",
       "    .dataframe thead th {\n",
       "        text-align: right;\n",
       "    }\n",
       "</style>\n",
       "<table border=\"1\" class=\"dataframe\">\n",
       "  <thead>\n",
       "    <tr style=\"text-align: right;\">\n",
       "      <th></th>\n",
       "      <th>pclass</th>\n",
       "      <th>survived</th>\n",
       "      <th>sex</th>\n",
       "      <th>age</th>\n",
       "    </tr>\n",
       "  </thead>\n",
       "  <tbody>\n",
       "    <tr>\n",
       "      <th>0</th>\n",
       "      <td>1</td>\n",
       "      <td>1</td>\n",
       "      <td>female</td>\n",
       "      <td>29.0000</td>\n",
       "    </tr>\n",
       "    <tr>\n",
       "      <th>1</th>\n",
       "      <td>1</td>\n",
       "      <td>1</td>\n",
       "      <td>male</td>\n",
       "      <td>0.9167</td>\n",
       "    </tr>\n",
       "    <tr>\n",
       "      <th>2</th>\n",
       "      <td>1</td>\n",
       "      <td>0</td>\n",
       "      <td>female</td>\n",
       "      <td>2.0000</td>\n",
       "    </tr>\n",
       "    <tr>\n",
       "      <th>3</th>\n",
       "      <td>1</td>\n",
       "      <td>0</td>\n",
       "      <td>male</td>\n",
       "      <td>30.0000</td>\n",
       "    </tr>\n",
       "    <tr>\n",
       "      <th>4</th>\n",
       "      <td>1</td>\n",
       "      <td>0</td>\n",
       "      <td>female</td>\n",
       "      <td>25.0000</td>\n",
       "    </tr>\n",
       "  </tbody>\n",
       "</table>\n",
       "</div>"
      ],
      "text/plain": [
       "   pclass  survived     sex      age\n",
       "0       1         1  female  29.0000\n",
       "1       1         1    male   0.9167\n",
       "2       1         0  female   2.0000\n",
       "3       1         0    male  30.0000\n",
       "4       1         0  female  25.0000"
      ]
     },
     "execution_count": 15,
     "metadata": {},
     "output_type": "execute_result"
    }
   ],
   "source": [
    "# On enlève de data certaines colonnes pour ne garder que celles de la classe, du sexe, de  des passagers\n",
    "data = data.drop([\"name\", \"sibsp\", \"parch\", \"ticket\", \"fare\", \"cabin\", \"embarked\", \"boat\", \"body\", \"home.dest\"], axis = 1)\n",
    "# NTS : axis = 1 => colonnes / axis = 0 => lignes\n",
    "# On affiche le début de notre nouveau tableau\n",
    "data.head()"
   ]
  },
  {
   "cell_type": "code",
   "execution_count": 16,
   "metadata": {},
   "outputs": [
    {
     "data": {
      "text/html": [
       "<div>\n",
       "<style scoped>\n",
       "    .dataframe tbody tr th:only-of-type {\n",
       "        vertical-align: middle;\n",
       "    }\n",
       "\n",
       "    .dataframe tbody tr th {\n",
       "        vertical-align: top;\n",
       "    }\n",
       "\n",
       "    .dataframe thead th {\n",
       "        text-align: right;\n",
       "    }\n",
       "</style>\n",
       "<table border=\"1\" class=\"dataframe\">\n",
       "  <thead>\n",
       "    <tr style=\"text-align: right;\">\n",
       "      <th></th>\n",
       "      <th>pclass</th>\n",
       "      <th>survived</th>\n",
       "      <th>age</th>\n",
       "    </tr>\n",
       "  </thead>\n",
       "  <tbody>\n",
       "    <tr>\n",
       "      <th>count</th>\n",
       "      <td>1309.000000</td>\n",
       "      <td>1309.000000</td>\n",
       "      <td>1046.000000</td>\n",
       "    </tr>\n",
       "    <tr>\n",
       "      <th>mean</th>\n",
       "      <td>2.294882</td>\n",
       "      <td>0.381971</td>\n",
       "      <td>29.881135</td>\n",
       "    </tr>\n",
       "    <tr>\n",
       "      <th>std</th>\n",
       "      <td>0.837836</td>\n",
       "      <td>0.486055</td>\n",
       "      <td>14.413500</td>\n",
       "    </tr>\n",
       "    <tr>\n",
       "      <th>min</th>\n",
       "      <td>1.000000</td>\n",
       "      <td>0.000000</td>\n",
       "      <td>0.166700</td>\n",
       "    </tr>\n",
       "    <tr>\n",
       "      <th>25%</th>\n",
       "      <td>2.000000</td>\n",
       "      <td>0.000000</td>\n",
       "      <td>21.000000</td>\n",
       "    </tr>\n",
       "    <tr>\n",
       "      <th>50%</th>\n",
       "      <td>3.000000</td>\n",
       "      <td>0.000000</td>\n",
       "      <td>28.000000</td>\n",
       "    </tr>\n",
       "    <tr>\n",
       "      <th>75%</th>\n",
       "      <td>3.000000</td>\n",
       "      <td>1.000000</td>\n",
       "      <td>39.000000</td>\n",
       "    </tr>\n",
       "    <tr>\n",
       "      <th>max</th>\n",
       "      <td>3.000000</td>\n",
       "      <td>1.000000</td>\n",
       "      <td>80.000000</td>\n",
       "    </tr>\n",
       "  </tbody>\n",
       "</table>\n",
       "</div>"
      ],
      "text/plain": [
       "            pclass     survived          age\n",
       "count  1309.000000  1309.000000  1046.000000\n",
       "mean      2.294882     0.381971    29.881135\n",
       "std       0.837836     0.486055    14.413500\n",
       "min       1.000000     0.000000     0.166700\n",
       "25%       2.000000     0.000000    21.000000\n",
       "50%       3.000000     0.000000    28.000000\n",
       "75%       3.000000     1.000000    39.000000\n",
       "max       3.000000     1.000000    80.000000"
      ]
     },
     "execution_count": 16,
     "metadata": {},
     "output_type": "execute_result"
    }
   ],
   "source": [
    "# Test de describe() qui affiche les divers statiques (total, moyenne, min, max, etc...) des colonnes de notre dataframe.\n",
    "data.describe()"
   ]
  },
  {
   "cell_type": "code",
   "execution_count": 23,
   "metadata": {},
   "outputs": [
    {
     "name": "stdout",
     "output_type": "stream",
     "text": [
      "(1046, 4) les dimensions de data ont changées.\n",
      "Les statistique de data ont donc changées :\n"
     ]
    },
    {
     "data": {
      "text/html": [
       "<div>\n",
       "<style scoped>\n",
       "    .dataframe tbody tr th:only-of-type {\n",
       "        vertical-align: middle;\n",
       "    }\n",
       "\n",
       "    .dataframe tbody tr th {\n",
       "        vertical-align: top;\n",
       "    }\n",
       "\n",
       "    .dataframe thead th {\n",
       "        text-align: right;\n",
       "    }\n",
       "</style>\n",
       "<table border=\"1\" class=\"dataframe\">\n",
       "  <thead>\n",
       "    <tr style=\"text-align: right;\">\n",
       "      <th></th>\n",
       "      <th>pclass</th>\n",
       "      <th>survived</th>\n",
       "      <th>age</th>\n",
       "    </tr>\n",
       "  </thead>\n",
       "  <tbody>\n",
       "    <tr>\n",
       "      <th>count</th>\n",
       "      <td>1046.000000</td>\n",
       "      <td>1046.000000</td>\n",
       "      <td>1046.000000</td>\n",
       "    </tr>\n",
       "    <tr>\n",
       "      <th>mean</th>\n",
       "      <td>2.207457</td>\n",
       "      <td>0.408222</td>\n",
       "      <td>29.881135</td>\n",
       "    </tr>\n",
       "    <tr>\n",
       "      <th>std</th>\n",
       "      <td>0.841497</td>\n",
       "      <td>0.491740</td>\n",
       "      <td>14.413500</td>\n",
       "    </tr>\n",
       "    <tr>\n",
       "      <th>min</th>\n",
       "      <td>1.000000</td>\n",
       "      <td>0.000000</td>\n",
       "      <td>0.166700</td>\n",
       "    </tr>\n",
       "    <tr>\n",
       "      <th>25%</th>\n",
       "      <td>1.000000</td>\n",
       "      <td>0.000000</td>\n",
       "      <td>21.000000</td>\n",
       "    </tr>\n",
       "    <tr>\n",
       "      <th>50%</th>\n",
       "      <td>2.000000</td>\n",
       "      <td>0.000000</td>\n",
       "      <td>28.000000</td>\n",
       "    </tr>\n",
       "    <tr>\n",
       "      <th>75%</th>\n",
       "      <td>3.000000</td>\n",
       "      <td>1.000000</td>\n",
       "      <td>39.000000</td>\n",
       "    </tr>\n",
       "    <tr>\n",
       "      <th>max</th>\n",
       "      <td>3.000000</td>\n",
       "      <td>1.000000</td>\n",
       "      <td>80.000000</td>\n",
       "    </tr>\n",
       "  </tbody>\n",
       "</table>\n",
       "</div>"
      ],
      "text/plain": [
       "            pclass     survived          age\n",
       "count  1046.000000  1046.000000  1046.000000\n",
       "mean      2.207457     0.408222    29.881135\n",
       "std       0.841497     0.491740    14.413500\n",
       "min       1.000000     0.000000     0.166700\n",
       "25%       1.000000     0.000000    21.000000\n",
       "50%       2.000000     0.000000    28.000000\n",
       "75%       3.000000     1.000000    39.000000\n",
       "max       3.000000     1.000000    80.000000"
      ]
     },
     "execution_count": 23,
     "metadata": {},
     "output_type": "execute_result"
    }
   ],
   "source": [
    "# Avec la fonction describe() ci-dessus on peut remarqué que seulement 1046 lignes sur 1309 on un age enregistrer.\n",
    "# On pourrais utilisé la fonction fillna() de la façon suivante : data.fillna(data[\"age\"].mean()),\n",
    "# qui va mettre dans les lignes où l'age n'a pas été enregistrer l'age moyen des passager. \n",
    "# Le problème est que avec cette méthode on va corrompre notre ensemble de données et altérer la réalité, \n",
    "# c'est pourquoi on va plutôt faire le choix d'ignorer ces 263 lignes et les retirer avec la fonction dropna().\n",
    "\n",
    "data = data.dropna(axis = 0)\n",
    "print(data.shape, \"les dimensions de data ont changées.\")\n",
    "print(\"Les statistique de data ont donc changées :\")\n",
    "data.describe()"
   ]
  },
  {
   "cell_type": "code",
   "execution_count": 30,
   "metadata": {},
   "outputs": [
    {
     "name": "stdout",
     "output_type": "stream",
     "text": [
      "Nombre de passagers par classe de cabines :\n",
      "3    501\n",
      "1    284\n",
      "2    261\n",
      "Name: pclass, dtype: int64 \n",
      "\n"
     ]
    },
    {
     "name": "stderr",
     "output_type": "stream",
     "text": [
      "Matplotlib is building the font cache; this may take a moment.\n"
     ]
    },
    {
     "data": {
      "text/plain": [
       "<AxesSubplot:>"
      ]
     },
     "execution_count": 30,
     "metadata": {},
     "output_type": "execute_result"
    },
    {
     "data": {
      "image/png": "[encoded data removed]",
      "text/plain": [
       "<Figure size 640x480 with 1 Axes>"
      ]
     },
     "metadata": {},
     "output_type": "display_data"
    }
   ],
   "source": [
    "# On affiche le nombre de passagers par classe de cabines\n",
    "print(\"Nombre de passagers par classe de cabines :\")\n",
    "print(data[\"pclass\"].value_counts(), \"\\n\")\n",
    "# On génére un graph à partir des résultat\n",
    "data[\"pclass\"].value_counts().plot.bar()"
   ]
  }
 ],
 "metadata": {
  "kernelspec": {
   "display_name": "Python 3.9.13 ('base')",
   "language": "python",
   "name": "python3"
  },
  "language_info": {
   "codemirror_mode": {
    "name": "ipython",
    "version": 3
   },
   "file_extension": ".py",
   "mimetype": "text/x-python",
   "name": "python",
   "nbconvert_exporter": "python",
   "pygments_lexer": "ipython3",
   "version": "3.9.13"
  },
  "orig_nbformat": 4,
  "vscode": {
   "interpreter": {
    "hash": "700029e5f9c8992c55d37e3a404b0b432c68d401a3c06e21a848c27e97636ef3"
   }
  }
 },
 "nbformat": 4,
 "nbformat_minor": 2
}
