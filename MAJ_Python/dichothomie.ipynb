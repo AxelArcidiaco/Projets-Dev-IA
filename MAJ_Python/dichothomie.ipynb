{
 "cells": [
  {
   "cell_type": "markdown",
   "metadata": {},
   "source": [
    "# Workshop  Dichotomie - Python Story 3 : Les Boucles\n",
    "Axel Arcidiaco"
   ]
  },
  {
   "cell_type": "code",
   "execution_count": 5,
   "metadata": {},
   "outputs": [
    {
     "name": "stdout",
     "output_type": "stream",
     "text": [
      "Bienvenue dans le jeu de la dichotomie !\n",
      "Le jeu est simple Axel. Il vous suffit de deviner un nombre entre 0 et 100 pour gagner.\n"
     ]
    },
    {
     "data": {
      "text/plain": [
       "0"
      ]
     },
     "execution_count": 5,
     "metadata": {},
     "output_type": "execute_result"
    }
   ],
   "source": [
    "# Importation\n",
    "# On import la fonction randint du module random de Python pour pouvoir générer un nombre entier aléatoire contenue entre deux entiers définis\n",
    "from random import randint\n",
    "\n",
    "# Fonction main la fonction principale du programme.\n",
    "def main() -> int:\n",
    "    # Message de bienvenue dans le jeu de la dichotomie\n",
    "    print(\"Bienvenue dans le jeu de la dichotomie !\")\n",
    "    \n",
    "    # On demande au joueur de saisir son nom. La fonction str est là pour s'assurer que la saisie du joueur sera quand même une string.\n",
    "    userName = str(input(\" Saisissez un nom de joueur : \"))\n",
    "    \n",
    "    # Définition des valeurs minimales et maximales du jeu de la dichotomie\n",
    "    minValue = 0\n",
    "    maxValue = 100\n",
    "    \n",
    "    # On défini le nombre à deviné, qui est contenue dans l'interval formé par les valeurs de minValue et maxValue incluse,\n",
    "    # avec la fonction randint du module random de Python\n",
    "    numToFind = randint(minValue, maxValue)\n",
    "    \n",
    "    # On affiche un message avec le nom du joueur et l'objectif du jeu dans la console\n",
    "    print(\"Le jeu est simple \" + userName + \". Il vous suffit de deviner un nombre entre \" + str(minValue) + \" et \" + str(maxValue) + \" pour gagner.\")\n",
    "    \n",
    "    # Boucle du jeu\n",
    "    \n",
    "    return 0\n",
    "\n",
    "# Appel de la fonction main\n",
    "main()"
   ]
  }
 ],
 "metadata": {
  "kernelspec": {
   "display_name": "Python 3.9.13 ('base')",
   "language": "python",
   "name": "python3"
  },
  "language_info": {
   "codemirror_mode": {
    "name": "ipython",
    "version": 3
   },
   "file_extension": ".py",
   "mimetype": "text/x-python",
   "name": "python",
   "nbconvert_exporter": "python",
   "pygments_lexer": "ipython3",
   "version": "3.9.13"
  },
  "orig_nbformat": 4,
  "vscode": {
   "interpreter": {
    "hash": "700029e5f9c8992c55d37e3a404b0b432c68d401a3c06e21a848c27e97636ef3"
   }
  }
 },
 "nbformat": 4,
 "nbformat_minor": 2
}
