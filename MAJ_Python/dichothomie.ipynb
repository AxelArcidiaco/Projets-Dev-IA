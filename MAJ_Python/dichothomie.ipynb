{
 "cells": [
  {
   "cell_type": "markdown",
   "metadata": {},
   "source": [
    "# Workshop  Dichotomie - Python Story 3 : Les Boucles\n",
    "Axel Arcidiaco"
   ]
  },
  {
   "cell_type": "code",
   "execution_count": 3,
   "metadata": {},
   "outputs": [
    {
     "name": "stdout",
     "output_type": "stream",
     "text": [
      "Bienvenue dans le jeu de la dichotomie !\n",
      "123\n"
     ]
    },
    {
     "data": {
      "text/plain": [
       "0"
      ]
     },
     "execution_count": 3,
     "metadata": {},
     "output_type": "execute_result"
    }
   ],
   "source": [
    "# Fonction main la fonction principale du programme\n",
    "def main() -> int:\n",
    "    print(\"Bienvenue dans le jeu de la dichotomie !\")\n",
    "    \n",
    "    # On demande au joueur de saisir son nom. La fonction str est là pour s'assurer que la saisie du joueur sera quand même une string.\n",
    "    userName = str(input(\" Saisissez un nom de joueur : \"))\n",
    "    print(userName) # On test que la saisie du joueur a été enregistré.\n",
    "    \n",
    "    return 0\n",
    "\n",
    "# Appel de la fonction main\n",
    "main()"
   ]
  }
 ],
 "metadata": {
  "kernelspec": {
   "display_name": "Python 3.9.13 ('base')",
   "language": "python",
   "name": "python3"
  },
  "language_info": {
   "codemirror_mode": {
    "name": "ipython",
    "version": 3
   },
   "file_extension": ".py",
   "mimetype": "text/x-python",
   "name": "python",
   "nbconvert_exporter": "python",
   "pygments_lexer": "ipython3",
   "version": "3.9.13"
  },
  "orig_nbformat": 4,
  "vscode": {
   "interpreter": {
    "hash": "700029e5f9c8992c55d37e3a404b0b432c68d401a3c06e21a848c27e97636ef3"
   }
  }
 },
 "nbformat": 4,
 "nbformat_minor": 2
}
