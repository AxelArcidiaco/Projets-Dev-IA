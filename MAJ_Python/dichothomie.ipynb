{
 "cells": [
  {
   "cell_type": "markdown",
   "metadata": {},
   "source": [
    "# Workshop  Dichotomie - Python Story 3 : Les Boucles\n",
    "Axel Arcidiaco"
   ]
  },
  {
   "cell_type": "code",
   "execution_count": 14,
   "metadata": {},
   "outputs": [
    {
     "name": "stdout",
     "output_type": "stream",
     "text": [
      "Bienvenue dans le jeu de la dichotomie !\n",
      "Axel, votre nombre est au quel vous pensez est : 42\n",
      "Axel, votre nombre est au quel vous pensez est : 42\n"
     ]
    },
    {
     "data": {
      "text/plain": [
       "0"
      ]
     },
     "execution_count": 14,
     "metadata": {},
     "output_type": "execute_result"
    }
   ],
   "source": [
    "# Step 1:\n",
    "# Fonction main la fonction principale du programme.\n",
    "def main() -> int:\n",
    "    # Message de bienvenue dans le jeu de la dichotomie\n",
    "    print(\"Bienvenue dans le jeu de la dichotomie !\")\n",
    "    \n",
    "    # Step 2:\n",
    "    # On demande au joueur de saisir son nom. La fonction str est là pour s'assurer que la saisie du joueur sera quand même une string.\n",
    "    userName = str(input(\" Saisissez un nom de joueur : \"))\n",
    "    \n",
    "    # Step 3:\n",
    "    # Définition des valeurs minimales et maximales du jeu de la dichotomie\n",
    "    minValue = 1\n",
    "    maxValue = 100\n",
    "    \n",
    "    # Step 4: \n",
    "    # On défini le nombre à deviné par l'ordinateur\n",
    "    numToFind = int(input(\"Saissisez un entier compris entre \" + str(minValue) + \" et \" + str(maxValue) + \" :\"))\n",
    "    # On appel la fonction search() qui va rechercher le nombre que l'ordinateur doit deviner\n",
    "    search(minValue, maxValue, userName, numToFind)\n",
    "    \n",
    "    return 0\n",
    "\n",
    "\n",
    "# Step 4: recherche du nombre choisie par l'utilisateur\n",
    "# On défini une fonction qui va permettre à l'ordinateur de trouver le nombre auquel l'utilisateur pense.\n",
    "def search(minValue, maxValue, userName, numToFind):\n",
    "    tries = 0\n",
    "    answer = \"\"\n",
    "    guess = maxValue / 2\n",
    "    \n",
    "    # Boucle du jeu. On utilise une boucle while car on ne connait pas le nombre d'essais que l'ordinateur va faire avant de trouver le nombre\n",
    "    while answer != \"=\":\n",
    "        guess = int(minValue + (maxValue - minValue) / 2)\n",
    "        answer = str(input(\"Est-ce votre nombre est plus grand, plus petit ou égal à \" + str(guess) + \" ? [+/-/=]\"))\n",
    "        tries += 1\n",
    "        if(answer == \"-\"):\n",
    "            maxValue = guess\n",
    "        elif(answer == \"+\"):\n",
    "            minValue = guess\n",
    "        else:\n",
    "            print(str(userName) + \", votre nombre est au quel vous pensez est : \" + str(numToFind))\n",
    "\n",
    "# Appel de la fonction main\n",
    "main()"
   ]
  }
 ],
 "metadata": {
  "kernelspec": {
   "display_name": "Python 3.9.13 ('base')",
   "language": "python",
   "name": "python3"
  },
  "language_info": {
   "codemirror_mode": {
    "name": "ipython",
    "version": 3
   },
   "file_extension": ".py",
   "mimetype": "text/x-python",
   "name": "python",
   "nbconvert_exporter": "python",
   "pygments_lexer": "ipython3",
   "version": "3.9.13"
  },
  "orig_nbformat": 4,
  "vscode": {
   "interpreter": {
    "hash": "700029e5f9c8992c55d37e3a404b0b432c68d401a3c06e21a848c27e97636ef3"
   }
  }
 },
 "nbformat": 4,
 "nbformat_minor": 2
}
