{
 "cells": [
  {
   "cell_type": "markdown",
   "metadata": {},
   "source": [
    "# Test sur les boucles"
   ]
  },
  {
   "cell_type": "code",
   "execution_count": 4,
   "metadata": {},
   "outputs": [
    {
     "name": "stdout",
     "output_type": "stream",
     "text": [
      "\n",
      "            ^            \n",
      "           ^^^           \n",
      "          ^^^^^          \n",
      "         ^^^^^^^         \n",
      "        ^^^^^^^^^        \n",
      "       ^^^^^^^^^^^       \n",
      "      ^^^^^^^^^^^^^      \n",
      "     ^^^^^^^^^^^^^^^     \n",
      "    ^^^^^^^^^^^^^^^^^    \n",
      "   ^^^^^^^^^^^^^^^^^^^   \n",
      "  ^^^^^^^^^^^^^^^^^^^^^  \n",
      " ^^^^^^^^^^^^^^^^^^^^^^^ \n"
     ]
    }
   ],
   "source": [
    "# Pyramide de *\n",
    "space = \" \"\n",
    "sapin = \"^\"\n",
    "nbre_ligne = 12\n",
    "size = nbre_ligne -1 \n",
    "nom_ligne = 0\n",
    "print ()\n",
    "\n",
    "for num_ligne in range (1, nbre_ligne + 1):\n",
    "    if (num_ligne == 1):\n",
    "        nbre_sapin = 1\n",
    "    else:\n",
    "        nbre_sapin = 2 * num_ligne - 1\n",
    "        \n",
    "    print (space * size, sapin * nbre_sapin, space * size)\n",
    "    size -= 1"
   ]
  },
  {
   "cell_type": "code",
   "execution_count": 12,
   "metadata": {},
   "outputs": [
    {
     "name": "stdout",
     "output_type": "stream",
     "text": [
      "1 \n",
      "1 2 \n",
      "1 2 3 \n",
      "1 2 3 4 \n",
      "1 2 3 4 5 \n",
      "1 2 3 4 5 6 \n",
      "1 2 3 4 5 6 7 \n",
      "1 2 3 4 5 6 7 8 \n",
      "1 2 3 4 5 6 7 8 9 \n",
      "1 2 3 4 5 6 7 8 9 10 \n",
      "1 2 3 4 5 6 7 8 9 10 11 \n",
      "1 2 3 4 5 6 7 8 9 10 11 12 \n",
      "1 2 3 4 5 6 7 8 9 10 11 12 13 \n",
      "1 2 3 4 5 6 7 8 9 10 11 12 13 14 \n",
      "1 2 3 4 5 6 7 8 9 10 11 12 13 14 15 \n",
      "1 2 3 4 5 6 7 8 9 10 11 12 13 14 15 16 \n",
      "1 2 3 4 5 6 7 8 9 10 11 12 13 14 15 16 17 \n",
      "1 2 3 4 5 6 7 8 9 10 11 12 13 14 15 16 17 18 \n",
      "1 2 3 4 5 6 7 8 9 10 11 12 13 14 15 16 17 18 19 \n",
      "1 2 3 4 5 6 7 8 9 10 11 12 13 14 15 16 17 18 19 20 \n",
      "1 2 3 4 5 6 7 8 9 10 11 12 13 14 15 16 17 18 19 20 21 \n",
      "1 2 3 4 5 6 7 8 9 10 11 12 13 14 15 16 17 18 19 20 21 22 \n",
      "1 2 3 4 5 6 7 8 9 10 11 12 13 14 15 16 17 18 19 20 21 22 23 \n",
      "1 2 3 4 5 6 7 8 9 10 11 12 13 14 15 16 17 18 19 20 21 22 23 24 \n",
      "1 2 3 4 5 6 7 8 9 10 11 12 13 14 15 16 17 18 19 20 21 22 23 24 25 \n",
      "1 2 3 4 5 6 7 8 9 10 11 12 13 14 15 16 17 18 19 20 21 22 23 24 25 26 \n",
      "1 2 3 4 5 6 7 8 9 10 11 12 13 14 15 16 17 18 19 20 21 22 23 24 25 26 27 \n"
     ]
    }
   ],
   "source": [
    "# Une pyramide qui s'autoincrémente\n",
    "depth = 27\n",
    "for number in range(1, depth + 1):\n",
    "    for i in range(1, number + 1):\n",
    "        print(i, end=' ')\n",
    "    print(\"\")"
   ]
  },
  {
   "cell_type": "code",
   "execution_count": 11,
   "metadata": {},
   "outputs": [
    {
     "name": "stdout",
     "output_type": "stream",
     "text": [
      "* \n",
      "* * \n",
      "* * * \n",
      "* * * * \n",
      "* * * * * \n",
      "* * * * * * \n",
      "* * * * * * * \n",
      "* * * * * * * * \n",
      "* * * * * * * * * \n",
      "* * * * * * * * * * \n",
      "* * * * * * * * * * * \n",
      "* * * * * * * * * * * * \n",
      "* * * * * * * * * * * * * \n"
     ]
    }
   ],
   "source": [
    "def diamond(n):\n",
    "    for m in range(0, n):\n",
    "        for i in range(0, m+1):\n",
    "            print(\"* \",end=\"\")\n",
    "        print(\"\\r\")\n",
    "n = 13\n",
    "diamond(n)"
   ]
  },
  {
   "cell_type": "code",
   "execution_count": 30,
   "metadata": {},
   "outputs": [
    {
     "name": "stdout",
     "output_type": "stream",
     "text": [
      "A\n",
      "BC\n",
      "DEF\n",
      "GHIJ\n",
      "KLMNO\n",
      "PQRSTU\n",
      "VWXYZ[\\\n",
      "]^_`abcd\n",
      "efghijklm\n",
      "nopqrstuvw\n",
      "xyz{|}~\n"
     ]
    }
   ],
   "source": [
    "initialValue = 65\n",
    "for i in range(0, 11):\n",
    "    for j in range(0, i + 1):\n",
    "     # It will convert the ASCII value to the character\n",
    "         alphabet = chr(initialValue)\n",
    "         # print(alphabate, end=' ')\n",
    "         print(f\"{alphabet}\", end=\"\")\n",
    "         initialValue += 1\n",
    "    print(\"\")"
   ]
  },
  {
   "cell_type": "code",
   "execution_count": 19,
   "metadata": {},
   "outputs": [
    {
     "name": "stdout",
     "output_type": "stream",
     "text": [
      "A \n",
      "B B \n",
      "C C C \n",
      "D D D D \n",
      "E E E E E \n",
      "F F F F F F \n",
      "G G G G G G G \n",
      "H H H H H H H H \n",
      "I I I I I I I I I \n",
      "J J J J J J J J J J \n",
      "K K K K K K K K K K K \n",
      "L L L L L L L L L L L L \n",
      "M M M M M M M M M M M M M \n",
      "N N N N N N N N N N N N N N \n",
      "O O O O O O O O O O O O O O O \n",
      "P P P P P P P P P P P P P P P P \n",
      "Q Q Q Q Q Q Q Q Q Q Q Q Q Q Q Q Q \n",
      "R R R R R R R R R R R R R R R R R R \n",
      "S S S S S S S S S S S S S S S S S S S \n",
      "T T T T T T T T T T T T T T T T T T T T \n",
      "U U U U U U U U U U U U U U U U U U U U U \n",
      "V V V V V V V V V V V V V V V V V V V V V V \n",
      "W W W W W W W W W W W W W W W W W W W W W W W \n",
      "X X X X X X X X X X X X X X X X X X X X X X X X \n",
      "Y Y Y Y Y Y Y Y Y Y Y Y Y Y Y Y Y Y Y Y Y Y Y Y Y \n",
      "Z Z Z Z Z Z Z Z Z Z Z Z Z Z Z Z Z Z Z Z Z Z Z Z Z Z \n"
     ]
    }
   ],
   "source": [
    "# defining A = 65\n",
    "#num = A\n",
    "num = 65 \n",
    "for i in range(0, 26):\n",
    "    for j in range(0, i + 1):\n",
    "        char = chr(num)\n",
    "        # printing char value\n",
    "        print(f\"{char} \", end=\"\")\n",
    "    # incrementing number\n",
    "    num = num + 1\n",
    "    # ending line after each row\n",
    "    print(\"\\r\")"
   ]
  },
  {
   "cell_type": "code",
   "execution_count": 26,
   "metadata": {},
   "outputs": [
    {
     "name": "stdout",
     "output_type": "stream",
     "text": [
      "                        A \n",
      "                       A A \n",
      "                      A A A \n",
      "                     A A A A \n",
      "                    A A A A A \n",
      "                   A A A A A A \n",
      "                  A A A A A A A \n",
      "                 A A A A A A A A \n",
      "                A A A A A A A A A \n",
      "               A A A A A A A A A A \n",
      "              A A A A A A A A A A A \n",
      "             A A A A A A A A A A A A \n",
      "            A A A A A A A A A A A A A \n",
      "           A A A A A A A A A A A A A A \n",
      "            A A A A A A A A A A A A A \n",
      "             A A A A A A A A A A A A \n",
      "              A A A A A A A A A A A \n",
      "               A A A A A A A A A A \n",
      "                A A A A A A A A A \n",
      "                 A A A A A A A A \n",
      "                  A A A A A A A \n",
      "                   A A A A A A \n",
      "                    A A A A A \n",
      "                     A A A A \n",
      "                      A A A \n",
      "                       A A \n",
      "                        A \n"
     ]
    }
   ],
   "source": [
    "n = int(input('Enter the number:'))\n",
    "k = 2 * n - 2\n",
    "for i in range(0, n):\n",
    "    for j in range(0, k):\n",
    "        print(end= ' ')\n",
    "    k = k - 1\n",
    "    for j in range(0, i + 1):\n",
    "        print('A ', end= '') # No space \n",
    "    print('') # No space\n",
    "    \n",
    "k = n - 2\n",
    "for i in range(n, -1, -1):\n",
    "    for j in range(k, 0, -1):\n",
    "        print(end= ' ')\n",
    "    k = k + 1\n",
    "    for j in range(0, i + 1):\n",
    "        print('A ', end= '') # No space\n",
    "    print('') # No space\n"
   ]
  },
  {
   "cell_type": "code",
   "execution_count": 31,
   "metadata": {},
   "outputs": [
    {
     "name": "stdout",
     "output_type": "stream",
     "text": [
      "                        A\n",
      "                       BB\n",
      "                      CCC\n",
      "                     DDDD\n",
      "                    EEEEE\n",
      "                   FFFFFF\n",
      "                  GGGGGGG\n",
      "                 HHHHHHHH\n",
      "                IIIIIIIII\n",
      "               JJJJJJJJJJ\n",
      "              KKKKKKKKKKK\n",
      "             LLLLLLLLLLLL\n",
      "            MMMMMMMMMMMMM\n",
      "           NNNNNNNNNNNNNN\n",
      "          OOOOOOOOOOOOOOO\n",
      "         PPPPPPPPPPPPPPPP\n",
      "        QQQQQQQQQQQQQQQQQ\n",
      "       RRRRRRRRRRRRRRRRRR\n",
      "      SSSSSSSSSSSSSSSSSSS\n",
      "     TTTTTTTTTTTTTTTTTTTT\n",
      "    UUUUUUUUUUUUUUUUUUUUU\n",
      "   VVVVVVVVVVVVVVVVVVVVVV\n",
      "  WWWWWWWWWWWWWWWWWWWWWWW\n",
      " XXXXXXXXXXXXXXXXXXXXXXXX\n",
      "YYYYYYYYYYYYYYYYYYYYYYYYY\n",
      "ZZZZZZZZZZZZZZZZZZZZZZZZZZ\n"
     ]
    }
   ],
   "source": [
    "alphabet = \"ABCDEFGHIJKLMNOPQRSTUVWXYZ\"\n",
    "k = 2 * n - 2\n",
    "for i in range(0, len(alphabet)):\n",
    "    for j in range(0, k):\n",
    "        print(end= ' ')\n",
    "    k = k - 1\n",
    "    for j in range(0, i + 1):\n",
    "        print(alphabet[i], end= '') # No space \n",
    "    print('') # No space"
   ]
  }
 ],
 "metadata": {
  "kernelspec": {
   "display_name": "Python 3.9.13 ('base')",
   "language": "python",
   "name": "python3"
  },
  "language_info": {
   "codemirror_mode": {
    "name": "ipython",
    "version": 3
   },
   "file_extension": ".py",
   "mimetype": "text/x-python",
   "name": "python",
   "nbconvert_exporter": "python",
   "pygments_lexer": "ipython3",
   "version": "3.9.13"
  },
  "orig_nbformat": 4,
  "vscode": {
   "interpreter": {
    "hash": "700029e5f9c8992c55d37e3a404b0b432c68d401a3c06e21a848c27e97636ef3"
   }
  }
 },
 "nbformat": 4,
 "nbformat_minor": 2
}
