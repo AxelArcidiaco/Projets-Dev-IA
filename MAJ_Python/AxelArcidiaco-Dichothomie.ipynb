{
 "cells": [
  {
   "cell_type": "markdown",
   "metadata": {},
   "source": [
    "# Workshop  Dichotomie - Python Story 3 : Les Boucles\n",
    "Axel Arcidiaco"
   ]
  },
  {
   "cell_type": "code",
   "execution_count": 43,
   "metadata": {},
   "outputs": [
    {
     "name": "stdout",
     "output_type": "stream",
     "text": [
      "LE JEU DE LA DICHOTOMIE !\n",
      "\n",
      "Bienvenue Axel dans le jeu de la dichotomie.\n",
      "\n",
      "Je vais chercher un nombres que vous allez choisir entre -200 et -100\n",
      "Axel, le nombre au quel vous pensez est : -200.\n",
      "J'ai eu besoin de 8 essai(s) pour le trouver.\n"
     ]
    }
   ],
   "source": [
    "# Step 1:\n",
    "# Fonction main la fonction principale du programme.\n",
    "def main() -> int:\n",
    "    # Message de bienvenue dans le jeu de la dichotomie\n",
    "    print(\"LE JEU DE LA DICHOTOMIE !\")\n",
    "    \n",
    "    # Step 2:\n",
    "    # On demande au joueur de saisir son nom. La fonction str est là pour s'assurer que la saisie du joueur sera quand même une string.\n",
    "    userName = str(input(\" Saisissez un nom de joueur : \"))\n",
    "    print(\"\\nBienvenue {} dans le jeu de la dichotomie.\\n\".format(userName))\n",
    "    \n",
    "    # Step 3:\n",
    "    # Définition des valeurs minimales et maximales du jeu de la dichotomie. On ne les met pas dans l'input car il faut le caster en int\n",
    "    minValue = 1\n",
    "    maxValue = 100\n",
    "    # On demande à l'utilisateur s'il souhaite modifier les valeurs minimales et maximales du jeu de la dichotomie\n",
    "    if(str(input(\"Voulez modifier les valeurs minimales et maximales du jeu de la dichotome (1 et 100)? Y/Any Key except \\\"esc\\\"\"))\n",
    "       .upper() == \"Y\"):\n",
    "        minValue = int(input(\"Saissisez une valeur minimale.\"))\n",
    "        maxValue = int(input(\"Saissisez une valeur maximale strictement supérieur à {}.\".format(minValue)))\n",
    "    \n",
    "    print(\"Je vais chercher un nombres que vous allez choisir entre {} et {}\".format(minValue, maxValue))\n",
    "    # Step 4 : Recherche du nombre auquel le joueur pense.\n",
    "    # On appel la fonction search() qui va rechercher le nombre que l'ordinateur doit deviner\n",
    "    search(minValue, maxValue, userName)\n",
    "    \n",
    "    return\n",
    "\n",
    "\n",
    "# Step 4: recherche du nombre choisie par l'utilisateur\n",
    "# On défini une fonction qui va permettre à l'ordinateur de trouver le nombre auquel l'utilisateur pense et qu'on devra appelé dans main().\n",
    "def search(minValue, maxValue, userName):\n",
    "    # On demande à l'utilisateur de saisir le nombre qu'il a choisie pour évité la triche.\n",
    "    # Première étape de vérification anti-triche : on vérifie que minValue <= numéro de l'utilisateur <= maxValue\n",
    "    numChosen = False\n",
    "    while numChosen == False:\n",
    "        numToFind = int(input(\"Saissisez un entier compris entre {} et {} :\".format(minValue, maxValue)))\n",
    "        if(numToFind < minValue or numToFind > maxValue):\n",
    "            numToFind = int(input(\"Saissisez un entier compris entre {} et {} :\".format(minValue, maxValue)))\n",
    "        else:\n",
    "            numChosen = True\n",
    "    \n",
    "    # On défini :\n",
    "    #   - le compteur d'essai de l'ordinateur,\n",
    "    #   - sa première devinette comme étant la moitié de maxValue,\n",
    "    #   - et on initialise answer qui la variable que l'ordinateur va utilisé pour savoir s'il a trouvé le nombre à deviné (=) ou \n",
    "    #     s'il doit donné un nombre plus grand (+) ou plus petit(-).\n",
    "    tries = 0\n",
    "    answer = \"\"\n",
    "    guess = maxValue / 2\n",
    "    \n",
    "    # Boucle du jeu. On utilise une boucle while car on ne connait pas le nombre d'essais que l'ordinateur va faire avant de trouver le nombre\n",
    "    while answer != \"=\":\n",
    "        guess = int(minValue + (maxValue - minValue) / 2)\n",
    "        if guess == minValue and guess != maxValue:\n",
    "            guess += 1\n",
    "        if guess == maxValue and guess != minValue:\n",
    "            guess -= 1\n",
    "        answer = str(input(\"Est-ce votre nombre est plus grand, plus petit ou égal à {} ? [+/-/=]\".format(guess)))\n",
    "        tries += 1\n",
    "        if(answer == \"-\"):\n",
    "            maxValue = guess\n",
    "            # On vérifie que l'utilisateur ne dit pas à l'ordinateur que son nombre est plus petit alors qu'il est :\n",
    "            #   - soit plus grand que le nombre de l'utilisateur\n",
    "            #   - soit que l'ordinateur avait trouvé le nombre de l'utilisateur\n",
    "            if(maxValue <= numToFind):\n",
    "                print(\"{} vous avez triché. Votre nombre est {} et vous m'avez dit qu'il était plus petit que {}.\"\n",
    "                      .format(userName, numToFind, guess))\n",
    "                break\n",
    "        elif(answer == \"+\"):\n",
    "            minValue = guess\n",
    "            # On vérifie que l'utilisateur ne dit pas à l'ordinateur que son nombre est plus grand alors qu'il est :\n",
    "            #   - soit plus petit que le nombre de l'utilisateur\n",
    "            #   - soit que l'ordinateur avait trouvé le nombre de l'utilisateur\n",
    "            if(minValue > numToFind):\n",
    "                print(\"{} vous avez triché. Votre nombre est {} et vous m'avez dit qu'il était plus grand que {}.\"\n",
    "                      .format(userName, numToFind, guess))\n",
    "                break\n",
    "        else:\n",
    "            print(\"{}, le nombre au quel vous pensez est : {}.\".format(userName, numToFind))\n",
    "            print(\"J'ai eu besoin de {} essai(s) pour le trouver.\".format(tries))\n",
    "\n",
    "# Appel de la fonction main\n",
    "main()"
   ]
  }
 ],
 "metadata": {
  "kernelspec": {
   "display_name": "Python 3.9.13 ('base')",
   "language": "python",
   "name": "python3"
  },
  "language_info": {
   "codemirror_mode": {
    "name": "ipython",
    "version": 3
   },
   "file_extension": ".py",
   "mimetype": "text/x-python",
   "name": "python",
   "nbconvert_exporter": "python",
   "pygments_lexer": "ipython3",
   "version": "3.9.13"
  },
  "orig_nbformat": 4,
  "vscode": {
   "interpreter": {
    "hash": "700029e5f9c8992c55d37e3a404b0b432c68d401a3c06e21a848c27e97636ef3"
   }
  }
 },
 "nbformat": 4,
 "nbformat_minor": 2
}
