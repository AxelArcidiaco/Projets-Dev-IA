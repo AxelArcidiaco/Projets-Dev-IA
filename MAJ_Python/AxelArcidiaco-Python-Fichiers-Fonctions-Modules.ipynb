{
 "cells": [
  {
   "cell_type": "markdown",
   "metadata": {},
   "source": [
    "## Python : Fichiers - Fonctions - Modules\n",
    "Axel Arcidiaco"
   ]
  },
  {
   "cell_type": "markdown",
   "metadata": {},
   "source": [
    "# 1) Fonctions built-in"
   ]
  },
  {
   "cell_type": "markdown",
   "metadata": {},
   "source": [
    "a) Fonctions de bases"
   ]
  },
  {
   "cell_type": "code",
   "execution_count": 2,
   "metadata": {},
   "outputs": [
    {
     "name": "stdout",
     "output_type": "stream",
     "text": [
      "L'absolue de -3 est 3\n",
      "L'arondie de 3.14 est 3 \n",
      "\n",
      "liste1 = [3, 9, 27, 13, 5, 0]\n",
      "max(liste1) = 27\n",
      "min(liste1) = 0\n",
      "sum(liste1) = 57 \n",
      "\n",
      "liste2 = [True, False, True]\n",
      "all(liste2) = False\n",
      "any(liste2) = True \n",
      "\n",
      "liste1 = [3, 9, 27, 13, 5, 0]\n",
      "All = False\n",
      "Any = True\n"
     ]
    }
   ],
   "source": [
    "x = -3 # un entier négatif\n",
    "y = 3.14 # un float\n",
    "liste1 = [3, 9, 27, 13, 5, 0] # Une liste de nombres\n",
    "liste2 = [True, False, True] # Une liste de booléens\n",
    "\n",
    "# Tests des fonctions built-in abs() & round() sur x & y\n",
    "print(\"L'absolue de {} est {}\".format(x, abs(x)))\n",
    "print(\"L'arondie de {} est {}\".format(y, round(y)),\"\\n\")\n",
    "\n",
    "# Tests des fonctions built-in max(), min(), sum() sur liste1\n",
    "print(\"liste1 =\", liste1)\n",
    "print(\"max(liste1) =\", max(liste1))\n",
    "print(\"min(liste1) =\", min(liste1))\n",
    "print(\"sum(liste1) =\", sum(liste1), \"\\n\")\n",
    "\n",
    "# Tests des fonctions built-in all() & any() sur liste2 & 1\n",
    "print(\"liste2 =\", liste2)\n",
    "print(\"all(liste2) =\", all(liste2)) # Affiche True uniquement si tous les éléments de liste2 sont égal à True\n",
    "print(\"any(liste2) =\", any(liste2), \"\\n\") # Affiche True si au moins un élément de liste2 est égal à True\n",
    "print(\"liste1 =\", liste1)\n",
    "print(\"All =\", all(liste1)) # Affiche True uniquement si tous les éléments de liste1 sont différent de 0\n",
    "print(\"Any =\", any(liste1)) # Affiche True si au moins un élément de liste1 est différent de 0"
   ]
  },
  {
   "cell_type": "markdown",
   "metadata": {},
   "source": [
    "b) Conversion de type"
   ]
  },
  {
   "cell_type": "code",
   "execution_count": 3,
   "metadata": {},
   "outputs": [
    {
     "name": "stdout",
     "output_type": "stream",
     "text": [
      "13 int(s) = 13 float(s) = 13.0\n",
      "27 str(n) = 27 float(n) = 27.0\n",
      "3.14 str(f) = 3.14 int(f) = 3\n"
     ]
    }
   ],
   "source": [
    "s = \"13\" # Une string\n",
    "n = 27 # Un int\n",
    "f = 3.14 # Un float\n",
    "\n",
    "# Conversion\n",
    "print(s, \"int(s) =\", int(s), \"float(s) =\", float(s))\n",
    "print(n, \"str(n) =\", str(n), \"float(n) =\", float(n))\n",
    "print(f, \"str(f) =\", str(f), \"int(f) =\", int(f))"
   ]
  },
  {
   "cell_type": "markdown",
   "metadata": {},
   "source": [
    "c) Conversion de structure de données"
   ]
  },
  {
   "cell_type": "code",
   "execution_count": 4,
   "metadata": {},
   "outputs": [
    {
     "name": "stdout",
     "output_type": "stream",
     "text": [
      "(3, 9, 27, 13, 5, 0)\n",
      "[3, 9, 27, 13, 5, 0]\n",
      "['Cat', 'Bird', 'Bubble Fish']\n"
     ]
    }
   ],
   "source": [
    "liste3 = [\"Chat\", \"Chien\", \"Oiseau\", \"Poison Rouge\"]\n",
    "\n",
    "# Conversion liste3 en tuples\n",
    "tuple1 = tuple(liste1)\n",
    "print(tuple1)\n",
    "\n",
    "# Conversion tuple1 en list\n",
    "print(list(tuple1))\n",
    "\n",
    "# Conversion d'un dictionnaire en list\n",
    "dico = {\"Cat\":\"Chat\", \"Bird\":\"Oiseau\", \"Bubble Fish\":\"Poison Rouge\"}\n",
    "liste4 = list(dico.keys())\n",
    "print(liste4)"
   ]
  }
 ],
 "metadata": {
  "kernelspec": {
   "display_name": "Python 3.9.13 ('base')",
   "language": "python",
   "name": "python3"
  },
  "language_info": {
   "codemirror_mode": {
    "name": "ipython",
    "version": 3
   },
   "file_extension": ".py",
   "mimetype": "text/x-python",
   "name": "python",
   "nbconvert_exporter": "python",
   "pygments_lexer": "ipython3",
   "version": "3.9.13"
  },
  "orig_nbformat": 4,
  "vscode": {
   "interpreter": {
    "hash": "700029e5f9c8992c55d37e3a404b0b432c68d401a3c06e21a848c27e97636ef3"
   }
  }
 },
 "nbformat": 4,
 "nbformat_minor": 2
}
