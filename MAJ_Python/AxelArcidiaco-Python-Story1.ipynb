{
 "cells": [
  {
   "cell_type": "markdown",
   "metadata": {},
   "source": [
    "Fichier Python pour les exercices de la ressource de la Story: \"Initiation au Python - Les types et les variables\" : Cours de Python en pdf\n",
    "Lien du cours : https://python.sdv.univ-paris-diderot.fr/cours-python.pdf"
   ]
  },
  {
   "cell_type": "code",
   "execution_count": 3,
   "metadata": {},
   "outputs": [
    {
     "name": "stdout",
     "output_type": "stream",
     "text": [
      "7 + pow(3, 6) = 736 C'est un nombre de Friedman car on retrouve les chiffres 7, 3 et 6.\n",
      "pow((3 + 4), 3) = 343 C'est un nombre de Friedman car on retrouve bien les chiffres 3, 4 et 3.\n",
      "pow(3, 6) - 5 = 724 Ce n'est pas un nombre de Friedman car on ne retrouve que les chiffres 3 et 6 parmi 3, 6 et 5.\n",
      "(1 + pow(2, 8)) * 5 =  1285 C'est un nombre de Friedman car on retrouve les chiffres 1, 2, 8 et 5.\n",
      "pow(2 + pow(1, 8), 7) = 2187 C'est un nombre de Friedman car on retrouve les chiffres 2, 1, 8, et 7.\n"
     ]
    }
   ],
   "source": [
    "# Exercice 1 -  Nombres de Friedman\n",
    "'''\n",
    "Les nombre de Friedman sont des nombres qui peuvent s'exprimer avec tous leurs chiffres dans une expression mathématique.\n",
    "Par exemple, 347 est un nombre de Friedman car il peut s'écrire sous la forme de 4 + 7^3. De même 127 peut s'écrire sous la forme 2^7 - 1.\n",
    "Determinez si les expressions suivantes correspondent à des nombres de friedman.\n",
    "Pour cela, vous les écrirez en Python puis exécuterez le code correspondant.\n",
    "- 7+3^6\n",
    "- (3+4)^3\n",
    "- 3^6 - 5\n",
    "- (1+2^8)*5\n",
    "- (2+1^8)^7\n",
    "'''\n",
    "\n",
    "# 7+3^6\n",
    "e1 = 7 + pow(3, 6)\n",
    "print(\"7 + pow(3, 6) =\", e1, \"C'est un nombre de Friedman car on retrouve les chiffres 7, 3 et 6.\")\n",
    "\n",
    "# (3+4)^3\n",
    "e2 = pow((3 + 4), 3)\n",
    "print(\"pow((3 + 4), 3) =\", e2, \"C'est un nombre de Friedman car on retrouve bien les chiffres 3, 4 et 3.\")\n",
    "\n",
    "# 3^6 - 5\n",
    "e3 = pow(3, 6) - 5\n",
    "print(\"pow(3, 6) - 5 =\", e3, \"Ce n'est pas un nombre de Friedman car on ne retrouve que les chiffres 3 et 6 parmi 3, 6 et 5.\")\n",
    "\n",
    "# (1+2^8)*5\n",
    "e4 = (1 + pow(2, 8)) * 5\n",
    "print(\"(1 + pow(2, 8)) * 5 = \", e4, \"C'est un nombre de Friedman car on retrouve les chiffres 1, 2, 8 et 5.\")\n",
    "\n",
    "# (2+1^8)^7\n",
    "e5 = pow(2 + pow(1, 8), 7)\n",
    "print(\"pow(2 + pow(1, 8), 7) =\", e5, \"C'est un nombre de Friedman car on retrouve les chiffres 2, 1, 8, et 7.\")"
   ]
  },
  {
   "cell_type": "code",
   "execution_count": 8,
   "metadata": {},
   "outputs": [
    {
     "name": "stdout",
     "output_type": "stream",
     "text": [
      "On va obtenir 27 car (1+2)=3 et ** est l'opérateur de puissance donc 3**3 = 27\n",
      "27 \n",
      "\n",
      "On va obtenir une novelle chaîne de caractère qui va être constitué de 4 répétition du contenu de la chaîne de caractère \"Da\"\n",
      "DaDaDaDa \n",
      "\n",
      "Python va interprété \"Da\" + 3 comme une concaténation ce qui va produire une exception car on ne peut pas concaténer une chaîne de caractère avec un entier. \n",
      "\n",
      "On va obtenir une chaîne de caractère avec comme contenu deux fois le contenu de la chaîne résultant de  la concaténation des chaîne de caractères \"Pa\" & \"La\"\n",
      "PaLaPaLa \n",
      "\n",
      "Python va interprété (\"Da\"*4) / 2 comme une division d'une chaîne de caractère ce qui est impossible et va générer une exception. \n",
      "\n",
      "on va obtenir 2.5\n",
      "2.5 \n",
      "\n",
      "On va obtenir 2, le résultat entier de la division entière de 5 par 2\n",
      "2 \n",
      "\n",
      "On va obtenir 1, le reste entier de la division entière de 5 par 2\n",
      "1\n"
     ]
    }
   ],
   "source": [
    "# Exercice 2 - Prédire le résultat : opérations\n",
    "''' Essayez de prédire le résultat de chacune des instructions suivantes, puis vérifiez-le dans l’interpréteur Python :\n",
    "— (1+2)**3\n",
    "— \"Da\" * 4\n",
    "— \"Da\" + 3\n",
    "— (\"Pa\"+\"La\") * 2\n",
    "— (\"Da\"*4) / 2\n",
    "— 5 / 2\n",
    "— 5 // 2\n",
    "— 5 % 2\n",
    "'''\n",
    "\n",
    "print(\"On va obtenir 27 car (1+2)=3 et ** est l'opérateur de puissance donc 3**3 = 27\")\n",
    "i1 = (1+2)**3\n",
    "print(i1, \"\\n\")\n",
    "\n",
    "print(\"On va obtenir une novelle chaîne de caractère qui va être constitué de 4 répétition du contenu de la chaîne de caractère \\\"Da\\\"\")\n",
    "i2 = \"Da\" * 4\n",
    "print(i2, \"\\n\")\n",
    "\n",
    "# On va obtenir une exception car on essaye de concaténer une chaîne de caractère avec un entier.\n",
    "# Pour tester l'expression retirer les ''' autour des 2 instructions ci-dessous.\n",
    "'''\n",
    "i3 = \"Da\" + 3\n",
    "print(i3)\n",
    "'''\n",
    "print(\"Python va interprété \\\"Da\\\" + 3 comme une concaténation ce qui va produire une exception car on ne peut pas concaténer une chaîne de caractère avec un entier.\", \"\\n\")\n",
    "\n",
    "# (\"Pa\"+\"La\") * 2\n",
    "print(\"On va obtenir une chaîne de caractère avec comme contenu deux fois le contenu de la chaîne résultant de  la concaténation des chaîne de caractères \\\"Pa\\\" & \\\"La\\\"\")\n",
    "i4 = (\"Pa\"+\"La\") * 2\n",
    "print(i4, \"\\n\")\n",
    "\n",
    "# On va obtenir une exception car on ne peut pas divisé une chaîne de caractère avec un entier.\n",
    "# Pour tester l'expression retirer les ''' autour des 2 instructions ci-dessous.\n",
    "'''\n",
    "i5 = (\"Da\"*4) / 2\n",
    "print(i5)\n",
    "'''\n",
    "print(\"Python va interprété (\\\"Da\\\"*4) / 2 comme une division d'une chaîne de caractère ce qui est impossible et va générer une exception.\", \"\\n\")\n",
    "\n",
    "print(\"on va obtenir 2.5\")\n",
    "i6 = 5 / 2 \n",
    "print(i6, \"\\n\")\n",
    "\n",
    "print(\"On va obtenir 2, le résultat entier de la division entière de 5 par 2\")\n",
    "i7 = 5 // 2\n",
    "print(i7, \"\\n\")\n",
    "\n",
    "print(\"On va obtenir 1, le reste entier de la division entière de 5 par 2\")\n",
    "i8 = 5 % 2\n",
    "print(i8)"
   ]
  },
  {
   "cell_type": "code",
   "execution_count": 11,
   "metadata": {},
   "outputs": [
    {
     "name": "stdout",
     "output_type": "stream",
     "text": [
      "str(4) * int(\"3\") va nous donner la chaîne de caractères \"444\"\n",
      "444 \n",
      "\n",
      "int(\"3\") + float(\"3.2\") va nous donner le nombre à virgule (variable de type float) 6.2\n",
      "6.2 \n",
      "\n",
      "str(3) + float(\"3.2\") va nous donner une erreur car on essaye de concaténer une chaîne de caractères avec un float. \n",
      "\n",
      "str(3/4) * 2 va nous donner une chaîne de caractères composé de 2 fois la chaîne contenant le résultat de la division de 3 par 4 qui est 0.75 donc \"0.750.75\"\n",
      "0.750.75\n"
     ]
    }
   ],
   "source": [
    "# Excercice 3 - Prédire le résultat : opérations et conversions de types\n",
    "'''\n",
    "Essayez de prédire le résultat de chacune des instructions suivantes, puis vérifiez-le dans l’interpréteur Python :\n",
    "— str(4) * int(\"3\")\n",
    "— int(\"3\") + float(\"3.2\")\n",
    "— str(3) * float(\"3.2\")\n",
    "— str(3/4) * 2\n",
    "'''\n",
    "\n",
    "print(\"str(4) * int(\\\"3\\\") va nous donner la chaîne de caractères \\\"444\\\"\")\n",
    "i1 = str(4) * int(\"3\")\n",
    "print(i1, \"\\n\")\n",
    "\n",
    "print(\"int(\\\"3\\\") + float(\\\"3.2\\\") va nous donner le nombre à virgule (variable de type float) 6.2\")\n",
    "i2 = int(\"3\") + float(\"3.2\")\n",
    "print(i2, \"\\n\")\n",
    "\n",
    "print(\"str(3) + float(\\\"3.2\\\") va nous donner une erreur car on essaye de concaténer une chaîne de caractères avec un float.\", \"\\n\")\n",
    "# Pour tester l'expression retirer les ''' autour des 2 instructions ci-dessous.\n",
    "'''\n",
    "i3 = str(3) + float(\"3.2\")\n",
    "print(i3)\n",
    "'''\n",
    "\n",
    "print(\"str(3/4) * 2 va nous donner une chaîne de caractères composé de 2 fois la chaîne contenant le résultat de la division de 3 par 4 qui est 0.75 donc \\\"0.750.75\\\"\")\n",
    "i4 = str(3/4) * 2\n",
    "print(i4)"
   ]
  }
 ],
 "metadata": {
  "kernelspec": {
   "display_name": "Python 3 (ipykernel)",
   "language": "python",
   "name": "python3"
  },
  "language_info": {
   "codemirror_mode": {
    "name": "ipython",
    "version": 3
   },
   "file_extension": ".py",
   "mimetype": "text/x-python",
   "name": "python",
   "nbconvert_exporter": "python",
   "pygments_lexer": "ipython3",
   "version": "3.9.13"
  },
  "vscode": {
   "interpreter": {
    "hash": "700029e5f9c8992c55d37e3a404b0b432c68d401a3c06e21a848c27e97636ef3"
   }
  }
 },
 "nbformat": 4,
 "nbformat_minor": 2
}
