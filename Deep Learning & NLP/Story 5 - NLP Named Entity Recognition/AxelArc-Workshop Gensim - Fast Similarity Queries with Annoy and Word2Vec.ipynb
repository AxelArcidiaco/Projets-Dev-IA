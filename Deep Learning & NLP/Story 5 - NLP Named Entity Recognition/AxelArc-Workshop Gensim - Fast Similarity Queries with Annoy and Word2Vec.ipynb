{
 "cells": [
  {
   "attachments": {},
   "cell_type": "markdown",
   "metadata": {},
   "source": [
    "# Fast Similarity Queries with Annoy and Word2Vec"
   ]
  },
  {
   "cell_type": "code",
   "execution_count": 1,
   "metadata": {},
   "outputs": [],
   "source": [
    "LOGS = False  # Set to True if you want to see progress in logs.\n",
    "if LOGS:\n",
    "    import logging\n",
    "    logging.basicConfig(format='%(asctime)s : %(levelname)s : %(message)s', level=logging.INFO)"
   ]
  },
  {
   "attachments": {},
   "cell_type": "markdown",
   "metadata": {},
   "source": [
    "# Download Text8 corpus"
   ]
  },
  {
   "cell_type": "code",
   "execution_count": 2,
   "metadata": {},
   "outputs": [
    {
     "name": "stdout",
     "output_type": "stream",
     "text": [
      "Using corpus from C:\\Users\\AxelArcidiaco/gensim-data\\text8\\text8.gz\n"
     ]
    }
   ],
   "source": [
    "import gensim.downloader as api\n",
    "text8_path = api.load('text8', return_path=True)\n",
    "print(\"Using corpus from\", text8_path)"
   ]
  },
  {
   "attachments": {},
   "cell_type": "markdown",
   "metadata": {},
   "source": [
    "# Train the Word2Vec model"
   ]
  },
  {
   "cell_type": "code",
   "execution_count": 3,
   "metadata": {},
   "outputs": [
    {
     "name": "stdout",
     "output_type": "stream",
     "text": [
      "Using trained model KeyedVectors<vector_size=100, 71290 keys>\n"
     ]
    }
   ],
   "source": [
    "from gensim.models import Word2Vec, KeyedVectors\n",
    "from gensim.models.word2vec import Text8Corpus\n",
    "\n",
    "# Using params from Word2Vec_FastText_Comparison\n",
    "params = {\n",
    "    'alpha': 0.05,\n",
    "    'vector_size': 100,\n",
    "    'window': 5,\n",
    "    'epochs': 5,\n",
    "    'min_count': 5,\n",
    "    'sample': 1e-4,\n",
    "    'sg': 1,\n",
    "    'hs': 0,\n",
    "    'negative': 5,\n",
    "}\n",
    "model = Word2Vec(Text8Corpus(text8_path), **params)\n",
    "wv = model.wv\n",
    "print(\"Using trained model\", wv)"
   ]
  },
  {
   "attachments": {},
   "cell_type": "markdown",
   "metadata": {},
   "source": [
    "# Construct AnnoyIndex with model & make a similarity query"
   ]
  },
  {
   "cell_type": "code",
   "execution_count": 6,
   "metadata": {},
   "outputs": [
    {
     "ename": "ImportError",
     "evalue": "Annoy not installed. To use the Annoy indexer, please run `pip install annoy`.",
     "output_type": "error",
     "traceback": [
      "\u001b[1;31m---------------------------------------------------------------------------\u001b[0m",
      "\u001b[1;31mModuleNotFoundError\u001b[0m                       Traceback (most recent call last)",
      "File \u001b[1;32mc:\\Users\\AxelArcidiaco\\anaconda3\\envs\\SpacyEnv\\lib\\site-packages\\gensim\\similarities\\annoy.py:156\u001b[0m, in \u001b[0;36mAnnoyIndexer._build_from_model\u001b[1;34m(self, vectors, labels, num_features)\u001b[0m\n\u001b[0;32m    155\u001b[0m \u001b[39mtry\u001b[39;00m:\n\u001b[1;32m--> 156\u001b[0m     \u001b[39mfrom\u001b[39;00m \u001b[39mannoy\u001b[39;00m \u001b[39mimport\u001b[39;00m AnnoyIndex\n\u001b[0;32m    157\u001b[0m \u001b[39mexcept\u001b[39;00m \u001b[39mImportError\u001b[39;00m:\n",
      "\u001b[1;31mModuleNotFoundError\u001b[0m: No module named 'annoy'",
      "\nDuring handling of the above exception, another exception occurred:\n",
      "\u001b[1;31mImportError\u001b[0m                               Traceback (most recent call last)",
      "Cell \u001b[1;32mIn[6], line 4\u001b[0m\n\u001b[0;32m      1\u001b[0m \u001b[39mfrom\u001b[39;00m \u001b[39mgensim\u001b[39;00m\u001b[39m.\u001b[39;00m\u001b[39msimilarities\u001b[39;00m\u001b[39m.\u001b[39;00m\u001b[39mannoy\u001b[39;00m \u001b[39mimport\u001b[39;00m AnnoyIndexer\n\u001b[0;32m      3\u001b[0m \u001b[39m# 100 trees are being used in this example\u001b[39;00m\n\u001b[1;32m----> 4\u001b[0m annoy_index \u001b[39m=\u001b[39m AnnoyIndexer(model, \u001b[39m100\u001b[39;49m)\n\u001b[0;32m      5\u001b[0m \u001b[39m# Derive the vector for the word \"science\" in our model\u001b[39;00m\n\u001b[0;32m      6\u001b[0m vector \u001b[39m=\u001b[39m wv[\u001b[39m\"\u001b[39m\u001b[39mscience\u001b[39m\u001b[39m\"\u001b[39m]\n",
      "File \u001b[1;32mc:\\Users\\AxelArcidiaco\\anaconda3\\envs\\SpacyEnv\\lib\\site-packages\\gensim\\similarities\\annoy.py:85\u001b[0m, in \u001b[0;36mAnnoyIndexer.__init__\u001b[1;34m(self, model, num_trees)\u001b[0m\n\u001b[0;32m     83\u001b[0m \u001b[39melse\u001b[39;00m:\n\u001b[0;32m     84\u001b[0m     \u001b[39mraise\u001b[39;00m \u001b[39mValueError\u001b[39;00m(\u001b[39m\"\u001b[39m\u001b[39mOnly a Word2Vec, Doc2Vec, FastText or KeyedVectors instance can be used\u001b[39m\u001b[39m\"\u001b[39m)\n\u001b[1;32m---> 85\u001b[0m \u001b[39mself\u001b[39;49m\u001b[39m.\u001b[39;49m_build_from_model(kv\u001b[39m.\u001b[39;49mget_normed_vectors(), kv\u001b[39m.\u001b[39;49mindex_to_key, kv\u001b[39m.\u001b[39;49mvector_size)\n",
      "File \u001b[1;32mc:\\Users\\AxelArcidiaco\\anaconda3\\envs\\SpacyEnv\\lib\\site-packages\\gensim\\similarities\\annoy.py:158\u001b[0m, in \u001b[0;36mAnnoyIndexer._build_from_model\u001b[1;34m(self, vectors, labels, num_features)\u001b[0m\n\u001b[0;32m    156\u001b[0m     \u001b[39mfrom\u001b[39;00m \u001b[39mannoy\u001b[39;00m \u001b[39mimport\u001b[39;00m AnnoyIndex\n\u001b[0;32m    157\u001b[0m \u001b[39mexcept\u001b[39;00m \u001b[39mImportError\u001b[39;00m:\n\u001b[1;32m--> 158\u001b[0m     \u001b[39mraise\u001b[39;00m _NOANNOY\n\u001b[0;32m    160\u001b[0m index \u001b[39m=\u001b[39m AnnoyIndex(num_features, metric\u001b[39m=\u001b[39m\u001b[39m'\u001b[39m\u001b[39mangular\u001b[39m\u001b[39m'\u001b[39m)\n\u001b[0;32m    162\u001b[0m \u001b[39mfor\u001b[39;00m vector_num, vector \u001b[39min\u001b[39;00m \u001b[39menumerate\u001b[39m(vectors):\n",
      "    \u001b[1;31m[... skipping hidden 1 frame]\u001b[0m\n",
      "Cell \u001b[1;32mIn[6], line 4\u001b[0m\n\u001b[0;32m      1\u001b[0m \u001b[39mfrom\u001b[39;00m \u001b[39mgensim\u001b[39;00m\u001b[39m.\u001b[39;00m\u001b[39msimilarities\u001b[39;00m\u001b[39m.\u001b[39;00m\u001b[39mannoy\u001b[39;00m \u001b[39mimport\u001b[39;00m AnnoyIndexer\n\u001b[0;32m      3\u001b[0m \u001b[39m# 100 trees are being used in this example\u001b[39;00m\n\u001b[1;32m----> 4\u001b[0m annoy_index \u001b[39m=\u001b[39m AnnoyIndexer(model, \u001b[39m100\u001b[39;49m)\n\u001b[0;32m      5\u001b[0m \u001b[39m# Derive the vector for the word \"science\" in our model\u001b[39;00m\n\u001b[0;32m      6\u001b[0m vector \u001b[39m=\u001b[39m wv[\u001b[39m\"\u001b[39m\u001b[39mscience\u001b[39m\u001b[39m\"\u001b[39m]\n",
      "File \u001b[1;32mc:\\Users\\AxelArcidiaco\\anaconda3\\envs\\SpacyEnv\\lib\\site-packages\\gensim\\similarities\\annoy.py:85\u001b[0m, in \u001b[0;36mAnnoyIndexer.__init__\u001b[1;34m(self, model, num_trees)\u001b[0m\n\u001b[0;32m     83\u001b[0m \u001b[39melse\u001b[39;00m:\n\u001b[0;32m     84\u001b[0m     \u001b[39mraise\u001b[39;00m \u001b[39mValueError\u001b[39;00m(\u001b[39m\"\u001b[39m\u001b[39mOnly a Word2Vec, Doc2Vec, FastText or KeyedVectors instance can be used\u001b[39m\u001b[39m\"\u001b[39m)\n\u001b[1;32m---> 85\u001b[0m \u001b[39mself\u001b[39;49m\u001b[39m.\u001b[39;49m_build_from_model(kv\u001b[39m.\u001b[39;49mget_normed_vectors(), kv\u001b[39m.\u001b[39;49mindex_to_key, kv\u001b[39m.\u001b[39;49mvector_size)\n",
      "File \u001b[1;32mc:\\Users\\AxelArcidiaco\\anaconda3\\envs\\SpacyEnv\\lib\\site-packages\\gensim\\similarities\\annoy.py:158\u001b[0m, in \u001b[0;36mAnnoyIndexer._build_from_model\u001b[1;34m(self, vectors, labels, num_features)\u001b[0m\n\u001b[0;32m    156\u001b[0m     \u001b[39mfrom\u001b[39;00m \u001b[39mannoy\u001b[39;00m \u001b[39mimport\u001b[39;00m AnnoyIndex\n\u001b[0;32m    157\u001b[0m \u001b[39mexcept\u001b[39;00m \u001b[39mImportError\u001b[39;00m:\n\u001b[1;32m--> 158\u001b[0m     \u001b[39mraise\u001b[39;00m _NOANNOY\n\u001b[0;32m    160\u001b[0m index \u001b[39m=\u001b[39m AnnoyIndex(num_features, metric\u001b[39m=\u001b[39m\u001b[39m'\u001b[39m\u001b[39mangular\u001b[39m\u001b[39m'\u001b[39m)\n\u001b[0;32m    162\u001b[0m \u001b[39mfor\u001b[39;00m vector_num, vector \u001b[39min\u001b[39;00m \u001b[39menumerate\u001b[39m(vectors):\n",
      "\u001b[1;31mImportError\u001b[0m: Annoy not installed. To use the Annoy indexer, please run `pip install annoy`."
     ]
    }
   ],
   "source": [
    "from gensim.similarities.annoy import AnnoyIndexer\n",
    "\n",
    "# 100 trees are being used in this example\n",
    "annoy_index = AnnoyIndexer(model, 100)\n",
    "# Derive the vector for the word \"science\" in our model\n",
    "vector = wv[\"science\"]\n",
    "# The instance of AnnoyIndexer we just created is passed\n",
    "approximate_neighbors = wv.most_similar([vector], topn=11, indexer=annoy_index)\n",
    "# Neatly print the approximate_neighbors and their corresponding cosine similarity values\n",
    "print(\"Approximate Neighbors\")\n",
    "for neighbor in approximate_neighbors:\n",
    "    print(neighbor)\n",
    "\n",
    "normal_neighbors = wv.most_similar([vector], topn=11)\n",
    "print(\"\\nExact Neighbors\")\n",
    "for neighbor in normal_neighbors:\n",
    "    print(neighbor)"
   ]
  },
  {
   "attachments": {},
   "cell_type": "markdown",
   "metadata": {},
   "source": [
    "# Compare to the traditional indexer"
   ]
  },
  {
   "cell_type": "code",
   "execution_count": 7,
   "metadata": {},
   "outputs": [
    {
     "ename": "ImportError",
     "evalue": "Annoy not installed. To use the Annoy indexer, please run `pip install annoy`.",
     "output_type": "error",
     "traceback": [
      "\u001b[1;31m---------------------------------------------------------------------------\u001b[0m",
      "\u001b[1;31mModuleNotFoundError\u001b[0m                       Traceback (most recent call last)",
      "File \u001b[1;32mc:\\Users\\AxelArcidiaco\\anaconda3\\envs\\SpacyEnv\\lib\\site-packages\\gensim\\similarities\\annoy.py:156\u001b[0m, in \u001b[0;36mAnnoyIndexer._build_from_model\u001b[1;34m(self, vectors, labels, num_features)\u001b[0m\n\u001b[0;32m    155\u001b[0m \u001b[39mtry\u001b[39;00m:\n\u001b[1;32m--> 156\u001b[0m     \u001b[39mfrom\u001b[39;00m \u001b[39mannoy\u001b[39;00m \u001b[39mimport\u001b[39;00m AnnoyIndex\n\u001b[0;32m    157\u001b[0m \u001b[39mexcept\u001b[39;00m \u001b[39mImportError\u001b[39;00m:\n",
      "\u001b[1;31mModuleNotFoundError\u001b[0m: No module named 'annoy'",
      "\nDuring handling of the above exception, another exception occurred:\n",
      "\u001b[1;31mImportError\u001b[0m                               Traceback (most recent call last)",
      "Cell \u001b[1;32mIn[7], line 2\u001b[0m\n\u001b[0;32m      1\u001b[0m \u001b[39m# Set up the model and vector that we are using in the comparison\u001b[39;00m\n\u001b[1;32m----> 2\u001b[0m annoy_index \u001b[39m=\u001b[39m AnnoyIndexer(model, \u001b[39m100\u001b[39;49m)\n\u001b[0;32m      4\u001b[0m \u001b[39m# Dry run to make sure both indexes are fully in RAM\u001b[39;00m\n\u001b[0;32m      5\u001b[0m normed_vectors \u001b[39m=\u001b[39m wv\u001b[39m.\u001b[39mget_normed_vectors()\n",
      "File \u001b[1;32mc:\\Users\\AxelArcidiaco\\anaconda3\\envs\\SpacyEnv\\lib\\site-packages\\gensim\\similarities\\annoy.py:85\u001b[0m, in \u001b[0;36mAnnoyIndexer.__init__\u001b[1;34m(self, model, num_trees)\u001b[0m\n\u001b[0;32m     83\u001b[0m \u001b[39melse\u001b[39;00m:\n\u001b[0;32m     84\u001b[0m     \u001b[39mraise\u001b[39;00m \u001b[39mValueError\u001b[39;00m(\u001b[39m\"\u001b[39m\u001b[39mOnly a Word2Vec, Doc2Vec, FastText or KeyedVectors instance can be used\u001b[39m\u001b[39m\"\u001b[39m)\n\u001b[1;32m---> 85\u001b[0m \u001b[39mself\u001b[39;49m\u001b[39m.\u001b[39;49m_build_from_model(kv\u001b[39m.\u001b[39;49mget_normed_vectors(), kv\u001b[39m.\u001b[39;49mindex_to_key, kv\u001b[39m.\u001b[39;49mvector_size)\n",
      "File \u001b[1;32mc:\\Users\\AxelArcidiaco\\anaconda3\\envs\\SpacyEnv\\lib\\site-packages\\gensim\\similarities\\annoy.py:158\u001b[0m, in \u001b[0;36mAnnoyIndexer._build_from_model\u001b[1;34m(self, vectors, labels, num_features)\u001b[0m\n\u001b[0;32m    156\u001b[0m     \u001b[39mfrom\u001b[39;00m \u001b[39mannoy\u001b[39;00m \u001b[39mimport\u001b[39;00m AnnoyIndex\n\u001b[0;32m    157\u001b[0m \u001b[39mexcept\u001b[39;00m \u001b[39mImportError\u001b[39;00m:\n\u001b[1;32m--> 158\u001b[0m     \u001b[39mraise\u001b[39;00m _NOANNOY\n\u001b[0;32m    160\u001b[0m index \u001b[39m=\u001b[39m AnnoyIndex(num_features, metric\u001b[39m=\u001b[39m\u001b[39m'\u001b[39m\u001b[39mangular\u001b[39m\u001b[39m'\u001b[39m)\n\u001b[0;32m    162\u001b[0m \u001b[39mfor\u001b[39;00m vector_num, vector \u001b[39min\u001b[39;00m \u001b[39menumerate\u001b[39m(vectors):\n",
      "    \u001b[1;31m[... skipping hidden 1 frame]\u001b[0m\n",
      "Cell \u001b[1;32mIn[6], line 4\u001b[0m\n\u001b[0;32m      1\u001b[0m \u001b[39mfrom\u001b[39;00m \u001b[39mgensim\u001b[39;00m\u001b[39m.\u001b[39;00m\u001b[39msimilarities\u001b[39;00m\u001b[39m.\u001b[39;00m\u001b[39mannoy\u001b[39;00m \u001b[39mimport\u001b[39;00m AnnoyIndexer\n\u001b[0;32m      3\u001b[0m \u001b[39m# 100 trees are being used in this example\u001b[39;00m\n\u001b[1;32m----> 4\u001b[0m annoy_index \u001b[39m=\u001b[39m AnnoyIndexer(model, \u001b[39m100\u001b[39;49m)\n\u001b[0;32m      5\u001b[0m \u001b[39m# Derive the vector for the word \"science\" in our model\u001b[39;00m\n\u001b[0;32m      6\u001b[0m vector \u001b[39m=\u001b[39m wv[\u001b[39m\"\u001b[39m\u001b[39mscience\u001b[39m\u001b[39m\"\u001b[39m]\n",
      "File \u001b[1;32mc:\\Users\\AxelArcidiaco\\anaconda3\\envs\\SpacyEnv\\lib\\site-packages\\gensim\\similarities\\annoy.py:85\u001b[0m, in \u001b[0;36mAnnoyIndexer.__init__\u001b[1;34m(self, model, num_trees)\u001b[0m\n\u001b[0;32m     83\u001b[0m \u001b[39melse\u001b[39;00m:\n\u001b[0;32m     84\u001b[0m     \u001b[39mraise\u001b[39;00m \u001b[39mValueError\u001b[39;00m(\u001b[39m\"\u001b[39m\u001b[39mOnly a Word2Vec, Doc2Vec, FastText or KeyedVectors instance can be used\u001b[39m\u001b[39m\"\u001b[39m)\n\u001b[1;32m---> 85\u001b[0m \u001b[39mself\u001b[39;49m\u001b[39m.\u001b[39;49m_build_from_model(kv\u001b[39m.\u001b[39;49mget_normed_vectors(), kv\u001b[39m.\u001b[39;49mindex_to_key, kv\u001b[39m.\u001b[39;49mvector_size)\n",
      "File \u001b[1;32mc:\\Users\\AxelArcidiaco\\anaconda3\\envs\\SpacyEnv\\lib\\site-packages\\gensim\\similarities\\annoy.py:158\u001b[0m, in \u001b[0;36mAnnoyIndexer._build_from_model\u001b[1;34m(self, vectors, labels, num_features)\u001b[0m\n\u001b[0;32m    156\u001b[0m     \u001b[39mfrom\u001b[39;00m \u001b[39mannoy\u001b[39;00m \u001b[39mimport\u001b[39;00m AnnoyIndex\n\u001b[0;32m    157\u001b[0m \u001b[39mexcept\u001b[39;00m \u001b[39mImportError\u001b[39;00m:\n\u001b[1;32m--> 158\u001b[0m     \u001b[39mraise\u001b[39;00m _NOANNOY\n\u001b[0;32m    160\u001b[0m index \u001b[39m=\u001b[39m AnnoyIndex(num_features, metric\u001b[39m=\u001b[39m\u001b[39m'\u001b[39m\u001b[39mangular\u001b[39m\u001b[39m'\u001b[39m)\n\u001b[0;32m    162\u001b[0m \u001b[39mfor\u001b[39;00m vector_num, vector \u001b[39min\u001b[39;00m \u001b[39menumerate\u001b[39m(vectors):\n",
      "    \u001b[1;31m[... skipping hidden 1 frame]\u001b[0m\n",
      "Cell \u001b[1;32mIn[6], line 4\u001b[0m\n\u001b[0;32m      1\u001b[0m \u001b[39mfrom\u001b[39;00m \u001b[39mgensim\u001b[39;00m\u001b[39m.\u001b[39;00m\u001b[39msimilarities\u001b[39;00m\u001b[39m.\u001b[39;00m\u001b[39mannoy\u001b[39;00m \u001b[39mimport\u001b[39;00m AnnoyIndexer\n\u001b[0;32m      3\u001b[0m \u001b[39m# 100 trees are being used in this example\u001b[39;00m\n\u001b[1;32m----> 4\u001b[0m annoy_index \u001b[39m=\u001b[39m AnnoyIndexer(model, \u001b[39m100\u001b[39;49m)\n\u001b[0;32m      5\u001b[0m \u001b[39m# Derive the vector for the word \"science\" in our model\u001b[39;00m\n\u001b[0;32m      6\u001b[0m vector \u001b[39m=\u001b[39m wv[\u001b[39m\"\u001b[39m\u001b[39mscience\u001b[39m\u001b[39m\"\u001b[39m]\n",
      "File \u001b[1;32mc:\\Users\\AxelArcidiaco\\anaconda3\\envs\\SpacyEnv\\lib\\site-packages\\gensim\\similarities\\annoy.py:85\u001b[0m, in \u001b[0;36mAnnoyIndexer.__init__\u001b[1;34m(self, model, num_trees)\u001b[0m\n\u001b[0;32m     83\u001b[0m \u001b[39melse\u001b[39;00m:\n\u001b[0;32m     84\u001b[0m     \u001b[39mraise\u001b[39;00m \u001b[39mValueError\u001b[39;00m(\u001b[39m\"\u001b[39m\u001b[39mOnly a Word2Vec, Doc2Vec, FastText or KeyedVectors instance can be used\u001b[39m\u001b[39m\"\u001b[39m)\n\u001b[1;32m---> 85\u001b[0m \u001b[39mself\u001b[39;49m\u001b[39m.\u001b[39;49m_build_from_model(kv\u001b[39m.\u001b[39;49mget_normed_vectors(), kv\u001b[39m.\u001b[39;49mindex_to_key, kv\u001b[39m.\u001b[39;49mvector_size)\n",
      "File \u001b[1;32mc:\\Users\\AxelArcidiaco\\anaconda3\\envs\\SpacyEnv\\lib\\site-packages\\gensim\\similarities\\annoy.py:158\u001b[0m, in \u001b[0;36mAnnoyIndexer._build_from_model\u001b[1;34m(self, vectors, labels, num_features)\u001b[0m\n\u001b[0;32m    156\u001b[0m     \u001b[39mfrom\u001b[39;00m \u001b[39mannoy\u001b[39;00m \u001b[39mimport\u001b[39;00m AnnoyIndex\n\u001b[0;32m    157\u001b[0m \u001b[39mexcept\u001b[39;00m \u001b[39mImportError\u001b[39;00m:\n\u001b[1;32m--> 158\u001b[0m     \u001b[39mraise\u001b[39;00m _NOANNOY\n\u001b[0;32m    160\u001b[0m index \u001b[39m=\u001b[39m AnnoyIndex(num_features, metric\u001b[39m=\u001b[39m\u001b[39m'\u001b[39m\u001b[39mangular\u001b[39m\u001b[39m'\u001b[39m)\n\u001b[0;32m    162\u001b[0m \u001b[39mfor\u001b[39;00m vector_num, vector \u001b[39min\u001b[39;00m \u001b[39menumerate\u001b[39m(vectors):\n",
      "\u001b[1;31mImportError\u001b[0m: Annoy not installed. To use the Annoy indexer, please run `pip install annoy`."
     ]
    }
   ],
   "source": [
    "# Set up the model and vector that we are using in the comparison\n",
    "annoy_index = AnnoyIndexer(model, 100)\n",
    "\n",
    "# Dry run to make sure both indexes are fully in RAM\n",
    "normed_vectors = wv.get_normed_vectors()\n",
    "vector = normed_vectors[0]\n",
    "wv.most_similar([vector], topn=5, indexer=annoy_index)\n",
    "wv.most_similar([vector], topn=5)\n",
    "\n",
    "import time\n",
    "import numpy as np\n",
    "\n",
    "def avg_query_time(annoy_index=None, queries=1000):\n",
    "    \"\"\"Average query time of a most_similar method over 1000 random queries.\"\"\"\n",
    "    total_time = 0\n",
    "    for _ in range(queries):\n",
    "        rand_vec = normed_vectors[np.random.randint(0, len(wv))]\n",
    "        start_time = time.process_time()\n",
    "        wv.most_similar([rand_vec], topn=5, indexer=annoy_index)\n",
    "        total_time += time.process_time() - start_time\n",
    "    return total_time / queries\n",
    "\n",
    "queries = 1000\n",
    "\n",
    "gensim_time = avg_query_time(queries=queries)\n",
    "annoy_time = avg_query_time(annoy_index, queries=queries)\n",
    "print(\"Gensim (s/query):\\t{0:.5f}\".format(gensim_time))\n",
    "print(\"Annoy (s/query):\\t{0:.5f}\".format(annoy_time))\n",
    "speed_improvement = gensim_time / annoy_time\n",
    "print (\"\\nAnnoy is {0:.2f} times faster on average on this particular run\".format(speed_improvement))"
   ]
  },
  {
   "attachments": {},
   "cell_type": "markdown",
   "metadata": {},
   "source": [
    "# Persisting indices to disk"
   ]
  },
  {
   "cell_type": "code",
   "execution_count": 9,
   "metadata": {},
   "outputs": [
    {
     "ename": "NameError",
     "evalue": "name 'annoy_index' is not defined",
     "output_type": "error",
     "traceback": [
      "\u001b[1;31m---------------------------------------------------------------------------\u001b[0m",
      "\u001b[1;31mNameError\u001b[0m                                 Traceback (most recent call last)",
      "Cell \u001b[1;32mIn[9], line 4\u001b[0m\n\u001b[0;32m      1\u001b[0m fname \u001b[39m=\u001b[39m \u001b[39m'\u001b[39m\u001b[39m/tmp/mymodel.index\u001b[39m\u001b[39m'\u001b[39m\n\u001b[0;32m      3\u001b[0m \u001b[39m# Persist index to disk\u001b[39;00m\n\u001b[1;32m----> 4\u001b[0m annoy_index\u001b[39m.\u001b[39msave(fname)\n\u001b[0;32m      6\u001b[0m \u001b[39m# Load index back\u001b[39;00m\n\u001b[0;32m      7\u001b[0m \u001b[39mimport\u001b[39;00m \u001b[39mos\u001b[39;00m\u001b[39m.\u001b[39;00m\u001b[39mpath\u001b[39;00m\n",
      "\u001b[1;31mNameError\u001b[0m: name 'annoy_index' is not defined"
     ]
    }
   ],
   "source": [
    "fname = '/tmp/mymodel.index'\n",
    "\n",
    "# Persist index to disk\n",
    "annoy_index.save(fname)\n",
    "\n",
    "# Load index back\n",
    "import os.path\n",
    "if os.path.exists(fname):\n",
    "    annoy_index2 = AnnoyIndexer()\n",
    "    annoy_index2.load(fname)\n",
    "    annoy_index2.model = model\n",
    "\n",
    "# Results should be identical to above\n",
    "vector = wv[\"science\"]\n",
    "approximate_neighbors2 = wv.most_similar([vector], topn=11, indexer=annoy_index2)\n",
    "for neighbor in approximate_neighbors2:\n",
    "    print(neighbor)\n",
    "\n",
    "assert approximate_neighbors == approximate_neighbors2"
   ]
  },
  {
   "attachments": {},
   "cell_type": "markdown",
   "metadata": {},
   "source": [
    "# Save memory via memory-mapping indexes saved to disk"
   ]
  },
  {
   "cell_type": "code",
   "execution_count": 10,
   "metadata": {},
   "outputs": [],
   "source": [
    "# Remove verbosity from code below (if logging active)\n",
    "if LOGS:\n",
    "    logging.disable(logging.CRITICAL)\n",
    "\n",
    "from multiprocessing import Process\n",
    "import os\n",
    "import psutil"
   ]
  },
  {
   "cell_type": "code",
   "execution_count": 11,
   "metadata": {},
   "outputs": [],
   "source": [
    "model.save('./tmp/mymodel.pkl')\n",
    "\n",
    "def f(process_id):\n",
    "    print('Process Id: {}'.format(os.getpid()))\n",
    "    process = psutil.Process(os.getpid())\n",
    "    new_model = Word2Vec.load('/tmp/mymodel.pkl')\n",
    "    vector = new_model.wv[\"science\"]\n",
    "    annoy_index = AnnoyIndexer(new_model, 100)\n",
    "    approximate_neighbors = new_model.wv.most_similar([vector], topn=5, indexer=annoy_index)\n",
    "    print('\\nMemory used by process {}: {}\\n---'.format(os.getpid(), process.memory_info()))\n",
    "\n",
    "# Create and run two parallel processes to share the same index file.\n",
    "p1 = Process(target=f, args=('1',))\n",
    "p1.start()\n",
    "p1.join()\n",
    "p2 = Process(target=f, args=('2',))\n",
    "p2.start()\n",
    "p2.join()"
   ]
  },
  {
   "cell_type": "code",
   "execution_count": 12,
   "metadata": {},
   "outputs": [],
   "source": [
    "model.save('./tmp/mymodel.pkl')\n",
    "\n",
    "def f(process_id):\n",
    "    print('Process Id: {}'.format(os.getpid()))\n",
    "    process = psutil.Process(os.getpid())\n",
    "    new_model = Word2Vec.load('/tmp/mymodel.pkl')\n",
    "    vector = new_model.wv[\"science\"]\n",
    "    annoy_index = AnnoyIndexer()\n",
    "    annoy_index.load('/tmp/mymodel.index')\n",
    "    annoy_index.model = new_model\n",
    "    approximate_neighbors = new_model.wv.most_similar([vector], topn=5, indexer=annoy_index)\n",
    "    print('\\nMemory used by process {}: {}\\n---'.format(os.getpid(), process.memory_info()))\n",
    "\n",
    "# Creating and running two parallel process to share the same index file.\n",
    "p1 = Process(target=f, args=('1',))\n",
    "p1.start()\n",
    "p1.join()\n",
    "p2 = Process(target=f, args=('2',))\n",
    "p2.start()\n",
    "p2.join()"
   ]
  },
  {
   "attachments": {},
   "cell_type": "markdown",
   "metadata": {},
   "source": [
    "# Evaluate relationship of num_trees to initialization time and accuracy"
   ]
  },
  {
   "cell_type": "code",
   "execution_count": 13,
   "metadata": {},
   "outputs": [],
   "source": [
    "import matplotlib.pyplot as plt"
   ]
  },
  {
   "cell_type": "code",
   "execution_count": 14,
   "metadata": {},
   "outputs": [
    {
     "ename": "NameError",
     "evalue": "name 'normed_vectors' is not defined",
     "output_type": "error",
     "traceback": [
      "\u001b[1;31m---------------------------------------------------------------------------\u001b[0m",
      "\u001b[1;31mNameError\u001b[0m                                 Traceback (most recent call last)",
      "Cell \u001b[1;32mIn[14], line 1\u001b[0m\n\u001b[1;32m----> 1\u001b[0m exact_results \u001b[39m=\u001b[39m [element[\u001b[39m0\u001b[39m] \u001b[39mfor\u001b[39;00m element \u001b[39min\u001b[39;00m wv\u001b[39m.\u001b[39mmost_similar([normed_vectors[\u001b[39m0\u001b[39m]], topn\u001b[39m=\u001b[39m\u001b[39m100\u001b[39m)]\n\u001b[0;32m      3\u001b[0m x_values \u001b[39m=\u001b[39m []\n\u001b[0;32m      4\u001b[0m y_values_init \u001b[39m=\u001b[39m []\n",
      "\u001b[1;31mNameError\u001b[0m: name 'normed_vectors' is not defined"
     ]
    }
   ],
   "source": [
    "exact_results = [element[0] for element in wv.most_similar([normed_vectors[0]], topn=100)]\n",
    "\n",
    "x_values = []\n",
    "y_values_init = []\n",
    "y_values_accuracy = []\n",
    "\n",
    "for x in range(1, 300, 10):\n",
    "    x_values.append(x)\n",
    "    start_time = time.time()\n",
    "    annoy_index = AnnoyIndexer(model, x)\n",
    "    y_values_init.append(time.time() - start_time)\n",
    "    approximate_results = wv.most_similar([normed_vectors[0]], topn=100, indexer=annoy_index)\n",
    "    top_words = [result[0] for result in approximate_results]\n",
    "    y_values_accuracy.append(len(set(top_words).intersection(exact_results)))"
   ]
  },
  {
   "cell_type": "code",
   "execution_count": 15,
   "metadata": {},
   "outputs": [
    {
     "ename": "NameError",
     "evalue": "name 'x_values' is not defined",
     "output_type": "error",
     "traceback": [
      "\u001b[1;31m---------------------------------------------------------------------------\u001b[0m",
      "\u001b[1;31mNameError\u001b[0m                                 Traceback (most recent call last)",
      "Cell \u001b[1;32mIn[15], line 3\u001b[0m\n\u001b[0;32m      1\u001b[0m plt\u001b[39m.\u001b[39mfigure(\u001b[39m1\u001b[39m, figsize\u001b[39m=\u001b[39m(\u001b[39m12\u001b[39m, \u001b[39m6\u001b[39m))\n\u001b[0;32m      2\u001b[0m plt\u001b[39m.\u001b[39msubplot(\u001b[39m121\u001b[39m)\n\u001b[1;32m----> 3\u001b[0m plt\u001b[39m.\u001b[39mplot(x_values, y_values_init)\n\u001b[0;32m      4\u001b[0m plt\u001b[39m.\u001b[39mtitle(\u001b[39m\"\u001b[39m\u001b[39mnum_trees vs initalization time\u001b[39m\u001b[39m\"\u001b[39m)\n\u001b[0;32m      5\u001b[0m plt\u001b[39m.\u001b[39mylabel(\u001b[39m\"\u001b[39m\u001b[39mInitialization time (s)\u001b[39m\u001b[39m\"\u001b[39m)\n",
      "\u001b[1;31mNameError\u001b[0m: name 'x_values' is not defined"
     ]
    },
    {
     "data": {
      "image/png": "[encoded data removed]",
      "text/plain": [
       "<Figure size 1200x600 with 1 Axes>"
      ]
     },
     "metadata": {},
     "output_type": "display_data"
    }
   ],
   "source": [
    "plt.figure(1, figsize=(12, 6))\n",
    "plt.subplot(121)\n",
    "plt.plot(x_values, y_values_init)\n",
    "plt.title(\"num_trees vs initalization time\")\n",
    "plt.ylabel(\"Initialization time (s)\")\n",
    "plt.xlabel(\"num_trees\")\n",
    "plt.subplot(122)\n",
    "plt.plot(x_values, y_values_accuracy)\n",
    "plt.title(\"num_trees vs accuracy\")\n",
    "plt.ylabel(\"%% accuracy\")\n",
    "plt.xlabel(\"num_trees\")\n",
    "plt.tight_layout()\n",
    "plt.show()"
   ]
  },
  {
   "attachments": {},
   "cell_type": "markdown",
   "metadata": {},
   "source": [
    "# Work with Google’s word2vec files"
   ]
  },
  {
   "cell_type": "code",
   "execution_count": null,
   "metadata": {},
   "outputs": [],
   "source": [
    "# To export our model as text\n",
    "wv.save_word2vec_format('/tmp/vectors.txt', binary=False)\n",
    "\n",
    "from smart_open import open\n",
    "# View the first 3 lines of the exported file\n",
    "# The first line has the total number of entries and the vector dimension count.\n",
    "# The next lines have a key (a string) followed by its vector.\n",
    "with open('/tmp/vectors.txt', encoding='utf8') as myfile:\n",
    "    for i in range(3):\n",
    "        print(myfile.readline().strip())\n",
    "\n",
    "# To import a word2vec text model\n",
    "wv = KeyedVectors.load_word2vec_format('/tmp/vectors.txt', binary=False)\n",
    "\n",
    "# To export a model as binary\n",
    "wv.save_word2vec_format('/tmp/vectors.bin', binary=True)\n",
    "\n",
    "# To import a word2vec binary model\n",
    "wv = KeyedVectors.load_word2vec_format('/tmp/vectors.bin', binary=True)\n",
    "\n",
    "# To create and save Annoy Index from a loaded `KeyedVectors` object (with 100 trees)\n",
    "annoy_index = AnnoyIndexer(wv, 100)\n",
    "annoy_index.save('/tmp/mymodel.index')\n",
    "\n",
    "# Load and test the saved word vectors and saved Annoy index\n",
    "wv = KeyedVectors.load_word2vec_format('/tmp/vectors.bin', binary=True)\n",
    "annoy_index = AnnoyIndexer()\n",
    "annoy_index.load('/tmp/mymodel.index')\n",
    "annoy_index.model = wv\n",
    "\n",
    "vector = wv[\"cat\"]\n",
    "approximate_neighbors = wv.most_similar([vector], topn=11, indexer=annoy_index)\n",
    "# Neatly print the approximate_neighbors and their corresponding cosine similarity values\n",
    "print(\"Approximate Neighbors\")\n",
    "for neighbor in approximate_neighbors:\n",
    "    print(neighbor)\n",
    "\n",
    "normal_neighbors = wv.most_similar([vector], topn=11)\n",
    "print(\"\\nExact Neighbors\")\n",
    "for neighbor in normal_neighbors:\n",
    "    print(neighbor)"
   ]
  }
 ],
 "metadata": {
  "kernelspec": {
   "display_name": "SpacyEnv",
   "language": "python",
   "name": "python3"
  },
  "language_info": {
   "codemirror_mode": {
    "name": "ipython",
    "version": 3
   },
   "file_extension": ".py",
   "mimetype": "text/x-python",
   "name": "python",
   "nbconvert_exporter": "python",
   "pygments_lexer": "ipython3",
   "version": "3.9.16"
  },
  "orig_nbformat": 4
 },
 "nbformat": 4,
 "nbformat_minor": 2
}
