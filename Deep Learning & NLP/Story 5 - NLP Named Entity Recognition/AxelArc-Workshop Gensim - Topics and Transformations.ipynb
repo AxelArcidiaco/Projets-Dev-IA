{
 "cells": [
  {
   "attachments": {},
   "cell_type": "markdown",
   "metadata": {},
   "source": [
    "# Topics and Transformations"
   ]
  },
  {
   "cell_type": "code",
   "execution_count": 25,
   "metadata": {},
   "outputs": [],
   "source": [
    "import logging\n",
    "logging.basicConfig(format='%(asctime)s : %(levelname)s : %(message)s', level=logging.INFO)"
   ]
  },
  {
   "attachments": {},
   "cell_type": "markdown",
   "metadata": {},
   "source": [
    "# Creating the Corpus"
   ]
  },
  {
   "cell_type": "code",
   "execution_count": 26,
   "metadata": {},
   "outputs": [
    {
     "name": "stderr",
     "output_type": "stream",
     "text": [
      "2023-04-04 14:57:45,328 : INFO : adding document #0 to Dictionary<0 unique tokens: []>\n",
      "2023-04-04 14:57:45,332 : INFO : built Dictionary<12 unique tokens: ['computer', 'human', 'interface', 'response', 'survey']...> from 9 documents (total 29 corpus positions)\n",
      "2023-04-04 14:57:45,336 : INFO : Dictionary lifecycle event {'msg': \"built Dictionary<12 unique tokens: ['computer', 'human', 'interface', 'response', 'survey']...> from 9 documents (total 29 corpus positions)\", 'datetime': '2023-04-04T14:57:45.335071', 'gensim': '4.3.1', 'python': '3.9.16 (main, Mar  8 2023, 10:39:24) [MSC v.1916 64 bit (AMD64)]', 'platform': 'Windows-10-10.0.22621-SP0', 'event': 'created'}\n"
     ]
    }
   ],
   "source": [
    "from collections import defaultdict\n",
    "from gensim import corpora\n",
    "\n",
    "documents = [\n",
    "    \"Human machine interface for lab abc computer applications\",\n",
    "    \"A survey of user opinion of computer system response time\",\n",
    "    \"The EPS user interface management system\",\n",
    "    \"System and human system engineering testing of EPS\",\n",
    "    \"Relation of user perceived response time to error measurement\",\n",
    "    \"The generation of random binary unordered trees\",\n",
    "    \"The intersection graph of paths in trees\",\n",
    "    \"Graph minors IV Widths of trees and well quasi ordering\",\n",
    "    \"Graph minors A survey\",\n",
    "]\n",
    "\n",
    "# remove common words and tokenize\n",
    "stoplist = set('for a of the and to in'.split())\n",
    "texts = [\n",
    "    [word for word in document.lower().split() if word not in stoplist]\n",
    "    for document in documents\n",
    "]\n",
    "\n",
    "# remove words that appear only once\n",
    "frequency = defaultdict(int)\n",
    "for text in texts:\n",
    "    for token in text:\n",
    "        frequency[token] += 1\n",
    "\n",
    "texts = [\n",
    "    [token for token in text if frequency[token] > 1]\n",
    "    for text in texts\n",
    "]\n",
    "\n",
    "dictionary = corpora.Dictionary(texts)\n",
    "corpus = [dictionary.doc2bow(text) for text in texts]"
   ]
  },
  {
   "attachments": {},
   "cell_type": "markdown",
   "metadata": {},
   "source": [
    "# Creating a transformation"
   ]
  },
  {
   "cell_type": "code",
   "execution_count": 27,
   "metadata": {},
   "outputs": [
    {
     "name": "stderr",
     "output_type": "stream",
     "text": [
      "2023-04-04 14:57:45,433 : INFO : collecting document frequencies\n",
      "2023-04-04 14:57:45,435 : INFO : PROGRESS: processing document #0\n",
      "2023-04-04 14:57:45,440 : INFO : TfidfModel lifecycle event {'msg': 'calculated IDF weights for 9 documents and 12 features (28 matrix non-zeros)', 'datetime': '2023-04-04T14:57:45.440157', 'gensim': '4.3.1', 'python': '3.9.16 (main, Mar  8 2023, 10:39:24) [MSC v.1916 64 bit (AMD64)]', 'platform': 'Windows-10-10.0.22621-SP0', 'event': 'initialize'}\n"
     ]
    }
   ],
   "source": [
    "from gensim import models\n",
    "\n",
    "tfidf = models.TfidfModel(corpus)  # step 1 -- initialize a model"
   ]
  },
  {
   "attachments": {},
   "cell_type": "markdown",
   "metadata": {},
   "source": [
    "# Transforming vectors"
   ]
  },
  {
   "cell_type": "code",
   "execution_count": 28,
   "metadata": {},
   "outputs": [
    {
     "name": "stdout",
     "output_type": "stream",
     "text": [
      "[(0, 0.7071067811865476), (1, 0.7071067811865476)]\n"
     ]
    }
   ],
   "source": [
    "# Transformation on 1 vector\n",
    "doc_bow = [(0, 1), (1, 1)]\n",
    "print(tfidf[doc_bow])  # step 2 -- use the model to transform vectors"
   ]
  },
  {
   "cell_type": "code",
   "execution_count": 29,
   "metadata": {},
   "outputs": [
    {
     "name": "stdout",
     "output_type": "stream",
     "text": [
      "[(0, 0.5773502691896257), (1, 0.5773502691896257), (2, 0.5773502691896257)]\n",
      "[(0, 0.44424552527467476), (3, 0.44424552527467476), (4, 0.44424552527467476), (5, 0.3244870206138555), (6, 0.44424552527467476), (7, 0.3244870206138555)]\n",
      "[(2, 0.5710059809418182), (5, 0.4170757362022777), (7, 0.4170757362022777), (8, 0.5710059809418182)]\n",
      "[(1, 0.49182558987264147), (5, 0.7184811607083769), (8, 0.49182558987264147)]\n",
      "[(3, 0.6282580468670046), (6, 0.6282580468670046), (7, 0.45889394536615247)]\n",
      "[(9, 1.0)]\n",
      "[(9, 0.7071067811865475), (10, 0.7071067811865475)]\n",
      "[(9, 0.5080429008916749), (10, 0.5080429008916749), (11, 0.695546419520037)]\n",
      "[(4, 0.6282580468670046), (10, 0.45889394536615247), (11, 0.6282580468670046)]\n"
     ]
    }
   ],
   "source": [
    "# Transformation on all vectors\n",
    "corpus_tfidf = tfidf[corpus]\n",
    "for doc in corpus_tfidf:\n",
    "    print(doc)"
   ]
  },
  {
   "cell_type": "code",
   "execution_count": 30,
   "metadata": {},
   "outputs": [
    {
     "name": "stderr",
     "output_type": "stream",
     "text": [
      "2023-04-04 14:57:45,964 : INFO : using serial LSI version on this node\n",
      "2023-04-04 14:57:45,967 : INFO : updating model with new documents\n",
      "2023-04-04 14:57:45,970 : INFO : preparing a new chunk of documents\n",
      "2023-04-04 14:57:45,978 : INFO : using 100 extra samples and 2 power iterations\n",
      "2023-04-04 14:57:45,981 : INFO : 1st phase: constructing (12, 102) action matrix\n",
      "2023-04-04 14:57:45,989 : INFO : orthonormalizing (12, 102) action matrix\n",
      "2023-04-04 14:57:45,998 : INFO : 2nd phase: running dense svd on (12, 9) matrix\n",
      "2023-04-04 14:57:46,001 : INFO : computing the final decomposition\n",
      "2023-04-04 14:57:46,003 : INFO : keeping 2 factors (discarding 47.565% of energy spectrum)\n",
      "2023-04-04 14:57:46,006 : INFO : processed documents up to #9\n",
      "2023-04-04 14:57:46,010 : INFO : topic #0(1.594): 0.703*\"trees\" + 0.538*\"graph\" + 0.402*\"minors\" + 0.187*\"survey\" + 0.061*\"system\" + 0.060*\"time\" + 0.060*\"response\" + 0.058*\"user\" + 0.049*\"computer\" + 0.035*\"interface\"\n",
      "2023-04-04 14:57:46,013 : INFO : topic #1(1.476): 0.460*\"system\" + 0.373*\"user\" + 0.332*\"eps\" + 0.328*\"interface\" + 0.320*\"time\" + 0.320*\"response\" + 0.293*\"computer\" + 0.280*\"human\" + 0.171*\"survey\" + -0.161*\"trees\"\n",
      "2023-04-04 14:57:46,015 : INFO : LsiModel lifecycle event {'msg': 'trained LsiModel<num_terms=12, num_topics=2, decay=1.0, chunksize=20000> in 0.05s', 'datetime': '2023-04-04T14:57:46.015105', 'gensim': '4.3.1', 'python': '3.9.16 (main, Mar  8 2023, 10:39:24) [MSC v.1916 64 bit (AMD64)]', 'platform': 'Windows-10-10.0.22621-SP0', 'event': 'created'}\n"
     ]
    }
   ],
   "source": [
    "lsi_model = models.LsiModel(corpus_tfidf, id2word=dictionary, num_topics=2)  # initialize an LSI transformation\n",
    "corpus_lsi = lsi_model[corpus_tfidf]  # create a double wrapper over the original corpus: bow->tfidf->fold-in-lsi"
   ]
  },
  {
   "cell_type": "code",
   "execution_count": 31,
   "metadata": {},
   "outputs": [
    {
     "name": "stderr",
     "output_type": "stream",
     "text": [
      "2023-04-04 14:57:46,118 : INFO : topic #0(1.594): 0.703*\"trees\" + 0.538*\"graph\" + 0.402*\"minors\" + 0.187*\"survey\" + 0.061*\"system\" + 0.060*\"time\" + 0.060*\"response\" + 0.058*\"user\" + 0.049*\"computer\" + 0.035*\"interface\"\n",
      "2023-04-04 14:57:46,122 : INFO : topic #1(1.476): 0.460*\"system\" + 0.373*\"user\" + 0.332*\"eps\" + 0.328*\"interface\" + 0.320*\"time\" + 0.320*\"response\" + 0.293*\"computer\" + 0.280*\"human\" + 0.171*\"survey\" + -0.161*\"trees\"\n"
     ]
    },
    {
     "data": {
      "text/plain": [
       "[(0,\n",
       "  '0.703*\"trees\" + 0.538*\"graph\" + 0.402*\"minors\" + 0.187*\"survey\" + 0.061*\"system\" + 0.060*\"time\" + 0.060*\"response\" + 0.058*\"user\" + 0.049*\"computer\" + 0.035*\"interface\"'),\n",
       " (1,\n",
       "  '0.460*\"system\" + 0.373*\"user\" + 0.332*\"eps\" + 0.328*\"interface\" + 0.320*\"time\" + 0.320*\"response\" + 0.293*\"computer\" + 0.280*\"human\" + 0.171*\"survey\" + -0.161*\"trees\"')]"
      ]
     },
     "execution_count": 31,
     "metadata": {},
     "output_type": "execute_result"
    }
   ],
   "source": [
    "lsi_model.print_topics(2)"
   ]
  },
  {
   "cell_type": "code",
   "execution_count": 32,
   "metadata": {},
   "outputs": [
    {
     "name": "stdout",
     "output_type": "stream",
     "text": [
      "[(0, 0.06600783396090495), (1, 0.5200703306361846)] Human machine interface for lab abc computer applications\n",
      "[(0, 0.19667592859142694), (1, 0.7609563167700045)] A survey of user opinion of computer system response time\n",
      "[(0, 0.08992639972446581), (1, 0.7241860626752504)] The EPS user interface management system\n",
      "[(0, 0.07585847652178276), (1, 0.6320551586003422)] System and human system engineering testing of EPS\n",
      "[(0, 0.101502991849803), (1, 0.5737308483002956)] Relation of user perceived response time to error measurement\n",
      "[(0, 0.7032108939378311), (1, -0.16115180214025923)] The generation of random binary unordered trees\n",
      "[(0, 0.877478767311983), (1, -0.16758906864659562)] The intersection graph of paths in trees\n",
      "[(0, 0.9098624686818575), (1, -0.14086553628719167)] Graph minors IV Widths of trees and well quasi ordering\n",
      "[(0, 0.6165825350569278), (1, 0.05392907566389283)] Graph minors A survey\n"
     ]
    }
   ],
   "source": [
    "# both bow->tfidf and tfidf->lsi transformations are actually executed here, on the fly\n",
    "for doc, as_text in zip(corpus_lsi, documents):\n",
    "    print(doc, as_text)"
   ]
  },
  {
   "cell_type": "code",
   "execution_count": 33,
   "metadata": {},
   "outputs": [
    {
     "name": "stderr",
     "output_type": "stream",
     "text": [
      "2023-04-04 14:57:46,366 : INFO : Projection lifecycle event {'fname_or_handle': 'C:\\\\Users\\\\AxelArcidiaco\\\\AppData\\\\Local\\\\Temp\\\\model-ffcd5yap.lsi.projection', 'separately': 'None', 'sep_limit': 10485760, 'ignore': frozenset(), 'datetime': '2023-04-04T14:57:46.366003', 'gensim': '4.3.1', 'python': '3.9.16 (main, Mar  8 2023, 10:39:24) [MSC v.1916 64 bit (AMD64)]', 'platform': 'Windows-10-10.0.22621-SP0', 'event': 'saving'}\n",
      "2023-04-04 14:57:46,376 : INFO : saved C:\\Users\\AxelArcidiaco\\AppData\\Local\\Temp\\model-ffcd5yap.lsi.projection\n",
      "2023-04-04 14:57:46,377 : INFO : LsiModel lifecycle event {'fname_or_handle': 'C:\\\\Users\\\\AxelArcidiaco\\\\AppData\\\\Local\\\\Temp\\\\model-ffcd5yap.lsi', 'separately': 'None', 'sep_limit': 10485760, 'ignore': ['projection', 'dispatcher'], 'datetime': '2023-04-04T14:57:46.377996', 'gensim': '4.3.1', 'python': '3.9.16 (main, Mar  8 2023, 10:39:24) [MSC v.1916 64 bit (AMD64)]', 'platform': 'Windows-10-10.0.22621-SP0', 'event': 'saving'}\n",
      "2023-04-04 14:57:46,379 : INFO : not storing attribute projection\n",
      "2023-04-04 14:57:46,382 : INFO : not storing attribute dispatcher\n",
      "2023-04-04 14:57:46,387 : INFO : saved C:\\Users\\AxelArcidiaco\\AppData\\Local\\Temp\\model-ffcd5yap.lsi\n",
      "2023-04-04 14:57:46,390 : INFO : loading LsiModel object from C:\\Users\\AxelArcidiaco\\AppData\\Local\\Temp\\model-ffcd5yap.lsi\n",
      "2023-04-04 14:57:46,415 : INFO : loading id2word recursively from C:\\Users\\AxelArcidiaco\\AppData\\Local\\Temp\\model-ffcd5yap.lsi.id2word.* with mmap=None\n",
      "2023-04-04 14:57:46,417 : INFO : setting ignored attribute projection to None\n",
      "2023-04-04 14:57:46,419 : INFO : setting ignored attribute dispatcher to None\n",
      "2023-04-04 14:57:46,422 : INFO : LsiModel lifecycle event {'fname': 'C:\\\\Users\\\\AxelArcidiaco\\\\AppData\\\\Local\\\\Temp\\\\model-ffcd5yap.lsi', 'datetime': '2023-04-04T14:57:46.422014', 'gensim': '4.3.1', 'python': '3.9.16 (main, Mar  8 2023, 10:39:24) [MSC v.1916 64 bit (AMD64)]', 'platform': 'Windows-10-10.0.22621-SP0', 'event': 'loaded'}\n",
      "2023-04-04 14:57:46,424 : INFO : loading LsiModel object from C:\\Users\\AxelArcidiaco\\AppData\\Local\\Temp\\model-ffcd5yap.lsi.projection\n",
      "2023-04-04 14:57:46,436 : INFO : Projection lifecycle event {'fname': 'C:\\\\Users\\\\AxelArcidiaco\\\\AppData\\\\Local\\\\Temp\\\\model-ffcd5yap.lsi.projection', 'datetime': '2023-04-04T14:57:46.436204', 'gensim': '4.3.1', 'python': '3.9.16 (main, Mar  8 2023, 10:39:24) [MSC v.1916 64 bit (AMD64)]', 'platform': 'Windows-10-10.0.22621-SP0', 'event': 'loaded'}\n"
     ]
    }
   ],
   "source": [
    "import os\n",
    "import tempfile\n",
    "\n",
    "with tempfile.NamedTemporaryFile(prefix='model-', suffix='.lsi', delete=False) as tmp:\n",
    "    lsi_model.save(tmp.name)  # same for tfidf, lda, ...\n",
    "\n",
    "loaded_lsi_model = models.LsiModel.load(tmp.name)\n",
    "\n",
    "os.unlink(tmp.name)"
   ]
  },
  {
   "attachments": {},
   "cell_type": "markdown",
   "metadata": {},
   "source": [
    "# Available transformations"
   ]
  },
  {
   "cell_type": "code",
   "execution_count": 34,
   "metadata": {},
   "outputs": [
    {
     "name": "stderr",
     "output_type": "stream",
     "text": [
      "2023-04-04 14:57:46,512 : INFO : collecting document frequencies\n",
      "2023-04-04 14:57:46,515 : INFO : PROGRESS: processing document #0\n",
      "2023-04-04 14:57:46,517 : INFO : TfidfModel lifecycle event {'msg': 'calculated IDF weights for 9 documents and 12 features (28 matrix non-zeros)', 'datetime': '2023-04-04T14:57:46.517873', 'gensim': '4.3.1', 'python': '3.9.16 (main, Mar  8 2023, 10:39:24) [MSC v.1916 64 bit (AMD64)]', 'platform': 'Windows-10-10.0.22621-SP0', 'event': 'initialize'}\n"
     ]
    }
   ],
   "source": [
    "# Term Frequency * Inverse Document Frequency, Tf-Idf\n",
    "model = models.TfidfModel(corpus, normalize=True)\n",
    "vector = model[corpus[0]] "
   ]
  },
  {
   "cell_type": "code",
   "execution_count": 35,
   "metadata": {},
   "outputs": [],
   "source": [
    "# Okapi Best Matching, Okapi BM25\n",
    "model = models.OkapiBM25Model(corpus)"
   ]
  },
  {
   "cell_type": "code",
   "execution_count": 36,
   "metadata": {},
   "outputs": [
    {
     "name": "stderr",
     "output_type": "stream",
     "text": [
      "2023-04-04 14:57:46,714 : INFO : using serial LSI version on this node\n",
      "2023-04-04 14:57:46,716 : INFO : updating model with new documents\n",
      "2023-04-04 14:57:46,721 : INFO : preparing a new chunk of documents\n",
      "2023-04-04 14:57:46,723 : INFO : using 100 extra samples and 2 power iterations\n",
      "2023-04-04 14:57:46,727 : INFO : 1st phase: constructing (12, 400) action matrix\n",
      "2023-04-04 14:57:46,729 : INFO : orthonormalizing (12, 400) action matrix\n",
      "2023-04-04 14:57:46,734 : INFO : 2nd phase: running dense svd on (12, 9) matrix\n",
      "2023-04-04 14:57:46,736 : INFO : computing the final decomposition\n",
      "2023-04-04 14:57:46,738 : INFO : keeping 9 factors (discarding 0.000% of energy spectrum)\n",
      "2023-04-04 14:57:46,740 : INFO : processed documents up to #9\n",
      "2023-04-04 14:57:46,743 : INFO : topic #0(1.594): 0.703*\"trees\" + 0.538*\"graph\" + 0.402*\"minors\" + 0.187*\"survey\" + 0.061*\"system\" + 0.060*\"time\" + 0.060*\"response\" + 0.058*\"user\" + 0.049*\"computer\" + 0.035*\"interface\"\n",
      "2023-04-04 14:57:46,744 : INFO : topic #1(1.476): -0.460*\"system\" + -0.373*\"user\" + -0.332*\"eps\" + -0.328*\"interface\" + -0.320*\"time\" + -0.320*\"response\" + -0.293*\"computer\" + -0.280*\"human\" + -0.171*\"survey\" + 0.161*\"trees\"\n",
      "2023-04-04 14:57:46,746 : INFO : topic #2(1.191): 0.456*\"response\" + 0.456*\"time\" + -0.352*\"eps\" + -0.340*\"human\" + -0.318*\"interface\" + -0.277*\"system\" + 0.272*\"survey\" + 0.213*\"user\" + -0.183*\"trees\" + 0.114*\"minors\"\n",
      "2023-04-04 14:57:46,748 : INFO : topic #3(1.043): -0.583*\"trees\" + 0.556*\"minors\" + 0.399*\"survey\" + 0.256*\"graph\" + -0.211*\"response\" + -0.211*\"time\" + -0.160*\"user\" + 0.081*\"human\" + 0.038*\"interface\" + 0.035*\"system\"\n",
      "2023-04-04 14:57:46,749 : INFO : topic #4(0.884): -0.611*\"computer\" + 0.425*\"system\" + 0.420*\"eps\" + -0.354*\"interface\" + -0.339*\"human\" + 0.148*\"user\" + 0.058*\"minors\" + -0.047*\"trees\" + 0.034*\"graph\" + -0.027*\"survey\"\n",
      "2023-04-04 14:57:46,751 : INFO : LsiModel lifecycle event {'msg': 'trained LsiModel<num_terms=12, num_topics=300, decay=1.0, chunksize=20000> in 0.04s', 'datetime': '2023-04-04T14:57:46.751504', 'gensim': '4.3.1', 'python': '3.9.16 (main, Mar  8 2023, 10:39:24) [MSC v.1916 64 bit (AMD64)]', 'platform': 'Windows-10-10.0.22621-SP0', 'event': 'created'}\n"
     ]
    }
   ],
   "source": [
    "# Latent Semantic Indexing, LSI (or sometimes LSA) \n",
    "model = models.LsiModel(corpus_tfidf, id2word=dictionary, num_topics=300)"
   ]
  },
  {
   "cell_type": "code",
   "execution_count": 37,
   "metadata": {},
   "outputs": [
    {
     "ename": "NameError",
     "evalue": "name 'another_tfidf_corpus' is not defined",
     "output_type": "error",
     "traceback": [
      "\u001b[1;31m---------------------------------------------------------------------------\u001b[0m",
      "\u001b[1;31mNameError\u001b[0m                                 Traceback (most recent call last)",
      "Cell \u001b[1;32mIn[37], line 1\u001b[0m\n\u001b[1;32m----> 1\u001b[0m model\u001b[39m.\u001b[39madd_documents(another_tfidf_corpus)  \u001b[39m# now LSI has been trained on tfidf_corpus + another_tfidf_corpus\u001b[39;00m\n\u001b[0;32m      2\u001b[0m lsi_vec \u001b[39m=\u001b[39m model[tfidf_vec]  \u001b[39m# convert some new document into the LSI space, without affecting the model\u001b[39;00m\n\u001b[0;32m      4\u001b[0m model\u001b[39m.\u001b[39madd_documents(more_documents)  \u001b[39m# tfidf_corpus + another_tfidf_corpus + more_documents\u001b[39;00m\n",
      "\u001b[1;31mNameError\u001b[0m: name 'another_tfidf_corpus' is not defined"
     ]
    }
   ],
   "source": [
    "model.add_documents(another_tfidf_corpus)  # now LSI has been trained on tfidf_corpus + another_tfidf_corpus\n",
    "lsi_vec = model[tfidf_vec]  # convert some new document into the LSI space, without affecting the model\n",
    "\n",
    "model.add_documents(more_documents)  # tfidf_corpus + another_tfidf_corpus + more_documents\n",
    "lsi_vec = model[tfidf_vec]"
   ]
  },
  {
   "cell_type": "code",
   "execution_count": 38,
   "metadata": {},
   "outputs": [
    {
     "name": "stderr",
     "output_type": "stream",
     "text": [
      "2023-04-04 14:58:38,231 : INFO : no word id mapping provided; initializing from corpus, assuming identity\n",
      "2023-04-04 14:58:38,231 : INFO : constructing (500, 12) random matrix\n",
      "2023-04-04 14:58:38,231 : INFO : RpModel lifecycle event {'msg': 'created RpModel<num_terms=12, num_topics=500>', 'datetime': '2023-04-04T14:58:38.231161', 'gensim': '4.3.1', 'python': '3.9.16 (main, Mar  8 2023, 10:39:24) [MSC v.1916 64 bit (AMD64)]', 'platform': 'Windows-10-10.0.22621-SP0', 'event': 'created'}\n"
     ]
    }
   ],
   "source": [
    "# Random Projections, RP\n",
    "model = models.RpModel(corpus_tfidf, num_topics=500)"
   ]
  },
  {
   "cell_type": "code",
   "execution_count": 39,
   "metadata": {},
   "outputs": [
    {
     "name": "stderr",
     "output_type": "stream",
     "text": [
      "2023-04-04 14:58:39,032 : INFO : using symmetric alpha at 0.01\n",
      "2023-04-04 14:58:39,032 : INFO : using symmetric eta at 0.01\n",
      "2023-04-04 14:58:39,048 : INFO : using serial LDA version on this node\n",
      "2023-04-04 14:58:39,048 : INFO : running online (single-pass) LDA training, 100 topics, 1 passes over the supplied corpus of 9 documents, updating model once every 9 documents, evaluating perplexity every 9 documents, iterating 50x with a convergence threshold of 0.001000\n",
      "2023-04-04 14:58:39,048 : WARNING : too few updates, training might not converge; consider increasing the number of passes or iterations to improve accuracy\n",
      "2023-04-04 14:58:39,048 : INFO : -172.984 per-word bound, 11842321403525937976247887556881832596451899081752576.0 perplexity estimate based on a held-out corpus of 9 documents with 29 words\n",
      "2023-04-04 14:58:39,063 : INFO : PROGRESS: pass 0, at document #9/9\n",
      "2023-04-04 14:58:39,069 : INFO : topic #39 (0.010): 0.083*\"user\" + 0.083*\"system\" + 0.083*\"graph\" + 0.083*\"trees\" + 0.083*\"eps\" + 0.083*\"computer\" + 0.083*\"time\" + 0.083*\"interface\" + 0.083*\"response\" + 0.083*\"human\"\n",
      "2023-04-04 14:58:39,069 : INFO : topic #65 (0.010): 0.083*\"user\" + 0.083*\"system\" + 0.083*\"graph\" + 0.083*\"trees\" + 0.083*\"eps\" + 0.083*\"computer\" + 0.083*\"time\" + 0.083*\"interface\" + 0.083*\"response\" + 0.083*\"human\"\n",
      "2023-04-04 14:58:39,069 : INFO : topic #41 (0.010): 0.083*\"user\" + 0.083*\"system\" + 0.083*\"graph\" + 0.083*\"trees\" + 0.083*\"eps\" + 0.083*\"computer\" + 0.083*\"time\" + 0.083*\"interface\" + 0.083*\"response\" + 0.083*\"human\"\n",
      "2023-04-04 14:58:39,079 : INFO : topic #57 (0.010): 0.083*\"user\" + 0.083*\"system\" + 0.083*\"graph\" + 0.083*\"trees\" + 0.083*\"eps\" + 0.083*\"computer\" + 0.083*\"time\" + 0.083*\"interface\" + 0.083*\"response\" + 0.083*\"human\"\n",
      "2023-04-04 14:58:39,079 : INFO : topic #17 (0.010): 0.083*\"user\" + 0.083*\"system\" + 0.083*\"graph\" + 0.083*\"trees\" + 0.083*\"eps\" + 0.083*\"computer\" + 0.083*\"time\" + 0.083*\"interface\" + 0.083*\"response\" + 0.083*\"human\"\n",
      "2023-04-04 14:58:39,079 : INFO : topic diff=88.049561, rho=1.000000\n",
      "2023-04-04 14:58:39,079 : INFO : LdaModel lifecycle event {'msg': 'trained LdaModel<num_terms=12, num_topics=100, decay=0.5, chunksize=2000> in 0.03s', 'datetime': '2023-04-04T14:58:39.079604', 'gensim': '4.3.1', 'python': '3.9.16 (main, Mar  8 2023, 10:39:24) [MSC v.1916 64 bit (AMD64)]', 'platform': 'Windows-10-10.0.22621-SP0', 'event': 'created'}\n"
     ]
    }
   ],
   "source": [
    "# Latent Dirichlet Allocation, LDA\n",
    "model = models.LdaModel(corpus, id2word=dictionary, num_topics=100)"
   ]
  },
  {
   "cell_type": "code",
   "execution_count": 40,
   "metadata": {},
   "outputs": [
    {
     "name": "stderr",
     "output_type": "stream",
     "text": [
      "2023-04-04 14:58:39,888 : INFO : (0, '0.211*computer + 0.154*eps + 0.151*response + 0.132*survey + 0.100*human + 0.082*minors + 0.055*interface + 0.042*user + 0.038*system + 0.024*time')\n",
      "2023-04-04 14:58:39,903 : INFO : (1, '0.222*time + 0.160*computer + 0.152*human + 0.114*minors + 0.111*survey + 0.054*trees + 0.051*response + 0.045*graph + 0.038*user + 0.031*eps')\n",
      "2023-04-04 14:58:39,903 : INFO : (2, '0.240*eps + 0.141*graph + 0.128*trees + 0.122*interface + 0.100*survey + 0.090*time + 0.065*minors + 0.039*response + 0.032*system + 0.024*computer')\n",
      "2023-04-04 14:58:39,903 : INFO : (3, '0.224*time + 0.156*eps + 0.128*user + 0.115*survey + 0.109*computer + 0.064*minors + 0.056*graph + 0.038*human + 0.037*interface + 0.026*response')\n",
      "2023-04-04 14:58:39,903 : INFO : (4, '0.258*minors + 0.134*human + 0.097*interface + 0.092*user + 0.085*system + 0.084*survey + 0.083*time + 0.060*trees + 0.051*eps + 0.043*response')\n",
      "2023-04-04 14:58:39,903 : INFO : (5, '0.284*eps + 0.273*minors + 0.095*computer + 0.076*interface + 0.060*user + 0.056*graph + 0.052*survey + 0.026*time + 0.025*trees + 0.024*response')\n",
      "2023-04-04 14:58:39,903 : INFO : (6, '0.238*time + 0.178*eps + 0.163*response + 0.112*user + 0.091*system + 0.049*human + 0.048*interface + 0.033*survey + 0.033*graph + 0.033*computer')\n",
      "2023-04-04 14:58:39,903 : INFO : (7, '0.248*human + 0.225*user + 0.140*computer + 0.097*interface + 0.077*response + 0.060*time + 0.056*trees + 0.034*eps + 0.022*minors + 0.020*survey')\n",
      "2023-04-04 14:58:39,919 : INFO : (8, '0.192*minors + 0.154*interface + 0.121*time + 0.089*human + 0.077*trees + 0.077*system + 0.072*user + 0.061*eps + 0.047*graph + 0.043*response')\n",
      "2023-04-04 14:58:39,919 : INFO : (9, '0.328*user + 0.181*computer + 0.118*trees + 0.072*system + 0.068*response + 0.051*graph + 0.048*minors + 0.035*time + 0.033*eps + 0.032*interface')\n",
      "2023-04-04 14:58:39,919 : INFO : (10, '0.212*response + 0.186*survey + 0.160*interface + 0.087*system + 0.081*trees + 0.079*computer + 0.074*time + 0.073*user + 0.034*minors + 0.010*human')\n",
      "2023-04-04 14:58:39,929 : INFO : (11, '0.200*user + 0.195*system + 0.166*time + 0.079*trees + 0.077*human + 0.076*response + 0.072*computer + 0.048*eps + 0.042*minors + 0.034*graph')\n",
      "2023-04-04 14:58:39,929 : INFO : (12, '0.363*trees + 0.150*eps + 0.133*system + 0.099*computer + 0.082*human + 0.048*response + 0.041*survey + 0.022*interface + 0.018*minors + 0.018*user')\n",
      "2023-04-04 14:58:39,935 : INFO : (13, '0.212*system + 0.178*minors + 0.143*eps + 0.093*graph + 0.083*human + 0.082*user + 0.067*response + 0.051*interface + 0.038*trees + 0.037*survey')\n",
      "2023-04-04 14:58:39,936 : INFO : (14, '0.209*trees + 0.176*graph + 0.163*user + 0.132*eps + 0.086*interface + 0.081*survey + 0.066*human + 0.028*computer + 0.026*response + 0.014*time')\n",
      "2023-04-04 14:58:39,939 : INFO : (15, '0.243*system + 0.182*graph + 0.141*time + 0.118*human + 0.071*survey + 0.067*interface + 0.061*response + 0.038*trees + 0.029*minors + 0.027*computer')\n",
      "2023-04-04 14:58:39,941 : INFO : (16, '0.249*trees + 0.192*interface + 0.153*system + 0.104*graph + 0.058*user + 0.057*survey + 0.057*eps + 0.046*human + 0.043*response + 0.031*computer')\n",
      "2023-04-04 14:58:39,944 : INFO : (17, '0.270*survey + 0.195*trees + 0.112*interface + 0.087*response + 0.075*user + 0.068*time + 0.066*minors + 0.063*system + 0.045*eps + 0.014*computer')\n",
      "2023-04-04 14:58:39,947 : INFO : (18, '0.436*user + 0.162*trees + 0.107*minors + 0.075*graph + 0.068*survey + 0.050*human + 0.038*eps + 0.034*time + 0.025*response + 0.005*system')\n",
      "2023-04-04 14:58:39,948 : INFO : (19, '0.201*human + 0.177*user + 0.169*minors + 0.135*computer + 0.097*time + 0.070*system + 0.048*survey + 0.036*eps + 0.034*trees + 0.022*response')\n"
     ]
    }
   ],
   "source": [
    "# Hierarchical Dirichlet Process, HDP\n",
    "model = models.HdpModel(corpus, id2word=dictionary)"
   ]
  }
 ],
 "metadata": {
  "kernelspec": {
   "display_name": "SpacyEnv",
   "language": "python",
   "name": "python3"
  },
  "language_info": {
   "codemirror_mode": {
    "name": "ipython",
    "version": 3
   },
   "file_extension": ".py",
   "mimetype": "text/x-python",
   "name": "python",
   "nbconvert_exporter": "python",
   "pygments_lexer": "ipython3",
   "version": "3.9.16"
  },
  "orig_nbformat": 4
 },
 "nbformat": 4,
 "nbformat_minor": 2
}
