{
 "cells": [
  {
   "attachments": {},
   "cell_type": "markdown",
   "metadata": {},
   "source": [
    "# Topics and Transformations"
   ]
  },
  {
   "cell_type": "code",
   "execution_count": 1,
   "metadata": {},
   "outputs": [],
   "source": [
    "import logging\n",
    "logging.basicConfig(format='%(asctime)s : %(levelname)s : %(message)s', level=logging.INFO)"
   ]
  },
  {
   "attachments": {},
   "cell_type": "markdown",
   "metadata": {},
   "source": [
    "# Creating the Corpus"
   ]
  },
  {
   "cell_type": "code",
   "execution_count": 2,
   "metadata": {},
   "outputs": [
    {
     "name": "stderr",
     "output_type": "stream",
     "text": [
      "2023-04-04 11:20:19,132 : INFO : adding document #0 to Dictionary<0 unique tokens: []>\n",
      "2023-04-04 11:20:19,134 : INFO : built Dictionary<12 unique tokens: ['computer', 'human', 'interface', 'response', 'survey']...> from 9 documents (total 29 corpus positions)\n",
      "2023-04-04 11:20:19,136 : INFO : Dictionary lifecycle event {'msg': \"built Dictionary<12 unique tokens: ['computer', 'human', 'interface', 'response', 'survey']...> from 9 documents (total 29 corpus positions)\", 'datetime': '2023-04-04T11:20:19.136846', 'gensim': '4.3.1', 'python': '3.9.16 (main, Mar  8 2023, 10:39:24) [MSC v.1916 64 bit (AMD64)]', 'platform': 'Windows-10-10.0.22621-SP0', 'event': 'created'}\n"
     ]
    }
   ],
   "source": [
    "from collections import defaultdict\n",
    "from gensim import corpora\n",
    "\n",
    "documents = [\n",
    "    \"Human machine interface for lab abc computer applications\",\n",
    "    \"A survey of user opinion of computer system response time\",\n",
    "    \"The EPS user interface management system\",\n",
    "    \"System and human system engineering testing of EPS\",\n",
    "    \"Relation of user perceived response time to error measurement\",\n",
    "    \"The generation of random binary unordered trees\",\n",
    "    \"The intersection graph of paths in trees\",\n",
    "    \"Graph minors IV Widths of trees and well quasi ordering\",\n",
    "    \"Graph minors A survey\",\n",
    "]\n",
    "\n",
    "# remove common words and tokenize\n",
    "stoplist = set('for a of the and to in'.split())\n",
    "texts = [\n",
    "    [word for word in document.lower().split() if word not in stoplist]\n",
    "    for document in documents\n",
    "]\n",
    "\n",
    "# remove words that appear only once\n",
    "frequency = defaultdict(int)\n",
    "for text in texts:\n",
    "    for token in text:\n",
    "        frequency[token] += 1\n",
    "\n",
    "texts = [\n",
    "    [token for token in text if frequency[token] > 1]\n",
    "    for text in texts\n",
    "]\n",
    "\n",
    "dictionary = corpora.Dictionary(texts)\n",
    "corpus = [dictionary.doc2bow(text) for text in texts]"
   ]
  },
  {
   "attachments": {},
   "cell_type": "markdown",
   "metadata": {},
   "source": [
    "# Creating a transformation"
   ]
  },
  {
   "cell_type": "code",
   "execution_count": 3,
   "metadata": {},
   "outputs": [
    {
     "name": "stderr",
     "output_type": "stream",
     "text": [
      "2023-04-04 11:20:36,526 : INFO : collecting document frequencies\n",
      "2023-04-04 11:20:36,530 : INFO : PROGRESS: processing document #0\n",
      "2023-04-04 11:20:36,532 : INFO : TfidfModel lifecycle event {'msg': 'calculated IDF weights for 9 documents and 12 features (28 matrix non-zeros)', 'datetime': '2023-04-04T11:20:36.532387', 'gensim': '4.3.1', 'python': '3.9.16 (main, Mar  8 2023, 10:39:24) [MSC v.1916 64 bit (AMD64)]', 'platform': 'Windows-10-10.0.22621-SP0', 'event': 'initialize'}\n"
     ]
    }
   ],
   "source": [
    "from gensim import models\n",
    "\n",
    "tfidf = models.TfidfModel(corpus)  # step 1 -- initialize a model"
   ]
  },
  {
   "attachments": {},
   "cell_type": "markdown",
   "metadata": {},
   "source": [
    "# Transforming vectors"
   ]
  },
  {
   "cell_type": "code",
   "execution_count": 4,
   "metadata": {},
   "outputs": [
    {
     "name": "stdout",
     "output_type": "stream",
     "text": [
      "[(0, 0.7071067811865476), (1, 0.7071067811865476)]\n"
     ]
    }
   ],
   "source": [
    "# Transformation on 1 vector\n",
    "doc_bow = [(0, 1), (1, 1)]\n",
    "print(tfidf[doc_bow])  # step 2 -- use the model to transform vectors"
   ]
  },
  {
   "cell_type": "code",
   "execution_count": 5,
   "metadata": {},
   "outputs": [
    {
     "name": "stdout",
     "output_type": "stream",
     "text": [
      "[(0, 0.5773502691896257), (1, 0.5773502691896257), (2, 0.5773502691896257)]\n",
      "[(0, 0.44424552527467476), (3, 0.44424552527467476), (4, 0.44424552527467476), (5, 0.3244870206138555), (6, 0.44424552527467476), (7, 0.3244870206138555)]\n",
      "[(2, 0.5710059809418182), (5, 0.4170757362022777), (7, 0.4170757362022777), (8, 0.5710059809418182)]\n",
      "[(1, 0.49182558987264147), (5, 0.7184811607083769), (8, 0.49182558987264147)]\n",
      "[(3, 0.6282580468670046), (6, 0.6282580468670046), (7, 0.45889394536615247)]\n",
      "[(9, 1.0)]\n",
      "[(9, 0.7071067811865475), (10, 0.7071067811865475)]\n",
      "[(9, 0.5080429008916749), (10, 0.5080429008916749), (11, 0.695546419520037)]\n",
      "[(4, 0.6282580468670046), (10, 0.45889394536615247), (11, 0.6282580468670046)]\n"
     ]
    }
   ],
   "source": [
    "# Transformation on all vectors\n",
    "corpus_tfidf = tfidf[corpus]\n",
    "for doc in corpus_tfidf:\n",
    "    print(doc)"
   ]
  },
  {
   "cell_type": "code",
   "execution_count": 6,
   "metadata": {},
   "outputs": [
    {
     "name": "stderr",
     "output_type": "stream",
     "text": [
      "2023-04-04 11:22:23,403 : INFO : using serial LSI version on this node\n",
      "2023-04-04 11:22:23,413 : INFO : updating model with new documents\n",
      "2023-04-04 11:22:23,418 : INFO : preparing a new chunk of documents\n",
      "2023-04-04 11:22:23,421 : INFO : using 100 extra samples and 2 power iterations\n",
      "2023-04-04 11:22:23,423 : INFO : 1st phase: constructing (12, 102) action matrix\n",
      "2023-04-04 11:22:23,429 : INFO : orthonormalizing (12, 102) action matrix\n",
      "2023-04-04 11:22:23,433 : INFO : 2nd phase: running dense svd on (12, 9) matrix\n",
      "2023-04-04 11:22:23,436 : INFO : computing the final decomposition\n",
      "2023-04-04 11:22:23,439 : INFO : keeping 2 factors (discarding 47.565% of energy spectrum)\n",
      "2023-04-04 11:22:23,484 : INFO : processed documents up to #9\n",
      "2023-04-04 11:22:23,490 : INFO : topic #0(1.594): 0.703*\"trees\" + 0.538*\"graph\" + 0.402*\"minors\" + 0.187*\"survey\" + 0.061*\"system\" + 0.060*\"time\" + 0.060*\"response\" + 0.058*\"user\" + 0.049*\"computer\" + 0.035*\"interface\"\n",
      "2023-04-04 11:22:23,493 : INFO : topic #1(1.476): 0.460*\"system\" + 0.373*\"user\" + 0.332*\"eps\" + 0.328*\"interface\" + 0.320*\"time\" + 0.320*\"response\" + 0.293*\"computer\" + 0.280*\"human\" + 0.171*\"survey\" + -0.161*\"trees\"\n",
      "2023-04-04 11:22:23,495 : INFO : LsiModel lifecycle event {'msg': 'trained LsiModel<num_terms=12, num_topics=2, decay=1.0, chunksize=20000> in 0.08s', 'datetime': '2023-04-04T11:22:23.495022', 'gensim': '4.3.1', 'python': '3.9.16 (main, Mar  8 2023, 10:39:24) [MSC v.1916 64 bit (AMD64)]', 'platform': 'Windows-10-10.0.22621-SP0', 'event': 'created'}\n"
     ]
    }
   ],
   "source": [
    "lsi_model = models.LsiModel(corpus_tfidf, id2word=dictionary, num_topics=2)  # initialize an LSI transformation\n",
    "corpus_lsi = lsi_model[corpus_tfidf]  # create a double wrapper over the original corpus: bow->tfidf->fold-in-lsi"
   ]
  },
  {
   "cell_type": "code",
   "execution_count": 7,
   "metadata": {},
   "outputs": [
    {
     "name": "stderr",
     "output_type": "stream",
     "text": [
      "2023-04-04 11:22:34,951 : INFO : topic #0(1.594): 0.703*\"trees\" + 0.538*\"graph\" + 0.402*\"minors\" + 0.187*\"survey\" + 0.061*\"system\" + 0.060*\"time\" + 0.060*\"response\" + 0.058*\"user\" + 0.049*\"computer\" + 0.035*\"interface\"\n",
      "2023-04-04 11:22:34,954 : INFO : topic #1(1.476): 0.460*\"system\" + 0.373*\"user\" + 0.332*\"eps\" + 0.328*\"interface\" + 0.320*\"time\" + 0.320*\"response\" + 0.293*\"computer\" + 0.280*\"human\" + 0.171*\"survey\" + -0.161*\"trees\"\n"
     ]
    },
    {
     "data": {
      "text/plain": [
       "[(0,\n",
       "  '0.703*\"trees\" + 0.538*\"graph\" + 0.402*\"minors\" + 0.187*\"survey\" + 0.061*\"system\" + 0.060*\"time\" + 0.060*\"response\" + 0.058*\"user\" + 0.049*\"computer\" + 0.035*\"interface\"'),\n",
       " (1,\n",
       "  '0.460*\"system\" + 0.373*\"user\" + 0.332*\"eps\" + 0.328*\"interface\" + 0.320*\"time\" + 0.320*\"response\" + 0.293*\"computer\" + 0.280*\"human\" + 0.171*\"survey\" + -0.161*\"trees\"')]"
      ]
     },
     "execution_count": 7,
     "metadata": {},
     "output_type": "execute_result"
    }
   ],
   "source": [
    "lsi_model.print_topics(2)"
   ]
  },
  {
   "cell_type": "code",
   "execution_count": 8,
   "metadata": {},
   "outputs": [
    {
     "name": "stdout",
     "output_type": "stream",
     "text": [
      "[(0, 0.06600783396090823), (1, 0.5200703306361845)] Human machine interface for lab abc computer applications\n",
      "[(0, 0.19667592859143246), (1, 0.760956316770003)] A survey of user opinion of computer system response time\n",
      "[(0, 0.08992639972447164), (1, 0.72418606267525)] The EPS user interface management system\n",
      "[(0, 0.07585847652178741), (1, 0.6320551586003424)] System and human system engineering testing of EPS\n",
      "[(0, 0.10150299184980752), (1, 0.5737308483002942)] Relation of user perceived response time to error measurement\n",
      "[(0, 0.7032108939378289), (1, -0.16115180214026456)] The generation of random binary unordered trees\n",
      "[(0, 0.8774787673119806), (1, -0.16758906864660217)] The intersection graph of paths in trees\n",
      "[(0, 0.9098624686818554), (1, -0.14086553628719833)] Graph minors IV Widths of trees and well quasi ordering\n",
      "[(0, 0.6165825350569278), (1, 0.05392907566388862)] Graph minors A survey\n"
     ]
    }
   ],
   "source": [
    "# both bow->tfidf and tfidf->lsi transformations are actually executed here, on the fly\n",
    "for doc, as_text in zip(corpus_lsi, documents):\n",
    "    print(doc, as_text)"
   ]
  },
  {
   "cell_type": "code",
   "execution_count": 9,
   "metadata": {},
   "outputs": [
    {
     "name": "stderr",
     "output_type": "stream",
     "text": [
      "2023-04-04 11:23:18,989 : INFO : Projection lifecycle event {'fname_or_handle': 'C:\\\\Users\\\\AxelArcidiaco\\\\AppData\\\\Local\\\\Temp\\\\model-xpqk9fka.lsi.projection', 'separately': 'None', 'sep_limit': 10485760, 'ignore': frozenset(), 'datetime': '2023-04-04T11:23:18.989591', 'gensim': '4.3.1', 'python': '3.9.16 (main, Mar  8 2023, 10:39:24) [MSC v.1916 64 bit (AMD64)]', 'platform': 'Windows-10-10.0.22621-SP0', 'event': 'saving'}\n",
      "2023-04-04 11:23:18,994 : INFO : saved C:\\Users\\AxelArcidiaco\\AppData\\Local\\Temp\\model-xpqk9fka.lsi.projection\n",
      "2023-04-04 11:23:18,997 : INFO : LsiModel lifecycle event {'fname_or_handle': 'C:\\\\Users\\\\AxelArcidiaco\\\\AppData\\\\Local\\\\Temp\\\\model-xpqk9fka.lsi', 'separately': 'None', 'sep_limit': 10485760, 'ignore': ['projection', 'dispatcher'], 'datetime': '2023-04-04T11:23:18.997148', 'gensim': '4.3.1', 'python': '3.9.16 (main, Mar  8 2023, 10:39:24) [MSC v.1916 64 bit (AMD64)]', 'platform': 'Windows-10-10.0.22621-SP0', 'event': 'saving'}\n",
      "2023-04-04 11:23:19,000 : INFO : not storing attribute projection\n",
      "2023-04-04 11:23:19,002 : INFO : not storing attribute dispatcher\n",
      "2023-04-04 11:23:19,007 : INFO : saved C:\\Users\\AxelArcidiaco\\AppData\\Local\\Temp\\model-xpqk9fka.lsi\n",
      "2023-04-04 11:23:19,009 : INFO : loading LsiModel object from C:\\Users\\AxelArcidiaco\\AppData\\Local\\Temp\\model-xpqk9fka.lsi\n",
      "2023-04-04 11:23:19,030 : INFO : loading id2word recursively from C:\\Users\\AxelArcidiaco\\AppData\\Local\\Temp\\model-xpqk9fka.lsi.id2word.* with mmap=None\n",
      "2023-04-04 11:23:19,031 : INFO : setting ignored attribute projection to None\n",
      "2023-04-04 11:23:19,034 : INFO : setting ignored attribute dispatcher to None\n",
      "2023-04-04 11:23:19,036 : INFO : LsiModel lifecycle event {'fname': 'C:\\\\Users\\\\AxelArcidiaco\\\\AppData\\\\Local\\\\Temp\\\\model-xpqk9fka.lsi', 'datetime': '2023-04-04T11:23:19.036523', 'gensim': '4.3.1', 'python': '3.9.16 (main, Mar  8 2023, 10:39:24) [MSC v.1916 64 bit (AMD64)]', 'platform': 'Windows-10-10.0.22621-SP0', 'event': 'loaded'}\n",
      "2023-04-04 11:23:19,038 : INFO : loading LsiModel object from C:\\Users\\AxelArcidiaco\\AppData\\Local\\Temp\\model-xpqk9fka.lsi.projection\n",
      "2023-04-04 11:23:19,050 : INFO : Projection lifecycle event {'fname': 'C:\\\\Users\\\\AxelArcidiaco\\\\AppData\\\\Local\\\\Temp\\\\model-xpqk9fka.lsi.projection', 'datetime': '2023-04-04T11:23:19.050074', 'gensim': '4.3.1', 'python': '3.9.16 (main, Mar  8 2023, 10:39:24) [MSC v.1916 64 bit (AMD64)]', 'platform': 'Windows-10-10.0.22621-SP0', 'event': 'loaded'}\n"
     ]
    }
   ],
   "source": [
    "import os\n",
    "import tempfile\n",
    "\n",
    "with tempfile.NamedTemporaryFile(prefix='model-', suffix='.lsi', delete=False) as tmp:\n",
    "    lsi_model.save(tmp.name)  # same for tfidf, lda, ...\n",
    "\n",
    "loaded_lsi_model = models.LsiModel.load(tmp.name)\n",
    "\n",
    "os.unlink(tmp.name)"
   ]
  },
  {
   "attachments": {},
   "cell_type": "markdown",
   "metadata": {},
   "source": [
    "# Available transformations"
   ]
  },
  {
   "cell_type": "code",
   "execution_count": 14,
   "metadata": {},
   "outputs": [
    {
     "name": "stderr",
     "output_type": "stream",
     "text": [
      "2023-04-04 11:26:27,725 : INFO : collecting document frequencies\n",
      "2023-04-04 11:26:27,727 : INFO : PROGRESS: processing document #0\n",
      "2023-04-04 11:26:27,730 : INFO : TfidfModel lifecycle event {'msg': 'calculated IDF weights for 9 documents and 12 features (28 matrix non-zeros)', 'datetime': '2023-04-04T11:26:27.730356', 'gensim': '4.3.1', 'python': '3.9.16 (main, Mar  8 2023, 10:39:24) [MSC v.1916 64 bit (AMD64)]', 'platform': 'Windows-10-10.0.22621-SP0', 'event': 'initialize'}\n"
     ]
    }
   ],
   "source": [
    "# Term Frequency * Inverse Document Frequency, Tf-Idf\n",
    "model = models.TfidfModel(corpus, normalize=True)\n",
    "vector = model[corpus[0]] "
   ]
  },
  {
   "cell_type": "code",
   "execution_count": 15,
   "metadata": {},
   "outputs": [],
   "source": [
    "# Okapi Best Matching, Okapi BM25\n",
    "model = models.OkapiBM25Model(corpus)"
   ]
  },
  {
   "cell_type": "code",
   "execution_count": 20,
   "metadata": {},
   "outputs": [
    {
     "name": "stderr",
     "output_type": "stream",
     "text": [
      "2023-04-04 11:29:13,280 : INFO : using serial LSI version on this node\n",
      "2023-04-04 11:29:13,282 : INFO : updating model with new documents\n",
      "2023-04-04 11:29:13,285 : INFO : preparing a new chunk of documents\n",
      "2023-04-04 11:29:13,288 : INFO : using 100 extra samples and 2 power iterations\n",
      "2023-04-04 11:29:13,292 : INFO : 1st phase: constructing (12, 400) action matrix\n",
      "2023-04-04 11:29:13,296 : INFO : orthonormalizing (12, 400) action matrix\n",
      "2023-04-04 11:29:13,300 : INFO : 2nd phase: running dense svd on (12, 9) matrix\n",
      "2023-04-04 11:29:13,301 : INFO : computing the final decomposition\n",
      "2023-04-04 11:29:13,302 : INFO : keeping 9 factors (discarding 0.000% of energy spectrum)\n",
      "2023-04-04 11:29:13,307 : INFO : processed documents up to #9\n",
      "2023-04-04 11:29:13,308 : INFO : topic #0(1.594): 0.703*\"trees\" + 0.538*\"graph\" + 0.402*\"minors\" + 0.187*\"survey\" + 0.061*\"system\" + 0.060*\"response\" + 0.060*\"time\" + 0.058*\"user\" + 0.049*\"computer\" + 0.035*\"interface\"\n",
      "2023-04-04 11:29:13,310 : INFO : topic #1(1.476): -0.460*\"system\" + -0.373*\"user\" + -0.332*\"eps\" + -0.328*\"interface\" + -0.320*\"response\" + -0.320*\"time\" + -0.293*\"computer\" + -0.280*\"human\" + -0.171*\"survey\" + 0.161*\"trees\"\n",
      "2023-04-04 11:29:13,312 : INFO : topic #2(1.191): 0.456*\"response\" + 0.456*\"time\" + -0.352*\"eps\" + -0.340*\"human\" + -0.318*\"interface\" + -0.277*\"system\" + 0.272*\"survey\" + 0.213*\"user\" + -0.183*\"trees\" + 0.114*\"minors\"\n",
      "2023-04-04 11:29:13,317 : INFO : topic #3(1.043): -0.583*\"trees\" + 0.556*\"minors\" + 0.399*\"survey\" + 0.256*\"graph\" + -0.211*\"time\" + -0.211*\"response\" + -0.160*\"user\" + 0.081*\"human\" + 0.038*\"interface\" + 0.035*\"system\"\n",
      "2023-04-04 11:29:13,319 : INFO : topic #4(0.884): -0.611*\"computer\" + 0.425*\"system\" + 0.420*\"eps\" + -0.354*\"interface\" + -0.339*\"human\" + 0.148*\"user\" + 0.058*\"minors\" + -0.047*\"trees\" + 0.034*\"graph\" + -0.027*\"survey\"\n",
      "2023-04-04 11:29:13,321 : INFO : LsiModel lifecycle event {'msg': 'trained LsiModel<num_terms=12, num_topics=300, decay=1.0, chunksize=20000> in 0.04s', 'datetime': '2023-04-04T11:29:13.321960', 'gensim': '4.3.1', 'python': '3.9.16 (main, Mar  8 2023, 10:39:24) [MSC v.1916 64 bit (AMD64)]', 'platform': 'Windows-10-10.0.22621-SP0', 'event': 'created'}\n"
     ]
    }
   ],
   "source": [
    "# Latent Semantic Indexing, LSI (or sometimes LSA) \n",
    "model = models.LsiModel(corpus_tfidf, id2word=dictionary, num_topics=300)"
   ]
  },
  {
   "cell_type": "code",
   "execution_count": 22,
   "metadata": {},
   "outputs": [
    {
     "name": "stderr",
     "output_type": "stream",
     "text": [
      "2023-04-04 11:29:36,425 : INFO : no word id mapping provided; initializing from corpus, assuming identity\n",
      "2023-04-04 11:29:36,427 : INFO : constructing (500, 12) random matrix\n",
      "2023-04-04 11:29:36,432 : INFO : RpModel lifecycle event {'msg': 'created RpModel<num_terms=12, num_topics=500>', 'datetime': '2023-04-04T11:29:36.432798', 'gensim': '4.3.1', 'python': '3.9.16 (main, Mar  8 2023, 10:39:24) [MSC v.1916 64 bit (AMD64)]', 'platform': 'Windows-10-10.0.22621-SP0', 'event': 'created'}\n"
     ]
    }
   ],
   "source": [
    "# Random Projections, RP\n",
    "model = models.RpModel(corpus_tfidf, num_topics=500)"
   ]
  },
  {
   "cell_type": "code",
   "execution_count": 23,
   "metadata": {},
   "outputs": [
    {
     "name": "stderr",
     "output_type": "stream",
     "text": [
      "2023-04-04 11:29:47,749 : INFO : using symmetric alpha at 0.01\n",
      "2023-04-04 11:29:47,752 : INFO : using symmetric eta at 0.01\n",
      "2023-04-04 11:29:47,753 : INFO : using serial LDA version on this node\n",
      "2023-04-04 11:29:47,758 : INFO : running online (single-pass) LDA training, 100 topics, 1 passes over the supplied corpus of 9 documents, updating model once every 9 documents, evaluating perplexity every 9 documents, iterating 50x with a convergence threshold of 0.001000\n",
      "2023-04-04 11:29:47,759 : WARNING : too few updates, training might not converge; consider increasing the number of passes or iterations to improve accuracy\n",
      "2023-04-04 11:29:47,774 : INFO : -185.885 per-word bound, 90561921191083318696447146088765140805030721748698398720.0 perplexity estimate based on a held-out corpus of 9 documents with 29 words\n",
      "2023-04-04 11:29:47,776 : INFO : PROGRESS: pass 0, at document #9/9\n",
      "2023-04-04 11:29:47,783 : INFO : topic #41 (0.010): 0.083*\"user\" + 0.083*\"system\" + 0.083*\"graph\" + 0.083*\"trees\" + 0.083*\"eps\" + 0.083*\"computer\" + 0.083*\"time\" + 0.083*\"interface\" + 0.083*\"response\" + 0.083*\"human\"\n",
      "2023-04-04 11:29:47,785 : INFO : topic #93 (0.010): 0.083*\"user\" + 0.083*\"system\" + 0.083*\"graph\" + 0.083*\"trees\" + 0.083*\"eps\" + 0.083*\"computer\" + 0.083*\"time\" + 0.083*\"interface\" + 0.083*\"response\" + 0.083*\"human\"\n",
      "2023-04-04 11:29:47,788 : INFO : topic #17 (0.010): 0.083*\"user\" + 0.083*\"system\" + 0.083*\"graph\" + 0.083*\"trees\" + 0.083*\"eps\" + 0.083*\"computer\" + 0.083*\"time\" + 0.083*\"interface\" + 0.083*\"response\" + 0.083*\"human\"\n",
      "2023-04-04 11:29:47,790 : INFO : topic #40 (0.010): 0.083*\"user\" + 0.083*\"system\" + 0.083*\"graph\" + 0.083*\"trees\" + 0.083*\"eps\" + 0.083*\"computer\" + 0.083*\"time\" + 0.083*\"interface\" + 0.083*\"response\" + 0.083*\"human\"\n",
      "2023-04-04 11:29:47,792 : INFO : topic #1 (0.010): 0.083*\"user\" + 0.083*\"system\" + 0.083*\"graph\" + 0.083*\"trees\" + 0.083*\"eps\" + 0.083*\"computer\" + 0.083*\"time\" + 0.083*\"interface\" + 0.083*\"response\" + 0.083*\"human\"\n",
      "2023-04-04 11:29:47,793 : INFO : topic diff=88.050446, rho=1.000000\n",
      "2023-04-04 11:29:47,797 : INFO : LdaModel lifecycle event {'msg': 'trained LdaModel<num_terms=12, num_topics=100, decay=0.5, chunksize=2000> in 0.04s', 'datetime': '2023-04-04T11:29:47.797735', 'gensim': '4.3.1', 'python': '3.9.16 (main, Mar  8 2023, 10:39:24) [MSC v.1916 64 bit (AMD64)]', 'platform': 'Windows-10-10.0.22621-SP0', 'event': 'created'}\n"
     ]
    }
   ],
   "source": [
    "# Latent Dirichlet Allocation, LDA\n",
    "model = models.LdaModel(corpus, id2word=dictionary, num_topics=100)"
   ]
  },
  {
   "cell_type": "code",
   "execution_count": 24,
   "metadata": {},
   "outputs": [
    {
     "name": "stderr",
     "output_type": "stream",
     "text": [
      "2023-04-04 11:30:17,253 : INFO : (0, '0.154*trees + 0.151*human + 0.133*survey + 0.121*time + 0.117*system + 0.092*eps + 0.079*user + 0.065*graph + 0.039*interface + 0.024*response')\n",
      "2023-04-04 11:30:17,255 : INFO : (1, '0.202*system + 0.191*user + 0.170*response + 0.106*trees + 0.084*human + 0.074*graph + 0.043*eps + 0.039*interface + 0.033*time + 0.030*minors')\n",
      "2023-04-04 11:30:17,258 : INFO : (2, '0.285*minors + 0.256*human + 0.141*interface + 0.095*computer + 0.082*eps + 0.052*graph + 0.031*system + 0.023*response + 0.022*user + 0.011*survey')\n",
      "2023-04-04 11:30:17,260 : INFO : (3, '0.166*computer + 0.119*graph + 0.116*minors + 0.096*human + 0.086*time + 0.083*trees + 0.070*system + 0.069*eps + 0.066*user + 0.058*interface')\n",
      "2023-04-04 11:30:17,262 : INFO : (4, '0.214*survey + 0.189*computer + 0.138*response + 0.111*time + 0.090*system + 0.087*interface + 0.078*user + 0.036*trees + 0.027*human + 0.016*eps')\n",
      "2023-04-04 11:30:17,265 : INFO : (5, '0.317*trees + 0.182*time + 0.126*human + 0.099*survey + 0.086*user + 0.064*interface + 0.058*system + 0.022*graph + 0.021*computer + 0.013*response')\n",
      "2023-04-04 11:30:17,266 : INFO : (6, '0.270*eps + 0.167*interface + 0.126*graph + 0.095*response + 0.091*human + 0.088*survey + 0.065*time + 0.045*user + 0.027*minors + 0.021*computer')\n",
      "2023-04-04 11:30:17,268 : INFO : (7, '0.200*human + 0.182*computer + 0.123*response + 0.119*time + 0.080*minors + 0.077*eps + 0.076*system + 0.070*survey + 0.027*graph + 0.021*trees')\n",
      "2023-04-04 11:30:17,271 : INFO : (8, '0.214*response + 0.164*survey + 0.152*graph + 0.130*system + 0.081*trees + 0.075*human + 0.061*time + 0.028*interface + 0.027*computer + 0.025*minors')\n",
      "2023-04-04 11:30:17,273 : INFO : (9, '0.184*eps + 0.133*interface + 0.120*minors + 0.112*human + 0.090*response + 0.085*user + 0.073*time + 0.058*trees + 0.053*system + 0.041*graph')\n",
      "2023-04-04 11:30:17,274 : INFO : (10, '0.460*trees + 0.204*user + 0.082*system + 0.077*graph + 0.051*human + 0.032*response + 0.023*minors + 0.021*survey + 0.016*computer + 0.011*eps')\n",
      "2023-04-04 11:30:17,276 : INFO : (11, '0.246*eps + 0.171*interface + 0.145*survey + 0.127*system + 0.078*minors + 0.069*time + 0.037*trees + 0.035*human + 0.033*graph + 0.029*user')\n",
      "2023-04-04 11:30:17,277 : INFO : (12, '0.193*trees + 0.190*response + 0.179*user + 0.159*graph + 0.125*time + 0.070*human + 0.034*eps + 0.024*minors + 0.013*computer + 0.006*survey')\n",
      "2023-04-04 11:30:17,280 : INFO : (13, '0.158*graph + 0.138*interface + 0.134*minors + 0.118*trees + 0.096*human + 0.078*eps + 0.078*survey + 0.072*user + 0.047*system + 0.031*time')\n",
      "2023-04-04 11:30:17,281 : INFO : (14, '0.475*interface + 0.093*user + 0.092*graph + 0.077*trees + 0.055*human + 0.043*system + 0.039*response + 0.037*computer + 0.037*survey + 0.035*eps')\n",
      "2023-04-04 11:30:17,283 : INFO : (15, '0.216*time + 0.157*minors + 0.143*graph + 0.103*survey + 0.098*human + 0.086*user + 0.045*interface + 0.044*eps + 0.040*system + 0.034*trees')\n",
      "2023-04-04 11:30:17,285 : INFO : (16, '0.301*user + 0.170*trees + 0.132*survey + 0.084*system + 0.081*graph + 0.079*human + 0.064*response + 0.045*eps + 0.029*minors + 0.007*computer')\n",
      "2023-04-04 11:30:17,292 : INFO : (17, '0.218*trees + 0.187*graph + 0.159*response + 0.154*minors + 0.110*time + 0.095*eps + 0.035*human + 0.020*user + 0.009*survey + 0.008*system')\n",
      "2023-04-04 11:30:17,294 : INFO : (18, '0.200*user + 0.156*system + 0.125*interface + 0.117*computer + 0.103*response + 0.074*survey + 0.069*minors + 0.057*human + 0.042*trees + 0.041*eps')\n",
      "2023-04-04 11:30:17,296 : INFO : (19, '0.229*system + 0.183*minors + 0.127*survey + 0.110*response + 0.082*time + 0.074*eps + 0.065*human + 0.048*user + 0.047*graph + 0.017*trees')\n"
     ]
    }
   ],
   "source": [
    "# Hierarchical Dirichlet Process, HDP\n",
    "model = models.HdpModel(corpus, id2word=dictionary)"
   ]
  }
 ],
 "metadata": {
  "kernelspec": {
   "display_name": "SpacyEnv",
   "language": "python",
   "name": "python3"
  },
  "language_info": {
   "codemirror_mode": {
    "name": "ipython",
    "version": 3
   },
   "file_extension": ".py",
   "mimetype": "text/x-python",
   "name": "python",
   "nbconvert_exporter": "python",
   "pygments_lexer": "ipython3",
   "version": "3.9.16"
  },
  "orig_nbformat": 4
 },
 "nbformat": 4,
 "nbformat_minor": 2
}
