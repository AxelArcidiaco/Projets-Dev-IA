{
 "cells": [
  {
   "attachments": {},
   "cell_type": "markdown",
   "metadata": {},
   "source": [
    "# Doc2Vec Model"
   ]
  },
  {
   "cell_type": "code",
   "execution_count": 1,
   "metadata": {},
   "outputs": [],
   "source": [
    "import logging\n",
    "logging.basicConfig(format='%(asctime)s : %(levelname)s : %(message)s', level=logging.INFO)"
   ]
  },
  {
   "attachments": {},
   "cell_type": "markdown",
   "metadata": {},
   "source": [
    "# Prepare the Training and Test Data"
   ]
  },
  {
   "cell_type": "code",
   "execution_count": 2,
   "metadata": {},
   "outputs": [],
   "source": [
    "import os\n",
    "import gensim\n",
    "# Set file names for train and test data\n",
    "test_data_dir = os.path.join(gensim.__path__[0], 'test', 'test_data')\n",
    "lee_train_file = os.path.join(test_data_dir, 'lee_background.cor')\n",
    "lee_test_file = os.path.join(test_data_dir, 'lee.cor')"
   ]
  },
  {
   "attachments": {},
   "cell_type": "markdown",
   "metadata": {},
   "source": [
    "# Define a Function to Read and Preprocess Text"
   ]
  },
  {
   "cell_type": "code",
   "execution_count": 3,
   "metadata": {},
   "outputs": [],
   "source": [
    "import smart_open\n",
    "\n",
    "def read_corpus(fname, tokens_only=False):\n",
    "    with smart_open.open(fname, encoding=\"iso-8859-1\") as f:\n",
    "        for i, line in enumerate(f):\n",
    "            tokens = gensim.utils.simple_preprocess(line)\n",
    "            if tokens_only:\n",
    "                yield tokens\n",
    "            else:\n",
    "                # For training data, add tags\n",
    "                yield gensim.models.doc2vec.TaggedDocument(tokens, [i])\n",
    "\n",
    "train_corpus = list(read_corpus(lee_train_file))\n",
    "test_corpus = list(read_corpus(lee_test_file, tokens_only=True))"
   ]
  },
  {
   "cell_type": "code",
   "execution_count": 4,
   "metadata": {},
   "outputs": [
    {
     "name": "stdout",
     "output_type": "stream",
     "text": [
      "[TaggedDocument(words=['hundreds', 'of', 'people', 'have', 'been', 'forced', 'to', 'vacate', 'their', 'homes', 'in', 'the', 'southern', 'highlands', 'of', 'new', 'south', 'wales', 'as', 'strong', 'winds', 'today', 'pushed', 'huge', 'bushfire', 'towards', 'the', 'town', 'of', 'hill', 'top', 'new', 'blaze', 'near', 'goulburn', 'south', 'west', 'of', 'sydney', 'has', 'forced', 'the', 'closure', 'of', 'the', 'hume', 'highway', 'at', 'about', 'pm', 'aedt', 'marked', 'deterioration', 'in', 'the', 'weather', 'as', 'storm', 'cell', 'moved', 'east', 'across', 'the', 'blue', 'mountains', 'forced', 'authorities', 'to', 'make', 'decision', 'to', 'evacuate', 'people', 'from', 'homes', 'in', 'outlying', 'streets', 'at', 'hill', 'top', 'in', 'the', 'new', 'south', 'wales', 'southern', 'highlands', 'an', 'estimated', 'residents', 'have', 'left', 'their', 'homes', 'for', 'nearby', 'mittagong', 'the', 'new', 'south', 'wales', 'rural', 'fire', 'service', 'says', 'the', 'weather', 'conditions', 'which', 'caused', 'the', 'fire', 'to', 'burn', 'in', 'finger', 'formation', 'have', 'now', 'eased', 'and', 'about', 'fire', 'units', 'in', 'and', 'around', 'hill', 'top', 'are', 'optimistic', 'of', 'defending', 'all', 'properties', 'as', 'more', 'than', 'blazes', 'burn', 'on', 'new', 'year', 'eve', 'in', 'new', 'south', 'wales', 'fire', 'crews', 'have', 'been', 'called', 'to', 'new', 'fire', 'at', 'gunning', 'south', 'of', 'goulburn', 'while', 'few', 'details', 'are', 'available', 'at', 'this', 'stage', 'fire', 'authorities', 'says', 'it', 'has', 'closed', 'the', 'hume', 'highway', 'in', 'both', 'directions', 'meanwhile', 'new', 'fire', 'in', 'sydney', 'west', 'is', 'no', 'longer', 'threatening', 'properties', 'in', 'the', 'cranebrook', 'area', 'rain', 'has', 'fallen', 'in', 'some', 'parts', 'of', 'the', 'illawarra', 'sydney', 'the', 'hunter', 'valley', 'and', 'the', 'north', 'coast', 'but', 'the', 'bureau', 'of', 'meteorology', 'claire', 'richards', 'says', 'the', 'rain', 'has', 'done', 'little', 'to', 'ease', 'any', 'of', 'the', 'hundred', 'fires', 'still', 'burning', 'across', 'the', 'state', 'the', 'falls', 'have', 'been', 'quite', 'isolated', 'in', 'those', 'areas', 'and', 'generally', 'the', 'falls', 'have', 'been', 'less', 'than', 'about', 'five', 'millimetres', 'she', 'said', 'in', 'some', 'places', 'really', 'not', 'significant', 'at', 'all', 'less', 'than', 'millimetre', 'so', 'there', 'hasn', 'been', 'much', 'relief', 'as', 'far', 'as', 'rain', 'is', 'concerned', 'in', 'fact', 'they', 've', 'probably', 'hampered', 'the', 'efforts', 'of', 'the', 'firefighters', 'more', 'because', 'of', 'the', 'wind', 'gusts', 'that', 'are', 'associated', 'with', 'those', 'thunderstorms'], tags=[0]), TaggedDocument(words=['indian', 'security', 'forces', 'have', 'shot', 'dead', 'eight', 'suspected', 'militants', 'in', 'night', 'long', 'encounter', 'in', 'southern', 'kashmir', 'the', 'shootout', 'took', 'place', 'at', 'dora', 'village', 'some', 'kilometers', 'south', 'of', 'the', 'kashmiri', 'summer', 'capital', 'srinagar', 'the', 'deaths', 'came', 'as', 'pakistani', 'police', 'arrested', 'more', 'than', 'two', 'dozen', 'militants', 'from', 'extremist', 'groups', 'accused', 'of', 'staging', 'an', 'attack', 'on', 'india', 'parliament', 'india', 'has', 'accused', 'pakistan', 'based', 'lashkar', 'taiba', 'and', 'jaish', 'mohammad', 'of', 'carrying', 'out', 'the', 'attack', 'on', 'december', 'at', 'the', 'behest', 'of', 'pakistani', 'military', 'intelligence', 'military', 'tensions', 'have', 'soared', 'since', 'the', 'raid', 'with', 'both', 'sides', 'massing', 'troops', 'along', 'their', 'border', 'and', 'trading', 'tit', 'for', 'tat', 'diplomatic', 'sanctions', 'yesterday', 'pakistan', 'announced', 'it', 'had', 'arrested', 'lashkar', 'taiba', 'chief', 'hafiz', 'mohammed', 'saeed', 'police', 'in', 'karachi', 'say', 'it', 'is', 'likely', 'more', 'raids', 'will', 'be', 'launched', 'against', 'the', 'two', 'groups', 'as', 'well', 'as', 'other', 'militant', 'organisations', 'accused', 'of', 'targetting', 'india', 'military', 'tensions', 'between', 'india', 'and', 'pakistan', 'have', 'escalated', 'to', 'level', 'not', 'seen', 'since', 'their', 'war'], tags=[1])]\n"
     ]
    }
   ],
   "source": [
    "print(train_corpus[:2])"
   ]
  },
  {
   "cell_type": "code",
   "execution_count": 5,
   "metadata": {},
   "outputs": [
    {
     "name": "stdout",
     "output_type": "stream",
     "text": [
      "[['the', 'national', 'executive', 'of', 'the', 'strife', 'torn', 'democrats', 'last', 'night', 'appointed', 'little', 'known', 'west', 'australian', 'senator', 'brian', 'greig', 'as', 'interim', 'leader', 'shock', 'move', 'likely', 'to', 'provoke', 'further', 'conflict', 'between', 'the', 'party', 'senators', 'and', 'its', 'organisation', 'in', 'move', 'to', 'reassert', 'control', 'over', 'the', 'party', 'seven', 'senators', 'the', 'national', 'executive', 'last', 'night', 'rejected', 'aden', 'ridgeway', 'bid', 'to', 'become', 'interim', 'leader', 'in', 'favour', 'of', 'senator', 'greig', 'supporter', 'of', 'deposed', 'leader', 'natasha', 'stott', 'despoja', 'and', 'an', 'outspoken', 'gay', 'rights', 'activist'], ['cash', 'strapped', 'financial', 'services', 'group', 'amp', 'has', 'shelved', 'million', 'plan', 'to', 'buy', 'shares', 'back', 'from', 'investors', 'and', 'will', 'raise', 'million', 'in', 'fresh', 'capital', 'after', 'profits', 'crashed', 'in', 'the', 'six', 'months', 'to', 'june', 'chief', 'executive', 'paul', 'batchelor', 'said', 'the', 'result', 'was', 'solid', 'in', 'what', 'he', 'described', 'as', 'the', 'worst', 'conditions', 'for', 'stock', 'markets', 'in', 'years', 'amp', 'half', 'year', 'profit', 'sank', 'per', 'cent', 'to', 'million', 'or', 'share', 'as', 'australia', 'largest', 'investor', 'and', 'fund', 'manager', 'failed', 'to', 'hit', 'projected', 'per', 'cent', 'earnings', 'growth', 'targets', 'and', 'was', 'battered', 'by', 'falling', 'returns', 'on', 'share', 'markets']]\n"
     ]
    }
   ],
   "source": [
    "print(test_corpus[:2])"
   ]
  },
  {
   "attachments": {},
   "cell_type": "markdown",
   "metadata": {},
   "source": [
    "# Training the Model"
   ]
  },
  {
   "cell_type": "code",
   "execution_count": 6,
   "metadata": {},
   "outputs": [
    {
     "name": "stderr",
     "output_type": "stream",
     "text": [
      "2023-04-04 14:23:59,700 : INFO : Doc2Vec lifecycle event {'params': 'Doc2Vec<dm/m,d50,n5,w5,mc2,s0.001,t3>', 'datetime': '2023-04-04T14:23:59.700019', 'gensim': '4.3.1', 'python': '3.9.16 (main, Mar  8 2023, 10:39:24) [MSC v.1916 64 bit (AMD64)]', 'platform': 'Windows-10-10.0.22621-SP0', 'event': 'created'}\n"
     ]
    }
   ],
   "source": [
    "model = gensim.models.doc2vec.Doc2Vec(vector_size=50, min_count=2, epochs=40)"
   ]
  },
  {
   "cell_type": "code",
   "execution_count": 7,
   "metadata": {},
   "outputs": [
    {
     "name": "stderr",
     "output_type": "stream",
     "text": [
      "2023-04-04 14:24:08,973 : INFO : collecting all words and their counts\n",
      "2023-04-04 14:24:08,975 : INFO : PROGRESS: at example #0, processed 0 words (0 words/s), 0 word types, 0 tags\n",
      "2023-04-04 14:24:09,001 : INFO : collected 6981 word types and 300 unique tags from a corpus of 300 examples and 58152 words\n",
      "2023-04-04 14:24:09,003 : INFO : Creating a fresh vocabulary\n",
      "2023-04-04 14:24:09,050 : INFO : Doc2Vec lifecycle event {'msg': 'effective_min_count=2 retains 3955 unique words (56.65% of original 6981, drops 3026)', 'datetime': '2023-04-04T14:24:09.050643', 'gensim': '4.3.1', 'python': '3.9.16 (main, Mar  8 2023, 10:39:24) [MSC v.1916 64 bit (AMD64)]', 'platform': 'Windows-10-10.0.22621-SP0', 'event': 'prepare_vocab'}\n",
      "2023-04-04 14:24:09,052 : INFO : Doc2Vec lifecycle event {'msg': 'effective_min_count=2 leaves 55126 word corpus (94.80% of original 58152, drops 3026)', 'datetime': '2023-04-04T14:24:09.052629', 'gensim': '4.3.1', 'python': '3.9.16 (main, Mar  8 2023, 10:39:24) [MSC v.1916 64 bit (AMD64)]', 'platform': 'Windows-10-10.0.22621-SP0', 'event': 'prepare_vocab'}\n",
      "2023-04-04 14:24:09,101 : INFO : deleting the raw counts dictionary of 6981 items\n",
      "2023-04-04 14:24:09,103 : INFO : sample=0.001 downsamples 46 most-common words\n",
      "2023-04-04 14:24:09,106 : INFO : Doc2Vec lifecycle event {'msg': 'downsampling leaves estimated 42390.98914085061 word corpus (76.9%% of prior 55126)', 'datetime': '2023-04-04T14:24:09.106408', 'gensim': '4.3.1', 'python': '3.9.16 (main, Mar  8 2023, 10:39:24) [MSC v.1916 64 bit (AMD64)]', 'platform': 'Windows-10-10.0.22621-SP0', 'event': 'prepare_vocab'}\n",
      "2023-04-04 14:24:09,200 : INFO : estimated required memory for 3955 words and 50 dimensions: 3679500 bytes\n",
      "2023-04-04 14:24:09,202 : INFO : resetting layer weights\n"
     ]
    }
   ],
   "source": [
    "model.build_vocab(train_corpus)"
   ]
  },
  {
   "cell_type": "code",
   "execution_count": 8,
   "metadata": {},
   "outputs": [
    {
     "name": "stdout",
     "output_type": "stream",
     "text": [
      "Word 'penalty' appeared 4 times in the training corpus.\n"
     ]
    }
   ],
   "source": [
    "print(f\"Word 'penalty' appeared {model.wv.get_vecattr('penalty', 'count')} times in the training corpus.\")"
   ]
  },
  {
   "cell_type": "code",
   "execution_count": 9,
   "metadata": {},
   "outputs": [
    {
     "name": "stderr",
     "output_type": "stream",
     "text": [
      "2023-04-04 14:24:29,190 : INFO : Doc2Vec lifecycle event {'msg': 'training model with 3 workers on 3955 vocabulary and 50 features, using sg=0 hs=0 sample=0.001 negative=5 window=5 shrink_windows=True', 'datetime': '2023-04-04T14:24:29.190043', 'gensim': '4.3.1', 'python': '3.9.16 (main, Mar  8 2023, 10:39:24) [MSC v.1916 64 bit (AMD64)]', 'platform': 'Windows-10-10.0.22621-SP0', 'event': 'train'}\n",
      "2023-04-04 14:24:29,333 : INFO : EPOCH 0: training on 58152 raw words (42704 effective words) took 0.1s, 315828 effective words/s\n",
      "2023-04-04 14:24:29,451 : INFO : EPOCH 1: training on 58152 raw words (42628 effective words) took 0.1s, 381048 effective words/s\n",
      "2023-04-04 14:24:29,558 : INFO : EPOCH 2: training on 58152 raw words (42635 effective words) took 0.1s, 417747 effective words/s\n",
      "2023-04-04 14:24:29,658 : INFO : EPOCH 3: training on 58152 raw words (42634 effective words) took 0.1s, 451664 effective words/s\n",
      "2023-04-04 14:24:29,764 : INFO : EPOCH 4: training on 58152 raw words (42633 effective words) took 0.1s, 429187 effective words/s\n",
      "2023-04-04 14:24:29,919 : INFO : EPOCH 5: training on 58152 raw words (42662 effective words) took 0.1s, 285932 effective words/s\n",
      "2023-04-04 14:24:30,101 : INFO : EPOCH 6: training on 58152 raw words (42680 effective words) took 0.2s, 261192 effective words/s\n",
      "2023-04-04 14:24:30,218 : INFO : EPOCH 7: training on 58152 raw words (42662 effective words) took 0.1s, 395781 effective words/s\n",
      "2023-04-04 14:24:30,336 : INFO : EPOCH 8: training on 58152 raw words (42738 effective words) took 0.1s, 374475 effective words/s\n",
      "2023-04-04 14:24:30,455 : INFO : EPOCH 9: training on 58152 raw words (42774 effective words) took 0.1s, 375953 effective words/s\n",
      "2023-04-04 14:24:30,576 : INFO : EPOCH 10: training on 58152 raw words (42805 effective words) took 0.1s, 366915 effective words/s\n",
      "2023-04-04 14:24:30,691 : INFO : EPOCH 11: training on 58152 raw words (42697 effective words) took 0.1s, 395743 effective words/s\n",
      "2023-04-04 14:24:30,814 : INFO : EPOCH 12: training on 58152 raw words (42720 effective words) took 0.1s, 369942 effective words/s\n",
      "2023-04-04 14:24:30,935 : INFO : EPOCH 13: training on 58152 raw words (42731 effective words) took 0.1s, 371902 effective words/s\n",
      "2023-04-04 14:24:31,066 : INFO : EPOCH 14: training on 58152 raw words (42663 effective words) took 0.1s, 340785 effective words/s\n",
      "2023-04-04 14:24:31,180 : INFO : EPOCH 15: training on 58152 raw words (42730 effective words) took 0.1s, 395613 effective words/s\n",
      "2023-04-04 14:24:31,308 : INFO : EPOCH 16: training on 58152 raw words (42703 effective words) took 0.1s, 349203 effective words/s\n",
      "2023-04-04 14:24:31,407 : INFO : EPOCH 17: training on 58152 raw words (42652 effective words) took 0.1s, 460824 effective words/s\n",
      "2023-04-04 14:24:31,535 : INFO : EPOCH 18: training on 58152 raw words (42568 effective words) took 0.1s, 357912 effective words/s\n",
      "2023-04-04 14:24:31,643 : INFO : EPOCH 19: training on 58152 raw words (42651 effective words) took 0.1s, 413574 effective words/s\n",
      "2023-04-04 14:24:31,757 : INFO : EPOCH 20: training on 58152 raw words (42593 effective words) took 0.1s, 393440 effective words/s\n",
      "2023-04-04 14:24:31,873 : INFO : EPOCH 21: training on 58152 raw words (42619 effective words) took 0.1s, 398652 effective words/s\n",
      "2023-04-04 14:24:31,991 : INFO : EPOCH 22: training on 58152 raw words (42655 effective words) took 0.1s, 392762 effective words/s\n",
      "2023-04-04 14:24:32,106 : INFO : EPOCH 23: training on 58152 raw words (42656 effective words) took 0.1s, 430489 effective words/s\n",
      "2023-04-04 14:24:32,200 : INFO : EPOCH 24: training on 58152 raw words (42732 effective words) took 0.1s, 491674 effective words/s\n",
      "2023-04-04 14:24:32,306 : INFO : EPOCH 25: training on 58152 raw words (42663 effective words) took 0.1s, 423538 effective words/s\n",
      "2023-04-04 14:24:32,406 : INFO : EPOCH 26: training on 58152 raw words (42634 effective words) took 0.1s, 459809 effective words/s\n",
      "2023-04-04 14:24:32,535 : INFO : EPOCH 27: training on 58152 raw words (42829 effective words) took 0.1s, 350284 effective words/s\n",
      "2023-04-04 14:24:32,637 : INFO : EPOCH 28: training on 58152 raw words (42688 effective words) took 0.1s, 441872 effective words/s\n",
      "2023-04-04 14:24:32,747 : INFO : EPOCH 29: training on 58152 raw words (42691 effective words) took 0.1s, 410145 effective words/s\n",
      "2023-04-04 14:24:32,851 : INFO : EPOCH 30: training on 58152 raw words (42733 effective words) took 0.1s, 460533 effective words/s\n",
      "2023-04-04 14:24:32,952 : INFO : EPOCH 31: training on 58152 raw words (42678 effective words) took 0.1s, 441997 effective words/s\n",
      "2023-04-04 14:24:33,060 : INFO : EPOCH 32: training on 58152 raw words (42732 effective words) took 0.1s, 428356 effective words/s\n",
      "2023-04-04 14:24:33,161 : INFO : EPOCH 33: training on 58152 raw words (42700 effective words) took 0.1s, 446117 effective words/s\n",
      "2023-04-04 14:24:33,272 : INFO : EPOCH 34: training on 58152 raw words (42574 effective words) took 0.1s, 402135 effective words/s\n",
      "2023-04-04 14:24:33,367 : INFO : EPOCH 35: training on 58152 raw words (42773 effective words) took 0.1s, 481722 effective words/s\n",
      "2023-04-04 14:24:33,459 : INFO : EPOCH 36: training on 58152 raw words (42605 effective words) took 0.1s, 488863 effective words/s\n",
      "2023-04-04 14:24:33,559 : INFO : EPOCH 37: training on 58152 raw words (42786 effective words) took 0.1s, 455853 effective words/s\n",
      "2023-04-04 14:24:33,654 : INFO : EPOCH 38: training on 58152 raw words (42678 effective words) took 0.1s, 475145 effective words/s\n",
      "2023-04-04 14:24:33,763 : INFO : EPOCH 39: training on 58152 raw words (42725 effective words) took 0.1s, 416455 effective words/s\n",
      "2023-04-04 14:24:33,764 : INFO : Doc2Vec lifecycle event {'msg': 'training on 2326080 raw words (1707414 effective words) took 4.6s, 373408 effective words/s', 'datetime': '2023-04-04T14:24:33.764881', 'gensim': '4.3.1', 'python': '3.9.16 (main, Mar  8 2023, 10:39:24) [MSC v.1916 64 bit (AMD64)]', 'platform': 'Windows-10-10.0.22621-SP0', 'event': 'train'}\n"
     ]
    }
   ],
   "source": [
    "model.train(train_corpus, total_examples=model.corpus_count, epochs=model.epochs)"
   ]
  },
  {
   "cell_type": "code",
   "execution_count": 10,
   "metadata": {},
   "outputs": [
    {
     "name": "stdout",
     "output_type": "stream",
     "text": [
      "[-1.8845938e-01 -2.6537803e-01 -5.5914130e-02  2.5016531e-01\n",
      " -1.7719235e-01 -4.7731183e-02  2.9580062e-02  6.0472861e-02\n",
      " -2.5424814e-01 -1.6215636e-01  1.4758591e-01 -6.8410158e-02\n",
      " -4.0138811e-03 -4.0330701e-02 -9.8202035e-02 -5.8546420e-02\n",
      "  2.0185548e-01  2.4245872e-01  1.3970153e-01 -1.4516649e-01\n",
      "  5.5887435e-02  5.0207246e-02  7.6410420e-02  5.5191953e-02\n",
      "  9.9016510e-02 -2.3333257e-04 -1.5753821e-01  3.1018430e-02\n",
      " -1.3048492e-01  4.0233448e-02  4.2507154e-01  6.8206400e-02\n",
      "  1.5263835e-01  7.6525342e-03  2.1054219e-01  3.7167244e-02\n",
      "  4.5424066e-02 -2.3485456e-01 -1.0403177e-01 -1.6196141e-02\n",
      " -9.2698485e-03 -4.1289590e-02 -6.0131565e-02 -1.1096421e-01\n",
      "  1.4979953e-01  1.6080467e-02 -5.1995084e-02 -1.1647032e-01\n",
      "  9.1443807e-02 -5.7463502e-03]\n"
     ]
    }
   ],
   "source": [
    "vector = model.infer_vector(['only', 'you', 'can', 'prevent', 'forest', 'fires'])\n",
    "print(vector)"
   ]
  },
  {
   "attachments": {},
   "cell_type": "markdown",
   "metadata": {},
   "source": [
    "# Assessing the Model"
   ]
  },
  {
   "cell_type": "code",
   "execution_count": 11,
   "metadata": {},
   "outputs": [],
   "source": [
    "ranks = []\n",
    "second_ranks = []\n",
    "for doc_id in range(len(train_corpus)):\n",
    "    inferred_vector = model.infer_vector(train_corpus[doc_id].words)\n",
    "    sims = model.dv.most_similar([inferred_vector], topn=len(model.dv))\n",
    "    rank = [docid for docid, sim in sims].index(doc_id)\n",
    "    ranks.append(rank)\n",
    "\n",
    "    second_ranks.append(sims[1])"
   ]
  },
  {
   "cell_type": "code",
   "execution_count": 12,
   "metadata": {},
   "outputs": [
    {
     "name": "stdout",
     "output_type": "stream",
     "text": [
      "Counter({0: 292, 1: 8})\n"
     ]
    }
   ],
   "source": [
    "import collections\n",
    "\n",
    "counter = collections.Counter(ranks)\n",
    "print(counter)"
   ]
  },
  {
   "cell_type": "code",
   "execution_count": 13,
   "metadata": {},
   "outputs": [
    {
     "name": "stdout",
     "output_type": "stream",
     "text": [
      "Document (299): «australia will take on france in the doubles rubber of the davis cup tennis final today with the tie levelled at wayne arthurs and todd woodbridge are scheduled to lead australia in the doubles against cedric pioline and fabrice santoro however changes can be made to the line up up to an hour before the match and australian team captain john fitzgerald suggested he might do just that we ll make team appraisal of the whole situation go over the pros and cons and make decision french team captain guy forget says he will not make changes but does not know what to expect from australia todd is the best doubles player in the world right now so expect him to play he said would probably use wayne arthurs but don know what to expect really pat rafter salvaged australia davis cup campaign yesterday with win in the second singles match rafter overcame an arm injury to defeat french number one sebastien grosjean in three sets the australian says he is happy with his form it not very pretty tennis there isn too many consistent bounces you are playing like said bit of classic old grass court rafter said rafter levelled the score after lleyton hewitt shock five set loss to nicholas escude in the first singles rubber but rafter says he felt no added pressure after hewitt defeat knew had good team to back me up even if we were down he said knew could win on the last day know the boys can win doubles so even if we were down still feel we are good enough team to win and vice versa they are good enough team to beat us as well»\n",
      "\n",
      "SIMILAR/DISSIMILAR DOCS PER MODEL Doc2Vec<dm/m,d50,n5,w5,mc2,s0.001,t3>:\n",
      "\n",
      "MOST (299, 0.9515048861503601): «australia will take on france in the doubles rubber of the davis cup tennis final today with the tie levelled at wayne arthurs and todd woodbridge are scheduled to lead australia in the doubles against cedric pioline and fabrice santoro however changes can be made to the line up up to an hour before the match and australian team captain john fitzgerald suggested he might do just that we ll make team appraisal of the whole situation go over the pros and cons and make decision french team captain guy forget says he will not make changes but does not know what to expect from australia todd is the best doubles player in the world right now so expect him to play he said would probably use wayne arthurs but don know what to expect really pat rafter salvaged australia davis cup campaign yesterday with win in the second singles match rafter overcame an arm injury to defeat french number one sebastien grosjean in three sets the australian says he is happy with his form it not very pretty tennis there isn too many consistent bounces you are playing like said bit of classic old grass court rafter said rafter levelled the score after lleyton hewitt shock five set loss to nicholas escude in the first singles rubber but rafter says he felt no added pressure after hewitt defeat knew had good team to back me up even if we were down he said knew could win on the last day know the boys can win doubles so even if we were down still feel we are good enough team to win and vice versa they are good enough team to beat us as well»\n",
      "\n",
      "SECOND-MOST (112, 0.8169116973876953): «australian cricket captain steve waugh has supported fast bowler brett lee after criticism of his intimidatory bowling to the south african tailenders in the first test in adelaide earlier this month lee was fined for giving new zealand tailender shane bond an unsportsmanlike send off during the third test in perth waugh says tailenders should not be protected from short pitched bowling these days you re earning big money you ve got responsibility to learn how to bat he said mean there no times like years ago when it was not professional and sort of bowlers code these days you re professional our batsmen work very hard at their batting and expect other tailenders to do likewise meanwhile waugh says his side will need to guard against complacency after convincingly winning the first test by runs waugh says despite the dominance of his side in the first test south africa can never be taken lightly it only one test match out of three or six whichever way you want to look at it so there lot of work to go he said but it nice to win the first battle definitely it gives us lot of confidence going into melbourne you know the big crowd there we love playing in front of the boxing day crowd so that will be to our advantage as well south africa begins four day match against new south wales in sydney on thursday in the lead up to the boxing day test veteran fast bowler allan donald will play in the warm up match and is likely to take his place in the team for the second test south african captain shaun pollock expects much better performance from his side in the melbourne test we still believe that we didn play to our full potential so if we can improve on our aspects the output we put out on the field will be lot better and we still believe we have side that is good enough to beat australia on our day he said»\n",
      "\n",
      "MEDIAN (149, 0.2481360137462616): «the federal opposition says the unemployment rate has fallen because many job seekers have given up looking for work employment minister tony abbott says there is degree of volatility in the labour market with significant increase in october figures and significant fall in the november unemployment rate but mr abbott says the latest figures are encouraging and he is not overly concerned by reduction in the number of people looking for work from month to month these figures bounce around but the participation rate even with this month drop is still at high historical records he said labor leader simon crean says jobs were created last month but people stopped searching for work the unemployment rate hasn come down because jobs are being created it has come down because people have given up on looking for jobs»\n",
      "\n",
      "LEAST (216, -0.12337891012430191): «senior taliban official confirmed the islamic militia would begin handing over its last bastion of kandahar to pashtun tribal leaders on friday this agreement was that taliban should surrender kandahar peacefully to the elders of these areas and we should guarantee the lives and the safety of taliban authorities and all the taliban from tomorrow should start this program former taliban ambassador to pakistan abdul salam zaeef told cnn in telephone interview he insisted that the taliban would not surrender to hamid karzai the new afghan interim leader and pashtun elder who has been cooperating with the united states to calm unrest among the southern tribes the taliban will surrender to elders not to karzai karzai and other persons which they want to enter kandahar by the support of america they don allow to enter kandahar city he said the taliban will surrender the weapons the ammunition to elders»\n",
      "\n"
     ]
    }
   ],
   "source": [
    "print('Document ({}): «{}»\\n'.format(doc_id, ' '.join(train_corpus[doc_id].words)))\n",
    "print(u'SIMILAR/DISSIMILAR DOCS PER MODEL %s:\\n' % model)\n",
    "for label, index in [('MOST', 0), ('SECOND-MOST', 1), ('MEDIAN', len(sims)//2), ('LEAST', len(sims) - 1)]:\n",
    "    print(u'%s %s: «%s»\\n' % (label, sims[index], ' '.join(train_corpus[sims[index][0]].words)))"
   ]
  },
  {
   "cell_type": "code",
   "execution_count": 14,
   "metadata": {},
   "outputs": [
    {
     "name": "stdout",
     "output_type": "stream",
     "text": [
      "Train Document (86): «argentina economy minister domingo cavallo is reported to have resigned in the face of mounting unrest over the country crumbling economy the reports in number of local media outlets could not be officially confirmed the news comes as police used teargas to disperse tens of thousands of people who had massed near the presidential palace in buenos aires and in other parts of the city to protest against the declaration of state of emergency it was declared after mounting popular discontent and widespread looting in the past few days with people over the state of the economy which has been in recession for four years»\n",
      "\n",
      "Similar Document (223, 0.7362826466560364): «indonesian troop re enforcements have started arriving in central sulawesi as the government attempts to end days of deadly clashes between christians and muslims violence in the last week has claimed at least eight lives and left thousands of people homeless more than police and soldiers are being sent in to disarm rival groups and restore calm there have been no new reports of violence but residents in the christian town of ten tena say they fear further attacks by muslim militiamen taking up positions in the hills around the town in region where fighting between muslims and christians has claimed hundreds of lives in the last two years many blame the latest upsurge in violence on the arrival of members of the laskar jihad muslim militia from training camps in java and from the neighbouring maluka islands»\n",
      "\n"
     ]
    }
   ],
   "source": [
    "# Pick a random document from the corpus and infer a vector from the model\n",
    "import random\n",
    "doc_id = random.randint(0, len(train_corpus) - 1)\n",
    "\n",
    "# Compare and print the second-most-similar document\n",
    "print('Train Document ({}): «{}»\\n'.format(doc_id, ' '.join(train_corpus[doc_id].words)))\n",
    "sim_id = second_ranks[doc_id]\n",
    "print('Similar Document {}: «{}»\\n'.format(sim_id, ' '.join(train_corpus[sim_id[0]].words)))"
   ]
  },
  {
   "attachments": {},
   "cell_type": "markdown",
   "metadata": {},
   "source": [
    "# Testing the Model"
   ]
  },
  {
   "cell_type": "code",
   "execution_count": 15,
   "metadata": {},
   "outputs": [
    {
     "name": "stdout",
     "output_type": "stream",
     "text": [
      "Test Document (2): «the united states government has said it wants to see president robert mugabe removed from power and that it is working with the zimbabwean opposition to bring about change of administration as scores of white farmers went into hiding to escape round up by zimbabwean police senior bush administration official called mr mugabe rule illegitimate and irrational and said that his re election as president in march was won through fraud walter kansteiner the assistant secretary of state for african affairs went on to blame mr mugabe policies for contributing to the threat of famine in zimbabwe»\n",
      "\n",
      "SIMILAR/DISSIMILAR DOCS PER MODEL Doc2Vec<dm/m,d50,n5,w5,mc2,s0.001,t3>:\n",
      "\n",
      "MOST (94, 0.6363785266876221): «foreign minister alexander downer says the commonwealth democracy watchdog should put zimbabwe formally on its agenda in the first step to possible suspension from the organisation mr downer says ministers from the commonwealth ministerial action group cmag should review whether the reported violence and intimidation in zimbabwe means it has violated the commonwealth code of good governance cmag ministers from australia bangladesh barbados botswana britain canada malaysia and nigeria will meet in london tomorrow for talks on zimbabwe in recent meetings they have suspended both fiji and pakistan following military coups however their talks on the violent campaign of farm occupations in zimbabwe have been restricted to informal discussions as president robert mugabe government holds power through recognised elections mr downer also says the commonwealth ministers should maintain pressure on president mugabe to allow international observers to oversee presidential elections next march»\n",
      "\n",
      "MEDIAN (32, 0.23361222445964813): «an earthquake measuring on the richter scale has shaken parts of western australia wheatbelt overnight geo science australia says the epicentre was in burakin kilometres north east of perth spokesman says the earthquake which occurred at about am follows larger quake in september which measured over five on the richter scale shane bradford of ballidu just west of burakin says the quake shook his house and woke him from his sleep»\n",
      "\n",
      "LEAST (4, -0.09471284598112106): «six midwives have been suspended at wollongong hospital south of sydney for inappropriate use of nitrous oxide during work hours on some occasions while women were in labour the illawarra area health service says that following an investigation of unprofessional conduct further four midwives have been relocated to other areas within the hospital the service chief executive officer tony sherbon says no one was put at risk because other staff not involved in the use of nitrous oxide were able to take over caring for women in labour well we re very concerned and the body of midwives to the hospital there are over midwives that work in our service are very annoyed and angry at the inappropriate behaviour of these very senior people who should know better he said and that why we ve take the action of suspending them and we ll consider further action next week»\n",
      "\n"
     ]
    }
   ],
   "source": [
    "# Pick a random document from the test corpus and infer a vector from the model\n",
    "doc_id = random.randint(0, len(test_corpus) - 1)\n",
    "inferred_vector = model.infer_vector(test_corpus[doc_id])\n",
    "sims = model.dv.most_similar([inferred_vector], topn=len(model.dv))\n",
    "\n",
    "# Compare and print the most/median/least similar documents from the train corpus\n",
    "print('Test Document ({}): «{}»\\n'.format(doc_id, ' '.join(test_corpus[doc_id])))\n",
    "print(u'SIMILAR/DISSIMILAR DOCS PER MODEL %s:\\n' % model)\n",
    "for label, index in [('MOST', 0), ('MEDIAN', len(sims)//2), ('LEAST', len(sims) - 1)]:\n",
    "    print(u'%s %s: «%s»\\n' % (label, sims[index], ' '.join(train_corpus[sims[index][0]].words)))"
   ]
  }
 ],
 "metadata": {
  "kernelspec": {
   "display_name": "SpacyEnv",
   "language": "python",
   "name": "python3"
  },
  "language_info": {
   "codemirror_mode": {
    "name": "ipython",
    "version": 3
   },
   "file_extension": ".py",
   "mimetype": "text/x-python",
   "name": "python",
   "nbconvert_exporter": "python",
   "pygments_lexer": "ipython3",
   "version": "3.9.16"
  },
  "orig_nbformat": 4
 },
 "nbformat": 4,
 "nbformat_minor": 2
}
