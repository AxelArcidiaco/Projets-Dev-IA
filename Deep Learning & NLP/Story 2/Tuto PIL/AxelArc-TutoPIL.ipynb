{
 "cells": [
  {
   "cell_type": "code",
   "execution_count": 1,
   "metadata": {},
   "outputs": [],
   "source": [
    "from PIL import Image\n",
    "import numpy as np\n",
    "\n",
    "imgpil = Image.open(\"image.jpg\")  \n",
    "img = np.array(imgpil) # Transformation de l'image en tableau numpy"
   ]
  },
  {
   "cell_type": "code",
   "execution_count": 2,
   "metadata": {},
   "outputs": [
    {
     "name": "stdout",
     "output_type": "stream",
     "text": [
      "(391, 1536, 3)\n"
     ]
    }
   ],
   "source": [
    "print(img.shape)"
   ]
  },
  {
   "cell_type": "code",
   "execution_count": 3,
   "metadata": {},
   "outputs": [
    {
     "name": "stdout",
     "output_type": "stream",
     "text": [
      "[231 204 175]\n"
     ]
    }
   ],
   "source": [
    "# Valeur d'un pixel\n",
    "print(img[200,100])"
   ]
  },
  {
   "cell_type": "code",
   "execution_count": 4,
   "metadata": {},
   "outputs": [],
   "source": [
    "# Modification valeur d'un pixel\n",
    "img[200,100] = (125,30,255)"
   ]
  },
  {
   "cell_type": "code",
   "execution_count": 5,
   "metadata": {},
   "outputs": [],
   "source": [
    "# Filtres\n",
    "def filtre_rouge(img_orig):\n",
    "    im = np.copy(img_orig) # On fait une copie de l'original\n",
    "    for i in range(im.shape[0]):\n",
    "        for j in range(im.shape[1]):\n",
    "            r, v, b = im[i, j]\n",
    "            im[i, j] = (r, 0,0)\n",
    "    return im\n",
    "\n",
    "def filtre_bleu(img_orig):\n",
    "    im = np.copy(img_orig) # On fait une copie de l'original\n",
    "    for i in range(im.shape[0]):\n",
    "        for j in range(im.shape[1]):\n",
    "            r, v, b = im[i, j]\n",
    "            im[i, j] = (0, 0,b)\n",
    "    return im\n",
    "\n",
    "def filtre_vert(img_orig):\n",
    "    im = np.copy(img_orig) # On fait une copie de l'original\n",
    "    for i in range(im.shape[0]):\n",
    "        for j in range(im.shape[1]):\n",
    "            r, v, b = im[i, j]\n",
    "            im[i, j] = (0, v,0)\n",
    "    return im\n",
    "\n",
    "imgpil = Image.fromarray(filtre_rouge(img)) # Transformation du tableau en image PIL\n",
    "imgpil.save(\"resultat_rouge.jpg\")\n",
    "\n",
    "imgpil = Image.fromarray(filtre_bleu(img)) # Transformation du tableau en image PIL\n",
    "imgpil.save(\"resultat_bleu.jpg\")\n",
    "\n",
    "imgpil = Image.fromarray(filtre_vert(img)) # Transformation du tableau en image PIL\n",
    "imgpil.save(\"resultat_vert.jpg\")"
   ]
  },
  {
   "cell_type": "code",
   "execution_count": 7,
   "metadata": {},
   "outputs": [],
   "source": [
    "def filtre(img_orig):\n",
    "    im = np.copy(img_orig) # On fait une copie de l'original\n",
    "    for i in range(im.shape[0]):\n",
    "        for j in range(im.shape[1]):\n",
    "            r, v, b = im[i, j]\n",
    "            im[i, j] = (99-r, 99-v,99-b)\n",
    "    return im\n",
    "\n",
    "img_filtre = Image.fromarray(filtre(img))\n",
    "img_filtre.save(\"resultat_filtre.jpg\")"
   ]
  },
  {
   "cell_type": "code",
   "execution_count": 9,
   "metadata": {},
   "outputs": [],
   "source": [
    "# Flou gaussien\n",
    "def gaussKernel(r, sigma):\n",
    "    kernel = [[0] * (2*r+1) for _ in range(2*r + 1)]\n",
    "    if sigma > 0:\n",
    "        gaussianKernelFactor, e = 0, 0\n",
    "        for ky in range(-r, r):\n",
    "            for kx in range(-r, r):\n",
    "                e = np.exp(-(kx**2+ky**2)/(2*np.pi*sigma**2))\n",
    "                gaussianKernelFactor += e\n",
    "                kernel[kx+r][ky+r] = e\n",
    "\n",
    "        for ky in range(-r, r):\n",
    "            for kx in range(-r, r):\n",
    "                kernel[kx+r][ky+r] = kernel[kx+r][ky+r] / gaussianKernelFactor\n",
    "\n",
    "    return kernel\n",
    "\n",
    "\n",
    "def convolution(img, M):\n",
    "    px = int((len(M)-1) / 2)\n",
    "    im = img.copy()\n",
    "    imax = img.shape[1] - px\n",
    "    for i in range(px, imax):\n",
    "        for j in range(px, img.shape[0]-px):\n",
    "            somme = 0.0\n",
    "            for k in range(-px, px+1):\n",
    "                for l in range(-px, px+1):\n",
    "                    somme += img[j+l][i+k] * M[l+px][k+px]\n",
    "            im[j][i] = somme\n",
    "    return im\n",
    "\n",
    "\n",
    "imgpil = Image.open(\"image.jpg\")\n",
    "img = np.array(imgpil)\n",
    "H = gaussKernel(3, 10)\n",
    "imgpil = Image.fromarray(convolution(img, H))\n",
    "imgpil.save(\"resultat_flou.jpg\")"
   ]
  },
  {
   "cell_type": "code",
   "execution_count": 10,
   "metadata": {},
   "outputs": [],
   "source": [
    "from PIL import Image\n",
    "# from PIL import ImageFilter\n",
    "from PIL.ImageFilter import (\n",
    "    GaussianBlur\n",
    ")\n",
    "simg = Image.open('image.jpg')\n",
    "\n",
    "# defaut: radius=2\n",
    "dimg = simg.filter(GaussianBlur(radius=10))\n",
    "dimg.save(\"image_floue.jpg\")\n"
   ]
  }
 ],
 "metadata": {
  "kernelspec": {
   "display_name": "base",
   "language": "python",
   "name": "python3"
  },
  "language_info": {
   "codemirror_mode": {
    "name": "ipython",
    "version": 3
   },
   "file_extension": ".py",
   "mimetype": "text/x-python",
   "name": "python",
   "nbconvert_exporter": "python",
   "pygments_lexer": "ipython3",
   "version": "3.9.13"
  },
  "orig_nbformat": 4
 },
 "nbformat": 4,
 "nbformat_minor": 2
}
