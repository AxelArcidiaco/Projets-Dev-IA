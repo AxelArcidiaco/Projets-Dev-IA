{
 "cells": [
  {
   "cell_type": "code",
   "execution_count": 1,
   "metadata": {},
   "outputs": [],
   "source": [
    "from PIL import Image\n",
    "import numpy as np\n",
    "\n",
    "imgpil = Image.open(\"image.jpg\")  \n",
    "img = np.array(imgpil) # Transformation de l'image en tableau numpy"
   ]
  },
  {
   "cell_type": "code",
   "execution_count": 2,
   "metadata": {},
   "outputs": [
    {
     "name": "stdout",
     "output_type": "stream",
     "text": [
      "(391, 1536, 3)\n"
     ]
    }
   ],
   "source": [
    "print(img.shape)"
   ]
  },
  {
   "cell_type": "code",
   "execution_count": 3,
   "metadata": {},
   "outputs": [
    {
     "name": "stdout",
     "output_type": "stream",
     "text": [
      "[231 204 175]\n"
     ]
    }
   ],
   "source": [
    "# Valeur d'un pixel\n",
    "print(img[200,100])"
   ]
  },
  {
   "cell_type": "code",
   "execution_count": 4,
   "metadata": {},
   "outputs": [],
   "source": [
    "# Modification valeur d'un pixel\n",
    "img[200,100] = (125,30,255)"
   ]
  },
  {
   "cell_type": "code",
   "execution_count": 5,
   "metadata": {},
   "outputs": [],
   "source": [
    "# Filtres\n",
    "def filtre_rouge(img_orig):\n",
    "    im = np.copy(img_orig) # On fait une copie de l'original\n",
    "    for i in range(im.shape[0]):\n",
    "        for j in range(im.shape[1]):\n",
    "            r, v, b = im[i, j]\n",
    "            im[i, j] = (r, 0,0)\n",
    "    return im\n",
    "\n",
    "def filtre_bleu(img_orig):\n",
    "    im = np.copy(img_orig) # On fait une copie de l'original\n",
    "    for i in range(im.shape[0]):\n",
    "        for j in range(im.shape[1]):\n",
    "            r, v, b = im[i, j]\n",
    "            im[i, j] = (0, 0,b)\n",
    "    return im\n",
    "\n",
    "def filtre_vert(img_orig):\n",
    "    im = np.copy(img_orig) # On fait une copie de l'original\n",
    "    for i in range(im.shape[0]):\n",
    "        for j in range(im.shape[1]):\n",
    "            r, v, b = im[i, j]\n",
    "            im[i, j] = (0, v,0)\n",
    "    return im\n",
    "\n",
    "imgpil = Image.fromarray(filtre_rouge(img)) # Transformation du tableau en image PIL\n",
    "imgpil.save(\"resultat_rouge.jpg\")\n",
    "\n",
    "imgpil = Image.fromarray(filtre_bleu(img)) # Transformation du tableau en image PIL\n",
    "imgpil.save(\"resultat_bleu.jpg\")\n",
    "\n",
    "imgpil = Image.fromarray(filtre_vert(img)) # Transformation du tableau en image PIL\n",
    "imgpil.save(\"resultat_vert.jpg\")"
   ]
  },
  {
   "cell_type": "code",
   "execution_count": 7,
   "metadata": {},
   "outputs": [],
   "source": [
    "def filtre(img_orig):\n",
    "    im = np.copy(img_orig) # On fait une copie de l'original\n",
    "    for i in range(im.shape[0]):\n",
    "        for j in range(im.shape[1]):\n",
    "            r, v, b = im[i, j]\n",
    "            im[i, j] = (99-r, 99-v,99-b)\n",
    "    return im\n",
    "\n",
    "img_filtre = Image.fromarray(filtre(img))\n",
    "img_filtre.save(\"resultat_filtre.jpg\")"
   ]
  }
 ],
 "metadata": {
  "kernelspec": {
   "display_name": "base",
   "language": "python",
   "name": "python3"
  },
  "language_info": {
   "codemirror_mode": {
    "name": "ipython",
    "version": 3
   },
   "file_extension": ".py",
   "mimetype": "text/x-python",
   "name": "python",
   "nbconvert_exporter": "python",
   "pygments_lexer": "ipython3",
   "version": "3.9.13"
  },
  "orig_nbformat": 4
 },
 "nbformat": 4,
 "nbformat_minor": 2
}
