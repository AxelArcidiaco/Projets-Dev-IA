{
 "cells": [
  {
   "cell_type": "code",
   "execution_count": 1,
   "metadata": {},
   "outputs": [
    {
     "name": "stdout",
     "output_type": "stream",
     "text": [
      "(512, 512, 3)\n",
      "[125 137 226]\n"
     ]
    }
   ],
   "source": [
    "import cv2 as cv\n",
    "\n",
    "matrice = cv.imread(\"Lena.png\")   # charge le fichier dans une matrice de pixels couleur\n",
    "print(matrice.shape)              # affiche les dimensions de la matrice\n",
    "print(matrice[0,0])               # accède à la valeur du premier pixel"
   ]
  },
  {
   "cell_type": "code",
   "execution_count": 2,
   "metadata": {},
   "outputs": [
    {
     "name": "stdout",
     "output_type": "stream",
     "text": [
      "(512, 512)\n",
      "162\n"
     ]
    }
   ],
   "source": [
    "matG = cv.cvtColor(matrice, cv.COLOR_BGR2GRAY) # conversion des triplets BVR en gris\n",
    "print(matG.shape)\n",
    "print(matG[0,0])"
   ]
  },
  {
   "cell_type": "code",
   "execution_count": 3,
   "metadata": {},
   "outputs": [],
   "source": [
    "matG = cv.imread(\"Lena.png\", 0)  # charge le fichier dans une matrice de pixels gris"
   ]
  },
  {
   "cell_type": "code",
   "execution_count": 4,
   "metadata": {},
   "outputs": [
    {
     "data": {
      "text/plain": [
       "True"
      ]
     },
     "execution_count": 4,
     "metadata": {},
     "output_type": "execute_result"
    }
   ],
   "source": [
    "cv.imwrite(\"resultat.jpg\", matG)  # enregistre la matrice dans un fichier du nom indiqué"
   ]
  },
  {
   "cell_type": "code",
   "execution_count": 5,
   "metadata": {},
   "outputs": [],
   "source": [
    "cv.imshow(\"Image de matG\", matG) # fenêtre visualisant la matrice et le titre indiqué\n",
    "cv.waitKey(0)                    # attend l’appui sur une touche du clavier\n",
    "cv.destroyAllWindows()           # efface toutes les fenêtres ouvertes par imshow"
   ]
  }
 ],
 "metadata": {
  "kernelspec": {
   "display_name": "base",
   "language": "python",
   "name": "python3"
  },
  "language_info": {
   "codemirror_mode": {
    "name": "ipython",
    "version": 3
   },
   "file_extension": ".py",
   "mimetype": "text/x-python",
   "name": "python",
   "nbconvert_exporter": "python",
   "pygments_lexer": "ipython3",
   "version": "3.9.13"
  },
  "orig_nbformat": 4
 },
 "nbformat": 4,
 "nbformat_minor": 2
}
