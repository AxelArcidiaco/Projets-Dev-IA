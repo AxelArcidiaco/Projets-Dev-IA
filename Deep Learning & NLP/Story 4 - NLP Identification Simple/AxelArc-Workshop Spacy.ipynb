{
 "cells": [
  {
   "cell_type": "code",
   "execution_count": 3,
   "metadata": {},
   "outputs": [],
   "source": [
    "import spacy"
   ]
  },
  {
   "cell_type": "code",
   "execution_count": 6,
   "metadata": {},
   "outputs": [],
   "source": [
    "sp = spacy.load('en_core_web_sm')"
   ]
  },
  {
   "cell_type": "code",
   "execution_count": 7,
   "metadata": {},
   "outputs": [],
   "source": [
    "sentence = sp(u'Manchester United is looking to sign a forward for $90 million')"
   ]
  },
  {
   "cell_type": "code",
   "execution_count": 8,
   "metadata": {},
   "outputs": [
    {
     "name": "stdout",
     "output_type": "stream",
     "text": [
      "Manchester\n",
      "United\n",
      "is\n",
      "looking\n",
      "to\n",
      "sign\n",
      "a\n",
      "forward\n",
      "for\n",
      "$\n",
      "90\n",
      "million\n"
     ]
    }
   ],
   "source": [
    "for word in sentence:\n",
    "    print(word.text)"
   ]
  },
  {
   "cell_type": "code",
   "execution_count": 9,
   "metadata": {},
   "outputs": [
    {
     "name": "stdout",
     "output_type": "stream",
     "text": [
      "Manchester PROPN\n",
      "United PROPN\n",
      "is AUX\n",
      "looking VERB\n",
      "to PART\n",
      "sign VERB\n",
      "a DET\n",
      "forward NOUN\n",
      "for ADP\n",
      "$ SYM\n",
      "90 NUM\n",
      "million NUM\n"
     ]
    }
   ],
   "source": [
    "for word in sentence:\n",
    "    print(word.text,  word.pos_)"
   ]
  },
  {
   "cell_type": "code",
   "execution_count": 10,
   "metadata": {},
   "outputs": [],
   "source": [
    "sentence2 = sp(u\"Manchester United isn't looking to sign any forward.\")"
   ]
  },
  {
   "cell_type": "code",
   "execution_count": 11,
   "metadata": {},
   "outputs": [
    {
     "name": "stdout",
     "output_type": "stream",
     "text": [
      "Manchester PROPN compound\n",
      "United PROPN nsubj\n",
      "is AUX aux\n",
      "n't PART neg\n",
      "looking VERB ROOT\n",
      "to PART aux\n",
      "sign VERB xcomp\n",
      "any PRON advmod\n",
      "forward ADV advmod\n",
      ". PUNCT punct\n"
     ]
    }
   ],
   "source": [
    "for word in sentence2:\n",
    "    print(word.text,  word.pos_, word.dep_)"
   ]
  },
  {
   "cell_type": "code",
   "execution_count": 12,
   "metadata": {},
   "outputs": [],
   "source": [
    "document = sp(u'Hello from Stackabuse. The site with the best Python Tutorials. What are you looking for?')"
   ]
  },
  {
   "cell_type": "code",
   "execution_count": 13,
   "metadata": {},
   "outputs": [
    {
     "name": "stdout",
     "output_type": "stream",
     "text": [
      "Hello from Stackabuse.\n",
      "The site with the best Python Tutorials.\n",
      "What are you looking for?\n"
     ]
    }
   ],
   "source": [
    "for sentence in document.sents:\n",
    "    print(sentence)"
   ]
  },
  {
   "cell_type": "code",
   "execution_count": null,
   "metadata": {},
   "outputs": [],
   "source": []
  }
 ],
 "metadata": {
  "kernelspec": {
   "display_name": "Python 3 (ipykernel)",
   "language": "python",
   "name": "python3"
  },
  "language_info": {
   "codemirror_mode": {
    "name": "ipython",
    "version": 3
   },
   "file_extension": ".py",
   "mimetype": "text/x-python",
   "name": "python",
   "nbconvert_exporter": "python",
   "pygments_lexer": "ipython3",
   "version": "3.9.16"
  }
 },
 "nbformat": 4,
 "nbformat_minor": 2
}
