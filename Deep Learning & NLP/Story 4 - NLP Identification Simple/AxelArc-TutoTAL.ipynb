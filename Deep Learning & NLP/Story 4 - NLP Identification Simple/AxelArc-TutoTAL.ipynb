{
 "cells": [
  {
   "cell_type": "code",
   "execution_count": 1,
   "metadata": {},
   "outputs": [],
   "source": [
    "# Importation des bibliothèques python\n",
    "import string\n",
    "import pandas as pd\n",
    "import seaborn as sns\n",
    "import matplotlib.pyplot as plt\n",
    "\n",
    "# Pour machine learning\n",
    "from sklearn.svm import LinearSVC\n",
    "from sklearn.model_selection import train_test_split\n",
    "from sklearn.metrics import confusion_matrix, f1_score\n",
    "from sklearn.feature_extraction.text import TfidfVectorizer\n",
    "\n",
    "# Pour le NLP\n",
    "from nltk import word_tokenize\n",
    "from nltk.corpus import stopwords\n",
    "from nltk.stem import WordNetLemmatizer"
   ]
  },
  {
   "cell_type": "code",
   "execution_count": 7,
   "metadata": {},
   "outputs": [
    {
     "name": "stdout",
     "output_type": "stream",
     "text": [
      "showing info https://raw.githubusercontent.com/nltk/nltk_data/gh-pages/index.xml\n"
     ]
    },
    {
     "data": {
      "text/plain": [
       "True"
      ]
     },
     "execution_count": 7,
     "metadata": {},
     "output_type": "execute_result"
    }
   ],
   "source": [
    "import nltk\n",
    "nltk.download()"
   ]
  },
  {
   "cell_type": "code",
   "execution_count": 2,
   "metadata": {},
   "outputs": [
    {
     "data": {
      "text/plain": [
       "1    1005\n",
       "0     951\n",
       "Name: CLASS, dtype: int64"
      ]
     },
     "execution_count": 2,
     "metadata": {},
     "output_type": "execute_result"
    }
   ],
   "source": [
    "# Chargement des datasets\n",
    "df1 = pd.read_csv(\"./Data/Youtube01-Psy.csv\")\n",
    "df2 = pd.read_csv(\"./Data/Youtube02-KatyPerry.csv\")\n",
    "df3 = pd.read_csv(\"./Data/Youtube03-LMFAO.csv\")\n",
    "df4 = pd.read_csv(\"./Data/Youtube04-Eminem.csv\")\n",
    "df5 = pd.read_csv(\"./Data/Youtube05-Shakira.csv\")\n",
    "\n",
    "df = pd.concat([df1, df2, df3, df4, df5])\n",
    "df = df[['CONTENT', 'CLASS']].copy()\n",
    "df.CLASS.value_counts()"
   ]
  },
  {
   "cell_type": "code",
   "execution_count": 3,
   "metadata": {},
   "outputs": [
    {
     "data": {
      "text/html": [
       "<div>\n",
       "<style scoped>\n",
       "    .dataframe tbody tr th:only-of-type {\n",
       "        vertical-align: middle;\n",
       "    }\n",
       "\n",
       "    .dataframe tbody tr th {\n",
       "        vertical-align: top;\n",
       "    }\n",
       "\n",
       "    .dataframe thead th {\n",
       "        text-align: right;\n",
       "    }\n",
       "</style>\n",
       "<table border=\"1\" class=\"dataframe\">\n",
       "  <thead>\n",
       "    <tr style=\"text-align: right;\">\n",
       "      <th></th>\n",
       "      <th>CONTENT</th>\n",
       "      <th>CLASS</th>\n",
       "    </tr>\n",
       "  </thead>\n",
       "  <tbody>\n",
       "    <tr>\n",
       "      <th>223</th>\n",
       "      <td>Shakira :-*</td>\n",
       "      <td>0</td>\n",
       "    </tr>\n",
       "    <tr>\n",
       "      <th>283</th>\n",
       "      <td>Lol this youtuber (officialpsy) is getting so ...</td>\n",
       "      <td>0</td>\n",
       "    </tr>\n",
       "    <tr>\n",
       "      <th>308</th>\n",
       "      <td>Please become my first subscriber.  Thank you.﻿</td>\n",
       "      <td>1</td>\n",
       "    </tr>\n",
       "    <tr>\n",
       "      <th>62</th>\n",
       "      <td>I'm not a big fan of the song but this video i...</td>\n",
       "      <td>0</td>\n",
       "    </tr>\n",
       "    <tr>\n",
       "      <th>324</th>\n",
       "      <td>Check out this video on YouTube:﻿</td>\n",
       "      <td>1</td>\n",
       "    </tr>\n",
       "  </tbody>\n",
       "</table>\n",
       "</div>"
      ],
      "text/plain": [
       "                                               CONTENT  CLASS\n",
       "223                                        Shakira :-*      0\n",
       "283  Lol this youtuber (officialpsy) is getting so ...      0\n",
       "308    Please become my first subscriber.  Thank you.﻿      1\n",
       "62   I'm not a big fan of the song but this video i...      0\n",
       "324                  Check out this video on YouTube:﻿      1"
      ]
     },
     "execution_count": 3,
     "metadata": {},
     "output_type": "execute_result"
    }
   ],
   "source": [
    "df.sample(5)"
   ]
  },
  {
   "cell_type": "code",
   "execution_count": 8,
   "metadata": {},
   "outputs": [
    {
     "name": "stdout",
     "output_type": "stream",
     "text": [
      "Il y a 179 stopwords\n",
      "Les 10 premiers sont ['i', 'me', 'my', 'myself', 'we', 'our', 'ours', 'ourselves', 'you', \"you're\"]\n"
     ]
    }
   ],
   "source": [
    "stopW = stopwords.words('english')\n",
    "print('Il y a {} stopwords'.format(len(stopW)))\n",
    "print('Les 10 premiers sont {}'.format(stopW[:10]))"
   ]
  },
  {
   "cell_type": "code",
   "execution_count": 9,
   "metadata": {},
   "outputs": [
    {
     "name": "stdout",
     "output_type": "stream",
     "text": [
      "input tokens : ['I', 'would', 'like', 'an', 'orange', 'juice', ',', 'and', 'a', 'sandwich', '!']\n",
      "input tokens : ['I', 'would', 'like', 'orange', 'juice', 'sandwich']\n"
     ]
    }
   ],
   "source": [
    "exclude = set(string.punctuation)\n",
    "tokens = word_tokenize('I would like an orange juice, and a sandwich!')\n",
    "print('input tokens : {}'.format(tokens))\n",
    "stopW.extend(exclude)\n",
    "tokens_without_stopW = [word for word in tokens if word not in stopW]\n",
    "print('input tokens : {}'.format(tokens_without_stopW))"
   ]
  },
  {
   "cell_type": "code",
   "execution_count": 10,
   "metadata": {},
   "outputs": [
    {
     "data": {
      "text/plain": [
       "['The', 'girl', 'wanterd', 'to', 'play', 'with', 'their', 'parent']"
      ]
     },
     "execution_count": 10,
     "metadata": {},
     "output_type": "execute_result"
    }
   ],
   "source": [
    "lemma = WordNetLemmatizer()\n",
    "text = word_tokenize('The girls wanterd to play with their parents')\n",
    "[lemma.lemmatize(word) for word in text]"
   ]
  },
  {
   "cell_type": "code",
   "execution_count": 11,
   "metadata": {},
   "outputs": [],
   "source": [
    "def lemmatize(sent):\n",
    "    tokens = word_tokenize(sent.lower())\n",
    "    tokens = [lemma.lemmatize(lemma.lemmatize(lemma.lemmatize(w, 'v'), 'n'), 'a') for w in tokens]\n",
    "    return ' '.join(tokens)\n",
    "\n",
    "df['CONTENT'] = df.CONTENT.apply(lambda sent: lemmatize(sent))"
   ]
  },
  {
   "cell_type": "code",
   "execution_count": 12,
   "metadata": {},
   "outputs": [
    {
     "name": "stdout",
     "output_type": "stream",
     "text": [
      "('The', 'girls')\n",
      "('girls', 'wanted')\n",
      "('wanted', 'to')\n",
      "('to', 'play')\n",
      "('play', 'with')\n",
      "('with', 'their')\n",
      "('their', 'parents')\n"
     ]
    }
   ],
   "source": [
    "from nltk import ngrams\n",
    "tokens = word_tokenize('The girls wanted to play with their parents')\n",
    "bigrams = ngrams(tokens, 2)\n",
    "for words in bigrams:\n",
    "    print(words)"
   ]
  },
  {
   "cell_type": "code",
   "execution_count": 15,
   "metadata": {},
   "outputs": [
    {
     "data": {
      "text/html": [
       "<div>\n",
       "<style scoped>\n",
       "    .dataframe tbody tr th:only-of-type {\n",
       "        vertical-align: middle;\n",
       "    }\n",
       "\n",
       "    .dataframe tbody tr th {\n",
       "        vertical-align: top;\n",
       "    }\n",
       "\n",
       "    .dataframe thead th {\n",
       "        text-align: right;\n",
       "    }\n",
       "</style>\n",
       "<table border=\"1\" class=\"dataframe\">\n",
       "  <thead>\n",
       "    <tr style=\"text-align: right;\">\n",
       "      <th></th>\n",
       "      <th>00</th>\n",
       "      <th>00 39</th>\n",
       "      <th>00 43</th>\n",
       "      <th>00 58</th>\n",
       "      <th>00 710000</th>\n",
       "      <th>00 morning</th>\n",
       "      <th>00 pas</th>\n",
       "      <th>00 sub</th>\n",
       "      <th>000</th>\n",
       "      <th>000 000</th>\n",
       "      <th>...</th>\n",
       "      <th>ｈｔｔｐ ｗｗｗ</th>\n",
       "      <th>ｉｓ</th>\n",
       "      <th>ｉｓ ｆａｎｃy</th>\n",
       "      <th>ｓｈｏｅｃｏｌｌｅｃｔｏｒ314</th>\n",
       "      <th>ｔｈｉｓ</th>\n",
       "      <th>ｔｈｉｓ ｃｏｍｍｅｎｔ</th>\n",
       "      <th>ｕｓｒ</th>\n",
       "      <th>ｕｓｒ ｓｈｏｅｃｏｌｌｅｃｔｏｒ314</th>\n",
       "      <th>ｗｗｗ</th>\n",
       "      <th>ｗｗｗ ｅｂａｙ</th>\n",
       "    </tr>\n",
       "  </thead>\n",
       "  <tbody>\n",
       "    <tr>\n",
       "      <th>0</th>\n",
       "      <td>0.0</td>\n",
       "      <td>0.0</td>\n",
       "      <td>0.0</td>\n",
       "      <td>0.0</td>\n",
       "      <td>0.0</td>\n",
       "      <td>0.0</td>\n",
       "      <td>0.0</td>\n",
       "      <td>0.0</td>\n",
       "      <td>0.0</td>\n",
       "      <td>0.0</td>\n",
       "      <td>...</td>\n",
       "      <td>0.0</td>\n",
       "      <td>0.0</td>\n",
       "      <td>0.0</td>\n",
       "      <td>0.0</td>\n",
       "      <td>0.0</td>\n",
       "      <td>0.0</td>\n",
       "      <td>0.0</td>\n",
       "      <td>0.0</td>\n",
       "      <td>0.0</td>\n",
       "      <td>0.0</td>\n",
       "    </tr>\n",
       "    <tr>\n",
       "      <th>1</th>\n",
       "      <td>0.0</td>\n",
       "      <td>0.0</td>\n",
       "      <td>0.0</td>\n",
       "      <td>0.0</td>\n",
       "      <td>0.0</td>\n",
       "      <td>0.0</td>\n",
       "      <td>0.0</td>\n",
       "      <td>0.0</td>\n",
       "      <td>0.0</td>\n",
       "      <td>0.0</td>\n",
       "      <td>...</td>\n",
       "      <td>0.0</td>\n",
       "      <td>0.0</td>\n",
       "      <td>0.0</td>\n",
       "      <td>0.0</td>\n",
       "      <td>0.0</td>\n",
       "      <td>0.0</td>\n",
       "      <td>0.0</td>\n",
       "      <td>0.0</td>\n",
       "      <td>0.0</td>\n",
       "      <td>0.0</td>\n",
       "    </tr>\n",
       "    <tr>\n",
       "      <th>2</th>\n",
       "      <td>0.0</td>\n",
       "      <td>0.0</td>\n",
       "      <td>0.0</td>\n",
       "      <td>0.0</td>\n",
       "      <td>0.0</td>\n",
       "      <td>0.0</td>\n",
       "      <td>0.0</td>\n",
       "      <td>0.0</td>\n",
       "      <td>0.0</td>\n",
       "      <td>0.0</td>\n",
       "      <td>...</td>\n",
       "      <td>0.0</td>\n",
       "      <td>0.0</td>\n",
       "      <td>0.0</td>\n",
       "      <td>0.0</td>\n",
       "      <td>0.0</td>\n",
       "      <td>0.0</td>\n",
       "      <td>0.0</td>\n",
       "      <td>0.0</td>\n",
       "      <td>0.0</td>\n",
       "      <td>0.0</td>\n",
       "    </tr>\n",
       "    <tr>\n",
       "      <th>3</th>\n",
       "      <td>0.0</td>\n",
       "      <td>0.0</td>\n",
       "      <td>0.0</td>\n",
       "      <td>0.0</td>\n",
       "      <td>0.0</td>\n",
       "      <td>0.0</td>\n",
       "      <td>0.0</td>\n",
       "      <td>0.0</td>\n",
       "      <td>0.0</td>\n",
       "      <td>0.0</td>\n",
       "      <td>...</td>\n",
       "      <td>0.0</td>\n",
       "      <td>0.0</td>\n",
       "      <td>0.0</td>\n",
       "      <td>0.0</td>\n",
       "      <td>0.0</td>\n",
       "      <td>0.0</td>\n",
       "      <td>0.0</td>\n",
       "      <td>0.0</td>\n",
       "      <td>0.0</td>\n",
       "      <td>0.0</td>\n",
       "    </tr>\n",
       "    <tr>\n",
       "      <th>4</th>\n",
       "      <td>0.0</td>\n",
       "      <td>0.0</td>\n",
       "      <td>0.0</td>\n",
       "      <td>0.0</td>\n",
       "      <td>0.0</td>\n",
       "      <td>0.0</td>\n",
       "      <td>0.0</td>\n",
       "      <td>0.0</td>\n",
       "      <td>0.0</td>\n",
       "      <td>0.0</td>\n",
       "      <td>...</td>\n",
       "      <td>0.0</td>\n",
       "      <td>0.0</td>\n",
       "      <td>0.0</td>\n",
       "      <td>0.0</td>\n",
       "      <td>0.0</td>\n",
       "      <td>0.0</td>\n",
       "      <td>0.0</td>\n",
       "      <td>0.0</td>\n",
       "      <td>0.0</td>\n",
       "      <td>0.0</td>\n",
       "    </tr>\n",
       "  </tbody>\n",
       "</table>\n",
       "<p>5 rows × 13793 columns</p>\n",
       "</div>"
      ],
      "text/plain": [
       "    00  00 39  00 43  00 58  00 710000  00 morning  00 pas  00 sub  000  \\\n",
       "0  0.0    0.0    0.0    0.0        0.0         0.0     0.0     0.0  0.0   \n",
       "1  0.0    0.0    0.0    0.0        0.0         0.0     0.0     0.0  0.0   \n",
       "2  0.0    0.0    0.0    0.0        0.0         0.0     0.0     0.0  0.0   \n",
       "3  0.0    0.0    0.0    0.0        0.0         0.0     0.0     0.0  0.0   \n",
       "4  0.0    0.0    0.0    0.0        0.0         0.0     0.0     0.0  0.0   \n",
       "\n",
       "   000 000  ...  ｈｔｔｐ ｗｗｗ   ｉｓ  ｉｓ ｆａｎｃy  ｓｈｏｅｃｏｌｌｅｃｔｏｒ314  ｔｈｉｓ  \\\n",
       "0      0.0  ...       0.0  0.0       0.0               0.0   0.0   \n",
       "1      0.0  ...       0.0  0.0       0.0               0.0   0.0   \n",
       "2      0.0  ...       0.0  0.0       0.0               0.0   0.0   \n",
       "3      0.0  ...       0.0  0.0       0.0               0.0   0.0   \n",
       "4      0.0  ...       0.0  0.0       0.0               0.0   0.0   \n",
       "\n",
       "   ｔｈｉｓ ｃｏｍｍｅｎｔ  ｕｓｒ  ｕｓｒ ｓｈｏｅｃｏｌｌｅｃｔｏｒ314  ｗｗｗ  ｗｗｗ ｅｂａｙ  \n",
       "0           0.0  0.0                   0.0  0.0       0.0  \n",
       "1           0.0  0.0                   0.0  0.0       0.0  \n",
       "2           0.0  0.0                   0.0  0.0       0.0  \n",
       "3           0.0  0.0                   0.0  0.0       0.0  \n",
       "4           0.0  0.0                   0.0  0.0       0.0  \n",
       "\n",
       "[5 rows x 13793 columns]"
      ]
     },
     "execution_count": 15,
     "metadata": {},
     "output_type": "execute_result"
    }
   ],
   "source": [
    "vect = TfidfVectorizer(stop_words='english', analyzer='word', ngram_range=(1,2))\n",
    "tfidf_mat = vect.fit_transform(df.CONTENT)\n",
    "feature_names = vect.get_feature_names() # to get the names of the tokens\n",
    "dense = tfidf_mat.todense() # convert sparse matrix to numpy array\n",
    "denselist = dense.tolist() # convert array to list\n",
    "df2 = pd.DataFrame(denselist, columns=feature_names) # convert to dataframe\n",
    "df2.head()"
   ]
  },
  {
   "cell_type": "code",
   "execution_count": 16,
   "metadata": {},
   "outputs": [
    {
     "name": "stdout",
     "output_type": "stream",
     "text": [
      "F1 Score : 0.9233333333333335\n"
     ]
    }
   ],
   "source": [
    "X_train, X_test, y_train, y_test = train_test_split(df2, df.CLASS, test_size = 0.3)\n",
    "\n",
    "clf = LinearSVC()\n",
    "clf.fit(X_train, y_train)\n",
    "y_pred = clf.predict(X_test)\n",
    "print('F1 Score :', f1_score(y_test, y_pred))"
   ]
  },
  {
   "cell_type": "code",
   "execution_count": 17,
   "metadata": {},
   "outputs": [
    {
     "data": {
      "image/png": "[encoded data removed]",
      "text/plain": [
       "<Figure size 640x480 with 2 Axes>"
      ]
     },
     "metadata": {},
     "output_type": "display_data"
    }
   ],
   "source": [
    "sns.heatmap(confusion_matrix(y_test, y_pred), annot=True)\n",
    "plt.ylabel('True classes')\n",
    "plt.xlabel('Predicted classess')\n",
    "plt.show()"
   ]
  }
 ],
 "metadata": {
  "kernelspec": {
   "display_name": "base",
   "language": "python",
   "name": "python3"
  },
  "language_info": {
   "codemirror_mode": {
    "name": "ipython",
    "version": 3
   },
   "file_extension": ".py",
   "mimetype": "text/x-python",
   "name": "python",
   "nbconvert_exporter": "python",
   "pygments_lexer": "ipython3",
   "version": "3.9.13"
  },
  "orig_nbformat": 4
 },
 "nbformat": 4,
 "nbformat_minor": 2
}
