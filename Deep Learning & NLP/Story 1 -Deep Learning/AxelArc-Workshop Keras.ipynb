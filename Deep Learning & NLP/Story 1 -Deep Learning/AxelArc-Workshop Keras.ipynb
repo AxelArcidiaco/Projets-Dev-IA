{
 "cells": [
  {
   "cell_type": "code",
   "execution_count": 3,
   "metadata": {},
   "outputs": [],
   "source": [
    "# Importation des bibliothèques\n",
    "import pandas as pd\n",
    "from keras.models import Sequential\n",
    "from keras.layers import Dense"
   ]
  },
  {
   "cell_type": "code",
   "execution_count": 10,
   "metadata": {},
   "outputs": [],
   "source": [
    "# Importation des données\n",
    "titanic_train = pd.read_csv(\"./Data/titanic_train.csv\", sep=\",\")\n",
    "titanic_test = pd.read_csv(\"./Data/titanic_test.csv\", sep=\",\")"
   ]
  },
  {
   "cell_type": "code",
   "execution_count": 4,
   "metadata": {},
   "outputs": [
    {
     "data": {
      "text/html": [
       "<div>\n",
       "<style scoped>\n",
       "    .dataframe tbody tr th:only-of-type {\n",
       "        vertical-align: middle;\n",
       "    }\n",
       "\n",
       "    .dataframe tbody tr th {\n",
       "        vertical-align: top;\n",
       "    }\n",
       "\n",
       "    .dataframe thead th {\n",
       "        text-align: right;\n",
       "    }\n",
       "</style>\n",
       "<table border=\"1\" class=\"dataframe\">\n",
       "  <thead>\n",
       "    <tr style=\"text-align: right;\">\n",
       "      <th></th>\n",
       "      <th>PassengerId</th>\n",
       "      <th>Pclass</th>\n",
       "      <th>Age</th>\n",
       "      <th>SibSp</th>\n",
       "      <th>Parch</th>\n",
       "      <th>Fare</th>\n",
       "    </tr>\n",
       "  </thead>\n",
       "  <tbody>\n",
       "    <tr>\n",
       "      <th>0</th>\n",
       "      <td>1</td>\n",
       "      <td>3</td>\n",
       "      <td>22.0</td>\n",
       "      <td>1</td>\n",
       "      <td>0</td>\n",
       "      <td>7.2500</td>\n",
       "    </tr>\n",
       "    <tr>\n",
       "      <th>1</th>\n",
       "      <td>2</td>\n",
       "      <td>1</td>\n",
       "      <td>38.0</td>\n",
       "      <td>1</td>\n",
       "      <td>0</td>\n",
       "      <td>71.2833</td>\n",
       "    </tr>\n",
       "    <tr>\n",
       "      <th>2</th>\n",
       "      <td>3</td>\n",
       "      <td>3</td>\n",
       "      <td>26.0</td>\n",
       "      <td>0</td>\n",
       "      <td>0</td>\n",
       "      <td>7.9250</td>\n",
       "    </tr>\n",
       "    <tr>\n",
       "      <th>3</th>\n",
       "      <td>4</td>\n",
       "      <td>1</td>\n",
       "      <td>35.0</td>\n",
       "      <td>1</td>\n",
       "      <td>0</td>\n",
       "      <td>53.1000</td>\n",
       "    </tr>\n",
       "    <tr>\n",
       "      <th>4</th>\n",
       "      <td>5</td>\n",
       "      <td>3</td>\n",
       "      <td>35.0</td>\n",
       "      <td>0</td>\n",
       "      <td>0</td>\n",
       "      <td>8.0500</td>\n",
       "    </tr>\n",
       "  </tbody>\n",
       "</table>\n",
       "</div>"
      ],
      "text/plain": [
       "   PassengerId  Pclass   Age  SibSp  Parch     Fare\n",
       "0            1       3  22.0      1      0   7.2500\n",
       "1            2       1  38.0      1      0  71.2833\n",
       "2            3       3  26.0      0      0   7.9250\n",
       "3            4       1  35.0      1      0  53.1000\n",
       "4            5       3  35.0      0      0   8.0500"
      ]
     },
     "execution_count": 4,
     "metadata": {},
     "output_type": "execute_result"
    }
   ],
   "source": [
    "# Traitement des données\n",
    "X = titanic_train.drop(['Survived', 'Name', 'Sex', 'Ticket', 'Cabin', 'Embarked' ], axis=1)\n",
    "X['Pclass'] = X['Pclass'].fillna(5)\n",
    "X['Age'] = X['Age'].fillna(X['Age'].mean())\n",
    "X['Fare'] = X['Fare'].fillna(X['Fare'].mean())\n",
    "y = titanic_train['Survived']\n",
    "X.head()"
   ]
  },
  {
   "cell_type": "code",
   "execution_count": 5,
   "metadata": {},
   "outputs": [],
   "source": [
    "# Mise en place d'un réseau de neurones\n",
    "model = Sequential()\n",
    "model.add(Dense(units=6, activation='relu', input_dim=6))\n",
    "model.add(Dense(activation=\"relu\", units=100, kernel_initializer=\"uniform\"))\n",
    "model.add(Dense(activation=\"sigmoid\", units=1, kernel_initializer=\"uniform\"))"
   ]
  },
  {
   "cell_type": "code",
   "execution_count": 6,
   "metadata": {},
   "outputs": [
    {
     "name": "stdout",
     "output_type": "stream",
     "text": [
      "Model: \"sequential\"\n",
      "_________________________________________________________________\n",
      " Layer (type)                Output Shape              Param #   \n",
      "=================================================================\n",
      " dense (Dense)               (None, 6)                 42        \n",
      "                                                                 \n",
      " dense_1 (Dense)             (None, 100)               700       \n",
      "                                                                 \n",
      " dense_2 (Dense)             (None, 1)                 101       \n",
      "                                                                 \n",
      "=================================================================\n",
      "Total params: 843\n",
      "Trainable params: 843\n",
      "Non-trainable params: 0\n",
      "_________________________________________________________________\n"
     ]
    }
   ],
   "source": [
    "# Affichage du résumé du réseau de neurones\n",
    "model.summary()"
   ]
  },
  {
   "cell_type": "code",
   "execution_count": 12,
   "metadata": {},
   "outputs": [],
   "source": [
    "# Compilation du réseau de neurones\n",
    "model.compile(optimizer=\"Adam\", loss=\"mse\", metrics=[\"acc\"])"
   ]
  },
  {
   "cell_type": "code",
   "execution_count": 13,
   "metadata": {},
   "outputs": [
    {
     "name": "stdout",
     "output_type": "stream",
     "text": [
      "Epoch 1/50\n",
      "30/30 [==============================] - 1s 3ms/step - loss: 0.2070 - acc: 0.6925\n",
      "Epoch 2/50\n",
      "30/30 [==============================] - 0s 3ms/step - loss: 0.2041 - acc: 0.7026\n",
      "Epoch 3/50\n",
      "30/30 [==============================] - 0s 3ms/step - loss: 0.2054 - acc: 0.6981\n",
      "Epoch 4/50\n",
      "30/30 [==============================] - 0s 3ms/step - loss: 0.2101 - acc: 0.6936\n",
      "Epoch 5/50\n",
      "30/30 [==============================] - 0s 3ms/step - loss: 0.2084 - acc: 0.6925\n",
      "Epoch 6/50\n",
      "30/30 [==============================] - 0s 3ms/step - loss: 0.2096 - acc: 0.6869\n",
      "Epoch 7/50\n",
      "30/30 [==============================] - 0s 5ms/step - loss: 0.2073 - acc: 0.6947\n",
      "Epoch 8/50\n",
      "30/30 [==============================] - 0s 3ms/step - loss: 0.2047 - acc: 0.7015\n",
      "Epoch 9/50\n",
      "30/30 [==============================] - 0s 3ms/step - loss: 0.2094 - acc: 0.6745\n",
      "Epoch 10/50\n",
      "30/30 [==============================] - 0s 3ms/step - loss: 0.2024 - acc: 0.6992\n",
      "Epoch 11/50\n",
      "30/30 [==============================] - 0s 3ms/step - loss: 0.2044 - acc: 0.7003\n",
      "Epoch 12/50\n",
      "30/30 [==============================] - 0s 3ms/step - loss: 0.2137 - acc: 0.6846\n",
      "Epoch 13/50\n",
      "30/30 [==============================] - 0s 3ms/step - loss: 0.2053 - acc: 0.6958\n",
      "Epoch 14/50\n",
      "30/30 [==============================] - 0s 6ms/step - loss: 0.2042 - acc: 0.7071\n",
      "Epoch 15/50\n",
      "30/30 [==============================] - 0s 3ms/step - loss: 0.2017 - acc: 0.6981\n",
      "Epoch 16/50\n",
      "30/30 [==============================] - 0s 4ms/step - loss: 0.2022 - acc: 0.6958\n",
      "Epoch 17/50\n",
      "30/30 [==============================] - 0s 3ms/step - loss: 0.2023 - acc: 0.6981\n",
      "Epoch 18/50\n",
      "30/30 [==============================] - 0s 3ms/step - loss: 0.2059 - acc: 0.6958\n",
      "Epoch 19/50\n",
      "30/30 [==============================] - 0s 3ms/step - loss: 0.2007 - acc: 0.7138\n",
      "Epoch 20/50\n",
      "30/30 [==============================] - 0s 3ms/step - loss: 0.2021 - acc: 0.6925\n",
      "Epoch 21/50\n",
      "30/30 [==============================] - 0s 3ms/step - loss: 0.2026 - acc: 0.6981\n",
      "Epoch 22/50\n",
      "30/30 [==============================] - 0s 3ms/step - loss: 0.2015 - acc: 0.7104\n",
      "Epoch 23/50\n",
      "30/30 [==============================] - 0s 3ms/step - loss: 0.2002 - acc: 0.7059\n",
      "Epoch 24/50\n",
      "30/30 [==============================] - 0s 3ms/step - loss: 0.2046 - acc: 0.6992\n",
      "Epoch 25/50\n",
      "30/30 [==============================] - 0s 5ms/step - loss: 0.2017 - acc: 0.6947\n",
      "Epoch 26/50\n",
      "30/30 [==============================] - 0s 4ms/step - loss: 0.2048 - acc: 0.7026\n",
      "Epoch 27/50\n",
      "30/30 [==============================] - 0s 4ms/step - loss: 0.2031 - acc: 0.6958\n",
      "Epoch 28/50\n",
      "30/30 [==============================] - 0s 4ms/step - loss: 0.2028 - acc: 0.6970\n",
      "Epoch 29/50\n",
      "30/30 [==============================] - 0s 3ms/step - loss: 0.2020 - acc: 0.6947\n",
      "Epoch 30/50\n",
      "30/30 [==============================] - 0s 4ms/step - loss: 0.2011 - acc: 0.7093\n",
      "Epoch 31/50\n",
      "30/30 [==============================] - 0s 3ms/step - loss: 0.2001 - acc: 0.7003\n",
      "Epoch 32/50\n",
      "30/30 [==============================] - 0s 3ms/step - loss: 0.2004 - acc: 0.7015\n",
      "Epoch 33/50\n",
      "30/30 [==============================] - 0s 3ms/step - loss: 0.2022 - acc: 0.7015\n",
      "Epoch 34/50\n",
      "30/30 [==============================] - 0s 3ms/step - loss: 0.2018 - acc: 0.7104\n",
      "Epoch 35/50\n",
      "30/30 [==============================] - 0s 4ms/step - loss: 0.2000 - acc: 0.7003\n",
      "Epoch 36/50\n",
      "30/30 [==============================] - 0s 4ms/step - loss: 0.2016 - acc: 0.6992\n",
      "Epoch 37/50\n",
      "30/30 [==============================] - 0s 4ms/step - loss: 0.2076 - acc: 0.6846\n",
      "Epoch 38/50\n",
      "30/30 [==============================] - 0s 3ms/step - loss: 0.2027 - acc: 0.7104\n",
      "Epoch 39/50\n",
      "30/30 [==============================] - 0s 3ms/step - loss: 0.2009 - acc: 0.7048\n",
      "Epoch 40/50\n",
      "30/30 [==============================] - 0s 3ms/step - loss: 0.2020 - acc: 0.6992\n",
      "Epoch 41/50\n",
      "30/30 [==============================] - 0s 2ms/step - loss: 0.1991 - acc: 0.7082\n",
      "Epoch 42/50\n",
      "30/30 [==============================] - 0s 3ms/step - loss: 0.2024 - acc: 0.7003\n",
      "Epoch 43/50\n",
      "30/30 [==============================] - 0s 2ms/step - loss: 0.1998 - acc: 0.7026\n",
      "Epoch 44/50\n",
      "30/30 [==============================] - 0s 3ms/step - loss: 0.2005 - acc: 0.7048\n",
      "Epoch 45/50\n",
      "30/30 [==============================] - 0s 3ms/step - loss: 0.2025 - acc: 0.7037\n",
      "Epoch 46/50\n",
      "30/30 [==============================] - 0s 3ms/step - loss: 0.1995 - acc: 0.7015\n",
      "Epoch 47/50\n",
      "30/30 [==============================] - 0s 3ms/step - loss: 0.2015 - acc: 0.7149\n",
      "Epoch 48/50\n",
      "30/30 [==============================] - 0s 3ms/step - loss: 0.2023 - acc: 0.7082\n",
      "Epoch 49/50\n",
      "30/30 [==============================] - 0s 3ms/step - loss: 0.1997 - acc: 0.7015\n",
      "Epoch 50/50\n",
      "30/30 [==============================] - 0s 3ms/step - loss: 0.1993 - acc: 0.7037\n"
     ]
    },
    {
     "data": {
      "text/plain": [
       "<keras.callbacks.History at 0x22db9b77d90>"
      ]
     },
     "execution_count": 13,
     "metadata": {},
     "output_type": "execute_result"
    }
   ],
   "source": [
    "# Entrainement du réseau de neurones\n",
    "model.fit(X, y, epochs=50, batch_size=30)"
   ]
  },
  {
   "cell_type": "code",
   "execution_count": 14,
   "metadata": {},
   "outputs": [
    {
     "name": "stdout",
     "output_type": "stream",
     "text": [
      "28/28 [==============================] - 0s 1ms/step - loss: 0.1970 - acc: 0.7059\n",
      "\n",
      "acc: 70.59%\n"
     ]
    }
   ],
   "source": [
    "# Score de l'entrainement du réseau de neurones\n",
    "scores = model.evaluate(X, y)\n",
    "print(\"\\n%s: %.2f%%\" % (model.metrics_names[1], scores[1]*100))"
   ]
  },
  {
   "cell_type": "code",
   "execution_count": null,
   "metadata": {},
   "outputs": [],
   "source": [
    "# Test du réseau du modèle\n",
    "Xt = titanic_test.drop(['Name', 'Sex', 'Ticket', 'Cabin', 'Embarked' ], axis=1)\n",
    "Xt['Pclass'] = Xt['Pclass'].fillna(5)\n",
    "Xt['Age'] = Xt['Age'].fillna(Xt['Age'].mean())\n",
    "Xt['Fare'] = Xt['Fare'].fillna(Xt['Fare'].mean())"
   ]
  }
 ],
 "metadata": {
  "kernelspec": {
   "display_name": "base",
   "language": "python",
   "name": "python3"
  },
  "language_info": {
   "codemirror_mode": {
    "name": "ipython",
    "version": 3
   },
   "file_extension": ".py",
   "mimetype": "text/x-python",
   "name": "python",
   "nbconvert_exporter": "python",
   "pygments_lexer": "ipython3",
   "version": "3.9.13"
  },
  "orig_nbformat": 4
 },
 "nbformat": 4,
 "nbformat_minor": 2
}
