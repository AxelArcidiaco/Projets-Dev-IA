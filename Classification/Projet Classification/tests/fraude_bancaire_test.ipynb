{
 "cells": [
  {
   "cell_type": "code",
   "execution_count": 1,
   "metadata": {},
   "outputs": [],
   "source": [
    "# Importation des bibliothèques Python\n",
    "import pandas as pd\n",
    "from sklearn.ensemble import RandomForestClassifier\n",
    "from sklearn.neighbors import KNeighborsClassifier\n",
    "from sklearn.model_selection import GridSearchCV"
   ]
  },
  {
   "cell_type": "code",
   "execution_count": 10,
   "metadata": {},
   "outputs": [
    {
     "data": {
      "text/html": [
       "<div>\n",
       "<style scoped>\n",
       "    .dataframe tbody tr th:only-of-type {\n",
       "        vertical-align: middle;\n",
       "    }\n",
       "\n",
       "    .dataframe tbody tr th {\n",
       "        vertical-align: top;\n",
       "    }\n",
       "\n",
       "    .dataframe thead th {\n",
       "        text-align: right;\n",
       "    }\n",
       "</style>\n",
       "<table border=\"1\" class=\"dataframe\">\n",
       "  <thead>\n",
       "    <tr style=\"text-align: right;\">\n",
       "      <th></th>\n",
       "      <th>transactionId;step;type;amount;nameOrig;oldbalanceOrg;newbalanceOrig;nameDest;oldbalanceDest;newbalanceDest;isFraud</th>\n",
       "    </tr>\n",
       "  </thead>\n",
       "  <tbody>\n",
       "    <tr>\n",
       "      <th>0</th>\n",
       "      <td>0;1;PAYMENT;9839.64;C1231006815;170136;160296....</td>\n",
       "    </tr>\n",
       "    <tr>\n",
       "      <th>1</th>\n",
       "      <td>1;1;PAYMENT;1864.28;C1666544295;21249;19384.72...</td>\n",
       "    </tr>\n",
       "    <tr>\n",
       "      <th>2</th>\n",
       "      <td>2;1;TRANSFER;181;C1305486145;181;0;C553264065;...</td>\n",
       "    </tr>\n",
       "    <tr>\n",
       "      <th>3</th>\n",
       "      <td>3;1;CASH_OUT;181;C840083671;181;0;C38997010;21...</td>\n",
       "    </tr>\n",
       "    <tr>\n",
       "      <th>4</th>\n",
       "      <td>4;1;PAYMENT;11668.14;C2048537720;41554;29885.8...</td>\n",
       "    </tr>\n",
       "  </tbody>\n",
       "</table>\n",
       "</div>"
      ],
      "text/plain": [
       "  transactionId;step;type;amount;nameOrig;oldbalanceOrg;newbalanceOrig;nameDest;oldbalanceDest;newbalanceDest;isFraud\n",
       "0  0;1;PAYMENT;9839.64;C1231006815;170136;160296....                                                                 \n",
       "1  1;1;PAYMENT;1864.28;C1666544295;21249;19384.72...                                                                 \n",
       "2  2;1;TRANSFER;181;C1305486145;181;0;C553264065;...                                                                 \n",
       "3  3;1;CASH_OUT;181;C840083671;181;0;C38997010;21...                                                                 \n",
       "4  4;1;PAYMENT;11668.14;C2048537720;41554;29885.8...                                                                 "
      ]
     },
     "execution_count": 10,
     "metadata": {},
     "output_type": "execute_result"
    }
   ],
   "source": [
    "# Importation des données\n",
    "data_path = \"C:\\\\Users\\\\AxelArcidiaco\\\\Documents\\\\GRETA\\\\Projet Dev\\\\Classification\\\\Projet Classification\\\\data\\\\\" \n",
    "data_fraude = pd.read_csv(data_path + \"card_credit_fraud_Classification project Final.csv\")\n",
    "data_fraude.head()"
   ]
  }
 ],
 "metadata": {
  "kernelspec": {
   "display_name": "base",
   "language": "python",
   "name": "python3"
  },
  "language_info": {
   "codemirror_mode": {
    "name": "ipython",
    "version": 3
   },
   "file_extension": ".py",
   "mimetype": "text/x-python",
   "name": "python",
   "nbconvert_exporter": "python",
   "pygments_lexer": "ipython3",
   "version": "3.9.13"
  },
  "orig_nbformat": 4,
  "vscode": {
   "interpreter": {
    "hash": "700029e5f9c8992c55d37e3a404b0b432c68d401a3c06e21a848c27e97636ef3"
   }
  }
 },
 "nbformat": 4,
 "nbformat_minor": 2
}
