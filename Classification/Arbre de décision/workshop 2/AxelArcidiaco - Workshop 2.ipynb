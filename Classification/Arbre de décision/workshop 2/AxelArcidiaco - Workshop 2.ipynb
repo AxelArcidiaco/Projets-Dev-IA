{
 "cells": [
  {
   "attachments": {},
   "cell_type": "markdown",
   "metadata": {},
   "source": [
    "# Decision Tree Classifier, Hyperparamètres et Botanique.\n",
    "*src : https://simplonline.co/briefs/2f2ed1d0-9bd0-4e1b-9e4f-e7c7c2da6783*"
   ]
  },
  {
   "attachments": {},
   "cell_type": "markdown",
   "metadata": {},
   "source": [
    "*Importation des bibliothèques python et du dataset iris*"
   ]
  },
  {
   "cell_type": "code",
   "execution_count": 13,
   "metadata": {},
   "outputs": [],
   "source": [
    "# Importation des bibliothèques python\n",
    "from sklearn.datasets import load_iris\n",
    "from sklearn import tree\n",
    "\n",
    "\n",
    "# Importation du dataset iris\n",
    "iris = load_iris()"
   ]
  },
  {
   "attachments": {},
   "cell_type": "markdown",
   "metadata": {},
   "source": [
    "*Préparation des données*"
   ]
  },
  {
   "cell_type": "code",
   "execution_count": 14,
   "metadata": {},
   "outputs": [
    {
     "name": "stdout",
     "output_type": "stream",
     "text": [
      ".. _iris_dataset:\n",
      "\n",
      "Iris plants dataset\n",
      "--------------------\n",
      "\n",
      "**Data Set Characteristics:**\n",
      "\n",
      "    :Number of Instances: 150 (50 in each of three classes)\n",
      "    :Number of Attributes: 4 numeric, predictive attributes and the class\n",
      "    :Attribute Information:\n",
      "        - sepal length in cm\n",
      "        - sepal width in cm\n",
      "        - petal length in cm\n",
      "        - petal width in cm\n",
      "        - class:\n",
      "                - Iris-Setosa\n",
      "                - Iris-Versicolour\n",
      "                - Iris-Virginica\n",
      "                \n",
      "    :Summary Statistics:\n",
      "\n",
      "    ============== ==== ==== ======= ===== ====================\n",
      "                    Min  Max   Mean    SD   Class Correlation\n",
      "    ============== ==== ==== ======= ===== ====================\n",
      "    sepal length:   4.3  7.9   5.84   0.83    0.7826\n",
      "    sepal width:    2.0  4.4   3.05   0.43   -0.4194\n",
      "    petal length:   1.0  6.9   3.76   1.76    0.9490  (high!)\n",
      "    petal width:    0.1  2.5   1.20   0.76    0.9565  (high!)\n",
      "    ============== ==== ==== ======= ===== ====================\n",
      "\n",
      "    :Missing Attribute Values: None\n",
      "    :Class Distribution: 33.3% for each of 3 classes.\n",
      "    :Creator: R.A. Fisher\n",
      "    :Donor: Michael Marshall (MARSHALL%PLU@io.arc.nasa.gov)\n",
      "    :Date: July, 1988\n",
      "\n",
      "The famous Iris database, first used by Sir R.A. Fisher. The dataset is taken\n",
      "from Fisher's paper. Note that it's the same as in R, but not as in the UCI\n",
      "Machine Learning Repository, which has two wrong data points.\n",
      "\n",
      "This is perhaps the best known database to be found in the\n",
      "pattern recognition literature.  Fisher's paper is a classic in the field and\n",
      "is referenced frequently to this day.  (See Duda & Hart, for example.)  The\n",
      "data set contains 3 classes of 50 instances each, where each class refers to a\n",
      "type of iris plant.  One class is linearly separable from the other 2; the\n",
      "latter are NOT linearly separable from each other.\n",
      "\n",
      ".. topic:: References\n",
      "\n",
      "   - Fisher, R.A. \"The use of multiple measurements in taxonomic problems\"\n",
      "     Annual Eugenics, 7, Part II, 179-188 (1936); also in \"Contributions to\n",
      "     Mathematical Statistics\" (John Wiley, NY, 1950).\n",
      "   - Duda, R.O., & Hart, P.E. (1973) Pattern Classification and Scene Analysis.\n",
      "     (Q327.D83) John Wiley & Sons.  ISBN 0-471-22361-1.  See page 218.\n",
      "   - Dasarathy, B.V. (1980) \"Nosing Around the Neighborhood: A New System\n",
      "     Structure and Classification Rule for Recognition in Partially Exposed\n",
      "     Environments\".  IEEE Transactions on Pattern Analysis and Machine\n",
      "     Intelligence, Vol. PAMI-2, No. 1, 67-71.\n",
      "   - Gates, G.W. (1972) \"The Reduced Nearest Neighbor Rule\".  IEEE Transactions\n",
      "     on Information Theory, May 1972, 431-433.\n",
      "   - See also: 1988 MLC Proceedings, 54-64.  Cheeseman et al\"s AUTOCLASS II\n",
      "     conceptual clustering system finds 3 classes in the data.\n",
      "   - Many, many more ...\n"
     ]
    }
   ],
   "source": [
    "# Affichage de la description du dataset iris\n",
    "print(iris.DESCR)"
   ]
  },
  {
   "cell_type": "code",
   "execution_count": 15,
   "metadata": {},
   "outputs": [],
   "source": [
    "# Séparation du daataset iris en training set et test set\n",
    "X = iris.data[:, :2]  # On ne récupère que les caractéristiques \"petal length\" et \"petal width\"\n",
    "y = iris.target"
   ]
  },
  {
   "cell_type": "code",
   "execution_count": 16,
   "metadata": {},
   "outputs": [
    {
     "name": "stdout",
     "output_type": "stream",
     "text": [
      "[[5.1 3.5]\n",
      " [4.9 3. ]\n",
      " [4.7 3.2]\n",
      " [4.6 3.1]\n",
      " [5.  3.6]\n",
      " [5.4 3.9]\n",
      " [4.6 3.4]\n",
      " [5.  3.4]\n",
      " [4.4 2.9]\n",
      " [4.9 3.1]\n",
      " [5.4 3.7]\n",
      " [4.8 3.4]\n",
      " [4.8 3. ]\n",
      " [4.3 3. ]\n",
      " [5.8 4. ]\n",
      " [5.7 4.4]\n",
      " [5.4 3.9]\n",
      " [5.1 3.5]\n",
      " [5.7 3.8]\n",
      " [5.1 3.8]\n",
      " [5.4 3.4]\n",
      " [5.1 3.7]\n",
      " [4.6 3.6]\n",
      " [5.1 3.3]\n",
      " [4.8 3.4]\n",
      " [5.  3. ]\n",
      " [5.  3.4]\n",
      " [5.2 3.5]\n",
      " [5.2 3.4]\n",
      " [4.7 3.2]\n",
      " [4.8 3.1]\n",
      " [5.4 3.4]\n",
      " [5.2 4.1]\n",
      " [5.5 4.2]\n",
      " [4.9 3.1]\n",
      " [5.  3.2]\n",
      " [5.5 3.5]\n",
      " [4.9 3.6]\n",
      " [4.4 3. ]\n",
      " [5.1 3.4]\n",
      " [5.  3.5]\n",
      " [4.5 2.3]\n",
      " [4.4 3.2]\n",
      " [5.  3.5]\n",
      " [5.1 3.8]\n",
      " [4.8 3. ]\n",
      " [5.1 3.8]\n",
      " [4.6 3.2]\n",
      " [5.3 3.7]\n",
      " [5.  3.3]\n",
      " [7.  3.2]\n",
      " [6.4 3.2]\n",
      " [6.9 3.1]\n",
      " [5.5 2.3]\n",
      " [6.5 2.8]\n",
      " [5.7 2.8]\n",
      " [6.3 3.3]\n",
      " [4.9 2.4]\n",
      " [6.6 2.9]\n",
      " [5.2 2.7]\n",
      " [5.  2. ]\n",
      " [5.9 3. ]\n",
      " [6.  2.2]\n",
      " [6.1 2.9]\n",
      " [5.6 2.9]\n",
      " [6.7 3.1]\n",
      " [5.6 3. ]\n",
      " [5.8 2.7]\n",
      " [6.2 2.2]\n",
      " [5.6 2.5]\n",
      " [5.9 3.2]\n",
      " [6.1 2.8]\n",
      " [6.3 2.5]\n",
      " [6.1 2.8]\n",
      " [6.4 2.9]\n",
      " [6.6 3. ]\n",
      " [6.8 2.8]\n",
      " [6.7 3. ]\n",
      " [6.  2.9]\n",
      " [5.7 2.6]\n",
      " [5.5 2.4]\n",
      " [5.5 2.4]\n",
      " [5.8 2.7]\n",
      " [6.  2.7]\n",
      " [5.4 3. ]\n",
      " [6.  3.4]\n",
      " [6.7 3.1]\n",
      " [6.3 2.3]\n",
      " [5.6 3. ]\n",
      " [5.5 2.5]\n",
      " [5.5 2.6]\n",
      " [6.1 3. ]\n",
      " [5.8 2.6]\n",
      " [5.  2.3]\n",
      " [5.6 2.7]\n",
      " [5.7 3. ]\n",
      " [5.7 2.9]\n",
      " [6.2 2.9]\n",
      " [5.1 2.5]\n",
      " [5.7 2.8]\n",
      " [6.3 3.3]\n",
      " [5.8 2.7]\n",
      " [7.1 3. ]\n",
      " [6.3 2.9]\n",
      " [6.5 3. ]\n",
      " [7.6 3. ]\n",
      " [4.9 2.5]\n",
      " [7.3 2.9]\n",
      " [6.7 2.5]\n",
      " [7.2 3.6]\n",
      " [6.5 3.2]\n",
      " [6.4 2.7]\n",
      " [6.8 3. ]\n",
      " [5.7 2.5]\n",
      " [5.8 2.8]\n",
      " [6.4 3.2]\n",
      " [6.5 3. ]\n",
      " [7.7 3.8]\n",
      " [7.7 2.6]\n",
      " [6.  2.2]\n",
      " [6.9 3.2]\n",
      " [5.6 2.8]\n",
      " [7.7 2.8]\n",
      " [6.3 2.7]\n",
      " [6.7 3.3]\n",
      " [7.2 3.2]\n",
      " [6.2 2.8]\n",
      " [6.1 3. ]\n",
      " [6.4 2.8]\n",
      " [7.2 3. ]\n",
      " [7.4 2.8]\n",
      " [7.9 3.8]\n",
      " [6.4 2.8]\n",
      " [6.3 2.8]\n",
      " [6.1 2.6]\n",
      " [7.7 3. ]\n",
      " [6.3 3.4]\n",
      " [6.4 3.1]\n",
      " [6.  3. ]\n",
      " [6.9 3.1]\n",
      " [6.7 3.1]\n",
      " [6.9 3.1]\n",
      " [5.8 2.7]\n",
      " [6.8 3.2]\n",
      " [6.7 3.3]\n",
      " [6.7 3. ]\n",
      " [6.3 2.5]\n",
      " [6.5 3. ]\n",
      " [6.2 3.4]\n",
      " [5.9 3. ]] [0 0 0 0 0 0 0 0 0 0 0 0 0 0 0 0 0 0 0 0 0 0 0 0 0 0 0 0 0 0 0 0 0 0 0 0 0\n",
      " 0 0 0 0 0 0 0 0 0 0 0 0 0 1 1 1 1 1 1 1 1 1 1 1 1 1 1 1 1 1 1 1 1 1 1 1 1\n",
      " 1 1 1 1 1 1 1 1 1 1 1 1 1 1 1 1 1 1 1 1 1 1 1 1 1 1 2 2 2 2 2 2 2 2 2 2 2\n",
      " 2 2 2 2 2 2 2 2 2 2 2 2 2 2 2 2 2 2 2 2 2 2 2 2 2 2 2 2 2 2 2 2 2 2 2 2 2\n",
      " 2 2]\n"
     ]
    }
   ],
   "source": [
    "# Affichage des données\n",
    "print(X, y)"
   ]
  },
  {
   "attachments": {},
   "cell_type": "markdown",
   "metadata": {},
   "source": [
    "*Echantillonnage des données*"
   ]
  },
  {
   "cell_type": "code",
   "execution_count": 17,
   "metadata": {},
   "outputs": [
    {
     "data": {
      "text/plain": [
       "DecisionTreeClassifier()"
      ]
     },
     "execution_count": 17,
     "metadata": {},
     "output_type": "execute_result"
    }
   ],
   "source": [
    "clf = tree.DecisionTreeClassifier()\n",
    "clf.fit(X, y)"
   ]
  },
  {
   "cell_type": "code",
   "execution_count": 18,
   "metadata": {},
   "outputs": [
    {
     "data": {
      "text/plain": [
       "[Text(0.36890243902439024, 0.9615384615384616, 'X[0] <= 5.45\\ngini = 0.667\\nsamples = 150\\nvalue = [50, 50, 50]'),\n",
       " Text(0.0975609756097561, 0.8846153846153846, 'X[1] <= 2.8\\ngini = 0.237\\nsamples = 52\\nvalue = [45, 6, 1]'),\n",
       " Text(0.04878048780487805, 0.8076923076923077, 'X[0] <= 4.7\\ngini = 0.449\\nsamples = 7\\nvalue = [1, 5, 1]'),\n",
       " Text(0.024390243902439025, 0.7307692307692307, 'gini = 0.0\\nsamples = 1\\nvalue = [1, 0, 0]'),\n",
       " Text(0.07317073170731707, 0.7307692307692307, 'X[0] <= 4.95\\ngini = 0.278\\nsamples = 6\\nvalue = [0, 5, 1]'),\n",
       " Text(0.04878048780487805, 0.6538461538461539, 'X[1] <= 2.45\\ngini = 0.5\\nsamples = 2\\nvalue = [0, 1, 1]'),\n",
       " Text(0.024390243902439025, 0.5769230769230769, 'gini = 0.0\\nsamples = 1\\nvalue = [0, 1, 0]'),\n",
       " Text(0.07317073170731707, 0.5769230769230769, 'gini = 0.0\\nsamples = 1\\nvalue = [0, 0, 1]'),\n",
       " Text(0.0975609756097561, 0.6538461538461539, 'gini = 0.0\\nsamples = 4\\nvalue = [0, 4, 0]'),\n",
       " Text(0.14634146341463414, 0.8076923076923077, 'X[0] <= 5.35\\ngini = 0.043\\nsamples = 45\\nvalue = [44, 1, 0]'),\n",
       " Text(0.12195121951219512, 0.7307692307692307, 'gini = 0.0\\nsamples = 39\\nvalue = [39, 0, 0]'),\n",
       " Text(0.17073170731707318, 0.7307692307692307, 'X[1] <= 3.2\\ngini = 0.278\\nsamples = 6\\nvalue = [5, 1, 0]'),\n",
       " Text(0.14634146341463414, 0.6538461538461539, 'gini = 0.0\\nsamples = 1\\nvalue = [0, 1, 0]'),\n",
       " Text(0.1951219512195122, 0.6538461538461539, 'gini = 0.0\\nsamples = 5\\nvalue = [5, 0, 0]'),\n",
       " Text(0.6402439024390244, 0.8846153846153846, 'X[0] <= 6.15\\ngini = 0.546\\nsamples = 98\\nvalue = [5, 44, 49]'),\n",
       " Text(0.4146341463414634, 0.8076923076923077, 'X[1] <= 3.45\\ngini = 0.508\\nsamples = 43\\nvalue = [5, 28, 10]'),\n",
       " Text(0.3902439024390244, 0.7307692307692307, 'X[0] <= 5.75\\ngini = 0.388\\nsamples = 38\\nvalue = [0, 28, 10]'),\n",
       " Text(0.24390243902439024, 0.6538461538461539, 'X[1] <= 2.85\\ngini = 0.208\\nsamples = 17\\nvalue = [0, 15, 2]'),\n",
       " Text(0.21951219512195122, 0.5769230769230769, 'X[0] <= 5.55\\ngini = 0.278\\nsamples = 12\\nvalue = [0, 10, 2]'),\n",
       " Text(0.1951219512195122, 0.5, 'gini = 0.0\\nsamples = 5\\nvalue = [0, 5, 0]'),\n",
       " Text(0.24390243902439024, 0.5, 'X[1] <= 2.55\\ngini = 0.408\\nsamples = 7\\nvalue = [0, 5, 2]'),\n",
       " Text(0.1951219512195122, 0.4230769230769231, 'X[0] <= 5.65\\ngini = 0.5\\nsamples = 2\\nvalue = [0, 1, 1]'),\n",
       " Text(0.17073170731707318, 0.34615384615384615, 'gini = 0.0\\nsamples = 1\\nvalue = [0, 1, 0]'),\n",
       " Text(0.21951219512195122, 0.34615384615384615, 'gini = 0.0\\nsamples = 1\\nvalue = [0, 0, 1]'),\n",
       " Text(0.2926829268292683, 0.4230769230769231, 'X[0] <= 5.65\\ngini = 0.32\\nsamples = 5\\nvalue = [0, 4, 1]'),\n",
       " Text(0.2682926829268293, 0.34615384615384615, 'X[1] <= 2.75\\ngini = 0.5\\nsamples = 2\\nvalue = [0, 1, 1]'),\n",
       " Text(0.24390243902439024, 0.2692307692307692, 'gini = 0.0\\nsamples = 1\\nvalue = [0, 1, 0]'),\n",
       " Text(0.2926829268292683, 0.2692307692307692, 'gini = 0.0\\nsamples = 1\\nvalue = [0, 0, 1]'),\n",
       " Text(0.3170731707317073, 0.34615384615384615, 'gini = 0.0\\nsamples = 3\\nvalue = [0, 3, 0]'),\n",
       " Text(0.2682926829268293, 0.5769230769230769, 'gini = 0.0\\nsamples = 5\\nvalue = [0, 5, 0]'),\n",
       " Text(0.5365853658536586, 0.6538461538461539, 'X[1] <= 3.1\\ngini = 0.472\\nsamples = 21\\nvalue = [0, 13, 8]'),\n",
       " Text(0.5121951219512195, 0.5769230769230769, 'X[1] <= 2.95\\ngini = 0.488\\nsamples = 19\\nvalue = [0, 11, 8]'),\n",
       " Text(0.4634146341463415, 0.5, 'X[1] <= 2.85\\ngini = 0.459\\nsamples = 14\\nvalue = [0, 9, 5]'),\n",
       " Text(0.43902439024390244, 0.4230769230769231, 'X[0] <= 5.9\\ngini = 0.486\\nsamples = 12\\nvalue = [0, 7, 5]'),\n",
       " Text(0.36585365853658536, 0.34615384615384615, 'X[1] <= 2.65\\ngini = 0.5\\nsamples = 6\\nvalue = [0, 3, 3]'),\n",
       " Text(0.34146341463414637, 0.2692307692307692, 'gini = 0.0\\nsamples = 1\\nvalue = [0, 1, 0]'),\n",
       " Text(0.3902439024390244, 0.2692307692307692, 'X[1] <= 2.75\\ngini = 0.48\\nsamples = 5\\nvalue = [0, 2, 3]'),\n",
       " Text(0.36585365853658536, 0.19230769230769232, 'gini = 0.5\\nsamples = 4\\nvalue = [0, 2, 2]'),\n",
       " Text(0.4146341463414634, 0.19230769230769232, 'gini = 0.0\\nsamples = 1\\nvalue = [0, 0, 1]'),\n",
       " Text(0.5121951219512195, 0.34615384615384615, 'X[1] <= 2.65\\ngini = 0.444\\nsamples = 6\\nvalue = [0, 4, 2]'),\n",
       " Text(0.4878048780487805, 0.2692307692307692, 'X[0] <= 6.05\\ngini = 0.444\\nsamples = 3\\nvalue = [0, 1, 2]'),\n",
       " Text(0.4634146341463415, 0.19230769230769232, 'gini = 0.5\\nsamples = 2\\nvalue = [0, 1, 1]'),\n",
       " Text(0.5121951219512195, 0.19230769230769232, 'gini = 0.0\\nsamples = 1\\nvalue = [0, 0, 1]'),\n",
       " Text(0.5365853658536586, 0.2692307692307692, 'gini = 0.0\\nsamples = 3\\nvalue = [0, 3, 0]'),\n",
       " Text(0.4878048780487805, 0.4230769230769231, 'gini = 0.0\\nsamples = 2\\nvalue = [0, 2, 0]'),\n",
       " Text(0.5609756097560976, 0.5, 'X[0] <= 5.95\\ngini = 0.48\\nsamples = 5\\nvalue = [0, 2, 3]'),\n",
       " Text(0.5365853658536586, 0.4230769230769231, 'gini = 0.5\\nsamples = 2\\nvalue = [0, 1, 1]'),\n",
       " Text(0.5853658536585366, 0.4230769230769231, 'X[0] <= 6.05\\ngini = 0.444\\nsamples = 3\\nvalue = [0, 1, 2]'),\n",
       " Text(0.5609756097560976, 0.34615384615384615, 'gini = 0.0\\nsamples = 1\\nvalue = [0, 0, 1]'),\n",
       " Text(0.6097560975609756, 0.34615384615384615, 'gini = 0.5\\nsamples = 2\\nvalue = [0, 1, 1]'),\n",
       " Text(0.5609756097560976, 0.5769230769230769, 'gini = 0.0\\nsamples = 2\\nvalue = [0, 2, 0]'),\n",
       " Text(0.43902439024390244, 0.7307692307692307, 'gini = 0.0\\nsamples = 5\\nvalue = [5, 0, 0]'),\n",
       " Text(0.8658536585365854, 0.8076923076923077, 'X[0] <= 7.05\\ngini = 0.413\\nsamples = 55\\nvalue = [0, 16, 39]'),\n",
       " Text(0.8414634146341463, 0.7307692307692307, 'X[1] <= 2.4\\ngini = 0.467\\nsamples = 43\\nvalue = [0, 16, 27]'),\n",
       " Text(0.8170731707317073, 0.6538461538461539, 'gini = 0.0\\nsamples = 2\\nvalue = [0, 2, 0]'),\n",
       " Text(0.8658536585365854, 0.6538461538461539, 'X[0] <= 6.95\\ngini = 0.45\\nsamples = 41\\nvalue = [0, 14, 27]'),\n",
       " Text(0.8414634146341463, 0.5769230769230769, 'X[1] <= 3.15\\ngini = 0.439\\nsamples = 40\\nvalue = [0, 13, 27]'),\n",
       " Text(0.7317073170731707, 0.5, 'X[0] <= 6.55\\ngini = 0.471\\nsamples = 29\\nvalue = [0, 11, 18]'),\n",
       " Text(0.6829268292682927, 0.4230769230769231, 'X[1] <= 2.95\\ngini = 0.375\\nsamples = 16\\nvalue = [0, 4, 12]'),\n",
       " Text(0.6585365853658537, 0.34615384615384615, 'X[0] <= 6.45\\ngini = 0.444\\nsamples = 12\\nvalue = [0, 4, 8]'),\n",
       " Text(0.6341463414634146, 0.2692307692307692, 'X[1] <= 2.85\\ngini = 0.397\\nsamples = 11\\nvalue = [0, 3, 8]'),\n",
       " Text(0.5853658536585366, 0.19230769230769232, 'X[1] <= 2.6\\ngini = 0.219\\nsamples = 8\\nvalue = [0, 1, 7]'),\n",
       " Text(0.5609756097560976, 0.11538461538461539, 'gini = 0.5\\nsamples = 2\\nvalue = [0, 1, 1]'),\n",
       " Text(0.6097560975609756, 0.11538461538461539, 'gini = 0.0\\nsamples = 6\\nvalue = [0, 0, 6]'),\n",
       " Text(0.6829268292682927, 0.19230769230769232, 'X[0] <= 6.25\\ngini = 0.444\\nsamples = 3\\nvalue = [0, 2, 1]'),\n",
       " Text(0.6585365853658537, 0.11538461538461539, 'gini = 0.0\\nsamples = 1\\nvalue = [0, 1, 0]'),\n",
       " Text(0.7073170731707317, 0.11538461538461539, 'X[0] <= 6.35\\ngini = 0.5\\nsamples = 2\\nvalue = [0, 1, 1]'),\n",
       " Text(0.6829268292682927, 0.038461538461538464, 'gini = 0.0\\nsamples = 1\\nvalue = [0, 0, 1]'),\n",
       " Text(0.7317073170731707, 0.038461538461538464, 'gini = 0.0\\nsamples = 1\\nvalue = [0, 1, 0]'),\n",
       " Text(0.6829268292682927, 0.2692307692307692, 'gini = 0.0\\nsamples = 1\\nvalue = [0, 1, 0]'),\n",
       " Text(0.7073170731707317, 0.34615384615384615, 'gini = 0.0\\nsamples = 4\\nvalue = [0, 0, 4]'),\n",
       " Text(0.7804878048780488, 0.4230769230769231, 'X[0] <= 6.65\\ngini = 0.497\\nsamples = 13\\nvalue = [0, 7, 6]'),\n",
       " Text(0.7560975609756098, 0.34615384615384615, 'gini = 0.0\\nsamples = 2\\nvalue = [0, 2, 0]'),\n",
       " Text(0.8048780487804879, 0.34615384615384615, 'X[1] <= 2.65\\ngini = 0.496\\nsamples = 11\\nvalue = [0, 5, 6]'),\n",
       " Text(0.7804878048780488, 0.2692307692307692, 'gini = 0.0\\nsamples = 1\\nvalue = [0, 0, 1]'),\n",
       " Text(0.8292682926829268, 0.2692307692307692, 'X[1] <= 2.9\\ngini = 0.5\\nsamples = 10\\nvalue = [0, 5, 5]'),\n",
       " Text(0.8048780487804879, 0.19230769230769232, 'gini = 0.0\\nsamples = 1\\nvalue = [0, 1, 0]'),\n",
       " Text(0.8536585365853658, 0.19230769230769232, 'X[0] <= 6.75\\ngini = 0.494\\nsamples = 9\\nvalue = [0, 4, 5]'),\n",
       " Text(0.8048780487804879, 0.11538461538461539, 'X[1] <= 3.05\\ngini = 0.48\\nsamples = 5\\nvalue = [0, 3, 2]'),\n",
       " Text(0.7804878048780488, 0.038461538461538464, 'gini = 0.5\\nsamples = 2\\nvalue = [0, 1, 1]'),\n",
       " Text(0.8292682926829268, 0.038461538461538464, 'gini = 0.444\\nsamples = 3\\nvalue = [0, 2, 1]'),\n",
       " Text(0.9024390243902439, 0.11538461538461539, 'X[0] <= 6.85\\ngini = 0.375\\nsamples = 4\\nvalue = [0, 1, 3]'),\n",
       " Text(0.8780487804878049, 0.038461538461538464, 'gini = 0.0\\nsamples = 1\\nvalue = [0, 0, 1]'),\n",
       " Text(0.926829268292683, 0.038461538461538464, 'gini = 0.444\\nsamples = 3\\nvalue = [0, 1, 2]'),\n",
       " Text(0.9512195121951219, 0.5, 'X[0] <= 6.45\\ngini = 0.298\\nsamples = 11\\nvalue = [0, 2, 9]'),\n",
       " Text(0.926829268292683, 0.4230769230769231, 'X[1] <= 3.35\\ngini = 0.444\\nsamples = 6\\nvalue = [0, 2, 4]'),\n",
       " Text(0.9024390243902439, 0.34615384615384615, 'X[0] <= 6.35\\ngini = 0.5\\nsamples = 4\\nvalue = [0, 2, 2]'),\n",
       " Text(0.8780487804878049, 0.2692307692307692, 'gini = 0.5\\nsamples = 2\\nvalue = [0, 1, 1]'),\n",
       " Text(0.926829268292683, 0.2692307692307692, 'gini = 0.5\\nsamples = 2\\nvalue = [0, 1, 1]'),\n",
       " Text(0.9512195121951219, 0.34615384615384615, 'gini = 0.0\\nsamples = 2\\nvalue = [0, 0, 2]'),\n",
       " Text(0.975609756097561, 0.4230769230769231, 'gini = 0.0\\nsamples = 5\\nvalue = [0, 0, 5]'),\n",
       " Text(0.8902439024390244, 0.5769230769230769, 'gini = 0.0\\nsamples = 1\\nvalue = [0, 1, 0]'),\n",
       " Text(0.8902439024390244, 0.7307692307692307, 'gini = 0.0\\nsamples = 12\\nvalue = [0, 0, 12]')]"
      ]
     },
     "execution_count": 18,
     "metadata": {},
     "output_type": "execute_result"
    },
    {
     "data": {
      "image/png": "[encoded data removed]",
      "text/plain": [
       "<Figure size 640x480 with 1 Axes>"
      ]
     },
     "metadata": {},
     "output_type": "display_data"
    }
   ],
   "source": [
    "# Affichage de l'arbre de décision\n",
    "tree.plot_tree(clf)"
   ]
  },
  {
   "cell_type": "code",
   "execution_count": 19,
   "metadata": {},
   "outputs": [
    {
     "data": {
      "text/plain": [
       "'iris.pdf'"
      ]
     },
     "execution_count": 19,
     "metadata": {},
     "output_type": "execute_result"
    }
   ],
   "source": [
    "# Chargement de la bibliothèque graphviz\n",
    "import graphviz\n",
    "\n",
    "# \n",
    "dot_data = tree.export_graphviz(clf, out_file=None) \n",
    "graph = graphviz.Source(dot_data) \n",
    "graph.render(\"iris\")"
   ]
  }
 ],
 "metadata": {
  "kernelspec": {
   "display_name": "base",
   "language": "python",
   "name": "python3"
  },
  "language_info": {
   "codemirror_mode": {
    "name": "ipython",
    "version": 3
   },
   "file_extension": ".py",
   "mimetype": "text/x-python",
   "name": "python",
   "nbconvert_exporter": "python",
   "pygments_lexer": "ipython3",
   "version": "3.9.13"
  },
  "orig_nbformat": 4,
  "vscode": {
   "interpreter": {
    "hash": "700029e5f9c8992c55d37e3a404b0b432c68d401a3c06e21a848c27e97636ef3"
   }
  }
 },
 "nbformat": 4,
 "nbformat_minor": 2
}
