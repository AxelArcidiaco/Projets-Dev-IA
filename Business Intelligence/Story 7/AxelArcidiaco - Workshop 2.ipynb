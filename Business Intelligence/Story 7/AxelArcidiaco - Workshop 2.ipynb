{
 "cells": [
  {
   "cell_type": "code",
   "execution_count": 2,
   "metadata": {},
   "outputs": [],
   "source": [
    "# Importation des bibliotheques Python\n",
    "import os\n",
    "import io\n",
    "\n",
    "#quelques variables globales utiles\n",
    "PATH_TO_HAM_DIR = \"C:\\\\Users\\\\AxelArcidiaco\\\\Documents\\\\GRETA\\\\Projet Dev\\\\Business Intelligence\\\\Story 7\\\\data\\\\emails\\\\ham\"\n",
    "PATH_TO_SPAM_DIR = \"C:\\\\Users\\\\AxelArcidiaco\\\\Documents\\\\GRETA\\\\Projet Dev\\\\Business Intelligence\\\\Story 7\\\\data\\\\emails\\\\spam\"\n",
    " \n",
    "SPAM_TYPE = \"SPAM\"\n",
    "HAM_TYPE = \"HAM\"\n",
    " \n",
    "# les tableaux X et Y seront ordonnés et de la même taille\n",
    "# X représente l'input Data (ici les mails)\n",
    "X = []\n",
    "# indique s'il s'agit d'un mail ou non\n",
    "Y = [] # les etiquettes (labels) pour le training set\n",
    " \n",
    " \n",
    "def readFilesFromDirectory(path, classification):\n",
    "    os.chdir(path)\n",
    "    files_name = os.listdir(path)\n",
    "    for current_file in files_name:\n",
    "        message = extract_mail_body(current_file)\n",
    "        X.append(message)\n",
    "        Y.append(classification)\n",
    "        \n",
    "            \n",
    " \n",
    "def extract_mail_body(file_name_str):\n",
    "    inBody = False\n",
    "    lines = []\n",
    "    file_descriptor = io.open(file_name_str,'r', encoding='latin1')\n",
    "    for line in file_descriptor:\n",
    "        if inBody:\n",
    "            lines.append(line)\n",
    "        elif line == '\\\\n':\n",
    "            inBody = True\n",
    "        message = '\\\\n'.join(lines)\n",
    "    file_descriptor.close()\n",
    "    return message\n",
    " \n",
    " \n",
    "readFilesFromDirectory(PATH_TO_HAM_DIR, HAM_TYPE)\n",
    "readFilesFromDirectory(PATH_TO_SPAM_DIR, SPAM_TYPE)"
   ]
  }
 ],
 "metadata": {
  "kernelspec": {
   "display_name": "base",
   "language": "python",
   "name": "python3"
  },
  "language_info": {
   "codemirror_mode": {
    "name": "ipython",
    "version": 3
   },
   "file_extension": ".py",
   "mimetype": "text/x-python",
   "name": "python",
   "nbconvert_exporter": "python",
   "pygments_lexer": "ipython3",
   "version": "3.9.13"
  },
  "orig_nbformat": 4,
  "vscode": {
   "interpreter": {
    "hash": "700029e5f9c8992c55d37e3a404b0b432c68d401a3c06e21a848c27e97636ef3"
   }
  }
 },
 "nbformat": 4,
 "nbformat_minor": 2
}
