{
 "cells": [
  {
   "cell_type": "code",
   "execution_count": 1,
   "metadata": {},
   "outputs": [],
   "source": [
    "# Importation des bibliotheques Python\n",
    "import os\n",
    "import io\n",
    "import pandas as pd\n",
    "from sklearn.feature_extraction.text import CountVectorizer\n",
    "from sklearn.naive_bayes import MultinomialNB\n",
    "\n",
    "#quelques variables globales utiles\n",
    "PATH_TO_HAM_DIR = \"C:/Users/AxelArcidiaco/Documents/GRETA/Projet Dev/Business Intelligence/Story 7/data/emails/ham\"\n",
    "PATH_TO_SPAM_DIR = \"C:/Users/AxelArcidiaco/Documents/GRETA/Projet Dev/Business Intelligence/Story 7/data/emails/spam\"\n",
    " \n",
    "SPAM_TYPE = \"SPAM\"\n",
    "HAM_TYPE = \"HAM\"\n",
    " \n",
    "# les tableaux X et Y seront ordonnés et de la même taille\n",
    "# X représente l'input Data (ici les mails)\n",
    "X = []\n",
    "# indique s'il s'agit d'un mail ou non\n",
    "Y = [] # les etiquettes (labels) pour le training set\n",
    " \n",
    "# Fonction qui permet de lire les fichiers représentant des emails et présent dans un dossier de l'ordinateur.\n",
    "# Elle permet aussi de sauvegarder dans des listes prédéfinies le messages contenu dans l'email ainsi que la classification de l'email : \n",
    "# spam ou non spam avec l'aide de la fonction extract_mail_body()\n",
    "def readFilesFromDirectory(path, classification):\n",
    "    os.chdir(path)\n",
    "    files_name = os.listdir(path)\n",
    "    for current_file in files_name:\n",
    "        message = extract_mail_body(current_file)\n",
    "        X.append(message)\n",
    "        Y.append(classification)\n",
    "\n",
    "# Fonction qui permet d'extraire le corps texte d'un email\n",
    "def extract_mail_body(file_name_str):\n",
    "    inBody = False\n",
    "    lines = []\n",
    "    file_descriptor = io.open(file_name_str,'r', encoding='latin1')\n",
    "    for line in file_descriptor:\n",
    "        if inBody:\n",
    "            lines.append(line)\n",
    "        elif line == '\\n':\n",
    "            inBody = True\n",
    "        message = '\\n'.join(lines)\n",
    "    file_descriptor.close()\n",
    "    return message\n",
    " \n",
    "readFilesFromDirectory(PATH_TO_HAM_DIR, HAM_TYPE)\n",
    "readFilesFromDirectory(PATH_TO_SPAM_DIR, SPAM_TYPE)"
   ]
  },
  {
   "cell_type": "code",
   "execution_count": 2,
   "metadata": {},
   "outputs": [
    {
     "data": {
      "text/plain": [
       "(3000, 2)"
      ]
     },
     "execution_count": 2,
     "metadata": {},
     "output_type": "execute_result"
    }
   ],
   "source": [
    "# Création d'un dataframe a partir des listes X et Y\n",
    "training_set = pd.DataFrame({'X': X, 'Y': Y})\n",
    "\n",
    "# Affichage des dimesion du dataframe training_set\n",
    "training_set.shape"
   ]
  },
  {
   "cell_type": "code",
   "execution_count": 3,
   "metadata": {},
   "outputs": [
    {
     "data": {
      "text/html": [
       "<div>\n",
       "<style scoped>\n",
       "    .dataframe tbody tr th:only-of-type {\n",
       "        vertical-align: middle;\n",
       "    }\n",
       "\n",
       "    .dataframe tbody tr th {\n",
       "        vertical-align: top;\n",
       "    }\n",
       "\n",
       "    .dataframe thead th {\n",
       "        text-align: right;\n",
       "    }\n",
       "</style>\n",
       "<table border=\"1\" class=\"dataframe\">\n",
       "  <thead>\n",
       "    <tr style=\"text-align: right;\">\n",
       "      <th></th>\n",
       "      <th>X</th>\n",
       "      <th>Y</th>\n",
       "    </tr>\n",
       "  </thead>\n",
       "  <tbody>\n",
       "    <tr>\n",
       "      <th>0</th>\n",
       "      <td>Date:        Wed, 21 Aug 2002 10:54:46 -05...</td>\n",
       "      <td>HAM</td>\n",
       "    </tr>\n",
       "    <tr>\n",
       "      <th>1</th>\n",
       "      <td>Martin A posted:\\n\\nTassos Papadopoulos, the G...</td>\n",
       "      <td>HAM</td>\n",
       "    </tr>\n",
       "    <tr>\n",
       "      <th>2</th>\n",
       "      <td>Man Threatens Explosion In Moscow \\n\\n\\n\\nThur...</td>\n",
       "      <td>HAM</td>\n",
       "    </tr>\n",
       "    <tr>\n",
       "      <th>3</th>\n",
       "      <td>Klez: The Virus That Won't Die\\n\\n \\n\\nAlready...</td>\n",
       "      <td>HAM</td>\n",
       "    </tr>\n",
       "    <tr>\n",
       "      <th>4</th>\n",
       "      <td>&gt;  in adding cream to spaghetti carbonara, whi...</td>\n",
       "      <td>HAM</td>\n",
       "    </tr>\n",
       "    <tr>\n",
       "      <th>5</th>\n",
       "      <td>\\n\\n&gt; I just had to jump in here as Carbonara ...</td>\n",
       "      <td>HAM</td>\n",
       "    </tr>\n",
       "    <tr>\n",
       "      <th>6</th>\n",
       "      <td>The Scotsman - 22 August 2002\\n\\n\\n\\n Playboy ...</td>\n",
       "      <td>HAM</td>\n",
       "    </tr>\n",
       "    <tr>\n",
       "      <th>7</th>\n",
       "      <td>Martin Adamson wrote:\\n\\n&gt; \\n\\n&gt; Isn't it just...</td>\n",
       "      <td>HAM</td>\n",
       "    </tr>\n",
       "    <tr>\n",
       "      <th>8</th>\n",
       "      <td>The Scotsman\\n\\n\\n\\n Thu 22 Aug 2002 \\n\\n\\n\\n ...</td>\n",
       "      <td>HAM</td>\n",
       "    </tr>\n",
       "    <tr>\n",
       "      <th>9</th>\n",
       "      <td>I have been trying to research via SA mirrors ...</td>\n",
       "      <td>HAM</td>\n",
       "    </tr>\n",
       "  </tbody>\n",
       "</table>\n",
       "</div>"
      ],
      "text/plain": [
       "                                                   X    Y\n",
       "0      Date:        Wed, 21 Aug 2002 10:54:46 -05...  HAM\n",
       "1  Martin A posted:\\n\\nTassos Papadopoulos, the G...  HAM\n",
       "2  Man Threatens Explosion In Moscow \\n\\n\\n\\nThur...  HAM\n",
       "3  Klez: The Virus That Won't Die\\n\\n \\n\\nAlready...  HAM\n",
       "4  >  in adding cream to spaghetti carbonara, whi...  HAM\n",
       "5  \\n\\n> I just had to jump in here as Carbonara ...  HAM\n",
       "6  The Scotsman - 22 August 2002\\n\\n\\n\\n Playboy ...  HAM\n",
       "7  Martin Adamson wrote:\\n\\n> \\n\\n> Isn't it just...  HAM\n",
       "8  The Scotsman\\n\\n\\n\\n Thu 22 Aug 2002 \\n\\n\\n\\n ...  HAM\n",
       "9  I have been trying to research via SA mirrors ...  HAM"
      ]
     },
     "execution_count": 3,
     "metadata": {},
     "output_type": "execute_result"
    }
   ],
   "source": [
    "# Affichage des 10 premières lignes du dataframe training_set\n",
    "training_set.head(10)"
   ]
  },
  {
   "cell_type": "code",
   "execution_count": 4,
   "metadata": {},
   "outputs": [],
   "source": [
    "# Préparation du classifieur Naïve Bayes\n",
    "vectorizer = CountVectorizer() \n",
    "counts = vectorizer.fit_transform(training_set['X'].values)"
   ]
  },
  {
   "cell_type": "code",
   "execution_count": 5,
   "metadata": {},
   "outputs": [
    {
     "data": {
      "text/plain": [
       "MultinomialNB()"
      ]
     },
     "execution_count": 5,
     "metadata": {},
     "output_type": "execute_result"
    }
   ],
   "source": [
    "# Entrainement du Naive Bayes Classifier\n",
    "classifier = MultinomialNB()\n",
    "targets = training_set['Y'].values\n",
    "classifier.fit(counts, targets)"
   ]
  },
  {
   "cell_type": "code",
   "execution_count": 6,
   "metadata": {},
   "outputs": [
    {
     "name": "stdout",
     "output_type": "stream",
     "text": [
      "['SPAM' 'HAM']\n"
     ]
    }
   ],
   "source": [
    "# Tester du Spam Filter\n",
    "examples = [\n",
    "    'Free Viagra now!!!',\n",
    "    \"Hi Bob, how about a game of golf tomorrow?\"\n",
    "] \n",
    "example_counts = vectorizer.transform(examples) \n",
    "predictions = classifier.predict(example_counts)\n",
    "\n",
    "# Affichage des résultats de prédicitions\n",
    "print(predictions)"
   ]
  }
 ],
 "metadata": {
  "kernelspec": {
   "display_name": "base",
   "language": "python",
   "name": "python3"
  },
  "language_info": {
   "codemirror_mode": {
    "name": "ipython",
    "version": 3
   },
   "file_extension": ".py",
   "mimetype": "text/x-python",
   "name": "python",
   "nbconvert_exporter": "python",
   "pygments_lexer": "ipython3",
   "version": "3.9.13"
  },
  "orig_nbformat": 4,
  "vscode": {
   "interpreter": {
    "hash": "700029e5f9c8992c55d37e3a404b0b432c68d401a3c06e21a848c27e97636ef3"
   }
  }
 },
 "nbformat": 4,
 "nbformat_minor": 2
}
