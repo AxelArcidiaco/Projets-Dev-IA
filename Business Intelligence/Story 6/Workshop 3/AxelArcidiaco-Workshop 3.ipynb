{
 "cells": [
  {
   "cell_type": "code",
   "execution_count": 1,
   "metadata": {},
   "outputs": [
    {
     "name": "stdout",
     "output_type": "stream",
     "text": [
      "   Apple   Corn   Dill   Eggs  Ice cream  Kidney Beans   Milk  Nutmeg  Onion  \\\n",
      "0  False  False  False   True      False          True   True    True   True   \n",
      "1  False  False   True   True      False          True  False    True   True   \n",
      "2   True  False  False   True      False          True   True   False  False   \n",
      "3  False   True  False  False      False          True   True   False  False   \n",
      "4  False   True  False   True       True          True  False   False   True   \n",
      "\n",
      "   Unicorn  Yogurt  \n",
      "0    False    True  \n",
      "1    False    True  \n",
      "2    False   False  \n",
      "3     True    True  \n",
      "4    False   False  \n",
      "    support                     itemsets\n",
      "0       0.8                       (Eggs)\n",
      "1       1.0               (Kidney Beans)\n",
      "2       0.6                       (Milk)\n",
      "3       0.6                      (Onion)\n",
      "4       0.6                     (Yogurt)\n",
      "5       0.8         (Eggs, Kidney Beans)\n",
      "6       0.6                (Onion, Eggs)\n",
      "7       0.6         (Kidney Beans, Milk)\n",
      "8       0.6        (Onion, Kidney Beans)\n",
      "9       0.6       (Kidney Beans, Yogurt)\n",
      "10      0.6  (Onion, Eggs, Kidney Beans)\n",
      "             antecedents            consequents  antecedent support  \\\n",
      "0                (Onion)                 (Eggs)                 0.6   \n",
      "1                 (Eggs)                (Onion)                 0.8   \n",
      "2  (Onion, Kidney Beans)                 (Eggs)                 0.6   \n",
      "3   (Eggs, Kidney Beans)                (Onion)                 0.8   \n",
      "4                (Onion)   (Eggs, Kidney Beans)                 0.6   \n",
      "5                 (Eggs)  (Onion, Kidney Beans)                 0.8   \n",
      "\n",
      "   consequent support  support  confidence  lift  leverage  conviction  \n",
      "0                 0.8      0.6        1.00  1.25      0.12         inf  \n",
      "1                 0.6      0.6        0.75  1.25      0.12         1.6  \n",
      "2                 0.8      0.6        1.00  1.25      0.12         inf  \n",
      "3                 0.6      0.6        0.75  1.25      0.12         1.6  \n",
      "4                 0.8      0.6        1.00  1.25      0.12         inf  \n",
      "5                 0.6      0.6        0.75  1.25      0.12         1.6  \n"
     ]
    }
   ],
   "source": [
    "# Getting Association Rules from Array Data\n",
    "dataset = [\n",
    "    ['Milk', 'Onion', 'Nutmeg', 'Kidney Beans', 'Eggs', 'Yogurt'],\n",
    "    ['Dill', 'Onion', 'Nutmeg', 'Kidney Beans', 'Eggs', 'Yogurt'],\n",
    "    ['Milk', 'Apple', 'Kidney Beans', 'Eggs'],\n",
    "    ['Milk', 'Unicorn', 'Corn', 'Kidney Beans', 'Yogurt'],\n",
    "    ['Corn', 'Onion', 'Onion', 'Kidney Beans', 'Ice cream', 'Eggs']\n",
    "]\n",
    "           \n",
    "# Importation des bibliothèques Python\n",
    "import pandas as pd\n",
    "from mlxtend.preprocessing import TransactionEncoder\n",
    "from mlxtend.frequent_patterns import apriori\n",
    "from mlxtend.frequent_patterns import association_rules\n",
    " \n",
    "oht = TransactionEncoder()\n",
    "oht_ary = oht.fit(dataset).transform(dataset)\n",
    "df = pd.DataFrame(oht_ary, columns=oht.columns_)\n",
    "print (df)           \n",
    " \n",
    "frequent_itemsets = apriori(df, min_support=0.6, use_colnames=True)\n",
    "print (frequent_itemsets)\n",
    " \n",
    "association_rules(frequent_itemsets, metric=\"confidence\", min_threshold=0.7)\n",
    "rules = association_rules(frequent_itemsets, metric=\"lift\", min_threshold=1.2)\n",
    "print (rules)"
   ]
  },
  {
   "cell_type": "code",
   "execution_count": 2,
   "metadata": {},
   "outputs": [
    {
     "data": {
      "image/png": "[encoded data removed]",
      "text/plain": [
       "<Figure size 640x480 with 1 Axes>"
      ]
     },
     "metadata": {},
     "output_type": "display_data"
    }
   ],
   "source": [
    "import random\n",
    "import matplotlib.pyplot as plt\n",
    "\n",
    "support = rules['support'].values\n",
    "confidence = rules['confidence'].values\n",
    "\n",
    " \n",
    "for i in range (len(support)):\n",
    "   support[i] = support[i] + 0.0025 * (random.randint(1,10) - 5) \n",
    "   confidence[i] = confidence[i] + 0.0025 * (random.randint(1,10) - 5)\n",
    " \n",
    "plt.scatter(support, confidence,   alpha=0.5, marker=\"*\")\n",
    "plt.xlabel('support')\n",
    "plt.ylabel('confidence') \n",
    "plt.show()"
   ]
  },
  {
   "cell_type": "code",
   "execution_count": 4,
   "metadata": {},
   "outputs": [],
   "source": [
    "def draw_graph(rules, rules_to_show):\n",
    "  import networkx as nx\n",
    "  import numpy as np\n",
    "  G1 = nx.DiGraph()\n",
    "   \n",
    "  color_map=[]\n",
    "  N = 50\n",
    "  colors = np.random.rand(N)    \n",
    "  strs=['R0', 'R1', 'R2', 'R3', 'R4', 'R5', 'R6', 'R7', 'R8', 'R9', 'R10', 'R11']   \n",
    "   \n",
    "   \n",
    "  for i in range (rules_to_show):      \n",
    "    G1.add_nodes_from([\"R\"+str(i)])\n",
    "    \n",
    "     \n",
    "    for a in rules.iloc[i]['antecedants']:\n",
    "                \n",
    "        G1.add_nodes_from([a])\n",
    "        \n",
    "        G1.add_edge(a, \"R\"+str(i), color=colors[i] , weight = 2)\n",
    "       \n",
    "    for c in rules.iloc[i]['consequents']:\n",
    "             \n",
    "            G1.add_nodes_from()\n",
    "            \n",
    "            G1.add_edge(\"R\"+str(i), c, color=colors[i],  weight=2)\n",
    " \n",
    "  for node in G1:\n",
    "       found_a_string = False\n",
    "       for item in strs: \n",
    "           if node==item:\n",
    "                found_a_string = True\n",
    "       if found_a_string:\n",
    "            color_map.append('yellow')\n",
    "       else:\n",
    "            color_map.append('green')       \n",
    " \n",
    " \n",
    "   \n",
    "  edges = G1.edges()\n",
    "  colors = [G1[u][v]['color'] for u,v in edges]\n",
    "  weights = [G1[u][v]['weight'] for u,v in edges]\n",
    " \n",
    "  pos = nx.spring_layout(G1, k=16, scale=1)\n",
    "  nx.draw(G1, pos, edges=edges, node_color = color_map, edge_color=colors, width=weights, font_size=16, with_labels=False)            \n",
    "   \n",
    "  for p in pos:  # raise text positions\n",
    "           pos[p][1] += 0.07\n",
    "  nx.draw_networkx_labels(G1, pos)\n",
    "  plt.show()"
   ]
  }
 ],
 "metadata": {
  "kernelspec": {
   "display_name": "Python 3 (ipykernel)",
   "language": "python",
   "name": "python3"
  },
  "language_info": {
   "codemirror_mode": {
    "name": "ipython",
    "version": 3
   },
   "file_extension": ".py",
   "mimetype": "text/x-python",
   "name": "python",
   "nbconvert_exporter": "python",
   "pygments_lexer": "ipython3",
   "version": "3.9.13"
  },
  "vscode": {
   "interpreter": {
    "hash": "700029e5f9c8992c55d37e3a404b0b432c68d401a3c06e21a848c27e97636ef3"
   }
  }
 },
 "nbformat": 4,
 "nbformat_minor": 2
}
