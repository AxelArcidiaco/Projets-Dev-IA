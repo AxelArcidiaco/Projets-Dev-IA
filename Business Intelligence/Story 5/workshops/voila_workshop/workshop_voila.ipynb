{
 "cells": [
  {
   "cell_type": "code",
   "execution_count": 1,
   "metadata": {},
   "outputs": [],
   "source": [
    "from __future__ import print_function\n",
    "\n",
    "from IPython.display import display\n",
    "import pandas as pd\n",
    "import numpy as np\n",
    "\n",
    "from ipywidgets import interact, interactive, fixed, interact_manual\n",
    "import ipywidgets as widgets"
   ]
  },
  {
   "attachments": {},
   "cell_type": "markdown",
   "metadata": {},
   "source": [
    "# Dashboard COVID 19 Voilà"
   ]
  },
  {
   "cell_type": "code",
   "execution_count": 2,
   "metadata": {},
   "outputs": [
    {
     "ename": "FileNotFoundError",
     "evalue": "[Errno 2] No such file or directory: 'C:/Users/AxelArcidiaco/Documents/GRETA/Projet Dev/Business Intelligence/Story 5/workshops/workshops/voila_workshop/red-and-sky-blue.png'",
     "output_type": "error",
     "traceback": [
      "\u001b[1;31m---------------------------------------------------------------------------\u001b[0m",
      "\u001b[1;31mFileNotFoundError\u001b[0m                         Traceback (most recent call last)",
      "\u001b[1;32m~\\AppData\\Local\\Temp\\ipykernel_15300\\1393964156.py\u001b[0m in \u001b[0;36m<module>\u001b[1;34m\u001b[0m\n\u001b[1;32m----> 1\u001b[1;33m \u001b[1;32mwith\u001b[0m \u001b[0mopen\u001b[0m\u001b[1;33m(\u001b[0m\u001b[0mfile\u001b[0m\u001b[1;33m=\u001b[0m\u001b[1;34m'C:/Users/AxelArcidiaco/Documents/GRETA/Projet Dev/Business Intelligence/Story 5/workshops/workshops/voila_workshop/red-and-sky-blue.png'\u001b[0m\u001b[1;33m,\u001b[0m \u001b[0mmode\u001b[0m\u001b[1;33m=\u001b[0m\u001b[1;34m'rb'\u001b[0m\u001b[1;33m)\u001b[0m \u001b[1;32mas\u001b[0m \u001b[0mf_image\u001b[0m \u001b[1;33m:\u001b[0m\u001b[1;33m\u001b[0m\u001b[1;33m\u001b[0m\u001b[0m\n\u001b[0m\u001b[0;32m      2\u001b[0m     \u001b[0mimage\u001b[0m \u001b[1;33m=\u001b[0m \u001b[0mf_image\u001b[0m\u001b[1;33m.\u001b[0m\u001b[0mread\u001b[0m\u001b[1;33m(\u001b[0m\u001b[1;33m)\u001b[0m\u001b[1;33m\u001b[0m\u001b[1;33m\u001b[0m\u001b[0m\n\u001b[0;32m      3\u001b[0m     \u001b[0mdisplay\u001b[0m\u001b[1;33m(\u001b[0m\u001b[0mwidgets\u001b[0m\u001b[1;33m.\u001b[0m\u001b[0mImage\u001b[0m\u001b[1;33m(\u001b[0m\u001b[0mvalue\u001b[0m\u001b[1;33m=\u001b[0m\u001b[0mimage\u001b[0m\u001b[1;33m,\u001b[0m \u001b[0mformat\u001b[0m\u001b[1;33m=\u001b[0m\u001b[1;34m'png'\u001b[0m\u001b[1;33m)\u001b[0m\u001b[1;33m)\u001b[0m\u001b[1;33m\u001b[0m\u001b[1;33m\u001b[0m\u001b[0m\n",
      "\u001b[1;31mFileNotFoundError\u001b[0m: [Errno 2] No such file or directory: 'C:/Users/AxelArcidiaco/Documents/GRETA/Projet Dev/Business Intelligence/Story 5/workshops/workshops/voila_workshop/red-and-sky-blue.png'"
     ]
    }
   ],
   "source": [
    "with open(file='C:/Users/AxelArcidiaco/Documents/GRETA/Projet Dev/Business Intelligence/Story 5/workshops/workshops/voila_workshop/red-and-sky-blue.png', mode='rb') as f_image :\n",
    "    image = f_image.read()\n",
    "    display(widgets.Image(value=image, format='png'))"
   ]
  },
  {
   "cell_type": "code",
   "execution_count": null,
   "metadata": {},
   "outputs": [],
   "source": [
    "dfs = dict()\n",
    "dfs[\"confirmed\"] = pd.read_csv('../covid_19/csse_covid_19_time_series/time_series_covid19_confirmed_global.csv')\n",
    "dfs['death'] = pd.read_csv('../covid_19/csse_covid_19_time_series/time_series_covid19_deaths_global.csv')\n",
    "dfs['recovered'] = pd.read_csv('../covid_19/csse_covid_19_time_series/time_series_covid19_recovered_global.csv')\n",
    "dfs['country'] = pd.read_csv('../covid_19/csse_covid_19_time_series/UID_ISO_FIPS_LookUp_Table.csv')"
   ]
  },
  {
   "cell_type": "code",
   "execution_count": null,
   "metadata": {},
   "outputs": [],
   "source": [
    "for df in dfs:\n",
    "    dfs[df].columns = map(str.lower, dfs[df].columns)\n"
   ]
  },
  {
   "cell_type": "code",
   "execution_count": null,
   "metadata": {},
   "outputs": [],
   "source": [
    "for df in dfs:\n",
    "    dfs[df] = dfs[df].rename(columns = {'province/state' : 'state', 'country/region' : 'country'})"
   ]
  },
  {
   "cell_type": "code",
   "execution_count": null,
   "metadata": {},
   "outputs": [],
   "source": [
    "dfs['country'].rename(columns = {'province_state' : 'state', 'country_region' : 'country'}, inplace=True)"
   ]
  },
  {
   "cell_type": "code",
   "execution_count": null,
   "metadata": {},
   "outputs": [],
   "source": [
    "dfs['country'].drop(columns=['uid', 'iso2', 'iso3', 'code3', 'fips', 'admin2', 'combined_key'], inplace=True)"
   ]
  },
  {
   "cell_type": "code",
   "execution_count": null,
   "metadata": {},
   "outputs": [],
   "source": [
    "#dfs[\"confirmed\"].head()"
   ]
  },
  {
   "cell_type": "code",
   "execution_count": null,
   "metadata": {},
   "outputs": [],
   "source": [
    "for df in dfs:\n",
    "    dfs[df]['state'].fillna(\"\", inplace=True)"
   ]
  },
  {
   "cell_type": "code",
   "execution_count": null,
   "metadata": {},
   "outputs": [],
   "source": [
    "#dfs[\"death\"]"
   ]
  },
  {
   "cell_type": "code",
   "execution_count": null,
   "metadata": {},
   "outputs": [],
   "source": [
    "for df in ['confirmed', 'death', 'recovered']:\n",
    "    dfs[df][df] = dfs[df].loc[:,'1/22/20':'12/14/22'].sum(axis=1)"
   ]
  },
  {
   "cell_type": "code",
   "execution_count": null,
   "metadata": {},
   "outputs": [],
   "source": [
    "#dfs[\"death\"]"
   ]
  },
  {
   "cell_type": "code",
   "execution_count": null,
   "metadata": {},
   "outputs": [],
   "source": [
    "#dfs[\"confirmed\"].set_index(['country', 'state'], inplace=True)"
   ]
  },
  {
   "cell_type": "code",
   "execution_count": null,
   "metadata": {},
   "outputs": [],
   "source": [
    "#for df in ['confirmed', 'death', 'recovered']:\n",
    "#    dfs[df].set_index(['country', 'state'], inplace=True)"
   ]
  },
  {
   "cell_type": "code",
   "execution_count": null,
   "metadata": {},
   "outputs": [],
   "source": [
    "for df in ['confirmed', 'death', 'recovered']:\n",
    "    dfs['country'] = dfs['country'].join(other=dfs[df].set_index(['country', 'state'])[df], on=['country', 'state'], how='inner')"
   ]
  },
  {
   "cell_type": "code",
   "execution_count": null,
   "metadata": {},
   "outputs": [],
   "source": [
    "#dfs[\"country\"] = dfs[\"country\"].join(other=dfs[\"confirmed\"]['confirmed'], on=['country', 'state'], how='inner')"
   ]
  },
  {
   "cell_type": "code",
   "execution_count": null,
   "metadata": {},
   "outputs": [],
   "source": [
    "#dfs[\"country\"].head()"
   ]
  },
  {
   "cell_type": "code",
   "execution_count": null,
   "metadata": {},
   "outputs": [],
   "source": [
    "dfs['country_sorted'] = dfs['country'].sort_values('confirmed', ascending=False)"
   ]
  },
  {
   "cell_type": "code",
   "execution_count": null,
   "metadata": {},
   "outputs": [],
   "source": [
    "#dfs['country_sorted'].head(5)"
   ]
  },
  {
   "attachments": {},
   "cell_type": "markdown",
   "metadata": {},
   "source": [
    "# Statistiques par pays\n",
    "Nombres de de cas confirmés, de morts et de cas soignés par pays classé par nombre de cas confirmés.\n"
   ]
  },
  {
   "cell_type": "code",
   "execution_count": null,
   "metadata": {},
   "outputs": [
    {
     "data": {
      "application/vnd.jupyter.widget-view+json": {
       "model_id": "926c587812ac4fcdb5a1f1ffbe528950",
       "version_major": 2,
       "version_minor": 0
      },
      "text/plain": [
       "interactive(children=(Text(value='10', description='Nombre de pays :'), Output()), _dom_classes=('widget-inter…"
      ]
     },
     "metadata": {},
     "output_type": "display_data"
    }
   ],
   "source": [
    "def highlight_col(df):\n",
    "    red = 'background-color : #F5B7B1'\n",
    "    purple = 'background-color : #D2B4DE'\n",
    "    grey = 'background-color : #E5E8E8'\n",
    "    temp_df = pd.DataFrame('', index=df.index, columns=df.columns)\n",
    "    temp_df.loc[:, 'confirmed'] = purple\n",
    "    temp_df.loc[:, 'death'] = red\n",
    "    temp_df.loc[:, 'recovered'] = grey\n",
    "    return temp_df\n",
    "\n",
    "def display_country(nb : str=0) :\n",
    "    if not nb.isdigit() :\n",
    "        nb = 0\n",
    "    nb = int(nb)\n",
    "    if nb == 0 :\n",
    "        print(\"Entrez une valeur dans le champ nombre\")\n",
    "    else :\n",
    "        display(dfs['country_sorted'][['country', 'state', 'population', 'confirmed', 'death', 'recovered']].head(nb).style.apply(highlight_col, axis=None).hide(axis='index'))\n",
    "\n",
    "stats_pays = interactive(display_country, nb=widgets.Text(value=\"10\", description='Nombre de pays :'))\n",
    "stats_pays"
   ]
  },
  {
   "cell_type": "code",
   "execution_count": null,
   "metadata": {},
   "outputs": [],
   "source": [
    "#dfs['country_sorted'][['country', 'state', 'population', 'confirmed', 'death', 'recovered']].head(5).style.apply(highlight_col, axis=None).hide(axis='index')"
   ]
  },
  {
   "cell_type": "code",
   "execution_count": null,
   "metadata": {},
   "outputs": [],
   "source": [
    "import plotly.express as plot_exp"
   ]
  },
  {
   "cell_type": "code",
   "execution_count": null,
   "metadata": {},
   "outputs": [
    {
     "data": {
      "application/vnd.jupyter.widget-view+json": {
       "model_id": "232fddf6d1b64ef7804aeec16ff67f8a",
       "version_major": 2,
       "version_minor": 0
      },
      "text/plain": [
       "interactive(children=(IntSlider(value=10, continuous_update=False, description='Nombre de pays :', max=20, min…"
      ]
     },
     "metadata": {},
     "output_type": "display_data"
    },
    {
     "data": {
      "application/vnd.plotly.v1+json": {
       "config": {
        "plotlyServerURL": "https://plot.ly"
       },
       "data": [
        {
         "hovertemplate": "<b>%{hovertext}</b><br><br>country=%{x}<br>confirmed=%{marker.size}<extra></extra>",
         "hovertext": [
          "US"
         ],
         "legendgroup": "US",
         "marker": {
          "color": "#636efa",
          "size": [
           45142918434
          ],
          "sizemode": "area",
          "sizeref": 12539699.565,
          "symbol": "circle"
         },
         "mode": "markers",
         "name": "US",
         "orientation": "v",
         "showlegend": true,
         "type": "scatter",
         "x": [
          "US"
         ],
         "xaxis": "x",
         "y": [
          45142918434
         ],
         "yaxis": "y"
        },
        {
         "hovertemplate": "<b>%{hovertext}</b><br><br>country=%{x}<br>confirmed=%{marker.size}<extra></extra>",
         "hovertext": [
          "India"
         ],
         "legendgroup": "India",
         "marker": {
          "color": "#EF553B",
          "size": [
           25333032268
          ],
          "sizemode": "area",
          "sizeref": 12539699.565,
          "symbol": "circle"
         },
         "mode": "markers",
         "name": "India",
         "orientation": "v",
         "showlegend": true,
         "type": "scatter",
         "x": [
          "India"
         ],
         "xaxis": "x",
         "y": [
          25333032268
         ],
         "yaxis": "y"
        },
        {
         "hovertemplate": "<b>%{hovertext}</b><br><br>country=%{x}<br>confirmed=%{marker.size}<extra></extra>",
         "hovertext": [
          "Brazil"
         ],
         "legendgroup": "Brazil",
         "marker": {
          "color": "#00cc96",
          "size": [
           18065779204
          ],
          "sizemode": "area",
          "sizeref": 12539699.565,
          "symbol": "circle"
         },
         "mode": "markers",
         "name": "Brazil",
         "orientation": "v",
         "showlegend": true,
         "type": "scatter",
         "x": [
          "Brazil"
         ],
         "xaxis": "x",
         "y": [
          18065779204
         ],
         "yaxis": "y"
        },
        {
         "hovertemplate": "<b>%{hovertext}</b><br><br>country=%{x}<br>confirmed=%{marker.size}<extra></extra>",
         "hovertext": [
          "France"
         ],
         "legendgroup": "France",
         "marker": {
          "color": "#ab63fa",
          "size": [
           12325844813
          ],
          "sizemode": "area",
          "sizeref": 12539699.565,
          "symbol": "circle"
         },
         "mode": "markers",
         "name": "France",
         "orientation": "v",
         "showlegend": true,
         "type": "scatter",
         "x": [
          "France"
         ],
         "xaxis": "x",
         "y": [
          12325844813
         ],
         "yaxis": "y"
        },
        {
         "hovertemplate": "<b>%{hovertext}</b><br><br>country=%{x}<br>confirmed=%{marker.size}<extra></extra>",
         "hovertext": [
          "Germany"
         ],
         "legendgroup": "Germany",
         "marker": {
          "color": "#FFA15A",
          "size": [
           10510472899
          ],
          "sizemode": "area",
          "sizeref": 12539699.565,
          "symbol": "circle"
         },
         "mode": "markers",
         "name": "Germany",
         "orientation": "v",
         "showlegend": true,
         "type": "scatter",
         "x": [
          "Germany"
         ],
         "xaxis": "x",
         "y": [
          10510472899
         ],
         "yaxis": "y"
        },
        {
         "hovertemplate": "<b>%{hovertext}</b><br><br>country=%{x}<br>confirmed=%{marker.size}<extra></extra>",
         "hovertext": [
          "United Kingdom"
         ],
         "legendgroup": "United Kingdom",
         "marker": {
          "color": "#19d3f3",
          "size": [
           9962186872
          ],
          "sizemode": "area",
          "sizeref": 12539699.565,
          "symbol": "circle"
         },
         "mode": "markers",
         "name": "United Kingdom",
         "orientation": "v",
         "showlegend": true,
         "type": "scatter",
         "x": [
          "United Kingdom"
         ],
         "xaxis": "x",
         "y": [
          9962186872
         ],
         "yaxis": "y"
        },
        {
         "hovertemplate": "<b>%{hovertext}</b><br><br>country=%{x}<br>confirmed=%{marker.size}<extra></extra>",
         "hovertext": [
          "Russia"
         ],
         "legendgroup": "Russia",
         "marker": {
          "color": "#FF6692",
          "size": [
           8737149987
          ],
          "sizemode": "area",
          "sizeref": 12539699.565,
          "symbol": "circle"
         },
         "mode": "markers",
         "name": "Russia",
         "orientation": "v",
         "showlegend": true,
         "type": "scatter",
         "x": [
          "Russia"
         ],
         "xaxis": "x",
         "y": [
          8737149987
         ],
         "yaxis": "y"
        },
        {
         "hovertemplate": "<b>%{hovertext}</b><br><br>country=%{x}<br>confirmed=%{marker.size}<extra></extra>",
         "hovertext": [
          "Italy"
         ],
         "legendgroup": "Italy",
         "marker": {
          "color": "#B6E880",
          "size": [
           7928371895
          ],
          "sizemode": "area",
          "sizeref": 12539699.565,
          "symbol": "circle"
         },
         "mode": "markers",
         "name": "Italy",
         "orientation": "v",
         "showlegend": true,
         "type": "scatter",
         "x": [
          "Italy"
         ],
         "xaxis": "x",
         "y": [
          7928371895
         ],
         "yaxis": "y"
        },
        {
         "hovertemplate": "<b>%{hovertext}</b><br><br>country=%{x}<br>confirmed=%{marker.size}<extra></extra>",
         "hovertext": [
          "Turkey"
         ],
         "legendgroup": "Turkey",
         "marker": {
          "color": "#FF97FF",
          "size": [
           7394203757
          ],
          "sizemode": "area",
          "sizeref": 12539699.565,
          "symbol": "circle"
         },
         "mode": "markers",
         "name": "Turkey",
         "orientation": "v",
         "showlegend": true,
         "type": "scatter",
         "x": [
          "Turkey"
         ],
         "xaxis": "x",
         "y": [
          7394203757
         ],
         "yaxis": "y"
        },
        {
         "hovertemplate": "<b>%{hovertext}</b><br><br>country=%{x}<br>confirmed=%{marker.size}<extra></extra>",
         "hovertext": [
          "Korea, South"
         ],
         "legendgroup": "Korea, South",
         "marker": {
          "color": "#FECB52",
          "size": [
           5932336773
          ],
          "sizemode": "area",
          "sizeref": 12539699.565,
          "symbol": "circle"
         },
         "mode": "markers",
         "name": "Korea, South",
         "orientation": "v",
         "showlegend": true,
         "type": "scatter",
         "x": [
          "Korea, South"
         ],
         "xaxis": "x",
         "y": [
          5932336773
         ],
         "yaxis": "y"
        }
       ],
       "layout": {
        "legend": {
         "itemsizing": "constant",
         "title": {
          "text": "country"
         },
         "tracegroupgap": 0
        },
        "margin": {
         "t": 60
        },
        "template": {
         "data": {
          "bar": [
           {
            "error_x": {
             "color": "#2a3f5f"
            },
            "error_y": {
             "color": "#2a3f5f"
            },
            "marker": {
             "line": {
              "color": "#E5ECF6",
              "width": 0.5
             },
             "pattern": {
              "fillmode": "overlay",
              "size": 10,
              "solidity": 0.2
             }
            },
            "type": "bar"
           }
          ],
          "barpolar": [
           {
            "marker": {
             "line": {
              "color": "#E5ECF6",
              "width": 0.5
             },
             "pattern": {
              "fillmode": "overlay",
              "size": 10,
              "solidity": 0.2
             }
            },
            "type": "barpolar"
           }
          ],
          "carpet": [
           {
            "aaxis": {
             "endlinecolor": "#2a3f5f",
             "gridcolor": "white",
             "linecolor": "white",
             "minorgridcolor": "white",
             "startlinecolor": "#2a3f5f"
            },
            "baxis": {
             "endlinecolor": "#2a3f5f",
             "gridcolor": "white",
             "linecolor": "white",
             "minorgridcolor": "white",
             "startlinecolor": "#2a3f5f"
            },
            "type": "carpet"
           }
          ],
          "choropleth": [
           {
            "colorbar": {
             "outlinewidth": 0,
             "ticks": ""
            },
            "type": "choropleth"
           }
          ],
          "contour": [
           {
            "colorbar": {
             "outlinewidth": 0,
             "ticks": ""
            },
            "colorscale": [
             [
              0,
              "#0d0887"
             ],
             [
              0.1111111111111111,
              "#46039f"
             ],
             [
              0.2222222222222222,
              "#7201a8"
             ],
             [
              0.3333333333333333,
              "#9c179e"
             ],
             [
              0.4444444444444444,
              "#bd3786"
             ],
             [
              0.5555555555555556,
              "#d8576b"
             ],
             [
              0.6666666666666666,
              "#ed7953"
             ],
             [
              0.7777777777777778,
              "#fb9f3a"
             ],
             [
              0.8888888888888888,
              "#fdca26"
             ],
             [
              1,
              "#f0f921"
             ]
            ],
            "type": "contour"
           }
          ],
          "contourcarpet": [
           {
            "colorbar": {
             "outlinewidth": 0,
             "ticks": ""
            },
            "type": "contourcarpet"
           }
          ],
          "heatmap": [
           {
            "colorbar": {
             "outlinewidth": 0,
             "ticks": ""
            },
            "colorscale": [
             [
              0,
              "#0d0887"
             ],
             [
              0.1111111111111111,
              "#46039f"
             ],
             [
              0.2222222222222222,
              "#7201a8"
             ],
             [
              0.3333333333333333,
              "#9c179e"
             ],
             [
              0.4444444444444444,
              "#bd3786"
             ],
             [
              0.5555555555555556,
              "#d8576b"
             ],
             [
              0.6666666666666666,
              "#ed7953"
             ],
             [
              0.7777777777777778,
              "#fb9f3a"
             ],
             [
              0.8888888888888888,
              "#fdca26"
             ],
             [
              1,
              "#f0f921"
             ]
            ],
            "type": "heatmap"
           }
          ],
          "heatmapgl": [
           {
            "colorbar": {
             "outlinewidth": 0,
             "ticks": ""
            },
            "colorscale": [
             [
              0,
              "#0d0887"
             ],
             [
              0.1111111111111111,
              "#46039f"
             ],
             [
              0.2222222222222222,
              "#7201a8"
             ],
             [
              0.3333333333333333,
              "#9c179e"
             ],
             [
              0.4444444444444444,
              "#bd3786"
             ],
             [
              0.5555555555555556,
              "#d8576b"
             ],
             [
              0.6666666666666666,
              "#ed7953"
             ],
             [
              0.7777777777777778,
              "#fb9f3a"
             ],
             [
              0.8888888888888888,
              "#fdca26"
             ],
             [
              1,
              "#f0f921"
             ]
            ],
            "type": "heatmapgl"
           }
          ],
          "histogram": [
           {
            "marker": {
             "pattern": {
              "fillmode": "overlay",
              "size": 10,
              "solidity": 0.2
             }
            },
            "type": "histogram"
           }
          ],
          "histogram2d": [
           {
            "colorbar": {
             "outlinewidth": 0,
             "ticks": ""
            },
            "colorscale": [
             [
              0,
              "#0d0887"
             ],
             [
              0.1111111111111111,
              "#46039f"
             ],
             [
              0.2222222222222222,
              "#7201a8"
             ],
             [
              0.3333333333333333,
              "#9c179e"
             ],
             [
              0.4444444444444444,
              "#bd3786"
             ],
             [
              0.5555555555555556,
              "#d8576b"
             ],
             [
              0.6666666666666666,
              "#ed7953"
             ],
             [
              0.7777777777777778,
              "#fb9f3a"
             ],
             [
              0.8888888888888888,
              "#fdca26"
             ],
             [
              1,
              "#f0f921"
             ]
            ],
            "type": "histogram2d"
           }
          ],
          "histogram2dcontour": [
           {
            "colorbar": {
             "outlinewidth": 0,
             "ticks": ""
            },
            "colorscale": [
             [
              0,
              "#0d0887"
             ],
             [
              0.1111111111111111,
              "#46039f"
             ],
             [
              0.2222222222222222,
              "#7201a8"
             ],
             [
              0.3333333333333333,
              "#9c179e"
             ],
             [
              0.4444444444444444,
              "#bd3786"
             ],
             [
              0.5555555555555556,
              "#d8576b"
             ],
             [
              0.6666666666666666,
              "#ed7953"
             ],
             [
              0.7777777777777778,
              "#fb9f3a"
             ],
             [
              0.8888888888888888,
              "#fdca26"
             ],
             [
              1,
              "#f0f921"
             ]
            ],
            "type": "histogram2dcontour"
           }
          ],
          "mesh3d": [
           {
            "colorbar": {
             "outlinewidth": 0,
             "ticks": ""
            },
            "type": "mesh3d"
           }
          ],
          "parcoords": [
           {
            "line": {
             "colorbar": {
              "outlinewidth": 0,
              "ticks": ""
             }
            },
            "type": "parcoords"
           }
          ],
          "pie": [
           {
            "automargin": true,
            "type": "pie"
           }
          ],
          "scatter": [
           {
            "fillpattern": {
             "fillmode": "overlay",
             "size": 10,
             "solidity": 0.2
            },
            "type": "scatter"
           }
          ],
          "scatter3d": [
           {
            "line": {
             "colorbar": {
              "outlinewidth": 0,
              "ticks": ""
             }
            },
            "marker": {
             "colorbar": {
              "outlinewidth": 0,
              "ticks": ""
             }
            },
            "type": "scatter3d"
           }
          ],
          "scattercarpet": [
           {
            "marker": {
             "colorbar": {
              "outlinewidth": 0,
              "ticks": ""
             }
            },
            "type": "scattercarpet"
           }
          ],
          "scattergeo": [
           {
            "marker": {
             "colorbar": {
              "outlinewidth": 0,
              "ticks": ""
             }
            },
            "type": "scattergeo"
           }
          ],
          "scattergl": [
           {
            "marker": {
             "colorbar": {
              "outlinewidth": 0,
              "ticks": ""
             }
            },
            "type": "scattergl"
           }
          ],
          "scattermapbox": [
           {
            "marker": {
             "colorbar": {
              "outlinewidth": 0,
              "ticks": ""
             }
            },
            "type": "scattermapbox"
           }
          ],
          "scatterpolar": [
           {
            "marker": {
             "colorbar": {
              "outlinewidth": 0,
              "ticks": ""
             }
            },
            "type": "scatterpolar"
           }
          ],
          "scatterpolargl": [
           {
            "marker": {
             "colorbar": {
              "outlinewidth": 0,
              "ticks": ""
             }
            },
            "type": "scatterpolargl"
           }
          ],
          "scatterternary": [
           {
            "marker": {
             "colorbar": {
              "outlinewidth": 0,
              "ticks": ""
             }
            },
            "type": "scatterternary"
           }
          ],
          "surface": [
           {
            "colorbar": {
             "outlinewidth": 0,
             "ticks": ""
            },
            "colorscale": [
             [
              0,
              "#0d0887"
             ],
             [
              0.1111111111111111,
              "#46039f"
             ],
             [
              0.2222222222222222,
              "#7201a8"
             ],
             [
              0.3333333333333333,
              "#9c179e"
             ],
             [
              0.4444444444444444,
              "#bd3786"
             ],
             [
              0.5555555555555556,
              "#d8576b"
             ],
             [
              0.6666666666666666,
              "#ed7953"
             ],
             [
              0.7777777777777778,
              "#fb9f3a"
             ],
             [
              0.8888888888888888,
              "#fdca26"
             ],
             [
              1,
              "#f0f921"
             ]
            ],
            "type": "surface"
           }
          ],
          "table": [
           {
            "cells": {
             "fill": {
              "color": "#EBF0F8"
             },
             "line": {
              "color": "white"
             }
            },
            "header": {
             "fill": {
              "color": "#C8D4E3"
             },
             "line": {
              "color": "white"
             }
            },
            "type": "table"
           }
          ]
         },
         "layout": {
          "annotationdefaults": {
           "arrowcolor": "#2a3f5f",
           "arrowhead": 0,
           "arrowwidth": 1
          },
          "autotypenumbers": "strict",
          "coloraxis": {
           "colorbar": {
            "outlinewidth": 0,
            "ticks": ""
           }
          },
          "colorscale": {
           "diverging": [
            [
             0,
             "#8e0152"
            ],
            [
             0.1,
             "#c51b7d"
            ],
            [
             0.2,
             "#de77ae"
            ],
            [
             0.3,
             "#f1b6da"
            ],
            [
             0.4,
             "#fde0ef"
            ],
            [
             0.5,
             "#f7f7f7"
            ],
            [
             0.6,
             "#e6f5d0"
            ],
            [
             0.7,
             "#b8e186"
            ],
            [
             0.8,
             "#7fbc41"
            ],
            [
             0.9,
             "#4d9221"
            ],
            [
             1,
             "#276419"
            ]
           ],
           "sequential": [
            [
             0,
             "#0d0887"
            ],
            [
             0.1111111111111111,
             "#46039f"
            ],
            [
             0.2222222222222222,
             "#7201a8"
            ],
            [
             0.3333333333333333,
             "#9c179e"
            ],
            [
             0.4444444444444444,
             "#bd3786"
            ],
            [
             0.5555555555555556,
             "#d8576b"
            ],
            [
             0.6666666666666666,
             "#ed7953"
            ],
            [
             0.7777777777777778,
             "#fb9f3a"
            ],
            [
             0.8888888888888888,
             "#fdca26"
            ],
            [
             1,
             "#f0f921"
            ]
           ],
           "sequentialminus": [
            [
             0,
             "#0d0887"
            ],
            [
             0.1111111111111111,
             "#46039f"
            ],
            [
             0.2222222222222222,
             "#7201a8"
            ],
            [
             0.3333333333333333,
             "#9c179e"
            ],
            [
             0.4444444444444444,
             "#bd3786"
            ],
            [
             0.5555555555555556,
             "#d8576b"
            ],
            [
             0.6666666666666666,
             "#ed7953"
            ],
            [
             0.7777777777777778,
             "#fb9f3a"
            ],
            [
             0.8888888888888888,
             "#fdca26"
            ],
            [
             1,
             "#f0f921"
            ]
           ]
          },
          "colorway": [
           "#636efa",
           "#EF553B",
           "#00cc96",
           "#ab63fa",
           "#FFA15A",
           "#19d3f3",
           "#FF6692",
           "#B6E880",
           "#FF97FF",
           "#FECB52"
          ],
          "font": {
           "color": "#2a3f5f"
          },
          "geo": {
           "bgcolor": "white",
           "lakecolor": "white",
           "landcolor": "#E5ECF6",
           "showlakes": true,
           "showland": true,
           "subunitcolor": "white"
          },
          "hoverlabel": {
           "align": "left"
          },
          "hovermode": "closest",
          "mapbox": {
           "style": "light"
          },
          "paper_bgcolor": "white",
          "plot_bgcolor": "#E5ECF6",
          "polar": {
           "angularaxis": {
            "gridcolor": "white",
            "linecolor": "white",
            "ticks": ""
           },
           "bgcolor": "#E5ECF6",
           "radialaxis": {
            "gridcolor": "white",
            "linecolor": "white",
            "ticks": ""
           }
          },
          "scene": {
           "xaxis": {
            "backgroundcolor": "#E5ECF6",
            "gridcolor": "white",
            "gridwidth": 2,
            "linecolor": "white",
            "showbackground": true,
            "ticks": "",
            "zerolinecolor": "white"
           },
           "yaxis": {
            "backgroundcolor": "#E5ECF6",
            "gridcolor": "white",
            "gridwidth": 2,
            "linecolor": "white",
            "showbackground": true,
            "ticks": "",
            "zerolinecolor": "white"
           },
           "zaxis": {
            "backgroundcolor": "#E5ECF6",
            "gridcolor": "white",
            "gridwidth": 2,
            "linecolor": "white",
            "showbackground": true,
            "ticks": "",
            "zerolinecolor": "white"
           }
          },
          "shapedefaults": {
           "line": {
            "color": "#2a3f5f"
           }
          },
          "ternary": {
           "aaxis": {
            "gridcolor": "white",
            "linecolor": "white",
            "ticks": ""
           },
           "baxis": {
            "gridcolor": "white",
            "linecolor": "white",
            "ticks": ""
           },
           "bgcolor": "#E5ECF6",
           "caxis": {
            "gridcolor": "white",
            "linecolor": "white",
            "ticks": ""
           }
          },
          "title": {
           "x": 0.05
          },
          "xaxis": {
           "automargin": true,
           "gridcolor": "white",
           "linecolor": "white",
           "ticks": "",
           "title": {
            "standoff": 15
           },
           "zerolinecolor": "white",
           "zerolinewidth": 2
          },
          "yaxis": {
           "automargin": true,
           "gridcolor": "white",
           "linecolor": "white",
           "ticks": "",
           "title": {
            "standoff": 15
           },
           "zerolinecolor": "white",
           "zerolinewidth": 2
          }
         }
        },
        "xaxis": {
         "anchor": "y",
         "categoryarray": [
          "US",
          "India",
          "Brazil",
          "France",
          "Germany",
          "United Kingdom",
          "Russia",
          "Italy",
          "Turkey",
          "Korea, South"
         ],
         "categoryorder": "array",
         "domain": [
          0,
          1
         ],
         "title": {
          "text": "country"
         }
        },
        "yaxis": {
         "anchor": "x",
         "domain": [
          0,
          1
         ],
         "title": {
          "text": "confirmed"
         }
        }
       }
      }
     },
     "metadata": {},
     "output_type": "display_data"
    },
    {
     "data": {
      "application/vnd.plotly.v1+json": {
       "config": {
        "plotlyServerURL": "https://plot.ly"
       },
       "data": [
        {
         "hovertemplate": "<b>%{hovertext}</b><br><br>country=%{x}<br>confirmed=%{marker.size}<extra></extra>",
         "hovertext": [
          "US"
         ],
         "legendgroup": "US",
         "marker": {
          "color": "#636efa",
          "size": [
           45142918434
          ],
          "sizemode": "area",
          "sizeref": 12539699.565,
          "symbol": "circle"
         },
         "mode": "markers",
         "name": "US",
         "orientation": "v",
         "showlegend": true,
         "type": "scatter",
         "x": [
          "US"
         ],
         "xaxis": "x",
         "y": [
          45142918434
         ],
         "yaxis": "y"
        },
        {
         "hovertemplate": "<b>%{hovertext}</b><br><br>country=%{x}<br>confirmed=%{marker.size}<extra></extra>",
         "hovertext": [
          "India"
         ],
         "legendgroup": "India",
         "marker": {
          "color": "#EF553B",
          "size": [
           25333032268
          ],
          "sizemode": "area",
          "sizeref": 12539699.565,
          "symbol": "circle"
         },
         "mode": "markers",
         "name": "India",
         "orientation": "v",
         "showlegend": true,
         "type": "scatter",
         "x": [
          "India"
         ],
         "xaxis": "x",
         "y": [
          25333032268
         ],
         "yaxis": "y"
        },
        {
         "hovertemplate": "<b>%{hovertext}</b><br><br>country=%{x}<br>confirmed=%{marker.size}<extra></extra>",
         "hovertext": [
          "Brazil"
         ],
         "legendgroup": "Brazil",
         "marker": {
          "color": "#00cc96",
          "size": [
           18065779204
          ],
          "sizemode": "area",
          "sizeref": 12539699.565,
          "symbol": "circle"
         },
         "mode": "markers",
         "name": "Brazil",
         "orientation": "v",
         "showlegend": true,
         "type": "scatter",
         "x": [
          "Brazil"
         ],
         "xaxis": "x",
         "y": [
          18065779204
         ],
         "yaxis": "y"
        },
        {
         "hovertemplate": "<b>%{hovertext}</b><br><br>country=%{x}<br>confirmed=%{marker.size}<extra></extra>",
         "hovertext": [
          "France"
         ],
         "legendgroup": "France",
         "marker": {
          "color": "#ab63fa",
          "size": [
           12325844813
          ],
          "sizemode": "area",
          "sizeref": 12539699.565,
          "symbol": "circle"
         },
         "mode": "markers",
         "name": "France",
         "orientation": "v",
         "showlegend": true,
         "type": "scatter",
         "x": [
          "France"
         ],
         "xaxis": "x",
         "y": [
          12325844813
         ],
         "yaxis": "y"
        },
        {
         "hovertemplate": "<b>%{hovertext}</b><br><br>country=%{x}<br>confirmed=%{marker.size}<extra></extra>",
         "hovertext": [
          "Germany"
         ],
         "legendgroup": "Germany",
         "marker": {
          "color": "#FFA15A",
          "size": [
           10510472899
          ],
          "sizemode": "area",
          "sizeref": 12539699.565,
          "symbol": "circle"
         },
         "mode": "markers",
         "name": "Germany",
         "orientation": "v",
         "showlegend": true,
         "type": "scatter",
         "x": [
          "Germany"
         ],
         "xaxis": "x",
         "y": [
          10510472899
         ],
         "yaxis": "y"
        },
        {
         "hovertemplate": "<b>%{hovertext}</b><br><br>country=%{x}<br>confirmed=%{marker.size}<extra></extra>",
         "hovertext": [
          "United Kingdom"
         ],
         "legendgroup": "United Kingdom",
         "marker": {
          "color": "#19d3f3",
          "size": [
           9962186872
          ],
          "sizemode": "area",
          "sizeref": 12539699.565,
          "symbol": "circle"
         },
         "mode": "markers",
         "name": "United Kingdom",
         "orientation": "v",
         "showlegend": true,
         "type": "scatter",
         "x": [
          "United Kingdom"
         ],
         "xaxis": "x",
         "y": [
          9962186872
         ],
         "yaxis": "y"
        },
        {
         "hovertemplate": "<b>%{hovertext}</b><br><br>country=%{x}<br>confirmed=%{marker.size}<extra></extra>",
         "hovertext": [
          "Russia"
         ],
         "legendgroup": "Russia",
         "marker": {
          "color": "#FF6692",
          "size": [
           8737149987
          ],
          "sizemode": "area",
          "sizeref": 12539699.565,
          "symbol": "circle"
         },
         "mode": "markers",
         "name": "Russia",
         "orientation": "v",
         "showlegend": true,
         "type": "scatter",
         "x": [
          "Russia"
         ],
         "xaxis": "x",
         "y": [
          8737149987
         ],
         "yaxis": "y"
        },
        {
         "hovertemplate": "<b>%{hovertext}</b><br><br>country=%{x}<br>confirmed=%{marker.size}<extra></extra>",
         "hovertext": [
          "Italy"
         ],
         "legendgroup": "Italy",
         "marker": {
          "color": "#B6E880",
          "size": [
           7928371895
          ],
          "sizemode": "area",
          "sizeref": 12539699.565,
          "symbol": "circle"
         },
         "mode": "markers",
         "name": "Italy",
         "orientation": "v",
         "showlegend": true,
         "type": "scatter",
         "x": [
          "Italy"
         ],
         "xaxis": "x",
         "y": [
          7928371895
         ],
         "yaxis": "y"
        },
        {
         "hovertemplate": "<b>%{hovertext}</b><br><br>country=%{x}<br>confirmed=%{marker.size}<extra></extra>",
         "hovertext": [
          "Turkey"
         ],
         "legendgroup": "Turkey",
         "marker": {
          "color": "#FF97FF",
          "size": [
           7394203757
          ],
          "sizemode": "area",
          "sizeref": 12539699.565,
          "symbol": "circle"
         },
         "mode": "markers",
         "name": "Turkey",
         "orientation": "v",
         "showlegend": true,
         "type": "scatter",
         "x": [
          "Turkey"
         ],
         "xaxis": "x",
         "y": [
          7394203757
         ],
         "yaxis": "y"
        },
        {
         "hovertemplate": "<b>%{hovertext}</b><br><br>country=%{x}<br>confirmed=%{marker.size}<extra></extra>",
         "hovertext": [
          "Korea, South"
         ],
         "legendgroup": "Korea, South",
         "marker": {
          "color": "#FECB52",
          "size": [
           5932336773
          ],
          "sizemode": "area",
          "sizeref": 12539699.565,
          "symbol": "circle"
         },
         "mode": "markers",
         "name": "Korea, South",
         "orientation": "v",
         "showlegend": true,
         "type": "scatter",
         "x": [
          "Korea, South"
         ],
         "xaxis": "x",
         "y": [
          5932336773
         ],
         "yaxis": "y"
        },
        {
         "hovertemplate": "<b>%{hovertext}</b><br><br>country=%{x}<br>confirmed=%{marker.size}<extra></extra>",
         "hovertext": [
          "Spain"
         ],
         "legendgroup": "Spain",
         "marker": {
          "color": "#636efa",
          "size": [
           5905128177
          ],
          "sizemode": "area",
          "sizeref": 12539699.565,
          "symbol": "circle"
         },
         "mode": "markers",
         "name": "Spain",
         "orientation": "v",
         "showlegend": true,
         "type": "scatter",
         "x": [
          "Spain"
         ],
         "xaxis": "x",
         "y": [
          5905128177
         ],
         "yaxis": "y"
        },
        {
         "hovertemplate": "<b>%{hovertext}</b><br><br>country=%{x}<br>confirmed=%{marker.size}<extra></extra>",
         "hovertext": [
          "Argentina"
         ],
         "legendgroup": "Argentina",
         "marker": {
          "color": "#EF553B",
          "size": [
           4776567077
          ],
          "sizemode": "area",
          "sizeref": 12539699.565,
          "symbol": "circle"
         },
         "mode": "markers",
         "name": "Argentina",
         "orientation": "v",
         "showlegend": true,
         "type": "scatter",
         "x": [
          "Argentina"
         ],
         "xaxis": "x",
         "y": [
          4776567077
         ],
         "yaxis": "y"
        },
        {
         "hovertemplate": "<b>%{hovertext}</b><br><br>country=%{x}<br>confirmed=%{marker.size}<extra></extra>",
         "hovertext": [
          "Japan"
         ],
         "legendgroup": "Japan",
         "marker": {
          "color": "#00cc96",
          "size": [
           4670233345
          ],
          "sizemode": "area",
          "sizeref": 12539699.565,
          "symbol": "circle"
         },
         "mode": "markers",
         "name": "Japan",
         "orientation": "v",
         "showlegend": true,
         "type": "scatter",
         "x": [
          "Japan"
         ],
         "xaxis": "x",
         "y": [
          4670233345
         ],
         "yaxis": "y"
        },
        {
         "hovertemplate": "<b>%{hovertext}</b><br><br>country=%{x}<br>confirmed=%{marker.size}<extra></extra>",
         "hovertext": [
          "Iran"
         ],
         "legendgroup": "Iran",
         "marker": {
          "color": "#ab63fa",
          "size": [
           3969460510
          ],
          "sizemode": "area",
          "sizeref": 12539699.565,
          "symbol": "circle"
         },
         "mode": "markers",
         "name": "Iran",
         "orientation": "v",
         "showlegend": true,
         "type": "scatter",
         "x": [
          "Iran"
         ],
         "xaxis": "x",
         "y": [
          3969460510
         ],
         "yaxis": "y"
        },
        {
         "hovertemplate": "<b>%{hovertext}</b><br><br>country=%{x}<br>confirmed=%{marker.size}<extra></extra>",
         "hovertext": [
          "Colombia"
         ],
         "legendgroup": "Colombia",
         "marker": {
          "color": "#FFA15A",
          "size": [
           3675361025
          ],
          "sizemode": "area",
          "sizeref": 12539699.565,
          "symbol": "circle"
         },
         "mode": "markers",
         "name": "Colombia",
         "orientation": "v",
         "showlegend": true,
         "type": "scatter",
         "x": [
          "Colombia"
         ],
         "xaxis": "x",
         "y": [
          3675361025
         ],
         "yaxis": "y"
        },
        {
         "hovertemplate": "<b>%{hovertext}</b><br><br>country=%{x}<br>confirmed=%{marker.size}<extra></extra>",
         "hovertext": [
          "Vietnam"
         ],
         "legendgroup": "Vietnam",
         "marker": {
          "color": "#19d3f3",
          "size": [
           3334895339
          ],
          "sizemode": "area",
          "sizeref": 12539699.565,
          "symbol": "circle"
         },
         "mode": "markers",
         "name": "Vietnam",
         "orientation": "v",
         "showlegend": true,
         "type": "scatter",
         "x": [
          "Vietnam"
         ],
         "xaxis": "x",
         "y": [
          3334895339
         ],
         "yaxis": "y"
        },
        {
         "hovertemplate": "<b>%{hovertext}</b><br><br>country=%{x}<br>confirmed=%{marker.size}<extra></extra>",
         "hovertext": [
          "Netherlands"
         ],
         "legendgroup": "Netherlands",
         "marker": {
          "color": "#FF6692",
          "size": [
           3324562575
          ],
          "sizemode": "area",
          "sizeref": 12539699.565,
          "symbol": "circle"
         },
         "mode": "markers",
         "name": "Netherlands",
         "orientation": "v",
         "showlegend": true,
         "type": "scatter",
         "x": [
          "Netherlands"
         ],
         "xaxis": "x",
         "y": [
          3324562575
         ],
         "yaxis": "y"
        },
        {
         "hovertemplate": "<b>%{hovertext}</b><br><br>country=%{x}<br>confirmed=%{marker.size}<extra></extra>",
         "hovertext": [
          "Mexico"
         ],
         "legendgroup": "Mexico",
         "marker": {
          "color": "#B6E880",
          "size": [
           3320140661
          ],
          "sizemode": "area",
          "sizeref": 12539699.565,
          "symbol": "circle"
         },
         "mode": "markers",
         "name": "Mexico",
         "orientation": "v",
         "showlegend": true,
         "type": "scatter",
         "x": [
          "Mexico"
         ],
         "xaxis": "x",
         "y": [
          3320140661
         ],
         "yaxis": "y"
        },
        {
         "hovertemplate": "<b>%{hovertext}</b><br><br>country=%{x}<br>confirmed=%{marker.size}<extra></extra>",
         "hovertext": [
          "Indonesia"
         ],
         "legendgroup": "Indonesia",
         "marker": {
          "color": "#FF97FF",
          "size": [
           3120599954
          ],
          "sizemode": "area",
          "sizeref": 12539699.565,
          "symbol": "circle"
         },
         "mode": "markers",
         "name": "Indonesia",
         "orientation": "v",
         "showlegend": true,
         "type": "scatter",
         "x": [
          "Indonesia"
         ],
         "xaxis": "x",
         "y": [
          3120599954
         ],
         "yaxis": "y"
        },
        {
         "hovertemplate": "<b>%{hovertext}</b><br><br>country=%{x}<br>confirmed=%{marker.size}<extra></extra>",
         "hovertext": [
          "Poland"
         ],
         "legendgroup": "Poland",
         "marker": {
          "color": "#FECB52",
          "size": [
           3100913781
          ],
          "sizemode": "area",
          "sizeref": 12539699.565,
          "symbol": "circle"
         },
         "mode": "markers",
         "name": "Poland",
         "orientation": "v",
         "showlegend": true,
         "type": "scatter",
         "x": [
          "Poland"
         ],
         "xaxis": "x",
         "y": [
          3100913781
         ],
         "yaxis": "y"
        }
       ],
       "layout": {
        "legend": {
         "itemsizing": "constant",
         "title": {
          "text": "country"
         },
         "tracegroupgap": 0
        },
        "margin": {
         "t": 60
        },
        "template": {
         "data": {
          "bar": [
           {
            "error_x": {
             "color": "#2a3f5f"
            },
            "error_y": {
             "color": "#2a3f5f"
            },
            "marker": {
             "line": {
              "color": "#E5ECF6",
              "width": 0.5
             },
             "pattern": {
              "fillmode": "overlay",
              "size": 10,
              "solidity": 0.2
             }
            },
            "type": "bar"
           }
          ],
          "barpolar": [
           {
            "marker": {
             "line": {
              "color": "#E5ECF6",
              "width": 0.5
             },
             "pattern": {
              "fillmode": "overlay",
              "size": 10,
              "solidity": 0.2
             }
            },
            "type": "barpolar"
           }
          ],
          "carpet": [
           {
            "aaxis": {
             "endlinecolor": "#2a3f5f",
             "gridcolor": "white",
             "linecolor": "white",
             "minorgridcolor": "white",
             "startlinecolor": "#2a3f5f"
            },
            "baxis": {
             "endlinecolor": "#2a3f5f",
             "gridcolor": "white",
             "linecolor": "white",
             "minorgridcolor": "white",
             "startlinecolor": "#2a3f5f"
            },
            "type": "carpet"
           }
          ],
          "choropleth": [
           {
            "colorbar": {
             "outlinewidth": 0,
             "ticks": ""
            },
            "type": "choropleth"
           }
          ],
          "contour": [
           {
            "colorbar": {
             "outlinewidth": 0,
             "ticks": ""
            },
            "colorscale": [
             [
              0,
              "#0d0887"
             ],
             [
              0.1111111111111111,
              "#46039f"
             ],
             [
              0.2222222222222222,
              "#7201a8"
             ],
             [
              0.3333333333333333,
              "#9c179e"
             ],
             [
              0.4444444444444444,
              "#bd3786"
             ],
             [
              0.5555555555555556,
              "#d8576b"
             ],
             [
              0.6666666666666666,
              "#ed7953"
             ],
             [
              0.7777777777777778,
              "#fb9f3a"
             ],
             [
              0.8888888888888888,
              "#fdca26"
             ],
             [
              1,
              "#f0f921"
             ]
            ],
            "type": "contour"
           }
          ],
          "contourcarpet": [
           {
            "colorbar": {
             "outlinewidth": 0,
             "ticks": ""
            },
            "type": "contourcarpet"
           }
          ],
          "heatmap": [
           {
            "colorbar": {
             "outlinewidth": 0,
             "ticks": ""
            },
            "colorscale": [
             [
              0,
              "#0d0887"
             ],
             [
              0.1111111111111111,
              "#46039f"
             ],
             [
              0.2222222222222222,
              "#7201a8"
             ],
             [
              0.3333333333333333,
              "#9c179e"
             ],
             [
              0.4444444444444444,
              "#bd3786"
             ],
             [
              0.5555555555555556,
              "#d8576b"
             ],
             [
              0.6666666666666666,
              "#ed7953"
             ],
             [
              0.7777777777777778,
              "#fb9f3a"
             ],
             [
              0.8888888888888888,
              "#fdca26"
             ],
             [
              1,
              "#f0f921"
             ]
            ],
            "type": "heatmap"
           }
          ],
          "heatmapgl": [
           {
            "colorbar": {
             "outlinewidth": 0,
             "ticks": ""
            },
            "colorscale": [
             [
              0,
              "#0d0887"
             ],
             [
              0.1111111111111111,
              "#46039f"
             ],
             [
              0.2222222222222222,
              "#7201a8"
             ],
             [
              0.3333333333333333,
              "#9c179e"
             ],
             [
              0.4444444444444444,
              "#bd3786"
             ],
             [
              0.5555555555555556,
              "#d8576b"
             ],
             [
              0.6666666666666666,
              "#ed7953"
             ],
             [
              0.7777777777777778,
              "#fb9f3a"
             ],
             [
              0.8888888888888888,
              "#fdca26"
             ],
             [
              1,
              "#f0f921"
             ]
            ],
            "type": "heatmapgl"
           }
          ],
          "histogram": [
           {
            "marker": {
             "pattern": {
              "fillmode": "overlay",
              "size": 10,
              "solidity": 0.2
             }
            },
            "type": "histogram"
           }
          ],
          "histogram2d": [
           {
            "colorbar": {
             "outlinewidth": 0,
             "ticks": ""
            },
            "colorscale": [
             [
              0,
              "#0d0887"
             ],
             [
              0.1111111111111111,
              "#46039f"
             ],
             [
              0.2222222222222222,
              "#7201a8"
             ],
             [
              0.3333333333333333,
              "#9c179e"
             ],
             [
              0.4444444444444444,
              "#bd3786"
             ],
             [
              0.5555555555555556,
              "#d8576b"
             ],
             [
              0.6666666666666666,
              "#ed7953"
             ],
             [
              0.7777777777777778,
              "#fb9f3a"
             ],
             [
              0.8888888888888888,
              "#fdca26"
             ],
             [
              1,
              "#f0f921"
             ]
            ],
            "type": "histogram2d"
           }
          ],
          "histogram2dcontour": [
           {
            "colorbar": {
             "outlinewidth": 0,
             "ticks": ""
            },
            "colorscale": [
             [
              0,
              "#0d0887"
             ],
             [
              0.1111111111111111,
              "#46039f"
             ],
             [
              0.2222222222222222,
              "#7201a8"
             ],
             [
              0.3333333333333333,
              "#9c179e"
             ],
             [
              0.4444444444444444,
              "#bd3786"
             ],
             [
              0.5555555555555556,
              "#d8576b"
             ],
             [
              0.6666666666666666,
              "#ed7953"
             ],
             [
              0.7777777777777778,
              "#fb9f3a"
             ],
             [
              0.8888888888888888,
              "#fdca26"
             ],
             [
              1,
              "#f0f921"
             ]
            ],
            "type": "histogram2dcontour"
           }
          ],
          "mesh3d": [
           {
            "colorbar": {
             "outlinewidth": 0,
             "ticks": ""
            },
            "type": "mesh3d"
           }
          ],
          "parcoords": [
           {
            "line": {
             "colorbar": {
              "outlinewidth": 0,
              "ticks": ""
             }
            },
            "type": "parcoords"
           }
          ],
          "pie": [
           {
            "automargin": true,
            "type": "pie"
           }
          ],
          "scatter": [
           {
            "fillpattern": {
             "fillmode": "overlay",
             "size": 10,
             "solidity": 0.2
            },
            "type": "scatter"
           }
          ],
          "scatter3d": [
           {
            "line": {
             "colorbar": {
              "outlinewidth": 0,
              "ticks": ""
             }
            },
            "marker": {
             "colorbar": {
              "outlinewidth": 0,
              "ticks": ""
             }
            },
            "type": "scatter3d"
           }
          ],
          "scattercarpet": [
           {
            "marker": {
             "colorbar": {
              "outlinewidth": 0,
              "ticks": ""
             }
            },
            "type": "scattercarpet"
           }
          ],
          "scattergeo": [
           {
            "marker": {
             "colorbar": {
              "outlinewidth": 0,
              "ticks": ""
             }
            },
            "type": "scattergeo"
           }
          ],
          "scattergl": [
           {
            "marker": {
             "colorbar": {
              "outlinewidth": 0,
              "ticks": ""
             }
            },
            "type": "scattergl"
           }
          ],
          "scattermapbox": [
           {
            "marker": {
             "colorbar": {
              "outlinewidth": 0,
              "ticks": ""
             }
            },
            "type": "scattermapbox"
           }
          ],
          "scatterpolar": [
           {
            "marker": {
             "colorbar": {
              "outlinewidth": 0,
              "ticks": ""
             }
            },
            "type": "scatterpolar"
           }
          ],
          "scatterpolargl": [
           {
            "marker": {
             "colorbar": {
              "outlinewidth": 0,
              "ticks": ""
             }
            },
            "type": "scatterpolargl"
           }
          ],
          "scatterternary": [
           {
            "marker": {
             "colorbar": {
              "outlinewidth": 0,
              "ticks": ""
             }
            },
            "type": "scatterternary"
           }
          ],
          "surface": [
           {
            "colorbar": {
             "outlinewidth": 0,
             "ticks": ""
            },
            "colorscale": [
             [
              0,
              "#0d0887"
             ],
             [
              0.1111111111111111,
              "#46039f"
             ],
             [
              0.2222222222222222,
              "#7201a8"
             ],
             [
              0.3333333333333333,
              "#9c179e"
             ],
             [
              0.4444444444444444,
              "#bd3786"
             ],
             [
              0.5555555555555556,
              "#d8576b"
             ],
             [
              0.6666666666666666,
              "#ed7953"
             ],
             [
              0.7777777777777778,
              "#fb9f3a"
             ],
             [
              0.8888888888888888,
              "#fdca26"
             ],
             [
              1,
              "#f0f921"
             ]
            ],
            "type": "surface"
           }
          ],
          "table": [
           {
            "cells": {
             "fill": {
              "color": "#EBF0F8"
             },
             "line": {
              "color": "white"
             }
            },
            "header": {
             "fill": {
              "color": "#C8D4E3"
             },
             "line": {
              "color": "white"
             }
            },
            "type": "table"
           }
          ]
         },
         "layout": {
          "annotationdefaults": {
           "arrowcolor": "#2a3f5f",
           "arrowhead": 0,
           "arrowwidth": 1
          },
          "autotypenumbers": "strict",
          "coloraxis": {
           "colorbar": {
            "outlinewidth": 0,
            "ticks": ""
           }
          },
          "colorscale": {
           "diverging": [
            [
             0,
             "#8e0152"
            ],
            [
             0.1,
             "#c51b7d"
            ],
            [
             0.2,
             "#de77ae"
            ],
            [
             0.3,
             "#f1b6da"
            ],
            [
             0.4,
             "#fde0ef"
            ],
            [
             0.5,
             "#f7f7f7"
            ],
            [
             0.6,
             "#e6f5d0"
            ],
            [
             0.7,
             "#b8e186"
            ],
            [
             0.8,
             "#7fbc41"
            ],
            [
             0.9,
             "#4d9221"
            ],
            [
             1,
             "#276419"
            ]
           ],
           "sequential": [
            [
             0,
             "#0d0887"
            ],
            [
             0.1111111111111111,
             "#46039f"
            ],
            [
             0.2222222222222222,
             "#7201a8"
            ],
            [
             0.3333333333333333,
             "#9c179e"
            ],
            [
             0.4444444444444444,
             "#bd3786"
            ],
            [
             0.5555555555555556,
             "#d8576b"
            ],
            [
             0.6666666666666666,
             "#ed7953"
            ],
            [
             0.7777777777777778,
             "#fb9f3a"
            ],
            [
             0.8888888888888888,
             "#fdca26"
            ],
            [
             1,
             "#f0f921"
            ]
           ],
           "sequentialminus": [
            [
             0,
             "#0d0887"
            ],
            [
             0.1111111111111111,
             "#46039f"
            ],
            [
             0.2222222222222222,
             "#7201a8"
            ],
            [
             0.3333333333333333,
             "#9c179e"
            ],
            [
             0.4444444444444444,
             "#bd3786"
            ],
            [
             0.5555555555555556,
             "#d8576b"
            ],
            [
             0.6666666666666666,
             "#ed7953"
            ],
            [
             0.7777777777777778,
             "#fb9f3a"
            ],
            [
             0.8888888888888888,
             "#fdca26"
            ],
            [
             1,
             "#f0f921"
            ]
           ]
          },
          "colorway": [
           "#636efa",
           "#EF553B",
           "#00cc96",
           "#ab63fa",
           "#FFA15A",
           "#19d3f3",
           "#FF6692",
           "#B6E880",
           "#FF97FF",
           "#FECB52"
          ],
          "font": {
           "color": "#2a3f5f"
          },
          "geo": {
           "bgcolor": "white",
           "lakecolor": "white",
           "landcolor": "#E5ECF6",
           "showlakes": true,
           "showland": true,
           "subunitcolor": "white"
          },
          "hoverlabel": {
           "align": "left"
          },
          "hovermode": "closest",
          "mapbox": {
           "style": "light"
          },
          "paper_bgcolor": "white",
          "plot_bgcolor": "#E5ECF6",
          "polar": {
           "angularaxis": {
            "gridcolor": "white",
            "linecolor": "white",
            "ticks": ""
           },
           "bgcolor": "#E5ECF6",
           "radialaxis": {
            "gridcolor": "white",
            "linecolor": "white",
            "ticks": ""
           }
          },
          "scene": {
           "xaxis": {
            "backgroundcolor": "#E5ECF6",
            "gridcolor": "white",
            "gridwidth": 2,
            "linecolor": "white",
            "showbackground": true,
            "ticks": "",
            "zerolinecolor": "white"
           },
           "yaxis": {
            "backgroundcolor": "#E5ECF6",
            "gridcolor": "white",
            "gridwidth": 2,
            "linecolor": "white",
            "showbackground": true,
            "ticks": "",
            "zerolinecolor": "white"
           },
           "zaxis": {
            "backgroundcolor": "#E5ECF6",
            "gridcolor": "white",
            "gridwidth": 2,
            "linecolor": "white",
            "showbackground": true,
            "ticks": "",
            "zerolinecolor": "white"
           }
          },
          "shapedefaults": {
           "line": {
            "color": "#2a3f5f"
           }
          },
          "ternary": {
           "aaxis": {
            "gridcolor": "white",
            "linecolor": "white",
            "ticks": ""
           },
           "baxis": {
            "gridcolor": "white",
            "linecolor": "white",
            "ticks": ""
           },
           "bgcolor": "#E5ECF6",
           "caxis": {
            "gridcolor": "white",
            "linecolor": "white",
            "ticks": ""
           }
          },
          "title": {
           "x": 0.05
          },
          "xaxis": {
           "automargin": true,
           "gridcolor": "white",
           "linecolor": "white",
           "ticks": "",
           "title": {
            "standoff": 15
           },
           "zerolinecolor": "white",
           "zerolinewidth": 2
          },
          "yaxis": {
           "automargin": true,
           "gridcolor": "white",
           "linecolor": "white",
           "ticks": "",
           "title": {
            "standoff": 15
           },
           "zerolinecolor": "white",
           "zerolinewidth": 2
          }
         }
        },
        "xaxis": {
         "anchor": "y",
         "categoryarray": [
          "US",
          "India",
          "Brazil",
          "France",
          "Germany",
          "United Kingdom",
          "Russia",
          "Italy",
          "Turkey",
          "Korea, South",
          "Spain",
          "Argentina",
          "Japan",
          "Iran",
          "Colombia",
          "Vietnam",
          "Netherlands",
          "Mexico",
          "Indonesia",
          "Poland"
         ],
         "categoryorder": "array",
         "domain": [
          0,
          1
         ],
         "title": {
          "text": "country"
         }
        },
        "yaxis": {
         "anchor": "x",
         "domain": [
          0,
          1
         ],
         "title": {
          "text": "confirmed"
         }
        }
       }
      }
     },
     "metadata": {},
     "output_type": "display_data"
    },
    {
     "data": {
      "application/vnd.plotly.v1+json": {
       "config": {
        "plotlyServerURL": "https://plot.ly"
       },
       "data": [
        {
         "hovertemplate": "<b>%{hovertext}</b><br><br>country=%{x}<br>confirmed=%{marker.size}<extra></extra>",
         "hovertext": [
          "US"
         ],
         "legendgroup": "US",
         "marker": {
          "color": "#636efa",
          "size": [
           45142918434
          ],
          "sizemode": "area",
          "sizeref": 12539699.565,
          "symbol": "circle"
         },
         "mode": "markers",
         "name": "US",
         "orientation": "v",
         "showlegend": true,
         "type": "scatter",
         "x": [
          "US"
         ],
         "xaxis": "x",
         "y": [
          45142918434
         ],
         "yaxis": "y"
        },
        {
         "hovertemplate": "<b>%{hovertext}</b><br><br>country=%{x}<br>confirmed=%{marker.size}<extra></extra>",
         "hovertext": [
          "India"
         ],
         "legendgroup": "India",
         "marker": {
          "color": "#EF553B",
          "size": [
           25333032268
          ],
          "sizemode": "area",
          "sizeref": 12539699.565,
          "symbol": "circle"
         },
         "mode": "markers",
         "name": "India",
         "orientation": "v",
         "showlegend": true,
         "type": "scatter",
         "x": [
          "India"
         ],
         "xaxis": "x",
         "y": [
          25333032268
         ],
         "yaxis": "y"
        },
        {
         "hovertemplate": "<b>%{hovertext}</b><br><br>country=%{x}<br>confirmed=%{marker.size}<extra></extra>",
         "hovertext": [
          "Brazil"
         ],
         "legendgroup": "Brazil",
         "marker": {
          "color": "#00cc96",
          "size": [
           18065779204
          ],
          "sizemode": "area",
          "sizeref": 12539699.565,
          "symbol": "circle"
         },
         "mode": "markers",
         "name": "Brazil",
         "orientation": "v",
         "showlegend": true,
         "type": "scatter",
         "x": [
          "Brazil"
         ],
         "xaxis": "x",
         "y": [
          18065779204
         ],
         "yaxis": "y"
        },
        {
         "hovertemplate": "<b>%{hovertext}</b><br><br>country=%{x}<br>confirmed=%{marker.size}<extra></extra>",
         "hovertext": [
          "France"
         ],
         "legendgroup": "France",
         "marker": {
          "color": "#ab63fa",
          "size": [
           12325844813
          ],
          "sizemode": "area",
          "sizeref": 12539699.565,
          "symbol": "circle"
         },
         "mode": "markers",
         "name": "France",
         "orientation": "v",
         "showlegend": true,
         "type": "scatter",
         "x": [
          "France"
         ],
         "xaxis": "x",
         "y": [
          12325844813
         ],
         "yaxis": "y"
        },
        {
         "hovertemplate": "<b>%{hovertext}</b><br><br>country=%{x}<br>confirmed=%{marker.size}<extra></extra>",
         "hovertext": [
          "Germany"
         ],
         "legendgroup": "Germany",
         "marker": {
          "color": "#FFA15A",
          "size": [
           10510472899
          ],
          "sizemode": "area",
          "sizeref": 12539699.565,
          "symbol": "circle"
         },
         "mode": "markers",
         "name": "Germany",
         "orientation": "v",
         "showlegend": true,
         "type": "scatter",
         "x": [
          "Germany"
         ],
         "xaxis": "x",
         "y": [
          10510472899
         ],
         "yaxis": "y"
        },
        {
         "hovertemplate": "<b>%{hovertext}</b><br><br>country=%{x}<br>confirmed=%{marker.size}<extra></extra>",
         "hovertext": [
          "United Kingdom"
         ],
         "legendgroup": "United Kingdom",
         "marker": {
          "color": "#19d3f3",
          "size": [
           9962186872
          ],
          "sizemode": "area",
          "sizeref": 12539699.565,
          "symbol": "circle"
         },
         "mode": "markers",
         "name": "United Kingdom",
         "orientation": "v",
         "showlegend": true,
         "type": "scatter",
         "x": [
          "United Kingdom"
         ],
         "xaxis": "x",
         "y": [
          9962186872
         ],
         "yaxis": "y"
        },
        {
         "hovertemplate": "<b>%{hovertext}</b><br><br>country=%{x}<br>confirmed=%{marker.size}<extra></extra>",
         "hovertext": [
          "Russia"
         ],
         "legendgroup": "Russia",
         "marker": {
          "color": "#FF6692",
          "size": [
           8737149987
          ],
          "sizemode": "area",
          "sizeref": 12539699.565,
          "symbol": "circle"
         },
         "mode": "markers",
         "name": "Russia",
         "orientation": "v",
         "showlegend": true,
         "type": "scatter",
         "x": [
          "Russia"
         ],
         "xaxis": "x",
         "y": [
          8737149987
         ],
         "yaxis": "y"
        },
        {
         "hovertemplate": "<b>%{hovertext}</b><br><br>country=%{x}<br>confirmed=%{marker.size}<extra></extra>",
         "hovertext": [
          "Italy"
         ],
         "legendgroup": "Italy",
         "marker": {
          "color": "#B6E880",
          "size": [
           7928371895
          ],
          "sizemode": "area",
          "sizeref": 12539699.565,
          "symbol": "circle"
         },
         "mode": "markers",
         "name": "Italy",
         "orientation": "v",
         "showlegend": true,
         "type": "scatter",
         "x": [
          "Italy"
         ],
         "xaxis": "x",
         "y": [
          7928371895
         ],
         "yaxis": "y"
        },
        {
         "hovertemplate": "<b>%{hovertext}</b><br><br>country=%{x}<br>confirmed=%{marker.size}<extra></extra>",
         "hovertext": [
          "Turkey"
         ],
         "legendgroup": "Turkey",
         "marker": {
          "color": "#FF97FF",
          "size": [
           7394203757
          ],
          "sizemode": "area",
          "sizeref": 12539699.565,
          "symbol": "circle"
         },
         "mode": "markers",
         "name": "Turkey",
         "orientation": "v",
         "showlegend": true,
         "type": "scatter",
         "x": [
          "Turkey"
         ],
         "xaxis": "x",
         "y": [
          7394203757
         ],
         "yaxis": "y"
        },
        {
         "hovertemplate": "<b>%{hovertext}</b><br><br>country=%{x}<br>confirmed=%{marker.size}<extra></extra>",
         "hovertext": [
          "Korea, South"
         ],
         "legendgroup": "Korea, South",
         "marker": {
          "color": "#FECB52",
          "size": [
           5932336773
          ],
          "sizemode": "area",
          "sizeref": 12539699.565,
          "symbol": "circle"
         },
         "mode": "markers",
         "name": "Korea, South",
         "orientation": "v",
         "showlegend": true,
         "type": "scatter",
         "x": [
          "Korea, South"
         ],
         "xaxis": "x",
         "y": [
          5932336773
         ],
         "yaxis": "y"
        }
       ],
       "layout": {
        "legend": {
         "itemsizing": "constant",
         "title": {
          "text": "country"
         },
         "tracegroupgap": 0
        },
        "margin": {
         "t": 60
        },
        "template": {
         "data": {
          "bar": [
           {
            "error_x": {
             "color": "#2a3f5f"
            },
            "error_y": {
             "color": "#2a3f5f"
            },
            "marker": {
             "line": {
              "color": "#E5ECF6",
              "width": 0.5
             },
             "pattern": {
              "fillmode": "overlay",
              "size": 10,
              "solidity": 0.2
             }
            },
            "type": "bar"
           }
          ],
          "barpolar": [
           {
            "marker": {
             "line": {
              "color": "#E5ECF6",
              "width": 0.5
             },
             "pattern": {
              "fillmode": "overlay",
              "size": 10,
              "solidity": 0.2
             }
            },
            "type": "barpolar"
           }
          ],
          "carpet": [
           {
            "aaxis": {
             "endlinecolor": "#2a3f5f",
             "gridcolor": "white",
             "linecolor": "white",
             "minorgridcolor": "white",
             "startlinecolor": "#2a3f5f"
            },
            "baxis": {
             "endlinecolor": "#2a3f5f",
             "gridcolor": "white",
             "linecolor": "white",
             "minorgridcolor": "white",
             "startlinecolor": "#2a3f5f"
            },
            "type": "carpet"
           }
          ],
          "choropleth": [
           {
            "colorbar": {
             "outlinewidth": 0,
             "ticks": ""
            },
            "type": "choropleth"
           }
          ],
          "contour": [
           {
            "colorbar": {
             "outlinewidth": 0,
             "ticks": ""
            },
            "colorscale": [
             [
              0,
              "#0d0887"
             ],
             [
              0.1111111111111111,
              "#46039f"
             ],
             [
              0.2222222222222222,
              "#7201a8"
             ],
             [
              0.3333333333333333,
              "#9c179e"
             ],
             [
              0.4444444444444444,
              "#bd3786"
             ],
             [
              0.5555555555555556,
              "#d8576b"
             ],
             [
              0.6666666666666666,
              "#ed7953"
             ],
             [
              0.7777777777777778,
              "#fb9f3a"
             ],
             [
              0.8888888888888888,
              "#fdca26"
             ],
             [
              1,
              "#f0f921"
             ]
            ],
            "type": "contour"
           }
          ],
          "contourcarpet": [
           {
            "colorbar": {
             "outlinewidth": 0,
             "ticks": ""
            },
            "type": "contourcarpet"
           }
          ],
          "heatmap": [
           {
            "colorbar": {
             "outlinewidth": 0,
             "ticks": ""
            },
            "colorscale": [
             [
              0,
              "#0d0887"
             ],
             [
              0.1111111111111111,
              "#46039f"
             ],
             [
              0.2222222222222222,
              "#7201a8"
             ],
             [
              0.3333333333333333,
              "#9c179e"
             ],
             [
              0.4444444444444444,
              "#bd3786"
             ],
             [
              0.5555555555555556,
              "#d8576b"
             ],
             [
              0.6666666666666666,
              "#ed7953"
             ],
             [
              0.7777777777777778,
              "#fb9f3a"
             ],
             [
              0.8888888888888888,
              "#fdca26"
             ],
             [
              1,
              "#f0f921"
             ]
            ],
            "type": "heatmap"
           }
          ],
          "heatmapgl": [
           {
            "colorbar": {
             "outlinewidth": 0,
             "ticks": ""
            },
            "colorscale": [
             [
              0,
              "#0d0887"
             ],
             [
              0.1111111111111111,
              "#46039f"
             ],
             [
              0.2222222222222222,
              "#7201a8"
             ],
             [
              0.3333333333333333,
              "#9c179e"
             ],
             [
              0.4444444444444444,
              "#bd3786"
             ],
             [
              0.5555555555555556,
              "#d8576b"
             ],
             [
              0.6666666666666666,
              "#ed7953"
             ],
             [
              0.7777777777777778,
              "#fb9f3a"
             ],
             [
              0.8888888888888888,
              "#fdca26"
             ],
             [
              1,
              "#f0f921"
             ]
            ],
            "type": "heatmapgl"
           }
          ],
          "histogram": [
           {
            "marker": {
             "pattern": {
              "fillmode": "overlay",
              "size": 10,
              "solidity": 0.2
             }
            },
            "type": "histogram"
           }
          ],
          "histogram2d": [
           {
            "colorbar": {
             "outlinewidth": 0,
             "ticks": ""
            },
            "colorscale": [
             [
              0,
              "#0d0887"
             ],
             [
              0.1111111111111111,
              "#46039f"
             ],
             [
              0.2222222222222222,
              "#7201a8"
             ],
             [
              0.3333333333333333,
              "#9c179e"
             ],
             [
              0.4444444444444444,
              "#bd3786"
             ],
             [
              0.5555555555555556,
              "#d8576b"
             ],
             [
              0.6666666666666666,
              "#ed7953"
             ],
             [
              0.7777777777777778,
              "#fb9f3a"
             ],
             [
              0.8888888888888888,
              "#fdca26"
             ],
             [
              1,
              "#f0f921"
             ]
            ],
            "type": "histogram2d"
           }
          ],
          "histogram2dcontour": [
           {
            "colorbar": {
             "outlinewidth": 0,
             "ticks": ""
            },
            "colorscale": [
             [
              0,
              "#0d0887"
             ],
             [
              0.1111111111111111,
              "#46039f"
             ],
             [
              0.2222222222222222,
              "#7201a8"
             ],
             [
              0.3333333333333333,
              "#9c179e"
             ],
             [
              0.4444444444444444,
              "#bd3786"
             ],
             [
              0.5555555555555556,
              "#d8576b"
             ],
             [
              0.6666666666666666,
              "#ed7953"
             ],
             [
              0.7777777777777778,
              "#fb9f3a"
             ],
             [
              0.8888888888888888,
              "#fdca26"
             ],
             [
              1,
              "#f0f921"
             ]
            ],
            "type": "histogram2dcontour"
           }
          ],
          "mesh3d": [
           {
            "colorbar": {
             "outlinewidth": 0,
             "ticks": ""
            },
            "type": "mesh3d"
           }
          ],
          "parcoords": [
           {
            "line": {
             "colorbar": {
              "outlinewidth": 0,
              "ticks": ""
             }
            },
            "type": "parcoords"
           }
          ],
          "pie": [
           {
            "automargin": true,
            "type": "pie"
           }
          ],
          "scatter": [
           {
            "fillpattern": {
             "fillmode": "overlay",
             "size": 10,
             "solidity": 0.2
            },
            "type": "scatter"
           }
          ],
          "scatter3d": [
           {
            "line": {
             "colorbar": {
              "outlinewidth": 0,
              "ticks": ""
             }
            },
            "marker": {
             "colorbar": {
              "outlinewidth": 0,
              "ticks": ""
             }
            },
            "type": "scatter3d"
           }
          ],
          "scattercarpet": [
           {
            "marker": {
             "colorbar": {
              "outlinewidth": 0,
              "ticks": ""
             }
            },
            "type": "scattercarpet"
           }
          ],
          "scattergeo": [
           {
            "marker": {
             "colorbar": {
              "outlinewidth": 0,
              "ticks": ""
             }
            },
            "type": "scattergeo"
           }
          ],
          "scattergl": [
           {
            "marker": {
             "colorbar": {
              "outlinewidth": 0,
              "ticks": ""
             }
            },
            "type": "scattergl"
           }
          ],
          "scattermapbox": [
           {
            "marker": {
             "colorbar": {
              "outlinewidth": 0,
              "ticks": ""
             }
            },
            "type": "scattermapbox"
           }
          ],
          "scatterpolar": [
           {
            "marker": {
             "colorbar": {
              "outlinewidth": 0,
              "ticks": ""
             }
            },
            "type": "scatterpolar"
           }
          ],
          "scatterpolargl": [
           {
            "marker": {
             "colorbar": {
              "outlinewidth": 0,
              "ticks": ""
             }
            },
            "type": "scatterpolargl"
           }
          ],
          "scatterternary": [
           {
            "marker": {
             "colorbar": {
              "outlinewidth": 0,
              "ticks": ""
             }
            },
            "type": "scatterternary"
           }
          ],
          "surface": [
           {
            "colorbar": {
             "outlinewidth": 0,
             "ticks": ""
            },
            "colorscale": [
             [
              0,
              "#0d0887"
             ],
             [
              0.1111111111111111,
              "#46039f"
             ],
             [
              0.2222222222222222,
              "#7201a8"
             ],
             [
              0.3333333333333333,
              "#9c179e"
             ],
             [
              0.4444444444444444,
              "#bd3786"
             ],
             [
              0.5555555555555556,
              "#d8576b"
             ],
             [
              0.6666666666666666,
              "#ed7953"
             ],
             [
              0.7777777777777778,
              "#fb9f3a"
             ],
             [
              0.8888888888888888,
              "#fdca26"
             ],
             [
              1,
              "#f0f921"
             ]
            ],
            "type": "surface"
           }
          ],
          "table": [
           {
            "cells": {
             "fill": {
              "color": "#EBF0F8"
             },
             "line": {
              "color": "white"
             }
            },
            "header": {
             "fill": {
              "color": "#C8D4E3"
             },
             "line": {
              "color": "white"
             }
            },
            "type": "table"
           }
          ]
         },
         "layout": {
          "annotationdefaults": {
           "arrowcolor": "#2a3f5f",
           "arrowhead": 0,
           "arrowwidth": 1
          },
          "autotypenumbers": "strict",
          "coloraxis": {
           "colorbar": {
            "outlinewidth": 0,
            "ticks": ""
           }
          },
          "colorscale": {
           "diverging": [
            [
             0,
             "#8e0152"
            ],
            [
             0.1,
             "#c51b7d"
            ],
            [
             0.2,
             "#de77ae"
            ],
            [
             0.3,
             "#f1b6da"
            ],
            [
             0.4,
             "#fde0ef"
            ],
            [
             0.5,
             "#f7f7f7"
            ],
            [
             0.6,
             "#e6f5d0"
            ],
            [
             0.7,
             "#b8e186"
            ],
            [
             0.8,
             "#7fbc41"
            ],
            [
             0.9,
             "#4d9221"
            ],
            [
             1,
             "#276419"
            ]
           ],
           "sequential": [
            [
             0,
             "#0d0887"
            ],
            [
             0.1111111111111111,
             "#46039f"
            ],
            [
             0.2222222222222222,
             "#7201a8"
            ],
            [
             0.3333333333333333,
             "#9c179e"
            ],
            [
             0.4444444444444444,
             "#bd3786"
            ],
            [
             0.5555555555555556,
             "#d8576b"
            ],
            [
             0.6666666666666666,
             "#ed7953"
            ],
            [
             0.7777777777777778,
             "#fb9f3a"
            ],
            [
             0.8888888888888888,
             "#fdca26"
            ],
            [
             1,
             "#f0f921"
            ]
           ],
           "sequentialminus": [
            [
             0,
             "#0d0887"
            ],
            [
             0.1111111111111111,
             "#46039f"
            ],
            [
             0.2222222222222222,
             "#7201a8"
            ],
            [
             0.3333333333333333,
             "#9c179e"
            ],
            [
             0.4444444444444444,
             "#bd3786"
            ],
            [
             0.5555555555555556,
             "#d8576b"
            ],
            [
             0.6666666666666666,
             "#ed7953"
            ],
            [
             0.7777777777777778,
             "#fb9f3a"
            ],
            [
             0.8888888888888888,
             "#fdca26"
            ],
            [
             1,
             "#f0f921"
            ]
           ]
          },
          "colorway": [
           "#636efa",
           "#EF553B",
           "#00cc96",
           "#ab63fa",
           "#FFA15A",
           "#19d3f3",
           "#FF6692",
           "#B6E880",
           "#FF97FF",
           "#FECB52"
          ],
          "font": {
           "color": "#2a3f5f"
          },
          "geo": {
           "bgcolor": "white",
           "lakecolor": "white",
           "landcolor": "#E5ECF6",
           "showlakes": true,
           "showland": true,
           "subunitcolor": "white"
          },
          "hoverlabel": {
           "align": "left"
          },
          "hovermode": "closest",
          "mapbox": {
           "style": "light"
          },
          "paper_bgcolor": "white",
          "plot_bgcolor": "#E5ECF6",
          "polar": {
           "angularaxis": {
            "gridcolor": "white",
            "linecolor": "white",
            "ticks": ""
           },
           "bgcolor": "#E5ECF6",
           "radialaxis": {
            "gridcolor": "white",
            "linecolor": "white",
            "ticks": ""
           }
          },
          "scene": {
           "xaxis": {
            "backgroundcolor": "#E5ECF6",
            "gridcolor": "white",
            "gridwidth": 2,
            "linecolor": "white",
            "showbackground": true,
            "ticks": "",
            "zerolinecolor": "white"
           },
           "yaxis": {
            "backgroundcolor": "#E5ECF6",
            "gridcolor": "white",
            "gridwidth": 2,
            "linecolor": "white",
            "showbackground": true,
            "ticks": "",
            "zerolinecolor": "white"
           },
           "zaxis": {
            "backgroundcolor": "#E5ECF6",
            "gridcolor": "white",
            "gridwidth": 2,
            "linecolor": "white",
            "showbackground": true,
            "ticks": "",
            "zerolinecolor": "white"
           }
          },
          "shapedefaults": {
           "line": {
            "color": "#2a3f5f"
           }
          },
          "ternary": {
           "aaxis": {
            "gridcolor": "white",
            "linecolor": "white",
            "ticks": ""
           },
           "baxis": {
            "gridcolor": "white",
            "linecolor": "white",
            "ticks": ""
           },
           "bgcolor": "#E5ECF6",
           "caxis": {
            "gridcolor": "white",
            "linecolor": "white",
            "ticks": ""
           }
          },
          "title": {
           "x": 0.05
          },
          "xaxis": {
           "automargin": true,
           "gridcolor": "white",
           "linecolor": "white",
           "ticks": "",
           "title": {
            "standoff": 15
           },
           "zerolinecolor": "white",
           "zerolinewidth": 2
          },
          "yaxis": {
           "automargin": true,
           "gridcolor": "white",
           "linecolor": "white",
           "ticks": "",
           "title": {
            "standoff": 15
           },
           "zerolinecolor": "white",
           "zerolinewidth": 2
          }
         }
        },
        "xaxis": {
         "anchor": "y",
         "categoryarray": [
          "US",
          "India",
          "Brazil",
          "France",
          "Germany",
          "United Kingdom",
          "Russia",
          "Italy",
          "Turkey",
          "Korea, South"
         ],
         "categoryorder": "array",
         "domain": [
          0,
          1
         ],
         "title": {
          "text": "country"
         }
        },
        "yaxis": {
         "anchor": "x",
         "domain": [
          0,
          1
         ],
         "title": {
          "text": "confirmed"
         }
        }
       }
      }
     },
     "metadata": {},
     "output_type": "display_data"
    }
   ],
   "source": [
    "def graph_pays_confirmed(nb) :\n",
    "    fig = plot_exp.scatter(dfs['country_sorted'].head(nb), x='country', y='confirmed', size='confirmed', color='country', hover_name='country', size_max=60)\n",
    "    return fig.show()\n",
    "\n",
    "graph = interactive(graph_pays_confirmed, nb=widgets.IntSlider(value=10, min='1', max=20, step=1, description='Nombre de pays :', continuous_update=False))\n",
    "graph"
   ]
  },
  {
   "attachments": {},
   "cell_type": "markdown",
   "metadata": {},
   "source": [
    "## Courbes des cas confirmés et des morts par pays"
   ]
  },
  {
   "attachments": {},
   "cell_type": "markdown",
   "metadata": {},
   "source": [
    "Rentrez un nom de pays et appuyer sur le bouton 'run interract'"
   ]
  },
  {
   "cell_type": "code",
   "execution_count": null,
   "metadata": {},
   "outputs": [
    {
     "data": {
      "application/vnd.jupyter.widget-view+json": {
       "model_id": "50d9be2aab0c470fa4624598766dcffb",
       "version_major": 2,
       "version_minor": 0
      },
      "text/plain": [
       "interactive(children=(Text(value='World', description='Pays :'), Button(description='Run Interact', style=Butt…"
      ]
     },
     "metadata": {},
     "output_type": "display_data"
    },
    {
     "data": {
      "application/vnd.plotly.v1+json": {
       "config": {
        "plotlyServerURL": "https://plot.ly"
       },
       "data": [
        {
         "connectgaps": true,
         "line": {
          "color": "blue",
          "width": 4
         },
         "mode": "lines+markers",
         "name": "confirmed",
         "text": "Total confirmed: 651089237",
         "type": "scatter",
         "x": [
          "1/22/20",
          "1/23/20",
          "1/24/20",
          "1/25/20",
          "1/26/20",
          "1/27/20",
          "1/28/20",
          "1/29/20",
          "1/30/20",
          "1/31/20",
          "2/1/20",
          "2/2/20",
          "2/3/20",
          "2/4/20",
          "2/5/20",
          "2/6/20",
          "2/7/20",
          "2/8/20",
          "2/9/20",
          "2/10/20",
          "2/11/20",
          "2/12/20",
          "2/13/20",
          "2/14/20",
          "2/15/20",
          "2/16/20",
          "2/17/20",
          "2/18/20",
          "2/19/20",
          "2/20/20",
          "2/21/20",
          "2/22/20",
          "2/23/20",
          "2/24/20",
          "2/25/20",
          "2/26/20",
          "2/27/20",
          "2/28/20",
          "2/29/20",
          "3/1/20",
          "3/2/20",
          "3/3/20",
          "3/4/20",
          "3/5/20",
          "3/6/20",
          "3/7/20",
          "3/8/20",
          "3/9/20",
          "3/10/20",
          "3/11/20",
          "3/12/20",
          "3/13/20",
          "3/14/20",
          "3/15/20",
          "3/16/20",
          "3/17/20",
          "3/18/20",
          "3/19/20",
          "3/20/20",
          "3/21/20",
          "3/22/20",
          "3/23/20",
          "3/24/20",
          "3/25/20",
          "3/26/20",
          "3/27/20",
          "3/28/20",
          "3/29/20",
          "3/30/20",
          "3/31/20",
          "4/1/20",
          "4/2/20",
          "4/3/20",
          "4/4/20",
          "4/5/20",
          "4/6/20",
          "4/7/20",
          "4/8/20",
          "4/9/20",
          "4/10/20",
          "4/11/20",
          "4/12/20",
          "4/13/20",
          "4/14/20",
          "4/15/20",
          "4/16/20",
          "4/17/20",
          "4/18/20",
          "4/19/20",
          "4/20/20",
          "4/21/20",
          "4/22/20",
          "4/23/20",
          "4/24/20",
          "4/25/20",
          "4/26/20",
          "4/27/20",
          "4/28/20",
          "4/29/20",
          "4/30/20",
          "5/1/20",
          "5/2/20",
          "5/3/20",
          "5/4/20",
          "5/5/20",
          "5/6/20",
          "5/7/20",
          "5/8/20",
          "5/9/20",
          "5/10/20",
          "5/11/20",
          "5/12/20",
          "5/13/20",
          "5/14/20",
          "5/15/20",
          "5/16/20",
          "5/17/20",
          "5/18/20",
          "5/19/20",
          "5/20/20",
          "5/21/20",
          "5/22/20",
          "5/23/20",
          "5/24/20",
          "5/25/20",
          "5/26/20",
          "5/27/20",
          "5/28/20",
          "5/29/20",
          "5/30/20",
          "5/31/20",
          "6/1/20",
          "6/2/20",
          "6/3/20",
          "6/4/20",
          "6/5/20",
          "6/6/20",
          "6/7/20",
          "6/8/20",
          "6/9/20",
          "6/10/20",
          "6/11/20",
          "6/12/20",
          "6/13/20",
          "6/14/20",
          "6/15/20",
          "6/16/20",
          "6/17/20",
          "6/18/20",
          "6/19/20",
          "6/20/20",
          "6/21/20",
          "6/22/20",
          "6/23/20",
          "6/24/20",
          "6/25/20",
          "6/26/20",
          "6/27/20",
          "6/28/20",
          "6/29/20",
          "6/30/20",
          "7/1/20",
          "7/2/20",
          "7/3/20",
          "7/4/20",
          "7/5/20",
          "7/6/20",
          "7/7/20",
          "7/8/20",
          "7/9/20",
          "7/10/20",
          "7/11/20",
          "7/12/20",
          "7/13/20",
          "7/14/20",
          "7/15/20",
          "7/16/20",
          "7/17/20",
          "7/18/20",
          "7/19/20",
          "7/20/20",
          "7/21/20",
          "7/22/20",
          "7/23/20",
          "7/24/20",
          "7/25/20",
          "7/26/20",
          "7/27/20",
          "7/28/20",
          "7/29/20",
          "7/30/20",
          "7/31/20",
          "8/1/20",
          "8/2/20",
          "8/3/20",
          "8/4/20",
          "8/5/20",
          "8/6/20",
          "8/7/20",
          "8/8/20",
          "8/9/20",
          "8/10/20",
          "8/11/20",
          "8/12/20",
          "8/13/20",
          "8/14/20",
          "8/15/20",
          "8/16/20",
          "8/17/20",
          "8/18/20",
          "8/19/20",
          "8/20/20",
          "8/21/20",
          "8/22/20",
          "8/23/20",
          "8/24/20",
          "8/25/20",
          "8/26/20",
          "8/27/20",
          "8/28/20",
          "8/29/20",
          "8/30/20",
          "8/31/20",
          "9/1/20",
          "9/2/20",
          "9/3/20",
          "9/4/20",
          "9/5/20",
          "9/6/20",
          "9/7/20",
          "9/8/20",
          "9/9/20",
          "9/10/20",
          "9/11/20",
          "9/12/20",
          "9/13/20",
          "9/14/20",
          "9/15/20",
          "9/16/20",
          "9/17/20",
          "9/18/20",
          "9/19/20",
          "9/20/20",
          "9/21/20",
          "9/22/20",
          "9/23/20",
          "9/24/20",
          "9/25/20",
          "9/26/20",
          "9/27/20",
          "9/28/20",
          "9/29/20",
          "9/30/20",
          "10/1/20",
          "10/2/20",
          "10/3/20",
          "10/4/20",
          "10/5/20",
          "10/6/20",
          "10/7/20",
          "10/8/20",
          "10/9/20",
          "10/10/20",
          "10/11/20",
          "10/12/20",
          "10/13/20",
          "10/14/20",
          "10/15/20",
          "10/16/20",
          "10/17/20",
          "10/18/20",
          "10/19/20",
          "10/20/20",
          "10/21/20",
          "10/22/20",
          "10/23/20",
          "10/24/20",
          "10/25/20",
          "10/26/20",
          "10/27/20",
          "10/28/20",
          "10/29/20",
          "10/30/20",
          "10/31/20",
          "11/1/20",
          "11/2/20",
          "11/3/20",
          "11/4/20",
          "11/5/20",
          "11/6/20",
          "11/7/20",
          "11/8/20",
          "11/9/20",
          "11/10/20",
          "11/11/20",
          "11/12/20",
          "11/13/20",
          "11/14/20",
          "11/15/20",
          "11/16/20",
          "11/17/20",
          "11/18/20",
          "11/19/20",
          "11/20/20",
          "11/21/20",
          "11/22/20",
          "11/23/20",
          "11/24/20",
          "11/25/20",
          "11/26/20",
          "11/27/20",
          "11/28/20",
          "11/29/20",
          "11/30/20",
          "12/1/20",
          "12/2/20",
          "12/3/20",
          "12/4/20",
          "12/5/20",
          "12/6/20",
          "12/7/20",
          "12/8/20",
          "12/9/20",
          "12/10/20",
          "12/11/20",
          "12/12/20",
          "12/13/20",
          "12/14/20",
          "12/15/20",
          "12/16/20",
          "12/17/20",
          "12/18/20",
          "12/19/20",
          "12/20/20",
          "12/21/20",
          "12/22/20",
          "12/23/20",
          "12/24/20",
          "12/25/20",
          "12/26/20",
          "12/27/20",
          "12/28/20",
          "12/29/20",
          "12/30/20",
          "12/31/20",
          "1/1/21",
          "1/2/21",
          "1/3/21",
          "1/4/21",
          "1/5/21",
          "1/6/21",
          "1/7/21",
          "1/8/21",
          "1/9/21",
          "1/10/21",
          "1/11/21",
          "1/12/21",
          "1/13/21",
          "1/14/21",
          "1/15/21",
          "1/16/21",
          "1/17/21",
          "1/18/21",
          "1/19/21",
          "1/20/21",
          "1/21/21",
          "1/22/21",
          "1/23/21",
          "1/24/21",
          "1/25/21",
          "1/26/21",
          "1/27/21",
          "1/28/21",
          "1/29/21",
          "1/30/21",
          "1/31/21",
          "2/1/21",
          "2/2/21",
          "2/3/21",
          "2/4/21",
          "2/5/21",
          "2/6/21",
          "2/7/21",
          "2/8/21",
          "2/9/21",
          "2/10/21",
          "2/11/21",
          "2/12/21",
          "2/13/21",
          "2/14/21",
          "2/15/21",
          "2/16/21",
          "2/17/21",
          "2/18/21",
          "2/19/21",
          "2/20/21",
          "2/21/21",
          "2/22/21",
          "2/23/21",
          "2/24/21",
          "2/25/21",
          "2/26/21",
          "2/27/21",
          "2/28/21",
          "3/1/21",
          "3/2/21",
          "3/3/21",
          "3/4/21",
          "3/5/21",
          "3/6/21",
          "3/7/21",
          "3/8/21",
          "3/9/21",
          "3/10/21",
          "3/11/21",
          "3/12/21",
          "3/13/21",
          "3/14/21",
          "3/15/21",
          "3/16/21",
          "3/17/21",
          "3/18/21",
          "3/19/21",
          "3/20/21",
          "3/21/21",
          "3/22/21",
          "3/23/21",
          "3/24/21",
          "3/25/21",
          "3/26/21",
          "3/27/21",
          "3/28/21",
          "3/29/21",
          "3/30/21",
          "3/31/21",
          "4/1/21",
          "4/2/21",
          "4/3/21",
          "4/4/21",
          "4/5/21",
          "4/6/21",
          "4/7/21",
          "4/8/21",
          "4/9/21",
          "4/10/21",
          "4/11/21",
          "4/12/21",
          "4/13/21",
          "4/14/21",
          "4/15/21",
          "4/16/21",
          "4/17/21",
          "4/18/21",
          "4/19/21",
          "4/20/21",
          "4/21/21",
          "4/22/21",
          "4/23/21",
          "4/24/21",
          "4/25/21",
          "4/26/21",
          "4/27/21",
          "4/28/21",
          "4/29/21",
          "4/30/21",
          "5/1/21",
          "5/2/21",
          "5/3/21",
          "5/4/21",
          "5/5/21",
          "5/6/21",
          "5/7/21",
          "5/8/21",
          "5/9/21",
          "5/10/21",
          "5/11/21",
          "5/12/21",
          "5/13/21",
          "5/14/21",
          "5/15/21",
          "5/16/21",
          "5/17/21",
          "5/18/21",
          "5/19/21",
          "5/20/21",
          "5/21/21",
          "5/22/21",
          "5/23/21",
          "5/24/21",
          "5/25/21",
          "5/26/21",
          "5/27/21",
          "5/28/21",
          "5/29/21",
          "5/30/21",
          "5/31/21",
          "6/1/21",
          "6/2/21",
          "6/3/21",
          "6/4/21",
          "6/5/21",
          "6/6/21",
          "6/7/21",
          "6/8/21",
          "6/9/21",
          "6/10/21",
          "6/11/21",
          "6/12/21",
          "6/13/21",
          "6/14/21",
          "6/15/21",
          "6/16/21",
          "6/17/21",
          "6/18/21",
          "6/19/21",
          "6/20/21",
          "6/21/21",
          "6/22/21",
          "6/23/21",
          "6/24/21",
          "6/25/21",
          "6/26/21",
          "6/27/21",
          "6/28/21",
          "6/29/21",
          "6/30/21",
          "7/1/21",
          "7/2/21",
          "7/3/21",
          "7/4/21",
          "7/5/21",
          "7/6/21",
          "7/7/21",
          "7/8/21",
          "7/9/21",
          "7/10/21",
          "7/11/21",
          "7/12/21",
          "7/13/21",
          "7/14/21",
          "7/15/21",
          "7/16/21",
          "7/17/21",
          "7/18/21",
          "7/19/21",
          "7/20/21",
          "7/21/21",
          "7/22/21",
          "7/23/21",
          "7/24/21",
          "7/25/21",
          "7/26/21",
          "7/27/21",
          "7/28/21",
          "7/29/21",
          "7/30/21",
          "7/31/21",
          "8/1/21",
          "8/2/21",
          "8/3/21",
          "8/4/21",
          "8/5/21",
          "8/6/21",
          "8/7/21",
          "8/8/21",
          "8/9/21",
          "8/10/21",
          "8/11/21",
          "8/12/21",
          "8/13/21",
          "8/14/21",
          "8/15/21",
          "8/16/21",
          "8/17/21",
          "8/18/21",
          "8/19/21",
          "8/20/21",
          "8/21/21",
          "8/22/21",
          "8/23/21",
          "8/24/21",
          "8/25/21",
          "8/26/21",
          "8/27/21",
          "8/28/21",
          "8/29/21",
          "8/30/21",
          "8/31/21",
          "9/1/21",
          "9/2/21",
          "9/3/21",
          "9/4/21",
          "9/5/21",
          "9/6/21",
          "9/7/21",
          "9/8/21",
          "9/9/21",
          "9/10/21",
          "9/11/21",
          "9/12/21",
          "9/13/21",
          "9/14/21",
          "9/15/21",
          "9/16/21",
          "9/17/21",
          "9/18/21",
          "9/19/21",
          "9/20/21",
          "9/21/21",
          "9/22/21",
          "9/23/21",
          "9/24/21",
          "9/25/21",
          "9/26/21",
          "9/27/21",
          "9/28/21",
          "9/29/21",
          "9/30/21",
          "10/1/21",
          "10/2/21",
          "10/3/21",
          "10/4/21",
          "10/5/21",
          "10/6/21",
          "10/7/21",
          "10/8/21",
          "10/9/21",
          "10/10/21",
          "10/11/21",
          "10/12/21",
          "10/13/21",
          "10/14/21",
          "10/15/21",
          "10/16/21",
          "10/17/21",
          "10/18/21",
          "10/19/21",
          "10/20/21",
          "10/21/21",
          "10/22/21",
          "10/23/21",
          "10/24/21",
          "10/25/21",
          "10/26/21",
          "10/27/21",
          "10/28/21",
          "10/29/21",
          "10/30/21",
          "10/31/21",
          "11/1/21",
          "11/2/21",
          "11/3/21",
          "11/4/21",
          "11/5/21",
          "11/6/21",
          "11/7/21",
          "11/8/21",
          "11/9/21",
          "11/10/21",
          "11/11/21",
          "11/12/21",
          "11/13/21",
          "11/14/21",
          "11/15/21",
          "11/16/21",
          "11/17/21",
          "11/18/21",
          "11/19/21",
          "11/20/21",
          "11/21/21",
          "11/22/21",
          "11/23/21",
          "11/24/21",
          "11/25/21",
          "11/26/21",
          "11/27/21",
          "11/28/21",
          "11/29/21",
          "11/30/21",
          "12/1/21",
          "12/2/21",
          "12/3/21",
          "12/4/21",
          "12/5/21",
          "12/6/21",
          "12/7/21",
          "12/8/21",
          "12/9/21",
          "12/10/21",
          "12/11/21",
          "12/12/21",
          "12/13/21",
          "12/14/21",
          "12/15/21",
          "12/16/21",
          "12/17/21",
          "12/18/21",
          "12/19/21",
          "12/20/21",
          "12/21/21",
          "12/22/21",
          "12/23/21",
          "12/24/21",
          "12/25/21",
          "12/26/21",
          "12/27/21",
          "12/28/21",
          "12/29/21",
          "12/30/21",
          "12/31/21",
          "1/1/22",
          "1/2/22",
          "1/3/22",
          "1/4/22",
          "1/5/22",
          "1/6/22",
          "1/7/22",
          "1/8/22",
          "1/9/22",
          "1/10/22",
          "1/11/22",
          "1/12/22",
          "1/13/22",
          "1/14/22",
          "1/15/22",
          "1/16/22",
          "1/17/22",
          "1/18/22",
          "1/19/22",
          "1/20/22",
          "1/21/22",
          "1/22/22",
          "1/23/22",
          "1/24/22",
          "1/25/22",
          "1/26/22",
          "1/27/22",
          "1/28/22",
          "1/29/22",
          "1/30/22",
          "1/31/22",
          "2/1/22",
          "2/2/22",
          "2/3/22",
          "2/4/22",
          "2/5/22",
          "2/6/22",
          "2/7/22",
          "2/8/22",
          "2/9/22",
          "2/10/22",
          "2/11/22",
          "2/12/22",
          "2/13/22",
          "2/14/22",
          "2/15/22",
          "2/16/22",
          "2/17/22",
          "2/18/22",
          "2/19/22",
          "2/20/22",
          "2/21/22",
          "2/22/22",
          "2/23/22",
          "2/24/22",
          "2/25/22",
          "2/26/22",
          "2/27/22",
          "2/28/22",
          "3/1/22",
          "3/2/22",
          "3/3/22",
          "3/4/22",
          "3/5/22",
          "3/6/22",
          "3/7/22",
          "3/8/22",
          "3/9/22",
          "3/10/22",
          "3/11/22",
          "3/12/22",
          "3/13/22",
          "3/14/22",
          "3/15/22",
          "3/16/22",
          "3/17/22",
          "3/18/22",
          "3/19/22",
          "3/20/22",
          "3/21/22",
          "3/22/22",
          "3/23/22",
          "3/24/22",
          "3/25/22",
          "3/26/22",
          "3/27/22",
          "3/28/22",
          "3/29/22",
          "3/30/22",
          "3/31/22",
          "4/1/22",
          "4/2/22",
          "4/3/22",
          "4/4/22",
          "4/5/22",
          "4/6/22",
          "4/7/22",
          "4/8/22",
          "4/9/22",
          "4/10/22",
          "4/11/22",
          "4/12/22",
          "4/13/22",
          "4/14/22",
          "4/15/22",
          "4/16/22",
          "4/17/22",
          "4/18/22",
          "4/19/22",
          "4/20/22",
          "4/21/22",
          "4/22/22",
          "4/23/22",
          "4/24/22",
          "4/25/22",
          "4/26/22",
          "4/27/22",
          "4/28/22",
          "4/29/22",
          "4/30/22",
          "5/1/22",
          "5/2/22",
          "5/3/22",
          "5/4/22",
          "5/5/22",
          "5/6/22",
          "5/7/22",
          "5/8/22",
          "5/9/22",
          "5/10/22",
          "5/11/22",
          "5/12/22",
          "5/13/22",
          "5/14/22",
          "5/15/22",
          "5/16/22",
          "5/17/22",
          "5/18/22",
          "5/19/22",
          "5/20/22",
          "5/21/22",
          "5/22/22",
          "5/23/22",
          "5/24/22",
          "5/25/22",
          "5/26/22",
          "5/27/22",
          "5/28/22",
          "5/29/22",
          "5/30/22",
          "5/31/22",
          "6/1/22",
          "6/2/22",
          "6/3/22",
          "6/4/22",
          "6/5/22",
          "6/6/22",
          "6/7/22",
          "6/8/22",
          "6/9/22",
          "6/10/22",
          "6/11/22",
          "6/12/22",
          "6/13/22",
          "6/14/22",
          "6/15/22",
          "6/16/22",
          "6/17/22",
          "6/18/22",
          "6/19/22",
          "6/20/22",
          "6/21/22",
          "6/22/22",
          "6/23/22",
          "6/24/22",
          "6/25/22",
          "6/26/22",
          "6/27/22",
          "6/28/22",
          "6/29/22",
          "6/30/22",
          "7/1/22",
          "7/2/22",
          "7/3/22",
          "7/4/22",
          "7/5/22",
          "7/6/22",
          "7/7/22",
          "7/8/22",
          "7/9/22",
          "7/10/22",
          "7/11/22",
          "7/12/22",
          "7/13/22",
          "7/14/22",
          "7/15/22",
          "7/16/22",
          "7/17/22",
          "7/18/22",
          "7/19/22",
          "7/20/22",
          "7/21/22",
          "7/22/22",
          "7/23/22",
          "7/24/22",
          "7/25/22",
          "7/26/22",
          "7/27/22",
          "7/28/22",
          "7/29/22",
          "7/30/22",
          "7/31/22",
          "8/1/22",
          "8/2/22",
          "8/3/22",
          "8/4/22",
          "8/5/22",
          "8/6/22",
          "8/7/22",
          "8/8/22",
          "8/9/22",
          "8/10/22",
          "8/11/22",
          "8/12/22",
          "8/13/22",
          "8/14/22",
          "8/15/22",
          "8/16/22",
          "8/17/22",
          "8/18/22",
          "8/19/22",
          "8/20/22",
          "8/21/22",
          "8/22/22",
          "8/23/22",
          "8/24/22",
          "8/25/22",
          "8/26/22",
          "8/27/22",
          "8/28/22",
          "8/29/22",
          "8/30/22",
          "8/31/22",
          "9/1/22",
          "9/2/22",
          "9/3/22",
          "9/4/22",
          "9/5/22",
          "9/6/22",
          "9/7/22",
          "9/8/22",
          "9/9/22",
          "9/10/22",
          "9/11/22",
          "9/12/22",
          "9/13/22",
          "9/14/22",
          "9/15/22",
          "9/16/22",
          "9/17/22",
          "9/18/22",
          "9/19/22",
          "9/20/22",
          "9/21/22",
          "9/22/22",
          "9/23/22",
          "9/24/22",
          "9/25/22",
          "9/26/22",
          "9/27/22",
          "9/28/22",
          "9/29/22",
          "9/30/22",
          "10/1/22",
          "10/2/22",
          "10/3/22",
          "10/4/22",
          "10/5/22",
          "10/6/22",
          "10/7/22",
          "10/8/22",
          "10/9/22",
          "10/10/22",
          "10/11/22",
          "10/12/22",
          "10/13/22",
          "10/14/22",
          "10/15/22",
          "10/16/22",
          "10/17/22",
          "10/18/22",
          "10/19/22",
          "10/20/22",
          "10/21/22",
          "10/22/22",
          "10/23/22",
          "10/24/22",
          "10/25/22",
          "10/26/22",
          "10/27/22",
          "10/28/22",
          "10/29/22",
          "10/30/22",
          "10/31/22",
          "11/1/22",
          "11/2/22",
          "11/3/22",
          "11/4/22",
          "11/5/22",
          "11/6/22",
          "11/7/22",
          "11/8/22",
          "11/9/22",
          "11/10/22",
          "11/11/22",
          "11/12/22",
          "11/13/22",
          "11/14/22",
          "11/15/22",
          "11/16/22",
          "11/17/22",
          "11/18/22",
          "11/19/22",
          "11/20/22",
          "11/21/22",
          "11/22/22",
          "11/23/22",
          "11/24/22",
          "11/25/22",
          "11/26/22",
          "11/27/22",
          "11/28/22",
          "11/29/22",
          "11/30/22",
          "12/1/22",
          "12/2/22",
          "12/3/22",
          "12/4/22",
          "12/5/22",
          "12/6/22",
          "12/7/22",
          "12/8/22",
          "12/9/22",
          "12/10/22",
          "12/11/22",
          "12/12/22",
          "12/13/22",
          "12/14/22"
         ],
         "y": [
          557,
          657,
          944,
          1437,
          2120,
          2929,
          5580,
          6169,
          8237,
          9927,
          12038,
          16787,
          19887,
          23899,
          27644,
          30806,
          34400,
          37131,
          40162,
          42771,
          44814,
          45232,
          60384,
          66912,
          69055,
          71238,
          73273,
          75155,
          75655,
          76216,
          76846,
          78608,
          78990,
          79558,
          80412,
          81384,
          82728,
          84152,
          86023,
          88402,
          90382,
          92994,
          95316,
          98027,
          101957,
          106088,
          109942,
          114265,
          119051,
          126527,
          133283,
          146477,
          157365,
          168598,
          183165,
          198339,
          215900,
          242987,
          272517,
          304944,
          339156,
          381711,
          423594,
          475075,
          535889,
          599820,
          669402,
          725918,
          790929,
          869371,
          955717,
          1038161,
          1122364,
          1182494,
          1254207,
          1328931,
          1397873,
          1480049,
          1567226,
          1653656,
          1729164,
          1847745,
          1919578,
          2004196,
          2082464,
          2176923,
          2264794,
          2343022,
          2419348,
          2495840,
          2571921,
          2653938,
          2736627,
          2820196,
          2903366,
          2974129,
          3045158,
          3120913,
          3198231,
          3281935,
          3370905,
          3449129,
          3523135,
          3600741,
          3680396,
          3770835,
          3859388,
          3949801,
          4034042,
          4109255,
          4185432,
          4270818,
          4355233,
          4450876,
          4547206,
          4641113,
          4719460,
          4808599,
          4904208,
          5009630,
          5115584,
          5222835,
          5326942,
          5420149,
          5508360,
          5600718,
          5703270,
          5823263,
          5944739,
          6079779,
          6182638,
          6282918,
          6405663,
          6516916,
          6655242,
          6788805,
          6918136,
          7029147,
          7132200,
          7258196,
          7395388,
          7531580,
          7659053,
          7792954,
          7924899,
          8049821,
          8193731,
          8336936,
          8480032,
          8661018,
          8846897,
          8939958,
          9082293,
          9250474,
          9421940,
          9601450,
          9793925,
          9970322,
          10138775,
          10291489,
          10475243,
          10690374,
          10895335,
          11097960,
          11287665,
          11473880,
          11642160,
          11851741,
          12067008,
          12291579,
          12524680,
          12737479,
          12930407,
          13124885,
          13345891,
          13575667,
          13820564,
          14058002,
          14293325,
          14505212,
          14713385,
          14956396,
          15231749,
          15511390,
          15794891,
          16044438,
          16256238,
          16490629,
          16754505,
          17024745,
          17306509,
          17593963,
          17840211,
          18070814,
          18276888,
          18542203,
          18817358,
          19104076,
          19386509,
          19651739,
          19884732,
          20117954,
          20383514,
          20658590,
          20948692,
          21255778,
          21504796,
          21714833,
          21927718,
          22187138,
          22464606,
          22736077,
          22998038,
          23261564,
          23464314,
          23692414,
          23937614,
          24219298,
          24506553,
          24790485,
          25051196,
          25270925,
          25535235,
          25802116,
          26083994,
          26369408,
          26671134,
          26944826,
          27173814,
          27391097,
          27637601,
          27922894,
          28227294,
          28543651,
          28832340,
          29081164,
          29348318,
          29628849,
          29933805,
          30249377,
          30576004,
          30869086,
          31124193,
          31384125,
          31668424,
          31980065,
          32300966,
          32630971,
          32916636,
          33163613,
          33426368,
          33709143,
          34033673,
          34352778,
          34682258,
          34979547,
          35240043,
          35551415,
          35867472,
          36216718,
          36576014,
          36936402,
          37291847,
          37581282,
          37871326,
          38190693,
          38571391,
          38978327,
          39388809,
          39760845,
          40092028,
          40466996,
          40855790,
          41295280,
          41777306,
          42271136,
          42727363,
          43086149,
          43569266,
          44037674,
          44559344,
          45110727,
          45682451,
          46154478,
          46593589,
          47142022,
          47707440,
          48199597,
          48818883,
          49441933,
          50040976,
          50531814,
          51041688,
          51612587,
          52237230,
          52877367,
          53538342,
          54125036,
          54615204,
          55141064,
          55743151,
          56365367,
          57019229,
          57693389,
          58285731,
          58783756,
          59318084,
          59908717,
          60525825,
          61114857,
          61810239,
          62417604,
          62913158,
          63419913,
          64034682,
          64674975,
          65365568,
          66062039,
          66704183,
          67248082,
          67783221,
          68413730,
          69079114,
          70574467,
          71280258,
          71928775,
          72467553,
          73018819,
          73667409,
          74385043,
          75123635,
          75845156,
          76480498,
          77027796,
          77574209,
          78225620,
          78907761,
          79601092,
          80119840,
          80626944,
          81040100,
          81539436,
          82211126,
          82936453,
          83776037,
          84362702,
          84943975,
          85464255,
          86021902,
          86762726,
          87553799,
          88423707,
          89259241,
          90015349,
          90616861,
          91231506,
          91923890,
          92667204,
          93426287,
          94210187,
          94866987,
          95394566,
          95911799,
          96504558,
          97191774,
          97860571,
          98524150,
          99100771,
          99562740,
          100044348,
          100605643,
          101206646,
          101821756,
          102410751,
          102925575,
          103322166,
          103765251,
          104230786,
          104756092,
          105227866,
          105764390,
          106199547,
          106551091,
          106891049,
          107298283,
          107738756,
          108182539,
          108612140,
          108992608,
          109301253,
          109582137,
          109941915,
          110328280,
          110739078,
          111148737,
          111523903,
          111843460,
          112139046,
          112531779,
          112976743,
          113429724,
          113871683,
          114268398,
          114576180,
          114881714,
          115194968,
          115636828,
          116095274,
          116544392,
          116958403,
          117332843,
          117638363,
          118052401,
          118511266,
          119000951,
          119490208,
          119945811,
          120310883,
          120664994,
          121132024,
          121677743,
          122225675,
          122788216,
          123286646,
          123727110,
          124148299,
          124654173,
          125283882,
          125936074,
          126576111,
          127160636,
          127653289,
          128112595,
          128674802,
          129348706,
          130058531,
          130703334,
          131243671,
          131803593,
          132300609,
          132908097,
          133571254,
          134407309,
          135154633,
          135825258,
          136534864,
          137148737,
          137912539,
          138723873,
          139545095,
          140404966,
          141198924,
          141899031,
          142589998,
          143429471,
          144318734,
          145218106,
          146125788,
          146949998,
          147678477,
          148367548,
          149206634,
          150105458,
          150999496,
          151890875,
          152685773,
          153373042,
          154063499,
          154848446,
          155690468,
          156563299,
          157398138,
          158186427,
          158835832,
          159461492,
          160187286,
          160954787,
          161689476,
          162399060,
          163030658,
          163577280,
          164120821,
          164740449,
          165412520,
          165694814,
          166321301,
          166893650,
          167375270,
          167826360,
          168359758,
          168928207,
          169475093,
          169980612,
          170461036,
          170850981,
          171238036,
          171698036,
          172185659,
          172666169,
          173091084,
          173487734,
          173810715,
          174132485,
          174502597,
          174920895,
          175374397,
          175796446,
          176164826,
          176467624,
          176776925,
          177151685,
          177540859,
          177936851,
          178340356,
          178688758,
          178992410,
          179289069,
          179699280,
          180095910,
          180505167,
          180922848,
          181285759,
          181596992,
          181930015,
          182311218,
          182710692,
          183146229,
          183588593,
          183963075,
          184291372,
          184668055,
          185118591,
          185583842,
          186065715,
          186578966,
          187001006,
          187371637,
          187804105,
          188329734,
          188867744,
          189444181,
          190040120,
          190530573,
          190952060,
          191438641,
          191971023,
          192527149,
          193092347,
          193820511,
          194254303,
          194701275,
          195238613,
          195844863,
          196494958,
          197137834,
          197870213,
          198389893,
          198875021,
          199441675,
          200075840,
          200756399,
          201442007,
          202261485,
          202825914,
          203296710,
          203909499,
          204555182,
          205285961,
          205991669,
          206793597,
          207352090,
          207823473,
          208477481,
          209160050,
          209895784,
          210607420,
          211392764,
          211959824,
          212414896,
          213083967,
          213760710,
          214498176,
          215234598,
          215985738,
          216553271,
          217008462,
          217661607,
          218282158,
          219001459,
          219678123,
          220401832,
          220909307,
          221366670,
          221823108,
          222479560,
          223117417,
          223757514,
          224416366,
          224895976,
          225274674,
          225834061,
          226383819,
          226950876,
          227538183,
          228161482,
          228694195,
          229064901,
          229578890,
          230067510,
          230602588,
          231150176,
          231699497,
          232080645,
          232444208,
          232912026,
          233362936,
          233854033,
          234343871,
          234865950,
          235225067,
          235540264,
          235972680,
          236395450,
          236902607,
          237364366,
          237839855,
          238188849,
          238512888,
          238884432,
          239322579,
          239779095,
          240232432,
          240690514,
          241042780,
          241364744,
          241772921,
          242204458,
          242680852,
          243142841,
          243635734,
          244021082,
          244343998,
          244767537,
          245193963,
          245708023,
          246191016,
          246685218,
          247081292,
          247447001,
          247866228,
          248270612,
          248795455,
          249312922,
          249837247,
          250276965,
          250641185,
          251108688,
          251578012,
          252151651,
          252672397,
          253272159,
          253712939,
          254094685,
          254617699,
          255124527,
          255739860,
          256361471,
          256976104,
          257477974,
          257900459,
          258498542,
          259091051,
          259748737,
          260346269,
          260959951,
          261445809,
          261879957,
          262510793,
          263111104,
          263813509,
          264521028,
          265251808,
          265788637,
          266250388,
          266847698,
          267486797,
          268198174,
          268896398,
          269590019,
          270110501,
          270569678,
          271177346,
          271814013,
          272554286,
          273298334,
          274066002,
          274638622,
          275152911,
          275890889,
          276649423,
          277564040,
          278575824,
          279467299,
          280171479,
          280757458,
          282031320,
          283367336,
          285072628,
          287022287,
          288766456,
          289995889,
          290927004,
          293284394,
          295798492,
          298382954,
          301051126,
          304005353,
          306196922,
          308238470,
          311398484,
          314427934,
          317875192,
          321061167,
          324378197,
          326883792,
          329107500,
          331753907,
          335518435,
          339602777,
          343335424,
          347166876,
          349950271,
          352418197,
          355831979,
          359485924,
          363248074,
          366947465,
          370626856,
          373378523,
          375673983,
          379226583,
          382356167,
          385541457,
          388735197,
          391691079,
          394012040,
          395907760,
          398531703,
          401131345,
          403564660,
          406378932,
          408804065,
          410738809,
          412269783,
          413978122,
          415849019,
          418088945,
          420151295,
          422134835,
          423800842,
          425112371,
          426511130,
          428184853,
          430102430,
          431890283,
          433544637,
          434994335,
          436154384,
          437479653,
          439078343,
          440738272,
          442513448,
          444275931,
          445758411,
          446985026,
          448417602,
          450158824,
          451992343,
          453863427,
          455736122,
          457533865,
          458818088,
          460432569,
          462241963,
          464480843,
          466558748,
          468450364,
          470189962,
          471282571,
          472770851,
          474748072,
          476552005,
          478336257,
          480095855,
          481472281,
          482434250,
          483915293,
          485667298,
          487264993,
          489080794,
          490247224,
          491316288,
          492124589,
          493046308,
          494411707,
          495833402,
          497085291,
          498235112,
          499032837,
          499625246,
          500575093,
          501670544,
          502734644,
          503688748,
          504385026,
          504979255,
          505407498,
          505887266,
          506826783,
          507776271,
          508673351,
          509478468,
          509995996,
          510381421,
          510961352,
          511603765,
          512418276,
          513149208,
          513779338,
          514144344,
          514457788,
          514915721,
          515581149,
          516198189,
          516786848,
          517404925,
          517752382,
          518034570,
          518748514,
          519379420,
          520066100,
          520698914,
          521264741,
          521709251,
          522085200,
          522691608,
          523285919,
          524033247,
          524619431,
          525239014,
          525609949,
          525927194,
          526437185,
          527016489,
          527651033,
          528155411,
          528723656,
          529011879,
          529289261,
          529695449,
          530314027,
          531006214,
          531530953,
          532072907,
          532325899,
          532592163,
          533028745,
          533679096,
          534378976,
          534943952,
          535488225,
          535771856,
          535975370,
          536538500,
          537382076,
          538101243,
          538622768,
          539207959,
          539436446,
          539711799,
          540502863,
          541315255,
          542121509,
          542893661,
          543652099,
          543968815,
          544256193,
          545181074,
          546114735,
          547046649,
          548104938,
          549041697,
          549400902,
          549761536,
          550659905,
          551848925,
          553079248,
          554114478,
          555099335,
          555602862,
          556028990,
          557137996,
          558333936,
          559785905,
          560745526,
          561761405,
          562314154,
          562773371,
          564009487,
          565534659,
          567132728,
          568257688,
          569337165,
          569973720,
          570524569,
          571551826,
          572724908,
          574134230,
          575230705,
          576587324,
          577163366,
          577708761,
          578618168,
          579793770,
          580936526,
          582375367,
          583266708,
          584444865,
          584942661,
          585788456,
          586822778,
          587837008,
          588832166,
          589581246,
          590217660,
          590678332,
          591551948,
          592639001,
          593620963,
          594553635,
          595344756,
          595919022,
          596403517,
          597138981,
          598020717,
          598852527,
          599754738,
          600452941,
          600905507,
          601311659,
          601910173,
          602603820,
          603396692,
          604070790,
          604723730,
          605100311,
          605470638,
          605948715,
          606619595,
          607231775,
          607809568,
          608329421,
          608642610,
          608956843,
          609466826,
          610011724,
          610705421,
          611308680,
          611762445,
          612057508,
          612312055,
          612752637,
          613302754,
          613821269,
          614434651,
          614948891,
          615214025,
          615436917,
          615901958,
          616507992,
          617041297,
          617702774,
          618152633,
          618393548,
          618594142,
          618913826,
          619573545,
          620155391,
          620837403,
          621360653,
          621579551,
          621798381,
          622302154,
          622956428,
          623515205,
          624146835,
          624601893,
          624819887,
          625011934,
          625546816,
          626155413,
          626669762,
          627240373,
          627653758,
          627835996,
          627996678,
          628423377,
          628997408,
          629448489,
          629901691,
          630251517,
          630450499,
          630617667,
          630918574,
          631301392,
          631698249,
          632169485,
          632595939,
          632797065,
          632983503,
          633309935,
          633747204,
          634171893,
          634626930,
          635109700,
          635351988,
          635535251,
          635900463,
          636395258,
          636875869,
          637348998,
          637977071,
          638224083,
          638446195,
          638803617,
          639368971,
          639963943,
          640375862,
          641068205,
          641338260,
          641601150,
          642027670,
          642754593,
          643281843,
          643981239,
          644739341,
          645038709,
          645295329,
          645818670,
          646440931,
          647068693,
          647872554,
          648537933,
          648812102,
          649109961,
          649712818,
          650437777,
          651089237
         ]
        },
        {
         "connectgaps": true,
         "line": {
          "color": "red",
          "width": 5
         },
         "mode": "lines+markers",
         "name": "deaths",
         "text": "Total deaths: 6658843",
         "type": "scatter",
         "x": [
          "1/22/20",
          "1/23/20",
          "1/24/20",
          "1/25/20",
          "1/26/20",
          "1/27/20",
          "1/28/20",
          "1/29/20",
          "1/30/20",
          "1/31/20",
          "2/1/20",
          "2/2/20",
          "2/3/20",
          "2/4/20",
          "2/5/20",
          "2/6/20",
          "2/7/20",
          "2/8/20",
          "2/9/20",
          "2/10/20",
          "2/11/20",
          "2/12/20",
          "2/13/20",
          "2/14/20",
          "2/15/20",
          "2/16/20",
          "2/17/20",
          "2/18/20",
          "2/19/20",
          "2/20/20",
          "2/21/20",
          "2/22/20",
          "2/23/20",
          "2/24/20",
          "2/25/20",
          "2/26/20",
          "2/27/20",
          "2/28/20",
          "2/29/20",
          "3/1/20",
          "3/2/20",
          "3/3/20",
          "3/4/20",
          "3/5/20",
          "3/6/20",
          "3/7/20",
          "3/8/20",
          "3/9/20",
          "3/10/20",
          "3/11/20",
          "3/12/20",
          "3/13/20",
          "3/14/20",
          "3/15/20",
          "3/16/20",
          "3/17/20",
          "3/18/20",
          "3/19/20",
          "3/20/20",
          "3/21/20",
          "3/22/20",
          "3/23/20",
          "3/24/20",
          "3/25/20",
          "3/26/20",
          "3/27/20",
          "3/28/20",
          "3/29/20",
          "3/30/20",
          "3/31/20",
          "4/1/20",
          "4/2/20",
          "4/3/20",
          "4/4/20",
          "4/5/20",
          "4/6/20",
          "4/7/20",
          "4/8/20",
          "4/9/20",
          "4/10/20",
          "4/11/20",
          "4/12/20",
          "4/13/20",
          "4/14/20",
          "4/15/20",
          "4/16/20",
          "4/17/20",
          "4/18/20",
          "4/19/20",
          "4/20/20",
          "4/21/20",
          "4/22/20",
          "4/23/20",
          "4/24/20",
          "4/25/20",
          "4/26/20",
          "4/27/20",
          "4/28/20",
          "4/29/20",
          "4/30/20",
          "5/1/20",
          "5/2/20",
          "5/3/20",
          "5/4/20",
          "5/5/20",
          "5/6/20",
          "5/7/20",
          "5/8/20",
          "5/9/20",
          "5/10/20",
          "5/11/20",
          "5/12/20",
          "5/13/20",
          "5/14/20",
          "5/15/20",
          "5/16/20",
          "5/17/20",
          "5/18/20",
          "5/19/20",
          "5/20/20",
          "5/21/20",
          "5/22/20",
          "5/23/20",
          "5/24/20",
          "5/25/20",
          "5/26/20",
          "5/27/20",
          "5/28/20",
          "5/29/20",
          "5/30/20",
          "5/31/20",
          "6/1/20",
          "6/2/20",
          "6/3/20",
          "6/4/20",
          "6/5/20",
          "6/6/20",
          "6/7/20",
          "6/8/20",
          "6/9/20",
          "6/10/20",
          "6/11/20",
          "6/12/20",
          "6/13/20",
          "6/14/20",
          "6/15/20",
          "6/16/20",
          "6/17/20",
          "6/18/20",
          "6/19/20",
          "6/20/20",
          "6/21/20",
          "6/22/20",
          "6/23/20",
          "6/24/20",
          "6/25/20",
          "6/26/20",
          "6/27/20",
          "6/28/20",
          "6/29/20",
          "6/30/20",
          "7/1/20",
          "7/2/20",
          "7/3/20",
          "7/4/20",
          "7/5/20",
          "7/6/20",
          "7/7/20",
          "7/8/20",
          "7/9/20",
          "7/10/20",
          "7/11/20",
          "7/12/20",
          "7/13/20",
          "7/14/20",
          "7/15/20",
          "7/16/20",
          "7/17/20",
          "7/18/20",
          "7/19/20",
          "7/20/20",
          "7/21/20",
          "7/22/20",
          "7/23/20",
          "7/24/20",
          "7/25/20",
          "7/26/20",
          "7/27/20",
          "7/28/20",
          "7/29/20",
          "7/30/20",
          "7/31/20",
          "8/1/20",
          "8/2/20",
          "8/3/20",
          "8/4/20",
          "8/5/20",
          "8/6/20",
          "8/7/20",
          "8/8/20",
          "8/9/20",
          "8/10/20",
          "8/11/20",
          "8/12/20",
          "8/13/20",
          "8/14/20",
          "8/15/20",
          "8/16/20",
          "8/17/20",
          "8/18/20",
          "8/19/20",
          "8/20/20",
          "8/21/20",
          "8/22/20",
          "8/23/20",
          "8/24/20",
          "8/25/20",
          "8/26/20",
          "8/27/20",
          "8/28/20",
          "8/29/20",
          "8/30/20",
          "8/31/20",
          "9/1/20",
          "9/2/20",
          "9/3/20",
          "9/4/20",
          "9/5/20",
          "9/6/20",
          "9/7/20",
          "9/8/20",
          "9/9/20",
          "9/10/20",
          "9/11/20",
          "9/12/20",
          "9/13/20",
          "9/14/20",
          "9/15/20",
          "9/16/20",
          "9/17/20",
          "9/18/20",
          "9/19/20",
          "9/20/20",
          "9/21/20",
          "9/22/20",
          "9/23/20",
          "9/24/20",
          "9/25/20",
          "9/26/20",
          "9/27/20",
          "9/28/20",
          "9/29/20",
          "9/30/20",
          "10/1/20",
          "10/2/20",
          "10/3/20",
          "10/4/20",
          "10/5/20",
          "10/6/20",
          "10/7/20",
          "10/8/20",
          "10/9/20",
          "10/10/20",
          "10/11/20",
          "10/12/20",
          "10/13/20",
          "10/14/20",
          "10/15/20",
          "10/16/20",
          "10/17/20",
          "10/18/20",
          "10/19/20",
          "10/20/20",
          "10/21/20",
          "10/22/20",
          "10/23/20",
          "10/24/20",
          "10/25/20",
          "10/26/20",
          "10/27/20",
          "10/28/20",
          "10/29/20",
          "10/30/20",
          "10/31/20",
          "11/1/20",
          "11/2/20",
          "11/3/20",
          "11/4/20",
          "11/5/20",
          "11/6/20",
          "11/7/20",
          "11/8/20",
          "11/9/20",
          "11/10/20",
          "11/11/20",
          "11/12/20",
          "11/13/20",
          "11/14/20",
          "11/15/20",
          "11/16/20",
          "11/17/20",
          "11/18/20",
          "11/19/20",
          "11/20/20",
          "11/21/20",
          "11/22/20",
          "11/23/20",
          "11/24/20",
          "11/25/20",
          "11/26/20",
          "11/27/20",
          "11/28/20",
          "11/29/20",
          "11/30/20",
          "12/1/20",
          "12/2/20",
          "12/3/20",
          "12/4/20",
          "12/5/20",
          "12/6/20",
          "12/7/20",
          "12/8/20",
          "12/9/20",
          "12/10/20",
          "12/11/20",
          "12/12/20",
          "12/13/20",
          "12/14/20",
          "12/15/20",
          "12/16/20",
          "12/17/20",
          "12/18/20",
          "12/19/20",
          "12/20/20",
          "12/21/20",
          "12/22/20",
          "12/23/20",
          "12/24/20",
          "12/25/20",
          "12/26/20",
          "12/27/20",
          "12/28/20",
          "12/29/20",
          "12/30/20",
          "12/31/20",
          "1/1/21",
          "1/2/21",
          "1/3/21",
          "1/4/21",
          "1/5/21",
          "1/6/21",
          "1/7/21",
          "1/8/21",
          "1/9/21",
          "1/10/21",
          "1/11/21",
          "1/12/21",
          "1/13/21",
          "1/14/21",
          "1/15/21",
          "1/16/21",
          "1/17/21",
          "1/18/21",
          "1/19/21",
          "1/20/21",
          "1/21/21",
          "1/22/21",
          "1/23/21",
          "1/24/21",
          "1/25/21",
          "1/26/21",
          "1/27/21",
          "1/28/21",
          "1/29/21",
          "1/30/21",
          "1/31/21",
          "2/1/21",
          "2/2/21",
          "2/3/21",
          "2/4/21",
          "2/5/21",
          "2/6/21",
          "2/7/21",
          "2/8/21",
          "2/9/21",
          "2/10/21",
          "2/11/21",
          "2/12/21",
          "2/13/21",
          "2/14/21",
          "2/15/21",
          "2/16/21",
          "2/17/21",
          "2/18/21",
          "2/19/21",
          "2/20/21",
          "2/21/21",
          "2/22/21",
          "2/23/21",
          "2/24/21",
          "2/25/21",
          "2/26/21",
          "2/27/21",
          "2/28/21",
          "3/1/21",
          "3/2/21",
          "3/3/21",
          "3/4/21",
          "3/5/21",
          "3/6/21",
          "3/7/21",
          "3/8/21",
          "3/9/21",
          "3/10/21",
          "3/11/21",
          "3/12/21",
          "3/13/21",
          "3/14/21",
          "3/15/21",
          "3/16/21",
          "3/17/21",
          "3/18/21",
          "3/19/21",
          "3/20/21",
          "3/21/21",
          "3/22/21",
          "3/23/21",
          "3/24/21",
          "3/25/21",
          "3/26/21",
          "3/27/21",
          "3/28/21",
          "3/29/21",
          "3/30/21",
          "3/31/21",
          "4/1/21",
          "4/2/21",
          "4/3/21",
          "4/4/21",
          "4/5/21",
          "4/6/21",
          "4/7/21",
          "4/8/21",
          "4/9/21",
          "4/10/21",
          "4/11/21",
          "4/12/21",
          "4/13/21",
          "4/14/21",
          "4/15/21",
          "4/16/21",
          "4/17/21",
          "4/18/21",
          "4/19/21",
          "4/20/21",
          "4/21/21",
          "4/22/21",
          "4/23/21",
          "4/24/21",
          "4/25/21",
          "4/26/21",
          "4/27/21",
          "4/28/21",
          "4/29/21",
          "4/30/21",
          "5/1/21",
          "5/2/21",
          "5/3/21",
          "5/4/21",
          "5/5/21",
          "5/6/21",
          "5/7/21",
          "5/8/21",
          "5/9/21",
          "5/10/21",
          "5/11/21",
          "5/12/21",
          "5/13/21",
          "5/14/21",
          "5/15/21",
          "5/16/21",
          "5/17/21",
          "5/18/21",
          "5/19/21",
          "5/20/21",
          "5/21/21",
          "5/22/21",
          "5/23/21",
          "5/24/21",
          "5/25/21",
          "5/26/21",
          "5/27/21",
          "5/28/21",
          "5/29/21",
          "5/30/21",
          "5/31/21",
          "6/1/21",
          "6/2/21",
          "6/3/21",
          "6/4/21",
          "6/5/21",
          "6/6/21",
          "6/7/21",
          "6/8/21",
          "6/9/21",
          "6/10/21",
          "6/11/21",
          "6/12/21",
          "6/13/21",
          "6/14/21",
          "6/15/21",
          "6/16/21",
          "6/17/21",
          "6/18/21",
          "6/19/21",
          "6/20/21",
          "6/21/21",
          "6/22/21",
          "6/23/21",
          "6/24/21",
          "6/25/21",
          "6/26/21",
          "6/27/21",
          "6/28/21",
          "6/29/21",
          "6/30/21",
          "7/1/21",
          "7/2/21",
          "7/3/21",
          "7/4/21",
          "7/5/21",
          "7/6/21",
          "7/7/21",
          "7/8/21",
          "7/9/21",
          "7/10/21",
          "7/11/21",
          "7/12/21",
          "7/13/21",
          "7/14/21",
          "7/15/21",
          "7/16/21",
          "7/17/21",
          "7/18/21",
          "7/19/21",
          "7/20/21",
          "7/21/21",
          "7/22/21",
          "7/23/21",
          "7/24/21",
          "7/25/21",
          "7/26/21",
          "7/27/21",
          "7/28/21",
          "7/29/21",
          "7/30/21",
          "7/31/21",
          "8/1/21",
          "8/2/21",
          "8/3/21",
          "8/4/21",
          "8/5/21",
          "8/6/21",
          "8/7/21",
          "8/8/21",
          "8/9/21",
          "8/10/21",
          "8/11/21",
          "8/12/21",
          "8/13/21",
          "8/14/21",
          "8/15/21",
          "8/16/21",
          "8/17/21",
          "8/18/21",
          "8/19/21",
          "8/20/21",
          "8/21/21",
          "8/22/21",
          "8/23/21",
          "8/24/21",
          "8/25/21",
          "8/26/21",
          "8/27/21",
          "8/28/21",
          "8/29/21",
          "8/30/21",
          "8/31/21",
          "9/1/21",
          "9/2/21",
          "9/3/21",
          "9/4/21",
          "9/5/21",
          "9/6/21",
          "9/7/21",
          "9/8/21",
          "9/9/21",
          "9/10/21",
          "9/11/21",
          "9/12/21",
          "9/13/21",
          "9/14/21",
          "9/15/21",
          "9/16/21",
          "9/17/21",
          "9/18/21",
          "9/19/21",
          "9/20/21",
          "9/21/21",
          "9/22/21",
          "9/23/21",
          "9/24/21",
          "9/25/21",
          "9/26/21",
          "9/27/21",
          "9/28/21",
          "9/29/21",
          "9/30/21",
          "10/1/21",
          "10/2/21",
          "10/3/21",
          "10/4/21",
          "10/5/21",
          "10/6/21",
          "10/7/21",
          "10/8/21",
          "10/9/21",
          "10/10/21",
          "10/11/21",
          "10/12/21",
          "10/13/21",
          "10/14/21",
          "10/15/21",
          "10/16/21",
          "10/17/21",
          "10/18/21",
          "10/19/21",
          "10/20/21",
          "10/21/21",
          "10/22/21",
          "10/23/21",
          "10/24/21",
          "10/25/21",
          "10/26/21",
          "10/27/21",
          "10/28/21",
          "10/29/21",
          "10/30/21",
          "10/31/21",
          "11/1/21",
          "11/2/21",
          "11/3/21",
          "11/4/21",
          "11/5/21",
          "11/6/21",
          "11/7/21",
          "11/8/21",
          "11/9/21",
          "11/10/21",
          "11/11/21",
          "11/12/21",
          "11/13/21",
          "11/14/21",
          "11/15/21",
          "11/16/21",
          "11/17/21",
          "11/18/21",
          "11/19/21",
          "11/20/21",
          "11/21/21",
          "11/22/21",
          "11/23/21",
          "11/24/21",
          "11/25/21",
          "11/26/21",
          "11/27/21",
          "11/28/21",
          "11/29/21",
          "11/30/21",
          "12/1/21",
          "12/2/21",
          "12/3/21",
          "12/4/21",
          "12/5/21",
          "12/6/21",
          "12/7/21",
          "12/8/21",
          "12/9/21",
          "12/10/21",
          "12/11/21",
          "12/12/21",
          "12/13/21",
          "12/14/21",
          "12/15/21",
          "12/16/21",
          "12/17/21",
          "12/18/21",
          "12/19/21",
          "12/20/21",
          "12/21/21",
          "12/22/21",
          "12/23/21",
          "12/24/21",
          "12/25/21",
          "12/26/21",
          "12/27/21",
          "12/28/21",
          "12/29/21",
          "12/30/21",
          "12/31/21",
          "1/1/22",
          "1/2/22",
          "1/3/22",
          "1/4/22",
          "1/5/22",
          "1/6/22",
          "1/7/22",
          "1/8/22",
          "1/9/22",
          "1/10/22",
          "1/11/22",
          "1/12/22",
          "1/13/22",
          "1/14/22",
          "1/15/22",
          "1/16/22",
          "1/17/22",
          "1/18/22",
          "1/19/22",
          "1/20/22",
          "1/21/22",
          "1/22/22",
          "1/23/22",
          "1/24/22",
          "1/25/22",
          "1/26/22",
          "1/27/22",
          "1/28/22",
          "1/29/22",
          "1/30/22",
          "1/31/22",
          "2/1/22",
          "2/2/22",
          "2/3/22",
          "2/4/22",
          "2/5/22",
          "2/6/22",
          "2/7/22",
          "2/8/22",
          "2/9/22",
          "2/10/22",
          "2/11/22",
          "2/12/22",
          "2/13/22",
          "2/14/22",
          "2/15/22",
          "2/16/22",
          "2/17/22",
          "2/18/22",
          "2/19/22",
          "2/20/22",
          "2/21/22",
          "2/22/22",
          "2/23/22",
          "2/24/22",
          "2/25/22",
          "2/26/22",
          "2/27/22",
          "2/28/22",
          "3/1/22",
          "3/2/22",
          "3/3/22",
          "3/4/22",
          "3/5/22",
          "3/6/22",
          "3/7/22",
          "3/8/22",
          "3/9/22",
          "3/10/22",
          "3/11/22",
          "3/12/22",
          "3/13/22",
          "3/14/22",
          "3/15/22",
          "3/16/22",
          "3/17/22",
          "3/18/22",
          "3/19/22",
          "3/20/22",
          "3/21/22",
          "3/22/22",
          "3/23/22",
          "3/24/22",
          "3/25/22",
          "3/26/22",
          "3/27/22",
          "3/28/22",
          "3/29/22",
          "3/30/22",
          "3/31/22",
          "4/1/22",
          "4/2/22",
          "4/3/22",
          "4/4/22",
          "4/5/22",
          "4/6/22",
          "4/7/22",
          "4/8/22",
          "4/9/22",
          "4/10/22",
          "4/11/22",
          "4/12/22",
          "4/13/22",
          "4/14/22",
          "4/15/22",
          "4/16/22",
          "4/17/22",
          "4/18/22",
          "4/19/22",
          "4/20/22",
          "4/21/22",
          "4/22/22",
          "4/23/22",
          "4/24/22",
          "4/25/22",
          "4/26/22",
          "4/27/22",
          "4/28/22",
          "4/29/22",
          "4/30/22",
          "5/1/22",
          "5/2/22",
          "5/3/22",
          "5/4/22",
          "5/5/22",
          "5/6/22",
          "5/7/22",
          "5/8/22",
          "5/9/22",
          "5/10/22",
          "5/11/22",
          "5/12/22",
          "5/13/22",
          "5/14/22",
          "5/15/22",
          "5/16/22",
          "5/17/22",
          "5/18/22",
          "5/19/22",
          "5/20/22",
          "5/21/22",
          "5/22/22",
          "5/23/22",
          "5/24/22",
          "5/25/22",
          "5/26/22",
          "5/27/22",
          "5/28/22",
          "5/29/22",
          "5/30/22",
          "5/31/22",
          "6/1/22",
          "6/2/22",
          "6/3/22",
          "6/4/22",
          "6/5/22",
          "6/6/22",
          "6/7/22",
          "6/8/22",
          "6/9/22",
          "6/10/22",
          "6/11/22",
          "6/12/22",
          "6/13/22",
          "6/14/22",
          "6/15/22",
          "6/16/22",
          "6/17/22",
          "6/18/22",
          "6/19/22",
          "6/20/22",
          "6/21/22",
          "6/22/22",
          "6/23/22",
          "6/24/22",
          "6/25/22",
          "6/26/22",
          "6/27/22",
          "6/28/22",
          "6/29/22",
          "6/30/22",
          "7/1/22",
          "7/2/22",
          "7/3/22",
          "7/4/22",
          "7/5/22",
          "7/6/22",
          "7/7/22",
          "7/8/22",
          "7/9/22",
          "7/10/22",
          "7/11/22",
          "7/12/22",
          "7/13/22",
          "7/14/22",
          "7/15/22",
          "7/16/22",
          "7/17/22",
          "7/18/22",
          "7/19/22",
          "7/20/22",
          "7/21/22",
          "7/22/22",
          "7/23/22",
          "7/24/22",
          "7/25/22",
          "7/26/22",
          "7/27/22",
          "7/28/22",
          "7/29/22",
          "7/30/22",
          "7/31/22",
          "8/1/22",
          "8/2/22",
          "8/3/22",
          "8/4/22",
          "8/5/22",
          "8/6/22",
          "8/7/22",
          "8/8/22",
          "8/9/22",
          "8/10/22",
          "8/11/22",
          "8/12/22",
          "8/13/22",
          "8/14/22",
          "8/15/22",
          "8/16/22",
          "8/17/22",
          "8/18/22",
          "8/19/22",
          "8/20/22",
          "8/21/22",
          "8/22/22",
          "8/23/22",
          "8/24/22",
          "8/25/22",
          "8/26/22",
          "8/27/22",
          "8/28/22",
          "8/29/22",
          "8/30/22",
          "8/31/22",
          "9/1/22",
          "9/2/22",
          "9/3/22",
          "9/4/22",
          "9/5/22",
          "9/6/22",
          "9/7/22",
          "9/8/22",
          "9/9/22",
          "9/10/22",
          "9/11/22",
          "9/12/22",
          "9/13/22",
          "9/14/22",
          "9/15/22",
          "9/16/22",
          "9/17/22",
          "9/18/22",
          "9/19/22",
          "9/20/22",
          "9/21/22",
          "9/22/22",
          "9/23/22",
          "9/24/22",
          "9/25/22",
          "9/26/22",
          "9/27/22",
          "9/28/22",
          "9/29/22",
          "9/30/22",
          "10/1/22",
          "10/2/22",
          "10/3/22",
          "10/4/22",
          "10/5/22",
          "10/6/22",
          "10/7/22",
          "10/8/22",
          "10/9/22",
          "10/10/22",
          "10/11/22",
          "10/12/22",
          "10/13/22",
          "10/14/22",
          "10/15/22",
          "10/16/22",
          "10/17/22",
          "10/18/22",
          "10/19/22",
          "10/20/22",
          "10/21/22",
          "10/22/22",
          "10/23/22",
          "10/24/22",
          "10/25/22",
          "10/26/22",
          "10/27/22",
          "10/28/22",
          "10/29/22",
          "10/30/22",
          "10/31/22",
          "11/1/22",
          "11/2/22",
          "11/3/22",
          "11/4/22",
          "11/5/22",
          "11/6/22",
          "11/7/22",
          "11/8/22",
          "11/9/22",
          "11/10/22",
          "11/11/22",
          "11/12/22",
          "11/13/22",
          "11/14/22",
          "11/15/22",
          "11/16/22",
          "11/17/22",
          "11/18/22",
          "11/19/22",
          "11/20/22",
          "11/21/22",
          "11/22/22",
          "11/23/22",
          "11/24/22",
          "11/25/22",
          "11/26/22",
          "11/27/22",
          "11/28/22",
          "11/29/22",
          "11/30/22",
          "12/1/22",
          "12/2/22",
          "12/3/22",
          "12/4/22",
          "12/5/22",
          "12/6/22",
          "12/7/22",
          "12/8/22",
          "12/9/22",
          "12/10/22",
          "12/11/22",
          "12/12/22",
          "12/13/22",
          "12/14/22"
         ],
         "y": [
          17,
          18,
          26,
          42,
          56,
          82,
          131,
          133,
          172,
          214,
          260,
          364,
          428,
          494,
          566,
          636,
          721,
          808,
          908,
          1015,
          1115,
          1120,
          1373,
          1525,
          1668,
          1772,
          1870,
          2010,
          2125,
          2250,
          2254,
          2462,
          2473,
          2633,
          2713,
          2774,
          2817,
          2876,
          2946,
          3000,
          3090,
          3164,
          3260,
          3355,
          3469,
          3573,
          3815,
          4009,
          4284,
          4636,
          4957,
          5460,
          5886,
          6557,
          7267,
          8119,
          9075,
          10217,
          11791,
          13599,
          15427,
          17523,
          19949,
          22920,
          26173,
          29812,
          33861,
          37680,
          42050,
          47218,
          53862,
          60104,
          66605,
          72964,
          78886,
          85314,
          93831,
          101051,
          109206,
          116947,
          123930,
          130444,
          136957,
          144314,
          153079,
          160791,
          169679,
          176109,
          182210,
          188722,
          195919,
          203197,
          210469,
          217308,
          223358,
          228175,
          233621,
          240248,
          247228,
          253483,
          259070,
          265086,
          269363,
          274208,
          280355,
          287118,
          292987,
          298940,
          303858,
          308196,
          312274,
          318008,
          323445,
          329196,
          334953,
          339494,
          343372,
          347767,
          352736,
          358142,
          363178,
          368884,
          373337,
          376740,
          378434,
          383213,
          388433,
          393425,
          398581,
          402942,
          406231,
          409972,
          415235,
          420856,
          426384,
          431441,
          435581,
          438838,
          443293,
          448338,
          453766,
          458906,
          463650,
          468041,
          471823,
          475890,
          483009,
          488486,
          493841,
          500202,
          504684,
          509328,
          513195,
          518763,
          524261,
          529371,
          534454,
          539190,
          542808,
          546882,
          552132,
          557473,
          562980,
          568223,
          573016,
          576850,
          581129,
          587489,
          593117,
          598963,
          604709,
          609838,
          614152,
          618579,
          624555,
          630481,
          636653,
          643673,
          650204,
          655117,
          659061,
          665422,
          672821,
          679478,
          685920,
          692004,
          696389,
          701692,
          708627,
          715275,
          722047,
          728634,
          734646,
          739322,
          744152,
          751326,
          758730,
          765564,
          772314,
          778354,
          783548,
          788926,
          795541,
          802491,
          809284,
          815869,
          821901,
          826705,
          831347,
          838403,
          844810,
          851257,
          857009,
          862791,
          867125,
          871961,
          878529,
          885081,
          891296,
          897116,
          902903,
          907177,
          911607,
          918214,
          924513,
          930612,
          936453,
          941548,
          945683,
          955306,
          960429,
          966694,
          972698,
          978697,
          983754,
          987719,
          992323,
          998887,
          1004756,
          1010407,
          1016262,
          1021535,
          1025523,
          1029952,
          1036102,
          1042652,
          1048312,
          1054331,
          1059762,
          1063646,
          1067762,
          1073825,
          1080251,
          1089146,
          1094824,
          1099608,
          1103633,
          1110723,
          1116585,
          1122509,
          1128892,
          1135084,
          1139988,
          1144183,
          1148312,
          1153649,
          1159815,
          1166025,
          1172245,
          1177972,
          1181953,
          1186796,
          1193424,
          1200333,
          1206292,
          1213398,
          1219316,
          1223681,
          1229518,
          1236929,
          1244106,
          1251344,
          1259118,
          1265765,
          1271121,
          1277447,
          1287020,
          1296950,
          1305667,
          1314859,
          1322645,
          1329045,
          1336626,
          1346377,
          1356793,
          1366511,
          1376443,
          1385581,
          1392540,
          1400597,
          1411571,
          1423043,
          1434185,
          1445937,
          1455241,
          1462910,
          1471639,
          1484161,
          1496185,
          1507120,
          1518641,
          1528156,
          1535813,
          1544861,
          1557311,
          1569701,
          1582410,
          1594880,
          1605481,
          1613574,
          1622418,
          1634454,
          1647011,
          1659431,
          1672616,
          1683445,
          1691702,
          1700895,
          1714121,
          1728045,
          1741216,
          1754255,
          1765512,
          1773889,
          1783375,
          1797251,
          1811000,
          1823206,
          1832237,
          1840179,
          1848297,
          1857842,
          1872815,
          1888233,
          1901728,
          1911887,
          1920725,
          1928690,
          1938640,
          1954055,
          1968980,
          1983949,
          1999164,
          2012523,
          2022079,
          2032363,
          2049349,
          2065834,
          2081549,
          2097269,
          2111303,
          2121140,
          2131586,
          2147295,
          2165028,
          2182361,
          2198431,
          2212995,
          2222754,
          2233896,
          2251277,
          2268197,
          2284764,
          2300496,
          2313820,
          2323368,
          2333618,
          2348470,
          2364337,
          2377266,
          2394451,
          2406308,
          2414075,
          2423636,
          2438373,
          2452232,
          2466106,
          2478990,
          2489674,
          2496780,
          2504598,
          2515697,
          2527051,
          2539040,
          2550693,
          2559803,
          2566593,
          2573845,
          2585326,
          2597772,
          2608679,
          2619237,
          2627968,
          2634466,
          2642073,
          2652322,
          2663827,
          2674289,
          2684772,
          2693093,
          2699173,
          2706363,
          2716858,
          2727014,
          2737228,
          2747088,
          2755697,
          2761615,
          2769179,
          2779800,
          2790390,
          2801110,
          2811929,
          2820715,
          2829269,
          2837236,
          2848693,
          2859366,
          2870920,
          2883693,
          2893904,
          2901188,
          2909853,
          2921757,
          2934685,
          2946988,
          2957635,
          2966975,
          2974404,
          2982658,
          2995115,
          3010477,
          3024782,
          3039128,
          3052136,
          3061258,
          3071163,
          3084959,
          3099053,
          3112711,
          3126090,
          3138705,
          3147841,
          3158975,
          3173269,
          3188024,
          3201947,
          3217207,
          3230339,
          3241112,
          3252745,
          3267746,
          3283692,
          3299432,
          3313855,
          3326895,
          3337221,
          3348906,
          3362998,
          3377903,
          3392479,
          3406945,
          3420274,
          3430748,
          3441840,
          3456011,
          3470151,
          3483591,
          3496619,
          3508903,
          3519205,
          3530535,
          3544612,
          3558069,
          3571248,
          3584226,
          3595671,
          3605533,
          3614683,
          3627666,
          3640472,
          3653412,
          3665433,
          3676241,
          3684641,
          3693337,
          3708551,
          3720472,
          3730632,
          3741292,
          3750703,
          3758009,
          3766087,
          3776742,
          3786925,
          3802906,
          3814646,
          3824455,
          3833726,
          3841720,
          3852471,
          3862553,
          3871852,
          3881046,
          3889226,
          3895994,
          3902977,
          3911965,
          3921311,
          3929970,
          3939204,
          3946747,
          3952841,
          3959402,
          3967562,
          3976768,
          3985309,
          3993682,
          4000599,
          4007246,
          4014615,
          4023099,
          4031653,
          4040572,
          4048987,
          4055586,
          4063225,
          4071329,
          4079712,
          4088306,
          4096942,
          4105703,
          4113235,
          4119840,
          4127041,
          4147743,
          4156409,
          4165189,
          4173520,
          4182212,
          4189596,
          4198070,
          4207860,
          4217985,
          4228250,
          4237853,
          4246717,
          4254135,
          4262235,
          4272588,
          4283077,
          4294068,
          4304541,
          4313237,
          4320733,
          4329531,
          4341059,
          4351582,
          4362095,
          4372566,
          4381310,
          4388760,
          4398604,
          4409311,
          4420131,
          4431584,
          4442085,
          4451022,
          4458805,
          4468839,
          4479862,
          4491179,
          4502774,
          4513185,
          4521641,
          4528477,
          4538012,
          4547329,
          4559751,
          4570958,
          4581684,
          4589475,
          4596073,
          4604185,
          4614651,
          4624749,
          4635499,
          4644684,
          4653098,
          4658770,
          4667878,
          4677788,
          4688221,
          4698741,
          4707796,
          4714349,
          4720480,
          4728751,
          4738111,
          4747834,
          4757682,
          4766380,
          4771920,
          4777479,
          4785169,
          4794545,
          4803840,
          4812718,
          4821352,
          4827334,
          4831703,
          4838868,
          4846240,
          4855375,
          4864336,
          4871896,
          4876785,
          4881567,
          4887441,
          4895419,
          4904325,
          4912334,
          4919540,
          4924958,
          4929335,
          4935842,
          4943829,
          4952498,
          4960260,
          4968430,
          4974402,
          4979065,
          4985858,
          4993601,
          5002745,
          5011678,
          5019498,
          5025589,
          5030257,
          5036624,
          5043681,
          5052146,
          5059716,
          5068301,
          5075086,
          5079738,
          5086382,
          5094387,
          5102657,
          5110331,
          5119332,
          5125849,
          5130630,
          5137471,
          5145086,
          5154247,
          5162537,
          5170518,
          5176794,
          5181506,
          5188638,
          5196657,
          5205227,
          5213081,
          5219976,
          5226144,
          5231150,
          5238671,
          5246701,
          5255949,
          5266056,
          5274647,
          5280541,
          5288053,
          5295043,
          5302771,
          5311068,
          5319638,
          5327653,
          5333998,
          5338722,
          5345018,
          5352757,
          5361786,
          5369132,
          5376432,
          5382515,
          5387042,
          5393732,
          5401290,
          5411662,
          5418921,
          5424985,
          5429454,
          5433372,
          5439726,
          5447410,
          5455363,
          5462785,
          5469467,
          5473913,
          5477301,
          5483182,
          5491250,
          5499026,
          5506635,
          5513881,
          5519355,
          5523490,
          5530061,
          5539167,
          5548193,
          5556422,
          5564391,
          5570755,
          5575311,
          5581535,
          5590641,
          5600573,
          5610215,
          5620181,
          5626381,
          5631600,
          5640283,
          5650765,
          5661481,
          5671786,
          5684133,
          5692205,
          5697813,
          5708008,
          5720694,
          5732582,
          5744221,
          5757385,
          5765769,
          5771784,
          5782694,
          5795489,
          5808617,
          5820496,
          5832477,
          5841321,
          5846650,
          5857628,
          5868283,
          5881393,
          5893606,
          5904245,
          5912811,
          5918261,
          5925540,
          5935592,
          5947579,
          5958387,
          5967455,
          5974245,
          5979000,
          5986372,
          5994847,
          6003021,
          6011195,
          6019911,
          6025807,
          6030084,
          6037643,
          6044855,
          6052727,
          6060262,
          6066471,
          6071450,
          6075050,
          6080366,
          6085984,
          6092873,
          6099958,
          6105486,
          6109561,
          6112934,
          6129028,
          6134104,
          6140088,
          6145357,
          6154306,
          6157403,
          6160087,
          6164041,
          6168713,
          6173641,
          6178452,
          6183012,
          6185876,
          6187835,
          6190864,
          6195033,
          6199706,
          6204011,
          6207937,
          6210293,
          6212077,
          6214870,
          6218213,
          6222250,
          6225697,
          6228199,
          6229822,
          6231367,
          6232954,
          6236032,
          6240201,
          6243244,
          6245965,
          6247577,
          6248749,
          6250929,
          6254901,
          6258293,
          6261244,
          6263744,
          6265201,
          6266402,
          6268214,
          6270403,
          6274080,
          6276350,
          6278474,
          6279615,
          6280461,
          6282371,
          6284383,
          6286586,
          6288537,
          6290405,
          6291370,
          6292147,
          6293793,
          6295606,
          6297979,
          6299675,
          6301661,
          6302736,
          6303347,
          6304947,
          6306597,
          6309197,
          6310621,
          6312536,
          6313290,
          6313909,
          6315154,
          6316631,
          6318695,
          6320329,
          6321868,
          6322532,
          6323345,
          6324317,
          6326395,
          6328934,
          6330482,
          6332159,
          6333073,
          6333650,
          6335387,
          6337209,
          6339177,
          6340980,
          6342280,
          6342923,
          6343603,
          6345272,
          6346905,
          6348938,
          6350731,
          6352511,
          6353294,
          6353956,
          6355457,
          6357449,
          6359205,
          6360574,
          6362466,
          6363288,
          6364025,
          6365170,
          6367399,
          6369740,
          6372452,
          6374761,
          6375753,
          6376606,
          6378453,
          6380837,
          6383508,
          6385531,
          6387876,
          6388941,
          6389927,
          6391979,
          6395087,
          6398043,
          6400505,
          6403401,
          6404656,
          6405686,
          6407708,
          6410617,
          6413963,
          6416694,
          6419698,
          6420773,
          6421695,
          6424184,
          6427094,
          6430272,
          6433377,
          6436330,
          6438029,
          6438969,
          6441306,
          6444904,
          6447583,
          6450770,
          6453596,
          6455038,
          6456031,
          6458436,
          6461915,
          6465185,
          6468111,
          6470803,
          6471964,
          6473683,
          6475134,
          6478063,
          6481107,
          6484119,
          6486692,
          6487869,
          6488890,
          6490928,
          6493299,
          6496791,
          6499366,
          6502083,
          6503128,
          6504239,
          6505664,
          6508000,
          6510196,
          6512414,
          6514713,
          6515612,
          6516397,
          6517928,
          6519920,
          6522402,
          6524836,
          6526842,
          6527667,
          6528251,
          6529699,
          6531461,
          6533561,
          6535716,
          6537569,
          6538374,
          6538881,
          6540287,
          6541905,
          6544236,
          6546534,
          6547981,
          6548650,
          6549213,
          6550577,
          6552190,
          6554384,
          6556373,
          6558182,
          6558892,
          6559523,
          6560896,
          6562817,
          6564696,
          6566860,
          6568498,
          6569273,
          6569818,
          6571626,
          6573510,
          6575775,
          6577883,
          6579907,
          6580523,
          6581116,
          6582503,
          6584650,
          6587144,
          6589215,
          6590680,
          6591345,
          6591944,
          6593147,
          6595917,
          6597709,
          6599955,
          6601902,
          6602513,
          6603054,
          6604240,
          6605488,
          6607608,
          6609674,
          6611346,
          6611786,
          6612288,
          6613657,
          6614719,
          6617022,
          6619045,
          6621377,
          6621856,
          6622432,
          6623543,
          6625205,
          6627357,
          6628778,
          6630771,
          6631229,
          6631756,
          6632925,
          6634443,
          6636062,
          6638376,
          6640584,
          6641129,
          6641710,
          6643131,
          6644774,
          6646893,
          6649793,
          6651844,
          6652372,
          6652954,
          6654628,
          6656481,
          6658843
         ]
        }
       ],
       "layout": {
        "template": {
         "data": {
          "bar": [
           {
            "error_x": {
             "color": "#2a3f5f"
            },
            "error_y": {
             "color": "#2a3f5f"
            },
            "marker": {
             "line": {
              "color": "#E5ECF6",
              "width": 0.5
             },
             "pattern": {
              "fillmode": "overlay",
              "size": 10,
              "solidity": 0.2
             }
            },
            "type": "bar"
           }
          ],
          "barpolar": [
           {
            "marker": {
             "line": {
              "color": "#E5ECF6",
              "width": 0.5
             },
             "pattern": {
              "fillmode": "overlay",
              "size": 10,
              "solidity": 0.2
             }
            },
            "type": "barpolar"
           }
          ],
          "carpet": [
           {
            "aaxis": {
             "endlinecolor": "#2a3f5f",
             "gridcolor": "white",
             "linecolor": "white",
             "minorgridcolor": "white",
             "startlinecolor": "#2a3f5f"
            },
            "baxis": {
             "endlinecolor": "#2a3f5f",
             "gridcolor": "white",
             "linecolor": "white",
             "minorgridcolor": "white",
             "startlinecolor": "#2a3f5f"
            },
            "type": "carpet"
           }
          ],
          "choropleth": [
           {
            "colorbar": {
             "outlinewidth": 0,
             "ticks": ""
            },
            "type": "choropleth"
           }
          ],
          "contour": [
           {
            "colorbar": {
             "outlinewidth": 0,
             "ticks": ""
            },
            "colorscale": [
             [
              0,
              "#0d0887"
             ],
             [
              0.1111111111111111,
              "#46039f"
             ],
             [
              0.2222222222222222,
              "#7201a8"
             ],
             [
              0.3333333333333333,
              "#9c179e"
             ],
             [
              0.4444444444444444,
              "#bd3786"
             ],
             [
              0.5555555555555556,
              "#d8576b"
             ],
             [
              0.6666666666666666,
              "#ed7953"
             ],
             [
              0.7777777777777778,
              "#fb9f3a"
             ],
             [
              0.8888888888888888,
              "#fdca26"
             ],
             [
              1,
              "#f0f921"
             ]
            ],
            "type": "contour"
           }
          ],
          "contourcarpet": [
           {
            "colorbar": {
             "outlinewidth": 0,
             "ticks": ""
            },
            "type": "contourcarpet"
           }
          ],
          "heatmap": [
           {
            "colorbar": {
             "outlinewidth": 0,
             "ticks": ""
            },
            "colorscale": [
             [
              0,
              "#0d0887"
             ],
             [
              0.1111111111111111,
              "#46039f"
             ],
             [
              0.2222222222222222,
              "#7201a8"
             ],
             [
              0.3333333333333333,
              "#9c179e"
             ],
             [
              0.4444444444444444,
              "#bd3786"
             ],
             [
              0.5555555555555556,
              "#d8576b"
             ],
             [
              0.6666666666666666,
              "#ed7953"
             ],
             [
              0.7777777777777778,
              "#fb9f3a"
             ],
             [
              0.8888888888888888,
              "#fdca26"
             ],
             [
              1,
              "#f0f921"
             ]
            ],
            "type": "heatmap"
           }
          ],
          "heatmapgl": [
           {
            "colorbar": {
             "outlinewidth": 0,
             "ticks": ""
            },
            "colorscale": [
             [
              0,
              "#0d0887"
             ],
             [
              0.1111111111111111,
              "#46039f"
             ],
             [
              0.2222222222222222,
              "#7201a8"
             ],
             [
              0.3333333333333333,
              "#9c179e"
             ],
             [
              0.4444444444444444,
              "#bd3786"
             ],
             [
              0.5555555555555556,
              "#d8576b"
             ],
             [
              0.6666666666666666,
              "#ed7953"
             ],
             [
              0.7777777777777778,
              "#fb9f3a"
             ],
             [
              0.8888888888888888,
              "#fdca26"
             ],
             [
              1,
              "#f0f921"
             ]
            ],
            "type": "heatmapgl"
           }
          ],
          "histogram": [
           {
            "marker": {
             "pattern": {
              "fillmode": "overlay",
              "size": 10,
              "solidity": 0.2
             }
            },
            "type": "histogram"
           }
          ],
          "histogram2d": [
           {
            "colorbar": {
             "outlinewidth": 0,
             "ticks": ""
            },
            "colorscale": [
             [
              0,
              "#0d0887"
             ],
             [
              0.1111111111111111,
              "#46039f"
             ],
             [
              0.2222222222222222,
              "#7201a8"
             ],
             [
              0.3333333333333333,
              "#9c179e"
             ],
             [
              0.4444444444444444,
              "#bd3786"
             ],
             [
              0.5555555555555556,
              "#d8576b"
             ],
             [
              0.6666666666666666,
              "#ed7953"
             ],
             [
              0.7777777777777778,
              "#fb9f3a"
             ],
             [
              0.8888888888888888,
              "#fdca26"
             ],
             [
              1,
              "#f0f921"
             ]
            ],
            "type": "histogram2d"
           }
          ],
          "histogram2dcontour": [
           {
            "colorbar": {
             "outlinewidth": 0,
             "ticks": ""
            },
            "colorscale": [
             [
              0,
              "#0d0887"
             ],
             [
              0.1111111111111111,
              "#46039f"
             ],
             [
              0.2222222222222222,
              "#7201a8"
             ],
             [
              0.3333333333333333,
              "#9c179e"
             ],
             [
              0.4444444444444444,
              "#bd3786"
             ],
             [
              0.5555555555555556,
              "#d8576b"
             ],
             [
              0.6666666666666666,
              "#ed7953"
             ],
             [
              0.7777777777777778,
              "#fb9f3a"
             ],
             [
              0.8888888888888888,
              "#fdca26"
             ],
             [
              1,
              "#f0f921"
             ]
            ],
            "type": "histogram2dcontour"
           }
          ],
          "mesh3d": [
           {
            "colorbar": {
             "outlinewidth": 0,
             "ticks": ""
            },
            "type": "mesh3d"
           }
          ],
          "parcoords": [
           {
            "line": {
             "colorbar": {
              "outlinewidth": 0,
              "ticks": ""
             }
            },
            "type": "parcoords"
           }
          ],
          "pie": [
           {
            "automargin": true,
            "type": "pie"
           }
          ],
          "scatter": [
           {
            "fillpattern": {
             "fillmode": "overlay",
             "size": 10,
             "solidity": 0.2
            },
            "type": "scatter"
           }
          ],
          "scatter3d": [
           {
            "line": {
             "colorbar": {
              "outlinewidth": 0,
              "ticks": ""
             }
            },
            "marker": {
             "colorbar": {
              "outlinewidth": 0,
              "ticks": ""
             }
            },
            "type": "scatter3d"
           }
          ],
          "scattercarpet": [
           {
            "marker": {
             "colorbar": {
              "outlinewidth": 0,
              "ticks": ""
             }
            },
            "type": "scattercarpet"
           }
          ],
          "scattergeo": [
           {
            "marker": {
             "colorbar": {
              "outlinewidth": 0,
              "ticks": ""
             }
            },
            "type": "scattergeo"
           }
          ],
          "scattergl": [
           {
            "marker": {
             "colorbar": {
              "outlinewidth": 0,
              "ticks": ""
             }
            },
            "type": "scattergl"
           }
          ],
          "scattermapbox": [
           {
            "marker": {
             "colorbar": {
              "outlinewidth": 0,
              "ticks": ""
             }
            },
            "type": "scattermapbox"
           }
          ],
          "scatterpolar": [
           {
            "marker": {
             "colorbar": {
              "outlinewidth": 0,
              "ticks": ""
             }
            },
            "type": "scatterpolar"
           }
          ],
          "scatterpolargl": [
           {
            "marker": {
             "colorbar": {
              "outlinewidth": 0,
              "ticks": ""
             }
            },
            "type": "scatterpolargl"
           }
          ],
          "scatterternary": [
           {
            "marker": {
             "colorbar": {
              "outlinewidth": 0,
              "ticks": ""
             }
            },
            "type": "scatterternary"
           }
          ],
          "surface": [
           {
            "colorbar": {
             "outlinewidth": 0,
             "ticks": ""
            },
            "colorscale": [
             [
              0,
              "#0d0887"
             ],
             [
              0.1111111111111111,
              "#46039f"
             ],
             [
              0.2222222222222222,
              "#7201a8"
             ],
             [
              0.3333333333333333,
              "#9c179e"
             ],
             [
              0.4444444444444444,
              "#bd3786"
             ],
             [
              0.5555555555555556,
              "#d8576b"
             ],
             [
              0.6666666666666666,
              "#ed7953"
             ],
             [
              0.7777777777777778,
              "#fb9f3a"
             ],
             [
              0.8888888888888888,
              "#fdca26"
             ],
             [
              1,
              "#f0f921"
             ]
            ],
            "type": "surface"
           }
          ],
          "table": [
           {
            "cells": {
             "fill": {
              "color": "#EBF0F8"
             },
             "line": {
              "color": "white"
             }
            },
            "header": {
             "fill": {
              "color": "#C8D4E3"
             },
             "line": {
              "color": "white"
             }
            },
            "type": "table"
           }
          ]
         },
         "layout": {
          "annotationdefaults": {
           "arrowcolor": "#2a3f5f",
           "arrowhead": 0,
           "arrowwidth": 1
          },
          "autotypenumbers": "strict",
          "coloraxis": {
           "colorbar": {
            "outlinewidth": 0,
            "ticks": ""
           }
          },
          "colorscale": {
           "diverging": [
            [
             0,
             "#8e0152"
            ],
            [
             0.1,
             "#c51b7d"
            ],
            [
             0.2,
             "#de77ae"
            ],
            [
             0.3,
             "#f1b6da"
            ],
            [
             0.4,
             "#fde0ef"
            ],
            [
             0.5,
             "#f7f7f7"
            ],
            [
             0.6,
             "#e6f5d0"
            ],
            [
             0.7,
             "#b8e186"
            ],
            [
             0.8,
             "#7fbc41"
            ],
            [
             0.9,
             "#4d9221"
            ],
            [
             1,
             "#276419"
            ]
           ],
           "sequential": [
            [
             0,
             "#0d0887"
            ],
            [
             0.1111111111111111,
             "#46039f"
            ],
            [
             0.2222222222222222,
             "#7201a8"
            ],
            [
             0.3333333333333333,
             "#9c179e"
            ],
            [
             0.4444444444444444,
             "#bd3786"
            ],
            [
             0.5555555555555556,
             "#d8576b"
            ],
            [
             0.6666666666666666,
             "#ed7953"
            ],
            [
             0.7777777777777778,
             "#fb9f3a"
            ],
            [
             0.8888888888888888,
             "#fdca26"
            ],
            [
             1,
             "#f0f921"
            ]
           ],
           "sequentialminus": [
            [
             0,
             "#0d0887"
            ],
            [
             0.1111111111111111,
             "#46039f"
            ],
            [
             0.2222222222222222,
             "#7201a8"
            ],
            [
             0.3333333333333333,
             "#9c179e"
            ],
            [
             0.4444444444444444,
             "#bd3786"
            ],
            [
             0.5555555555555556,
             "#d8576b"
            ],
            [
             0.6666666666666666,
             "#ed7953"
            ],
            [
             0.7777777777777778,
             "#fb9f3a"
            ],
            [
             0.8888888888888888,
             "#fdca26"
            ],
            [
             1,
             "#f0f921"
            ]
           ]
          },
          "colorway": [
           "#636efa",
           "#EF553B",
           "#00cc96",
           "#ab63fa",
           "#FFA15A",
           "#19d3f3",
           "#FF6692",
           "#B6E880",
           "#FF97FF",
           "#FECB52"
          ],
          "font": {
           "color": "#2a3f5f"
          },
          "geo": {
           "bgcolor": "white",
           "lakecolor": "white",
           "landcolor": "#E5ECF6",
           "showlakes": true,
           "showland": true,
           "subunitcolor": "white"
          },
          "hoverlabel": {
           "align": "left"
          },
          "hovermode": "closest",
          "mapbox": {
           "style": "light"
          },
          "paper_bgcolor": "white",
          "plot_bgcolor": "#E5ECF6",
          "polar": {
           "angularaxis": {
            "gridcolor": "white",
            "linecolor": "white",
            "ticks": ""
           },
           "bgcolor": "#E5ECF6",
           "radialaxis": {
            "gridcolor": "white",
            "linecolor": "white",
            "ticks": ""
           }
          },
          "scene": {
           "xaxis": {
            "backgroundcolor": "#E5ECF6",
            "gridcolor": "white",
            "gridwidth": 2,
            "linecolor": "white",
            "showbackground": true,
            "ticks": "",
            "zerolinecolor": "white"
           },
           "yaxis": {
            "backgroundcolor": "#E5ECF6",
            "gridcolor": "white",
            "gridwidth": 2,
            "linecolor": "white",
            "showbackground": true,
            "ticks": "",
            "zerolinecolor": "white"
           },
           "zaxis": {
            "backgroundcolor": "#E5ECF6",
            "gridcolor": "white",
            "gridwidth": 2,
            "linecolor": "white",
            "showbackground": true,
            "ticks": "",
            "zerolinecolor": "white"
           }
          },
          "shapedefaults": {
           "line": {
            "color": "#2a3f5f"
           }
          },
          "ternary": {
           "aaxis": {
            "gridcolor": "white",
            "linecolor": "white",
            "ticks": ""
           },
           "baxis": {
            "gridcolor": "white",
            "linecolor": "white",
            "ticks": ""
           },
           "bgcolor": "#E5ECF6",
           "caxis": {
            "gridcolor": "white",
            "linecolor": "white",
            "ticks": ""
           }
          },
          "title": {
           "x": 0.05
          },
          "xaxis": {
           "automargin": true,
           "gridcolor": "white",
           "linecolor": "white",
           "ticks": "",
           "title": {
            "standoff": 15
           },
           "zerolinecolor": "white",
           "zerolinewidth": 2
          },
          "yaxis": {
           "automargin": true,
           "gridcolor": "white",
           "linecolor": "white",
           "ticks": "",
           "title": {
            "standoff": 15
           },
           "zerolinecolor": "white",
           "zerolinewidth": 2
          }
         }
        }
       }
      }
     },
     "metadata": {},
     "output_type": "display_data"
    }
   ],
   "source": [
    "import plotly.graph_objects as plot_graph\n",
    "\n",
    "def plot_cases_for_country(country : str) :\n",
    "    labels = ['confirmed', 'deaths']\n",
    "    colors = ['blue', 'red']\n",
    "    mode_size = [6,8]\n",
    "    line_size = [4,5]\n",
    "    country = country.capitalize()\n",
    "\n",
    "    df_list = [dfs['confirmed'], dfs['death']]\n",
    "\n",
    "    fig = plot_graph.Figure()\n",
    "\n",
    "    for i, df in enumerate(df_list):\n",
    "        if country.lower() == 'world' :\n",
    "            x_data = np.array(list(df.loc[:,'1/22/20':'12/14/22'].columns))\n",
    "            y_data = np.sum(np.asarray(df.loc[:,'1/22/20':'12/14/22']), axis=0)\n",
    "        else :\n",
    "            x_data = np.array(list(df.loc[:,'1/22/20':'12/14/22'].columns))\n",
    "            y_data = np.sum(np.asarray(df[df['country'] == country].loc[:,'1/22/20':'12/14/22']), axis=0)\n",
    "\n",
    "        fig.add_trace(plot_graph.Scatter(x=x_data, y=y_data, mode='lines+markers', \n",
    "                                        name=labels[i],\n",
    "                                        line=dict(color=colors[i], width=line_size[i]), \n",
    "                                        connectgaps=True, \n",
    "                                        text = \"Total \" + str(labels[i]) + \": \"+ str(y_data[-1])\n",
    "                                        )\n",
    "                        )\n",
    "\n",
    "    fig.show()\n",
    "\n",
    "#plot_cases_for_country('France')\n",
    "\n",
    "graph_confirmed_death = interactive(plot_cases_for_country, {'manual': True}, country=widgets.Text(value='World', description='Pays :'))\n",
    "graph_confirmed_death"
   ]
  },
  {
   "attachments": {},
   "cell_type": "markdown",
   "metadata": {},
   "source": [
    "<hr>"
   ]
  },
  {
   "cell_type": "code",
   "execution_count": null,
   "metadata": {},
   "outputs": [
    {
     "data": {
      "application/vnd.plotly.v1+json": {
       "config": {
        "plotlyServerURL": "https://plot.ly"
       },
       "data": [
        {
         "alignmentgroup": "True",
         "hovertemplate": "country=%{x}<br>confirmed=%{y}<extra></extra>",
         "legendgroup": "",
         "marker": {
          "color": "#636efa",
          "pattern": {
           "shape": ""
          }
         },
         "name": "",
         "offsetgroup": "",
         "orientation": "v",
         "showlegend": false,
         "textposition": "auto",
         "type": "bar",
         "x": [
          "US",
          "India",
          "Brazil",
          "France",
          "Germany",
          "United Kingdom",
          "Russia",
          "Italy",
          "Turkey",
          "Korea, South"
         ],
         "xaxis": "x",
         "y": [
          45142918434,
          25333032268,
          18065779204,
          12325844813,
          10510472899,
          9962186872,
          8737149987,
          7928371895,
          7394203757,
          5932336773
         ],
         "yaxis": "y"
        }
       ],
       "layout": {
        "barmode": "relative",
        "legend": {
         "tracegroupgap": 0
        },
        "template": {
         "data": {
          "bar": [
           {
            "error_x": {
             "color": "#2a3f5f"
            },
            "error_y": {
             "color": "#2a3f5f"
            },
            "marker": {
             "line": {
              "color": "#E5ECF6",
              "width": 0.5
             },
             "pattern": {
              "fillmode": "overlay",
              "size": 10,
              "solidity": 0.2
             }
            },
            "type": "bar"
           }
          ],
          "barpolar": [
           {
            "marker": {
             "line": {
              "color": "#E5ECF6",
              "width": 0.5
             },
             "pattern": {
              "fillmode": "overlay",
              "size": 10,
              "solidity": 0.2
             }
            },
            "type": "barpolar"
           }
          ],
          "carpet": [
           {
            "aaxis": {
             "endlinecolor": "#2a3f5f",
             "gridcolor": "white",
             "linecolor": "white",
             "minorgridcolor": "white",
             "startlinecolor": "#2a3f5f"
            },
            "baxis": {
             "endlinecolor": "#2a3f5f",
             "gridcolor": "white",
             "linecolor": "white",
             "minorgridcolor": "white",
             "startlinecolor": "#2a3f5f"
            },
            "type": "carpet"
           }
          ],
          "choropleth": [
           {
            "colorbar": {
             "outlinewidth": 0,
             "ticks": ""
            },
            "type": "choropleth"
           }
          ],
          "contour": [
           {
            "colorbar": {
             "outlinewidth": 0,
             "ticks": ""
            },
            "colorscale": [
             [
              0,
              "#0d0887"
             ],
             [
              0.1111111111111111,
              "#46039f"
             ],
             [
              0.2222222222222222,
              "#7201a8"
             ],
             [
              0.3333333333333333,
              "#9c179e"
             ],
             [
              0.4444444444444444,
              "#bd3786"
             ],
             [
              0.5555555555555556,
              "#d8576b"
             ],
             [
              0.6666666666666666,
              "#ed7953"
             ],
             [
              0.7777777777777778,
              "#fb9f3a"
             ],
             [
              0.8888888888888888,
              "#fdca26"
             ],
             [
              1,
              "#f0f921"
             ]
            ],
            "type": "contour"
           }
          ],
          "contourcarpet": [
           {
            "colorbar": {
             "outlinewidth": 0,
             "ticks": ""
            },
            "type": "contourcarpet"
           }
          ],
          "heatmap": [
           {
            "colorbar": {
             "outlinewidth": 0,
             "ticks": ""
            },
            "colorscale": [
             [
              0,
              "#0d0887"
             ],
             [
              0.1111111111111111,
              "#46039f"
             ],
             [
              0.2222222222222222,
              "#7201a8"
             ],
             [
              0.3333333333333333,
              "#9c179e"
             ],
             [
              0.4444444444444444,
              "#bd3786"
             ],
             [
              0.5555555555555556,
              "#d8576b"
             ],
             [
              0.6666666666666666,
              "#ed7953"
             ],
             [
              0.7777777777777778,
              "#fb9f3a"
             ],
             [
              0.8888888888888888,
              "#fdca26"
             ],
             [
              1,
              "#f0f921"
             ]
            ],
            "type": "heatmap"
           }
          ],
          "heatmapgl": [
           {
            "colorbar": {
             "outlinewidth": 0,
             "ticks": ""
            },
            "colorscale": [
             [
              0,
              "#0d0887"
             ],
             [
              0.1111111111111111,
              "#46039f"
             ],
             [
              0.2222222222222222,
              "#7201a8"
             ],
             [
              0.3333333333333333,
              "#9c179e"
             ],
             [
              0.4444444444444444,
              "#bd3786"
             ],
             [
              0.5555555555555556,
              "#d8576b"
             ],
             [
              0.6666666666666666,
              "#ed7953"
             ],
             [
              0.7777777777777778,
              "#fb9f3a"
             ],
             [
              0.8888888888888888,
              "#fdca26"
             ],
             [
              1,
              "#f0f921"
             ]
            ],
            "type": "heatmapgl"
           }
          ],
          "histogram": [
           {
            "marker": {
             "pattern": {
              "fillmode": "overlay",
              "size": 10,
              "solidity": 0.2
             }
            },
            "type": "histogram"
           }
          ],
          "histogram2d": [
           {
            "colorbar": {
             "outlinewidth": 0,
             "ticks": ""
            },
            "colorscale": [
             [
              0,
              "#0d0887"
             ],
             [
              0.1111111111111111,
              "#46039f"
             ],
             [
              0.2222222222222222,
              "#7201a8"
             ],
             [
              0.3333333333333333,
              "#9c179e"
             ],
             [
              0.4444444444444444,
              "#bd3786"
             ],
             [
              0.5555555555555556,
              "#d8576b"
             ],
             [
              0.6666666666666666,
              "#ed7953"
             ],
             [
              0.7777777777777778,
              "#fb9f3a"
             ],
             [
              0.8888888888888888,
              "#fdca26"
             ],
             [
              1,
              "#f0f921"
             ]
            ],
            "type": "histogram2d"
           }
          ],
          "histogram2dcontour": [
           {
            "colorbar": {
             "outlinewidth": 0,
             "ticks": ""
            },
            "colorscale": [
             [
              0,
              "#0d0887"
             ],
             [
              0.1111111111111111,
              "#46039f"
             ],
             [
              0.2222222222222222,
              "#7201a8"
             ],
             [
              0.3333333333333333,
              "#9c179e"
             ],
             [
              0.4444444444444444,
              "#bd3786"
             ],
             [
              0.5555555555555556,
              "#d8576b"
             ],
             [
              0.6666666666666666,
              "#ed7953"
             ],
             [
              0.7777777777777778,
              "#fb9f3a"
             ],
             [
              0.8888888888888888,
              "#fdca26"
             ],
             [
              1,
              "#f0f921"
             ]
            ],
            "type": "histogram2dcontour"
           }
          ],
          "mesh3d": [
           {
            "colorbar": {
             "outlinewidth": 0,
             "ticks": ""
            },
            "type": "mesh3d"
           }
          ],
          "parcoords": [
           {
            "line": {
             "colorbar": {
              "outlinewidth": 0,
              "ticks": ""
             }
            },
            "type": "parcoords"
           }
          ],
          "pie": [
           {
            "automargin": true,
            "type": "pie"
           }
          ],
          "scatter": [
           {
            "fillpattern": {
             "fillmode": "overlay",
             "size": 10,
             "solidity": 0.2
            },
            "type": "scatter"
           }
          ],
          "scatter3d": [
           {
            "line": {
             "colorbar": {
              "outlinewidth": 0,
              "ticks": ""
             }
            },
            "marker": {
             "colorbar": {
              "outlinewidth": 0,
              "ticks": ""
             }
            },
            "type": "scatter3d"
           }
          ],
          "scattercarpet": [
           {
            "marker": {
             "colorbar": {
              "outlinewidth": 0,
              "ticks": ""
             }
            },
            "type": "scattercarpet"
           }
          ],
          "scattergeo": [
           {
            "marker": {
             "colorbar": {
              "outlinewidth": 0,
              "ticks": ""
             }
            },
            "type": "scattergeo"
           }
          ],
          "scattergl": [
           {
            "marker": {
             "colorbar": {
              "outlinewidth": 0,
              "ticks": ""
             }
            },
            "type": "scattergl"
           }
          ],
          "scattermapbox": [
           {
            "marker": {
             "colorbar": {
              "outlinewidth": 0,
              "ticks": ""
             }
            },
            "type": "scattermapbox"
           }
          ],
          "scatterpolar": [
           {
            "marker": {
             "colorbar": {
              "outlinewidth": 0,
              "ticks": ""
             }
            },
            "type": "scatterpolar"
           }
          ],
          "scatterpolargl": [
           {
            "marker": {
             "colorbar": {
              "outlinewidth": 0,
              "ticks": ""
             }
            },
            "type": "scatterpolargl"
           }
          ],
          "scatterternary": [
           {
            "marker": {
             "colorbar": {
              "outlinewidth": 0,
              "ticks": ""
             }
            },
            "type": "scatterternary"
           }
          ],
          "surface": [
           {
            "colorbar": {
             "outlinewidth": 0,
             "ticks": ""
            },
            "colorscale": [
             [
              0,
              "#0d0887"
             ],
             [
              0.1111111111111111,
              "#46039f"
             ],
             [
              0.2222222222222222,
              "#7201a8"
             ],
             [
              0.3333333333333333,
              "#9c179e"
             ],
             [
              0.4444444444444444,
              "#bd3786"
             ],
             [
              0.5555555555555556,
              "#d8576b"
             ],
             [
              0.6666666666666666,
              "#ed7953"
             ],
             [
              0.7777777777777778,
              "#fb9f3a"
             ],
             [
              0.8888888888888888,
              "#fdca26"
             ],
             [
              1,
              "#f0f921"
             ]
            ],
            "type": "surface"
           }
          ],
          "table": [
           {
            "cells": {
             "fill": {
              "color": "#EBF0F8"
             },
             "line": {
              "color": "white"
             }
            },
            "header": {
             "fill": {
              "color": "#C8D4E3"
             },
             "line": {
              "color": "white"
             }
            },
            "type": "table"
           }
          ]
         },
         "layout": {
          "annotationdefaults": {
           "arrowcolor": "#2a3f5f",
           "arrowhead": 0,
           "arrowwidth": 1
          },
          "autotypenumbers": "strict",
          "coloraxis": {
           "colorbar": {
            "outlinewidth": 0,
            "ticks": ""
           }
          },
          "colorscale": {
           "diverging": [
            [
             0,
             "#8e0152"
            ],
            [
             0.1,
             "#c51b7d"
            ],
            [
             0.2,
             "#de77ae"
            ],
            [
             0.3,
             "#f1b6da"
            ],
            [
             0.4,
             "#fde0ef"
            ],
            [
             0.5,
             "#f7f7f7"
            ],
            [
             0.6,
             "#e6f5d0"
            ],
            [
             0.7,
             "#b8e186"
            ],
            [
             0.8,
             "#7fbc41"
            ],
            [
             0.9,
             "#4d9221"
            ],
            [
             1,
             "#276419"
            ]
           ],
           "sequential": [
            [
             0,
             "#0d0887"
            ],
            [
             0.1111111111111111,
             "#46039f"
            ],
            [
             0.2222222222222222,
             "#7201a8"
            ],
            [
             0.3333333333333333,
             "#9c179e"
            ],
            [
             0.4444444444444444,
             "#bd3786"
            ],
            [
             0.5555555555555556,
             "#d8576b"
            ],
            [
             0.6666666666666666,
             "#ed7953"
            ],
            [
             0.7777777777777778,
             "#fb9f3a"
            ],
            [
             0.8888888888888888,
             "#fdca26"
            ],
            [
             1,
             "#f0f921"
            ]
           ],
           "sequentialminus": [
            [
             0,
             "#0d0887"
            ],
            [
             0.1111111111111111,
             "#46039f"
            ],
            [
             0.2222222222222222,
             "#7201a8"
            ],
            [
             0.3333333333333333,
             "#9c179e"
            ],
            [
             0.4444444444444444,
             "#bd3786"
            ],
            [
             0.5555555555555556,
             "#d8576b"
            ],
            [
             0.6666666666666666,
             "#ed7953"
            ],
            [
             0.7777777777777778,
             "#fb9f3a"
            ],
            [
             0.8888888888888888,
             "#fdca26"
            ],
            [
             1,
             "#f0f921"
            ]
           ]
          },
          "colorway": [
           "#636efa",
           "#EF553B",
           "#00cc96",
           "#ab63fa",
           "#FFA15A",
           "#19d3f3",
           "#FF6692",
           "#B6E880",
           "#FF97FF",
           "#FECB52"
          ],
          "font": {
           "color": "#2a3f5f"
          },
          "geo": {
           "bgcolor": "white",
           "lakecolor": "white",
           "landcolor": "#E5ECF6",
           "showlakes": true,
           "showland": true,
           "subunitcolor": "white"
          },
          "hoverlabel": {
           "align": "left"
          },
          "hovermode": "closest",
          "mapbox": {
           "style": "light"
          },
          "paper_bgcolor": "white",
          "plot_bgcolor": "#E5ECF6",
          "polar": {
           "angularaxis": {
            "gridcolor": "white",
            "linecolor": "white",
            "ticks": ""
           },
           "bgcolor": "#E5ECF6",
           "radialaxis": {
            "gridcolor": "white",
            "linecolor": "white",
            "ticks": ""
           }
          },
          "scene": {
           "xaxis": {
            "backgroundcolor": "#E5ECF6",
            "gridcolor": "white",
            "gridwidth": 2,
            "linecolor": "white",
            "showbackground": true,
            "ticks": "",
            "zerolinecolor": "white"
           },
           "yaxis": {
            "backgroundcolor": "#E5ECF6",
            "gridcolor": "white",
            "gridwidth": 2,
            "linecolor": "white",
            "showbackground": true,
            "ticks": "",
            "zerolinecolor": "white"
           },
           "zaxis": {
            "backgroundcolor": "#E5ECF6",
            "gridcolor": "white",
            "gridwidth": 2,
            "linecolor": "white",
            "showbackground": true,
            "ticks": "",
            "zerolinecolor": "white"
           }
          },
          "shapedefaults": {
           "line": {
            "color": "#2a3f5f"
           }
          },
          "ternary": {
           "aaxis": {
            "gridcolor": "white",
            "linecolor": "white",
            "ticks": ""
           },
           "baxis": {
            "gridcolor": "white",
            "linecolor": "white",
            "ticks": ""
           },
           "bgcolor": "#E5ECF6",
           "caxis": {
            "gridcolor": "white",
            "linecolor": "white",
            "ticks": ""
           }
          },
          "title": {
           "x": 0.05
          },
          "xaxis": {
           "automargin": true,
           "gridcolor": "white",
           "linecolor": "white",
           "ticks": "",
           "title": {
            "standoff": 15
           },
           "zerolinecolor": "white",
           "zerolinewidth": 2
          },
          "yaxis": {
           "automargin": true,
           "gridcolor": "white",
           "linecolor": "white",
           "ticks": "",
           "title": {
            "standoff": 15
           },
           "zerolinecolor": "white",
           "zerolinewidth": 2
          }
         }
        },
        "title": {
         "text": "Les 10 pays les plus touchés en cas détectés"
        },
        "xaxis": {
         "anchor": "y",
         "domain": [
          0,
          1
         ],
         "title": {
          "text": "country"
         }
        },
        "yaxis": {
         "anchor": "x",
         "domain": [
          0,
          1
         ],
         "title": {
          "text": "confirmed"
         }
        }
       }
      }
     },
     "metadata": {},
     "output_type": "display_data"
    }
   ],
   "source": [
    "plot_exp.bar(dfs['country_sorted'].head(10), x='country', y='confirmed', title='Les 10 pays les plus touchés en cas détectés')"
   ]
  },
  {
   "cell_type": "code",
   "execution_count": null,
   "metadata": {},
   "outputs": [
    {
     "data": {
      "application/vnd.plotly.v1+json": {
       "config": {
        "plotlyServerURL": "https://plot.ly"
       },
       "data": [
        {
         "alignmentgroup": "True",
         "hovertemplate": "country=%{x}<br>death=%{y}<extra></extra>",
         "legendgroup": "",
         "marker": {
          "color": "#636efa",
          "pattern": {
           "shape": ""
          }
         },
         "name": "",
         "offsetgroup": "",
         "orientation": "v",
         "showlegend": false,
         "textposition": "auto",
         "type": "bar",
         "x": [
          "US",
          "Brazil",
          "India",
          "Mexico",
          "Russia",
          "Peru",
          "United Kingdom",
          "Italy",
          "France",
          "Colombia"
         ],
         "xaxis": "x",
         "y": [
          619961486,
          429006425,
          319808896,
          212866434,
          188101897,
          152153571,
          141793191,
          112105613,
          97275341,
          88592013
         ],
         "yaxis": "y"
        }
       ],
       "layout": {
        "barmode": "relative",
        "legend": {
         "tracegroupgap": 0
        },
        "template": {
         "data": {
          "bar": [
           {
            "error_x": {
             "color": "#2a3f5f"
            },
            "error_y": {
             "color": "#2a3f5f"
            },
            "marker": {
             "line": {
              "color": "#E5ECF6",
              "width": 0.5
             },
             "pattern": {
              "fillmode": "overlay",
              "size": 10,
              "solidity": 0.2
             }
            },
            "type": "bar"
           }
          ],
          "barpolar": [
           {
            "marker": {
             "line": {
              "color": "#E5ECF6",
              "width": 0.5
             },
             "pattern": {
              "fillmode": "overlay",
              "size": 10,
              "solidity": 0.2
             }
            },
            "type": "barpolar"
           }
          ],
          "carpet": [
           {
            "aaxis": {
             "endlinecolor": "#2a3f5f",
             "gridcolor": "white",
             "linecolor": "white",
             "minorgridcolor": "white",
             "startlinecolor": "#2a3f5f"
            },
            "baxis": {
             "endlinecolor": "#2a3f5f",
             "gridcolor": "white",
             "linecolor": "white",
             "minorgridcolor": "white",
             "startlinecolor": "#2a3f5f"
            },
            "type": "carpet"
           }
          ],
          "choropleth": [
           {
            "colorbar": {
             "outlinewidth": 0,
             "ticks": ""
            },
            "type": "choropleth"
           }
          ],
          "contour": [
           {
            "colorbar": {
             "outlinewidth": 0,
             "ticks": ""
            },
            "colorscale": [
             [
              0,
              "#0d0887"
             ],
             [
              0.1111111111111111,
              "#46039f"
             ],
             [
              0.2222222222222222,
              "#7201a8"
             ],
             [
              0.3333333333333333,
              "#9c179e"
             ],
             [
              0.4444444444444444,
              "#bd3786"
             ],
             [
              0.5555555555555556,
              "#d8576b"
             ],
             [
              0.6666666666666666,
              "#ed7953"
             ],
             [
              0.7777777777777778,
              "#fb9f3a"
             ],
             [
              0.8888888888888888,
              "#fdca26"
             ],
             [
              1,
              "#f0f921"
             ]
            ],
            "type": "contour"
           }
          ],
          "contourcarpet": [
           {
            "colorbar": {
             "outlinewidth": 0,
             "ticks": ""
            },
            "type": "contourcarpet"
           }
          ],
          "heatmap": [
           {
            "colorbar": {
             "outlinewidth": 0,
             "ticks": ""
            },
            "colorscale": [
             [
              0,
              "#0d0887"
             ],
             [
              0.1111111111111111,
              "#46039f"
             ],
             [
              0.2222222222222222,
              "#7201a8"
             ],
             [
              0.3333333333333333,
              "#9c179e"
             ],
             [
              0.4444444444444444,
              "#bd3786"
             ],
             [
              0.5555555555555556,
              "#d8576b"
             ],
             [
              0.6666666666666666,
              "#ed7953"
             ],
             [
              0.7777777777777778,
              "#fb9f3a"
             ],
             [
              0.8888888888888888,
              "#fdca26"
             ],
             [
              1,
              "#f0f921"
             ]
            ],
            "type": "heatmap"
           }
          ],
          "heatmapgl": [
           {
            "colorbar": {
             "outlinewidth": 0,
             "ticks": ""
            },
            "colorscale": [
             [
              0,
              "#0d0887"
             ],
             [
              0.1111111111111111,
              "#46039f"
             ],
             [
              0.2222222222222222,
              "#7201a8"
             ],
             [
              0.3333333333333333,
              "#9c179e"
             ],
             [
              0.4444444444444444,
              "#bd3786"
             ],
             [
              0.5555555555555556,
              "#d8576b"
             ],
             [
              0.6666666666666666,
              "#ed7953"
             ],
             [
              0.7777777777777778,
              "#fb9f3a"
             ],
             [
              0.8888888888888888,
              "#fdca26"
             ],
             [
              1,
              "#f0f921"
             ]
            ],
            "type": "heatmapgl"
           }
          ],
          "histogram": [
           {
            "marker": {
             "pattern": {
              "fillmode": "overlay",
              "size": 10,
              "solidity": 0.2
             }
            },
            "type": "histogram"
           }
          ],
          "histogram2d": [
           {
            "colorbar": {
             "outlinewidth": 0,
             "ticks": ""
            },
            "colorscale": [
             [
              0,
              "#0d0887"
             ],
             [
              0.1111111111111111,
              "#46039f"
             ],
             [
              0.2222222222222222,
              "#7201a8"
             ],
             [
              0.3333333333333333,
              "#9c179e"
             ],
             [
              0.4444444444444444,
              "#bd3786"
             ],
             [
              0.5555555555555556,
              "#d8576b"
             ],
             [
              0.6666666666666666,
              "#ed7953"
             ],
             [
              0.7777777777777778,
              "#fb9f3a"
             ],
             [
              0.8888888888888888,
              "#fdca26"
             ],
             [
              1,
              "#f0f921"
             ]
            ],
            "type": "histogram2d"
           }
          ],
          "histogram2dcontour": [
           {
            "colorbar": {
             "outlinewidth": 0,
             "ticks": ""
            },
            "colorscale": [
             [
              0,
              "#0d0887"
             ],
             [
              0.1111111111111111,
              "#46039f"
             ],
             [
              0.2222222222222222,
              "#7201a8"
             ],
             [
              0.3333333333333333,
              "#9c179e"
             ],
             [
              0.4444444444444444,
              "#bd3786"
             ],
             [
              0.5555555555555556,
              "#d8576b"
             ],
             [
              0.6666666666666666,
              "#ed7953"
             ],
             [
              0.7777777777777778,
              "#fb9f3a"
             ],
             [
              0.8888888888888888,
              "#fdca26"
             ],
             [
              1,
              "#f0f921"
             ]
            ],
            "type": "histogram2dcontour"
           }
          ],
          "mesh3d": [
           {
            "colorbar": {
             "outlinewidth": 0,
             "ticks": ""
            },
            "type": "mesh3d"
           }
          ],
          "parcoords": [
           {
            "line": {
             "colorbar": {
              "outlinewidth": 0,
              "ticks": ""
             }
            },
            "type": "parcoords"
           }
          ],
          "pie": [
           {
            "automargin": true,
            "type": "pie"
           }
          ],
          "scatter": [
           {
            "fillpattern": {
             "fillmode": "overlay",
             "size": 10,
             "solidity": 0.2
            },
            "type": "scatter"
           }
          ],
          "scatter3d": [
           {
            "line": {
             "colorbar": {
              "outlinewidth": 0,
              "ticks": ""
             }
            },
            "marker": {
             "colorbar": {
              "outlinewidth": 0,
              "ticks": ""
             }
            },
            "type": "scatter3d"
           }
          ],
          "scattercarpet": [
           {
            "marker": {
             "colorbar": {
              "outlinewidth": 0,
              "ticks": ""
             }
            },
            "type": "scattercarpet"
           }
          ],
          "scattergeo": [
           {
            "marker": {
             "colorbar": {
              "outlinewidth": 0,
              "ticks": ""
             }
            },
            "type": "scattergeo"
           }
          ],
          "scattergl": [
           {
            "marker": {
             "colorbar": {
              "outlinewidth": 0,
              "ticks": ""
             }
            },
            "type": "scattergl"
           }
          ],
          "scattermapbox": [
           {
            "marker": {
             "colorbar": {
              "outlinewidth": 0,
              "ticks": ""
             }
            },
            "type": "scattermapbox"
           }
          ],
          "scatterpolar": [
           {
            "marker": {
             "colorbar": {
              "outlinewidth": 0,
              "ticks": ""
             }
            },
            "type": "scatterpolar"
           }
          ],
          "scatterpolargl": [
           {
            "marker": {
             "colorbar": {
              "outlinewidth": 0,
              "ticks": ""
             }
            },
            "type": "scatterpolargl"
           }
          ],
          "scatterternary": [
           {
            "marker": {
             "colorbar": {
              "outlinewidth": 0,
              "ticks": ""
             }
            },
            "type": "scatterternary"
           }
          ],
          "surface": [
           {
            "colorbar": {
             "outlinewidth": 0,
             "ticks": ""
            },
            "colorscale": [
             [
              0,
              "#0d0887"
             ],
             [
              0.1111111111111111,
              "#46039f"
             ],
             [
              0.2222222222222222,
              "#7201a8"
             ],
             [
              0.3333333333333333,
              "#9c179e"
             ],
             [
              0.4444444444444444,
              "#bd3786"
             ],
             [
              0.5555555555555556,
              "#d8576b"
             ],
             [
              0.6666666666666666,
              "#ed7953"
             ],
             [
              0.7777777777777778,
              "#fb9f3a"
             ],
             [
              0.8888888888888888,
              "#fdca26"
             ],
             [
              1,
              "#f0f921"
             ]
            ],
            "type": "surface"
           }
          ],
          "table": [
           {
            "cells": {
             "fill": {
              "color": "#EBF0F8"
             },
             "line": {
              "color": "white"
             }
            },
            "header": {
             "fill": {
              "color": "#C8D4E3"
             },
             "line": {
              "color": "white"
             }
            },
            "type": "table"
           }
          ]
         },
         "layout": {
          "annotationdefaults": {
           "arrowcolor": "#2a3f5f",
           "arrowhead": 0,
           "arrowwidth": 1
          },
          "autotypenumbers": "strict",
          "coloraxis": {
           "colorbar": {
            "outlinewidth": 0,
            "ticks": ""
           }
          },
          "colorscale": {
           "diverging": [
            [
             0,
             "#8e0152"
            ],
            [
             0.1,
             "#c51b7d"
            ],
            [
             0.2,
             "#de77ae"
            ],
            [
             0.3,
             "#f1b6da"
            ],
            [
             0.4,
             "#fde0ef"
            ],
            [
             0.5,
             "#f7f7f7"
            ],
            [
             0.6,
             "#e6f5d0"
            ],
            [
             0.7,
             "#b8e186"
            ],
            [
             0.8,
             "#7fbc41"
            ],
            [
             0.9,
             "#4d9221"
            ],
            [
             1,
             "#276419"
            ]
           ],
           "sequential": [
            [
             0,
             "#0d0887"
            ],
            [
             0.1111111111111111,
             "#46039f"
            ],
            [
             0.2222222222222222,
             "#7201a8"
            ],
            [
             0.3333333333333333,
             "#9c179e"
            ],
            [
             0.4444444444444444,
             "#bd3786"
            ],
            [
             0.5555555555555556,
             "#d8576b"
            ],
            [
             0.6666666666666666,
             "#ed7953"
            ],
            [
             0.7777777777777778,
             "#fb9f3a"
            ],
            [
             0.8888888888888888,
             "#fdca26"
            ],
            [
             1,
             "#f0f921"
            ]
           ],
           "sequentialminus": [
            [
             0,
             "#0d0887"
            ],
            [
             0.1111111111111111,
             "#46039f"
            ],
            [
             0.2222222222222222,
             "#7201a8"
            ],
            [
             0.3333333333333333,
             "#9c179e"
            ],
            [
             0.4444444444444444,
             "#bd3786"
            ],
            [
             0.5555555555555556,
             "#d8576b"
            ],
            [
             0.6666666666666666,
             "#ed7953"
            ],
            [
             0.7777777777777778,
             "#fb9f3a"
            ],
            [
             0.8888888888888888,
             "#fdca26"
            ],
            [
             1,
             "#f0f921"
            ]
           ]
          },
          "colorway": [
           "#636efa",
           "#EF553B",
           "#00cc96",
           "#ab63fa",
           "#FFA15A",
           "#19d3f3",
           "#FF6692",
           "#B6E880",
           "#FF97FF",
           "#FECB52"
          ],
          "font": {
           "color": "#2a3f5f"
          },
          "geo": {
           "bgcolor": "white",
           "lakecolor": "white",
           "landcolor": "#E5ECF6",
           "showlakes": true,
           "showland": true,
           "subunitcolor": "white"
          },
          "hoverlabel": {
           "align": "left"
          },
          "hovermode": "closest",
          "mapbox": {
           "style": "light"
          },
          "paper_bgcolor": "white",
          "plot_bgcolor": "#E5ECF6",
          "polar": {
           "angularaxis": {
            "gridcolor": "white",
            "linecolor": "white",
            "ticks": ""
           },
           "bgcolor": "#E5ECF6",
           "radialaxis": {
            "gridcolor": "white",
            "linecolor": "white",
            "ticks": ""
           }
          },
          "scene": {
           "xaxis": {
            "backgroundcolor": "#E5ECF6",
            "gridcolor": "white",
            "gridwidth": 2,
            "linecolor": "white",
            "showbackground": true,
            "ticks": "",
            "zerolinecolor": "white"
           },
           "yaxis": {
            "backgroundcolor": "#E5ECF6",
            "gridcolor": "white",
            "gridwidth": 2,
            "linecolor": "white",
            "showbackground": true,
            "ticks": "",
            "zerolinecolor": "white"
           },
           "zaxis": {
            "backgroundcolor": "#E5ECF6",
            "gridcolor": "white",
            "gridwidth": 2,
            "linecolor": "white",
            "showbackground": true,
            "ticks": "",
            "zerolinecolor": "white"
           }
          },
          "shapedefaults": {
           "line": {
            "color": "#2a3f5f"
           }
          },
          "ternary": {
           "aaxis": {
            "gridcolor": "white",
            "linecolor": "white",
            "ticks": ""
           },
           "baxis": {
            "gridcolor": "white",
            "linecolor": "white",
            "ticks": ""
           },
           "bgcolor": "#E5ECF6",
           "caxis": {
            "gridcolor": "white",
            "linecolor": "white",
            "ticks": ""
           }
          },
          "title": {
           "x": 0.05
          },
          "xaxis": {
           "automargin": true,
           "gridcolor": "white",
           "linecolor": "white",
           "ticks": "",
           "title": {
            "standoff": 15
           },
           "zerolinecolor": "white",
           "zerolinewidth": 2
          },
          "yaxis": {
           "automargin": true,
           "gridcolor": "white",
           "linecolor": "white",
           "ticks": "",
           "title": {
            "standoff": 15
           },
           "zerolinecolor": "white",
           "zerolinewidth": 2
          }
         }
        },
        "title": {
         "text": "Les 10 pays les plus touchés en nombre de morts"
        },
        "xaxis": {
         "anchor": "y",
         "domain": [
          0,
          1
         ],
         "title": {
          "text": "country"
         }
        },
        "yaxis": {
         "anchor": "x",
         "domain": [
          0,
          1
         ],
         "title": {
          "text": "death"
         }
        }
       }
      }
     },
     "metadata": {},
     "output_type": "display_data"
    }
   ],
   "source": [
    "plot_exp.bar(dfs['country'].sort_values('death', ascending=False).head(10), x='country', y='death', title='Les 10 pays les plus touchés en nombre de morts')"
   ]
  },
  {
   "cell_type": "code",
   "execution_count": null,
   "metadata": {},
   "outputs": [
    {
     "data": {
      "application/vnd.plotly.v1+json": {
       "config": {
        "plotlyServerURL": "https://plot.ly"
       },
       "data": [
        {
         "alignmentgroup": "True",
         "hovertemplate": "country=%{x}<br>recovered=%{y}<extra></extra>",
         "legendgroup": "",
         "marker": {
          "color": "#636efa",
          "pattern": {
           "shape": ""
          }
         },
         "name": "",
         "offsetgroup": "",
         "orientation": "v",
         "showlegend": false,
         "textposition": "auto",
         "type": "bar",
         "x": [
          "India",
          "Brazil",
          "Russia",
          "Turkey",
          "Italy",
          "Colombia",
          "Argentina",
          "Germany",
          "Iran",
          "Mexico"
         ],
         "xaxis": "x",
         "y": [
          4859387857,
          3412350387,
          1128064202,
          919259007,
          759237934,
          735029503,
          711610324,
          695248246,
          522325591,
          498203576
         ],
         "yaxis": "y"
        }
       ],
       "layout": {
        "barmode": "relative",
        "legend": {
         "tracegroupgap": 0
        },
        "template": {
         "data": {
          "bar": [
           {
            "error_x": {
             "color": "#2a3f5f"
            },
            "error_y": {
             "color": "#2a3f5f"
            },
            "marker": {
             "line": {
              "color": "#E5ECF6",
              "width": 0.5
             },
             "pattern": {
              "fillmode": "overlay",
              "size": 10,
              "solidity": 0.2
             }
            },
            "type": "bar"
           }
          ],
          "barpolar": [
           {
            "marker": {
             "line": {
              "color": "#E5ECF6",
              "width": 0.5
             },
             "pattern": {
              "fillmode": "overlay",
              "size": 10,
              "solidity": 0.2
             }
            },
            "type": "barpolar"
           }
          ],
          "carpet": [
           {
            "aaxis": {
             "endlinecolor": "#2a3f5f",
             "gridcolor": "white",
             "linecolor": "white",
             "minorgridcolor": "white",
             "startlinecolor": "#2a3f5f"
            },
            "baxis": {
             "endlinecolor": "#2a3f5f",
             "gridcolor": "white",
             "linecolor": "white",
             "minorgridcolor": "white",
             "startlinecolor": "#2a3f5f"
            },
            "type": "carpet"
           }
          ],
          "choropleth": [
           {
            "colorbar": {
             "outlinewidth": 0,
             "ticks": ""
            },
            "type": "choropleth"
           }
          ],
          "contour": [
           {
            "colorbar": {
             "outlinewidth": 0,
             "ticks": ""
            },
            "colorscale": [
             [
              0,
              "#0d0887"
             ],
             [
              0.1111111111111111,
              "#46039f"
             ],
             [
              0.2222222222222222,
              "#7201a8"
             ],
             [
              0.3333333333333333,
              "#9c179e"
             ],
             [
              0.4444444444444444,
              "#bd3786"
             ],
             [
              0.5555555555555556,
              "#d8576b"
             ],
             [
              0.6666666666666666,
              "#ed7953"
             ],
             [
              0.7777777777777778,
              "#fb9f3a"
             ],
             [
              0.8888888888888888,
              "#fdca26"
             ],
             [
              1,
              "#f0f921"
             ]
            ],
            "type": "contour"
           }
          ],
          "contourcarpet": [
           {
            "colorbar": {
             "outlinewidth": 0,
             "ticks": ""
            },
            "type": "contourcarpet"
           }
          ],
          "heatmap": [
           {
            "colorbar": {
             "outlinewidth": 0,
             "ticks": ""
            },
            "colorscale": [
             [
              0,
              "#0d0887"
             ],
             [
              0.1111111111111111,
              "#46039f"
             ],
             [
              0.2222222222222222,
              "#7201a8"
             ],
             [
              0.3333333333333333,
              "#9c179e"
             ],
             [
              0.4444444444444444,
              "#bd3786"
             ],
             [
              0.5555555555555556,
              "#d8576b"
             ],
             [
              0.6666666666666666,
              "#ed7953"
             ],
             [
              0.7777777777777778,
              "#fb9f3a"
             ],
             [
              0.8888888888888888,
              "#fdca26"
             ],
             [
              1,
              "#f0f921"
             ]
            ],
            "type": "heatmap"
           }
          ],
          "heatmapgl": [
           {
            "colorbar": {
             "outlinewidth": 0,
             "ticks": ""
            },
            "colorscale": [
             [
              0,
              "#0d0887"
             ],
             [
              0.1111111111111111,
              "#46039f"
             ],
             [
              0.2222222222222222,
              "#7201a8"
             ],
             [
              0.3333333333333333,
              "#9c179e"
             ],
             [
              0.4444444444444444,
              "#bd3786"
             ],
             [
              0.5555555555555556,
              "#d8576b"
             ],
             [
              0.6666666666666666,
              "#ed7953"
             ],
             [
              0.7777777777777778,
              "#fb9f3a"
             ],
             [
              0.8888888888888888,
              "#fdca26"
             ],
             [
              1,
              "#f0f921"
             ]
            ],
            "type": "heatmapgl"
           }
          ],
          "histogram": [
           {
            "marker": {
             "pattern": {
              "fillmode": "overlay",
              "size": 10,
              "solidity": 0.2
             }
            },
            "type": "histogram"
           }
          ],
          "histogram2d": [
           {
            "colorbar": {
             "outlinewidth": 0,
             "ticks": ""
            },
            "colorscale": [
             [
              0,
              "#0d0887"
             ],
             [
              0.1111111111111111,
              "#46039f"
             ],
             [
              0.2222222222222222,
              "#7201a8"
             ],
             [
              0.3333333333333333,
              "#9c179e"
             ],
             [
              0.4444444444444444,
              "#bd3786"
             ],
             [
              0.5555555555555556,
              "#d8576b"
             ],
             [
              0.6666666666666666,
              "#ed7953"
             ],
             [
              0.7777777777777778,
              "#fb9f3a"
             ],
             [
              0.8888888888888888,
              "#fdca26"
             ],
             [
              1,
              "#f0f921"
             ]
            ],
            "type": "histogram2d"
           }
          ],
          "histogram2dcontour": [
           {
            "colorbar": {
             "outlinewidth": 0,
             "ticks": ""
            },
            "colorscale": [
             [
              0,
              "#0d0887"
             ],
             [
              0.1111111111111111,
              "#46039f"
             ],
             [
              0.2222222222222222,
              "#7201a8"
             ],
             [
              0.3333333333333333,
              "#9c179e"
             ],
             [
              0.4444444444444444,
              "#bd3786"
             ],
             [
              0.5555555555555556,
              "#d8576b"
             ],
             [
              0.6666666666666666,
              "#ed7953"
             ],
             [
              0.7777777777777778,
              "#fb9f3a"
             ],
             [
              0.8888888888888888,
              "#fdca26"
             ],
             [
              1,
              "#f0f921"
             ]
            ],
            "type": "histogram2dcontour"
           }
          ],
          "mesh3d": [
           {
            "colorbar": {
             "outlinewidth": 0,
             "ticks": ""
            },
            "type": "mesh3d"
           }
          ],
          "parcoords": [
           {
            "line": {
             "colorbar": {
              "outlinewidth": 0,
              "ticks": ""
             }
            },
            "type": "parcoords"
           }
          ],
          "pie": [
           {
            "automargin": true,
            "type": "pie"
           }
          ],
          "scatter": [
           {
            "fillpattern": {
             "fillmode": "overlay",
             "size": 10,
             "solidity": 0.2
            },
            "type": "scatter"
           }
          ],
          "scatter3d": [
           {
            "line": {
             "colorbar": {
              "outlinewidth": 0,
              "ticks": ""
             }
            },
            "marker": {
             "colorbar": {
              "outlinewidth": 0,
              "ticks": ""
             }
            },
            "type": "scatter3d"
           }
          ],
          "scattercarpet": [
           {
            "marker": {
             "colorbar": {
              "outlinewidth": 0,
              "ticks": ""
             }
            },
            "type": "scattercarpet"
           }
          ],
          "scattergeo": [
           {
            "marker": {
             "colorbar": {
              "outlinewidth": 0,
              "ticks": ""
             }
            },
            "type": "scattergeo"
           }
          ],
          "scattergl": [
           {
            "marker": {
             "colorbar": {
              "outlinewidth": 0,
              "ticks": ""
             }
            },
            "type": "scattergl"
           }
          ],
          "scattermapbox": [
           {
            "marker": {
             "colorbar": {
              "outlinewidth": 0,
              "ticks": ""
             }
            },
            "type": "scattermapbox"
           }
          ],
          "scatterpolar": [
           {
            "marker": {
             "colorbar": {
              "outlinewidth": 0,
              "ticks": ""
             }
            },
            "type": "scatterpolar"
           }
          ],
          "scatterpolargl": [
           {
            "marker": {
             "colorbar": {
              "outlinewidth": 0,
              "ticks": ""
             }
            },
            "type": "scatterpolargl"
           }
          ],
          "scatterternary": [
           {
            "marker": {
             "colorbar": {
              "outlinewidth": 0,
              "ticks": ""
             }
            },
            "type": "scatterternary"
           }
          ],
          "surface": [
           {
            "colorbar": {
             "outlinewidth": 0,
             "ticks": ""
            },
            "colorscale": [
             [
              0,
              "#0d0887"
             ],
             [
              0.1111111111111111,
              "#46039f"
             ],
             [
              0.2222222222222222,
              "#7201a8"
             ],
             [
              0.3333333333333333,
              "#9c179e"
             ],
             [
              0.4444444444444444,
              "#bd3786"
             ],
             [
              0.5555555555555556,
              "#d8576b"
             ],
             [
              0.6666666666666666,
              "#ed7953"
             ],
             [
              0.7777777777777778,
              "#fb9f3a"
             ],
             [
              0.8888888888888888,
              "#fdca26"
             ],
             [
              1,
              "#f0f921"
             ]
            ],
            "type": "surface"
           }
          ],
          "table": [
           {
            "cells": {
             "fill": {
              "color": "#EBF0F8"
             },
             "line": {
              "color": "white"
             }
            },
            "header": {
             "fill": {
              "color": "#C8D4E3"
             },
             "line": {
              "color": "white"
             }
            },
            "type": "table"
           }
          ]
         },
         "layout": {
          "annotationdefaults": {
           "arrowcolor": "#2a3f5f",
           "arrowhead": 0,
           "arrowwidth": 1
          },
          "autotypenumbers": "strict",
          "coloraxis": {
           "colorbar": {
            "outlinewidth": 0,
            "ticks": ""
           }
          },
          "colorscale": {
           "diverging": [
            [
             0,
             "#8e0152"
            ],
            [
             0.1,
             "#c51b7d"
            ],
            [
             0.2,
             "#de77ae"
            ],
            [
             0.3,
             "#f1b6da"
            ],
            [
             0.4,
             "#fde0ef"
            ],
            [
             0.5,
             "#f7f7f7"
            ],
            [
             0.6,
             "#e6f5d0"
            ],
            [
             0.7,
             "#b8e186"
            ],
            [
             0.8,
             "#7fbc41"
            ],
            [
             0.9,
             "#4d9221"
            ],
            [
             1,
             "#276419"
            ]
           ],
           "sequential": [
            [
             0,
             "#0d0887"
            ],
            [
             0.1111111111111111,
             "#46039f"
            ],
            [
             0.2222222222222222,
             "#7201a8"
            ],
            [
             0.3333333333333333,
             "#9c179e"
            ],
            [
             0.4444444444444444,
             "#bd3786"
            ],
            [
             0.5555555555555556,
             "#d8576b"
            ],
            [
             0.6666666666666666,
             "#ed7953"
            ],
            [
             0.7777777777777778,
             "#fb9f3a"
            ],
            [
             0.8888888888888888,
             "#fdca26"
            ],
            [
             1,
             "#f0f921"
            ]
           ],
           "sequentialminus": [
            [
             0,
             "#0d0887"
            ],
            [
             0.1111111111111111,
             "#46039f"
            ],
            [
             0.2222222222222222,
             "#7201a8"
            ],
            [
             0.3333333333333333,
             "#9c179e"
            ],
            [
             0.4444444444444444,
             "#bd3786"
            ],
            [
             0.5555555555555556,
             "#d8576b"
            ],
            [
             0.6666666666666666,
             "#ed7953"
            ],
            [
             0.7777777777777778,
             "#fb9f3a"
            ],
            [
             0.8888888888888888,
             "#fdca26"
            ],
            [
             1,
             "#f0f921"
            ]
           ]
          },
          "colorway": [
           "#636efa",
           "#EF553B",
           "#00cc96",
           "#ab63fa",
           "#FFA15A",
           "#19d3f3",
           "#FF6692",
           "#B6E880",
           "#FF97FF",
           "#FECB52"
          ],
          "font": {
           "color": "#2a3f5f"
          },
          "geo": {
           "bgcolor": "white",
           "lakecolor": "white",
           "landcolor": "#E5ECF6",
           "showlakes": true,
           "showland": true,
           "subunitcolor": "white"
          },
          "hoverlabel": {
           "align": "left"
          },
          "hovermode": "closest",
          "mapbox": {
           "style": "light"
          },
          "paper_bgcolor": "white",
          "plot_bgcolor": "#E5ECF6",
          "polar": {
           "angularaxis": {
            "gridcolor": "white",
            "linecolor": "white",
            "ticks": ""
           },
           "bgcolor": "#E5ECF6",
           "radialaxis": {
            "gridcolor": "white",
            "linecolor": "white",
            "ticks": ""
           }
          },
          "scene": {
           "xaxis": {
            "backgroundcolor": "#E5ECF6",
            "gridcolor": "white",
            "gridwidth": 2,
            "linecolor": "white",
            "showbackground": true,
            "ticks": "",
            "zerolinecolor": "white"
           },
           "yaxis": {
            "backgroundcolor": "#E5ECF6",
            "gridcolor": "white",
            "gridwidth": 2,
            "linecolor": "white",
            "showbackground": true,
            "ticks": "",
            "zerolinecolor": "white"
           },
           "zaxis": {
            "backgroundcolor": "#E5ECF6",
            "gridcolor": "white",
            "gridwidth": 2,
            "linecolor": "white",
            "showbackground": true,
            "ticks": "",
            "zerolinecolor": "white"
           }
          },
          "shapedefaults": {
           "line": {
            "color": "#2a3f5f"
           }
          },
          "ternary": {
           "aaxis": {
            "gridcolor": "white",
            "linecolor": "white",
            "ticks": ""
           },
           "baxis": {
            "gridcolor": "white",
            "linecolor": "white",
            "ticks": ""
           },
           "bgcolor": "#E5ECF6",
           "caxis": {
            "gridcolor": "white",
            "linecolor": "white",
            "ticks": ""
           }
          },
          "title": {
           "x": 0.05
          },
          "xaxis": {
           "automargin": true,
           "gridcolor": "white",
           "linecolor": "white",
           "ticks": "",
           "title": {
            "standoff": 15
           },
           "zerolinecolor": "white",
           "zerolinewidth": 2
          },
          "yaxis": {
           "automargin": true,
           "gridcolor": "white",
           "linecolor": "white",
           "ticks": "",
           "title": {
            "standoff": 15
           },
           "zerolinecolor": "white",
           "zerolinewidth": 2
          }
         }
        },
        "title": {
         "text": "Les 10 pays ayant eut le plus de cas guéris"
        },
        "xaxis": {
         "anchor": "y",
         "domain": [
          0,
          1
         ],
         "title": {
          "text": "country"
         }
        },
        "yaxis": {
         "anchor": "x",
         "domain": [
          0,
          1
         ],
         "title": {
          "text": "recovered"
         }
        }
       }
      }
     },
     "metadata": {},
     "output_type": "display_data"
    }
   ],
   "source": [
    "plot_exp.bar(dfs['country'].sort_values('recovered', ascending=False).head(10), x='country', y='recovered', title='Les 10 pays ayant eut le plus de cas guéris')"
   ]
  },
  {
   "cell_type": "code",
   "execution_count": null,
   "metadata": {},
   "outputs": [],
   "source": [
    "import folium"
   ]
  },
  {
   "attachments": {},
   "cell_type": "markdown",
   "metadata": {},
   "source": [
    "## Carte mondiale des cas confirmés de COVID 19"
   ]
  },
  {
   "cell_type": "code",
   "execution_count": null,
   "metadata": {},
   "outputs": [
    {
     "data": {
      "text/html": [
       "<div style=\"width:100%;\"><div style=\"position:relative;width:100%;height:0;padding-bottom:60%;\"><span style=\"color:#565656\">Make this Notebook Trusted to load map: File -> Trust Notebook</span><iframe srcdoc=\"&lt;!DOCTYPE html&gt;\n",
       "&lt;html&gt;\n",
       "&lt;head&gt;\n",
       "    \n",
       "    &lt;meta http-equiv=&quot;content-type&quot; content=&quot;text/html; charset=UTF-8&quot; /&gt;\n",
       "    \n",
       "        &lt;script&gt;\n",
       "            L_NO_TOUCH = false;\n",
       "            L_DISABLE_3D = false;\n",
       "        &lt;/script&gt;\n",
       "    \n",
       "    &lt;style&gt;html, body {width: 100%;height: 100%;margin: 0;padding: 0;}&lt;/style&gt;\n",
       "    &lt;style&gt;#map {position:absolute;top:0;bottom:0;right:0;left:0;}&lt;/style&gt;\n",
       "    &lt;script src=&quot;https://cdn.jsdelivr.net/npm/leaflet@1.9.3/dist/leaflet.js&quot;&gt;&lt;/script&gt;\n",
       "    &lt;script src=&quot;https://code.jquery.com/jquery-1.12.4.min.js&quot;&gt;&lt;/script&gt;\n",
       "    &lt;script src=&quot;https://cdn.jsdelivr.net/npm/bootstrap@5.2.2/dist/js/bootstrap.bundle.min.js&quot;&gt;&lt;/script&gt;\n",
       "    &lt;script src=&quot;https://cdnjs.cloudflare.com/ajax/libs/Leaflet.awesome-markers/2.0.2/leaflet.awesome-markers.js&quot;&gt;&lt;/script&gt;\n",
       "    &lt;link rel=&quot;stylesheet&quot; href=&quot;https://cdn.jsdelivr.net/npm/leaflet@1.9.3/dist/leaflet.css&quot;/&gt;\n",
       "    &lt;link rel=&quot;stylesheet&quot; href=&quot;https://cdn.jsdelivr.net/npm/bootstrap@5.2.2/dist/css/bootstrap.min.css&quot;/&gt;\n",
       "    &lt;link rel=&quot;stylesheet&quot; href=&quot;https://netdna.bootstrapcdn.com/bootstrap/3.0.0/css/bootstrap.min.css&quot;/&gt;\n",
       "    &lt;link rel=&quot;stylesheet&quot; href=&quot;https://cdn.jsdelivr.net/npm/@fortawesome/fontawesome-free@6.2.0/css/all.min.css&quot;/&gt;\n",
       "    &lt;link rel=&quot;stylesheet&quot; href=&quot;https://cdnjs.cloudflare.com/ajax/libs/Leaflet.awesome-markers/2.0.2/leaflet.awesome-markers.css&quot;/&gt;\n",
       "    &lt;link rel=&quot;stylesheet&quot; href=&quot;https://cdn.jsdelivr.net/gh/python-visualization/folium/folium/templates/leaflet.awesome.rotate.min.css&quot;/&gt;\n",
       "    \n",
       "            &lt;meta name=&quot;viewport&quot; content=&quot;width=device-width,\n",
       "                initial-scale=1.0, maximum-scale=1.0, user-scalable=no&quot; /&gt;\n",
       "            &lt;style&gt;\n",
       "                #map_feca7f7996749b669ab93ed1eadabcc9 {\n",
       "                    position: relative;\n",
       "                    width: 100.0%;\n",
       "                    height: 100.0%;\n",
       "                    left: 0.0%;\n",
       "                    top: 0.0%;\n",
       "                }\n",
       "                .leaflet-container { font-size: 1rem; }\n",
       "            &lt;/style&gt;\n",
       "        \n",
       "&lt;/head&gt;\n",
       "&lt;body&gt;\n",
       "    \n",
       "    \n",
       "            &lt;div class=&quot;folium-map&quot; id=&quot;map_feca7f7996749b669ab93ed1eadabcc9&quot; &gt;&lt;/div&gt;\n",
       "        \n",
       "&lt;/body&gt;\n",
       "&lt;script&gt;\n",
       "    \n",
       "    \n",
       "            var map_feca7f7996749b669ab93ed1eadabcc9 = L.map(\n",
       "                &quot;map_feca7f7996749b669ab93ed1eadabcc9&quot;,\n",
       "                {\n",
       "                    center: [11.0, 0.0],\n",
       "                    crs: L.CRS.EPSG3857,\n",
       "                    zoom: 2,\n",
       "                    zoomControl: true,\n",
       "                    preferCanvas: false,\n",
       "                }\n",
       "            );\n",
       "\n",
       "            \n",
       "\n",
       "        \n",
       "    \n",
       "            var tile_layer_f838f4ffc4fd73b8a5f5fa97bc869176 = L.tileLayer(\n",
       "                &quot;https://cartodb-basemaps-{s}.global.ssl.fastly.net/light_all/{z}/{x}/{y}.png&quot;,\n",
       "                {&quot;attribution&quot;: &quot;\\u0026copy; \\u003ca target=\\&quot;_blank\\&quot; href=\\&quot;http://www.openstreetmap.org/copyright\\&quot;\\u003eOpenStreetMap\\u003c/a\\u003e contributors \\u0026copy; \\u003ca target=\\&quot;_blank\\&quot; href=\\&quot;http://cartodb.com/attributions\\&quot;\\u003eCartoDB\\u003c/a\\u003e, CartoDB \\u003ca target=\\&quot;_blank\\&quot; href =\\&quot;http://cartodb.com/attributions\\&quot;\\u003eattributions\\u003c/a\\u003e&quot;, &quot;detectRetina&quot;: false, &quot;maxNativeZoom&quot;: 6, &quot;maxZoom&quot;: 6, &quot;minZoom&quot;: 2, &quot;noWrap&quot;: false, &quot;opacity&quot;: 1, &quot;subdomains&quot;: &quot;abc&quot;, &quot;tms&quot;: false}\n",
       "            ).addTo(map_feca7f7996749b669ab93ed1eadabcc9);\n",
       "        \n",
       "    \n",
       "            var circle_05277605b10c42c29f742f792c76ef82 = L.circle(\n",
       "                [33.93911, 67.709953],\n",
       "                {&quot;bubblingMouseEvents&quot;: true, &quot;color&quot;: &quot;red&quot;, &quot;dashArray&quot;: null, &quot;dashOffset&quot;: null, &quot;fill&quot;: true, &quot;fillColor&quot;: &quot;blue&quot;, &quot;fillOpacity&quot;: 0.2, &quot;fillRule&quot;: &quot;evenodd&quot;, &quot;lineCap&quot;: &quot;round&quot;, &quot;lineJoin&quot;: &quot;round&quot;, &quot;opacity&quot;: 1.0, &quot;radius&quot;: 273000.0, &quot;stroke&quot;: true, &quot;weight&quot;: 3}\n",
       "            ).addTo(map_feca7f7996749b669ab93ed1eadabcc9);\n",
       "        \n",
       "    \n",
       "            circle_05277605b10c42c29f742f792c76ef82.bindTooltip(\n",
       "                `&lt;div&gt;\n",
       "                     &lt;div style=&#x27;margin:0; background-color:black; color:white;&#x27;&gt;&lt;h4 style=&#x27;text-align:center;front-weight: bold&#x27;&gt;Afghanistan&lt;/h4&gt;&lt;hr style=&#x27;margin:10px; color:white;&#x27;&gt;&lt;ul style=&#x27;color:white; list-style-type:circle; align-item:left;padding-left:20px;padding-right:20px&#x27;&gt;&lt;li&gt;Confirmed: 112280283&lt;/li&gt;&lt;li&gt;Deaths:   4752253&lt;/li&gt;&lt;li&gt;Death rate:    4.23&lt;/li&gt;&lt;/ul&gt;&lt;/div&gt;\n",
       "                 &lt;/div&gt;`,\n",
       "                {&quot;sticky&quot;: true}\n",
       "            );\n",
       "        \n",
       "    \n",
       "            var circle_466e03fe211608db1df31dc36a10b295 = L.circle(\n",
       "                [41.1533, 20.1683],\n",
       "                {&quot;bubblingMouseEvents&quot;: true, &quot;color&quot;: &quot;red&quot;, &quot;dashArray&quot;: null, &quot;dashOffset&quot;: null, &quot;fill&quot;: true, &quot;fillColor&quot;: &quot;blue&quot;, &quot;fillOpacity&quot;: 0.2, &quot;fillRule&quot;: &quot;evenodd&quot;, &quot;lineCap&quot;: &quot;round&quot;, &quot;lineJoin&quot;: &quot;round&quot;, &quot;opacity&quot;: 1.0, &quot;radius&quot;: 273000.0, &quot;stroke&quot;: true, &quot;weight&quot;: 3}\n",
       "            ).addTo(map_feca7f7996749b669ab93ed1eadabcc9);\n",
       "        \n",
       "    \n",
       "            circle_466e03fe211608db1df31dc36a10b295.bindTooltip(\n",
       "                `&lt;div&gt;\n",
       "                     &lt;div style=&#x27;margin:0; background-color:black; color:white;&#x27;&gt;&lt;h4 style=&#x27;text-align:center;front-weight: bold&#x27;&gt;Albania&lt;/h4&gt;&lt;hr style=&#x27;margin:10px; color:white;&#x27;&gt;&lt;ul style=&#x27;color:white; list-style-type:circle; align-item:left;padding-left:20px;padding-right:20px&#x27;&gt;&lt;li&gt;Confirmed: 157165176&lt;/li&gt;&lt;li&gt;Deaths:   2179715&lt;/li&gt;&lt;li&gt;Death rate:    1.39&lt;/li&gt;&lt;/ul&gt;&lt;/div&gt;\n",
       "                 &lt;/div&gt;`,\n",
       "                {&quot;sticky&quot;: true}\n",
       "            );\n",
       "        \n",
       "    \n",
       "            var circle_b02ac85192f289370a759d07e30dfd54 = L.circle(\n",
       "                [28.0339, 1.6596],\n",
       "                {&quot;bubblingMouseEvents&quot;: true, &quot;color&quot;: &quot;red&quot;, &quot;dashArray&quot;: null, &quot;dashOffset&quot;: null, &quot;fill&quot;: true, &quot;fillColor&quot;: &quot;blue&quot;, &quot;fillOpacity&quot;: 0.2, &quot;fillRule&quot;: &quot;evenodd&quot;, &quot;lineCap&quot;: &quot;round&quot;, &quot;lineJoin&quot;: &quot;round&quot;, &quot;opacity&quot;: 1.0, &quot;radius&quot;: 273000.0, &quot;stroke&quot;: true, &quot;weight&quot;: 3}\n",
       "            ).addTo(map_feca7f7996749b669ab93ed1eadabcc9);\n",
       "        \n",
       "    \n",
       "            circle_b02ac85192f289370a759d07e30dfd54.bindTooltip(\n",
       "                `&lt;div&gt;\n",
       "                     &lt;div style=&#x27;margin:0; background-color:black; color:white;&#x27;&gt;&lt;h4 style=&#x27;text-align:center;front-weight: bold&#x27;&gt;Algeria&lt;/h4&gt;&lt;hr style=&#x27;margin:10px; color:white;&#x27;&gt;&lt;ul style=&#x27;color:white; list-style-type:circle; align-item:left;padding-left:20px;padding-right:20px&#x27;&gt;&lt;li&gt;Confirmed: 159678184&lt;/li&gt;&lt;li&gt;Deaths:   4316390&lt;/li&gt;&lt;li&gt;Death rate:    2.7&lt;/li&gt;&lt;/ul&gt;&lt;/div&gt;\n",
       "                 &lt;/div&gt;`,\n",
       "                {&quot;sticky&quot;: true}\n",
       "            );\n",
       "        \n",
       "    \n",
       "            var circle_65389c491ab7271244808d3f3c19dacb = L.circle(\n",
       "                [42.5063, 1.5218],\n",
       "                {&quot;bubblingMouseEvents&quot;: true, &quot;color&quot;: &quot;red&quot;, &quot;dashArray&quot;: null, &quot;dashOffset&quot;: null, &quot;fill&quot;: true, &quot;fillColor&quot;: &quot;blue&quot;, &quot;fillOpacity&quot;: 0.2, &quot;fillRule&quot;: &quot;evenodd&quot;, &quot;lineCap&quot;: &quot;round&quot;, &quot;lineJoin&quot;: &quot;round&quot;, &quot;opacity&quot;: 1.0, &quot;radius&quot;: 243000.0, &quot;stroke&quot;: true, &quot;weight&quot;: 3}\n",
       "            ).addTo(map_feca7f7996749b669ab93ed1eadabcc9);\n",
       "        \n",
       "    \n",
       "            circle_65389c491ab7271244808d3f3c19dacb.bindTooltip(\n",
       "                `&lt;div&gt;\n",
       "                     &lt;div style=&#x27;margin:0; background-color:black; color:white;&#x27;&gt;&lt;h4 style=&#x27;text-align:center;front-weight: bold&#x27;&gt;Andorra&lt;/h4&gt;&lt;hr style=&#x27;margin:10px; color:white;&#x27;&gt;&lt;ul style=&#x27;color:white; list-style-type:circle; align-item:left;padding-left:20px;padding-right:20px&#x27;&gt;&lt;li&gt;Confirmed: 20484368&lt;/li&gt;&lt;li&gt;Deaths:   113200&lt;/li&gt;&lt;li&gt;Death rate:    0.55&lt;/li&gt;&lt;/ul&gt;&lt;/div&gt;\n",
       "                 &lt;/div&gt;`,\n",
       "                {&quot;sticky&quot;: true}\n",
       "            );\n",
       "        \n",
       "    \n",
       "            var circle_23286c9d89d8df30c3e9bc15279dd63c = L.circle(\n",
       "                [-11.2027, 17.8739],\n",
       "                {&quot;bubblingMouseEvents&quot;: true, &quot;color&quot;: &quot;red&quot;, &quot;dashArray&quot;: null, &quot;dashOffset&quot;: null, &quot;fill&quot;: true, &quot;fillColor&quot;: &quot;blue&quot;, &quot;fillOpacity&quot;: 0.2, &quot;fillRule&quot;: &quot;evenodd&quot;, &quot;lineCap&quot;: &quot;round&quot;, &quot;lineJoin&quot;: &quot;round&quot;, &quot;opacity&quot;: 1.0, &quot;radius&quot;: 258000.0, &quot;stroke&quot;: true, &quot;weight&quot;: 3}\n",
       "            ).addTo(map_feca7f7996749b669ab93ed1eadabcc9);\n",
       "        \n",
       "    \n",
       "            circle_23286c9d89d8df30c3e9bc15279dd63c.bindTooltip(\n",
       "                `&lt;div&gt;\n",
       "                     &lt;div style=&#x27;margin:0; background-color:black; color:white;&#x27;&gt;&lt;h4 style=&#x27;text-align:center;front-weight: bold&#x27;&gt;Angola&lt;/h4&gt;&lt;hr style=&#x27;margin:10px; color:white;&#x27;&gt;&lt;ul style=&#x27;color:white; list-style-type:circle; align-item:left;padding-left:20px;padding-right:20px&#x27;&gt;&lt;li&gt;Confirmed: 51088643&lt;/li&gt;&lt;li&gt;Deaths:   1067741&lt;/li&gt;&lt;li&gt;Death rate:    2.09&lt;/li&gt;&lt;/ul&gt;&lt;/div&gt;\n",
       "                 &lt;/div&gt;`,\n",
       "                {&quot;sticky&quot;: true}\n",
       "            );\n",
       "        \n",
       "    \n",
       "            var circle_0bbc3a517a873b95848709dea6c352ea = L.circle(\n",
       "                [-71.9499, 23.347],\n",
       "                {&quot;bubblingMouseEvents&quot;: true, &quot;color&quot;: &quot;red&quot;, &quot;dashArray&quot;: null, &quot;dashOffset&quot;: null, &quot;fill&quot;: true, &quot;fillColor&quot;: &quot;blue&quot;, &quot;fillOpacity&quot;: 0.2, &quot;fillRule&quot;: &quot;evenodd&quot;, &quot;lineCap&quot;: &quot;round&quot;, &quot;lineJoin&quot;: &quot;round&quot;, &quot;opacity&quot;: 1.0, &quot;radius&quot;: 122999.99999999999, &quot;stroke&quot;: true, &quot;weight&quot;: 3}\n",
       "            ).addTo(map_feca7f7996749b669ab93ed1eadabcc9);\n",
       "        \n",
       "    \n",
       "            circle_0bbc3a517a873b95848709dea6c352ea.bindTooltip(\n",
       "                `&lt;div&gt;\n",
       "                     &lt;div style=&#x27;margin:0; background-color:black; color:white;&#x27;&gt;&lt;h4 style=&#x27;text-align:center;front-weight: bold&#x27;&gt;Antarctica&lt;/h4&gt;&lt;hr style=&#x27;margin:10px; color:white;&#x27;&gt;&lt;ul style=&#x27;color:white; list-style-type:circle; align-item:left;padding-left:20px;padding-right:20px&#x27;&gt;&lt;li&gt;Confirmed: 4026&lt;/li&gt;&lt;li&gt;Deaths:   0&lt;/li&gt;&lt;li&gt;Death rate:    0.0&lt;/li&gt;&lt;/ul&gt;&lt;/div&gt;\n",
       "                 &lt;/div&gt;`,\n",
       "                {&quot;sticky&quot;: true}\n",
       "            );\n",
       "        \n",
       "    \n",
       "            var circle_4c5be4038806829e8ecab633b38c7492 = L.circle(\n",
       "                [17.0608, -61.7964],\n",
       "                {&quot;bubblingMouseEvents&quot;: true, &quot;color&quot;: &quot;red&quot;, &quot;dashArray&quot;: null, &quot;dashOffset&quot;: null, &quot;fill&quot;: true, &quot;fillColor&quot;: &quot;blue&quot;, &quot;fillOpacity&quot;: 0.2, &quot;fillRule&quot;: &quot;evenodd&quot;, &quot;lineCap&quot;: &quot;round&quot;, &quot;lineJoin&quot;: &quot;round&quot;, &quot;opacity&quot;: 1.0, &quot;radius&quot;: 228000.0, &quot;stroke&quot;: true, &quot;weight&quot;: 3}\n",
       "            ).addTo(map_feca7f7996749b669ab93ed1eadabcc9);\n",
       "        \n",
       "    \n",
       "            circle_4c5be4038806829e8ecab633b38c7492.bindTooltip(\n",
       "                `&lt;div&gt;\n",
       "                     &lt;div style=&#x27;margin:0; background-color:black; color:white;&#x27;&gt;&lt;h4 style=&#x27;text-align:center;front-weight: bold&#x27;&gt;Antigua and Barbuda&lt;/h4&gt;&lt;hr style=&#x27;margin:10px; color:white;&#x27;&gt;&lt;ul style=&#x27;color:white; list-style-type:circle; align-item:left;padding-left:20px;padding-right:20px&#x27;&gt;&lt;li&gt;Confirmed: 3536245&lt;/li&gt;&lt;li&gt;Deaths:   67881&lt;/li&gt;&lt;li&gt;Death rate:    1.92&lt;/li&gt;&lt;/ul&gt;&lt;/div&gt;\n",
       "                 &lt;/div&gt;`,\n",
       "                {&quot;sticky&quot;: true}\n",
       "            );\n",
       "        \n",
       "    \n",
       "            var circle_5ba2fdd97fca18644f2a7f26e1274916 = L.circle(\n",
       "                [-38.4161, -63.6167],\n",
       "                {&quot;bubblingMouseEvents&quot;: true, &quot;color&quot;: &quot;red&quot;, &quot;dashArray&quot;: null, &quot;dashOffset&quot;: null, &quot;fill&quot;: true, &quot;fillColor&quot;: &quot;blue&quot;, &quot;fillOpacity&quot;: 0.2, &quot;fillRule&quot;: &quot;evenodd&quot;, &quot;lineCap&quot;: &quot;round&quot;, &quot;lineJoin&quot;: &quot;round&quot;, &quot;opacity&quot;: 1.0, &quot;radius&quot;: 333000.0, &quot;stroke&quot;: true, &quot;weight&quot;: 3}\n",
       "            ).addTo(map_feca7f7996749b669ab93ed1eadabcc9);\n",
       "        \n",
       "    \n",
       "            circle_5ba2fdd97fca18644f2a7f26e1274916.bindTooltip(\n",
       "                `&lt;div&gt;\n",
       "                     &lt;div style=&#x27;margin:0; background-color:black; color:white;&#x27;&gt;&lt;h4 style=&#x27;text-align:center;front-weight: bold&#x27;&gt;Argentina&lt;/h4&gt;&lt;hr style=&#x27;margin:10px; color:white;&#x27;&gt;&lt;ul style=&#x27;color:white; list-style-type:circle; align-item:left;padding-left:20px;padding-right:20px&#x27;&gt;&lt;li&gt;Confirmed: 4776567077&lt;/li&gt;&lt;li&gt;Deaths:   79960012&lt;/li&gt;&lt;li&gt;Death rate:    1.67&lt;/li&gt;&lt;/ul&gt;&lt;/div&gt;\n",
       "                 &lt;/div&gt;`,\n",
       "                {&quot;sticky&quot;: true}\n",
       "            );\n",
       "        \n",
       "    \n",
       "            var circle_d9f54ca1e356311d59b7dd6a81cb223d = L.circle(\n",
       "                [40.0691, 45.0382],\n",
       "                {&quot;bubblingMouseEvents&quot;: true, &quot;color&quot;: &quot;red&quot;, &quot;dashArray&quot;: null, &quot;dashOffset&quot;: null, &quot;fill&quot;: true, &quot;fillColor&quot;: &quot;blue&quot;, &quot;fillOpacity&quot;: 0.2, &quot;fillRule&quot;: &quot;evenodd&quot;, &quot;lineCap&quot;: &quot;round&quot;, &quot;lineJoin&quot;: &quot;round&quot;, &quot;opacity&quot;: 1.0, &quot;radius&quot;: 288000.0, &quot;stroke&quot;: true, &quot;weight&quot;: 3}\n",
       "            ).addTo(map_feca7f7996749b669ab93ed1eadabcc9);\n",
       "        \n",
       "    \n",
       "            circle_d9f54ca1e356311d59b7dd6a81cb223d.bindTooltip(\n",
       "                `&lt;div&gt;\n",
       "                     &lt;div style=&#x27;margin:0; background-color:black; color:white;&#x27;&gt;&lt;h4 style=&#x27;text-align:center;front-weight: bold&#x27;&gt;Armenia&lt;/h4&gt;&lt;hr style=&#x27;margin:10px; color:white;&#x27;&gt;&lt;ul style=&#x27;color:white; list-style-type:circle; align-item:left;padding-left:20px;padding-right:20px&#x27;&gt;&lt;li&gt;Confirmed: 247564245&lt;/li&gt;&lt;li&gt;Deaths:   4964420&lt;/li&gt;&lt;li&gt;Death rate:    2.01&lt;/li&gt;&lt;/ul&gt;&lt;/div&gt;\n",
       "                 &lt;/div&gt;`,\n",
       "                {&quot;sticky&quot;: true}\n",
       "            );\n",
       "        \n",
       "    \n",
       "            var circle_6a6f4d9ea9c691fca932b8c4255654cf = L.circle(\n",
       "                [-35.4735, 149.0124],\n",
       "                {&quot;bubblingMouseEvents&quot;: true, &quot;color&quot;: &quot;red&quot;, &quot;dashArray&quot;: null, &quot;dashOffset&quot;: null, &quot;fill&quot;: true, &quot;fillColor&quot;: &quot;blue&quot;, &quot;fillOpacity&quot;: 0.2, &quot;fillRule&quot;: &quot;evenodd&quot;, &quot;lineCap&quot;: &quot;round&quot;, &quot;lineJoin&quot;: &quot;round&quot;, &quot;opacity&quot;: 1.0, &quot;radius&quot;: 258000.0, &quot;stroke&quot;: true, &quot;weight&quot;: 3}\n",
       "            ).addTo(map_feca7f7996749b669ab93ed1eadabcc9);\n",
       "        \n",
       "    \n",
       "            circle_6a6f4d9ea9c691fca932b8c4255654cf.bindTooltip(\n",
       "                `&lt;div&gt;\n",
       "                     &lt;div style=&#x27;margin:0; background-color:black; color:white;&#x27;&gt;&lt;h4 style=&#x27;text-align:center;front-weight: bold&#x27;&gt;Australia&lt;/h4&gt;&lt;hr style=&#x27;margin:10px; color:white;&#x27;&gt;&lt;ul style=&#x27;color:white; list-style-type:circle; align-item:left;padding-left:20px;padding-right:20px&#x27;&gt;&lt;li&gt;Confirmed: 48532071&lt;/li&gt;&lt;li&gt;Deaths:   30328&lt;/li&gt;&lt;li&gt;Death rate:    0.06&lt;/li&gt;&lt;/ul&gt;&lt;/div&gt;\n",
       "                 &lt;/div&gt;`,\n",
       "                {&quot;sticky&quot;: true}\n",
       "            );\n",
       "        \n",
       "    \n",
       "            var circle_ee636c2fc447e47895693d50fd29ffd0 = L.circle(\n",
       "                [-33.8688, 151.2093],\n",
       "                {&quot;bubblingMouseEvents&quot;: true, &quot;color&quot;: &quot;red&quot;, &quot;dashArray&quot;: null, &quot;dashOffset&quot;: null, &quot;fill&quot;: true, &quot;fillColor&quot;: &quot;blue&quot;, &quot;fillOpacity&quot;: 0.2, &quot;fillRule&quot;: &quot;evenodd&quot;, &quot;lineCap&quot;: &quot;round&quot;, &quot;lineJoin&quot;: &quot;round&quot;, &quot;opacity&quot;: 1.0, &quot;radius&quot;: 303000.0, &quot;stroke&quot;: true, &quot;weight&quot;: 3}\n",
       "            ).addTo(map_feca7f7996749b669ab93ed1eadabcc9);\n",
       "        \n",
       "    \n",
       "            circle_ee636c2fc447e47895693d50fd29ffd0.bindTooltip(\n",
       "                `&lt;div&gt;\n",
       "                     &lt;div style=&#x27;margin:0; background-color:black; color:white;&#x27;&gt;&lt;h4 style=&#x27;text-align:center;front-weight: bold&#x27;&gt;Australia&lt;/h4&gt;&lt;hr style=&#x27;margin:10px; color:white;&#x27;&gt;&lt;ul style=&#x27;color:white; list-style-type:circle; align-item:left;padding-left:20px;padding-right:20px&#x27;&gt;&lt;li&gt;Confirmed: 907064882&lt;/li&gt;&lt;li&gt;Deaths:   1327456&lt;/li&gt;&lt;li&gt;Death rate:    0.15&lt;/li&gt;&lt;/ul&gt;&lt;/div&gt;\n",
       "                 &lt;/div&gt;`,\n",
       "                {&quot;sticky&quot;: true}\n",
       "            );\n",
       "        \n",
       "    \n",
       "            var circle_21d194557f02eb7d6a720c01f6035c0c = L.circle(\n",
       "                [-12.4634, 130.8456],\n",
       "                {&quot;bubblingMouseEvents&quot;: true, &quot;color&quot;: &quot;red&quot;, &quot;dashArray&quot;: null, &quot;dashOffset&quot;: null, &quot;fill&quot;: true, &quot;fillColor&quot;: &quot;blue&quot;, &quot;fillOpacity&quot;: 0.2, &quot;fillRule&quot;: &quot;evenodd&quot;, &quot;lineCap&quot;: &quot;round&quot;, &quot;lineJoin&quot;: &quot;round&quot;, &quot;opacity&quot;: 1.0, &quot;radius&quot;: 258000.0, &quot;stroke&quot;: true, &quot;weight&quot;: 3}\n",
       "            ).addTo(map_feca7f7996749b669ab93ed1eadabcc9);\n",
       "        \n",
       "    \n",
       "            circle_21d194557f02eb7d6a720c01f6035c0c.bindTooltip(\n",
       "                `&lt;div&gt;\n",
       "                     &lt;div style=&#x27;margin:0; background-color:black; color:white;&#x27;&gt;&lt;h4 style=&#x27;text-align:center;front-weight: bold&#x27;&gt;Australia&lt;/h4&gt;&lt;hr style=&#x27;margin:10px; color:white;&#x27;&gt;&lt;ul style=&#x27;color:white; list-style-type:circle; align-item:left;padding-left:20px;padding-right:20px&#x27;&gt;&lt;li&gt;Confirmed: 24552937&lt;/li&gt;&lt;li&gt;Deaths:   16916&lt;/li&gt;&lt;li&gt;Death rate:    0.07&lt;/li&gt;&lt;/ul&gt;&lt;/div&gt;\n",
       "                 &lt;/div&gt;`,\n",
       "                {&quot;sticky&quot;: true}\n",
       "            );\n",
       "        \n",
       "    \n",
       "            var circle_d832239451e30f632086386512254b02 = L.circle(\n",
       "                [-27.4698, 153.0251],\n",
       "                {&quot;bubblingMouseEvents&quot;: true, &quot;color&quot;: &quot;red&quot;, &quot;dashArray&quot;: null, &quot;dashOffset&quot;: null, &quot;fill&quot;: true, &quot;fillColor&quot;: &quot;blue&quot;, &quot;fillOpacity&quot;: 0.2, &quot;fillRule&quot;: &quot;evenodd&quot;, &quot;lineCap&quot;: &quot;round&quot;, &quot;lineJoin&quot;: &quot;round&quot;, &quot;opacity&quot;: 1.0, &quot;radius&quot;: 288000.0, &quot;stroke&quot;: true, &quot;weight&quot;: 3}\n",
       "            ).addTo(map_feca7f7996749b669ab93ed1eadabcc9);\n",
       "        \n",
       "    \n",
       "            circle_d832239451e30f632086386512254b02.bindTooltip(\n",
       "                `&lt;div&gt;\n",
       "                     &lt;div style=&#x27;margin:0; background-color:black; color:white;&#x27;&gt;&lt;h4 style=&#x27;text-align:center;front-weight: bold&#x27;&gt;Australia&lt;/h4&gt;&lt;hr style=&#x27;margin:10px; color:white;&#x27;&gt;&lt;ul style=&#x27;color:white; list-style-type:circle; align-item:left;padding-left:20px;padding-right:20px&#x27;&gt;&lt;li&gt;Confirmed: 407108024&lt;/li&gt;&lt;li&gt;Deaths:   459679&lt;/li&gt;&lt;li&gt;Death rate:    0.11&lt;/li&gt;&lt;/ul&gt;&lt;/div&gt;\n",
       "                 &lt;/div&gt;`,\n",
       "                {&quot;sticky&quot;: true}\n",
       "            );\n",
       "        \n",
       "    \n",
       "            var circle_c07c021b359d47b8fa379452c22ddf06 = L.circle(\n",
       "                [-34.9285, 138.6007],\n",
       "                {&quot;bubblingMouseEvents&quot;: true, &quot;color&quot;: &quot;red&quot;, &quot;dashArray&quot;: null, &quot;dashOffset&quot;: null, &quot;fill&quot;: true, &quot;fillColor&quot;: &quot;blue&quot;, &quot;fillOpacity&quot;: 0.2, &quot;fillRule&quot;: &quot;evenodd&quot;, &quot;lineCap&quot;: &quot;round&quot;, &quot;lineJoin&quot;: &quot;round&quot;, &quot;opacity&quot;: 1.0, &quot;radius&quot;: 288000.0, &quot;stroke&quot;: true, &quot;weight&quot;: 3}\n",
       "            ).addTo(map_feca7f7996749b669ab93ed1eadabcc9);\n",
       "        \n",
       "    \n",
       "            circle_c07c021b359d47b8fa379452c22ddf06.bindTooltip(\n",
       "                `&lt;div&gt;\n",
       "                     &lt;div style=&#x27;margin:0; background-color:black; color:white;&#x27;&gt;&lt;h4 style=&#x27;text-align:center;front-weight: bold&#x27;&gt;Australia&lt;/h4&gt;&lt;hr style=&#x27;margin:10px; color:white;&#x27;&gt;&lt;ul style=&#x27;color:white; list-style-type:circle; align-item:left;padding-left:20px;padding-right:20px&#x27;&gt;&lt;li&gt;Confirmed: 179310479&lt;/li&gt;&lt;li&gt;Deaths:   197803&lt;/li&gt;&lt;li&gt;Death rate:    0.11&lt;/li&gt;&lt;/ul&gt;&lt;/div&gt;\n",
       "                 &lt;/div&gt;`,\n",
       "                {&quot;sticky&quot;: true}\n",
       "            );\n",
       "        \n",
       "    \n",
       "            var circle_d159b159109d218ad3c54148fac7c6b7 = L.circle(\n",
       "                [-42.8821, 147.3272],\n",
       "                {&quot;bubblingMouseEvents&quot;: true, &quot;color&quot;: &quot;red&quot;, &quot;dashArray&quot;: null, &quot;dashOffset&quot;: null, &quot;fill&quot;: true, &quot;fillColor&quot;: &quot;blue&quot;, &quot;fillOpacity&quot;: 0.2, &quot;fillRule&quot;: &quot;evenodd&quot;, &quot;lineCap&quot;: &quot;round&quot;, &quot;lineJoin&quot;: &quot;round&quot;, &quot;opacity&quot;: 1.0, &quot;radius&quot;: 258000.0, &quot;stroke&quot;: true, &quot;weight&quot;: 3}\n",
       "            ).addTo(map_feca7f7996749b669ab93ed1eadabcc9);\n",
       "        \n",
       "    \n",
       "            circle_d159b159109d218ad3c54148fac7c6b7.bindTooltip(\n",
       "                `&lt;div&gt;\n",
       "                     &lt;div style=&#x27;margin:0; background-color:black; color:white;&#x27;&gt;&lt;h4 style=&#x27;text-align:center;front-weight: bold&#x27;&gt;Australia&lt;/h4&gt;&lt;hr style=&#x27;margin:10px; color:white;&#x27;&gt;&lt;ul style=&#x27;color:white; list-style-type:circle; align-item:left;padding-left:20px;padding-right:20px&#x27;&gt;&lt;li&gt;Confirmed: 57969761&lt;/li&gt;&lt;li&gt;Deaths:   44730&lt;/li&gt;&lt;li&gt;Death rate:    0.08&lt;/li&gt;&lt;/ul&gt;&lt;/div&gt;\n",
       "                 &lt;/div&gt;`,\n",
       "                {&quot;sticky&quot;: true}\n",
       "            );\n",
       "        \n",
       "    \n",
       "            var circle_33e4f5abc72c0596c487481a2c61a727 = L.circle(\n",
       "                [-37.8136, 144.9631],\n",
       "                {&quot;bubblingMouseEvents&quot;: true, &quot;color&quot;: &quot;red&quot;, &quot;dashArray&quot;: null, &quot;dashOffset&quot;: null, &quot;fill&quot;: true, &quot;fillColor&quot;: &quot;blue&quot;, &quot;fillOpacity&quot;: 0.2, &quot;fillRule&quot;: &quot;evenodd&quot;, &quot;lineCap&quot;: &quot;round&quot;, &quot;lineJoin&quot;: &quot;round&quot;, &quot;opacity&quot;: 1.0, &quot;radius&quot;: 303000.0, &quot;stroke&quot;: true, &quot;weight&quot;: 3}\n",
       "            ).addTo(map_feca7f7996749b669ab93ed1eadabcc9);\n",
       "        \n",
       "    \n",
       "            circle_33e4f5abc72c0596c487481a2c61a727.bindTooltip(\n",
       "                `&lt;div&gt;\n",
       "                     &lt;div style=&#x27;margin:0; background-color:black; color:white;&#x27;&gt;&lt;h4 style=&#x27;text-align:center;front-weight: bold&#x27;&gt;Australia&lt;/h4&gt;&lt;hr style=&#x27;margin:10px; color:white;&#x27;&gt;&lt;ul style=&#x27;color:white; list-style-type:circle; align-item:left;padding-left:20px;padding-right:20px&#x27;&gt;&lt;li&gt;Confirmed: 685108515&lt;/li&gt;&lt;li&gt;Deaths:   1835778&lt;/li&gt;&lt;li&gt;Death rate:    0.27&lt;/li&gt;&lt;/ul&gt;&lt;/div&gt;\n",
       "                 &lt;/div&gt;`,\n",
       "                {&quot;sticky&quot;: true}\n",
       "            );\n",
       "        \n",
       "    \n",
       "            var circle_1f167c8c0fc12daae3e4c9c33166526f = L.circle(\n",
       "                [-31.9505, 115.8605],\n",
       "                {&quot;bubblingMouseEvents&quot;: true, &quot;color&quot;: &quot;red&quot;, &quot;dashArray&quot;: null, &quot;dashOffset&quot;: null, &quot;fill&quot;: true, &quot;fillColor&quot;: &quot;blue&quot;, &quot;fillOpacity&quot;: 0.2, &quot;fillRule&quot;: &quot;evenodd&quot;, &quot;lineCap&quot;: &quot;round&quot;, &quot;lineJoin&quot;: &quot;round&quot;, &quot;opacity&quot;: 1.0, &quot;radius&quot;: 288000.0, &quot;stroke&quot;: true, &quot;weight&quot;: 3}\n",
       "            ).addTo(map_feca7f7996749b669ab93ed1eadabcc9);\n",
       "        \n",
       "    \n",
       "            circle_1f167c8c0fc12daae3e4c9c33166526f.bindTooltip(\n",
       "                `&lt;div&gt;\n",
       "                     &lt;div style=&#x27;margin:0; background-color:black; color:white;&#x27;&gt;&lt;h4 style=&#x27;text-align:center;front-weight: bold&#x27;&gt;Australia&lt;/h4&gt;&lt;hr style=&#x27;margin:10px; color:white;&#x27;&gt;&lt;ul style=&#x27;color:white; list-style-type:circle; align-item:left;padding-left:20px;padding-right:20px&#x27;&gt;&lt;li&gt;Confirmed: 243193221&lt;/li&gt;&lt;li&gt;Deaths:   129571&lt;/li&gt;&lt;li&gt;Death rate:    0.05&lt;/li&gt;&lt;/ul&gt;&lt;/div&gt;\n",
       "                 &lt;/div&gt;`,\n",
       "                {&quot;sticky&quot;: true}\n",
       "            );\n",
       "        \n",
       "    \n",
       "            var circle_a649448d0feb5d97078b8d928ed3c094 = L.circle(\n",
       "                [47.5162, 14.5501],\n",
       "                {&quot;bubblingMouseEvents&quot;: true, &quot;color&quot;: &quot;red&quot;, &quot;dashArray&quot;: null, &quot;dashOffset&quot;: null, &quot;fill&quot;: true, &quot;fillColor&quot;: &quot;blue&quot;, &quot;fillOpacity&quot;: 0.2, &quot;fillRule&quot;: &quot;evenodd&quot;, &quot;lineCap&quot;: &quot;round&quot;, &quot;lineJoin&quot;: &quot;round&quot;, &quot;opacity&quot;: 1.0, &quot;radius&quot;: 318000.0, &quot;stroke&quot;: true, &quot;weight&quot;: 3}\n",
       "            ).addTo(map_feca7f7996749b669ab93ed1eadabcc9);\n",
       "        \n",
       "    \n",
       "            circle_a649448d0feb5d97078b8d928ed3c094.bindTooltip(\n",
       "                `&lt;div&gt;\n",
       "                     &lt;div style=&#x27;margin:0; background-color:black; color:white;&#x27;&gt;&lt;h4 style=&#x27;text-align:center;front-weight: bold&#x27;&gt;Austria&lt;/h4&gt;&lt;hr style=&#x27;margin:10px; color:white;&#x27;&gt;&lt;ul style=&#x27;color:white; list-style-type:circle; align-item:left;padding-left:20px;padding-right:20px&#x27;&gt;&lt;li&gt;Confirmed: 1718914818&lt;/li&gt;&lt;li&gt;Deaths:   11893078&lt;/li&gt;&lt;li&gt;Death rate:    0.69&lt;/li&gt;&lt;/ul&gt;&lt;/div&gt;\n",
       "                 &lt;/div&gt;`,\n",
       "                {&quot;sticky&quot;: true}\n",
       "            );\n",
       "        \n",
       "    \n",
       "            var circle_f6146971fc56487d948025835e2cef5f = L.circle(\n",
       "                [40.1431, 47.5769],\n",
       "                {&quot;bubblingMouseEvents&quot;: true, &quot;color&quot;: &quot;red&quot;, &quot;dashArray&quot;: null, &quot;dashOffset&quot;: null, &quot;fill&quot;: true, &quot;fillColor&quot;: &quot;blue&quot;, &quot;fillOpacity&quot;: 0.2, &quot;fillRule&quot;: &quot;evenodd&quot;, &quot;lineCap&quot;: &quot;round&quot;, &quot;lineJoin&quot;: &quot;round&quot;, &quot;opacity&quot;: 1.0, &quot;radius&quot;: 288000.0, &quot;stroke&quot;: true, &quot;weight&quot;: 3}\n",
       "            ).addTo(map_feca7f7996749b669ab93ed1eadabcc9);\n",
       "        \n",
       "    \n",
       "            circle_f6146971fc56487d948025835e2cef5f.bindTooltip(\n",
       "                `&lt;div&gt;\n",
       "                     &lt;div style=&#x27;margin:0; background-color:black; color:white;&#x27;&gt;&lt;h4 style=&#x27;text-align:center;front-weight: bold&#x27;&gt;Azerbaijan&lt;/h4&gt;&lt;hr style=&#x27;margin:10px; color:white;&#x27;&gt;&lt;ul style=&#x27;color:white; list-style-type:circle; align-item:left;padding-left:20px;padding-right:20px&#x27;&gt;&lt;li&gt;Confirmed: 423212207&lt;/li&gt;&lt;li&gt;Deaths:   5400141&lt;/li&gt;&lt;li&gt;Death rate:    1.28&lt;/li&gt;&lt;/ul&gt;&lt;/div&gt;\n",
       "                 &lt;/div&gt;`,\n",
       "                {&quot;sticky&quot;: true}\n",
       "            );\n",
       "        \n",
       "    \n",
       "            var circle_9d9e11729a76e1b0da81821bffcedfd4 = L.circle(\n",
       "                [25.025885, -78.035889],\n",
       "                {&quot;bubblingMouseEvents&quot;: true, &quot;color&quot;: &quot;red&quot;, &quot;dashArray&quot;: null, &quot;dashOffset&quot;: null, &quot;fill&quot;: true, &quot;fillColor&quot;: &quot;blue&quot;, &quot;fillOpacity&quot;: 0.2, &quot;fillRule&quot;: &quot;evenodd&quot;, &quot;lineCap&quot;: &quot;round&quot;, &quot;lineJoin&quot;: &quot;round&quot;, &quot;opacity&quot;: 1.0, &quot;radius&quot;: 243000.0, &quot;stroke&quot;: true, &quot;weight&quot;: 3}\n",
       "            ).addTo(map_feca7f7996749b669ab93ed1eadabcc9);\n",
       "        \n",
       "    \n",
       "            circle_9d9e11729a76e1b0da81821bffcedfd4.bindTooltip(\n",
       "                `&lt;div&gt;\n",
       "                     &lt;div style=&#x27;margin:0; background-color:black; color:white;&#x27;&gt;&lt;h4 style=&#x27;text-align:center;front-weight: bold&#x27;&gt;Bahamas&lt;/h4&gt;&lt;hr style=&#x27;margin:10px; color:white;&#x27;&gt;&lt;ul style=&#x27;color:white; list-style-type:circle; align-item:left;padding-left:20px;padding-right:20px&#x27;&gt;&lt;li&gt;Confirmed: 18315410&lt;/li&gt;&lt;li&gt;Deaths:   425548&lt;/li&gt;&lt;li&gt;Death rate:    2.32&lt;/li&gt;&lt;/ul&gt;&lt;/div&gt;\n",
       "                 &lt;/div&gt;`,\n",
       "                {&quot;sticky&quot;: true}\n",
       "            );\n",
       "        \n",
       "    \n",
       "            var circle_460aeb7447e84b8dd16ce91d5daaf7c4 = L.circle(\n",
       "                [26.0275, 50.55],\n",
       "                {&quot;bubblingMouseEvents&quot;: true, &quot;color&quot;: &quot;red&quot;, &quot;dashArray&quot;: null, &quot;dashOffset&quot;: null, &quot;fill&quot;: true, &quot;fillColor&quot;: &quot;blue&quot;, &quot;fillOpacity&quot;: 0.2, &quot;fillRule&quot;: &quot;evenodd&quot;, &quot;lineCap&quot;: &quot;round&quot;, &quot;lineJoin&quot;: &quot;round&quot;, &quot;opacity&quot;: 1.0, &quot;radius&quot;: 288000.0, &quot;stroke&quot;: true, &quot;weight&quot;: 3}\n",
       "            ).addTo(map_feca7f7996749b669ab93ed1eadabcc9);\n",
       "        \n",
       "    \n",
       "            circle_460aeb7447e84b8dd16ce91d5daaf7c4.bindTooltip(\n",
       "                `&lt;div&gt;\n",
       "                     &lt;div style=&#x27;margin:0; background-color:black; color:white;&#x27;&gt;&lt;h4 style=&#x27;text-align:center;front-weight: bold&#x27;&gt;Bahrain&lt;/h4&gt;&lt;hr style=&#x27;margin:10px; color:white;&#x27;&gt;&lt;ul style=&#x27;color:white; list-style-type:circle; align-item:left;padding-left:20px;padding-right:20px&#x27;&gt;&lt;li&gt;Confirmed: 297692152&lt;/li&gt;&lt;li&gt;Deaths:   935728&lt;/li&gt;&lt;li&gt;Death rate:    0.31&lt;/li&gt;&lt;/ul&gt;&lt;/div&gt;\n",
       "                 &lt;/div&gt;`,\n",
       "                {&quot;sticky&quot;: true}\n",
       "            );\n",
       "        \n",
       "    \n",
       "            var circle_357a73bb4fe95afc99c7a2206f7079b5 = L.circle(\n",
       "                [23.685, 90.3563],\n",
       "                {&quot;bubblingMouseEvents&quot;: true, &quot;color&quot;: &quot;red&quot;, &quot;dashArray&quot;: null, &quot;dashOffset&quot;: null, &quot;fill&quot;: true, &quot;fillColor&quot;: &quot;blue&quot;, &quot;fillOpacity&quot;: 0.2, &quot;fillRule&quot;: &quot;evenodd&quot;, &quot;lineCap&quot;: &quot;round&quot;, &quot;lineJoin&quot;: &quot;round&quot;, &quot;opacity&quot;: 1.0, &quot;radius&quot;: 303000.0, &quot;stroke&quot;: true, &quot;weight&quot;: 3}\n",
       "            ).addTo(map_feca7f7996749b669ab93ed1eadabcc9);\n",
       "        \n",
       "    \n",
       "            circle_357a73bb4fe95afc99c7a2206f7079b5.bindTooltip(\n",
       "                `&lt;div&gt;\n",
       "                     &lt;div style=&#x27;margin:0; background-color:black; color:white;&#x27;&gt;&lt;h4 style=&#x27;text-align:center;front-weight: bold&#x27;&gt;Bangladesh&lt;/h4&gt;&lt;hr style=&#x27;margin:10px; color:white;&#x27;&gt;&lt;ul style=&#x27;color:white; list-style-type:circle; align-item:left;padding-left:20px;padding-right:20px&#x27;&gt;&lt;li&gt;Confirmed: 1136184493&lt;/li&gt;&lt;li&gt;Deaths:   17595082&lt;/li&gt;&lt;li&gt;Death rate:    1.55&lt;/li&gt;&lt;/ul&gt;&lt;/div&gt;\n",
       "                 &lt;/div&gt;`,\n",
       "                {&quot;sticky&quot;: true}\n",
       "            );\n",
       "        \n",
       "    \n",
       "            var circle_967ee54a8677ca8c708779c21f2ebd83 = L.circle(\n",
       "                [13.1939, -59.5432],\n",
       "                {&quot;bubblingMouseEvents&quot;: true, &quot;color&quot;: &quot;red&quot;, &quot;dashArray&quot;: null, &quot;dashOffset&quot;: null, &quot;fill&quot;: true, &quot;fillColor&quot;: &quot;blue&quot;, &quot;fillOpacity&quot;: 0.2, &quot;fillRule&quot;: &quot;evenodd&quot;, &quot;lineCap&quot;: &quot;round&quot;, &quot;lineJoin&quot;: &quot;round&quot;, &quot;opacity&quot;: 1.0, &quot;radius&quot;: 258000.0, &quot;stroke&quot;: true, &quot;weight&quot;: 3}\n",
       "            ).addTo(map_feca7f7996749b669ab93ed1eadabcc9);\n",
       "        \n",
       "    \n",
       "            circle_967ee54a8677ca8c708779c21f2ebd83.bindTooltip(\n",
       "                `&lt;div&gt;\n",
       "                     &lt;div style=&#x27;margin:0; background-color:black; color:white;&#x27;&gt;&lt;h4 style=&#x27;text-align:center;front-weight: bold&#x27;&gt;Barbados&lt;/h4&gt;&lt;hr style=&#x27;margin:10px; color:white;&#x27;&gt;&lt;ul style=&#x27;color:white; list-style-type:circle; align-item:left;padding-left:20px;padding-right:20px&#x27;&gt;&lt;li&gt;Confirmed: 30641213&lt;/li&gt;&lt;li&gt;Deaths:   185556&lt;/li&gt;&lt;li&gt;Death rate:    0.61&lt;/li&gt;&lt;/ul&gt;&lt;/div&gt;\n",
       "                 &lt;/div&gt;`,\n",
       "                {&quot;sticky&quot;: true}\n",
       "            );\n",
       "        \n",
       "    \n",
       "            var circle_6e205e46575afbe726f78b4db5e855fc = L.circle(\n",
       "                [53.7098, 27.9534],\n",
       "                {&quot;bubblingMouseEvents&quot;: true, &quot;color&quot;: &quot;red&quot;, &quot;dashArray&quot;: null, &quot;dashOffset&quot;: null, &quot;fill&quot;: true, &quot;fillColor&quot;: &quot;blue&quot;, &quot;fillOpacity&quot;: 0.2, &quot;fillRule&quot;: &quot;evenodd&quot;, &quot;lineCap&quot;: &quot;round&quot;, &quot;lineJoin&quot;: &quot;round&quot;, &quot;opacity&quot;: 1.0, &quot;radius&quot;: 303000.0, &quot;stroke&quot;: true, &quot;weight&quot;: 3}\n",
       "            ).addTo(map_feca7f7996749b669ab93ed1eadabcc9);\n",
       "        \n",
       "    \n",
       "            circle_6e205e46575afbe726f78b4db5e855fc.bindTooltip(\n",
       "                `&lt;div&gt;\n",
       "                     &lt;div style=&#x27;margin:0; background-color:black; color:white;&#x27;&gt;&lt;h4 style=&#x27;text-align:center;front-weight: bold&#x27;&gt;Belarus&lt;/h4&gt;&lt;hr style=&#x27;margin:10px; color:white;&#x27;&gt;&lt;ul style=&#x27;color:white; list-style-type:circle; align-item:left;padding-left:20px;padding-right:20px&#x27;&gt;&lt;li&gt;Confirmed: 509157952&lt;/li&gt;&lt;li&gt;Deaths:   3749057&lt;/li&gt;&lt;li&gt;Death rate:    0.74&lt;/li&gt;&lt;/ul&gt;&lt;/div&gt;\n",
       "                 &lt;/div&gt;`,\n",
       "                {&quot;sticky&quot;: true}\n",
       "            );\n",
       "        \n",
       "    \n",
       "            var circle_97fed5f085e09cd417a0a14a602f3a5e = L.circle(\n",
       "                [50.8333, 4.469936],\n",
       "                {&quot;bubblingMouseEvents&quot;: true, &quot;color&quot;: &quot;red&quot;, &quot;dashArray&quot;: null, &quot;dashOffset&quot;: null, &quot;fill&quot;: true, &quot;fillColor&quot;: &quot;blue&quot;, &quot;fillOpacity&quot;: 0.2, &quot;fillRule&quot;: &quot;evenodd&quot;, &quot;lineCap&quot;: &quot;round&quot;, &quot;lineJoin&quot;: &quot;round&quot;, &quot;opacity&quot;: 1.0, &quot;radius&quot;: 318000.0, &quot;stroke&quot;: true, &quot;weight&quot;: 3}\n",
       "            ).addTo(map_feca7f7996749b669ab93ed1eadabcc9);\n",
       "        \n",
       "    \n",
       "            circle_97fed5f085e09cd417a0a14a602f3a5e.bindTooltip(\n",
       "                `&lt;div&gt;\n",
       "                     &lt;div style=&#x27;margin:0; background-color:black; color:white;&#x27;&gt;&lt;h4 style=&#x27;text-align:center;front-weight: bold&#x27;&gt;Belgium&lt;/h4&gt;&lt;hr style=&#x27;margin:10px; color:white;&#x27;&gt;&lt;ul style=&#x27;color:white; list-style-type:circle; align-item:left;padding-left:20px;padding-right:20px&#x27;&gt;&lt;li&gt;Confirmed: 1881697510&lt;/li&gt;&lt;li&gt;Deaths:   22859594&lt;/li&gt;&lt;li&gt;Death rate:    1.21&lt;/li&gt;&lt;/ul&gt;&lt;/div&gt;\n",
       "                 &lt;/div&gt;`,\n",
       "                {&quot;sticky&quot;: true}\n",
       "            );\n",
       "        \n",
       "    \n",
       "            var circle_5f7b9b8f8ba40e065237d7fe6e0def16 = L.circle(\n",
       "                [17.1899, -88.4976],\n",
       "                {&quot;bubblingMouseEvents&quot;: true, &quot;color&quot;: &quot;red&quot;, &quot;dashArray&quot;: null, &quot;dashOffset&quot;: null, &quot;fill&quot;: true, &quot;fillColor&quot;: &quot;blue&quot;, &quot;fillOpacity&quot;: 0.2, &quot;fillRule&quot;: &quot;evenodd&quot;, &quot;lineCap&quot;: &quot;round&quot;, &quot;lineJoin&quot;: &quot;round&quot;, &quot;opacity&quot;: 1.0, &quot;radius&quot;: 258000.0, &quot;stroke&quot;: true, &quot;weight&quot;: 3}\n",
       "            ).addTo(map_feca7f7996749b669ab93ed1eadabcc9);\n",
       "        \n",
       "    \n",
       "            circle_5f7b9b8f8ba40e065237d7fe6e0def16.bindTooltip(\n",
       "                `&lt;div&gt;\n",
       "                     &lt;div style=&#x27;margin:0; background-color:black; color:white;&#x27;&gt;&lt;h4 style=&#x27;text-align:center;front-weight: bold&#x27;&gt;Belize&lt;/h4&gt;&lt;hr style=&#x27;margin:10px; color:white;&#x27;&gt;&lt;ul style=&#x27;color:white; list-style-type:circle; align-item:left;padding-left:20px;padding-right:20px&#x27;&gt;&lt;li&gt;Confirmed: 28190788&lt;/li&gt;&lt;li&gt;Deaths:   381645&lt;/li&gt;&lt;li&gt;Death rate:    1.35&lt;/li&gt;&lt;/ul&gt;&lt;/div&gt;\n",
       "                 &lt;/div&gt;`,\n",
       "                {&quot;sticky&quot;: true}\n",
       "            );\n",
       "        \n",
       "    \n",
       "            var circle_7d46ca14284f0c7e78fc6a8cbf605657 = L.circle(\n",
       "                [9.3077, 2.3158],\n",
       "                {&quot;bubblingMouseEvents&quot;: true, &quot;color&quot;: &quot;red&quot;, &quot;dashArray&quot;: null, &quot;dashOffset&quot;: null, &quot;fill&quot;: true, &quot;fillColor&quot;: &quot;blue&quot;, &quot;fillOpacity&quot;: 0.2, &quot;fillRule&quot;: &quot;evenodd&quot;, &quot;lineCap&quot;: &quot;round&quot;, &quot;lineJoin&quot;: &quot;round&quot;, &quot;opacity&quot;: 1.0, &quot;radius&quot;: 243000.0, &quot;stroke&quot;: true, &quot;weight&quot;: 3}\n",
       "            ).addTo(map_feca7f7996749b669ab93ed1eadabcc9);\n",
       "        \n",
       "    \n",
       "            circle_7d46ca14284f0c7e78fc6a8cbf605657.bindTooltip(\n",
       "                `&lt;div&gt;\n",
       "                     &lt;div style=&#x27;margin:0; background-color:black; color:white;&#x27;&gt;&lt;h4 style=&#x27;text-align:center;front-weight: bold&#x27;&gt;Benin&lt;/h4&gt;&lt;hr style=&#x27;margin:10px; color:white;&#x27;&gt;&lt;ul style=&#x27;color:white; list-style-type:circle; align-item:left;padding-left:20px;padding-right:20px&#x27;&gt;&lt;li&gt;Confirmed: 14524544&lt;/li&gt;&lt;li&gt;Deaths:   105058&lt;/li&gt;&lt;li&gt;Death rate:    0.72&lt;/li&gt;&lt;/ul&gt;&lt;/div&gt;\n",
       "                 &lt;/div&gt;`,\n",
       "                {&quot;sticky&quot;: true}\n",
       "            );\n",
       "        \n",
       "    \n",
       "            var circle_5e998bf71f3f654818fe5776e99a3aa1 = L.circle(\n",
       "                [27.5142, 90.4336],\n",
       "                {&quot;bubblingMouseEvents&quot;: true, &quot;color&quot;: &quot;red&quot;, &quot;dashArray&quot;: null, &quot;dashOffset&quot;: null, &quot;fill&quot;: true, &quot;fillColor&quot;: &quot;blue&quot;, &quot;fillOpacity&quot;: 0.2, &quot;fillRule&quot;: &quot;evenodd&quot;, &quot;lineCap&quot;: &quot;round&quot;, &quot;lineJoin&quot;: &quot;round&quot;, &quot;opacity&quot;: 1.0, &quot;radius&quot;: 243000.0, &quot;stroke&quot;: true, &quot;weight&quot;: 3}\n",
       "            ).addTo(map_feca7f7996749b669ab93ed1eadabcc9);\n",
       "        \n",
       "    \n",
       "            circle_5e998bf71f3f654818fe5776e99a3aa1.bindTooltip(\n",
       "                `&lt;div&gt;\n",
       "                     &lt;div style=&#x27;margin:0; background-color:black; color:white;&#x27;&gt;&lt;h4 style=&#x27;text-align:center;front-weight: bold&#x27;&gt;Bhutan&lt;/h4&gt;&lt;hr style=&#x27;margin:10px; color:white;&#x27;&gt;&lt;ul style=&#x27;color:white; list-style-type:circle; align-item:left;padding-left:20px;padding-right:20px&#x27;&gt;&lt;li&gt;Confirmed: 17010669&lt;/li&gt;&lt;li&gt;Deaths:   6429&lt;/li&gt;&lt;li&gt;Death rate:    0.04&lt;/li&gt;&lt;/ul&gt;&lt;/div&gt;\n",
       "                 &lt;/div&gt;`,\n",
       "                {&quot;sticky&quot;: true}\n",
       "            );\n",
       "        \n",
       "    \n",
       "            var circle_f8c661b971328830b42da5126e2356e8 = L.circle(\n",
       "                [-16.2902, -63.5887],\n",
       "                {&quot;bubblingMouseEvents&quot;: true, &quot;color&quot;: &quot;red&quot;, &quot;dashArray&quot;: null, &quot;dashOffset&quot;: null, &quot;fill&quot;: true, &quot;fillColor&quot;: &quot;blue&quot;, &quot;fillOpacity&quot;: 0.2, &quot;fillRule&quot;: &quot;evenodd&quot;, &quot;lineCap&quot;: &quot;round&quot;, &quot;lineJoin&quot;: &quot;round&quot;, &quot;opacity&quot;: 1.0, &quot;radius&quot;: 303000.0, &quot;stroke&quot;: true, &quot;weight&quot;: 3}\n",
       "            ).addTo(map_feca7f7996749b669ab93ed1eadabcc9);\n",
       "        \n",
       "    \n",
       "            circle_f8c661b971328830b42da5126e2356e8.bindTooltip(\n",
       "                `&lt;div&gt;\n",
       "                     &lt;div style=&#x27;margin:0; background-color:black; color:white;&#x27;&gt;&lt;h4 style=&#x27;text-align:center;front-weight: bold&#x27;&gt;Bolivia&lt;/h4&gt;&lt;hr style=&#x27;margin:10px; color:white;&#x27;&gt;&lt;ul style=&#x27;color:white; list-style-type:circle; align-item:left;padding-left:20px;padding-right:20px&#x27;&gt;&lt;li&gt;Confirmed: 505652821&lt;/li&gt;&lt;li&gt;Deaths:   14496468&lt;/li&gt;&lt;li&gt;Death rate:    2.87&lt;/li&gt;&lt;/ul&gt;&lt;/div&gt;\n",
       "                 &lt;/div&gt;`,\n",
       "                {&quot;sticky&quot;: true}\n",
       "            );\n",
       "        \n",
       "    \n",
       "            var circle_31e850ef3a6b44e548949d5df3eb525e = L.circle(\n",
       "                [43.9159, 17.6791],\n",
       "                {&quot;bubblingMouseEvents&quot;: true, &quot;color&quot;: &quot;red&quot;, &quot;dashArray&quot;: null, &quot;dashOffset&quot;: null, &quot;fill&quot;: true, &quot;fillColor&quot;: &quot;blue&quot;, &quot;fillOpacity&quot;: 0.2, &quot;fillRule&quot;: &quot;evenodd&quot;, &quot;lineCap&quot;: &quot;round&quot;, &quot;lineJoin&quot;: &quot;round&quot;, &quot;opacity&quot;: 1.0, &quot;radius&quot;: 288000.0, &quot;stroke&quot;: true, &quot;weight&quot;: 3}\n",
       "            ).addTo(map_feca7f7996749b669ab93ed1eadabcc9);\n",
       "        \n",
       "    \n",
       "            circle_31e850ef3a6b44e548949d5df3eb525e.bindTooltip(\n",
       "                `&lt;div&gt;\n",
       "                     &lt;div style=&#x27;margin:0; background-color:black; color:white;&#x27;&gt;&lt;h4 style=&#x27;text-align:center;front-weight: bold&#x27;&gt;Bosnia and Herzegovina&lt;/h4&gt;&lt;hr style=&#x27;margin:10px; color:white;&#x27;&gt;&lt;ul style=&#x27;color:white; list-style-type:circle; align-item:left;padding-left:20px;padding-right:20px&#x27;&gt;&lt;li&gt;Confirmed: 213464220&lt;/li&gt;&lt;li&gt;Deaths:   8965334&lt;/li&gt;&lt;li&gt;Death rate:    4.2&lt;/li&gt;&lt;/ul&gt;&lt;/div&gt;\n",
       "                 &lt;/div&gt;`,\n",
       "                {&quot;sticky&quot;: true}\n",
       "            );\n",
       "        \n",
       "    \n",
       "            var circle_844eae63553162009224fcaeed54493a = L.circle(\n",
       "                [-22.3285, 24.6849],\n",
       "                {&quot;bubblingMouseEvents&quot;: true, &quot;color&quot;: &quot;red&quot;, &quot;dashArray&quot;: null, &quot;dashOffset&quot;: null, &quot;fill&quot;: true, &quot;fillColor&quot;: &quot;blue&quot;, &quot;fillOpacity&quot;: 0.2, &quot;fillRule&quot;: &quot;evenodd&quot;, &quot;lineCap&quot;: &quot;round&quot;, &quot;lineJoin&quot;: &quot;round&quot;, &quot;opacity&quot;: 1.0, &quot;radius&quot;: 273000.0, &quot;stroke&quot;: true, &quot;weight&quot;: 3}\n",
       "            ).addTo(map_feca7f7996749b669ab93ed1eadabcc9);\n",
       "        \n",
       "    \n",
       "            circle_844eae63553162009224fcaeed54493a.bindTooltip(\n",
       "                `&lt;div&gt;\n",
       "                     &lt;div style=&#x27;margin:0; background-color:black; color:white;&#x27;&gt;&lt;h4 style=&#x27;text-align:center;front-weight: bold&#x27;&gt;Botswana&lt;/h4&gt;&lt;hr style=&#x27;margin:10px; color:white;&#x27;&gt;&lt;ul style=&#x27;color:white; list-style-type:circle; align-item:left;padding-left:20px;padding-right:20px&#x27;&gt;&lt;li&gt;Confirmed: 143211165&lt;/li&gt;&lt;li&gt;Deaths:   1433257&lt;/li&gt;&lt;li&gt;Death rate:    1.0&lt;/li&gt;&lt;/ul&gt;&lt;/div&gt;\n",
       "                 &lt;/div&gt;`,\n",
       "                {&quot;sticky&quot;: true}\n",
       "            );\n",
       "        \n",
       "    \n",
       "            var circle_15738a81da12a0824b631f9960dadfd8 = L.circle(\n",
       "                [-14.235, -51.9253],\n",
       "                {&quot;bubblingMouseEvents&quot;: true, &quot;color&quot;: &quot;red&quot;, &quot;dashArray&quot;: null, &quot;dashOffset&quot;: null, &quot;fill&quot;: true, &quot;fillColor&quot;: &quot;blue&quot;, &quot;fillOpacity&quot;: 0.2, &quot;fillRule&quot;: &quot;evenodd&quot;, &quot;lineCap&quot;: &quot;round&quot;, &quot;lineJoin&quot;: &quot;round&quot;, &quot;opacity&quot;: 1.0, &quot;radius&quot;: 348000.0, &quot;stroke&quot;: true, &quot;weight&quot;: 3}\n",
       "            ).addTo(map_feca7f7996749b669ab93ed1eadabcc9);\n",
       "        \n",
       "    \n",
       "            circle_15738a81da12a0824b631f9960dadfd8.bindTooltip(\n",
       "                `&lt;div&gt;\n",
       "                     &lt;div style=&#x27;margin:0; background-color:black; color:white;&#x27;&gt;&lt;h4 style=&#x27;text-align:center;front-weight: bold&#x27;&gt;Brazil&lt;/h4&gt;&lt;hr style=&#x27;margin:10px; color:white;&#x27;&gt;&lt;ul style=&#x27;color:white; list-style-type:circle; align-item:left;padding-left:20px;padding-right:20px&#x27;&gt;&lt;li&gt;Confirmed: 18065779204&lt;/li&gt;&lt;li&gt;Deaths:   429006425&lt;/li&gt;&lt;li&gt;Death rate:    2.37&lt;/li&gt;&lt;/ul&gt;&lt;/div&gt;\n",
       "                 &lt;/div&gt;`,\n",
       "                {&quot;sticky&quot;: true}\n",
       "            );\n",
       "        \n",
       "    \n",
       "            var circle_1564946cac4abdf076f8cc80fef9568d = L.circle(\n",
       "                [4.5353, 114.7277],\n",
       "                {&quot;bubblingMouseEvents&quot;: true, &quot;color&quot;: &quot;red&quot;, &quot;dashArray&quot;: null, &quot;dashOffset&quot;: null, &quot;fill&quot;: true, &quot;fillColor&quot;: &quot;blue&quot;, &quot;fillOpacity&quot;: 0.2, &quot;fillRule&quot;: &quot;evenodd&quot;, &quot;lineCap&quot;: &quot;round&quot;, &quot;lineJoin&quot;: &quot;round&quot;, &quot;opacity&quot;: 1.0, &quot;radius&quot;: 258000.0, &quot;stroke&quot;: true, &quot;weight&quot;: 3}\n",
       "            ).addTo(map_feca7f7996749b669ab93ed1eadabcc9);\n",
       "        \n",
       "    \n",
       "            circle_1564946cac4abdf076f8cc80fef9568d.bindTooltip(\n",
       "                `&lt;div&gt;\n",
       "                     &lt;div style=&#x27;margin:0; background-color:black; color:white;&#x27;&gt;&lt;h4 style=&#x27;text-align:center;front-weight: bold&#x27;&gt;Brunei&lt;/h4&gt;&lt;hr style=&#x27;margin:10px; color:white;&#x27;&gt;&lt;ul style=&#x27;color:white; list-style-type:circle; align-item:left;padding-left:20px;padding-right:20px&#x27;&gt;&lt;li&gt;Confirmed: 57031137&lt;/li&gt;&lt;li&gt;Deaths:   79147&lt;/li&gt;&lt;li&gt;Death rate:    0.14&lt;/li&gt;&lt;/ul&gt;&lt;/div&gt;\n",
       "                 &lt;/div&gt;`,\n",
       "                {&quot;sticky&quot;: true}\n",
       "            );\n",
       "        \n",
       "    \n",
       "            var circle_4d7f91ea8a6ca6e3b8fbd1a180b9bf7a = L.circle(\n",
       "                [42.7339, 25.4858],\n",
       "                {&quot;bubblingMouseEvents&quot;: true, &quot;color&quot;: &quot;red&quot;, &quot;dashArray&quot;: null, &quot;dashOffset&quot;: null, &quot;fill&quot;: true, &quot;fillColor&quot;: &quot;blue&quot;, &quot;fillOpacity&quot;: 0.2, &quot;fillRule&quot;: &quot;evenodd&quot;, &quot;lineCap&quot;: &quot;round&quot;, &quot;lineJoin&quot;: &quot;round&quot;, &quot;opacity&quot;: 1.0, &quot;radius&quot;: 303000.0, &quot;stroke&quot;: true, &quot;weight&quot;: 3}\n",
       "            ).addTo(map_feca7f7996749b669ab93ed1eadabcc9);\n",
       "        \n",
       "    \n",
       "            circle_4d7f91ea8a6ca6e3b8fbd1a180b9bf7a.bindTooltip(\n",
       "                `&lt;div&gt;\n",
       "                     &lt;div style=&#x27;margin:0; background-color:black; color:white;&#x27;&gt;&lt;h4 style=&#x27;text-align:center;front-weight: bold&#x27;&gt;Bulgaria&lt;/h4&gt;&lt;hr style=&#x27;margin:10px; color:white;&#x27;&gt;&lt;ul style=&#x27;color:white; list-style-type:circle; align-item:left;padding-left:20px;padding-right:20px&#x27;&gt;&lt;li&gt;Confirmed: 573581180&lt;/li&gt;&lt;li&gt;Deaths:   19648514&lt;/li&gt;&lt;li&gt;Death rate:    3.43&lt;/li&gt;&lt;/ul&gt;&lt;/div&gt;\n",
       "                 &lt;/div&gt;`,\n",
       "                {&quot;sticky&quot;: true}\n",
       "            );\n",
       "        \n",
       "    \n",
       "            var circle_73e7a97aae4e59926ac34279c987466b = L.circle(\n",
       "                [12.2383, -1.5616],\n",
       "                {&quot;bubblingMouseEvents&quot;: true, &quot;color&quot;: &quot;red&quot;, &quot;dashArray&quot;: null, &quot;dashOffset&quot;: null, &quot;fill&quot;: true, &quot;fillColor&quot;: &quot;blue&quot;, &quot;fillOpacity&quot;: 0.2, &quot;fillRule&quot;: &quot;evenodd&quot;, &quot;lineCap&quot;: &quot;round&quot;, &quot;lineJoin&quot;: &quot;round&quot;, &quot;opacity&quot;: 1.0, &quot;radius&quot;: 243000.0, &quot;stroke&quot;: true, &quot;weight&quot;: 3}\n",
       "            ).addTo(map_feca7f7996749b669ab93ed1eadabcc9);\n",
       "        \n",
       "    \n",
       "            circle_73e7a97aae4e59926ac34279c987466b.bindTooltip(\n",
       "                `&lt;div&gt;\n",
       "                     &lt;div style=&#x27;margin:0; background-color:black; color:white;&#x27;&gt;&lt;h4 style=&#x27;text-align:center;front-weight: bold&#x27;&gt;Burkina Faso&lt;/h4&gt;&lt;hr style=&#x27;margin:10px; color:white;&#x27;&gt;&lt;ul style=&#x27;color:white; list-style-type:circle; align-item:left;padding-left:20px;padding-right:20px&#x27;&gt;&lt;li&gt;Confirmed: 12681777&lt;/li&gt;&lt;li&gt;Deaths:   212713&lt;/li&gt;&lt;li&gt;Death rate:    1.68&lt;/li&gt;&lt;/ul&gt;&lt;/div&gt;\n",
       "                 &lt;/div&gt;`,\n",
       "                {&quot;sticky&quot;: true}\n",
       "            );\n",
       "        \n",
       "    \n",
       "            var circle_c4aecf76c38c959562aaa516c7e5f70c = L.circle(\n",
       "                [21.9162, 95.956],\n",
       "                {&quot;bubblingMouseEvents&quot;: true, &quot;color&quot;: &quot;red&quot;, &quot;dashArray&quot;: null, &quot;dashOffset&quot;: null, &quot;fill&quot;: true, &quot;fillColor&quot;: &quot;blue&quot;, &quot;fillOpacity&quot;: 0.2, &quot;fillRule&quot;: &quot;evenodd&quot;, &quot;lineCap&quot;: &quot;round&quot;, &quot;lineJoin&quot;: &quot;round&quot;, &quot;opacity&quot;: 1.0, &quot;radius&quot;: 288000.0, &quot;stroke&quot;: true, &quot;weight&quot;: 3}\n",
       "            ).addTo(map_feca7f7996749b669ab93ed1eadabcc9);\n",
       "        \n",
       "    \n",
       "            circle_c4aecf76c38c959562aaa516c7e5f70c.bindTooltip(\n",
       "                `&lt;div&gt;\n",
       "                     &lt;div style=&#x27;margin:0; background-color:black; color:white;&#x27;&gt;&lt;h4 style=&#x27;text-align:center;front-weight: bold&#x27;&gt;Burma&lt;/h4&gt;&lt;hr style=&#x27;margin:10px; color:white;&#x27;&gt;&lt;ul style=&#x27;color:white; list-style-type:circle; align-item:left;padding-left:20px;padding-right:20px&#x27;&gt;&lt;li&gt;Confirmed: 320796541&lt;/li&gt;&lt;li&gt;Deaths:   10283237&lt;/li&gt;&lt;li&gt;Death rate:    3.21&lt;/li&gt;&lt;/ul&gt;&lt;/div&gt;\n",
       "                 &lt;/div&gt;`,\n",
       "                {&quot;sticky&quot;: true}\n",
       "            );\n",
       "        \n",
       "    \n",
       "            var circle_4ea48d1f73dc63581e9f6e9949d625a1 = L.circle(\n",
       "                [-3.3731, 29.9189],\n",
       "                {&quot;bubblingMouseEvents&quot;: true, &quot;color&quot;: &quot;red&quot;, &quot;dashArray&quot;: null, &quot;dashOffset&quot;: null, &quot;fill&quot;: true, &quot;fillColor&quot;: &quot;blue&quot;, &quot;fillOpacity&quot;: 0.2, &quot;fillRule&quot;: &quot;evenodd&quot;, &quot;lineCap&quot;: &quot;round&quot;, &quot;lineJoin&quot;: &quot;round&quot;, &quot;opacity&quot;: 1.0, &quot;radius&quot;: 243000.0, &quot;stroke&quot;: true, &quot;weight&quot;: 3}\n",
       "            ).addTo(map_feca7f7996749b669ab93ed1eadabcc9);\n",
       "        \n",
       "    \n",
       "            circle_4ea48d1f73dc63581e9f6e9949d625a1.bindTooltip(\n",
       "                `&lt;div&gt;\n",
       "                     &lt;div style=&#x27;margin:0; background-color:black; color:white;&#x27;&gt;&lt;h4 style=&#x27;text-align:center;front-weight: bold&#x27;&gt;Burundi&lt;/h4&gt;&lt;hr style=&#x27;margin:10px; color:white;&#x27;&gt;&lt;ul style=&#x27;color:white; list-style-type:circle; align-item:left;padding-left:20px;padding-right:20px&#x27;&gt;&lt;li&gt;Confirmed: 18665578&lt;/li&gt;&lt;li&gt;Deaths:   20401&lt;/li&gt;&lt;li&gt;Death rate:    0.11&lt;/li&gt;&lt;/ul&gt;&lt;/div&gt;\n",
       "                 &lt;/div&gt;`,\n",
       "                {&quot;sticky&quot;: true}\n",
       "            );\n",
       "        \n",
       "    \n",
       "            var circle_8f02d306506b672a3fdd2b2905a6b600 = L.circle(\n",
       "                [16.5388, -23.0418],\n",
       "                {&quot;bubblingMouseEvents&quot;: true, &quot;color&quot;: &quot;red&quot;, &quot;dashArray&quot;: null, &quot;dashOffset&quot;: null, &quot;fill&quot;: true, &quot;fillColor&quot;: &quot;blue&quot;, &quot;fillOpacity&quot;: 0.2, &quot;fillRule&quot;: &quot;evenodd&quot;, &quot;lineCap&quot;: &quot;round&quot;, &quot;lineJoin&quot;: &quot;round&quot;, &quot;opacity&quot;: 1.0, &quot;radius&quot;: 258000.0, &quot;stroke&quot;: true, &quot;weight&quot;: 3}\n",
       "            ).addTo(map_feca7f7996749b669ab93ed1eadabcc9);\n",
       "        \n",
       "    \n",
       "            circle_8f02d306506b672a3fdd2b2905a6b600.bindTooltip(\n",
       "                `&lt;div&gt;\n",
       "                     &lt;div style=&#x27;margin:0; background-color:black; color:white;&#x27;&gt;&lt;h4 style=&#x27;text-align:center;front-weight: bold&#x27;&gt;Cabo Verde&lt;/h4&gt;&lt;hr style=&#x27;margin:10px; color:white;&#x27;&gt;&lt;ul style=&#x27;color:white; list-style-type:circle; align-item:left;padding-left:20px;padding-right:20px&#x27;&gt;&lt;li&gt;Confirmed: 32163407&lt;/li&gt;&lt;li&gt;Deaths:   247067&lt;/li&gt;&lt;li&gt;Death rate:    0.77&lt;/li&gt;&lt;/ul&gt;&lt;/div&gt;\n",
       "                 &lt;/div&gt;`,\n",
       "                {&quot;sticky&quot;: true}\n",
       "            );\n",
       "        \n",
       "    \n",
       "            var circle_7f6df71aace1c4d195a2820327e28ecb = L.circle(\n",
       "                [11.55, 104.9167],\n",
       "                {&quot;bubblingMouseEvents&quot;: true, &quot;color&quot;: &quot;red&quot;, &quot;dashArray&quot;: null, &quot;dashOffset&quot;: null, &quot;fill&quot;: true, &quot;fillColor&quot;: &quot;blue&quot;, &quot;fillOpacity&quot;: 0.2, &quot;fillRule&quot;: &quot;evenodd&quot;, &quot;lineCap&quot;: &quot;round&quot;, &quot;lineJoin&quot;: &quot;round&quot;, &quot;opacity&quot;: 1.0, &quot;radius&quot;: 273000.0, &quot;stroke&quot;: true, &quot;weight&quot;: 3}\n",
       "            ).addTo(map_feca7f7996749b669ab93ed1eadabcc9);\n",
       "        \n",
       "    \n",
       "            circle_7f6df71aace1c4d195a2820327e28ecb.bindTooltip(\n",
       "                `&lt;div&gt;\n",
       "                     &lt;div style=&#x27;margin:0; background-color:black; color:white;&#x27;&gt;&lt;h4 style=&#x27;text-align:center;front-weight: bold&#x27;&gt;Cambodia&lt;/h4&gt;&lt;hr style=&#x27;margin:10px; color:white;&#x27;&gt;&lt;ul style=&#x27;color:white; list-style-type:circle; align-item:left;padding-left:20px;padding-right:20px&#x27;&gt;&lt;li&gt;Confirmed: 67631620&lt;/li&gt;&lt;li&gt;Deaths:   1484918&lt;/li&gt;&lt;li&gt;Death rate:    2.2&lt;/li&gt;&lt;/ul&gt;&lt;/div&gt;\n",
       "                 &lt;/div&gt;`,\n",
       "                {&quot;sticky&quot;: true}\n",
       "            );\n",
       "        \n",
       "    \n",
       "            var circle_fd9b341269e80073ed01bca945420e0c = L.circle(\n",
       "                [3.848, 11.5021],\n",
       "                {&quot;bubblingMouseEvents&quot;: true, &quot;color&quot;: &quot;red&quot;, &quot;dashArray&quot;: null, &quot;dashOffset&quot;: null, &quot;fill&quot;: true, &quot;fillColor&quot;: &quot;blue&quot;, &quot;fillOpacity&quot;: 0.2, &quot;fillRule&quot;: &quot;evenodd&quot;, &quot;lineCap&quot;: &quot;round&quot;, &quot;lineJoin&quot;: &quot;round&quot;, &quot;opacity&quot;: 1.0, &quot;radius&quot;: 273000.0, &quot;stroke&quot;: true, &quot;weight&quot;: 3}\n",
       "            ).addTo(map_feca7f7996749b669ab93ed1eadabcc9);\n",
       "        \n",
       "    \n",
       "            circle_fd9b341269e80073ed01bca945420e0c.bindTooltip(\n",
       "                `&lt;div&gt;\n",
       "                     &lt;div style=&#x27;margin:0; background-color:black; color:white;&#x27;&gt;&lt;h4 style=&#x27;text-align:center;front-weight: bold&#x27;&gt;Cameroon&lt;/h4&gt;&lt;hr style=&#x27;margin:10px; color:white;&#x27;&gt;&lt;ul style=&#x27;color:white; list-style-type:circle; align-item:left;padding-left:20px;padding-right:20px&#x27;&gt;&lt;li&gt;Confirmed: 72821409&lt;/li&gt;&lt;li&gt;Deaths:   1192039&lt;/li&gt;&lt;li&gt;Death rate:    1.64&lt;/li&gt;&lt;/ul&gt;&lt;/div&gt;\n",
       "                 &lt;/div&gt;`,\n",
       "                {&quot;sticky&quot;: true}\n",
       "            );\n",
       "        \n",
       "    \n",
       "            var circle_0f31b34ffcbc6ebb05b85fe335297c51 = L.circle(\n",
       "                [53.9333, -116.5765],\n",
       "                {&quot;bubblingMouseEvents&quot;: true, &quot;color&quot;: &quot;red&quot;, &quot;dashArray&quot;: null, &quot;dashOffset&quot;: null, &quot;fill&quot;: true, &quot;fillColor&quot;: &quot;blue&quot;, &quot;fillOpacity&quot;: 0.2, &quot;fillRule&quot;: &quot;evenodd&quot;, &quot;lineCap&quot;: &quot;round&quot;, &quot;lineJoin&quot;: &quot;round&quot;, &quot;opacity&quot;: 1.0, &quot;radius&quot;: 288000.0, &quot;stroke&quot;: true, &quot;weight&quot;: 3}\n",
       "            ).addTo(map_feca7f7996749b669ab93ed1eadabcc9);\n",
       "        \n",
       "    \n",
       "            circle_0f31b34ffcbc6ebb05b85fe335297c51.bindTooltip(\n",
       "                `&lt;div&gt;\n",
       "                     &lt;div style=&#x27;margin:0; background-color:black; color:white;&#x27;&gt;&lt;h4 style=&#x27;text-align:center;front-weight: bold&#x27;&gt;Canada&lt;/h4&gt;&lt;hr style=&#x27;margin:10px; color:white;&#x27;&gt;&lt;ul style=&#x27;color:white; list-style-type:circle; align-item:left;padding-left:20px;padding-right:20px&#x27;&gt;&lt;li&gt;Confirmed: 286928286&lt;/li&gt;&lt;li&gt;Deaths:   2481195&lt;/li&gt;&lt;li&gt;Death rate:    0.86&lt;/li&gt;&lt;/ul&gt;&lt;/div&gt;\n",
       "                 &lt;/div&gt;`,\n",
       "                {&quot;sticky&quot;: true}\n",
       "            );\n",
       "        \n",
       "    \n",
       "            var circle_75e6e05833ddef69f20160b255e543c7 = L.circle(\n",
       "                [53.7267, -127.6476],\n",
       "                {&quot;bubblingMouseEvents&quot;: true, &quot;color&quot;: &quot;red&quot;, &quot;dashArray&quot;: null, &quot;dashOffset&quot;: null, &quot;fill&quot;: true, &quot;fillColor&quot;: &quot;blue&quot;, &quot;fillOpacity&quot;: 0.2, &quot;fillRule&quot;: &quot;evenodd&quot;, &quot;lineCap&quot;: &quot;round&quot;, &quot;lineJoin&quot;: &quot;round&quot;, &quot;opacity&quot;: 1.0, &quot;radius&quot;: 288000.0, &quot;stroke&quot;: true, &quot;weight&quot;: 3}\n",
       "            ).addTo(map_feca7f7996749b669ab93ed1eadabcc9);\n",
       "        \n",
       "    \n",
       "            circle_75e6e05833ddef69f20160b255e543c7.bindTooltip(\n",
       "                `&lt;div&gt;\n",
       "                     &lt;div style=&#x27;margin:0; background-color:black; color:white;&#x27;&gt;&lt;h4 style=&#x27;text-align:center;front-weight: bold&#x27;&gt;Canada&lt;/h4&gt;&lt;hr style=&#x27;margin:10px; color:white;&#x27;&gt;&lt;ul style=&#x27;color:white; list-style-type:circle; align-item:left;padding-left:20px;padding-right:20px&#x27;&gt;&lt;li&gt;Confirmed: 183165405&lt;/li&gt;&lt;li&gt;Deaths:   1958289&lt;/li&gt;&lt;li&gt;Death rate:    1.07&lt;/li&gt;&lt;/ul&gt;&lt;/div&gt;\n",
       "                 &lt;/div&gt;`,\n",
       "                {&quot;sticky&quot;: true}\n",
       "            );\n",
       "        \n",
       "    \n",
       "            var circle_dc52f80b6d11f692300593eab638f02c = L.circle(\n",
       "                [0.0, 0.0],\n",
       "                {&quot;bubblingMouseEvents&quot;: true, &quot;color&quot;: &quot;red&quot;, &quot;dashArray&quot;: null, &quot;dashOffset&quot;: null, &quot;fill&quot;: true, &quot;fillColor&quot;: &quot;blue&quot;, &quot;fillOpacity&quot;: 0.2, &quot;fillRule&quot;: &quot;evenodd&quot;, &quot;lineCap&quot;: &quot;round&quot;, &quot;lineJoin&quot;: &quot;round&quot;, &quot;opacity&quot;: 1.0, &quot;radius&quot;: 48000.0, &quot;stroke&quot;: true, &quot;weight&quot;: 3}\n",
       "            ).addTo(map_feca7f7996749b669ab93ed1eadabcc9);\n",
       "        \n",
       "    \n",
       "            circle_dc52f80b6d11f692300593eab638f02c.bindTooltip(\n",
       "                `&lt;div&gt;\n",
       "                     &lt;div style=&#x27;margin:0; background-color:black; color:white;&#x27;&gt;&lt;h4 style=&#x27;text-align:center;front-weight: bold&#x27;&gt;Canada&lt;/h4&gt;&lt;hr style=&#x27;margin:10px; color:white;&#x27;&gt;&lt;ul style=&#x27;color:white; list-style-type:circle; align-item:left;padding-left:20px;padding-right:20px&#x27;&gt;&lt;li&gt;Confirmed: 32&lt;/li&gt;&lt;li&gt;Deaths:   998&lt;/li&gt;&lt;li&gt;Death rate:    3024.24&lt;/li&gt;&lt;/ul&gt;&lt;/div&gt;\n",
       "                 &lt;/div&gt;`,\n",
       "                {&quot;sticky&quot;: true}\n",
       "            );\n",
       "        \n",
       "    \n",
       "            var circle_7d20fdb5578838a3d9498da5b8ce0f56 = L.circle(\n",
       "                [0.0, 0.0],\n",
       "                {&quot;bubblingMouseEvents&quot;: true, &quot;color&quot;: &quot;red&quot;, &quot;dashArray&quot;: null, &quot;dashOffset&quot;: null, &quot;fill&quot;: true, &quot;fillColor&quot;: &quot;blue&quot;, &quot;fillOpacity&quot;: 0.2, &quot;fillRule&quot;: &quot;evenodd&quot;, &quot;lineCap&quot;: &quot;round&quot;, &quot;lineJoin&quot;: &quot;round&quot;, &quot;opacity&quot;: 1.0, &quot;radius&quot;: 138000.0, &quot;stroke&quot;: true, &quot;weight&quot;: 3}\n",
       "            ).addTo(map_feca7f7996749b669ab93ed1eadabcc9);\n",
       "        \n",
       "    \n",
       "            circle_7d20fdb5578838a3d9498da5b8ce0f56.bindTooltip(\n",
       "                `&lt;div&gt;\n",
       "                     &lt;div style=&#x27;margin:0; background-color:black; color:white;&#x27;&gt;&lt;h4 style=&#x27;text-align:center;front-weight: bold&#x27;&gt;Canada&lt;/h4&gt;&lt;hr style=&#x27;margin:10px; color:white;&#x27;&gt;&lt;ul style=&#x27;color:white; list-style-type:circle; align-item:left;padding-left:20px;padding-right:20px&#x27;&gt;&lt;li&gt;Confirmed: 13028&lt;/li&gt;&lt;li&gt;Deaths:   0&lt;/li&gt;&lt;li&gt;Death rate:    0.0&lt;/li&gt;&lt;/ul&gt;&lt;/div&gt;\n",
       "                 &lt;/div&gt;`,\n",
       "                {&quot;sticky&quot;: true}\n",
       "            );\n",
       "        \n",
       "    \n",
       "            var circle_5e00f14bbc07d3f3aa7c618a8f29d6a6 = L.circle(\n",
       "                [53.7609, -98.8139],\n",
       "                {&quot;bubblingMouseEvents&quot;: true, &quot;color&quot;: &quot;red&quot;, &quot;dashArray&quot;: null, &quot;dashOffset&quot;: null, &quot;fill&quot;: true, &quot;fillColor&quot;: &quot;blue&quot;, &quot;fillOpacity&quot;: 0.2, &quot;fillRule&quot;: &quot;evenodd&quot;, &quot;lineCap&quot;: &quot;round&quot;, &quot;lineJoin&quot;: &quot;round&quot;, &quot;opacity&quot;: 1.0, &quot;radius&quot;: 273000.0, &quot;stroke&quot;: true, &quot;weight&quot;: 3}\n",
       "            ).addTo(map_feca7f7996749b669ab93ed1eadabcc9);\n",
       "        \n",
       "    \n",
       "            circle_5e00f14bbc07d3f3aa7c618a8f29d6a6.bindTooltip(\n",
       "                `&lt;div&gt;\n",
       "                     &lt;div style=&#x27;margin:0; background-color:black; color:white;&#x27;&gt;&lt;h4 style=&#x27;text-align:center;front-weight: bold&#x27;&gt;Canada&lt;/h4&gt;&lt;hr style=&#x27;margin:10px; color:white;&#x27;&gt;&lt;ul style=&#x27;color:white; list-style-type:circle; align-item:left;padding-left:20px;padding-right:20px&#x27;&gt;&lt;li&gt;Confirmed: 68286092&lt;/li&gt;&lt;li&gt;Deaths:   1094937&lt;/li&gt;&lt;li&gt;Death rate:    1.6&lt;/li&gt;&lt;/ul&gt;&lt;/div&gt;\n",
       "                 &lt;/div&gt;`,\n",
       "                {&quot;sticky&quot;: true}\n",
       "            );\n",
       "        \n",
       "    \n",
       "            var circle_a0543864a6dabb031f651695d2ac11b4 = L.circle(\n",
       "                [46.5653, -66.4619],\n",
       "                {&quot;bubblingMouseEvents&quot;: true, &quot;color&quot;: &quot;red&quot;, &quot;dashArray&quot;: null, &quot;dashOffset&quot;: null, &quot;fill&quot;: true, &quot;fillColor&quot;: &quot;blue&quot;, &quot;fillOpacity&quot;: 0.2, &quot;fillRule&quot;: &quot;evenodd&quot;, &quot;lineCap&quot;: &quot;round&quot;, &quot;lineJoin&quot;: &quot;round&quot;, &quot;opacity&quot;: 1.0, &quot;radius&quot;: 243000.0, &quot;stroke&quot;: true, &quot;weight&quot;: 3}\n",
       "            ).addTo(map_feca7f7996749b669ab93ed1eadabcc9);\n",
       "        \n",
       "    \n",
       "            circle_a0543864a6dabb031f651695d2ac11b4.bindTooltip(\n",
       "                `&lt;div&gt;\n",
       "                     &lt;div style=&#x27;margin:0; background-color:black; color:white;&#x27;&gt;&lt;h4 style=&#x27;text-align:center;front-weight: bold&#x27;&gt;Canada&lt;/h4&gt;&lt;hr style=&#x27;margin:10px; color:white;&#x27;&gt;&lt;ul style=&#x27;color:white; list-style-type:circle; align-item:left;padding-left:20px;padding-right:20px&#x27;&gt;&lt;li&gt;Confirmed: 22671350&lt;/li&gt;&lt;li&gt;Deaths:   165745&lt;/li&gt;&lt;li&gt;Death rate:    0.73&lt;/li&gt;&lt;/ul&gt;&lt;/div&gt;\n",
       "                 &lt;/div&gt;`,\n",
       "                {&quot;sticky&quot;: true}\n",
       "            );\n",
       "        \n",
       "    \n",
       "            var circle_f9678d0f53972c6d81066e816fbe3ba9 = L.circle(\n",
       "                [53.1355, -57.6604],\n",
       "                {&quot;bubblingMouseEvents&quot;: true, &quot;color&quot;: &quot;red&quot;, &quot;dashArray&quot;: null, &quot;dashOffset&quot;: null, &quot;fill&quot;: true, &quot;fillColor&quot;: &quot;blue&quot;, &quot;fillOpacity&quot;: 0.2, &quot;fillRule&quot;: &quot;evenodd&quot;, &quot;lineCap&quot;: &quot;round&quot;, &quot;lineJoin&quot;: &quot;round&quot;, &quot;opacity&quot;: 1.0, &quot;radius&quot;: 243000.0, &quot;stroke&quot;: true, &quot;weight&quot;: 3}\n",
       "            ).addTo(map_feca7f7996749b669ab93ed1eadabcc9);\n",
       "        \n",
       "    \n",
       "            circle_f9678d0f53972c6d81066e816fbe3ba9.bindTooltip(\n",
       "                `&lt;div&gt;\n",
       "                     &lt;div style=&#x27;margin:0; background-color:black; color:white;&#x27;&gt;&lt;h4 style=&#x27;text-align:center;front-weight: bold&#x27;&gt;Canada&lt;/h4&gt;&lt;hr style=&#x27;margin:10px; color:white;&#x27;&gt;&lt;ul style=&#x27;color:white; list-style-type:circle; align-item:left;padding-left:20px;padding-right:20px&#x27;&gt;&lt;li&gt;Confirmed: 15101224&lt;/li&gt;&lt;li&gt;Deaths:   62968&lt;/li&gt;&lt;li&gt;Death rate:    0.42&lt;/li&gt;&lt;/ul&gt;&lt;/div&gt;\n",
       "                 &lt;/div&gt;`,\n",
       "                {&quot;sticky&quot;: true}\n",
       "            );\n",
       "        \n",
       "    \n",
       "            var circle_e2821c09f91eb37b48ecae9d51e2d09d = L.circle(\n",
       "                [64.8255, -124.8457],\n",
       "                {&quot;bubblingMouseEvents&quot;: true, &quot;color&quot;: &quot;red&quot;, &quot;dashArray&quot;: null, &quot;dashOffset&quot;: null, &quot;fill&quot;: true, &quot;fillColor&quot;: &quot;blue&quot;, &quot;fillOpacity&quot;: 0.2, &quot;fillRule&quot;: &quot;evenodd&quot;, &quot;lineCap&quot;: &quot;round&quot;, &quot;lineJoin&quot;: &quot;round&quot;, &quot;opacity&quot;: 1.0, &quot;radius&quot;: 228000.0, &quot;stroke&quot;: true, &quot;weight&quot;: 3}\n",
       "            ).addTo(map_feca7f7996749b669ab93ed1eadabcc9);\n",
       "        \n",
       "    \n",
       "            circle_e2821c09f91eb37b48ecae9d51e2d09d.bindTooltip(\n",
       "                `&lt;div&gt;\n",
       "                     &lt;div style=&#x27;margin:0; background-color:black; color:white;&#x27;&gt;&lt;h4 style=&#x27;text-align:center;front-weight: bold&#x27;&gt;Canada&lt;/h4&gt;&lt;hr style=&#x27;margin:10px; color:white;&#x27;&gt;&lt;ul style=&#x27;color:white; list-style-type:circle; align-item:left;padding-left:20px;padding-right:20px&#x27;&gt;&lt;li&gt;Confirmed: 3811096&lt;/li&gt;&lt;li&gt;Deaths:   8211&lt;/li&gt;&lt;li&gt;Death rate:    0.22&lt;/li&gt;&lt;/ul&gt;&lt;/div&gt;\n",
       "                 &lt;/div&gt;`,\n",
       "                {&quot;sticky&quot;: true}\n",
       "            );\n",
       "        \n",
       "    \n",
       "            var circle_e408a569eaa370bd0069f2d27cb9fe00 = L.circle(\n",
       "                [44.682, -63.7443],\n",
       "                {&quot;bubblingMouseEvents&quot;: true, &quot;color&quot;: &quot;red&quot;, &quot;dashArray&quot;: null, &quot;dashOffset&quot;: null, &quot;fill&quot;: true, &quot;fillColor&quot;: &quot;blue&quot;, &quot;fillOpacity&quot;: 0.2, &quot;fillRule&quot;: &quot;evenodd&quot;, &quot;lineCap&quot;: &quot;round&quot;, &quot;lineJoin&quot;: &quot;round&quot;, &quot;opacity&quot;: 1.0, &quot;radius&quot;: 258000.0, &quot;stroke&quot;: true, &quot;weight&quot;: 3}\n",
       "            ).addTo(map_feca7f7996749b669ab93ed1eadabcc9);\n",
       "        \n",
       "    \n",
       "            circle_e408a569eaa370bd0069f2d27cb9fe00.bindTooltip(\n",
       "                `&lt;div&gt;\n",
       "                     &lt;div style=&#x27;margin:0; background-color:black; color:white;&#x27;&gt;&lt;h4 style=&#x27;text-align:center;front-weight: bold&#x27;&gt;Canada&lt;/h4&gt;&lt;hr style=&#x27;margin:10px; color:white;&#x27;&gt;&lt;ul style=&#x27;color:white; list-style-type:circle; align-item:left;padding-left:20px;padding-right:20px&#x27;&gt;&lt;li&gt;Confirmed: 34233148&lt;/li&gt;&lt;li&gt;Deaths:   182108&lt;/li&gt;&lt;li&gt;Death rate:    0.53&lt;/li&gt;&lt;/ul&gt;&lt;/div&gt;\n",
       "                 &lt;/div&gt;`,\n",
       "                {&quot;sticky&quot;: true}\n",
       "            );\n",
       "        \n",
       "    \n",
       "            var circle_7385c792415328e73a023f1d5f9cc32b = L.circle(\n",
       "                [70.2998, -83.1076],\n",
       "                {&quot;bubblingMouseEvents&quot;: true, &quot;color&quot;: &quot;red&quot;, &quot;dashArray&quot;: null, &quot;dashOffset&quot;: null, &quot;fill&quot;: true, &quot;fillColor&quot;: &quot;blue&quot;, &quot;fillOpacity&quot;: 0.2, &quot;fillRule&quot;: &quot;evenodd&quot;, &quot;lineCap&quot;: &quot;round&quot;, &quot;lineJoin&quot;: &quot;round&quot;, &quot;opacity&quot;: 1.0, &quot;radius&quot;: 213000.0, &quot;stroke&quot;: true, &quot;weight&quot;: 3}\n",
       "            ).addTo(map_feca7f7996749b669ab93ed1eadabcc9);\n",
       "        \n",
       "    \n",
       "            circle_7385c792415328e73a023f1d5f9cc32b.bindTooltip(\n",
       "                `&lt;div&gt;\n",
       "                     &lt;div style=&#x27;margin:0; background-color:black; color:white;&#x27;&gt;&lt;h4 style=&#x27;text-align:center;front-weight: bold&#x27;&gt;Canada&lt;/h4&gt;&lt;hr style=&#x27;margin:10px; color:white;&#x27;&gt;&lt;ul style=&#x27;color:white; list-style-type:circle; align-item:left;padding-left:20px;padding-right:20px&#x27;&gt;&lt;li&gt;Confirmed: 1324266&lt;/li&gt;&lt;li&gt;Deaths:   3481&lt;/li&gt;&lt;li&gt;Death rate:    0.26&lt;/li&gt;&lt;/ul&gt;&lt;/div&gt;\n",
       "                 &lt;/div&gt;`,\n",
       "                {&quot;sticky&quot;: true}\n",
       "            );\n",
       "        \n",
       "    \n",
       "            var circle_ad03e44f551e8050acf3d6519ef5b898 = L.circle(\n",
       "                [51.2538, -85.3232],\n",
       "                {&quot;bubblingMouseEvents&quot;: true, &quot;color&quot;: &quot;red&quot;, &quot;dashArray&quot;: null, &quot;dashOffset&quot;: null, &quot;fill&quot;: true, &quot;fillColor&quot;: &quot;blue&quot;, &quot;fillOpacity&quot;: 0.2, &quot;fillRule&quot;: &quot;evenodd&quot;, &quot;lineCap&quot;: &quot;round&quot;, &quot;lineJoin&quot;: &quot;round&quot;, &quot;opacity&quot;: 1.0, &quot;radius&quot;: 303000.0, &quot;stroke&quot;: true, &quot;weight&quot;: 3}\n",
       "            ).addTo(map_feca7f7996749b669ab93ed1eadabcc9);\n",
       "        \n",
       "    \n",
       "            circle_ad03e44f551e8050acf3d6519ef5b898.bindTooltip(\n",
       "                `&lt;div&gt;\n",
       "                     &lt;div style=&#x27;margin:0; background-color:black; color:white;&#x27;&gt;&lt;h4 style=&#x27;text-align:center;front-weight: bold&#x27;&gt;Canada&lt;/h4&gt;&lt;hr style=&#x27;margin:10px; color:white;&#x27;&gt;&lt;ul style=&#x27;color:white; list-style-type:circle; align-item:left;padding-left:20px;padding-right:20px&#x27;&gt;&lt;li&gt;Confirmed: 650933334&lt;/li&gt;&lt;li&gt;Deaths:   8475792&lt;/li&gt;&lt;li&gt;Death rate:    1.3&lt;/li&gt;&lt;/ul&gt;&lt;/div&gt;\n",
       "                 &lt;/div&gt;`,\n",
       "                {&quot;sticky&quot;: true}\n",
       "            );\n",
       "        \n",
       "    \n",
       "            var circle_c1a7dc980392ae063d30f2935756184f = L.circle(\n",
       "                [46.5107, -63.4168],\n",
       "                {&quot;bubblingMouseEvents&quot;: true, &quot;color&quot;: &quot;red&quot;, &quot;dashArray&quot;: null, &quot;dashOffset&quot;: null, &quot;fill&quot;: true, &quot;fillColor&quot;: &quot;blue&quot;, &quot;fillOpacity&quot;: 0.2, &quot;fillRule&quot;: &quot;evenodd&quot;, &quot;lineCap&quot;: &quot;round&quot;, &quot;lineJoin&quot;: &quot;round&quot;, &quot;opacity&quot;: 1.0, &quot;radius&quot;: 243000.0, &quot;stroke&quot;: true, &quot;weight&quot;: 3}\n",
       "            ).addTo(map_feca7f7996749b669ab93ed1eadabcc9);\n",
       "        \n",
       "    \n",
       "            circle_c1a7dc980392ae063d30f2935756184f.bindTooltip(\n",
       "                `&lt;div&gt;\n",
       "                     &lt;div style=&#x27;margin:0; background-color:black; color:white;&#x27;&gt;&lt;h4 style=&#x27;text-align:center;front-weight: bold&#x27;&gt;Canada&lt;/h4&gt;&lt;hr style=&#x27;margin:10px; color:white;&#x27;&gt;&lt;ul style=&#x27;color:white; list-style-type:circle; align-item:left;padding-left:20px;padding-right:20px&#x27;&gt;&lt;li&gt;Confirmed: 12775823&lt;/li&gt;&lt;li&gt;Deaths:   13263&lt;/li&gt;&lt;li&gt;Death rate:    0.1&lt;/li&gt;&lt;/ul&gt;&lt;/div&gt;\n",
       "                 &lt;/div&gt;`,\n",
       "                {&quot;sticky&quot;: true}\n",
       "            );\n",
       "        \n",
       "    \n",
       "            var circle_2f7f00e4de377d23532893a2c24ee281 = L.circle(\n",
       "                [52.9399, -73.5491],\n",
       "                {&quot;bubblingMouseEvents&quot;: true, &quot;color&quot;: &quot;red&quot;, &quot;dashArray&quot;: null, &quot;dashOffset&quot;: null, &quot;fill&quot;: true, &quot;fillColor&quot;: &quot;blue&quot;, &quot;fillOpacity&quot;: 0.2, &quot;fillRule&quot;: &quot;evenodd&quot;, &quot;lineCap&quot;: &quot;round&quot;, &quot;lineJoin&quot;: &quot;round&quot;, &quot;opacity&quot;: 1.0, &quot;radius&quot;: 303000.0, &quot;stroke&quot;: true, &quot;weight&quot;: 3}\n",
       "            ).addTo(map_feca7f7996749b669ab93ed1eadabcc9);\n",
       "        \n",
       "    \n",
       "            circle_2f7f00e4de377d23532893a2c24ee281.bindTooltip(\n",
       "                `&lt;div&gt;\n",
       "                     &lt;div style=&#x27;margin:0; background-color:black; color:white;&#x27;&gt;&lt;h4 style=&#x27;text-align:center;front-weight: bold&#x27;&gt;Canada&lt;/h4&gt;&lt;hr style=&#x27;margin:10px; color:white;&#x27;&gt;&lt;ul style=&#x27;color:white; list-style-type:circle; align-item:left;padding-left:20px;padding-right:20px&#x27;&gt;&lt;li&gt;Confirmed: 527500710&lt;/li&gt;&lt;li&gt;Deaths:   10838494&lt;/li&gt;&lt;li&gt;Death rate:    2.05&lt;/li&gt;&lt;/ul&gt;&lt;/div&gt;\n",
       "                 &lt;/div&gt;`,\n",
       "                {&quot;sticky&quot;: true}\n",
       "            );\n",
       "        \n",
       "    \n",
       "            var circle_deb9b597f18889f366c4a8304c9f8ec0 = L.circle(\n",
       "                [52.9399, -106.4509],\n",
       "                {&quot;bubblingMouseEvents&quot;: true, &quot;color&quot;: &quot;red&quot;, &quot;dashArray&quot;: null, &quot;dashOffset&quot;: null, &quot;fill&quot;: true, &quot;fillColor&quot;: &quot;blue&quot;, &quot;fillOpacity&quot;: 0.2, &quot;fillRule&quot;: &quot;evenodd&quot;, &quot;lineCap&quot;: &quot;round&quot;, &quot;lineJoin&quot;: &quot;round&quot;, &quot;opacity&quot;: 1.0, &quot;radius&quot;: 273000.0, &quot;stroke&quot;: true, &quot;weight&quot;: 3}\n",
       "            ).addTo(map_feca7f7996749b669ab93ed1eadabcc9);\n",
       "        \n",
       "    \n",
       "            circle_deb9b597f18889f366c4a8304c9f8ec0.bindTooltip(\n",
       "                `&lt;div&gt;\n",
       "                     &lt;div style=&#x27;margin:0; background-color:black; color:white;&#x27;&gt;&lt;h4 style=&#x27;text-align:center;front-weight: bold&#x27;&gt;Canada&lt;/h4&gt;&lt;hr style=&#x27;margin:10px; color:white;&#x27;&gt;&lt;ul style=&#x27;color:white; list-style-type:circle; align-item:left;padding-left:20px;padding-right:20px&#x27;&gt;&lt;li&gt;Confirmed: 66301813&lt;/li&gt;&lt;li&gt;Deaths:   689978&lt;/li&gt;&lt;li&gt;Death rate:    1.04&lt;/li&gt;&lt;/ul&gt;&lt;/div&gt;\n",
       "                 &lt;/div&gt;`,\n",
       "                {&quot;sticky&quot;: true}\n",
       "            );\n",
       "        \n",
       "    \n",
       "            var circle_7712665d2d92620582bedb2496081c19 = L.circle(\n",
       "                [64.2823, -135.0],\n",
       "                {&quot;bubblingMouseEvents&quot;: true, &quot;color&quot;: &quot;red&quot;, &quot;dashArray&quot;: null, &quot;dashOffset&quot;: null, &quot;fill&quot;: true, &quot;fillColor&quot;: &quot;blue&quot;, &quot;fillOpacity&quot;: 0.2, &quot;fillRule&quot;: &quot;evenodd&quot;, &quot;lineCap&quot;: &quot;round&quot;, &quot;lineJoin&quot;: &quot;round&quot;, &quot;opacity&quot;: 1.0, &quot;radius&quot;: 213000.0, &quot;stroke&quot;: true, &quot;weight&quot;: 3}\n",
       "            ).addTo(map_feca7f7996749b669ab93ed1eadabcc9);\n",
       "        \n",
       "    \n",
       "            circle_7712665d2d92620582bedb2496081c19.bindTooltip(\n",
       "                `&lt;div&gt;\n",
       "                     &lt;div style=&#x27;margin:0; background-color:black; color:white;&#x27;&gt;&lt;h4 style=&#x27;text-align:center;front-weight: bold&#x27;&gt;Canada&lt;/h4&gt;&lt;hr style=&#x27;margin:10px; color:white;&#x27;&gt;&lt;ul style=&#x27;color:white; list-style-type:circle; align-item:left;padding-left:20px;padding-right:20px&#x27;&gt;&lt;li&gt;Confirmed: 1671129&lt;/li&gt;&lt;li&gt;Deaths:   11143&lt;/li&gt;&lt;li&gt;Death rate:    0.67&lt;/li&gt;&lt;/ul&gt;&lt;/div&gt;\n",
       "                 &lt;/div&gt;`,\n",
       "                {&quot;sticky&quot;: true}\n",
       "            );\n",
       "        \n",
       "    \n",
       "            var circle_c6aa94864c20c685622aab6e1d12244a = L.circle(\n",
       "                [6.6111, 20.9394],\n",
       "                {&quot;bubblingMouseEvents&quot;: true, &quot;color&quot;: &quot;red&quot;, &quot;dashArray&quot;: null, &quot;dashOffset&quot;: null, &quot;fill&quot;: true, &quot;fillColor&quot;: &quot;blue&quot;, &quot;fillOpacity&quot;: 0.2, &quot;fillRule&quot;: &quot;evenodd&quot;, &quot;lineCap&quot;: &quot;round&quot;, &quot;lineJoin&quot;: &quot;round&quot;, &quot;opacity&quot;: 1.0, &quot;radius&quot;: 243000.0, &quot;stroke&quot;: true, &quot;weight&quot;: 3}\n",
       "            ).addTo(map_feca7f7996749b669ab93ed1eadabcc9);\n",
       "        \n",
       "    \n",
       "            circle_c6aa94864c20c685622aab6e1d12244a.bindTooltip(\n",
       "                `&lt;div&gt;\n",
       "                     &lt;div style=&#x27;margin:0; background-color:black; color:white;&#x27;&gt;&lt;h4 style=&#x27;text-align:center;front-weight: bold&#x27;&gt;Central African Republic&lt;/h4&gt;&lt;hr style=&#x27;margin:10px; color:white;&#x27;&gt;&lt;ul style=&#x27;color:white; list-style-type:circle; align-item:left;padding-left:20px;padding-right:20px&#x27;&gt;&lt;li&gt;Confirmed: 9037588&lt;/li&gt;&lt;li&gt;Deaths:   83053&lt;/li&gt;&lt;li&gt;Death rate:    0.92&lt;/li&gt;&lt;/ul&gt;&lt;/div&gt;\n",
       "                 &lt;/div&gt;`,\n",
       "                {&quot;sticky&quot;: true}\n",
       "            );\n",
       "        \n",
       "    \n",
       "            var circle_39d2fff85643522774ec65000639a9c6 = L.circle(\n",
       "                [15.4542, 18.7322],\n",
       "                {&quot;bubblingMouseEvents&quot;: true, &quot;color&quot;: &quot;red&quot;, &quot;dashArray&quot;: null, &quot;dashOffset&quot;: null, &quot;fill&quot;: true, &quot;fillColor&quot;: &quot;blue&quot;, &quot;fillOpacity&quot;: 0.2, &quot;fillRule&quot;: &quot;evenodd&quot;, &quot;lineCap&quot;: &quot;round&quot;, &quot;lineJoin&quot;: &quot;round&quot;, &quot;opacity&quot;: 1.0, &quot;radius&quot;: 228000.0, &quot;stroke&quot;: true, &quot;weight&quot;: 3}\n",
       "            ).addTo(map_feca7f7996749b669ab93ed1eadabcc9);\n",
       "        \n",
       "    \n",
       "            circle_39d2fff85643522774ec65000639a9c6.bindTooltip(\n",
       "                `&lt;div&gt;\n",
       "                     &lt;div style=&#x27;margin:0; background-color:black; color:white;&#x27;&gt;&lt;h4 style=&#x27;text-align:center;front-weight: bold&#x27;&gt;Chad&lt;/h4&gt;&lt;hr style=&#x27;margin:10px; color:white;&#x27;&gt;&lt;ul style=&#x27;color:white; list-style-type:circle; align-item:left;padding-left:20px;padding-right:20px&#x27;&gt;&lt;li&gt;Confirmed: 4554470&lt;/li&gt;&lt;li&gt;Deaths:   146073&lt;/li&gt;&lt;li&gt;Death rate:    3.21&lt;/li&gt;&lt;/ul&gt;&lt;/div&gt;\n",
       "                 &lt;/div&gt;`,\n",
       "                {&quot;sticky&quot;: true}\n",
       "            );\n",
       "        \n",
       "    \n",
       "            var circle_884c05fcd63cc715ba4fb26e72e42c52 = L.circle(\n",
       "                [-35.6751, -71.543],\n",
       "                {&quot;bubblingMouseEvents&quot;: true, &quot;color&quot;: &quot;red&quot;, &quot;dashArray&quot;: null, &quot;dashOffset&quot;: null, &quot;fill&quot;: true, &quot;fillColor&quot;: &quot;blue&quot;, &quot;fillOpacity&quot;: 0.2, &quot;fillRule&quot;: &quot;evenodd&quot;, &quot;lineCap&quot;: &quot;round&quot;, &quot;lineJoin&quot;: &quot;round&quot;, &quot;opacity&quot;: 1.0, &quot;radius&quot;: 318000.0, &quot;stroke&quot;: true, &quot;weight&quot;: 3}\n",
       "            ).addTo(map_feca7f7996749b669ab93ed1eadabcc9);\n",
       "        \n",
       "    \n",
       "            circle_884c05fcd63cc715ba4fb26e72e42c52.bindTooltip(\n",
       "                `&lt;div&gt;\n",
       "                     &lt;div style=&#x27;margin:0; background-color:black; color:white;&#x27;&gt;&lt;h4 style=&#x27;text-align:center;front-weight: bold&#x27;&gt;Chile&lt;/h4&gt;&lt;hr style=&#x27;margin:10px; color:white;&#x27;&gt;&lt;ul style=&#x27;color:white; list-style-type:circle; align-item:left;padding-left:20px;padding-right:20px&#x27;&gt;&lt;li&gt;Confirmed: 1919555262&lt;/li&gt;&lt;li&gt;Deaths:   32781099&lt;/li&gt;&lt;li&gt;Death rate:    1.71&lt;/li&gt;&lt;/ul&gt;&lt;/div&gt;\n",
       "                 &lt;/div&gt;`,\n",
       "                {&quot;sticky&quot;: true}\n",
       "            );\n",
       "        \n",
       "    \n",
       "            var circle_eb451d2ec59968cd044e68cf9e0a5da7 = L.circle(\n",
       "                [31.8257, 117.2264],\n",
       "                {&quot;bubblingMouseEvents&quot;: true, &quot;color&quot;: &quot;red&quot;, &quot;dashArray&quot;: null, &quot;dashOffset&quot;: null, &quot;fill&quot;: true, &quot;fillColor&quot;: &quot;blue&quot;, &quot;fillOpacity&quot;: 0.2, &quot;fillRule&quot;: &quot;evenodd&quot;, &quot;lineCap&quot;: &quot;round&quot;, &quot;lineJoin&quot;: &quot;round&quot;, &quot;opacity&quot;: 1.0, &quot;radius&quot;: 198000.0, &quot;stroke&quot;: true, &quot;weight&quot;: 3}\n",
       "            ).addTo(map_feca7f7996749b669ab93ed1eadabcc9);\n",
       "        \n",
       "    \n",
       "            circle_eb451d2ec59968cd044e68cf9e0a5da7.bindTooltip(\n",
       "                `&lt;div&gt;\n",
       "                     &lt;div style=&#x27;margin:0; background-color:black; color:white;&#x27;&gt;&lt;h4 style=&#x27;text-align:center;front-weight: bold&#x27;&gt;China&lt;/h4&gt;&lt;hr style=&#x27;margin:10px; color:white;&#x27;&gt;&lt;ul style=&#x27;color:white; list-style-type:circle; align-item:left;padding-left:20px;padding-right:20px&#x27;&gt;&lt;li&gt;Confirmed: 1135276&lt;/li&gt;&lt;li&gt;Deaths:   6227&lt;/li&gt;&lt;li&gt;Death rate:    0.55&lt;/li&gt;&lt;/ul&gt;&lt;/div&gt;\n",
       "                 &lt;/div&gt;`,\n",
       "                {&quot;sticky&quot;: true}\n",
       "            );\n",
       "        \n",
       "    \n",
       "            var circle_f36432ac7c27b94655756c19d8f24aca = L.circle(\n",
       "                [40.1824, 116.4142],\n",
       "                {&quot;bubblingMouseEvents&quot;: true, &quot;color&quot;: &quot;red&quot;, &quot;dashArray&quot;: null, &quot;dashOffset&quot;: null, &quot;fill&quot;: true, &quot;fillColor&quot;: &quot;blue&quot;, &quot;fillOpacity&quot;: 0.2, &quot;fillRule&quot;: &quot;evenodd&quot;, &quot;lineCap&quot;: &quot;round&quot;, &quot;lineJoin&quot;: &quot;round&quot;, &quot;opacity&quot;: 1.0, &quot;radius&quot;: 213000.0, &quot;stroke&quot;: true, &quot;weight&quot;: 3}\n",
       "            ).addTo(map_feca7f7996749b669ab93ed1eadabcc9);\n",
       "        \n",
       "    \n",
       "            circle_f36432ac7c27b94655756c19d8f24aca.bindTooltip(\n",
       "                `&lt;div&gt;\n",
       "                     &lt;div style=&#x27;margin:0; background-color:black; color:white;&#x27;&gt;&lt;h4 style=&#x27;text-align:center;front-weight: bold&#x27;&gt;China&lt;/h4&gt;&lt;hr style=&#x27;margin:10px; color:white;&#x27;&gt;&lt;ul style=&#x27;color:white; list-style-type:circle; align-item:left;padding-left:20px;padding-right:20px&#x27;&gt;&lt;li&gt;Confirmed: 2029985&lt;/li&gt;&lt;li&gt;Deaths:   9311&lt;/li&gt;&lt;li&gt;Death rate:    0.46&lt;/li&gt;&lt;/ul&gt;&lt;/div&gt;\n",
       "                 &lt;/div&gt;`,\n",
       "                {&quot;sticky&quot;: true}\n",
       "            );\n",
       "        \n",
       "    \n",
       "            var circle_42f5bed23bb421b3a458f0b92fa31274 = L.circle(\n",
       "                [30.0572, 107.874],\n",
       "                {&quot;bubblingMouseEvents&quot;: true, &quot;color&quot;: &quot;red&quot;, &quot;dashArray&quot;: null, &quot;dashOffset&quot;: null, &quot;fill&quot;: true, &quot;fillColor&quot;: &quot;blue&quot;, &quot;fillOpacity&quot;: 0.2, &quot;fillRule&quot;: &quot;evenodd&quot;, &quot;lineCap&quot;: &quot;round&quot;, &quot;lineJoin&quot;: &quot;round&quot;, &quot;opacity&quot;: 1.0, &quot;radius&quot;: 198000.0, &quot;stroke&quot;: true, &quot;weight&quot;: 3}\n",
       "            ).addTo(map_feca7f7996749b669ab93ed1eadabcc9);\n",
       "        \n",
       "    \n",
       "            circle_42f5bed23bb421b3a458f0b92fa31274.bindTooltip(\n",
       "                `&lt;div&gt;\n",
       "                     &lt;div style=&#x27;margin:0; background-color:black; color:white;&#x27;&gt;&lt;h4 style=&#x27;text-align:center;front-weight: bold&#x27;&gt;China&lt;/h4&gt;&lt;hr style=&#x27;margin:10px; color:white;&#x27;&gt;&lt;ul style=&#x27;color:white; list-style-type:circle; align-item:left;padding-left:20px;padding-right:20px&#x27;&gt;&lt;li&gt;Confirmed: 851478&lt;/li&gt;&lt;li&gt;Deaths:   6250&lt;/li&gt;&lt;li&gt;Death rate:    0.73&lt;/li&gt;&lt;/ul&gt;&lt;/div&gt;\n",
       "                 &lt;/div&gt;`,\n",
       "                {&quot;sticky&quot;: true}\n",
       "            );\n",
       "        \n",
       "    \n",
       "            var circle_08f04bf26795c9b6c7dfb23c8658540d = L.circle(\n",
       "                [26.0789, 117.9874],\n",
       "                {&quot;bubblingMouseEvents&quot;: true, &quot;color&quot;: &quot;red&quot;, &quot;dashArray&quot;: null, &quot;dashOffset&quot;: null, &quot;fill&quot;: true, &quot;fillColor&quot;: &quot;blue&quot;, &quot;fillOpacity&quot;: 0.2, &quot;fillRule&quot;: &quot;evenodd&quot;, &quot;lineCap&quot;: &quot;round&quot;, &quot;lineJoin&quot;: &quot;round&quot;, &quot;opacity&quot;: 1.0, &quot;radius&quot;: 213000.0, &quot;stroke&quot;: true, &quot;weight&quot;: 3}\n",
       "            ).addTo(map_feca7f7996749b669ab93ed1eadabcc9);\n",
       "        \n",
       "    \n",
       "            circle_08f04bf26795c9b6c7dfb23c8658540d.bindTooltip(\n",
       "                `&lt;div&gt;\n",
       "                     &lt;div style=&#x27;margin:0; background-color:black; color:white;&#x27;&gt;&lt;h4 style=&#x27;text-align:center;front-weight: bold&#x27;&gt;China&lt;/h4&gt;&lt;hr style=&#x27;margin:10px; color:white;&#x27;&gt;&lt;ul style=&#x27;color:white; list-style-type:circle; align-item:left;padding-left:20px;padding-right:20px&#x27;&gt;&lt;li&gt;Confirmed: 1630182&lt;/li&gt;&lt;li&gt;Deaths:   1029&lt;/li&gt;&lt;li&gt;Death rate:    0.06&lt;/li&gt;&lt;/ul&gt;&lt;/div&gt;\n",
       "                 &lt;/div&gt;`,\n",
       "                {&quot;sticky&quot;: true}\n",
       "            );\n",
       "        \n",
       "    \n",
       "            var circle_50e7271cc895ce25d8c811f57c69999c = L.circle(\n",
       "                [35.7518, 104.2861],\n",
       "                {&quot;bubblingMouseEvents&quot;: true, &quot;color&quot;: &quot;red&quot;, &quot;dashArray&quot;: null, &quot;dashOffset&quot;: null, &quot;fill&quot;: true, &quot;fillColor&quot;: &quot;blue&quot;, &quot;fillOpacity&quot;: 0.2, &quot;fillRule&quot;: &quot;evenodd&quot;, &quot;lineCap&quot;: &quot;round&quot;, &quot;lineJoin&quot;: &quot;round&quot;, &quot;opacity&quot;: 1.0, &quot;radius&quot;: 198000.0, &quot;stroke&quot;: true, &quot;weight&quot;: 3}\n",
       "            ).addTo(map_feca7f7996749b669ab93ed1eadabcc9);\n",
       "        \n",
       "    \n",
       "            circle_50e7271cc895ce25d8c811f57c69999c.bindTooltip(\n",
       "                `&lt;div&gt;\n",
       "                     &lt;div style=&#x27;margin:0; background-color:black; color:white;&#x27;&gt;&lt;h4 style=&#x27;text-align:center;front-weight: bold&#x27;&gt;China&lt;/h4&gt;&lt;hr style=&#x27;margin:10px; color:white;&#x27;&gt;&lt;ul style=&#x27;color:white; list-style-type:circle; align-item:left;padding-left:20px;padding-right:20px&#x27;&gt;&lt;li&gt;Confirmed: 449660&lt;/li&gt;&lt;li&gt;Deaths:   2081&lt;/li&gt;&lt;li&gt;Death rate:    0.46&lt;/li&gt;&lt;/ul&gt;&lt;/div&gt;\n",
       "                 &lt;/div&gt;`,\n",
       "                {&quot;sticky&quot;: true}\n",
       "            );\n",
       "        \n",
       "    \n",
       "            var circle_9997b103eed805fe0fad13aec78418fb = L.circle(\n",
       "                [23.3417, 113.4244],\n",
       "                {&quot;bubblingMouseEvents&quot;: true, &quot;color&quot;: &quot;red&quot;, &quot;dashArray&quot;: null, &quot;dashOffset&quot;: null, &quot;fill&quot;: true, &quot;fillColor&quot;: &quot;blue&quot;, &quot;fillOpacity&quot;: 0.2, &quot;fillRule&quot;: &quot;evenodd&quot;, &quot;lineCap&quot;: &quot;round&quot;, &quot;lineJoin&quot;: &quot;round&quot;, &quot;opacity&quot;: 1.0, &quot;radius&quot;: 228000.0, &quot;stroke&quot;: true, &quot;weight&quot;: 3}\n",
       "            ).addTo(map_feca7f7996749b669ab93ed1eadabcc9);\n",
       "        \n",
       "    \n",
       "            circle_9997b103eed805fe0fad13aec78418fb.bindTooltip(\n",
       "                `&lt;div&gt;\n",
       "                     &lt;div style=&#x27;margin:0; background-color:black; color:white;&#x27;&gt;&lt;h4 style=&#x27;text-align:center;front-weight: bold&#x27;&gt;China&lt;/h4&gt;&lt;hr style=&#x27;margin:10px; color:white;&#x27;&gt;&lt;ul style=&#x27;color:white; list-style-type:circle; align-item:left;padding-left:20px;padding-right:20px&#x27;&gt;&lt;li&gt;Confirmed: 5084602&lt;/li&gt;&lt;li&gt;Deaths:   8233&lt;/li&gt;&lt;li&gt;Death rate:    0.16&lt;/li&gt;&lt;/ul&gt;&lt;/div&gt;\n",
       "                 &lt;/div&gt;`,\n",
       "                {&quot;sticky&quot;: true}\n",
       "            );\n",
       "        \n",
       "    \n",
       "            var circle_ae72ecc29f5aae96edc507b8a5217e73 = L.circle(\n",
       "                [23.8298, 108.7881],\n",
       "                {&quot;bubblingMouseEvents&quot;: true, &quot;color&quot;: &quot;red&quot;, &quot;dashArray&quot;: null, &quot;dashOffset&quot;: null, &quot;fill&quot;: true, &quot;fillColor&quot;: &quot;blue&quot;, &quot;fillOpacity&quot;: 0.2, &quot;fillRule&quot;: &quot;evenodd&quot;, &quot;lineCap&quot;: &quot;round&quot;, &quot;lineJoin&quot;: &quot;round&quot;, &quot;opacity&quot;: 1.0, &quot;radius&quot;: 198000.0, &quot;stroke&quot;: true, &quot;weight&quot;: 3}\n",
       "            ).addTo(map_feca7f7996749b669ab93ed1eadabcc9);\n",
       "        \n",
       "    \n",
       "            circle_ae72ecc29f5aae96edc507b8a5217e73.bindTooltip(\n",
       "                `&lt;div&gt;\n",
       "                     &lt;div style=&#x27;margin:0; background-color:black; color:white;&#x27;&gt;&lt;h4 style=&#x27;text-align:center;front-weight: bold&#x27;&gt;China&lt;/h4&gt;&lt;hr style=&#x27;margin:10px; color:white;&#x27;&gt;&lt;ul style=&#x27;color:white; list-style-type:circle; align-item:left;padding-left:20px;padding-right:20px&#x27;&gt;&lt;li&gt;Confirmed: 803491&lt;/li&gt;&lt;li&gt;Deaths:   2076&lt;/li&gt;&lt;li&gt;Death rate:    0.26&lt;/li&gt;&lt;/ul&gt;&lt;/div&gt;\n",
       "                 &lt;/div&gt;`,\n",
       "                {&quot;sticky&quot;: true}\n",
       "            );\n",
       "        \n",
       "    \n",
       "            var circle_9c6b97d320dc31bdf8e52c3e393fb988 = L.circle(\n",
       "                [26.8154, 106.8748],\n",
       "                {&quot;bubblingMouseEvents&quot;: true, &quot;color&quot;: &quot;red&quot;, &quot;dashArray&quot;: null, &quot;dashOffset&quot;: null, &quot;fill&quot;: true, &quot;fillColor&quot;: &quot;blue&quot;, &quot;fillOpacity&quot;: 0.2, &quot;fillRule&quot;: &quot;evenodd&quot;, &quot;lineCap&quot;: &quot;round&quot;, &quot;lineJoin&quot;: &quot;round&quot;, &quot;opacity&quot;: 1.0, &quot;radius&quot;: 183000.0, &quot;stroke&quot;: true, &quot;weight&quot;: 3}\n",
       "            ).addTo(map_feca7f7996749b669ab93ed1eadabcc9);\n",
       "        \n",
       "    \n",
       "            circle_9c6b97d320dc31bdf8e52c3e393fb988.bindTooltip(\n",
       "                `&lt;div&gt;\n",
       "                     &lt;div style=&#x27;margin:0; background-color:black; color:white;&#x27;&gt;&lt;h4 style=&#x27;text-align:center;front-weight: bold&#x27;&gt;China&lt;/h4&gt;&lt;hr style=&#x27;margin:10px; color:white;&#x27;&gt;&lt;ul style=&#x27;color:white; list-style-type:circle; align-item:left;padding-left:20px;padding-right:20px&#x27;&gt;&lt;li&gt;Confirmed: 239448&lt;/li&gt;&lt;li&gt;Deaths:   2075&lt;/li&gt;&lt;li&gt;Death rate:    0.87&lt;/li&gt;&lt;/ul&gt;&lt;/div&gt;\n",
       "                 &lt;/div&gt;`,\n",
       "                {&quot;sticky&quot;: true}\n",
       "            );\n",
       "        \n",
       "    \n",
       "            var circle_8b277d5288af9ea1a66896353048d80b = L.circle(\n",
       "                [19.1959, 109.7453],\n",
       "                {&quot;bubblingMouseEvents&quot;: true, &quot;color&quot;: &quot;red&quot;, &quot;dashArray&quot;: null, &quot;dashOffset&quot;: null, &quot;fill&quot;: true, &quot;fillColor&quot;: &quot;blue&quot;, &quot;fillOpacity&quot;: 0.2, &quot;fillRule&quot;: &quot;evenodd&quot;, &quot;lineCap&quot;: &quot;round&quot;, &quot;lineJoin&quot;: &quot;round&quot;, &quot;opacity&quot;: 1.0, &quot;radius&quot;: 213000.0, &quot;stroke&quot;: true, &quot;weight&quot;: 3}\n",
       "            ).addTo(map_feca7f7996749b669ab93ed1eadabcc9);\n",
       "        \n",
       "    \n",
       "            circle_8b277d5288af9ea1a66896353048d80b.bindTooltip(\n",
       "                `&lt;div&gt;\n",
       "                     &lt;div style=&#x27;margin:0; background-color:black; color:white;&#x27;&gt;&lt;h4 style=&#x27;text-align:center;front-weight: bold&#x27;&gt;China&lt;/h4&gt;&lt;hr style=&#x27;margin:10px; color:white;&#x27;&gt;&lt;ul style=&#x27;color:white; list-style-type:circle; align-item:left;padding-left:20px;padding-right:20px&#x27;&gt;&lt;li&gt;Confirmed: 1278779&lt;/li&gt;&lt;li&gt;Deaths:   6213&lt;/li&gt;&lt;li&gt;Death rate:    0.49&lt;/li&gt;&lt;/ul&gt;&lt;/div&gt;\n",
       "                 &lt;/div&gt;`,\n",
       "                {&quot;sticky&quot;: true}\n",
       "            );\n",
       "        \n",
       "    \n",
       "            var circle_2408a878f3eee5756833d2d72f3ed1c2 = L.circle(\n",
       "                [39.549, 116.1306],\n",
       "                {&quot;bubblingMouseEvents&quot;: true, &quot;color&quot;: &quot;red&quot;, &quot;dashArray&quot;: null, &quot;dashOffset&quot;: null, &quot;fill&quot;: true, &quot;fillColor&quot;: &quot;blue&quot;, &quot;fillOpacity&quot;: 0.2, &quot;fillRule&quot;: &quot;evenodd&quot;, &quot;lineCap&quot;: &quot;round&quot;, &quot;lineJoin&quot;: &quot;round&quot;, &quot;opacity&quot;: 1.0, &quot;radius&quot;: 213000.0, &quot;stroke&quot;: true, &quot;weight&quot;: 3}\n",
       "            ).addTo(map_feca7f7996749b669ab93ed1eadabcc9);\n",
       "        \n",
       "    \n",
       "            circle_2408a878f3eee5756833d2d72f3ed1c2.bindTooltip(\n",
       "                `&lt;div&gt;\n",
       "                     &lt;div style=&#x27;margin:0; background-color:black; color:white;&#x27;&gt;&lt;h4 style=&#x27;text-align:center;front-weight: bold&#x27;&gt;China&lt;/h4&gt;&lt;hr style=&#x27;margin:10px; color:white;&#x27;&gt;&lt;ul style=&#x27;color:white; list-style-type:circle; align-item:left;padding-left:20px;padding-right:20px&#x27;&gt;&lt;li&gt;Confirmed: 1264307&lt;/li&gt;&lt;li&gt;Deaths:   6921&lt;/li&gt;&lt;li&gt;Death rate:    0.55&lt;/li&gt;&lt;/ul&gt;&lt;/div&gt;\n",
       "                 &lt;/div&gt;`,\n",
       "                {&quot;sticky&quot;: true}\n",
       "            );\n",
       "        \n",
       "    \n",
       "            var circle_2b95418c1b74c5b50ce01869dc2dfcc0 = L.circle(\n",
       "                [47.862, 127.7615],\n",
       "                {&quot;bubblingMouseEvents&quot;: true, &quot;color&quot;: &quot;red&quot;, &quot;dashArray&quot;: null, &quot;dashOffset&quot;: null, &quot;fill&quot;: true, &quot;fillColor&quot;: &quot;blue&quot;, &quot;fillOpacity&quot;: 0.2, &quot;fillRule&quot;: &quot;evenodd&quot;, &quot;lineCap&quot;: &quot;round&quot;, &quot;lineJoin&quot;: &quot;round&quot;, &quot;opacity&quot;: 1.0, &quot;radius&quot;: 213000.0, &quot;stroke&quot;: true, &quot;weight&quot;: 3}\n",
       "            ).addTo(map_feca7f7996749b669ab93ed1eadabcc9);\n",
       "        \n",
       "    \n",
       "            circle_2b95418c1b74c5b50ce01869dc2dfcc0.bindTooltip(\n",
       "                `&lt;div&gt;\n",
       "                     &lt;div style=&#x27;margin:0; background-color:black; color:white;&#x27;&gt;&lt;h4 style=&#x27;text-align:center;front-weight: bold&#x27;&gt;China&lt;/h4&gt;&lt;hr style=&#x27;margin:10px; color:white;&#x27;&gt;&lt;ul style=&#x27;color:white; list-style-type:circle; align-item:left;padding-left:20px;padding-right:20px&#x27;&gt;&lt;li&gt;Confirmed: 1909292&lt;/li&gt;&lt;li&gt;Deaths:   13506&lt;/li&gt;&lt;li&gt;Death rate:    0.71&lt;/li&gt;&lt;/ul&gt;&lt;/div&gt;\n",
       "                 &lt;/div&gt;`,\n",
       "                {&quot;sticky&quot;: true}\n",
       "            );\n",
       "        \n",
       "    \n",
       "            var circle_febdd1c34278089086e412e45a80d958 = L.circle(\n",
       "                [37.8957, 114.9042],\n",
       "                {&quot;bubblingMouseEvents&quot;: true, &quot;color&quot;: &quot;red&quot;, &quot;dashArray&quot;: null, &quot;dashOffset&quot;: null, &quot;fill&quot;: true, &quot;fillColor&quot;: &quot;blue&quot;, &quot;fillOpacity&quot;: 0.2, &quot;fillRule&quot;: &quot;evenodd&quot;, &quot;lineCap&quot;: &quot;round&quot;, &quot;lineJoin&quot;: &quot;round&quot;, &quot;opacity&quot;: 1.0, &quot;radius&quot;: 213000.0, &quot;stroke&quot;: true, &quot;weight&quot;: 3}\n",
       "            ).addTo(map_feca7f7996749b669ab93ed1eadabcc9);\n",
       "        \n",
       "    \n",
       "            circle_febdd1c34278089086e412e45a80d958.bindTooltip(\n",
       "                `&lt;div&gt;\n",
       "                     &lt;div style=&#x27;margin:0; background-color:black; color:white;&#x27;&gt;&lt;h4 style=&#x27;text-align:center;front-weight: bold&#x27;&gt;China&lt;/h4&gt;&lt;hr style=&#x27;margin:10px; color:white;&#x27;&gt;&lt;ul style=&#x27;color:white; list-style-type:circle; align-item:left;padding-left:20px;padding-right:20px&#x27;&gt;&lt;li&gt;Confirmed: 2124189&lt;/li&gt;&lt;li&gt;Deaths:   22792&lt;/li&gt;&lt;li&gt;Death rate:    1.07&lt;/li&gt;&lt;/ul&gt;&lt;/div&gt;\n",
       "                 &lt;/div&gt;`,\n",
       "                {&quot;sticky&quot;: true}\n",
       "            );\n",
       "        \n",
       "    \n",
       "            var circle_188ee576c48525c52b648f0fb2243efe = L.circle(\n",
       "                [22.3, 114.2],\n",
       "                {&quot;bubblingMouseEvents&quot;: true, &quot;color&quot;: &quot;red&quot;, &quot;dashArray&quot;: null, &quot;dashOffset&quot;: null, &quot;fill&quot;: true, &quot;fillColor&quot;: &quot;blue&quot;, &quot;fillOpacity&quot;: 0.2, &quot;fillRule&quot;: &quot;evenodd&quot;, &quot;lineCap&quot;: &quot;round&quot;, &quot;lineJoin&quot;: &quot;round&quot;, &quot;opacity&quot;: 1.0, &quot;radius&quot;: 288000.0, &quot;stroke&quot;: true, &quot;weight&quot;: 3}\n",
       "            ).addTo(map_feca7f7996749b669ab93ed1eadabcc9);\n",
       "        \n",
       "    \n",
       "            circle_188ee576c48525c52b648f0fb2243efe.bindTooltip(\n",
       "                `&lt;div&gt;\n",
       "                     &lt;div style=&#x27;margin:0; background-color:black; color:white;&#x27;&gt;&lt;h4 style=&#x27;text-align:center;front-weight: bold&#x27;&gt;China&lt;/h4&gt;&lt;hr style=&#x27;margin:10px; color:white;&#x27;&gt;&lt;ul style=&#x27;color:white; list-style-type:circle; align-item:left;padding-left:20px;padding-right:20px&#x27;&gt;&lt;li&gt;Confirmed: 428182587&lt;/li&gt;&lt;li&gt;Deaths:   2763888&lt;/li&gt;&lt;li&gt;Death rate:    0.65&lt;/li&gt;&lt;/ul&gt;&lt;/div&gt;\n",
       "                 &lt;/div&gt;`,\n",
       "                {&quot;sticky&quot;: true}\n",
       "            );\n",
       "        \n",
       "    \n",
       "            var circle_aaf711faa7a3c12d90c22d31b7a482a0 = L.circle(\n",
       "                [30.9756, 112.2707],\n",
       "                {&quot;bubblingMouseEvents&quot;: true, &quot;color&quot;: &quot;red&quot;, &quot;dashArray&quot;: null, &quot;dashOffset&quot;: null, &quot;fill&quot;: true, &quot;fillColor&quot;: &quot;blue&quot;, &quot;fillOpacity&quot;: 0.2, &quot;fillRule&quot;: &quot;evenodd&quot;, &quot;lineCap&quot;: &quot;round&quot;, &quot;lineJoin&quot;: &quot;round&quot;, &quot;opacity&quot;: 1.0, &quot;radius&quot;: 273000.0, &quot;stroke&quot;: true, &quot;weight&quot;: 3}\n",
       "            ).addTo(map_feca7f7996749b669ab93ed1eadabcc9);\n",
       "        \n",
       "    \n",
       "            circle_aaf711faa7a3c12d90c22d31b7a482a0.bindTooltip(\n",
       "                `&lt;div&gt;\n",
       "                     &lt;div style=&#x27;margin:0; background-color:black; color:white;&#x27;&gt;&lt;h4 style=&#x27;text-align:center;front-weight: bold&#x27;&gt;China&lt;/h4&gt;&lt;hr style=&#x27;margin:10px; color:white;&#x27;&gt;&lt;ul style=&#x27;color:white; list-style-type:circle; align-item:left;padding-left:20px;padding-right:20px&#x27;&gt;&lt;li&gt;Confirmed: 70877413&lt;/li&gt;&lt;li&gt;Deaths:   4577372&lt;/li&gt;&lt;li&gt;Death rate:    6.46&lt;/li&gt;&lt;/ul&gt;&lt;/div&gt;\n",
       "                 &lt;/div&gt;`,\n",
       "                {&quot;sticky&quot;: true}\n",
       "            );\n",
       "        \n",
       "    \n",
       "            var circle_42bd5674d6be684181cbe9c8363c0247 = L.circle(\n",
       "                [27.6104, 111.7088],\n",
       "                {&quot;bubblingMouseEvents&quot;: true, &quot;color&quot;: &quot;red&quot;, &quot;dashArray&quot;: null, &quot;dashOffset&quot;: null, &quot;fill&quot;: true, &quot;fillColor&quot;: &quot;blue&quot;, &quot;fillOpacity&quot;: 0.2, &quot;fillRule&quot;: &quot;evenodd&quot;, &quot;lineCap&quot;: &quot;round&quot;, &quot;lineJoin&quot;: &quot;round&quot;, &quot;opacity&quot;: 1.0, &quot;radius&quot;: 213000.0, &quot;stroke&quot;: true, &quot;weight&quot;: 3}\n",
       "            ).addTo(map_feca7f7996749b669ab93ed1eadabcc9);\n",
       "        \n",
       "    \n",
       "            circle_42bd5674d6be684181cbe9c8363c0247.bindTooltip(\n",
       "                `&lt;div&gt;\n",
       "                     &lt;div style=&#x27;margin:0; background-color:black; color:white;&#x27;&gt;&lt;h4 style=&#x27;text-align:center;front-weight: bold&#x27;&gt;China&lt;/h4&gt;&lt;hr style=&#x27;margin:10px; color:white;&#x27;&gt;&lt;ul style=&#x27;color:white; list-style-type:circle; align-item:left;padding-left:20px;padding-right:20px&#x27;&gt;&lt;li&gt;Confirmed: 1247115&lt;/li&gt;&lt;li&gt;Deaths:   4142&lt;/li&gt;&lt;li&gt;Death rate:    0.33&lt;/li&gt;&lt;/ul&gt;&lt;/div&gt;\n",
       "                 &lt;/div&gt;`,\n",
       "                {&quot;sticky&quot;: true}\n",
       "            );\n",
       "        \n",
       "    \n",
       "            var circle_adec37b0e55d28631eeeb4a60693ff89 = L.circle(\n",
       "                [44.0935, 113.9448],\n",
       "                {&quot;bubblingMouseEvents&quot;: true, &quot;color&quot;: &quot;red&quot;, &quot;dashArray&quot;: null, &quot;dashOffset&quot;: null, &quot;fill&quot;: true, &quot;fillColor&quot;: &quot;blue&quot;, &quot;fillOpacity&quot;: 0.2, &quot;fillRule&quot;: &quot;evenodd&quot;, &quot;lineCap&quot;: &quot;round&quot;, &quot;lineJoin&quot;: &quot;round&quot;, &quot;opacity&quot;: 1.0, &quot;radius&quot;: 198000.0, &quot;stroke&quot;: true, &quot;weight&quot;: 3}\n",
       "            ).addTo(map_feca7f7996749b669ab93ed1eadabcc9);\n",
       "        \n",
       "    \n",
       "            circle_adec37b0e55d28631eeeb4a60693ff89.bindTooltip(\n",
       "                `&lt;div&gt;\n",
       "                     &lt;div style=&#x27;margin:0; background-color:black; color:white;&#x27;&gt;&lt;h4 style=&#x27;text-align:center;front-weight: bold&#x27;&gt;China&lt;/h4&gt;&lt;hr style=&#x27;margin:10px; color:white;&#x27;&gt;&lt;ul style=&#x27;color:white; list-style-type:circle; align-item:left;padding-left:20px;padding-right:20px&#x27;&gt;&lt;li&gt;Confirmed: 1177845&lt;/li&gt;&lt;li&gt;Deaths:   1017&lt;/li&gt;&lt;li&gt;Death rate:    0.09&lt;/li&gt;&lt;/ul&gt;&lt;/div&gt;\n",
       "                 &lt;/div&gt;`,\n",
       "                {&quot;sticky&quot;: true}\n",
       "            );\n",
       "        \n",
       "    \n",
       "            var circle_25a4a303fbd3d46defbfe394468a396c = L.circle(\n",
       "                [32.9711, 119.455],\n",
       "                {&quot;bubblingMouseEvents&quot;: true, &quot;color&quot;: &quot;red&quot;, &quot;dashArray&quot;: null, &quot;dashOffset&quot;: null, &quot;fill&quot;: true, &quot;fillColor&quot;: &quot;blue&quot;, &quot;fillOpacity&quot;: 0.2, &quot;fillRule&quot;: &quot;evenodd&quot;, &quot;lineCap&quot;: &quot;round&quot;, &quot;lineJoin&quot;: &quot;round&quot;, &quot;opacity&quot;: 1.0, &quot;radius&quot;: 213000.0, &quot;stroke&quot;: true, &quot;weight&quot;: 3}\n",
       "            ).addTo(map_feca7f7996749b669ab93ed1eadabcc9);\n",
       "        \n",
       "    \n",
       "            circle_25a4a303fbd3d46defbfe394468a396c.bindTooltip(\n",
       "                `&lt;div&gt;\n",
       "                     &lt;div style=&#x27;margin:0; background-color:black; color:white;&#x27;&gt;&lt;h4 style=&#x27;text-align:center;front-weight: bold&#x27;&gt;China&lt;/h4&gt;&lt;hr style=&#x27;margin:10px; color:white;&#x27;&gt;&lt;ul style=&#x27;color:white; list-style-type:circle; align-item:left;padding-left:20px;padding-right:20px&#x27;&gt;&lt;li&gt;Confirmed: 1404255&lt;/li&gt;&lt;li&gt;Deaths:   0&lt;/li&gt;&lt;li&gt;Death rate:    0.0&lt;/li&gt;&lt;/ul&gt;&lt;/div&gt;\n",
       "                 &lt;/div&gt;`,\n",
       "                {&quot;sticky&quot;: true}\n",
       "            );\n",
       "        \n",
       "    \n",
       "            var circle_888be8a1e15213c3bee16c60c4eef30b = L.circle(\n",
       "                [27.614, 115.7221],\n",
       "                {&quot;bubblingMouseEvents&quot;: true, &quot;color&quot;: &quot;red&quot;, &quot;dashArray&quot;: null, &quot;dashOffset&quot;: null, &quot;fill&quot;: true, &quot;fillColor&quot;: &quot;blue&quot;, &quot;fillOpacity&quot;: 0.2, &quot;fillRule&quot;: &quot;evenodd&quot;, &quot;lineCap&quot;: &quot;round&quot;, &quot;lineJoin&quot;: &quot;round&quot;, &quot;opacity&quot;: 1.0, &quot;radius&quot;: 198000.0, &quot;stroke&quot;: true, &quot;weight&quot;: 3}\n",
       "            ).addTo(map_feca7f7996749b669ab93ed1eadabcc9);\n",
       "        \n",
       "    \n",
       "            circle_888be8a1e15213c3bee16c60c4eef30b.bindTooltip(\n",
       "                `&lt;div&gt;\n",
       "                     &lt;div style=&#x27;margin:0; background-color:black; color:white;&#x27;&gt;&lt;h4 style=&#x27;text-align:center;front-weight: bold&#x27;&gt;China&lt;/h4&gt;&lt;hr style=&#x27;margin:10px; color:white;&#x27;&gt;&lt;ul style=&#x27;color:white; list-style-type:circle; align-item:left;padding-left:20px;padding-right:20px&#x27;&gt;&lt;li&gt;Confirmed: 1105309&lt;/li&gt;&lt;li&gt;Deaths:   1039&lt;/li&gt;&lt;li&gt;Death rate:    0.09&lt;/li&gt;&lt;/ul&gt;&lt;/div&gt;\n",
       "                 &lt;/div&gt;`,\n",
       "                {&quot;sticky&quot;: true}\n",
       "            );\n",
       "        \n",
       "    \n",
       "            var circle_84b7e3a590b7c37bcb769dd1b5d5f97e = L.circle(\n",
       "                [43.6661, 126.1923],\n",
       "                {&quot;bubblingMouseEvents&quot;: true, &quot;color&quot;: &quot;red&quot;, &quot;dashArray&quot;: null, &quot;dashOffset&quot;: null, &quot;fill&quot;: true, &quot;fillColor&quot;: &quot;blue&quot;, &quot;fillOpacity&quot;: 0.2, &quot;fillRule&quot;: &quot;evenodd&quot;, &quot;lineCap&quot;: &quot;round&quot;, &quot;lineJoin&quot;: &quot;round&quot;, &quot;opacity&quot;: 1.0, &quot;radius&quot;: 243000.0, &quot;stroke&quot;: true, &quot;weight&quot;: 3}\n",
       "            ).addTo(map_feca7f7996749b669ab93ed1eadabcc9);\n",
       "        \n",
       "    \n",
       "            circle_84b7e3a590b7c37bcb769dd1b5d5f97e.bindTooltip(\n",
       "                `&lt;div&gt;\n",
       "                     &lt;div style=&#x27;margin:0; background-color:black; color:white;&#x27;&gt;&lt;h4 style=&#x27;text-align:center;front-weight: bold&#x27;&gt;China&lt;/h4&gt;&lt;hr style=&#x27;margin:10px; color:white;&#x27;&gt;&lt;ul style=&#x27;color:white; list-style-type:circle; align-item:left;padding-left:20px;padding-right:20px&#x27;&gt;&lt;li&gt;Confirmed: 10962848&lt;/li&gt;&lt;li&gt;Deaths:   3216&lt;/li&gt;&lt;li&gt;Death rate:    0.03&lt;/li&gt;&lt;/ul&gt;&lt;/div&gt;\n",
       "                 &lt;/div&gt;`,\n",
       "                {&quot;sticky&quot;: true}\n",
       "            );\n",
       "        \n",
       "    \n",
       "            var circle_22cc4e113ec3db3faff8141f8b3d2790 = L.circle(\n",
       "                [41.2956, 122.6085],\n",
       "                {&quot;bubblingMouseEvents&quot;: true, &quot;color&quot;: &quot;red&quot;, &quot;dashArray&quot;: null, &quot;dashOffset&quot;: null, &quot;fill&quot;: true, &quot;fillColor&quot;: &quot;blue&quot;, &quot;fillOpacity&quot;: 0.2, &quot;fillRule&quot;: &quot;evenodd&quot;, &quot;lineCap&quot;: &quot;round&quot;, &quot;lineJoin&quot;: &quot;round&quot;, &quot;opacity&quot;: 1.0, &quot;radius&quot;: 198000.0, &quot;stroke&quot;: true, &quot;weight&quot;: 3}\n",
       "            ).addTo(map_feca7f7996749b669ab93ed1eadabcc9);\n",
       "        \n",
       "    \n",
       "            circle_22cc4e113ec3db3faff8141f8b3d2790.bindTooltip(\n",
       "                `&lt;div&gt;\n",
       "                     &lt;div style=&#x27;margin:0; background-color:black; color:white;&#x27;&gt;&lt;h4 style=&#x27;text-align:center;front-weight: bold&#x27;&gt;China&lt;/h4&gt;&lt;hr style=&#x27;margin:10px; color:white;&#x27;&gt;&lt;ul style=&#x27;color:white; list-style-type:circle; align-item:left;padding-left:20px;padding-right:20px&#x27;&gt;&lt;li&gt;Confirmed: 812365&lt;/li&gt;&lt;li&gt;Deaths:   2037&lt;/li&gt;&lt;li&gt;Death rate:    0.25&lt;/li&gt;&lt;/ul&gt;&lt;/div&gt;\n",
       "                 &lt;/div&gt;`,\n",
       "                {&quot;sticky&quot;: true}\n",
       "            );\n",
       "        \n",
       "    \n",
       "            var circle_21640cb7a027d7ad4cb8499785f16a82 = L.circle(\n",
       "                [22.1667, 113.55],\n",
       "                {&quot;bubblingMouseEvents&quot;: true, &quot;color&quot;: &quot;red&quot;, &quot;dashArray&quot;: null, &quot;dashOffset&quot;: null, &quot;fill&quot;: true, &quot;fillColor&quot;: &quot;blue&quot;, &quot;fillOpacity&quot;: 0.2, &quot;fillRule&quot;: &quot;evenodd&quot;, &quot;lineCap&quot;: &quot;round&quot;, &quot;lineJoin&quot;: &quot;round&quot;, &quot;opacity&quot;: 1.0, &quot;radius&quot;: 183000.0, &quot;stroke&quot;: true, &quot;weight&quot;: 3}\n",
       "            ).addTo(map_feca7f7996749b669ab93ed1eadabcc9);\n",
       "        \n",
       "    \n",
       "            circle_21640cb7a027d7ad4cb8499785f16a82.bindTooltip(\n",
       "                `&lt;div&gt;\n",
       "                     &lt;div style=&#x27;margin:0; background-color:black; color:white;&#x27;&gt;&lt;h4 style=&#x27;text-align:center;front-weight: bold&#x27;&gt;China&lt;/h4&gt;&lt;hr style=&#x27;margin:10px; color:white;&#x27;&gt;&lt;ul style=&#x27;color:white; list-style-type:circle; align-item:left;padding-left:20px;padding-right:20px&#x27;&gt;&lt;li&gt;Confirmed: 180327&lt;/li&gt;&lt;li&gt;Deaths:   941&lt;/li&gt;&lt;li&gt;Death rate:    0.52&lt;/li&gt;&lt;/ul&gt;&lt;/div&gt;\n",
       "                 &lt;/div&gt;`,\n",
       "                {&quot;sticky&quot;: true}\n",
       "            );\n",
       "        \n",
       "    \n",
       "            var circle_fdde946dd1d8ba74c6bc7dd9f1a5dae7 = L.circle(\n",
       "                [37.2692, 106.1655],\n",
       "                {&quot;bubblingMouseEvents&quot;: true, &quot;color&quot;: &quot;red&quot;, &quot;dashArray&quot;: null, &quot;dashOffset&quot;: null, &quot;fill&quot;: true, &quot;fillColor&quot;: &quot;blue&quot;, &quot;fillOpacity&quot;: 0.2, &quot;fillRule&quot;: &quot;evenodd&quot;, &quot;lineCap&quot;: &quot;round&quot;, &quot;lineJoin&quot;: &quot;round&quot;, &quot;opacity&quot;: 1.0, &quot;radius&quot;: 168000.0, &quot;stroke&quot;: true, &quot;weight&quot;: 3}\n",
       "            ).addTo(map_feca7f7996749b669ab93ed1eadabcc9);\n",
       "        \n",
       "    \n",
       "            circle_fdde946dd1d8ba74c6bc7dd9f1a5dae7.bindTooltip(\n",
       "                `&lt;div&gt;\n",
       "                     &lt;div style=&#x27;margin:0; background-color:black; color:white;&#x27;&gt;&lt;h4 style=&#x27;text-align:center;front-weight: bold&#x27;&gt;China&lt;/h4&gt;&lt;hr style=&#x27;margin:10px; color:white;&#x27;&gt;&lt;ul style=&#x27;color:white; list-style-type:circle; align-item:left;padding-left:20px;padding-right:20px&#x27;&gt;&lt;li&gt;Confirmed: 105087&lt;/li&gt;&lt;li&gt;Deaths:   0&lt;/li&gt;&lt;li&gt;Death rate:    0.0&lt;/li&gt;&lt;/ul&gt;&lt;/div&gt;\n",
       "                 &lt;/div&gt;`,\n",
       "                {&quot;sticky&quot;: true}\n",
       "            );\n",
       "        \n",
       "    \n",
       "            var circle_41fdccef74e2f7ef1b27fd134b7479b4 = L.circle(\n",
       "                [35.7452, 95.9956],\n",
       "                {&quot;bubblingMouseEvents&quot;: true, &quot;color&quot;: &quot;red&quot;, &quot;dashArray&quot;: null, &quot;dashOffset&quot;: null, &quot;fill&quot;: true, &quot;fillColor&quot;: &quot;blue&quot;, &quot;fillOpacity&quot;: 0.2, &quot;fillRule&quot;: &quot;evenodd&quot;, &quot;lineCap&quot;: &quot;round&quot;, &quot;lineJoin&quot;: &quot;round&quot;, &quot;opacity&quot;: 1.0, &quot;radius&quot;: 168000.0, &quot;stroke&quot;: true, &quot;weight&quot;: 3}\n",
       "            ).addTo(map_feca7f7996749b669ab93ed1eadabcc9);\n",
       "        \n",
       "    \n",
       "            circle_41fdccef74e2f7ef1b27fd134b7479b4.bindTooltip(\n",
       "                `&lt;div&gt;\n",
       "                     &lt;div style=&#x27;margin:0; background-color:black; color:white;&#x27;&gt;&lt;h4 style=&#x27;text-align:center;front-weight: bold&#x27;&gt;China&lt;/h4&gt;&lt;hr style=&#x27;margin:10px; color:white;&#x27;&gt;&lt;ul style=&#x27;color:white; list-style-type:circle; align-item:left;padding-left:20px;padding-right:20px&#x27;&gt;&lt;li&gt;Confirmed: 67368&lt;/li&gt;&lt;li&gt;Deaths:   0&lt;/li&gt;&lt;li&gt;Death rate:    0.0&lt;/li&gt;&lt;/ul&gt;&lt;/div&gt;\n",
       "                 &lt;/div&gt;`,\n",
       "                {&quot;sticky&quot;: true}\n",
       "            );\n",
       "        \n",
       "    \n",
       "            var circle_09e49aac6e6a220477cf7363c967a9d9 = L.circle(\n",
       "                [35.1917, 108.8701],\n",
       "                {&quot;bubblingMouseEvents&quot;: true, &quot;color&quot;: &quot;red&quot;, &quot;dashArray&quot;: null, &quot;dashOffset&quot;: null, &quot;fill&quot;: true, &quot;fillColor&quot;: &quot;blue&quot;, &quot;fillOpacity&quot;: 0.2, &quot;fillRule&quot;: &quot;evenodd&quot;, &quot;lineCap&quot;: &quot;round&quot;, &quot;lineJoin&quot;: &quot;round&quot;, &quot;opacity&quot;: 1.0, &quot;radius&quot;: 213000.0, &quot;stroke&quot;: true, &quot;weight&quot;: 3}\n",
       "            ).addTo(map_feca7f7996749b669ab93ed1eadabcc9);\n",
       "        \n",
       "    \n",
       "            circle_09e49aac6e6a220477cf7363c967a9d9.bindTooltip(\n",
       "                `&lt;div&gt;\n",
       "                     &lt;div style=&#x27;margin:0; background-color:black; color:white;&#x27;&gt;&lt;h4 style=&#x27;text-align:center;front-weight: bold&#x27;&gt;China&lt;/h4&gt;&lt;hr style=&#x27;margin:10px; color:white;&#x27;&gt;&lt;ul style=&#x27;color:white; list-style-type:circle; align-item:left;padding-left:20px;padding-right:20px&#x27;&gt;&lt;li&gt;Confirmed: 1565881&lt;/li&gt;&lt;li&gt;Deaths:   3040&lt;/li&gt;&lt;li&gt;Death rate:    0.19&lt;/li&gt;&lt;/ul&gt;&lt;/div&gt;\n",
       "                 &lt;/div&gt;`,\n",
       "                {&quot;sticky&quot;: true}\n",
       "            );\n",
       "        \n",
       "    \n",
       "            var circle_74e0d37793e2d0acbed42ee1278db494 = L.circle(\n",
       "                [36.3427, 118.1498],\n",
       "                {&quot;bubblingMouseEvents&quot;: true, &quot;color&quot;: &quot;red&quot;, &quot;dashArray&quot;: null, &quot;dashOffset&quot;: null, &quot;fill&quot;: true, &quot;fillColor&quot;: &quot;blue&quot;, &quot;fillOpacity&quot;: 0.2, &quot;fillRule&quot;: &quot;evenodd&quot;, &quot;lineCap&quot;: &quot;round&quot;, &quot;lineJoin&quot;: &quot;round&quot;, &quot;opacity&quot;: 1.0, &quot;radius&quot;: 213000.0, &quot;stroke&quot;: true, &quot;weight&quot;: 3}\n",
       "            ).addTo(map_feca7f7996749b669ab93ed1eadabcc9);\n",
       "        \n",
       "    \n",
       "            circle_74e0d37793e2d0acbed42ee1278db494.bindTooltip(\n",
       "                `&lt;div&gt;\n",
       "                     &lt;div style=&#x27;margin:0; background-color:black; color:white;&#x27;&gt;&lt;h4 style=&#x27;text-align:center;front-weight: bold&#x27;&gt;China&lt;/h4&gt;&lt;hr style=&#x27;margin:10px; color:white;&#x27;&gt;&lt;ul style=&#x27;color:white; list-style-type:circle; align-item:left;padding-left:20px;padding-right:20px&#x27;&gt;&lt;li&gt;Confirmed: 1499778&lt;/li&gt;&lt;li&gt;Deaths:   7204&lt;/li&gt;&lt;li&gt;Death rate:    0.48&lt;/li&gt;&lt;/ul&gt;&lt;/div&gt;\n",
       "                 &lt;/div&gt;`,\n",
       "                {&quot;sticky&quot;: true}\n",
       "            );\n",
       "        \n",
       "    \n",
       "            var circle_c1d07f3002d41aa932813a95682424e2 = L.circle(\n",
       "                [31.202, 121.4491],\n",
       "                {&quot;bubblingMouseEvents&quot;: true, &quot;color&quot;: &quot;red&quot;, &quot;dashArray&quot;: null, &quot;dashOffset&quot;: null, &quot;fill&quot;: true, &quot;fillColor&quot;: &quot;blue&quot;, &quot;fillOpacity&quot;: 0.2, &quot;fillRule&quot;: &quot;evenodd&quot;, &quot;lineCap&quot;: &quot;round&quot;, &quot;lineJoin&quot;: &quot;round&quot;, &quot;opacity&quot;: 1.0, &quot;radius&quot;: 243000.0, &quot;stroke&quot;: true, &quot;weight&quot;: 3}\n",
       "            ).addTo(map_feca7f7996749b669ab93ed1eadabcc9);\n",
       "        \n",
       "    \n",
       "            circle_c1d07f3002d41aa932813a95682424e2.bindTooltip(\n",
       "                `&lt;div&gt;\n",
       "                     &lt;div style=&#x27;margin:0; background-color:black; color:white;&#x27;&gt;&lt;h4 style=&#x27;text-align:center;front-weight: bold&#x27;&gt;China&lt;/h4&gt;&lt;hr style=&#x27;margin:10px; color:white;&#x27;&gt;&lt;ul style=&#x27;color:white; list-style-type:circle; align-item:left;padding-left:20px;padding-right:20px&#x27;&gt;&lt;li&gt;Confirmed: 16781521&lt;/li&gt;&lt;li&gt;Deaths:   142079&lt;/li&gt;&lt;li&gt;Death rate:    0.85&lt;/li&gt;&lt;/ul&gt;&lt;/div&gt;\n",
       "                 &lt;/div&gt;`,\n",
       "                {&quot;sticky&quot;: true}\n",
       "            );\n",
       "        \n",
       "    \n",
       "            var circle_ad15aa1c418822b88b29514dd00b8dbd = L.circle(\n",
       "                [37.5777, 112.2922],\n",
       "                {&quot;bubblingMouseEvents&quot;: true, &quot;color&quot;: &quot;red&quot;, &quot;dashArray&quot;: null, &quot;dashOffset&quot;: null, &quot;fill&quot;: true, &quot;fillColor&quot;: &quot;blue&quot;, &quot;fillOpacity&quot;: 0.2, &quot;fillRule&quot;: &quot;evenodd&quot;, &quot;lineCap&quot;: &quot;round&quot;, &quot;lineJoin&quot;: &quot;round&quot;, &quot;opacity&quot;: 1.0, &quot;radius&quot;: 183000.0, &quot;stroke&quot;: true, &quot;weight&quot;: 3}\n",
       "            ).addTo(map_feca7f7996749b669ab93ed1eadabcc9);\n",
       "        \n",
       "    \n",
       "            circle_ad15aa1c418822b88b29514dd00b8dbd.bindTooltip(\n",
       "                `&lt;div&gt;\n",
       "                     &lt;div style=&#x27;margin:0; background-color:black; color:white;&#x27;&gt;&lt;h4 style=&#x27;text-align:center;front-weight: bold&#x27;&gt;China&lt;/h4&gt;&lt;hr style=&#x27;margin:10px; color:white;&#x27;&gt;&lt;ul style=&#x27;color:white; list-style-type:circle; align-item:left;padding-left:20px;padding-right:20px&#x27;&gt;&lt;li&gt;Confirmed: 418509&lt;/li&gt;&lt;li&gt;Deaths:   0&lt;/li&gt;&lt;li&gt;Death rate:    0.0&lt;/li&gt;&lt;/ul&gt;&lt;/div&gt;\n",
       "                 &lt;/div&gt;`,\n",
       "                {&quot;sticky&quot;: true}\n",
       "            );\n",
       "        \n",
       "    \n",
       "            var circle_eb4acfae53f251a36c6590b0ce93250e = L.circle(\n",
       "                [30.6171, 102.7103],\n",
       "                {&quot;bubblingMouseEvents&quot;: true, &quot;color&quot;: &quot;red&quot;, &quot;dashArray&quot;: null, &quot;dashOffset&quot;: null, &quot;fill&quot;: true, &quot;fillColor&quot;: &quot;blue&quot;, &quot;fillOpacity&quot;: 0.2, &quot;fillRule&quot;: &quot;evenodd&quot;, &quot;lineCap&quot;: &quot;round&quot;, &quot;lineJoin&quot;: &quot;round&quot;, &quot;opacity&quot;: 1.0, &quot;radius&quot;: 213000.0, &quot;stroke&quot;: true, &quot;weight&quot;: 3}\n",
       "            ).addTo(map_feca7f7996749b669ab93ed1eadabcc9);\n",
       "        \n",
       "    \n",
       "            circle_eb4acfae53f251a36c6590b0ce93250e.bindTooltip(\n",
       "                `&lt;div&gt;\n",
       "                     &lt;div style=&#x27;margin:0; background-color:black; color:white;&#x27;&gt;&lt;h4 style=&#x27;text-align:center;front-weight: bold&#x27;&gt;China&lt;/h4&gt;&lt;hr style=&#x27;margin:10px; color:white;&#x27;&gt;&lt;ul style=&#x27;color:white; list-style-type:circle; align-item:left;padding-left:20px;padding-right:20px&#x27;&gt;&lt;li&gt;Confirmed: 1806323&lt;/li&gt;&lt;li&gt;Deaths:   3152&lt;/li&gt;&lt;li&gt;Death rate:    0.17&lt;/li&gt;&lt;/ul&gt;&lt;/div&gt;\n",
       "                 &lt;/div&gt;`,\n",
       "                {&quot;sticky&quot;: true}\n",
       "            );\n",
       "        \n",
       "    \n",
       "            var circle_b40b72b9c8f948cd7f539e1c2124ceaf = L.circle(\n",
       "                [39.3054, 117.323],\n",
       "                {&quot;bubblingMouseEvents&quot;: true, &quot;color&quot;: &quot;red&quot;, &quot;dashArray&quot;: null, &quot;dashOffset&quot;: null, &quot;fill&quot;: true, &quot;fillColor&quot;: &quot;blue&quot;, &quot;fillOpacity&quot;: 0.2, &quot;fillRule&quot;: &quot;evenodd&quot;, &quot;lineCap&quot;: &quot;round&quot;, &quot;lineJoin&quot;: &quot;round&quot;, &quot;opacity&quot;: 1.0, &quot;radius&quot;: 198000.0, &quot;stroke&quot;: true, &quot;weight&quot;: 3}\n",
       "            ).addTo(map_feca7f7996749b669ab93ed1eadabcc9);\n",
       "        \n",
       "    \n",
       "            circle_b40b72b9c8f948cd7f539e1c2124ceaf.bindTooltip(\n",
       "                `&lt;div&gt;\n",
       "                     &lt;div style=&#x27;margin:0; background-color:black; color:white;&#x27;&gt;&lt;h4 style=&#x27;text-align:center;front-weight: bold&#x27;&gt;China&lt;/h4&gt;&lt;hr style=&#x27;margin:10px; color:white;&#x27;&gt;&lt;ul style=&#x27;color:white; list-style-type:circle; align-item:left;padding-left:20px;padding-right:20px&#x27;&gt;&lt;li&gt;Confirmed: 885366&lt;/li&gt;&lt;li&gt;Deaths:   3118&lt;/li&gt;&lt;li&gt;Death rate:    0.35&lt;/li&gt;&lt;/ul&gt;&lt;/div&gt;\n",
       "                 &lt;/div&gt;`,\n",
       "                {&quot;sticky&quot;: true}\n",
       "            );\n",
       "        \n",
       "    \n",
       "            var circle_7c3a032ba9b1080b62125b6cc6b4ecc3 = L.circle(\n",
       "                [31.6927, 88.0924],\n",
       "                {&quot;bubblingMouseEvents&quot;: true, &quot;color&quot;: &quot;red&quot;, &quot;dashArray&quot;: null, &quot;dashOffset&quot;: null, &quot;fill&quot;: true, &quot;fillColor&quot;: &quot;blue&quot;, &quot;fillOpacity&quot;: 0.2, &quot;fillRule&quot;: &quot;evenodd&quot;, &quot;lineCap&quot;: &quot;round&quot;, &quot;lineJoin&quot;: &quot;round&quot;, &quot;opacity&quot;: 1.0, &quot;radius&quot;: 168000.0, &quot;stroke&quot;: true, &quot;weight&quot;: 3}\n",
       "            ).addTo(map_feca7f7996749b669ab93ed1eadabcc9);\n",
       "        \n",
       "    \n",
       "            circle_7c3a032ba9b1080b62125b6cc6b4ecc3.bindTooltip(\n",
       "                `&lt;div&gt;\n",
       "                     &lt;div style=&#x27;margin:0; background-color:black; color:white;&#x27;&gt;&lt;h4 style=&#x27;text-align:center;front-weight: bold&#x27;&gt;China&lt;/h4&gt;&lt;hr style=&#x27;margin:10px; color:white;&#x27;&gt;&lt;ul style=&#x27;color:white; list-style-type:circle; align-item:left;padding-left:20px;padding-right:20px&#x27;&gt;&lt;li&gt;Confirmed: 154789&lt;/li&gt;&lt;li&gt;Deaths:   0&lt;/li&gt;&lt;li&gt;Death rate:    0.0&lt;/li&gt;&lt;/ul&gt;&lt;/div&gt;\n",
       "                 &lt;/div&gt;`,\n",
       "                {&quot;sticky&quot;: true}\n",
       "            );\n",
       "        \n",
       "    \n",
       "            var circle_093bde08dbdfccdeb69c0e3eee457bf6 = L.circle(\n",
       "                [41.1129, 85.2401],\n",
       "                {&quot;bubblingMouseEvents&quot;: true, &quot;color&quot;: &quot;red&quot;, &quot;dashArray&quot;: null, &quot;dashOffset&quot;: null, &quot;fill&quot;: true, &quot;fillColor&quot;: &quot;blue&quot;, &quot;fillOpacity&quot;: 0.2, &quot;fillRule&quot;: &quot;evenodd&quot;, &quot;lineCap&quot;: &quot;round&quot;, &quot;lineJoin&quot;: &quot;round&quot;, &quot;opacity&quot;: 1.0, &quot;radius&quot;: 198000.0, &quot;stroke&quot;: true, &quot;weight&quot;: 3}\n",
       "            ).addTo(map_feca7f7996749b669ab93ed1eadabcc9);\n",
       "        \n",
       "    \n",
       "            circle_093bde08dbdfccdeb69c0e3eee457bf6.bindTooltip(\n",
       "                `&lt;div&gt;\n",
       "                     &lt;div style=&#x27;margin:0; background-color:black; color:white;&#x27;&gt;&lt;h4 style=&#x27;text-align:center;front-weight: bold&#x27;&gt;China&lt;/h4&gt;&lt;hr style=&#x27;margin:10px; color:white;&#x27;&gt;&lt;ul style=&#x27;color:white; list-style-type:circle; align-item:left;padding-left:20px;padding-right:20px&#x27;&gt;&lt;li&gt;Confirmed: 944232&lt;/li&gt;&lt;li&gt;Deaths:   3084&lt;/li&gt;&lt;li&gt;Death rate:    0.33&lt;/li&gt;&lt;/ul&gt;&lt;/div&gt;\n",
       "                 &lt;/div&gt;`,\n",
       "                {&quot;sticky&quot;: true}\n",
       "            );\n",
       "        \n",
       "    \n",
       "            var circle_9bedc5bb622a6306d35524e9ec0b6603 = L.circle(\n",
       "                [24.974, 101.487],\n",
       "                {&quot;bubblingMouseEvents&quot;: true, &quot;color&quot;: &quot;red&quot;, &quot;dashArray&quot;: null, &quot;dashOffset&quot;: null, &quot;fill&quot;: true, &quot;fillColor&quot;: &quot;blue&quot;, &quot;fillOpacity&quot;: 0.2, &quot;fillRule&quot;: &quot;evenodd&quot;, &quot;lineCap&quot;: &quot;round&quot;, &quot;lineJoin&quot;: &quot;round&quot;, &quot;opacity&quot;: 1.0, &quot;radius&quot;: 198000.0, &quot;stroke&quot;: true, &quot;weight&quot;: 3}\n",
       "            ).addTo(map_feca7f7996749b669ab93ed1eadabcc9);\n",
       "        \n",
       "    \n",
       "            circle_9bedc5bb622a6306d35524e9ec0b6603.bindTooltip(\n",
       "                `&lt;div&gt;\n",
       "                     &lt;div style=&#x27;margin:0; background-color:black; color:white;&#x27;&gt;&lt;h4 style=&#x27;text-align:center;front-weight: bold&#x27;&gt;China&lt;/h4&gt;&lt;hr style=&#x27;margin:10px; color:white;&#x27;&gt;&lt;ul style=&#x27;color:white; list-style-type:circle; align-item:left;padding-left:20px;padding-right:20px&#x27;&gt;&lt;li&gt;Confirmed: 1170968&lt;/li&gt;&lt;li&gt;Deaths:   2059&lt;/li&gt;&lt;li&gt;Death rate:    0.18&lt;/li&gt;&lt;/ul&gt;&lt;/div&gt;\n",
       "                 &lt;/div&gt;`,\n",
       "                {&quot;sticky&quot;: true}\n",
       "            );\n",
       "        \n",
       "    \n",
       "            var circle_56bcb8ec72d6f6e848e40b44533b39d2 = L.circle(\n",
       "                [29.1832, 120.0934],\n",
       "                {&quot;bubblingMouseEvents&quot;: true, &quot;color&quot;: &quot;red&quot;, &quot;dashArray&quot;: null, &quot;dashOffset&quot;: null, &quot;fill&quot;: true, &quot;fillColor&quot;: &quot;blue&quot;, &quot;fillOpacity&quot;: 0.2, &quot;fillRule&quot;: &quot;evenodd&quot;, &quot;lineCap&quot;: &quot;round&quot;, &quot;lineJoin&quot;: &quot;round&quot;, &quot;opacity&quot;: 1.0, &quot;radius&quot;: 213000.0, &quot;stroke&quot;: true, &quot;weight&quot;: 3}\n",
       "            ).addTo(map_feca7f7996749b669ab93ed1eadabcc9);\n",
       "        \n",
       "    \n",
       "            circle_56bcb8ec72d6f6e848e40b44533b39d2.bindTooltip(\n",
       "                `&lt;div&gt;\n",
       "                     &lt;div style=&#x27;margin:0; background-color:black; color:white;&#x27;&gt;&lt;h4 style=&#x27;text-align:center;front-weight: bold&#x27;&gt;China&lt;/h4&gt;&lt;hr style=&#x27;margin:10px; color:white;&#x27;&gt;&lt;ul style=&#x27;color:white; list-style-type:circle; align-item:left;padding-left:20px;padding-right:20px&#x27;&gt;&lt;li&gt;Confirmed: 2020565&lt;/li&gt;&lt;li&gt;Deaths:   1029&lt;/li&gt;&lt;li&gt;Death rate:    0.05&lt;/li&gt;&lt;/ul&gt;&lt;/div&gt;\n",
       "                 &lt;/div&gt;`,\n",
       "                {&quot;sticky&quot;: true}\n",
       "            );\n",
       "        \n",
       "    \n",
       "            var circle_f745e97acf8a26c10b46f1a18031158f = L.circle(\n",
       "                [4.5709, -74.2973],\n",
       "                {&quot;bubblingMouseEvents&quot;: true, &quot;color&quot;: &quot;red&quot;, &quot;dashArray&quot;: null, &quot;dashOffset&quot;: null, &quot;fill&quot;: true, &quot;fillColor&quot;: &quot;blue&quot;, &quot;fillOpacity&quot;: 0.2, &quot;fillRule&quot;: &quot;evenodd&quot;, &quot;lineCap&quot;: &quot;round&quot;, &quot;lineJoin&quot;: &quot;round&quot;, &quot;opacity&quot;: 1.0, &quot;radius&quot;: 333000.0, &quot;stroke&quot;: true, &quot;weight&quot;: 3}\n",
       "            ).addTo(map_feca7f7996749b669ab93ed1eadabcc9);\n",
       "        \n",
       "    \n",
       "            circle_f745e97acf8a26c10b46f1a18031158f.bindTooltip(\n",
       "                `&lt;div&gt;\n",
       "                     &lt;div style=&#x27;margin:0; background-color:black; color:white;&#x27;&gt;&lt;h4 style=&#x27;text-align:center;front-weight: bold&#x27;&gt;Colombia&lt;/h4&gt;&lt;hr style=&#x27;margin:10px; color:white;&#x27;&gt;&lt;ul style=&#x27;color:white; list-style-type:circle; align-item:left;padding-left:20px;padding-right:20px&#x27;&gt;&lt;li&gt;Confirmed: 3675361025&lt;/li&gt;&lt;li&gt;Deaths:   88592013&lt;/li&gt;&lt;li&gt;Death rate:    2.41&lt;/li&gt;&lt;/ul&gt;&lt;/div&gt;\n",
       "                 &lt;/div&gt;`,\n",
       "                {&quot;sticky&quot;: true}\n",
       "            );\n",
       "        \n",
       "    \n",
       "            var circle_2ca849ebefabac43ddb52106f73751af = L.circle(\n",
       "                [-11.6455, 43.3333],\n",
       "                {&quot;bubblingMouseEvents&quot;: true, &quot;color&quot;: &quot;red&quot;, &quot;dashArray&quot;: null, &quot;dashOffset&quot;: null, &quot;fill&quot;: true, &quot;fillColor&quot;: &quot;blue&quot;, &quot;fillOpacity&quot;: 0.2, &quot;fillRule&quot;: &quot;evenodd&quot;, &quot;lineCap&quot;: &quot;round&quot;, &quot;lineJoin&quot;: &quot;round&quot;, &quot;opacity&quot;: 1.0, &quot;radius&quot;: 228000.0, &quot;stroke&quot;: true, &quot;weight&quot;: 3}\n",
       "            ).addTo(map_feca7f7996749b669ab93ed1eadabcc9);\n",
       "        \n",
       "    \n",
       "            circle_2ca849ebefabac43ddb52106f73751af.bindTooltip(\n",
       "                `&lt;div&gt;\n",
       "                     &lt;div style=&#x27;margin:0; background-color:black; color:white;&#x27;&gt;&lt;h4 style=&#x27;text-align:center;front-weight: bold&#x27;&gt;Comoros&lt;/h4&gt;&lt;hr style=&#x27;margin:10px; color:white;&#x27;&gt;&lt;ul style=&#x27;color:white; list-style-type:circle; align-item:left;padding-left:20px;padding-right:20px&#x27;&gt;&lt;li&gt;Confirmed: 4365035&lt;/li&gt;&lt;li&gt;Deaths:   107196&lt;/li&gt;&lt;li&gt;Death rate:    2.46&lt;/li&gt;&lt;/ul&gt;&lt;/div&gt;\n",
       "                 &lt;/div&gt;`,\n",
       "                {&quot;sticky&quot;: true}\n",
       "            );\n",
       "        \n",
       "    \n",
       "            var circle_a74af5a303effccb4c822518737ef84a = L.circle(\n",
       "                [-0.228, 15.8277],\n",
       "                {&quot;bubblingMouseEvents&quot;: true, &quot;color&quot;: &quot;red&quot;, &quot;dashArray&quot;: null, &quot;dashOffset&quot;: null, &quot;fill&quot;: true, &quot;fillColor&quot;: &quot;blue&quot;, &quot;fillOpacity&quot;: 0.2, &quot;fillRule&quot;: &quot;evenodd&quot;, &quot;lineCap&quot;: &quot;round&quot;, &quot;lineJoin&quot;: &quot;round&quot;, &quot;opacity&quot;: 1.0, &quot;radius&quot;: 243000.0, &quot;stroke&quot;: true, &quot;weight&quot;: 3}\n",
       "            ).addTo(map_feca7f7996749b669ab93ed1eadabcc9);\n",
       "        \n",
       "    \n",
       "            circle_a74af5a303effccb4c822518737ef84a.bindTooltip(\n",
       "                `&lt;div&gt;\n",
       "                     &lt;div style=&#x27;margin:0; background-color:black; color:white;&#x27;&gt;&lt;h4 style=&#x27;text-align:center;front-weight: bold&#x27;&gt;Congo (Brazzaville)&lt;/h4&gt;&lt;hr style=&#x27;margin:10px; color:white;&#x27;&gt;&lt;ul style=&#x27;color:white; list-style-type:circle; align-item:left;padding-left:20px;padding-right:20px&#x27;&gt;&lt;li&gt;Confirmed: 14002001&lt;/li&gt;&lt;li&gt;Deaths:   218682&lt;/li&gt;&lt;li&gt;Death rate:    1.56&lt;/li&gt;&lt;/ul&gt;&lt;/div&gt;\n",
       "                 &lt;/div&gt;`,\n",
       "                {&quot;sticky&quot;: true}\n",
       "            );\n",
       "        \n",
       "    \n",
       "            var circle_e683a461c1dcacf3ba77dec475ac9424 = L.circle(\n",
       "                [-4.0383, 21.7587],\n",
       "                {&quot;bubblingMouseEvents&quot;: true, &quot;color&quot;: &quot;red&quot;, &quot;dashArray&quot;: null, &quot;dashOffset&quot;: null, &quot;fill&quot;: true, &quot;fillColor&quot;: &quot;blue&quot;, &quot;fillOpacity&quot;: 0.2, &quot;fillRule&quot;: &quot;evenodd&quot;, &quot;lineCap&quot;: &quot;round&quot;, &quot;lineJoin&quot;: &quot;round&quot;, &quot;opacity&quot;: 1.0, &quot;radius&quot;: 258000.0, &quot;stroke&quot;: true, &quot;weight&quot;: 3}\n",
       "            ).addTo(map_feca7f7996749b669ab93ed1eadabcc9);\n",
       "        \n",
       "    \n",
       "            circle_e683a461c1dcacf3ba77dec475ac9424.bindTooltip(\n",
       "                `&lt;div&gt;\n",
       "                     &lt;div style=&#x27;margin:0; background-color:black; color:white;&#x27;&gt;&lt;h4 style=&#x27;text-align:center;front-weight: bold&#x27;&gt;Congo (Kinshasa)&lt;/h4&gt;&lt;hr style=&#x27;margin:10px; color:white;&#x27;&gt;&lt;ul style=&#x27;color:white; list-style-type:circle; align-item:left;padding-left:20px;padding-right:20px&#x27;&gt;&lt;li&gt;Confirmed: 48691726&lt;/li&gt;&lt;li&gt;Deaths:   865791&lt;/li&gt;&lt;li&gt;Death rate:    1.78&lt;/li&gt;&lt;/ul&gt;&lt;/div&gt;\n",
       "                 &lt;/div&gt;`,\n",
       "                {&quot;sticky&quot;: true}\n",
       "            );\n",
       "        \n",
       "    \n",
       "            var circle_0869654af4d0faf0178dfb255680da63 = L.circle(\n",
       "                [9.7489, -83.7534],\n",
       "                {&quot;bubblingMouseEvents&quot;: true, &quot;color&quot;: &quot;red&quot;, &quot;dashArray&quot;: null, &quot;dashOffset&quot;: null, &quot;fill&quot;: true, &quot;fillColor&quot;: &quot;blue&quot;, &quot;fillOpacity&quot;: 0.2, &quot;fillRule&quot;: &quot;evenodd&quot;, &quot;lineCap&quot;: &quot;round&quot;, &quot;lineJoin&quot;: &quot;round&quot;, &quot;opacity&quot;: 1.0, &quot;radius&quot;: 288000.0, &quot;stroke&quot;: true, &quot;weight&quot;: 3}\n",
       "            ).addTo(map_feca7f7996749b669ab93ed1eadabcc9);\n",
       "        \n",
       "    \n",
       "            circle_0869654af4d0faf0178dfb255680da63.bindTooltip(\n",
       "                `&lt;div&gt;\n",
       "                     &lt;div style=&#x27;margin:0; background-color:black; color:white;&#x27;&gt;&lt;h4 style=&#x27;text-align:center;front-weight: bold&#x27;&gt;Costa Rica&lt;/h4&gt;&lt;hr style=&#x27;margin:10px; color:white;&#x27;&gt;&lt;ul style=&#x27;color:white; list-style-type:circle; align-item:left;padding-left:20px;padding-right:20px&#x27;&gt;&lt;li&gt;Confirmed: 476770522&lt;/li&gt;&lt;li&gt;Deaths:   4848071&lt;/li&gt;&lt;li&gt;Death rate:    1.02&lt;/li&gt;&lt;/ul&gt;&lt;/div&gt;\n",
       "                 &lt;/div&gt;`,\n",
       "                {&quot;sticky&quot;: true}\n",
       "            );\n",
       "        \n",
       "    \n",
       "            var circle_6569220e23f7889dacf5dd719cdd3959 = L.circle(\n",
       "                [7.54, -5.5471],\n",
       "                {&quot;bubblingMouseEvents&quot;: true, &quot;color&quot;: &quot;red&quot;, &quot;dashArray&quot;: null, &quot;dashOffset&quot;: null, &quot;fill&quot;: true, &quot;fillColor&quot;: &quot;blue&quot;, &quot;fillOpacity&quot;: 0.2, &quot;fillRule&quot;: &quot;evenodd&quot;, &quot;lineCap&quot;: &quot;round&quot;, &quot;lineJoin&quot;: &quot;round&quot;, &quot;opacity&quot;: 1.0, &quot;radius&quot;: 258000.0, &quot;stroke&quot;: true, &quot;weight&quot;: 3}\n",
       "            ).addTo(map_feca7f7996749b669ab93ed1eadabcc9);\n",
       "        \n",
       "    \n",
       "            circle_6569220e23f7889dacf5dd719cdd3959.bindTooltip(\n",
       "                `&lt;div&gt;\n",
       "                     &lt;div style=&#x27;margin:0; background-color:black; color:white;&#x27;&gt;&lt;h4 style=&#x27;text-align:center;front-weight: bold&#x27;&gt;Cote d&#x27;Ivoire&lt;/h4&gt;&lt;hr style=&#x27;margin:10px; color:white;&#x27;&gt;&lt;ul style=&#x27;color:white; list-style-type:circle; align-item:left;padding-left:20px;padding-right:20px&#x27;&gt;&lt;li&gt;Confirmed: 50559142&lt;/li&gt;&lt;li&gt;Deaths:   447637&lt;/li&gt;&lt;li&gt;Death rate:    0.89&lt;/li&gt;&lt;/ul&gt;&lt;/div&gt;\n",
       "                 &lt;/div&gt;`,\n",
       "                {&quot;sticky&quot;: true}\n",
       "            );\n",
       "        \n",
       "    \n",
       "            var circle_7ae5adb14f108924919e6291f71c521b = L.circle(\n",
       "                [45.1, 15.2],\n",
       "                {&quot;bubblingMouseEvents&quot;: true, &quot;color&quot;: &quot;red&quot;, &quot;dashArray&quot;: null, &quot;dashOffset&quot;: null, &quot;fill&quot;: true, &quot;fillColor&quot;: &quot;blue&quot;, &quot;fillOpacity&quot;: 0.2, &quot;fillRule&quot;: &quot;evenodd&quot;, &quot;lineCap&quot;: &quot;round&quot;, &quot;lineJoin&quot;: &quot;round&quot;, &quot;opacity&quot;: 1.0, &quot;radius&quot;: 303000.0, &quot;stroke&quot;: true, &quot;weight&quot;: 3}\n",
       "            ).addTo(map_feca7f7996749b669ab93ed1eadabcc9);\n",
       "        \n",
       "    \n",
       "            circle_7ae5adb14f108924919e6291f71c521b.bindTooltip(\n",
       "                `&lt;div&gt;\n",
       "                     &lt;div style=&#x27;margin:0; background-color:black; color:white;&#x27;&gt;&lt;h4 style=&#x27;text-align:center;front-weight: bold&#x27;&gt;Croatia&lt;/h4&gt;&lt;hr style=&#x27;margin:10px; color:white;&#x27;&gt;&lt;ul style=&#x27;color:white; list-style-type:circle; align-item:left;padding-left:20px;padding-right:20px&#x27;&gt;&lt;li&gt;Confirmed: 540078092&lt;/li&gt;&lt;li&gt;Deaths:   8551984&lt;/li&gt;&lt;li&gt;Death rate:    1.58&lt;/li&gt;&lt;/ul&gt;&lt;/div&gt;\n",
       "                 &lt;/div&gt;`,\n",
       "                {&quot;sticky&quot;: true}\n",
       "            );\n",
       "        \n",
       "    \n",
       "            var circle_480319cd19f719135a8389aa92faf762 = L.circle(\n",
       "                [21.521757, -77.781167],\n",
       "                {&quot;bubblingMouseEvents&quot;: true, &quot;color&quot;: &quot;red&quot;, &quot;dashArray&quot;: null, &quot;dashOffset&quot;: null, &quot;fill&quot;: true, &quot;fillColor&quot;: &quot;blue&quot;, &quot;fillOpacity&quot;: 0.2, &quot;fillRule&quot;: &quot;evenodd&quot;, &quot;lineCap&quot;: &quot;round&quot;, &quot;lineJoin&quot;: &quot;round&quot;, &quot;opacity&quot;: 1.0, &quot;radius&quot;: 303000.0, &quot;stroke&quot;: true, &quot;weight&quot;: 3}\n",
       "            ).addTo(map_feca7f7996749b669ab93ed1eadabcc9);\n",
       "        \n",
       "    \n",
       "            circle_480319cd19f719135a8389aa92faf762.bindTooltip(\n",
       "                `&lt;div&gt;\n",
       "                     &lt;div style=&#x27;margin:0; background-color:black; color:white;&#x27;&gt;&lt;h4 style=&#x27;text-align:center;front-weight: bold&#x27;&gt;Cuba&lt;/h4&gt;&lt;hr style=&#x27;margin:10px; color:white;&#x27;&gt;&lt;ul style=&#x27;color:white; list-style-type:circle; align-item:left;padding-left:20px;padding-right:20px&#x27;&gt;&lt;li&gt;Confirmed: 531648563&lt;/li&gt;&lt;li&gt;Deaths:   4217271&lt;/li&gt;&lt;li&gt;Death rate:    0.79&lt;/li&gt;&lt;/ul&gt;&lt;/div&gt;\n",
       "                 &lt;/div&gt;`,\n",
       "                {&quot;sticky&quot;: true}\n",
       "            );\n",
       "        \n",
       "    \n",
       "            var circle_0d0455c17b70ebb46d27eb3867be3681 = L.circle(\n",
       "                [35.1264, 33.4299],\n",
       "                {&quot;bubblingMouseEvents&quot;: true, &quot;color&quot;: &quot;red&quot;, &quot;dashArray&quot;: null, &quot;dashOffset&quot;: null, &quot;fill&quot;: true, &quot;fillColor&quot;: &quot;blue&quot;, &quot;fillOpacity&quot;: 0.2, &quot;fillRule&quot;: &quot;evenodd&quot;, &quot;lineCap&quot;: &quot;round&quot;, &quot;lineJoin&quot;: &quot;round&quot;, &quot;opacity&quot;: 1.0, &quot;radius&quot;: 288000.0, &quot;stroke&quot;: true, &quot;weight&quot;: 3}\n",
       "            ).addTo(map_feca7f7996749b669ab93ed1eadabcc9);\n",
       "        \n",
       "    \n",
       "            circle_0d0455c17b70ebb46d27eb3867be3681.bindTooltip(\n",
       "                `&lt;div&gt;\n",
       "                     &lt;div style=&#x27;margin:0; background-color:black; color:white;&#x27;&gt;&lt;h4 style=&#x27;text-align:center;front-weight: bold&#x27;&gt;Cyprus&lt;/h4&gt;&lt;hr style=&#x27;margin:10px; color:white;&#x27;&gt;&lt;ul style=&#x27;color:white; list-style-type:circle; align-item:left;padding-left:20px;padding-right:20px&#x27;&gt;&lt;li&gt;Confirmed: 199440101&lt;/li&gt;&lt;li&gt;Deaths:   513920&lt;/li&gt;&lt;li&gt;Death rate:    0.26&lt;/li&gt;&lt;/ul&gt;&lt;/div&gt;\n",
       "                 &lt;/div&gt;`,\n",
       "                {&quot;sticky&quot;: true}\n",
       "            );\n",
       "        \n",
       "    \n",
       "            var circle_f2fd64d138277c75b73958989c936a57 = L.circle(\n",
       "                [49.8175, 15.473],\n",
       "                {&quot;bubblingMouseEvents&quot;: true, &quot;color&quot;: &quot;red&quot;, &quot;dashArray&quot;: null, &quot;dashOffset&quot;: null, &quot;fill&quot;: true, &quot;fillColor&quot;: &quot;blue&quot;, &quot;fillOpacity&quot;: 0.2, &quot;fillRule&quot;: &quot;evenodd&quot;, &quot;lineCap&quot;: &quot;round&quot;, &quot;lineJoin&quot;: &quot;round&quot;, &quot;opacity&quot;: 1.0, &quot;radius&quot;: 318000.0, &quot;stroke&quot;: true, &quot;weight&quot;: 3}\n",
       "            ).addTo(map_feca7f7996749b669ab93ed1eadabcc9);\n",
       "        \n",
       "    \n",
       "            circle_f2fd64d138277c75b73958989c936a57.bindTooltip(\n",
       "                `&lt;div&gt;\n",
       "                     &lt;div style=&#x27;margin:0; background-color:black; color:white;&#x27;&gt;&lt;h4 style=&#x27;text-align:center;front-weight: bold&#x27;&gt;Czechia&lt;/h4&gt;&lt;hr style=&#x27;margin:10px; color:white;&#x27;&gt;&lt;ul style=&#x27;color:white; list-style-type:circle; align-item:left;padding-left:20px;padding-right:20px&#x27;&gt;&lt;li&gt;Confirmed: 2048933191&lt;/li&gt;&lt;li&gt;Deaths:   24665134&lt;/li&gt;&lt;li&gt;Death rate:    1.2&lt;/li&gt;&lt;/ul&gt;&lt;/div&gt;\n",
       "                 &lt;/div&gt;`,\n",
       "                {&quot;sticky&quot;: true}\n",
       "            );\n",
       "        \n",
       "    \n",
       "            var circle_1055b59ba060a4e8ab05136d90b1718c = L.circle(\n",
       "                [61.8926, -6.9118],\n",
       "                {&quot;bubblingMouseEvents&quot;: true, &quot;color&quot;: &quot;red&quot;, &quot;dashArray&quot;: null, &quot;dashOffset&quot;: null, &quot;fill&quot;: true, &quot;fillColor&quot;: &quot;blue&quot;, &quot;fillOpacity&quot;: 0.2, &quot;fillRule&quot;: &quot;evenodd&quot;, &quot;lineCap&quot;: &quot;round&quot;, &quot;lineJoin&quot;: &quot;round&quot;, &quot;opacity&quot;: 1.0, &quot;radius&quot;: 243000.0, &quot;stroke&quot;: true, &quot;weight&quot;: 3}\n",
       "            ).addTo(map_feca7f7996749b669ab93ed1eadabcc9);\n",
       "        \n",
       "    \n",
       "            circle_1055b59ba060a4e8ab05136d90b1718c.bindTooltip(\n",
       "                `&lt;div&gt;\n",
       "                     &lt;div style=&#x27;margin:0; background-color:black; color:white;&#x27;&gt;&lt;h4 style=&#x27;text-align:center;front-weight: bold&#x27;&gt;Denmark&lt;/h4&gt;&lt;hr style=&#x27;margin:10px; color:white;&#x27;&gt;&lt;ul style=&#x27;color:white; list-style-type:circle; align-item:left;padding-left:20px;padding-right:20px&#x27;&gt;&lt;li&gt;Confirmed: 11749895&lt;/li&gt;&lt;li&gt;Deaths:   10285&lt;/li&gt;&lt;li&gt;Death rate:    0.09&lt;/li&gt;&lt;/ul&gt;&lt;/div&gt;\n",
       "                 &lt;/div&gt;`,\n",
       "                {&quot;sticky&quot;: true}\n",
       "            );\n",
       "        \n",
       "    \n",
       "            var circle_96bd8a132c426f17bc69e79ffb9f037e = L.circle(\n",
       "                [71.7069, -42.6043],\n",
       "                {&quot;bubblingMouseEvents&quot;: true, &quot;color&quot;: &quot;red&quot;, &quot;dashArray&quot;: null, &quot;dashOffset&quot;: null, &quot;fill&quot;: true, &quot;fillColor&quot;: &quot;blue&quot;, &quot;fillOpacity&quot;: 0.2, &quot;fillRule&quot;: &quot;evenodd&quot;, &quot;lineCap&quot;: &quot;round&quot;, &quot;lineJoin&quot;: &quot;round&quot;, &quot;opacity&quot;: 1.0, &quot;radius&quot;: 228000.0, &quot;stroke&quot;: true, &quot;weight&quot;: 3}\n",
       "            ).addTo(map_feca7f7996749b669ab93ed1eadabcc9);\n",
       "        \n",
       "    \n",
       "            circle_96bd8a132c426f17bc69e79ffb9f037e.bindTooltip(\n",
       "                `&lt;div&gt;\n",
       "                     &lt;div style=&#x27;margin:0; background-color:black; color:white;&#x27;&gt;&lt;h4 style=&#x27;text-align:center;front-weight: bold&#x27;&gt;Denmark&lt;/h4&gt;&lt;hr style=&#x27;margin:10px; color:white;&#x27;&gt;&lt;ul style=&#x27;color:white; list-style-type:circle; align-item:left;padding-left:20px;padding-right:20px&#x27;&gt;&lt;li&gt;Confirmed: 4148599&lt;/li&gt;&lt;li&gt;Deaths:   6414&lt;/li&gt;&lt;li&gt;Death rate:    0.15&lt;/li&gt;&lt;/ul&gt;&lt;/div&gt;\n",
       "                 &lt;/div&gt;`,\n",
       "                {&quot;sticky&quot;: true}\n",
       "            );\n",
       "        \n",
       "    \n",
       "            var circle_4dc9310285141bba3e19659e8a43b99c = L.circle(\n",
       "                [56.2639, 9.5018],\n",
       "                {&quot;bubblingMouseEvents&quot;: true, &quot;color&quot;: &quot;red&quot;, &quot;dashArray&quot;: null, &quot;dashOffset&quot;: null, &quot;fill&quot;: true, &quot;fillColor&quot;: &quot;blue&quot;, &quot;fillOpacity&quot;: 0.2, &quot;fillRule&quot;: &quot;evenodd&quot;, &quot;lineCap&quot;: &quot;round&quot;, &quot;lineJoin&quot;: &quot;round&quot;, &quot;opacity&quot;: 1.0, &quot;radius&quot;: 303000.0, &quot;stroke&quot;: true, &quot;weight&quot;: 3}\n",
       "            ).addTo(map_feca7f7996749b669ab93ed1eadabcc9);\n",
       "        \n",
       "    \n",
       "            circle_4dc9310285141bba3e19659e8a43b99c.bindTooltip(\n",
       "                `&lt;div&gt;\n",
       "                     &lt;div style=&#x27;margin:0; background-color:black; color:white;&#x27;&gt;&lt;h4 style=&#x27;text-align:center;front-weight: bold&#x27;&gt;Denmark&lt;/h4&gt;&lt;hr style=&#x27;margin:10px; color:white;&#x27;&gt;&lt;ul style=&#x27;color:white; list-style-type:circle; align-item:left;padding-left:20px;padding-right:20px&#x27;&gt;&lt;li&gt;Confirmed: 1153184602&lt;/li&gt;&lt;li&gt;Deaths:   3223944&lt;/li&gt;&lt;li&gt;Death rate:    0.28&lt;/li&gt;&lt;/ul&gt;&lt;/div&gt;\n",
       "                 &lt;/div&gt;`,\n",
       "                {&quot;sticky&quot;: true}\n",
       "            );\n",
       "        \n",
       "    \n",
       "            var circle_8a6f221eb157dd4cb0757def55d6733d = L.circle(\n",
       "                [0.0, 0.0],\n",
       "                {&quot;bubblingMouseEvents&quot;: true, &quot;color&quot;: &quot;red&quot;, &quot;dashArray&quot;: null, &quot;dashOffset&quot;: null, &quot;fill&quot;: true, &quot;fillColor&quot;: &quot;blue&quot;, &quot;fillOpacity&quot;: 0.2, &quot;fillRule&quot;: &quot;evenodd&quot;, &quot;lineCap&quot;: &quot;round&quot;, &quot;lineJoin&quot;: &quot;round&quot;, &quot;opacity&quot;: 1.0, &quot;radius&quot;: 198000.0, &quot;stroke&quot;: true, &quot;weight&quot;: 3}\n",
       "            ).addTo(map_feca7f7996749b669ab93ed1eadabcc9);\n",
       "        \n",
       "    \n",
       "            circle_8a6f221eb157dd4cb0757def55d6733d.bindTooltip(\n",
       "                `&lt;div&gt;\n",
       "                     &lt;div style=&#x27;margin:0; background-color:black; color:white;&#x27;&gt;&lt;h4 style=&#x27;text-align:center;front-weight: bold&#x27;&gt;Diamond Princess&lt;/h4&gt;&lt;hr style=&#x27;margin:10px; color:white;&#x27;&gt;&lt;ul style=&#x27;color:white; list-style-type:circle; align-item:left;padding-left:20px;padding-right:20px&#x27;&gt;&lt;li&gt;Confirmed: 735500&lt;/li&gt;&lt;li&gt;Deaths:   13084&lt;/li&gt;&lt;li&gt;Death rate:    1.78&lt;/li&gt;&lt;/ul&gt;&lt;/div&gt;\n",
       "                 &lt;/div&gt;`,\n",
       "                {&quot;sticky&quot;: true}\n",
       "            );\n",
       "        \n",
       "    \n",
       "            var circle_f6a11df61fa44cc58080600fdbda4aa2 = L.circle(\n",
       "                [11.8251, 42.5903],\n",
       "                {&quot;bubblingMouseEvents&quot;: true, &quot;color&quot;: &quot;red&quot;, &quot;dashArray&quot;: null, &quot;dashOffset&quot;: null, &quot;fill&quot;: true, &quot;fillColor&quot;: &quot;blue&quot;, &quot;fillOpacity&quot;: 0.2, &quot;fillRule&quot;: &quot;evenodd&quot;, &quot;lineCap&quot;: &quot;round&quot;, &quot;lineJoin&quot;: &quot;round&quot;, &quot;opacity&quot;: 1.0, &quot;radius&quot;: 243000.0, &quot;stroke&quot;: true, &quot;weight&quot;: 3}\n",
       "            ).addTo(map_feca7f7996749b669ab93ed1eadabcc9);\n",
       "        \n",
       "    \n",
       "            circle_f6a11df61fa44cc58080600fdbda4aa2.bindTooltip(\n",
       "                `&lt;div&gt;\n",
       "                     &lt;div style=&#x27;margin:0; background-color:black; color:white;&#x27;&gt;&lt;h4 style=&#x27;text-align:center;front-weight: bold&#x27;&gt;Djibouti&lt;/h4&gt;&lt;hr style=&#x27;margin:10px; color:white;&#x27;&gt;&lt;ul style=&#x27;color:white; list-style-type:circle; align-item:left;padding-left:20px;padding-right:20px&#x27;&gt;&lt;li&gt;Confirmed: 10496285&lt;/li&gt;&lt;li&gt;Deaths:   127861&lt;/li&gt;&lt;li&gt;Death rate:    1.22&lt;/li&gt;&lt;/ul&gt;&lt;/div&gt;\n",
       "                 &lt;/div&gt;`,\n",
       "                {&quot;sticky&quot;: true}\n",
       "            );\n",
       "        \n",
       "    \n",
       "            var circle_d403105ec73c43d86a06d209f029dc6a = L.circle(\n",
       "                [15.415, -61.371],\n",
       "                {&quot;bubblingMouseEvents&quot;: true, &quot;color&quot;: &quot;red&quot;, &quot;dashArray&quot;: null, &quot;dashOffset&quot;: null, &quot;fill&quot;: true, &quot;fillColor&quot;: &quot;blue&quot;, &quot;fillOpacity&quot;: 0.2, &quot;fillRule&quot;: &quot;evenodd&quot;, &quot;lineCap&quot;: &quot;round&quot;, &quot;lineJoin&quot;: &quot;round&quot;, &quot;opacity&quot;: 1.0, &quot;radius&quot;: 228000.0, &quot;stroke&quot;: true, &quot;weight&quot;: 3}\n",
       "            ).addTo(map_feca7f7996749b669ab93ed1eadabcc9);\n",
       "        \n",
       "    \n",
       "            circle_d403105ec73c43d86a06d209f029dc6a.bindTooltip(\n",
       "                `&lt;div&gt;\n",
       "                     &lt;div style=&#x27;margin:0; background-color:black; color:white;&#x27;&gt;&lt;h4 style=&#x27;text-align:center;front-weight: bold&#x27;&gt;Dominica&lt;/h4&gt;&lt;hr style=&#x27;margin:10px; color:white;&#x27;&gt;&lt;ul style=&#x27;color:white; list-style-type:circle; align-item:left;padding-left:20px;padding-right:20px&#x27;&gt;&lt;li&gt;Confirmed: 5287468&lt;/li&gt;&lt;li&gt;Deaths:   26126&lt;/li&gt;&lt;li&gt;Death rate:    0.49&lt;/li&gt;&lt;/ul&gt;&lt;/div&gt;\n",
       "                 &lt;/div&gt;`,\n",
       "                {&quot;sticky&quot;: true}\n",
       "            );\n",
       "        \n",
       "    \n",
       "            var circle_e57620efeca58c89ab2bd9b009d1d00c = L.circle(\n",
       "                [18.7357, -70.1627],\n",
       "                {&quot;bubblingMouseEvents&quot;: true, &quot;color&quot;: &quot;red&quot;, &quot;dashArray&quot;: null, &quot;dashOffset&quot;: null, &quot;fill&quot;: true, &quot;fillColor&quot;: &quot;blue&quot;, &quot;fillOpacity&quot;: 0.2, &quot;fillRule&quot;: &quot;evenodd&quot;, &quot;lineCap&quot;: &quot;round&quot;, &quot;lineJoin&quot;: &quot;round&quot;, &quot;opacity&quot;: 1.0, &quot;radius&quot;: 288000.0, &quot;stroke&quot;: true, &quot;weight&quot;: 3}\n",
       "            ).addTo(map_feca7f7996749b669ab93ed1eadabcc9);\n",
       "        \n",
       "    \n",
       "            circle_e57620efeca58c89ab2bd9b009d1d00c.bindTooltip(\n",
       "                `&lt;div&gt;\n",
       "                     &lt;div style=&#x27;margin:0; background-color:black; color:white;&#x27;&gt;&lt;h4 style=&#x27;text-align:center;front-weight: bold&#x27;&gt;Dominican Republic&lt;/h4&gt;&lt;hr style=&#x27;margin:10px; color:white;&#x27;&gt;&lt;ul style=&#x27;color:white; list-style-type:circle; align-item:left;padding-left:20px;padding-right:20px&#x27;&gt;&lt;li&gt;Confirmed: 343942878&lt;/li&gt;&lt;li&gt;Deaths:   3232029&lt;/li&gt;&lt;li&gt;Death rate:    0.94&lt;/li&gt;&lt;/ul&gt;&lt;/div&gt;\n",
       "                 &lt;/div&gt;`,\n",
       "                {&quot;sticky&quot;: true}\n",
       "            );\n",
       "        \n",
       "    \n",
       "            var circle_7b8022e1ee7a5e7b5a7ebf94878b5e06 = L.circle(\n",
       "                [-1.8312, -78.1834],\n",
       "                {&quot;bubblingMouseEvents&quot;: true, &quot;color&quot;: &quot;red&quot;, &quot;dashArray&quot;: null, &quot;dashOffset&quot;: null, &quot;fill&quot;: true, &quot;fillColor&quot;: &quot;blue&quot;, &quot;fillOpacity&quot;: 0.2, &quot;fillRule&quot;: &quot;evenodd&quot;, &quot;lineCap&quot;: &quot;round&quot;, &quot;lineJoin&quot;: &quot;round&quot;, &quot;opacity&quot;: 1.0, &quot;radius&quot;: 303000.0, &quot;stroke&quot;: true, &quot;weight&quot;: 3}\n",
       "            ).addTo(map_feca7f7996749b669ab93ed1eadabcc9);\n",
       "        \n",
       "    \n",
       "            circle_7b8022e1ee7a5e7b5a7ebf94878b5e06.bindTooltip(\n",
       "                `&lt;div&gt;\n",
       "                     &lt;div style=&#x27;margin:0; background-color:black; color:white;&#x27;&gt;&lt;h4 style=&#x27;text-align:center;front-weight: bold&#x27;&gt;Ecuador&lt;/h4&gt;&lt;hr style=&#x27;margin:10px; color:white;&#x27;&gt;&lt;ul style=&#x27;color:white; list-style-type:circle; align-item:left;padding-left:20px;padding-right:20px&#x27;&gt;&lt;li&gt;Confirmed: 495208302&lt;/li&gt;&lt;li&gt;Deaths:   23385007&lt;/li&gt;&lt;li&gt;Death rate:    4.72&lt;/li&gt;&lt;/ul&gt;&lt;/div&gt;\n",
       "                 &lt;/div&gt;`,\n",
       "                {&quot;sticky&quot;: true}\n",
       "            );\n",
       "        \n",
       "    \n",
       "            var circle_01a8083e386a856c2fc947367a96cbae = L.circle(\n",
       "                [26.820553, 30.802498],\n",
       "                {&quot;bubblingMouseEvents&quot;: true, &quot;color&quot;: &quot;red&quot;, &quot;dashArray&quot;: null, &quot;dashOffset&quot;: null, &quot;fill&quot;: true, &quot;fillColor&quot;: &quot;blue&quot;, &quot;fillOpacity&quot;: 0.2, &quot;fillRule&quot;: &quot;evenodd&quot;, &quot;lineCap&quot;: &quot;round&quot;, &quot;lineJoin&quot;: &quot;round&quot;, &quot;opacity&quot;: 1.0, &quot;radius&quot;: 288000.0, &quot;stroke&quot;: true, &quot;weight&quot;: 3}\n",
       "            ).addTo(map_feca7f7996749b669ab93ed1eadabcc9);\n",
       "        \n",
       "    \n",
       "            circle_01a8083e386a856c2fc947367a96cbae.bindTooltip(\n",
       "                `&lt;div&gt;\n",
       "                     &lt;div style=&#x27;margin:0; background-color:black; color:white;&#x27;&gt;&lt;h4 style=&#x27;text-align:center;front-weight: bold&#x27;&gt;Egypt&lt;/h4&gt;&lt;hr style=&#x27;margin:10px; color:white;&#x27;&gt;&lt;ul style=&#x27;color:white; list-style-type:circle; align-item:left;padding-left:20px;padding-right:20px&#x27;&gt;&lt;li&gt;Confirmed: 290769496&lt;/li&gt;&lt;li&gt;Deaths:   15140510&lt;/li&gt;&lt;li&gt;Death rate:    5.21&lt;/li&gt;&lt;/ul&gt;&lt;/div&gt;\n",
       "                 &lt;/div&gt;`,\n",
       "                {&quot;sticky&quot;: true}\n",
       "            );\n",
       "        \n",
       "    \n",
       "            var circle_beea94cd73eacd9ea65b5cf767be8053 = L.circle(\n",
       "                [13.7942, -88.8965],\n",
       "                {&quot;bubblingMouseEvents&quot;: true, &quot;color&quot;: &quot;red&quot;, &quot;dashArray&quot;: null, &quot;dashOffset&quot;: null, &quot;fill&quot;: true, &quot;fillColor&quot;: &quot;blue&quot;, &quot;fillOpacity&quot;: 0.2, &quot;fillRule&quot;: &quot;evenodd&quot;, &quot;lineCap&quot;: &quot;round&quot;, &quot;lineJoin&quot;: &quot;round&quot;, &quot;opacity&quot;: 1.0, &quot;radius&quot;: 273000.0, &quot;stroke&quot;: true, &quot;weight&quot;: 3}\n",
       "            ).addTo(map_feca7f7996749b669ab93ed1eadabcc9);\n",
       "        \n",
       "    \n",
       "            circle_beea94cd73eacd9ea65b5cf767be8053.bindTooltip(\n",
       "                `&lt;div&gt;\n",
       "                     &lt;div style=&#x27;margin:0; background-color:black; color:white;&#x27;&gt;&lt;h4 style=&#x27;text-align:center;front-weight: bold&#x27;&gt;El Salvador&lt;/h4&gt;&lt;hr style=&#x27;margin:10px; color:white;&#x27;&gt;&lt;ul style=&#x27;color:white; list-style-type:circle; align-item:left;padding-left:20px;padding-right:20px&#x27;&gt;&lt;li&gt;Confirmed: 96415333&lt;/li&gt;&lt;li&gt;Deaths:   2537865&lt;/li&gt;&lt;li&gt;Death rate:    2.63&lt;/li&gt;&lt;/ul&gt;&lt;/div&gt;\n",
       "                 &lt;/div&gt;`,\n",
       "                {&quot;sticky&quot;: true}\n",
       "            );\n",
       "        \n",
       "    \n",
       "            var circle_634ffbac59fdd277300dc0023822a967 = L.circle(\n",
       "                [1.6508, 10.2679],\n",
       "                {&quot;bubblingMouseEvents&quot;: true, &quot;color&quot;: &quot;red&quot;, &quot;dashArray&quot;: null, &quot;dashOffset&quot;: null, &quot;fill&quot;: true, &quot;fillColor&quot;: &quot;blue&quot;, &quot;fillOpacity&quot;: 0.2, &quot;fillRule&quot;: &quot;evenodd&quot;, &quot;lineCap&quot;: &quot;round&quot;, &quot;lineJoin&quot;: &quot;round&quot;, &quot;opacity&quot;: 1.0, &quot;radius&quot;: 243000.0, &quot;stroke&quot;: true, &quot;weight&quot;: 3}\n",
       "            ).addTo(map_feca7f7996749b669ab93ed1eadabcc9);\n",
       "        \n",
       "    \n",
       "            circle_634ffbac59fdd277300dc0023822a967.bindTooltip(\n",
       "                `&lt;div&gt;\n",
       "                     &lt;div style=&#x27;margin:0; background-color:black; color:white;&#x27;&gt;&lt;h4 style=&#x27;text-align:center;front-weight: bold&#x27;&gt;Equatorial Guinea&lt;/h4&gt;&lt;hr style=&#x27;margin:10px; color:white;&#x27;&gt;&lt;ul style=&#x27;color:white; list-style-type:circle; align-item:left;padding-left:20px;padding-right:20px&#x27;&gt;&lt;li&gt;Confirmed: 9986206&lt;/li&gt;&lt;li&gt;Deaths:   124307&lt;/li&gt;&lt;li&gt;Death rate:    1.24&lt;/li&gt;&lt;/ul&gt;&lt;/div&gt;\n",
       "                 &lt;/div&gt;`,\n",
       "                {&quot;sticky&quot;: true}\n",
       "            );\n",
       "        \n",
       "    \n",
       "            var circle_fc8283b789c5fdebd3e2e539bdecf58d = L.circle(\n",
       "                [15.1794, 39.7823],\n",
       "                {&quot;bubblingMouseEvents&quot;: true, &quot;color&quot;: &quot;red&quot;, &quot;dashArray&quot;: null, &quot;dashOffset&quot;: null, &quot;fill&quot;: true, &quot;fillColor&quot;: &quot;blue&quot;, &quot;fillOpacity&quot;: 0.2, &quot;fillRule&quot;: &quot;evenodd&quot;, &quot;lineCap&quot;: &quot;round&quot;, &quot;lineJoin&quot;: &quot;round&quot;, &quot;opacity&quot;: 1.0, &quot;radius&quot;: 228000.0, &quot;stroke&quot;: true, &quot;weight&quot;: 3}\n",
       "            ).addTo(map_feca7f7996749b669ab93ed1eadabcc9);\n",
       "        \n",
       "    \n",
       "            circle_fc8283b789c5fdebd3e2e539bdecf58d.bindTooltip(\n",
       "                `&lt;div&gt;\n",
       "                     &lt;div style=&#x27;margin:0; background-color:black; color:white;&#x27;&gt;&lt;h4 style=&#x27;text-align:center;front-weight: bold&#x27;&gt;Eritrea&lt;/h4&gt;&lt;hr style=&#x27;margin:10px; color:white;&#x27;&gt;&lt;ul style=&#x27;color:white; list-style-type:circle; align-item:left;padding-left:20px;padding-right:20px&#x27;&gt;&lt;li&gt;Confirmed: 5369337&lt;/li&gt;&lt;li&gt;Deaths:   45401&lt;/li&gt;&lt;li&gt;Death rate:    0.85&lt;/li&gt;&lt;/ul&gt;&lt;/div&gt;\n",
       "                 &lt;/div&gt;`,\n",
       "                {&quot;sticky&quot;: true}\n",
       "            );\n",
       "        \n",
       "    \n",
       "            var circle_59091c2b62e36b0ebba9482ac743b5fc = L.circle(\n",
       "                [58.5953, 25.0136],\n",
       "                {&quot;bubblingMouseEvents&quot;: true, &quot;color&quot;: &quot;red&quot;, &quot;dashArray&quot;: null, &quot;dashOffset&quot;: null, &quot;fill&quot;: true, &quot;fillColor&quot;: &quot;blue&quot;, &quot;fillOpacity&quot;: 0.2, &quot;fillRule&quot;: &quot;evenodd&quot;, &quot;lineCap&quot;: &quot;round&quot;, &quot;lineJoin&quot;: &quot;round&quot;, &quot;opacity&quot;: 1.0, &quot;radius&quot;: 288000.0, &quot;stroke&quot;: true, &quot;weight&quot;: 3}\n",
       "            ).addTo(map_feca7f7996749b669ab93ed1eadabcc9);\n",
       "        \n",
       "    \n",
       "            circle_59091c2b62e36b0ebba9482ac743b5fc.bindTooltip(\n",
       "                `&lt;div&gt;\n",
       "                     &lt;div style=&#x27;margin:0; background-color:black; color:white;&#x27;&gt;&lt;h4 style=&#x27;text-align:center;front-weight: bold&#x27;&gt;Estonia&lt;/h4&gt;&lt;hr style=&#x27;margin:10px; color:white;&#x27;&gt;&lt;ul style=&#x27;color:white; list-style-type:circle; align-item:left;padding-left:20px;padding-right:20px&#x27;&gt;&lt;li&gt;Confirmed: 238872913&lt;/li&gt;&lt;li&gt;Deaths:   1321483&lt;/li&gt;&lt;li&gt;Death rate:    0.55&lt;/li&gt;&lt;/ul&gt;&lt;/div&gt;\n",
       "                 &lt;/div&gt;`,\n",
       "                {&quot;sticky&quot;: true}\n",
       "            );\n",
       "        \n",
       "    \n",
       "            var circle_1bda8c876ae11c932bdc7241294ccd92 = L.circle(\n",
       "                [-26.5225, 31.4659],\n",
       "                {&quot;bubblingMouseEvents&quot;: true, &quot;color&quot;: &quot;red&quot;, &quot;dashArray&quot;: null, &quot;dashOffset&quot;: null, &quot;fill&quot;: true, &quot;fillColor&quot;: &quot;blue&quot;, &quot;fillOpacity&quot;: 0.2, &quot;fillRule&quot;: &quot;evenodd&quot;, &quot;lineCap&quot;: &quot;round&quot;, &quot;lineJoin&quot;: &quot;round&quot;, &quot;opacity&quot;: 1.0, &quot;radius&quot;: 258000.0, &quot;stroke&quot;: true, &quot;weight&quot;: 3}\n",
       "            ).addTo(map_feca7f7996749b669ab93ed1eadabcc9);\n",
       "        \n",
       "    \n",
       "            circle_1bda8c876ae11c932bdc7241294ccd92.bindTooltip(\n",
       "                `&lt;div&gt;\n",
       "                     &lt;div style=&#x27;margin:0; background-color:black; color:white;&#x27;&gt;&lt;h4 style=&#x27;text-align:center;front-weight: bold&#x27;&gt;Eswatini&lt;/h4&gt;&lt;hr style=&#x27;margin:10px; color:white;&#x27;&gt;&lt;ul style=&#x27;color:white; list-style-type:circle; align-item:left;padding-left:20px;padding-right:20px&#x27;&gt;&lt;li&gt;Confirmed: 36681537&lt;/li&gt;&lt;li&gt;Deaths:   818978&lt;/li&gt;&lt;li&gt;Death rate:    2.23&lt;/li&gt;&lt;/ul&gt;&lt;/div&gt;\n",
       "                 &lt;/div&gt;`,\n",
       "                {&quot;sticky&quot;: true}\n",
       "            );\n",
       "        \n",
       "    \n",
       "            var circle_517b881b38a839a9092f128e332ff07e = L.circle(\n",
       "                [9.145, 40.4897],\n",
       "                {&quot;bubblingMouseEvents&quot;: true, &quot;color&quot;: &quot;red&quot;, &quot;dashArray&quot;: null, &quot;dashOffset&quot;: null, &quot;fill&quot;: true, &quot;fillColor&quot;: &quot;blue&quot;, &quot;fillOpacity&quot;: 0.2, &quot;fillRule&quot;: &quot;evenodd&quot;, &quot;lineCap&quot;: &quot;round&quot;, &quot;lineJoin&quot;: &quot;round&quot;, &quot;opacity&quot;: 1.0, &quot;radius&quot;: 288000.0, &quot;stroke&quot;: true, &quot;weight&quot;: 3}\n",
       "            ).addTo(map_feca7f7996749b669ab93ed1eadabcc9);\n",
       "        \n",
       "    \n",
       "            circle_517b881b38a839a9092f128e332ff07e.bindTooltip(\n",
       "                `&lt;div&gt;\n",
       "                     &lt;div style=&#x27;margin:0; background-color:black; color:white;&#x27;&gt;&lt;h4 style=&#x27;text-align:center;front-weight: bold&#x27;&gt;Ethiopia&lt;/h4&gt;&lt;hr style=&#x27;margin:10px; color:white;&#x27;&gt;&lt;ul style=&#x27;color:white; list-style-type:circle; align-item:left;padding-left:20px;padding-right:20px&#x27;&gt;&lt;li&gt;Confirmed: 278841155&lt;/li&gt;&lt;li&gt;Deaths:   4391899&lt;/li&gt;&lt;li&gt;Death rate:    1.58&lt;/li&gt;&lt;/ul&gt;&lt;/div&gt;\n",
       "                 &lt;/div&gt;`,\n",
       "                {&quot;sticky&quot;: true}\n",
       "            );\n",
       "        \n",
       "    \n",
       "            var circle_6840b8c760fe9491e22b24e1f19852f6 = L.circle(\n",
       "                [-17.7134, 178.065],\n",
       "                {&quot;bubblingMouseEvents&quot;: true, &quot;color&quot;: &quot;red&quot;, &quot;dashArray&quot;: null, &quot;dashOffset&quot;: null, &quot;fill&quot;: true, &quot;fillColor&quot;: &quot;blue&quot;, &quot;fillOpacity&quot;: 0.2, &quot;fillRule&quot;: &quot;evenodd&quot;, &quot;lineCap&quot;: &quot;round&quot;, &quot;lineJoin&quot;: &quot;round&quot;, &quot;opacity&quot;: 1.0, &quot;radius&quot;: 258000.0, &quot;stroke&quot;: true, &quot;weight&quot;: 3}\n",
       "            ).addTo(map_feca7f7996749b669ab93ed1eadabcc9);\n",
       "        \n",
       "    \n",
       "            circle_6840b8c760fe9491e22b24e1f19852f6.bindTooltip(\n",
       "                `&lt;div&gt;\n",
       "                     &lt;div style=&#x27;margin:0; background-color:black; color:white;&#x27;&gt;&lt;h4 style=&#x27;text-align:center;front-weight: bold&#x27;&gt;Fiji&lt;/h4&gt;&lt;hr style=&#x27;margin:10px; color:white;&#x27;&gt;&lt;ul style=&#x27;color:white; list-style-type:circle; align-item:left;padding-left:20px;padding-right:20px&#x27;&gt;&lt;li&gt;Confirmed: 30946573&lt;/li&gt;&lt;li&gt;Deaths:   391525&lt;/li&gt;&lt;li&gt;Death rate:    1.27&lt;/li&gt;&lt;/ul&gt;&lt;/div&gt;\n",
       "                 &lt;/div&gt;`,\n",
       "                {&quot;sticky&quot;: true}\n",
       "            );\n",
       "        \n",
       "    \n",
       "            var circle_47152576ff3893ca89d6666e4133ee3f = L.circle(\n",
       "                [61.92411, 25.748151],\n",
       "                {&quot;bubblingMouseEvents&quot;: true, &quot;color&quot;: &quot;red&quot;, &quot;dashArray&quot;: null, &quot;dashOffset&quot;: null, &quot;fill&quot;: true, &quot;fillColor&quot;: &quot;blue&quot;, &quot;fillOpacity&quot;: 0.2, &quot;fillRule&quot;: &quot;evenodd&quot;, &quot;lineCap&quot;: &quot;round&quot;, &quot;lineJoin&quot;: &quot;round&quot;, &quot;opacity&quot;: 1.0, &quot;radius&quot;: 288000.0, &quot;stroke&quot;: true, &quot;weight&quot;: 3}\n",
       "            ).addTo(map_feca7f7996749b669ab93ed1eadabcc9);\n",
       "        \n",
       "    \n",
       "            circle_47152576ff3893ca89d6666e4133ee3f.bindTooltip(\n",
       "                `&lt;div&gt;\n",
       "                     &lt;div style=&#x27;margin:0; background-color:black; color:white;&#x27;&gt;&lt;h4 style=&#x27;text-align:center;front-weight: bold&#x27;&gt;Finland&lt;/h4&gt;&lt;hr style=&#x27;margin:10px; color:white;&#x27;&gt;&lt;ul style=&#x27;color:white; list-style-type:circle; align-item:left;padding-left:20px;padding-right:20px&#x27;&gt;&lt;li&gt;Confirmed: 405685497&lt;/li&gt;&lt;li&gt;Deaths:   2054247&lt;/li&gt;&lt;li&gt;Death rate:    0.51&lt;/li&gt;&lt;/ul&gt;&lt;/div&gt;\n",
       "                 &lt;/div&gt;`,\n",
       "                {&quot;sticky&quot;: true}\n",
       "            );\n",
       "        \n",
       "    \n",
       "            var circle_df45dd88a354b6eded85dbb356261d7f = L.circle(\n",
       "                [3.9339, -53.1258],\n",
       "                {&quot;bubblingMouseEvents&quot;: true, &quot;color&quot;: &quot;red&quot;, &quot;dashArray&quot;: null, &quot;dashOffset&quot;: null, &quot;fill&quot;: true, &quot;fillColor&quot;: &quot;blue&quot;, &quot;fillOpacity&quot;: 0.2, &quot;fillRule&quot;: &quot;evenodd&quot;, &quot;lineCap&quot;: &quot;round&quot;, &quot;lineJoin&quot;: &quot;round&quot;, &quot;opacity&quot;: 1.0, &quot;radius&quot;: 258000.0, &quot;stroke&quot;: true, &quot;weight&quot;: 3}\n",
       "            ).addTo(map_feca7f7996749b669ab93ed1eadabcc9);\n",
       "        \n",
       "    \n",
       "            circle_df45dd88a354b6eded85dbb356261d7f.bindTooltip(\n",
       "                `&lt;div&gt;\n",
       "                     &lt;div style=&#x27;margin:0; background-color:black; color:white;&#x27;&gt;&lt;h4 style=&#x27;text-align:center;front-weight: bold&#x27;&gt;France&lt;/h4&gt;&lt;hr style=&#x27;margin:10px; color:white;&#x27;&gt;&lt;ul style=&#x27;color:white; list-style-type:circle; align-item:left;padding-left:20px;padding-right:20px&#x27;&gt;&lt;li&gt;Confirmed: 42002058&lt;/li&gt;&lt;li&gt;Deaths:   213765&lt;/li&gt;&lt;li&gt;Death rate:    0.51&lt;/li&gt;&lt;/ul&gt;&lt;/div&gt;\n",
       "                 &lt;/div&gt;`,\n",
       "                {&quot;sticky&quot;: true}\n",
       "            );\n",
       "        \n",
       "    \n",
       "            var circle_389859f5023da0c13fce849081d85b81 = L.circle(\n",
       "                [-17.6797, 149.4068],\n",
       "                {&quot;bubblingMouseEvents&quot;: true, &quot;color&quot;: &quot;red&quot;, &quot;dashArray&quot;: null, &quot;dashOffset&quot;: null, &quot;fill&quot;: true, &quot;fillColor&quot;: &quot;blue&quot;, &quot;fillOpacity&quot;: 0.2, &quot;fillRule&quot;: &quot;evenodd&quot;, &quot;lineCap&quot;: &quot;round&quot;, &quot;lineJoin&quot;: &quot;round&quot;, &quot;opacity&quot;: 1.0, &quot;radius&quot;: 258000.0, &quot;stroke&quot;: true, &quot;weight&quot;: 3}\n",
       "            ).addTo(map_feca7f7996749b669ab93ed1eadabcc9);\n",
       "        \n",
       "    \n",
       "            circle_389859f5023da0c13fce849081d85b81.bindTooltip(\n",
       "                `&lt;div&gt;\n",
       "                     &lt;div style=&#x27;margin:0; background-color:black; color:white;&#x27;&gt;&lt;h4 style=&#x27;text-align:center;front-weight: bold&#x27;&gt;France&lt;/h4&gt;&lt;hr style=&#x27;margin:10px; color:white;&#x27;&gt;&lt;ul style=&#x27;color:white; list-style-type:circle; align-item:left;padding-left:20px;padding-right:20px&#x27;&gt;&lt;li&gt;Confirmed: 35899930&lt;/li&gt;&lt;li&gt;Deaths:   342377&lt;/li&gt;&lt;li&gt;Death rate:    0.95&lt;/li&gt;&lt;/ul&gt;&lt;/div&gt;\n",
       "                 &lt;/div&gt;`,\n",
       "                {&quot;sticky&quot;: true}\n",
       "            );\n",
       "        \n",
       "    \n",
       "            var circle_4b2c380cf3c6f5cf2f5b079a27c1e4e1 = L.circle(\n",
       "                [16.265, -61.551],\n",
       "                {&quot;bubblingMouseEvents&quot;: true, &quot;color&quot;: &quot;red&quot;, &quot;dashArray&quot;: null, &quot;dashOffset&quot;: null, &quot;fill&quot;: true, &quot;fillColor&quot;: &quot;blue&quot;, &quot;fillOpacity&quot;: 0.2, &quot;fillRule&quot;: &quot;evenodd&quot;, &quot;lineCap&quot;: &quot;round&quot;, &quot;lineJoin&quot;: &quot;round&quot;, &quot;opacity&quot;: 1.0, &quot;radius&quot;: 273000.0, &quot;stroke&quot;: true, &quot;weight&quot;: 3}\n",
       "            ).addTo(map_feca7f7996749b669ab93ed1eadabcc9);\n",
       "        \n",
       "    \n",
       "            circle_4b2c380cf3c6f5cf2f5b079a27c1e4e1.bindTooltip(\n",
       "                `&lt;div&gt;\n",
       "                     &lt;div style=&#x27;margin:0; background-color:black; color:white;&#x27;&gt;&lt;h4 style=&#x27;text-align:center;front-weight: bold&#x27;&gt;France&lt;/h4&gt;&lt;hr style=&#x27;margin:10px; color:white;&#x27;&gt;&lt;ul style=&#x27;color:white; list-style-type:circle; align-item:left;padding-left:20px;padding-right:20px&#x27;&gt;&lt;li&gt;Confirmed: 66174496&lt;/li&gt;&lt;li&gt;Deaths:   493236&lt;/li&gt;&lt;li&gt;Death rate:    0.75&lt;/li&gt;&lt;/ul&gt;&lt;/div&gt;\n",
       "                 &lt;/div&gt;`,\n",
       "                {&quot;sticky&quot;: true}\n",
       "            );\n",
       "        \n",
       "    \n",
       "            var circle_93d89d1416f59e7503ddfb91c8414566 = L.circle(\n",
       "                [14.6415, -61.0242],\n",
       "                {&quot;bubblingMouseEvents&quot;: true, &quot;color&quot;: &quot;red&quot;, &quot;dashArray&quot;: null, &quot;dashOffset&quot;: null, &quot;fill&quot;: true, &quot;fillColor&quot;: &quot;blue&quot;, &quot;fillOpacity&quot;: 0.2, &quot;fillRule&quot;: &quot;evenodd&quot;, &quot;lineCap&quot;: &quot;round&quot;, &quot;lineJoin&quot;: &quot;round&quot;, &quot;opacity&quot;: 1.0, &quot;radius&quot;: 273000.0, &quot;stroke&quot;: true, &quot;weight&quot;: 3}\n",
       "            ).addTo(map_feca7f7996749b669ab93ed1eadabcc9);\n",
       "        \n",
       "    \n",
       "            circle_93d89d1416f59e7503ddfb91c8414566.bindTooltip(\n",
       "                `&lt;div&gt;\n",
       "                     &lt;div style=&#x27;margin:0; background-color:black; color:white;&#x27;&gt;&lt;h4 style=&#x27;text-align:center;front-weight: bold&#x27;&gt;France&lt;/h4&gt;&lt;hr style=&#x27;margin:10px; color:white;&#x27;&gt;&lt;ul style=&#x27;color:white; list-style-type:circle; align-item:left;padding-left:20px;padding-right:20px&#x27;&gt;&lt;li&gt;Confirmed: 68602791&lt;/li&gt;&lt;li&gt;Deaths:   441461&lt;/li&gt;&lt;li&gt;Death rate:    0.64&lt;/li&gt;&lt;/ul&gt;&lt;/div&gt;\n",
       "                 &lt;/div&gt;`,\n",
       "                {&quot;sticky&quot;: true}\n",
       "            );\n",
       "        \n",
       "    \n",
       "            var circle_83ec6137d1e15328579ca3fcec051925 = L.circle(\n",
       "                [-12.8275, 45.166244],\n",
       "                {&quot;bubblingMouseEvents&quot;: true, &quot;color&quot;: &quot;red&quot;, &quot;dashArray&quot;: null, &quot;dashOffset&quot;: null, &quot;fill&quot;: true, &quot;fillColor&quot;: &quot;blue&quot;, &quot;fillOpacity&quot;: 0.2, &quot;fillRule&quot;: &quot;evenodd&quot;, &quot;lineCap&quot;: &quot;round&quot;, &quot;lineJoin&quot;: &quot;round&quot;, &quot;opacity&quot;: 1.0, &quot;radius&quot;: 243000.0, &quot;stroke&quot;: true, &quot;weight&quot;: 3}\n",
       "            ).addTo(map_feca7f7996749b669ab93ed1eadabcc9);\n",
       "        \n",
       "    \n",
       "            circle_83ec6137d1e15328579ca3fcec051925.bindTooltip(\n",
       "                `&lt;div&gt;\n",
       "                     &lt;div style=&#x27;margin:0; background-color:black; color:white;&#x27;&gt;&lt;h4 style=&#x27;text-align:center;front-weight: bold&#x27;&gt;France&lt;/h4&gt;&lt;hr style=&#x27;margin:10px; color:white;&#x27;&gt;&lt;ul style=&#x27;color:white; list-style-type:circle; align-item:left;padding-left:20px;padding-right:20px&#x27;&gt;&lt;li&gt;Confirmed: 20741837&lt;/li&gt;&lt;li&gt;Deaths:   131124&lt;/li&gt;&lt;li&gt;Death rate:    0.63&lt;/li&gt;&lt;/ul&gt;&lt;/div&gt;\n",
       "                 &lt;/div&gt;`,\n",
       "                {&quot;sticky&quot;: true}\n",
       "            );\n",
       "        \n",
       "    \n",
       "            var circle_e46aa8f5aa68eb4e9c71f1907f063db3 = L.circle(\n",
       "                [-20.904305, 165.618042],\n",
       "                {&quot;bubblingMouseEvents&quot;: true, &quot;color&quot;: &quot;red&quot;, &quot;dashArray&quot;: null, &quot;dashOffset&quot;: null, &quot;fill&quot;: true, &quot;fillColor&quot;: &quot;blue&quot;, &quot;fillOpacity&quot;: 0.2, &quot;fillRule&quot;: &quot;evenodd&quot;, &quot;lineCap&quot;: &quot;round&quot;, &quot;lineJoin&quot;: &quot;round&quot;, &quot;opacity&quot;: 1.0, &quot;radius&quot;: 243000.0, &quot;stroke&quot;: true, &quot;weight&quot;: 3}\n",
       "            ).addTo(map_feca7f7996749b669ab93ed1eadabcc9);\n",
       "        \n",
       "    \n",
       "            circle_e46aa8f5aa68eb4e9c71f1907f063db3.bindTooltip(\n",
       "                `&lt;div&gt;\n",
       "                     &lt;div style=&#x27;margin:0; background-color:black; color:white;&#x27;&gt;&lt;h4 style=&#x27;text-align:center;front-weight: bold&#x27;&gt;France&lt;/h4&gt;&lt;hr style=&#x27;margin:10px; color:white;&#x27;&gt;&lt;ul style=&#x27;color:white; list-style-type:circle; align-item:left;padding-left:20px;padding-right:20px&#x27;&gt;&lt;li&gt;Confirmed: 22314671&lt;/li&gt;&lt;li&gt;Deaths:   131690&lt;/li&gt;&lt;li&gt;Death rate:    0.59&lt;/li&gt;&lt;/ul&gt;&lt;/div&gt;\n",
       "                 &lt;/div&gt;`,\n",
       "                {&quot;sticky&quot;: true}\n",
       "            );\n",
       "        \n",
       "    \n",
       "            var circle_97dd97077d38586c9f821b4703134896 = L.circle(\n",
       "                [-21.1151, 55.5364],\n",
       "                {&quot;bubblingMouseEvents&quot;: true, &quot;color&quot;: &quot;red&quot;, &quot;dashArray&quot;: null, &quot;dashOffset&quot;: null, &quot;fill&quot;: true, &quot;fillColor&quot;: &quot;blue&quot;, &quot;fillOpacity&quot;: 0.2, &quot;fillRule&quot;: &quot;evenodd&quot;, &quot;lineCap&quot;: &quot;round&quot;, &quot;lineJoin&quot;: &quot;round&quot;, &quot;opacity&quot;: 1.0, &quot;radius&quot;: 273000.0, &quot;stroke&quot;: true, &quot;weight&quot;: 3}\n",
       "            ).addTo(map_feca7f7996749b669ab93ed1eadabcc9);\n",
       "        \n",
       "    \n",
       "            circle_97dd97077d38586c9f821b4703134896.bindTooltip(\n",
       "                `&lt;div&gt;\n",
       "                     &lt;div style=&#x27;margin:0; background-color:black; color:white;&#x27;&gt;&lt;h4 style=&#x27;text-align:center;front-weight: bold&#x27;&gt;France&lt;/h4&gt;&lt;hr style=&#x27;margin:10px; color:white;&#x27;&gt;&lt;ul style=&#x27;color:white; list-style-type:circle; align-item:left;padding-left:20px;padding-right:20px&#x27;&gt;&lt;li&gt;Confirmed: 147270241&lt;/li&gt;&lt;li&gt;Deaths:   353804&lt;/li&gt;&lt;li&gt;Death rate:    0.24&lt;/li&gt;&lt;/ul&gt;&lt;/div&gt;\n",
       "                 &lt;/div&gt;`,\n",
       "                {&quot;sticky&quot;: true}\n",
       "            );\n",
       "        \n",
       "    \n",
       "            var circle_5e922d41fe3d2595c8a916f0b026896c = L.circle(\n",
       "                [17.9, -62.8333],\n",
       "                {&quot;bubblingMouseEvents&quot;: true, &quot;color&quot;: &quot;red&quot;, &quot;dashArray&quot;: null, &quot;dashOffset&quot;: null, &quot;fill&quot;: true, &quot;fillColor&quot;: &quot;blue&quot;, &quot;fillOpacity&quot;: 0.2, &quot;fillRule&quot;: &quot;evenodd&quot;, &quot;lineCap&quot;: &quot;round&quot;, &quot;lineJoin&quot;: &quot;round&quot;, &quot;opacity&quot;: 1.0, &quot;radius&quot;: 213000.0, &quot;stroke&quot;: true, &quot;weight&quot;: 3}\n",
       "            ).addTo(map_feca7f7996749b669ab93ed1eadabcc9);\n",
       "        \n",
       "    \n",
       "            circle_5e922d41fe3d2595c8a916f0b026896c.bindTooltip(\n",
       "                `&lt;div&gt;\n",
       "                     &lt;div style=&#x27;margin:0; background-color:black; color:white;&#x27;&gt;&lt;h4 style=&#x27;text-align:center;front-weight: bold&#x27;&gt;France&lt;/h4&gt;&lt;hr style=&#x27;margin:10px; color:white;&#x27;&gt;&lt;ul style=&#x27;color:white; list-style-type:circle; align-item:left;padding-left:20px;padding-right:20px&#x27;&gt;&lt;li&gt;Confirmed: 2014919&lt;/li&gt;&lt;li&gt;Deaths:   2840&lt;/li&gt;&lt;li&gt;Death rate:    0.14&lt;/li&gt;&lt;/ul&gt;&lt;/div&gt;\n",
       "                 &lt;/div&gt;`,\n",
       "                {&quot;sticky&quot;: true}\n",
       "            );\n",
       "        \n",
       "    \n",
       "            var circle_db3d0f5eae25d87861191f17a3fc0da3 = L.circle(\n",
       "                [46.8852, -56.3159],\n",
       "                {&quot;bubblingMouseEvents&quot;: true, &quot;color&quot;: &quot;red&quot;, &quot;dashArray&quot;: null, &quot;dashOffset&quot;: null, &quot;fill&quot;: true, &quot;fillColor&quot;: &quot;blue&quot;, &quot;fillOpacity&quot;: 0.2, &quot;fillRule&quot;: &quot;evenodd&quot;, &quot;lineCap&quot;: &quot;round&quot;, &quot;lineJoin&quot;: &quot;round&quot;, &quot;opacity&quot;: 1.0, &quot;radius&quot;: 198000.0, &quot;stroke&quot;: true, &quot;weight&quot;: 3}\n",
       "            ).addTo(map_feca7f7996749b669ab93ed1eadabcc9);\n",
       "        \n",
       "    \n",
       "            circle_db3d0f5eae25d87861191f17a3fc0da3.bindTooltip(\n",
       "                `&lt;div&gt;\n",
       "                     &lt;div style=&#x27;margin:0; background-color:black; color:white;&#x27;&gt;&lt;h4 style=&#x27;text-align:center;front-weight: bold&#x27;&gt;France&lt;/h4&gt;&lt;hr style=&#x27;margin:10px; color:white;&#x27;&gt;&lt;ul style=&#x27;color:white; list-style-type:circle; align-item:left;padding-left:20px;padding-right:20px&#x27;&gt;&lt;li&gt;Confirmed: 871995&lt;/li&gt;&lt;li&gt;Deaths:   324&lt;/li&gt;&lt;li&gt;Death rate:    0.04&lt;/li&gt;&lt;/ul&gt;&lt;/div&gt;\n",
       "                 &lt;/div&gt;`,\n",
       "                {&quot;sticky&quot;: true}\n",
       "            );\n",
       "        \n",
       "    \n",
       "            var circle_4b4b894af5c40ef5bba7ba54868d3836 = L.circle(\n",
       "                [18.0708, -63.0501],\n",
       "                {&quot;bubblingMouseEvents&quot;: true, &quot;color&quot;: &quot;red&quot;, &quot;dashArray&quot;: null, &quot;dashOffset&quot;: null, &quot;fill&quot;: true, &quot;fillColor&quot;: &quot;blue&quot;, &quot;fillOpacity&quot;: 0.2, &quot;fillRule&quot;: &quot;evenodd&quot;, &quot;lineCap&quot;: &quot;round&quot;, &quot;lineJoin&quot;: &quot;round&quot;, &quot;opacity&quot;: 1.0, &quot;radius&quot;: 228000.0, &quot;stroke&quot;: true, &quot;weight&quot;: 3}\n",
       "            ).addTo(map_feca7f7996749b669ab93ed1eadabcc9);\n",
       "        \n",
       "    \n",
       "            circle_4b4b894af5c40ef5bba7ba54868d3836.bindTooltip(\n",
       "                `&lt;div&gt;\n",
       "                     &lt;div style=&#x27;margin:0; background-color:black; color:white;&#x27;&gt;&lt;h4 style=&#x27;text-align:center;front-weight: bold&#x27;&gt;France&lt;/h4&gt;&lt;hr style=&#x27;margin:10px; color:white;&#x27;&gt;&lt;ul style=&#x27;color:white; list-style-type:circle; align-item:left;padding-left:20px;padding-right:20px&#x27;&gt;&lt;li&gt;Confirmed: 4753992&lt;/li&gt;&lt;li&gt;Deaths:   33698&lt;/li&gt;&lt;li&gt;Death rate:    0.71&lt;/li&gt;&lt;/ul&gt;&lt;/div&gt;\n",
       "                 &lt;/div&gt;`,\n",
       "                {&quot;sticky&quot;: true}\n",
       "            );\n",
       "        \n",
       "    \n",
       "            var circle_a4bcbcc7a12b8ef83b73e05df5892bea = L.circle(\n",
       "                [-14.2938, -178.1165],\n",
       "                {&quot;bubblingMouseEvents&quot;: true, &quot;color&quot;: &quot;red&quot;, &quot;dashArray&quot;: null, &quot;dashOffset&quot;: null, &quot;fill&quot;: true, &quot;fillColor&quot;: &quot;blue&quot;, &quot;fillOpacity&quot;: 0.2, &quot;fillRule&quot;: &quot;evenodd&quot;, &quot;lineCap&quot;: &quot;round&quot;, &quot;lineJoin&quot;: &quot;round&quot;, &quot;opacity&quot;: 1.0, &quot;radius&quot;: 198000.0, &quot;stroke&quot;: true, &quot;weight&quot;: 3}\n",
       "            ).addTo(map_feca7f7996749b669ab93ed1eadabcc9);\n",
       "        \n",
       "    \n",
       "            circle_a4bcbcc7a12b8ef83b73e05df5892bea.bindTooltip(\n",
       "                `&lt;div&gt;\n",
       "                     &lt;div style=&#x27;margin:0; background-color:black; color:white;&#x27;&gt;&lt;h4 style=&#x27;text-align:center;front-weight: bold&#x27;&gt;France&lt;/h4&gt;&lt;hr style=&#x27;margin:10px; color:white;&#x27;&gt;&lt;ul style=&#x27;color:white; list-style-type:circle; align-item:left;padding-left:20px;padding-right:20px&#x27;&gt;&lt;li&gt;Confirmed: 497804&lt;/li&gt;&lt;li&gt;Deaths:   4326&lt;/li&gt;&lt;li&gt;Death rate:    0.87&lt;/li&gt;&lt;/ul&gt;&lt;/div&gt;\n",
       "                 &lt;/div&gt;`,\n",
       "                {&quot;sticky&quot;: true}\n",
       "            );\n",
       "        \n",
       "    \n",
       "            var circle_8487d0d2f7f97ba627d941616f0e3452 = L.circle(\n",
       "                [46.2276, 2.2137],\n",
       "                {&quot;bubblingMouseEvents&quot;: true, &quot;color&quot;: &quot;red&quot;, &quot;dashArray&quot;: null, &quot;dashOffset&quot;: null, &quot;fill&quot;: true, &quot;fillColor&quot;: &quot;blue&quot;, &quot;fillOpacity&quot;: 0.2, &quot;fillRule&quot;: &quot;evenodd&quot;, &quot;lineCap&quot;: &quot;round&quot;, &quot;lineJoin&quot;: &quot;round&quot;, &quot;opacity&quot;: 1.0, &quot;radius&quot;: 348000.0, &quot;stroke&quot;: true, &quot;weight&quot;: 3}\n",
       "            ).addTo(map_feca7f7996749b669ab93ed1eadabcc9);\n",
       "        \n",
       "    \n",
       "            circle_8487d0d2f7f97ba627d941616f0e3452.bindTooltip(\n",
       "                `&lt;div&gt;\n",
       "                     &lt;div style=&#x27;margin:0; background-color:black; color:white;&#x27;&gt;&lt;h4 style=&#x27;text-align:center;front-weight: bold&#x27;&gt;France&lt;/h4&gt;&lt;hr style=&#x27;margin:10px; color:white;&#x27;&gt;&lt;ul style=&#x27;color:white; list-style-type:circle; align-item:left;padding-left:20px;padding-right:20px&#x27;&gt;&lt;li&gt;Confirmed: 12325844813&lt;/li&gt;&lt;li&gt;Deaths:   97275341&lt;/li&gt;&lt;li&gt;Death rate:    0.79&lt;/li&gt;&lt;/ul&gt;&lt;/div&gt;\n",
       "                 &lt;/div&gt;`,\n",
       "                {&quot;sticky&quot;: true}\n",
       "            );\n",
       "        \n",
       "    \n",
       "            var circle_18aa1facdd0027d748cd530c248c23cf = L.circle(\n",
       "                [-0.8037, 11.6094],\n",
       "                {&quot;bubblingMouseEvents&quot;: true, &quot;color&quot;: &quot;red&quot;, &quot;dashArray&quot;: null, &quot;dashOffset&quot;: null, &quot;fill&quot;: true, &quot;fillColor&quot;: &quot;blue&quot;, &quot;fillOpacity&quot;: 0.2, &quot;fillRule&quot;: &quot;evenodd&quot;, &quot;lineCap&quot;: &quot;round&quot;, &quot;lineJoin&quot;: &quot;round&quot;, &quot;opacity&quot;: 1.0, &quot;radius&quot;: 258000.0, &quot;stroke&quot;: true, &quot;weight&quot;: 3}\n",
       "            ).addTo(map_feca7f7996749b669ab93ed1eadabcc9);\n",
       "        \n",
       "    \n",
       "            circle_18aa1facdd0027d748cd530c248c23cf.bindTooltip(\n",
       "                `&lt;div&gt;\n",
       "                     &lt;div style=&#x27;margin:0; background-color:black; color:white;&#x27;&gt;&lt;h4 style=&#x27;text-align:center;front-weight: bold&#x27;&gt;Gabon&lt;/h4&gt;&lt;hr style=&#x27;margin:10px; color:white;&#x27;&gt;&lt;ul style=&#x27;color:white; list-style-type:circle; align-item:left;padding-left:20px;padding-right:20px&#x27;&gt;&lt;li&gt;Confirmed: 27404785&lt;/li&gt;&lt;li&gt;Deaths:   176090&lt;/li&gt;&lt;li&gt;Death rate:    0.64&lt;/li&gt;&lt;/ul&gt;&lt;/div&gt;\n",
       "                 &lt;/div&gt;`,\n",
       "                {&quot;sticky&quot;: true}\n",
       "            );\n",
       "        \n",
       "    \n",
       "            var circle_e8f21d4132dc9dd7172dfa89af6aec5e = L.circle(\n",
       "                [13.4432, -15.3101],\n",
       "                {&quot;bubblingMouseEvents&quot;: true, &quot;color&quot;: &quot;red&quot;, &quot;dashArray&quot;: null, &quot;dashOffset&quot;: null, &quot;fill&quot;: true, &quot;fillColor&quot;: &quot;blue&quot;, &quot;fillOpacity&quot;: 0.2, &quot;fillRule&quot;: &quot;evenodd&quot;, &quot;lineCap&quot;: &quot;round&quot;, &quot;lineJoin&quot;: &quot;round&quot;, &quot;opacity&quot;: 1.0, &quot;radius&quot;: 228000.0, &quot;stroke&quot;: true, &quot;weight&quot;: 3}\n",
       "            ).addTo(map_feca7f7996749b669ab93ed1eadabcc9);\n",
       "        \n",
       "    \n",
       "            circle_e8f21d4132dc9dd7172dfa89af6aec5e.bindTooltip(\n",
       "                `&lt;div&gt;\n",
       "                     &lt;div style=&#x27;margin:0; background-color:black; color:white;&#x27;&gt;&lt;h4 style=&#x27;text-align:center;front-weight: bold&#x27;&gt;Gambia&lt;/h4&gt;&lt;hr style=&#x27;margin:10px; color:white;&#x27;&gt;&lt;ul style=&#x27;color:white; list-style-type:circle; align-item:left;padding-left:20px;padding-right:20px&#x27;&gt;&lt;li&gt;Confirmed: 7355758&lt;/li&gt;&lt;li&gt;Deaths:   227688&lt;/li&gt;&lt;li&gt;Death rate:    3.1&lt;/li&gt;&lt;/ul&gt;&lt;/div&gt;\n",
       "                 &lt;/div&gt;`,\n",
       "                {&quot;sticky&quot;: true}\n",
       "            );\n",
       "        \n",
       "    \n",
       "            var circle_6ebdf460863b270a6c73f158867a7210 = L.circle(\n",
       "                [42.3154, 43.3569],\n",
       "                {&quot;bubblingMouseEvents&quot;: true, &quot;color&quot;: &quot;red&quot;, &quot;dashArray&quot;: null, &quot;dashOffset&quot;: null, &quot;fill&quot;: true, &quot;fillColor&quot;: &quot;blue&quot;, &quot;fillOpacity&quot;: 0.2, &quot;fillRule&quot;: &quot;evenodd&quot;, &quot;lineCap&quot;: &quot;round&quot;, &quot;lineJoin&quot;: &quot;round&quot;, &quot;opacity&quot;: 1.0, &quot;radius&quot;: 303000.0, &quot;stroke&quot;: true, &quot;weight&quot;: 3}\n",
       "            ).addTo(map_feca7f7996749b669ab93ed1eadabcc9);\n",
       "        \n",
       "    \n",
       "            circle_6ebdf460863b270a6c73f158867a7210.bindTooltip(\n",
       "                `&lt;div&gt;\n",
       "                     &lt;div style=&#x27;margin:0; background-color:black; color:white;&#x27;&gt;&lt;h4 style=&#x27;text-align:center;front-weight: bold&#x27;&gt;Georgia&lt;/h4&gt;&lt;hr style=&#x27;margin:10px; color:white;&#x27;&gt;&lt;ul style=&#x27;color:white; list-style-type:circle; align-item:left;padding-left:20px;padding-right:20px&#x27;&gt;&lt;li&gt;Confirmed: 744429871&lt;/li&gt;&lt;li&gt;Deaths:   8176687&lt;/li&gt;&lt;li&gt;Death rate:    1.1&lt;/li&gt;&lt;/ul&gt;&lt;/div&gt;\n",
       "                 &lt;/div&gt;`,\n",
       "                {&quot;sticky&quot;: true}\n",
       "            );\n",
       "        \n",
       "    \n",
       "            var circle_fe2a7017fc032a917b4e900e4b4a682b = L.circle(\n",
       "                [51.165691, 10.451526],\n",
       "                {&quot;bubblingMouseEvents&quot;: true, &quot;color&quot;: &quot;red&quot;, &quot;dashArray&quot;: null, &quot;dashOffset&quot;: null, &quot;fill&quot;: true, &quot;fillColor&quot;: &quot;blue&quot;, &quot;fillOpacity&quot;: 0.2, &quot;fillRule&quot;: &quot;evenodd&quot;, &quot;lineCap&quot;: &quot;round&quot;, &quot;lineJoin&quot;: &quot;round&quot;, &quot;opacity&quot;: 1.0, &quot;radius&quot;: 348000.0, &quot;stroke&quot;: true, &quot;weight&quot;: 3}\n",
       "            ).addTo(map_feca7f7996749b669ab93ed1eadabcc9);\n",
       "        \n",
       "    \n",
       "            circle_fe2a7017fc032a917b4e900e4b4a682b.bindTooltip(\n",
       "                `&lt;div&gt;\n",
       "                     &lt;div style=&#x27;margin:0; background-color:black; color:white;&#x27;&gt;&lt;h4 style=&#x27;text-align:center;front-weight: bold&#x27;&gt;Germany&lt;/h4&gt;&lt;hr style=&#x27;margin:10px; color:white;&#x27;&gt;&lt;ul style=&#x27;color:white; list-style-type:circle; align-item:left;padding-left:20px;padding-right:20px&#x27;&gt;&lt;li&gt;Confirmed: 10510472899&lt;/li&gt;&lt;li&gt;Deaths:   82114231&lt;/li&gt;&lt;li&gt;Death rate:    0.78&lt;/li&gt;&lt;/ul&gt;&lt;/div&gt;\n",
       "                 &lt;/div&gt;`,\n",
       "                {&quot;sticky&quot;: true}\n",
       "            );\n",
       "        \n",
       "    \n",
       "            var circle_c10d936259ba30f9c80fd51f8b711727 = L.circle(\n",
       "                [7.9465, -1.0232],\n",
       "                {&quot;bubblingMouseEvents&quot;: true, &quot;color&quot;: &quot;red&quot;, &quot;dashArray&quot;: null, &quot;dashOffset&quot;: null, &quot;fill&quot;: true, &quot;fillColor&quot;: &quot;blue&quot;, &quot;fillOpacity&quot;: 0.2, &quot;fillRule&quot;: &quot;evenodd&quot;, &quot;lineCap&quot;: &quot;round&quot;, &quot;lineJoin&quot;: &quot;round&quot;, &quot;opacity&quot;: 1.0, &quot;radius&quot;: 273000.0, &quot;stroke&quot;: true, &quot;weight&quot;: 3}\n",
       "            ).addTo(map_feca7f7996749b669ab93ed1eadabcc9);\n",
       "        \n",
       "    \n",
       "            circle_c10d936259ba30f9c80fd51f8b711727.bindTooltip(\n",
       "                `&lt;div&gt;\n",
       "                     &lt;div style=&#x27;margin:0; background-color:black; color:white;&#x27;&gt;&lt;h4 style=&#x27;text-align:center;front-weight: bold&#x27;&gt;Ghana&lt;/h4&gt;&lt;hr style=&#x27;margin:10px; color:white;&#x27;&gt;&lt;ul style=&#x27;color:white; list-style-type:circle; align-item:left;padding-left:20px;padding-right:20px&#x27;&gt;&lt;li&gt;Confirmed: 103237604&lt;/li&gt;&lt;li&gt;Deaths:   870188&lt;/li&gt;&lt;li&gt;Death rate:    0.84&lt;/li&gt;&lt;/ul&gt;&lt;/div&gt;\n",
       "                 &lt;/div&gt;`,\n",
       "                {&quot;sticky&quot;: true}\n",
       "            );\n",
       "        \n",
       "    \n",
       "            var circle_873058f46e95755c14fc5be593daa1fc = L.circle(\n",
       "                [39.0742, 21.8243],\n",
       "                {&quot;bubblingMouseEvents&quot;: true, &quot;color&quot;: &quot;red&quot;, &quot;dashArray&quot;: null, &quot;dashOffset&quot;: null, &quot;fill&quot;: true, &quot;fillColor&quot;: &quot;blue&quot;, &quot;fillOpacity&quot;: 0.2, &quot;fillRule&quot;: &quot;evenodd&quot;, &quot;lineCap&quot;: &quot;round&quot;, &quot;lineJoin&quot;: &quot;round&quot;, &quot;opacity&quot;: 1.0, &quot;radius&quot;: 318000.0, &quot;stroke&quot;: true, &quot;weight&quot;: 3}\n",
       "            ).addTo(map_feca7f7996749b669ab93ed1eadabcc9);\n",
       "        \n",
       "    \n",
       "            circle_873058f46e95755c14fc5be593daa1fc.bindTooltip(\n",
       "                `&lt;div&gt;\n",
       "                     &lt;div style=&#x27;margin:0; background-color:black; color:white;&#x27;&gt;&lt;h4 style=&#x27;text-align:center;front-weight: bold&#x27;&gt;Greece&lt;/h4&gt;&lt;hr style=&#x27;margin:10px; color:white;&#x27;&gt;&lt;ul style=&#x27;color:white; list-style-type:circle; align-item:left;padding-left:20px;padding-right:20px&#x27;&gt;&lt;li&gt;Confirmed: 1493300321&lt;/li&gt;&lt;li&gt;Deaths:   14943168&lt;/li&gt;&lt;li&gt;Death rate:    1.0&lt;/li&gt;&lt;/ul&gt;&lt;/div&gt;\n",
       "                 &lt;/div&gt;`,\n",
       "                {&quot;sticky&quot;: true}\n",
       "            );\n",
       "        \n",
       "    \n",
       "            var circle_a2a3834c5e26c2cf0f8fa064a9824b58 = L.circle(\n",
       "                [12.1165, -61.679],\n",
       "                {&quot;bubblingMouseEvents&quot;: true, &quot;color&quot;: &quot;red&quot;, &quot;dashArray&quot;: null, &quot;dashOffset&quot;: null, &quot;fill&quot;: true, &quot;fillColor&quot;: &quot;blue&quot;, &quot;fillOpacity&quot;: 0.2, &quot;fillRule&quot;: &quot;evenodd&quot;, &quot;lineCap&quot;: &quot;round&quot;, &quot;lineJoin&quot;: &quot;round&quot;, &quot;opacity&quot;: 1.0, &quot;radius&quot;: 228000.0, &quot;stroke&quot;: true, &quot;weight&quot;: 3}\n",
       "            ).addTo(map_feca7f7996749b669ab93ed1eadabcc9);\n",
       "        \n",
       "    \n",
       "            circle_a2a3834c5e26c2cf0f8fa064a9824b58.bindTooltip(\n",
       "                `&lt;div&gt;\n",
       "                     &lt;div style=&#x27;margin:0; background-color:black; color:white;&#x27;&gt;&lt;h4 style=&#x27;text-align:center;front-weight: bold&#x27;&gt;Grenada&lt;/h4&gt;&lt;hr style=&#x27;margin:10px; color:white;&#x27;&gt;&lt;ul style=&#x27;color:white; list-style-type:circle; align-item:left;padding-left:20px;padding-right:20px&#x27;&gt;&lt;li&gt;Confirmed: 6471220&lt;/li&gt;&lt;li&gt;Deaths:   98478&lt;/li&gt;&lt;li&gt;Death rate:    1.52&lt;/li&gt;&lt;/ul&gt;&lt;/div&gt;\n",
       "                 &lt;/div&gt;`,\n",
       "                {&quot;sticky&quot;: true}\n",
       "            );\n",
       "        \n",
       "    \n",
       "            var circle_9777328909cf277e5707625b801cd254 = L.circle(\n",
       "                [15.7835, -90.2308],\n",
       "                {&quot;bubblingMouseEvents&quot;: true, &quot;color&quot;: &quot;red&quot;, &quot;dashArray&quot;: null, &quot;dashOffset&quot;: null, &quot;fill&quot;: true, &quot;fillColor&quot;: &quot;blue&quot;, &quot;fillOpacity&quot;: 0.2, &quot;fillRule&quot;: &quot;evenodd&quot;, &quot;lineCap&quot;: &quot;round&quot;, &quot;lineJoin&quot;: &quot;round&quot;, &quot;opacity&quot;: 1.0, &quot;radius&quot;: 288000.0, &quot;stroke&quot;: true, &quot;weight&quot;: 3}\n",
       "            ).addTo(map_feca7f7996749b669ab93ed1eadabcc9);\n",
       "        \n",
       "    \n",
       "            circle_9777328909cf277e5707625b801cd254.bindTooltip(\n",
       "                `&lt;div&gt;\n",
       "                     &lt;div style=&#x27;margin:0; background-color:black; color:white;&#x27;&gt;&lt;h4 style=&#x27;text-align:center;front-weight: bold&#x27;&gt;Guatemala&lt;/h4&gt;&lt;hr style=&#x27;margin:10px; color:white;&#x27;&gt;&lt;ul style=&#x27;color:white; list-style-type:circle; align-item:left;padding-left:20px;padding-right:20px&#x27;&gt;&lt;li&gt;Confirmed: 475020547&lt;/li&gt;&lt;li&gt;Deaths:   10680620&lt;/li&gt;&lt;li&gt;Death rate:    2.25&lt;/li&gt;&lt;/ul&gt;&lt;/div&gt;\n",
       "                 &lt;/div&gt;`,\n",
       "                {&quot;sticky&quot;: true}\n",
       "            );\n",
       "        \n",
       "    \n",
       "            var circle_3f7b0690a562557dca42454e87c17315 = L.circle(\n",
       "                [9.9456, -9.6966],\n",
       "                {&quot;bubblingMouseEvents&quot;: true, &quot;color&quot;: &quot;red&quot;, &quot;dashArray&quot;: null, &quot;dashOffset&quot;: null, &quot;fill&quot;: true, &quot;fillColor&quot;: &quot;blue&quot;, &quot;fillOpacity&quot;: 0.2, &quot;fillRule&quot;: &quot;evenodd&quot;, &quot;lineCap&quot;: &quot;round&quot;, &quot;lineJoin&quot;: &quot;round&quot;, &quot;opacity&quot;: 1.0, &quot;radius&quot;: 243000.0, &quot;stroke&quot;: true, &quot;weight&quot;: 3}\n",
       "            ).addTo(map_feca7f7996749b669ab93ed1eadabcc9);\n",
       "        \n",
       "    \n",
       "            circle_3f7b0690a562557dca42454e87c17315.bindTooltip(\n",
       "                `&lt;div&gt;\n",
       "                     &lt;div style=&#x27;margin:0; background-color:black; color:white;&#x27;&gt;&lt;h4 style=&#x27;text-align:center;front-weight: bold&#x27;&gt;Guinea&lt;/h4&gt;&lt;hr style=&#x27;margin:10px; color:white;&#x27;&gt;&lt;ul style=&#x27;color:white; list-style-type:circle; align-item:left;padding-left:20px;padding-right:20px&#x27;&gt;&lt;li&gt;Confirmed: 23831979&lt;/li&gt;&lt;li&gt;Deaths:   250163&lt;/li&gt;&lt;li&gt;Death rate:    1.05&lt;/li&gt;&lt;/ul&gt;&lt;/div&gt;\n",
       "                 &lt;/div&gt;`,\n",
       "                {&quot;sticky&quot;: true}\n",
       "            );\n",
       "        \n",
       "    \n",
       "            var circle_750b898402b864700ed8145efeeee1e8 = L.circle(\n",
       "                [11.8037, -15.1804],\n",
       "                {&quot;bubblingMouseEvents&quot;: true, &quot;color&quot;: &quot;red&quot;, &quot;dashArray&quot;: null, &quot;dashOffset&quot;: null, &quot;fill&quot;: true, &quot;fillColor&quot;: &quot;blue&quot;, &quot;fillOpacity&quot;: 0.2, &quot;fillRule&quot;: &quot;evenodd&quot;, &quot;lineCap&quot;: &quot;round&quot;, &quot;lineJoin&quot;: &quot;round&quot;, &quot;opacity&quot;: 1.0, &quot;radius&quot;: 228000.0, &quot;stroke&quot;: true, &quot;weight&quot;: 3}\n",
       "            ).addTo(map_feca7f7996749b669ab93ed1eadabcc9);\n",
       "        \n",
       "    \n",
       "            circle_750b898402b864700ed8145efeeee1e8.bindTooltip(\n",
       "                `&lt;div&gt;\n",
       "                     &lt;div style=&#x27;margin:0; background-color:black; color:white;&#x27;&gt;&lt;h4 style=&#x27;text-align:center;front-weight: bold&#x27;&gt;Guinea-Bissau&lt;/h4&gt;&lt;hr style=&#x27;margin:10px; color:white;&#x27;&gt;&lt;ul style=&#x27;color:white; list-style-type:circle; align-item:left;padding-left:20px;padding-right:20px&#x27;&gt;&lt;li&gt;Confirmed: 5029739&lt;/li&gt;&lt;li&gt;Deaths:   99297&lt;/li&gt;&lt;li&gt;Death rate:    1.97&lt;/li&gt;&lt;/ul&gt;&lt;/div&gt;\n",
       "                 &lt;/div&gt;`,\n",
       "                {&quot;sticky&quot;: true}\n",
       "            );\n",
       "        \n",
       "    \n",
       "            var circle_c5beb6851617838aafafc61641934036 = L.circle(\n",
       "                [4.860416, -58.93018],\n",
       "                {&quot;bubblingMouseEvents&quot;: true, &quot;color&quot;: &quot;red&quot;, &quot;dashArray&quot;: null, &quot;dashOffset&quot;: null, &quot;fill&quot;: true, &quot;fillColor&quot;: &quot;blue&quot;, &quot;fillOpacity&quot;: 0.2, &quot;fillRule&quot;: &quot;evenodd&quot;, &quot;lineCap&quot;: &quot;round&quot;, &quot;lineJoin&quot;: &quot;round&quot;, &quot;opacity&quot;: 1.0, &quot;radius&quot;: 258000.0, &quot;stroke&quot;: true, &quot;weight&quot;: 3}\n",
       "            ).addTo(map_feca7f7996749b669ab93ed1eadabcc9);\n",
       "        \n",
       "    \n",
       "            circle_c5beb6851617838aafafc61641934036.bindTooltip(\n",
       "                `&lt;div&gt;\n",
       "                     &lt;div style=&#x27;margin:0; background-color:black; color:white;&#x27;&gt;&lt;h4 style=&#x27;text-align:center;front-weight: bold&#x27;&gt;Guyana&lt;/h4&gt;&lt;hr style=&#x27;margin:10px; color:white;&#x27;&gt;&lt;ul style=&#x27;color:white; list-style-type:circle; align-item:left;padding-left:20px;padding-right:20px&#x27;&gt;&lt;li&gt;Confirmed: 31233627&lt;/li&gt;&lt;li&gt;Deaths:   638138&lt;/li&gt;&lt;li&gt;Death rate:    2.04&lt;/li&gt;&lt;/ul&gt;&lt;/div&gt;\n",
       "                 &lt;/div&gt;`,\n",
       "                {&quot;sticky&quot;: true}\n",
       "            );\n",
       "        \n",
       "    \n",
       "            var circle_d4cb3a8e4cd8ad86611095f17e550292 = L.circle(\n",
       "                [18.9712, -72.2852],\n",
       "                {&quot;bubblingMouseEvents&quot;: true, &quot;color&quot;: &quot;red&quot;, &quot;dashArray&quot;: null, &quot;dashOffset&quot;: null, &quot;fill&quot;: true, &quot;fillColor&quot;: &quot;blue&quot;, &quot;fillOpacity&quot;: 0.2, &quot;fillRule&quot;: &quot;evenodd&quot;, &quot;lineCap&quot;: &quot;round&quot;, &quot;lineJoin&quot;: &quot;round&quot;, &quot;opacity&quot;: 1.0, &quot;radius&quot;: 243000.0, &quot;stroke&quot;: true, &quot;weight&quot;: 3}\n",
       "            ).addTo(map_feca7f7996749b669ab93ed1eadabcc9);\n",
       "        \n",
       "    \n",
       "            circle_d4cb3a8e4cd8ad86611095f17e550292.bindTooltip(\n",
       "                `&lt;div&gt;\n",
       "                     &lt;div style=&#x27;margin:0; background-color:black; color:white;&#x27;&gt;&lt;h4 style=&#x27;text-align:center;front-weight: bold&#x27;&gt;Haiti&lt;/h4&gt;&lt;hr style=&#x27;margin:10px; color:white;&#x27;&gt;&lt;ul style=&#x27;color:white; list-style-type:circle; align-item:left;padding-left:20px;padding-right:20px&#x27;&gt;&lt;li&gt;Confirmed: 19279133&lt;/li&gt;&lt;li&gt;Deaths:   498778&lt;/li&gt;&lt;li&gt;Death rate:    2.59&lt;/li&gt;&lt;/ul&gt;&lt;/div&gt;\n",
       "                 &lt;/div&gt;`,\n",
       "                {&quot;sticky&quot;: true}\n",
       "            );\n",
       "        \n",
       "    \n",
       "            var circle_c0da8b2094236f5cf1e5a06871514f09 = L.circle(\n",
       "                [41.9029, 12.4534],\n",
       "                {&quot;bubblingMouseEvents&quot;: true, &quot;color&quot;: &quot;red&quot;, &quot;dashArray&quot;: null, &quot;dashOffset&quot;: null, &quot;fill&quot;: true, &quot;fillColor&quot;: &quot;blue&quot;, &quot;fillOpacity&quot;: 0.2, &quot;fillRule&quot;: &quot;evenodd&quot;, &quot;lineCap&quot;: &quot;round&quot;, &quot;lineJoin&quot;: &quot;round&quot;, &quot;opacity&quot;: 1.0, &quot;radius&quot;: 153000.0, &quot;stroke&quot;: true, &quot;weight&quot;: 3}\n",
       "            ).addTo(map_feca7f7996749b669ab93ed1eadabcc9);\n",
       "        \n",
       "    \n",
       "            circle_c0da8b2094236f5cf1e5a06871514f09.bindTooltip(\n",
       "                `&lt;div&gt;\n",
       "                     &lt;div style=&#x27;margin:0; background-color:black; color:white;&#x27;&gt;&lt;h4 style=&#x27;text-align:center;front-weight: bold&#x27;&gt;Holy See&lt;/h4&gt;&lt;hr style=&#x27;margin:10px; color:white;&#x27;&gt;&lt;ul style=&#x27;color:white; list-style-type:circle; align-item:left;padding-left:20px;padding-right:20px&#x27;&gt;&lt;li&gt;Confirmed: 24342&lt;/li&gt;&lt;li&gt;Deaths:   0&lt;/li&gt;&lt;li&gt;Death rate:    0.0&lt;/li&gt;&lt;/ul&gt;&lt;/div&gt;\n",
       "                 &lt;/div&gt;`,\n",
       "                {&quot;sticky&quot;: true}\n",
       "            );\n",
       "        \n",
       "    \n",
       "            var circle_b48a41336a792c246743c8781b950fff = L.circle(\n",
       "                [15.2, -86.2419],\n",
       "                {&quot;bubblingMouseEvents&quot;: true, &quot;color&quot;: &quot;red&quot;, &quot;dashArray&quot;: null, &quot;dashOffset&quot;: null, &quot;fill&quot;: true, &quot;fillColor&quot;: &quot;blue&quot;, &quot;fillOpacity&quot;: 0.2, &quot;fillRule&quot;: &quot;evenodd&quot;, &quot;lineCap&quot;: &quot;round&quot;, &quot;lineJoin&quot;: &quot;round&quot;, &quot;opacity&quot;: 1.0, &quot;radius&quot;: 288000.0, &quot;stroke&quot;: true, &quot;weight&quot;: 3}\n",
       "            ).addTo(map_feca7f7996749b669ab93ed1eadabcc9);\n",
       "        \n",
       "    \n",
       "            circle_b48a41336a792c246743c8781b950fff.bindTooltip(\n",
       "                `&lt;div&gt;\n",
       "                     &lt;div style=&#x27;margin:0; background-color:black; color:white;&#x27;&gt;&lt;h4 style=&#x27;text-align:center;front-weight: bold&#x27;&gt;Honduras&lt;/h4&gt;&lt;hr style=&#x27;margin:10px; color:white;&#x27;&gt;&lt;ul style=&#x27;color:white; list-style-type:circle; align-item:left;padding-left:20px;padding-right:20px&#x27;&gt;&lt;li&gt;Confirmed: 262801095&lt;/li&gt;&lt;li&gt;Deaths:   6793976&lt;/li&gt;&lt;li&gt;Death rate:    2.59&lt;/li&gt;&lt;/ul&gt;&lt;/div&gt;\n",
       "                 &lt;/div&gt;`,\n",
       "                {&quot;sticky&quot;: true}\n",
       "            );\n",
       "        \n",
       "    \n",
       "            var circle_11a945c12af1eaf380466465b05d081f = L.circle(\n",
       "                [47.1625, 19.5033],\n",
       "                {&quot;bubblingMouseEvents&quot;: true, &quot;color&quot;: &quot;red&quot;, &quot;dashArray&quot;: null, &quot;dashOffset&quot;: null, &quot;fill&quot;: true, &quot;fillColor&quot;: &quot;blue&quot;, &quot;fillOpacity&quot;: 0.2, &quot;fillRule&quot;: &quot;evenodd&quot;, &quot;lineCap&quot;: &quot;round&quot;, &quot;lineJoin&quot;: &quot;round&quot;, &quot;opacity&quot;: 1.0, &quot;radius&quot;: 303000.0, &quot;stroke&quot;: true, &quot;weight&quot;: 3}\n",
       "            ).addTo(map_feca7f7996749b669ab93ed1eadabcc9);\n",
       "        \n",
       "    \n",
       "            circle_11a945c12af1eaf380466465b05d081f.bindTooltip(\n",
       "                `&lt;div&gt;\n",
       "                     &lt;div style=&#x27;margin:0; background-color:black; color:white;&#x27;&gt;&lt;h4 style=&#x27;text-align:center;front-weight: bold&#x27;&gt;Hungary&lt;/h4&gt;&lt;hr style=&#x27;margin:10px; color:white;&#x27;&gt;&lt;ul style=&#x27;color:white; list-style-type:circle; align-item:left;padding-left:20px;padding-right:20px&#x27;&gt;&lt;li&gt;Confirmed: 956763522&lt;/li&gt;&lt;li&gt;Deaths:   26061201&lt;/li&gt;&lt;li&gt;Death rate:    2.72&lt;/li&gt;&lt;/ul&gt;&lt;/div&gt;\n",
       "                 &lt;/div&gt;`,\n",
       "                {&quot;sticky&quot;: true}\n",
       "            );\n",
       "        \n",
       "    \n",
       "            var circle_f0054f8ea73d6007ecf90b1d8c32c41d = L.circle(\n",
       "                [64.9631, -19.0208],\n",
       "                {&quot;bubblingMouseEvents&quot;: true, &quot;color&quot;: &quot;red&quot;, &quot;dashArray&quot;: null, &quot;dashOffset&quot;: null, &quot;fill&quot;: true, &quot;fillColor&quot;: &quot;blue&quot;, &quot;fillOpacity&quot;: 0.2, &quot;fillRule&quot;: &quot;evenodd&quot;, &quot;lineCap&quot;: &quot;round&quot;, &quot;lineJoin&quot;: &quot;round&quot;, &quot;opacity&quot;: 1.0, &quot;radius&quot;: 258000.0, &quot;stroke&quot;: true, &quot;weight&quot;: 3}\n",
       "            ).addTo(map_feca7f7996749b669ab93ed1eadabcc9);\n",
       "        \n",
       "    \n",
       "            circle_f0054f8ea73d6007ecf90b1d8c32c41d.bindTooltip(\n",
       "                `&lt;div&gt;\n",
       "                     &lt;div style=&#x27;margin:0; background-color:black; color:white;&#x27;&gt;&lt;h4 style=&#x27;text-align:center;front-weight: bold&#x27;&gt;Iceland&lt;/h4&gt;&lt;hr style=&#x27;margin:10px; color:white;&#x27;&gt;&lt;ul style=&#x27;color:white; list-style-type:circle; align-item:left;padding-left:20px;padding-right:20px&#x27;&gt;&lt;li&gt;Confirmed: 64635649&lt;/li&gt;&lt;li&gt;Deaths:   66319&lt;/li&gt;&lt;li&gt;Death rate:    0.1&lt;/li&gt;&lt;/ul&gt;&lt;/div&gt;\n",
       "                 &lt;/div&gt;`,\n",
       "                {&quot;sticky&quot;: true}\n",
       "            );\n",
       "        \n",
       "    \n",
       "            var circle_79379e0115992ac7ac01f9ba8c034d16 = L.circle(\n",
       "                [20.593684, 78.96288],\n",
       "                {&quot;bubblingMouseEvents&quot;: true, &quot;color&quot;: &quot;red&quot;, &quot;dashArray&quot;: null, &quot;dashOffset&quot;: null, &quot;fill&quot;: true, &quot;fillColor&quot;: &quot;blue&quot;, &quot;fillOpacity&quot;: 0.2, &quot;fillRule&quot;: &quot;evenodd&quot;, &quot;lineCap&quot;: &quot;round&quot;, &quot;lineJoin&quot;: &quot;round&quot;, &quot;opacity&quot;: 1.0, &quot;radius&quot;: 348000.0, &quot;stroke&quot;: true, &quot;weight&quot;: 3}\n",
       "            ).addTo(map_feca7f7996749b669ab93ed1eadabcc9);\n",
       "        \n",
       "    \n",
       "            circle_79379e0115992ac7ac01f9ba8c034d16.bindTooltip(\n",
       "                `&lt;div&gt;\n",
       "                     &lt;div style=&#x27;margin:0; background-color:black; color:white;&#x27;&gt;&lt;h4 style=&#x27;text-align:center;front-weight: bold&#x27;&gt;India&lt;/h4&gt;&lt;hr style=&#x27;margin:10px; color:white;&#x27;&gt;&lt;ul style=&#x27;color:white; list-style-type:circle; align-item:left;padding-left:20px;padding-right:20px&#x27;&gt;&lt;li&gt;Confirmed: 25333032268&lt;/li&gt;&lt;li&gt;Deaths:   319808896&lt;/li&gt;&lt;li&gt;Death rate:    1.26&lt;/li&gt;&lt;/ul&gt;&lt;/div&gt;\n",
       "                 &lt;/div&gt;`,\n",
       "                {&quot;sticky&quot;: true}\n",
       "            );\n",
       "        \n",
       "    \n",
       "            var circle_5fcebca9f649c70f8fd39e4f9e5d9a08 = L.circle(\n",
       "                [-0.7893, 113.9213],\n",
       "                {&quot;bubblingMouseEvents&quot;: true, &quot;color&quot;: &quot;red&quot;, &quot;dashArray&quot;: null, &quot;dashOffset&quot;: null, &quot;fill&quot;: true, &quot;fillColor&quot;: &quot;blue&quot;, &quot;fillOpacity&quot;: 0.2, &quot;fillRule&quot;: &quot;evenodd&quot;, &quot;lineCap&quot;: &quot;round&quot;, &quot;lineJoin&quot;: &quot;round&quot;, &quot;opacity&quot;: 1.0, &quot;radius&quot;: 318000.0, &quot;stroke&quot;: true, &quot;weight&quot;: 3}\n",
       "            ).addTo(map_feca7f7996749b669ab93ed1eadabcc9);\n",
       "        \n",
       "    \n",
       "            circle_5fcebca9f649c70f8fd39e4f9e5d9a08.bindTooltip(\n",
       "                `&lt;div&gt;\n",
       "                     &lt;div style=&#x27;margin:0; background-color:black; color:white;&#x27;&gt;&lt;h4 style=&#x27;text-align:center;front-weight: bold&#x27;&gt;Indonesia&lt;/h4&gt;&lt;hr style=&#x27;margin:10px; color:white;&#x27;&gt;&lt;ul style=&#x27;color:white; list-style-type:circle; align-item:left;padding-left:20px;padding-right:20px&#x27;&gt;&lt;li&gt;Confirmed: 3120599954&lt;/li&gt;&lt;li&gt;Deaths:   86671844&lt;/li&gt;&lt;li&gt;Death rate:    2.78&lt;/li&gt;&lt;/ul&gt;&lt;/div&gt;\n",
       "                 &lt;/div&gt;`,\n",
       "                {&quot;sticky&quot;: true}\n",
       "            );\n",
       "        \n",
       "    \n",
       "            var circle_5bcaedee5d23388a429358a0f6e3c126 = L.circle(\n",
       "                [32.427908, 53.688046],\n",
       "                {&quot;bubblingMouseEvents&quot;: true, &quot;color&quot;: &quot;red&quot;, &quot;dashArray&quot;: null, &quot;dashOffset&quot;: null, &quot;fill&quot;: true, &quot;fillColor&quot;: &quot;blue&quot;, &quot;fillOpacity&quot;: 0.2, &quot;fillRule&quot;: &quot;evenodd&quot;, &quot;lineCap&quot;: &quot;round&quot;, &quot;lineJoin&quot;: &quot;round&quot;, &quot;opacity&quot;: 1.0, &quot;radius&quot;: 333000.0, &quot;stroke&quot;: true, &quot;weight&quot;: 3}\n",
       "            ).addTo(map_feca7f7996749b669ab93ed1eadabcc9);\n",
       "        \n",
       "    \n",
       "            circle_5bcaedee5d23388a429358a0f6e3c126.bindTooltip(\n",
       "                `&lt;div&gt;\n",
       "                     &lt;div style=&#x27;margin:0; background-color:black; color:white;&#x27;&gt;&lt;h4 style=&#x27;text-align:center;front-weight: bold&#x27;&gt;Iran&lt;/h4&gt;&lt;hr style=&#x27;margin:10px; color:white;&#x27;&gt;&lt;ul style=&#x27;color:white; list-style-type:circle; align-item:left;padding-left:20px;padding-right:20px&#x27;&gt;&lt;li&gt;Confirmed: 3969460510&lt;/li&gt;&lt;li&gt;Deaths:   88330965&lt;/li&gt;&lt;li&gt;Death rate:    2.23&lt;/li&gt;&lt;/ul&gt;&lt;/div&gt;\n",
       "                 &lt;/div&gt;`,\n",
       "                {&quot;sticky&quot;: true}\n",
       "            );\n",
       "        \n",
       "    \n",
       "            var circle_7bde1d875a8e08bf47825b53a8d48f0f = L.circle(\n",
       "                [33.223191, 43.679291],\n",
       "                {&quot;bubblingMouseEvents&quot;: true, &quot;color&quot;: &quot;red&quot;, &quot;dashArray&quot;: null, &quot;dashOffset&quot;: null, &quot;fill&quot;: true, &quot;fillColor&quot;: &quot;blue&quot;, &quot;fillOpacity&quot;: 0.2, &quot;fillRule&quot;: &quot;evenodd&quot;, &quot;lineCap&quot;: &quot;round&quot;, &quot;lineJoin&quot;: &quot;round&quot;, &quot;opacity&quot;: 1.0, &quot;radius&quot;: 318000.0, &quot;stroke&quot;: true, &quot;weight&quot;: 3}\n",
       "            ).addTo(map_feca7f7996749b669ab93ed1eadabcc9);\n",
       "        \n",
       "    \n",
       "            circle_7bde1d875a8e08bf47825b53a8d48f0f.bindTooltip(\n",
       "                `&lt;div&gt;\n",
       "                     &lt;div style=&#x27;margin:0; background-color:black; color:white;&#x27;&gt;&lt;h4 style=&#x27;text-align:center;front-weight: bold&#x27;&gt;Iraq&lt;/h4&gt;&lt;hr style=&#x27;margin:10px; color:white;&#x27;&gt;&lt;ul style=&#x27;color:white; list-style-type:circle; align-item:left;padding-left:20px;padding-right:20px&#x27;&gt;&lt;li&gt;Confirmed: 1399516104&lt;/li&gt;&lt;li&gt;Deaths:   16986107&lt;/li&gt;&lt;li&gt;Death rate:    1.21&lt;/li&gt;&lt;/ul&gt;&lt;/div&gt;\n",
       "                 &lt;/div&gt;`,\n",
       "                {&quot;sticky&quot;: true}\n",
       "            );\n",
       "        \n",
       "    \n",
       "            var circle_e442a542af40c24a4420fe316e62f214 = L.circle(\n",
       "                [53.1424, -7.6921],\n",
       "                {&quot;bubblingMouseEvents&quot;: true, &quot;color&quot;: &quot;red&quot;, &quot;dashArray&quot;: null, &quot;dashOffset&quot;: null, &quot;fill&quot;: true, &quot;fillColor&quot;: &quot;blue&quot;, &quot;fillOpacity&quot;: 0.2, &quot;fillRule&quot;: &quot;evenodd&quot;, &quot;lineCap&quot;: &quot;round&quot;, &quot;lineJoin&quot;: &quot;round&quot;, &quot;opacity&quot;: 1.0, &quot;radius&quot;: 303000.0, &quot;stroke&quot;: true, &quot;weight&quot;: 3}\n",
       "            ).addTo(map_feca7f7996749b669ab93ed1eadabcc9);\n",
       "        \n",
       "    \n",
       "            circle_e442a542af40c24a4420fe316e62f214.bindTooltip(\n",
       "                `&lt;div&gt;\n",
       "                     &lt;div style=&#x27;margin:0; background-color:black; color:white;&#x27;&gt;&lt;h4 style=&#x27;text-align:center;front-weight: bold&#x27;&gt;Ireland&lt;/h4&gt;&lt;hr style=&#x27;margin:10px; color:white;&#x27;&gt;&lt;ul style=&#x27;color:white; list-style-type:circle; align-item:left;padding-left:20px;padding-right:20px&#x27;&gt;&lt;li&gt;Confirmed: 656810393&lt;/li&gt;&lt;li&gt;Deaths:   4762574&lt;/li&gt;&lt;li&gt;Death rate:    0.73&lt;/li&gt;&lt;/ul&gt;&lt;/div&gt;\n",
       "                 &lt;/div&gt;`,\n",
       "                {&quot;sticky&quot;: true}\n",
       "            );\n",
       "        \n",
       "    \n",
       "            var circle_e4a9a111e3d14230990c30626bfdd44d = L.circle(\n",
       "                [31.046051, 34.851612],\n",
       "                {&quot;bubblingMouseEvents&quot;: true, &quot;color&quot;: &quot;red&quot;, &quot;dashArray&quot;: null, &quot;dashOffset&quot;: null, &quot;fill&quot;: true, &quot;fillColor&quot;: &quot;blue&quot;, &quot;fillOpacity&quot;: 0.2, &quot;fillRule&quot;: &quot;evenodd&quot;, &quot;lineCap&quot;: &quot;round&quot;, &quot;lineJoin&quot;: &quot;round&quot;, &quot;opacity&quot;: 1.0, &quot;radius&quot;: 318000.0, &quot;stroke&quot;: true, &quot;weight&quot;: 3}\n",
       "            ).addTo(map_feca7f7996749b669ab93ed1eadabcc9);\n",
       "        \n",
       "    \n",
       "            circle_e4a9a111e3d14230990c30626bfdd44d.bindTooltip(\n",
       "                `&lt;div&gt;\n",
       "                     &lt;div style=&#x27;margin:0; background-color:black; color:white;&#x27;&gt;&lt;h4 style=&#x27;text-align:center;front-weight: bold&#x27;&gt;Israel&lt;/h4&gt;&lt;hr style=&#x27;margin:10px; color:white;&#x27;&gt;&lt;ul style=&#x27;color:white; list-style-type:circle; align-item:left;padding-left:20px;padding-right:20px&#x27;&gt;&lt;li&gt;Confirmed: 1815654311&lt;/li&gt;&lt;li&gt;Deaths:   6524854&lt;/li&gt;&lt;li&gt;Death rate:    0.36&lt;/li&gt;&lt;/ul&gt;&lt;/div&gt;\n",
       "                 &lt;/div&gt;`,\n",
       "                {&quot;sticky&quot;: true}\n",
       "            );\n",
       "        \n",
       "    \n",
       "            var circle_8d8ee124e037b885ff227e485d40b01b = L.circle(\n",
       "                [41.87194, 12.56738],\n",
       "                {&quot;bubblingMouseEvents&quot;: true, &quot;color&quot;: &quot;red&quot;, &quot;dashArray&quot;: null, &quot;dashOffset&quot;: null, &quot;fill&quot;: true, &quot;fillColor&quot;: &quot;blue&quot;, &quot;fillOpacity&quot;: 0.2, &quot;fillRule&quot;: &quot;evenodd&quot;, &quot;lineCap&quot;: &quot;round&quot;, &quot;lineJoin&quot;: &quot;round&quot;, &quot;opacity&quot;: 1.0, &quot;radius&quot;: 333000.0, &quot;stroke&quot;: true, &quot;weight&quot;: 3}\n",
       "            ).addTo(map_feca7f7996749b669ab93ed1eadabcc9);\n",
       "        \n",
       "    \n",
       "            circle_8d8ee124e037b885ff227e485d40b01b.bindTooltip(\n",
       "                `&lt;div&gt;\n",
       "                     &lt;div style=&#x27;margin:0; background-color:black; color:white;&#x27;&gt;&lt;h4 style=&#x27;text-align:center;front-weight: bold&#x27;&gt;Italy&lt;/h4&gt;&lt;hr style=&#x27;margin:10px; color:white;&#x27;&gt;&lt;ul style=&#x27;color:white; list-style-type:circle; align-item:left;padding-left:20px;padding-right:20px&#x27;&gt;&lt;li&gt;Confirmed: 7928371895&lt;/li&gt;&lt;li&gt;Deaths:   112105613&lt;/li&gt;&lt;li&gt;Death rate:    1.41&lt;/li&gt;&lt;/ul&gt;&lt;/div&gt;\n",
       "                 &lt;/div&gt;`,\n",
       "                {&quot;sticky&quot;: true}\n",
       "            );\n",
       "        \n",
       "    \n",
       "            var circle_fda7e721ce01e76f9d3593f1d1e648f6 = L.circle(\n",
       "                [18.1096, -77.2975],\n",
       "                {&quot;bubblingMouseEvents&quot;: true, &quot;color&quot;: &quot;red&quot;, &quot;dashArray&quot;: null, &quot;dashOffset&quot;: null, &quot;fill&quot;: true, &quot;fillColor&quot;: &quot;blue&quot;, &quot;fillOpacity&quot;: 0.2, &quot;fillRule&quot;: &quot;evenodd&quot;, &quot;lineCap&quot;: &quot;round&quot;, &quot;lineJoin&quot;: &quot;round&quot;, &quot;opacity&quot;: 1.0, &quot;radius&quot;: 273000.0, &quot;stroke&quot;: true, &quot;weight&quot;: 3}\n",
       "            ).addTo(map_feca7f7996749b669ab93ed1eadabcc9);\n",
       "        \n",
       "    \n",
       "            circle_fda7e721ce01e76f9d3593f1d1e648f6.bindTooltip(\n",
       "                `&lt;div&gt;\n",
       "                     &lt;div style=&#x27;margin:0; background-color:black; color:white;&#x27;&gt;&lt;h4 style=&#x27;text-align:center;front-weight: bold&#x27;&gt;Jamaica&lt;/h4&gt;&lt;hr style=&#x27;margin:10px; color:white;&#x27;&gt;&lt;ul style=&#x27;color:white; list-style-type:circle; align-item:left;padding-left:20px;padding-right:20px&#x27;&gt;&lt;li&gt;Confirmed: 69560231&lt;/li&gt;&lt;li&gt;Deaths:   1542304&lt;/li&gt;&lt;li&gt;Death rate:    2.22&lt;/li&gt;&lt;/ul&gt;&lt;/div&gt;\n",
       "                 &lt;/div&gt;`,\n",
       "                {&quot;sticky&quot;: true}\n",
       "            );\n",
       "        \n",
       "    \n",
       "            var circle_9bd7f17c41fecd1ee34ac57413bc0aff = L.circle(\n",
       "                [36.204824, 138.252924],\n",
       "                {&quot;bubblingMouseEvents&quot;: true, &quot;color&quot;: &quot;red&quot;, &quot;dashArray&quot;: null, &quot;dashOffset&quot;: null, &quot;fill&quot;: true, &quot;fillColor&quot;: &quot;blue&quot;, &quot;fillOpacity&quot;: 0.2, &quot;fillRule&quot;: &quot;evenodd&quot;, &quot;lineCap&quot;: &quot;round&quot;, &quot;lineJoin&quot;: &quot;round&quot;, &quot;opacity&quot;: 1.0, &quot;radius&quot;: 333000.0, &quot;stroke&quot;: true, &quot;weight&quot;: 3}\n",
       "            ).addTo(map_feca7f7996749b669ab93ed1eadabcc9);\n",
       "        \n",
       "    \n",
       "            circle_9bd7f17c41fecd1ee34ac57413bc0aff.bindTooltip(\n",
       "                `&lt;div&gt;\n",
       "                     &lt;div style=&#x27;margin:0; background-color:black; color:white;&#x27;&gt;&lt;h4 style=&#x27;text-align:center;front-weight: bold&#x27;&gt;Japan&lt;/h4&gt;&lt;hr style=&#x27;margin:10px; color:white;&#x27;&gt;&lt;ul style=&#x27;color:white; list-style-type:circle; align-item:left;padding-left:20px;padding-right:20px&#x27;&gt;&lt;li&gt;Confirmed: 4670233345&lt;/li&gt;&lt;li&gt;Deaths:   16852370&lt;/li&gt;&lt;li&gt;Death rate:    0.36&lt;/li&gt;&lt;/ul&gt;&lt;/div&gt;\n",
       "                 &lt;/div&gt;`,\n",
       "                {&quot;sticky&quot;: true}\n",
       "            );\n",
       "        \n",
       "    \n",
       "            var circle_1372b14164f810bc3a49646737b95ea8 = L.circle(\n",
       "                [31.24, 36.51],\n",
       "                {&quot;bubblingMouseEvents&quot;: true, &quot;color&quot;: &quot;red&quot;, &quot;dashArray&quot;: null, &quot;dashOffset&quot;: null, &quot;fill&quot;: true, &quot;fillColor&quot;: &quot;blue&quot;, &quot;fillOpacity&quot;: 0.2, &quot;fillRule&quot;: &quot;evenodd&quot;, &quot;lineCap&quot;: &quot;round&quot;, &quot;lineJoin&quot;: &quot;round&quot;, &quot;opacity&quot;: 1.0, &quot;radius&quot;: 303000.0, &quot;stroke&quot;: true, &quot;weight&quot;: 3}\n",
       "            ).addTo(map_feca7f7996749b669ab93ed1eadabcc9);\n",
       "        \n",
       "    \n",
       "            circle_1372b14164f810bc3a49646737b95ea8.bindTooltip(\n",
       "                `&lt;div&gt;\n",
       "                     &lt;div style=&#x27;margin:0; background-color:black; color:white;&#x27;&gt;&lt;h4 style=&#x27;text-align:center;front-weight: bold&#x27;&gt;Jordan&lt;/h4&gt;&lt;hr style=&#x27;margin:10px; color:white;&#x27;&gt;&lt;ul style=&#x27;color:white; list-style-type:circle; align-item:left;padding-left:20px;padding-right:20px&#x27;&gt;&lt;li&gt;Confirmed: 842735641&lt;/li&gt;&lt;li&gt;Deaths:   8254777&lt;/li&gt;&lt;li&gt;Death rate:    0.98&lt;/li&gt;&lt;/ul&gt;&lt;/div&gt;\n",
       "                 &lt;/div&gt;`,\n",
       "                {&quot;sticky&quot;: true}\n",
       "            );\n",
       "        \n",
       "    \n",
       "            var circle_c82b52ef16fb49a2f86357fb74475cbf = L.circle(\n",
       "                [48.0196, 66.9237],\n",
       "                {&quot;bubblingMouseEvents&quot;: true, &quot;color&quot;: &quot;red&quot;, &quot;dashArray&quot;: null, &quot;dashOffset&quot;: null, &quot;fill&quot;: true, &quot;fillColor&quot;: &quot;blue&quot;, &quot;fillOpacity&quot;: 0.2, &quot;fillRule&quot;: &quot;evenodd&quot;, &quot;lineCap&quot;: &quot;round&quot;, &quot;lineJoin&quot;: &quot;round&quot;, &quot;opacity&quot;: 1.0, &quot;radius&quot;: 303000.0, &quot;stroke&quot;: true, &quot;weight&quot;: 3}\n",
       "            ).addTo(map_feca7f7996749b669ab93ed1eadabcc9);\n",
       "        \n",
       "    \n",
       "            circle_c82b52ef16fb49a2f86357fb74475cbf.bindTooltip(\n",
       "                `&lt;div&gt;\n",
       "                     &lt;div style=&#x27;margin:0; background-color:black; color:white;&#x27;&gt;&lt;h4 style=&#x27;text-align:center;front-weight: bold&#x27;&gt;Kazakhstan&lt;/h4&gt;&lt;hr style=&#x27;margin:10px; color:white;&#x27;&gt;&lt;ul style=&#x27;color:white; list-style-type:circle; align-item:left;padding-left:20px;padding-right:20px&#x27;&gt;&lt;li&gt;Confirmed: 737988082&lt;/li&gt;&lt;li&gt;Deaths:   10533504&lt;/li&gt;&lt;li&gt;Death rate:    1.43&lt;/li&gt;&lt;/ul&gt;&lt;/div&gt;\n",
       "                 &lt;/div&gt;`,\n",
       "                {&quot;sticky&quot;: true}\n",
       "            );\n",
       "        \n",
       "    \n",
       "            var circle_73591257fd35cc8ed2e02062971f2269 = L.circle(\n",
       "                [-0.0236, 37.9062],\n",
       "                {&quot;bubblingMouseEvents&quot;: true, &quot;color&quot;: &quot;red&quot;, &quot;dashArray&quot;: null, &quot;dashOffset&quot;: null, &quot;fill&quot;: true, &quot;fillColor&quot;: &quot;blue&quot;, &quot;fillOpacity&quot;: 0.2, &quot;fillRule&quot;: &quot;evenodd&quot;, &quot;lineCap&quot;: &quot;round&quot;, &quot;lineJoin&quot;: &quot;round&quot;, &quot;opacity&quot;: 1.0, &quot;radius&quot;: 288000.0, &quot;stroke&quot;: true, &quot;weight&quot;: 3}\n",
       "            ).addTo(map_feca7f7996749b669ab93ed1eadabcc9);\n",
       "        \n",
       "    \n",
       "            circle_73591257fd35cc8ed2e02062971f2269.bindTooltip(\n",
       "                `&lt;div&gt;\n",
       "                     &lt;div style=&#x27;margin:0; background-color:black; color:white;&#x27;&gt;&lt;h4 style=&#x27;text-align:center;front-weight: bold&#x27;&gt;Kenya&lt;/h4&gt;&lt;hr style=&#x27;margin:10px; color:white;&#x27;&gt;&lt;ul style=&#x27;color:white; list-style-type:circle; align-item:left;padding-left:20px;padding-right:20px&#x27;&gt;&lt;li&gt;Confirmed: 192184995&lt;/li&gt;&lt;li&gt;Deaths:   3443537&lt;/li&gt;&lt;li&gt;Death rate:    1.79&lt;/li&gt;&lt;/ul&gt;&lt;/div&gt;\n",
       "                 &lt;/div&gt;`,\n",
       "                {&quot;sticky&quot;: true}\n",
       "            );\n",
       "        \n",
       "    \n",
       "            var circle_8c16666b1b3e5eb61255aea88ebb34fd = L.circle(\n",
       "                [-3.3704, -168.734],\n",
       "                {&quot;bubblingMouseEvents&quot;: true, &quot;color&quot;: &quot;red&quot;, &quot;dashArray&quot;: null, &quot;dashOffset&quot;: null, &quot;fill&quot;: true, &quot;fillColor&quot;: &quot;blue&quot;, &quot;fillOpacity&quot;: 0.2, &quot;fillRule&quot;: &quot;evenodd&quot;, &quot;lineCap&quot;: &quot;round&quot;, &quot;lineJoin&quot;: &quot;round&quot;, &quot;opacity&quot;: 1.0, &quot;radius&quot;: 198000.0, &quot;stroke&quot;: true, &quot;weight&quot;: 3}\n",
       "            ).addTo(map_feca7f7996749b669ab93ed1eadabcc9);\n",
       "        \n",
       "    \n",
       "            circle_8c16666b1b3e5eb61255aea88ebb34fd.bindTooltip(\n",
       "                `&lt;div&gt;\n",
       "                     &lt;div style=&#x27;margin:0; background-color:black; color:white;&#x27;&gt;&lt;h4 style=&#x27;text-align:center;front-weight: bold&#x27;&gt;Kiribati&lt;/h4&gt;&lt;hr style=&#x27;margin:10px; color:white;&#x27;&gt;&lt;ul style=&#x27;color:white; list-style-type:circle; align-item:left;padding-left:20px;padding-right:20px&#x27;&gt;&lt;li&gt;Confirmed: 1012814&lt;/li&gt;&lt;li&gt;Deaths:   3900&lt;/li&gt;&lt;li&gt;Death rate:    0.39&lt;/li&gt;&lt;/ul&gt;&lt;/div&gt;\n",
       "                 &lt;/div&gt;`,\n",
       "                {&quot;sticky&quot;: true}\n",
       "            );\n",
       "        \n",
       "    \n",
       "            var circle_caa79f611a2adcc69a936298d6517178 = L.circle(\n",
       "                [40.3399, 127.5101],\n",
       "                {&quot;bubblingMouseEvents&quot;: true, &quot;color&quot;: &quot;red&quot;, &quot;dashArray&quot;: null, &quot;dashOffset&quot;: null, &quot;fill&quot;: true, &quot;fillColor&quot;: &quot;blue&quot;, &quot;fillOpacity&quot;: 0.2, &quot;fillRule&quot;: &quot;evenodd&quot;, &quot;lineCap&quot;: &quot;round&quot;, &quot;lineJoin&quot;: &quot;round&quot;, &quot;opacity&quot;: 1.0, &quot;radius&quot;: 78000.0, &quot;stroke&quot;: true, &quot;weight&quot;: 3}\n",
       "            ).addTo(map_feca7f7996749b669ab93ed1eadabcc9);\n",
       "        \n",
       "    \n",
       "            circle_caa79f611a2adcc69a936298d6517178.bindTooltip(\n",
       "                `&lt;div&gt;\n",
       "                     &lt;div style=&#x27;margin:0; background-color:black; color:white;&#x27;&gt;&lt;h4 style=&#x27;text-align:center;front-weight: bold&#x27;&gt;Korea, North&lt;/h4&gt;&lt;hr style=&#x27;margin:10px; color:white;&#x27;&gt;&lt;ul style=&#x27;color:white; list-style-type:circle; align-item:left;padding-left:20px;padding-right:20px&#x27;&gt;&lt;li&gt;Confirmed: 215&lt;/li&gt;&lt;li&gt;Deaths:   1290&lt;/li&gt;&lt;li&gt;Death rate:    597.22&lt;/li&gt;&lt;/ul&gt;&lt;/div&gt;\n",
       "                 &lt;/div&gt;`,\n",
       "                {&quot;sticky&quot;: true}\n",
       "            );\n",
       "        \n",
       "    \n",
       "            var circle_9d72953f89cd05f96463f4eec86db9a4 = L.circle(\n",
       "                [35.907757, 127.766922],\n",
       "                {&quot;bubblingMouseEvents&quot;: true, &quot;color&quot;: &quot;red&quot;, &quot;dashArray&quot;: null, &quot;dashOffset&quot;: null, &quot;fill&quot;: true, &quot;fillColor&quot;: &quot;blue&quot;, &quot;fillOpacity&quot;: 0.2, &quot;fillRule&quot;: &quot;evenodd&quot;, &quot;lineCap&quot;: &quot;round&quot;, &quot;lineJoin&quot;: &quot;round&quot;, &quot;opacity&quot;: 1.0, &quot;radius&quot;: 333000.0, &quot;stroke&quot;: true, &quot;weight&quot;: 3}\n",
       "            ).addTo(map_feca7f7996749b669ab93ed1eadabcc9);\n",
       "        \n",
       "    \n",
       "            circle_9d72953f89cd05f96463f4eec86db9a4.bindTooltip(\n",
       "                `&lt;div&gt;\n",
       "                     &lt;div style=&#x27;margin:0; background-color:black; color:white;&#x27;&gt;&lt;h4 style=&#x27;text-align:center;front-weight: bold&#x27;&gt;Korea, South&lt;/h4&gt;&lt;hr style=&#x27;margin:10px; color:white;&#x27;&gt;&lt;ul style=&#x27;color:white; list-style-type:circle; align-item:left;padding-left:20px;padding-right:20px&#x27;&gt;&lt;li&gt;Confirmed: 5932336773&lt;/li&gt;&lt;li&gt;Deaths:   8407440&lt;/li&gt;&lt;li&gt;Death rate:    0.14&lt;/li&gt;&lt;/ul&gt;&lt;/div&gt;\n",
       "                 &lt;/div&gt;`,\n",
       "                {&quot;sticky&quot;: true}\n",
       "            );\n",
       "        \n",
       "    \n",
       "            var circle_86cc5d364ef82aa850b389fb0eaad519 = L.circle(\n",
       "                [42.602636, 20.902977],\n",
       "                {&quot;bubblingMouseEvents&quot;: true, &quot;color&quot;: &quot;red&quot;, &quot;dashArray&quot;: null, &quot;dashOffset&quot;: null, &quot;fill&quot;: true, &quot;fillColor&quot;: &quot;blue&quot;, &quot;fillOpacity&quot;: 0.2, &quot;fillRule&quot;: &quot;evenodd&quot;, &quot;lineCap&quot;: &quot;round&quot;, &quot;lineJoin&quot;: &quot;round&quot;, &quot;opacity&quot;: 1.0, &quot;radius&quot;: 273000.0, &quot;stroke&quot;: true, &quot;weight&quot;: 3}\n",
       "            ).addTo(map_feca7f7996749b669ab93ed1eadabcc9);\n",
       "        \n",
       "    \n",
       "            circle_86cc5d364ef82aa850b389fb0eaad519.bindTooltip(\n",
       "                `&lt;div&gt;\n",
       "                     &lt;div style=&#x27;margin:0; background-color:black; color:white;&#x27;&gt;&lt;h4 style=&#x27;text-align:center;front-weight: bold&#x27;&gt;Kosovo&lt;/h4&gt;&lt;hr style=&#x27;margin:10px; color:white;&#x27;&gt;&lt;ul style=&#x27;color:white; list-style-type:circle; align-item:left;padding-left:20px;padding-right:20px&#x27;&gt;&lt;li&gt;Confirmed: 129522026&lt;/li&gt;&lt;li&gt;Deaths:   2050770&lt;/li&gt;&lt;li&gt;Death rate:    1.58&lt;/li&gt;&lt;/ul&gt;&lt;/div&gt;\n",
       "                 &lt;/div&gt;`,\n",
       "                {&quot;sticky&quot;: true}\n",
       "            );\n",
       "        \n",
       "    \n",
       "            var circle_576d939c51502ee0c5d28805ffd33580 = L.circle(\n",
       "                [29.31166, 47.481766],\n",
       "                {&quot;bubblingMouseEvents&quot;: true, &quot;color&quot;: &quot;red&quot;, &quot;dashArray&quot;: null, &quot;dashOffset&quot;: null, &quot;fill&quot;: true, &quot;fillColor&quot;: &quot;blue&quot;, &quot;fillOpacity&quot;: 0.2, &quot;fillRule&quot;: &quot;evenodd&quot;, &quot;lineCap&quot;: &quot;round&quot;, &quot;lineJoin&quot;: &quot;round&quot;, &quot;opacity&quot;: 1.0, &quot;radius&quot;: 288000.0, &quot;stroke&quot;: true, &quot;weight&quot;: 3}\n",
       "            ).addTo(map_feca7f7996749b669ab93ed1eadabcc9);\n",
       "        \n",
       "    \n",
       "            circle_576d939c51502ee0c5d28805ffd33580.bindTooltip(\n",
       "                `&lt;div&gt;\n",
       "                     &lt;div style=&#x27;margin:0; background-color:black; color:white;&#x27;&gt;&lt;h4 style=&#x27;text-align:center;front-weight: bold&#x27;&gt;Kuwait&lt;/h4&gt;&lt;hr style=&#x27;margin:10px; color:white;&#x27;&gt;&lt;ul style=&#x27;color:white; list-style-type:circle; align-item:left;padding-left:20px;padding-right:20px&#x27;&gt;&lt;li&gt;Confirmed: 356870026&lt;/li&gt;&lt;li&gt;Deaths:   1705860&lt;/li&gt;&lt;li&gt;Death rate:    0.48&lt;/li&gt;&lt;/ul&gt;&lt;/div&gt;\n",
       "                 &lt;/div&gt;`,\n",
       "                {&quot;sticky&quot;: true}\n",
       "            );\n",
       "        \n",
       "    \n",
       "            var circle_df5c290df927adab1a1c078c5ea32c51 = L.circle(\n",
       "                [41.20438, 74.766098],\n",
       "                {&quot;bubblingMouseEvents&quot;: true, &quot;color&quot;: &quot;red&quot;, &quot;dashArray&quot;: null, &quot;dashOffset&quot;: null, &quot;fill&quot;: true, &quot;fillColor&quot;: &quot;blue&quot;, &quot;fillOpacity&quot;: 0.2, &quot;fillRule&quot;: &quot;evenodd&quot;, &quot;lineCap&quot;: &quot;round&quot;, &quot;lineJoin&quot;: &quot;round&quot;, &quot;opacity&quot;: 1.0, &quot;radius&quot;: 273000.0, &quot;stroke&quot;: true, &quot;weight&quot;: 3}\n",
       "            ).addTo(map_feca7f7996749b669ab93ed1eadabcc9);\n",
       "        \n",
       "    \n",
       "            circle_df5c290df927adab1a1c078c5ea32c51.bindTooltip(\n",
       "                `&lt;div&gt;\n",
       "                     &lt;div style=&#x27;margin:0; background-color:black; color:white;&#x27;&gt;&lt;h4 style=&#x27;text-align:center;front-weight: bold&#x27;&gt;Kyrgyzstan&lt;/h4&gt;&lt;hr style=&#x27;margin:10px; color:white;&#x27;&gt;&lt;ul style=&#x27;color:white; list-style-type:circle; align-item:left;padding-left:20px;padding-right:20px&#x27;&gt;&lt;li&gt;Confirmed: 128474357&lt;/li&gt;&lt;li&gt;Deaths:   1992740&lt;/li&gt;&lt;li&gt;Death rate:    1.55&lt;/li&gt;&lt;/ul&gt;&lt;/div&gt;\n",
       "                 &lt;/div&gt;`,\n",
       "                {&quot;sticky&quot;: true}\n",
       "            );\n",
       "        \n",
       "    \n",
       "            var circle_8728b3858c658d96564d11b6dd229823 = L.circle(\n",
       "                [19.85627, 102.495496],\n",
       "                {&quot;bubblingMouseEvents&quot;: true, &quot;color&quot;: &quot;red&quot;, &quot;dashArray&quot;: null, &quot;dashOffset&quot;: null, &quot;fill&quot;: true, &quot;fillColor&quot;: &quot;blue&quot;, &quot;fillOpacity&quot;: 0.2, &quot;fillRule&quot;: &quot;evenodd&quot;, &quot;lineCap&quot;: &quot;round&quot;, &quot;lineJoin&quot;: &quot;round&quot;, &quot;opacity&quot;: 1.0, &quot;radius&quot;: 273000.0, &quot;stroke&quot;: true, &quot;weight&quot;: 3}\n",
       "            ).addTo(map_feca7f7996749b669ab93ed1eadabcc9);\n",
       "        \n",
       "    \n",
       "            circle_8728b3858c658d96564d11b6dd229823.bindTooltip(\n",
       "                `&lt;div&gt;\n",
       "                     &lt;div style=&#x27;margin:0; background-color:black; color:white;&#x27;&gt;&lt;h4 style=&#x27;text-align:center;front-weight: bold&#x27;&gt;Laos&lt;/h4&gt;&lt;hr style=&#x27;margin:10px; color:white;&#x27;&gt;&lt;ul style=&#x27;color:white; list-style-type:circle; align-item:left;padding-left:20px;padding-right:20px&#x27;&gt;&lt;li&gt;Confirmed: 73725811&lt;/li&gt;&lt;li&gt;Deaths:   259050&lt;/li&gt;&lt;li&gt;Death rate:    0.35&lt;/li&gt;&lt;/ul&gt;&lt;/div&gt;\n",
       "                 &lt;/div&gt;`,\n",
       "                {&quot;sticky&quot;: true}\n",
       "            );\n",
       "        \n",
       "    \n",
       "            var circle_c7cb96b6a9b4fc2d7a6d73866e3fc9e4 = L.circle(\n",
       "                [56.8796, 24.6032],\n",
       "                {&quot;bubblingMouseEvents&quot;: true, &quot;color&quot;: &quot;red&quot;, &quot;dashArray&quot;: null, &quot;dashOffset&quot;: null, &quot;fill&quot;: true, &quot;fillColor&quot;: &quot;blue&quot;, &quot;fillOpacity&quot;: 0.2, &quot;fillRule&quot;: &quot;evenodd&quot;, &quot;lineCap&quot;: &quot;round&quot;, &quot;lineJoin&quot;: &quot;round&quot;, &quot;opacity&quot;: 1.0, &quot;radius&quot;: 288000.0, &quot;stroke&quot;: true, &quot;weight&quot;: 3}\n",
       "            ).addTo(map_feca7f7996749b669ab93ed1eadabcc9);\n",
       "        \n",
       "    \n",
       "            circle_c7cb96b6a9b4fc2d7a6d73866e3fc9e4.bindTooltip(\n",
       "                `&lt;div&gt;\n",
       "                     &lt;div style=&#x27;margin:0; background-color:black; color:white;&#x27;&gt;&lt;h4 style=&#x27;text-align:center;front-weight: bold&#x27;&gt;Latvia&lt;/h4&gt;&lt;hr style=&#x27;margin:10px; color:white;&#x27;&gt;&lt;ul style=&#x27;color:white; list-style-type:circle; align-item:left;padding-left:20px;padding-right:20px&#x27;&gt;&lt;li&gt;Confirmed: 329164960&lt;/li&gt;&lt;li&gt;Deaths:   2912205&lt;/li&gt;&lt;li&gt;Death rate:    0.88&lt;/li&gt;&lt;/ul&gt;&lt;/div&gt;\n",
       "                 &lt;/div&gt;`,\n",
       "                {&quot;sticky&quot;: true}\n",
       "            );\n",
       "        \n",
       "    \n",
       "            var circle_259bcb93325aa08bd6e85fddd6e4efd3 = L.circle(\n",
       "                [33.8547, 35.8623],\n",
       "                {&quot;bubblingMouseEvents&quot;: true, &quot;color&quot;: &quot;red&quot;, &quot;dashArray&quot;: null, &quot;dashOffset&quot;: null, &quot;fill&quot;: true, &quot;fillColor&quot;: &quot;blue&quot;, &quot;fillOpacity&quot;: 0.2, &quot;fillRule&quot;: &quot;evenodd&quot;, &quot;lineCap&quot;: &quot;round&quot;, &quot;lineJoin&quot;: &quot;round&quot;, &quot;opacity&quot;: 1.0, &quot;radius&quot;: 303000.0, &quot;stroke&quot;: true, &quot;weight&quot;: 3}\n",
       "            ).addTo(map_feca7f7996749b669ab93ed1eadabcc9);\n",
       "        \n",
       "    \n",
       "            circle_259bcb93325aa08bd6e85fddd6e4efd3.bindTooltip(\n",
       "                `&lt;div&gt;\n",
       "                     &lt;div style=&#x27;margin:0; background-color:black; color:white;&#x27;&gt;&lt;h4 style=&#x27;text-align:center;front-weight: bold&#x27;&gt;Lebanon&lt;/h4&gt;&lt;hr style=&#x27;margin:10px; color:white;&#x27;&gt;&lt;ul style=&#x27;color:white; list-style-type:circle; align-item:left;padding-left:20px;padding-right:20px&#x27;&gt;&lt;li&gt;Confirmed: 591454905&lt;/li&gt;&lt;li&gt;Deaths:   6250941&lt;/li&gt;&lt;li&gt;Death rate:    1.06&lt;/li&gt;&lt;/ul&gt;&lt;/div&gt;\n",
       "                 &lt;/div&gt;`,\n",
       "                {&quot;sticky&quot;: true}\n",
       "            );\n",
       "        \n",
       "    \n",
       "            var circle_3abc6bc8433ab97d1d7ec05bff8b5381 = L.circle(\n",
       "                [-29.61, 28.2336],\n",
       "                {&quot;bubblingMouseEvents&quot;: true, &quot;color&quot;: &quot;red&quot;, &quot;dashArray&quot;: null, &quot;dashOffset&quot;: null, &quot;fill&quot;: true, &quot;fillColor&quot;: &quot;blue&quot;, &quot;fillOpacity&quot;: 0.2, &quot;fillRule&quot;: &quot;evenodd&quot;, &quot;lineCap&quot;: &quot;round&quot;, &quot;lineJoin&quot;: &quot;round&quot;, &quot;opacity&quot;: 1.0, &quot;radius&quot;: 243000.0, &quot;stroke&quot;: true, &quot;weight&quot;: 3}\n",
       "            ).addTo(map_feca7f7996749b669ab93ed1eadabcc9);\n",
       "        \n",
       "    \n",
       "            circle_3abc6bc8433ab97d1d7ec05bff8b5381.bindTooltip(\n",
       "                `&lt;div&gt;\n",
       "                     &lt;div style=&#x27;margin:0; background-color:black; color:white;&#x27;&gt;&lt;h4 style=&#x27;text-align:center;front-weight: bold&#x27;&gt;Lesotho&lt;/h4&gt;&lt;hr style=&#x27;margin:10px; color:white;&#x27;&gt;&lt;ul style=&#x27;color:white; list-style-type:circle; align-item:left;padding-left:20px;padding-right:20px&#x27;&gt;&lt;li&gt;Confirmed: 17043224&lt;/li&gt;&lt;li&gt;Deaths:   393784&lt;/li&gt;&lt;li&gt;Death rate:    2.31&lt;/li&gt;&lt;/ul&gt;&lt;/div&gt;\n",
       "                 &lt;/div&gt;`,\n",
       "                {&quot;sticky&quot;: true}\n",
       "            );\n",
       "        \n",
       "    \n",
       "            var circle_cec7d1bae924ceb15c1e9a7040c294b8 = L.circle(\n",
       "                [6.428055, -9.429499],\n",
       "                {&quot;bubblingMouseEvents&quot;: true, &quot;color&quot;: &quot;red&quot;, &quot;dashArray&quot;: null, &quot;dashOffset&quot;: null, &quot;fill&quot;: true, &quot;fillColor&quot;: &quot;blue&quot;, &quot;fillOpacity&quot;: 0.2, &quot;fillRule&quot;: &quot;evenodd&quot;, &quot;lineCap&quot;: &quot;round&quot;, &quot;lineJoin&quot;: &quot;round&quot;, &quot;opacity&quot;: 1.0, &quot;radius&quot;: 228000.0, &quot;stroke&quot;: true, &quot;weight&quot;: 3}\n",
       "            ).addTo(map_feca7f7996749b669ab93ed1eadabcc9);\n",
       "        \n",
       "    \n",
       "            circle_cec7d1bae924ceb15c1e9a7040c294b8.bindTooltip(\n",
       "                `&lt;div&gt;\n",
       "                     &lt;div style=&#x27;margin:0; background-color:black; color:white;&#x27;&gt;&lt;h4 style=&#x27;text-align:center;front-weight: bold&#x27;&gt;Liberia&lt;/h4&gt;&lt;hr style=&#x27;margin:10px; color:white;&#x27;&gt;&lt;ul style=&#x27;color:white; list-style-type:circle; align-item:left;padding-left:20px;padding-right:20px&#x27;&gt;&lt;li&gt;Confirmed: 4340065&lt;/li&gt;&lt;li&gt;Deaths:   179552&lt;/li&gt;&lt;li&gt;Death rate:    4.14&lt;/li&gt;&lt;/ul&gt;&lt;/div&gt;\n",
       "                 &lt;/div&gt;`,\n",
       "                {&quot;sticky&quot;: true}\n",
       "            );\n",
       "        \n",
       "    \n",
       "            var circle_d11e5342ad64bef558dcc4a62103c816 = L.circle(\n",
       "                [26.3351, 17.228331],\n",
       "                {&quot;bubblingMouseEvents&quot;: true, &quot;color&quot;: &quot;red&quot;, &quot;dashArray&quot;: null, &quot;dashOffset&quot;: null, &quot;fill&quot;: true, &quot;fillColor&quot;: &quot;blue&quot;, &quot;fillOpacity&quot;: 0.2, &quot;fillRule&quot;: &quot;evenodd&quot;, &quot;lineCap&quot;: &quot;round&quot;, &quot;lineJoin&quot;: &quot;round&quot;, &quot;opacity&quot;: 1.0, &quot;radius&quot;: 288000.0, &quot;stroke&quot;: true, &quot;weight&quot;: 3}\n",
       "            ).addTo(map_feca7f7996749b669ab93ed1eadabcc9);\n",
       "        \n",
       "    \n",
       "            circle_d11e5342ad64bef558dcc4a62103c816.bindTooltip(\n",
       "                `&lt;div&gt;\n",
       "                     &lt;div style=&#x27;margin:0; background-color:black; color:white;&#x27;&gt;&lt;h4 style=&#x27;text-align:center;front-weight: bold&#x27;&gt;Libya&lt;/h4&gt;&lt;hr style=&#x27;margin:10px; color:white;&#x27;&gt;&lt;ul style=&#x27;color:white; list-style-type:circle; align-item:left;padding-left:20px;padding-right:20px&#x27;&gt;&lt;li&gt;Confirmed: 265740464&lt;/li&gt;&lt;li&gt;Deaths:   3623565&lt;/li&gt;&lt;li&gt;Death rate:    1.36&lt;/li&gt;&lt;/ul&gt;&lt;/div&gt;\n",
       "                 &lt;/div&gt;`,\n",
       "                {&quot;sticky&quot;: true}\n",
       "            );\n",
       "        \n",
       "    \n",
       "            var circle_298505cf7a5d806c62f0136d6a9aad3d = L.circle(\n",
       "                [47.14, 9.55],\n",
       "                {&quot;bubblingMouseEvents&quot;: true, &quot;color&quot;: &quot;red&quot;, &quot;dashArray&quot;: null, &quot;dashOffset&quot;: null, &quot;fill&quot;: true, &quot;fillColor&quot;: &quot;blue&quot;, &quot;fillOpacity&quot;: 0.2, &quot;fillRule&quot;: &quot;evenodd&quot;, &quot;lineCap&quot;: &quot;round&quot;, &quot;lineJoin&quot;: &quot;round&quot;, &quot;opacity&quot;: 1.0, &quot;radius&quot;: 228000.0, &quot;stroke&quot;: true, &quot;weight&quot;: 3}\n",
       "            ).addTo(map_feca7f7996749b669ab93ed1eadabcc9);\n",
       "        \n",
       "    \n",
       "            circle_298505cf7a5d806c62f0136d6a9aad3d.bindTooltip(\n",
       "                `&lt;div&gt;\n",
       "                     &lt;div style=&#x27;margin:0; background-color:black; color:white;&#x27;&gt;&lt;h4 style=&#x27;text-align:center;front-weight: bold&#x27;&gt;Liechtenstein&lt;/h4&gt;&lt;hr style=&#x27;margin:10px; color:white;&#x27;&gt;&lt;ul style=&#x27;color:white; list-style-type:circle; align-item:left;padding-left:20px;padding-right:20px&#x27;&gt;&lt;li&gt;Confirmed: 7157773&lt;/li&gt;&lt;li&gt;Deaths:   51229&lt;/li&gt;&lt;li&gt;Death rate:    0.72&lt;/li&gt;&lt;/ul&gt;&lt;/div&gt;\n",
       "                 &lt;/div&gt;`,\n",
       "                {&quot;sticky&quot;: true}\n",
       "            );\n",
       "        \n",
       "    \n",
       "            var circle_31a3d394d28083ea4da6cf266c584524 = L.circle(\n",
       "                [55.1694, 23.8813],\n",
       "                {&quot;bubblingMouseEvents&quot;: true, &quot;color&quot;: &quot;red&quot;, &quot;dashArray&quot;: null, &quot;dashOffset&quot;: null, &quot;fill&quot;: true, &quot;fillColor&quot;: &quot;blue&quot;, &quot;fillOpacity&quot;: 0.2, &quot;fillRule&quot;: &quot;evenodd&quot;, &quot;lineCap&quot;: &quot;round&quot;, &quot;lineJoin&quot;: &quot;round&quot;, &quot;opacity&quot;: 1.0, &quot;radius&quot;: 303000.0, &quot;stroke&quot;: true, &quot;weight&quot;: 3}\n",
       "            ).addTo(map_feca7f7996749b669ab93ed1eadabcc9);\n",
       "        \n",
       "    \n",
       "            circle_31a3d394d28083ea4da6cf266c584524.bindTooltip(\n",
       "                `&lt;div&gt;\n",
       "                     &lt;div style=&#x27;margin:0; background-color:black; color:white;&#x27;&gt;&lt;h4 style=&#x27;text-align:center;front-weight: bold&#x27;&gt;Lithuania&lt;/h4&gt;&lt;hr style=&#x27;margin:10px; color:white;&#x27;&gt;&lt;ul style=&#x27;color:white; list-style-type:circle; align-item:left;padding-left:20px;padding-right:20px&#x27;&gt;&lt;li&gt;Confirmed: 498166603&lt;/li&gt;&lt;li&gt;Deaths:   4810251&lt;/li&gt;&lt;li&gt;Death rate:    0.97&lt;/li&gt;&lt;/ul&gt;&lt;/div&gt;\n",
       "                 &lt;/div&gt;`,\n",
       "                {&quot;sticky&quot;: true}\n",
       "            );\n",
       "        \n",
       "    \n",
       "            var circle_f9624499ae18d27b544b93c966010fa4 = L.circle(\n",
       "                [49.8153, 6.1296],\n",
       "                {&quot;bubblingMouseEvents&quot;: true, &quot;color&quot;: &quot;red&quot;, &quot;dashArray&quot;: null, &quot;dashOffset&quot;: null, &quot;fill&quot;: true, &quot;fillColor&quot;: &quot;blue&quot;, &quot;fillOpacity&quot;: 0.2, &quot;fillRule&quot;: &quot;evenodd&quot;, &quot;lineCap&quot;: &quot;round&quot;, &quot;lineJoin&quot;: &quot;round&quot;, &quot;opacity&quot;: 1.0, &quot;radius&quot;: 273000.0, &quot;stroke&quot;: true, &quot;weight&quot;: 3}\n",
       "            ).addTo(map_feca7f7996749b669ab93ed1eadabcc9);\n",
       "        \n",
       "    \n",
       "            circle_f9624499ae18d27b544b93c966010fa4.bindTooltip(\n",
       "                `&lt;div&gt;\n",
       "                     &lt;div style=&#x27;margin:0; background-color:black; color:white;&#x27;&gt;&lt;h4 style=&#x27;text-align:center;front-weight: bold&#x27;&gt;Luxembourg&lt;/h4&gt;&lt;hr style=&#x27;margin:10px; color:white;&#x27;&gt;&lt;ul style=&#x27;color:white; list-style-type:circle; align-item:left;padding-left:20px;padding-right:20px&#x27;&gt;&lt;li&gt;Confirmed: 114969243&lt;/li&gt;&lt;li&gt;Deaths:   701168&lt;/li&gt;&lt;li&gt;Death rate:    0.61&lt;/li&gt;&lt;/ul&gt;&lt;/div&gt;\n",
       "                 &lt;/div&gt;`,\n",
       "                {&quot;sticky&quot;: true}\n",
       "            );\n",
       "        \n",
       "    \n",
       "            var circle_12090376ec494acb2e9133ad024cd4b5 = L.circle(\n",
       "                [0.0, 0.0],\n",
       "                {&quot;bubblingMouseEvents&quot;: true, &quot;color&quot;: &quot;red&quot;, &quot;dashArray&quot;: null, &quot;dashOffset&quot;: null, &quot;fill&quot;: true, &quot;fillColor&quot;: &quot;blue&quot;, &quot;fillOpacity&quot;: 0.2, &quot;fillRule&quot;: &quot;evenodd&quot;, &quot;lineCap&quot;: &quot;round&quot;, &quot;lineJoin&quot;: &quot;round&quot;, &quot;opacity&quot;: 1.0, &quot;radius&quot;: 138000.0, &quot;stroke&quot;: true, &quot;weight&quot;: 3}\n",
       "            ).addTo(map_feca7f7996749b669ab93ed1eadabcc9);\n",
       "        \n",
       "    \n",
       "            circle_12090376ec494acb2e9133ad024cd4b5.bindTooltip(\n",
       "                `&lt;div&gt;\n",
       "                     &lt;div style=&#x27;margin:0; background-color:black; color:white;&#x27;&gt;&lt;h4 style=&#x27;text-align:center;front-weight: bold&#x27;&gt;MS Zaandam&lt;/h4&gt;&lt;hr style=&#x27;margin:10px; color:white;&#x27;&gt;&lt;ul style=&#x27;color:white; list-style-type:circle; align-item:left;padding-left:20px;padding-right:20px&#x27;&gt;&lt;li&gt;Confirmed: 8900&lt;/li&gt;&lt;li&gt;Deaths:   1976&lt;/li&gt;&lt;li&gt;Death rate:    22.2&lt;/li&gt;&lt;/ul&gt;&lt;/div&gt;\n",
       "                 &lt;/div&gt;`,\n",
       "                {&quot;sticky&quot;: true}\n",
       "            );\n",
       "        \n",
       "    \n",
       "            var circle_c603f12424fceea03cdc853d62126fcd = L.circle(\n",
       "                [-18.766947, 46.869107],\n",
       "                {&quot;bubblingMouseEvents&quot;: true, &quot;color&quot;: &quot;red&quot;, &quot;dashArray&quot;: null, &quot;dashOffset&quot;: null, &quot;fill&quot;: true, &quot;fillColor&quot;: &quot;blue&quot;, &quot;fillOpacity&quot;: 0.2, &quot;fillRule&quot;: &quot;evenodd&quot;, &quot;lineCap&quot;: &quot;round&quot;, &quot;lineJoin&quot;: &quot;round&quot;, &quot;opacity&quot;: 1.0, &quot;radius&quot;: 258000.0, &quot;stroke&quot;: true, &quot;weight&quot;: 3}\n",
       "            ).addTo(map_feca7f7996749b669ab93ed1eadabcc9);\n",
       "        \n",
       "    \n",
       "            circle_c603f12424fceea03cdc853d62126fcd.bindTooltip(\n",
       "                `&lt;div&gt;\n",
       "                     &lt;div style=&#x27;margin:0; background-color:black; color:white;&#x27;&gt;&lt;h4 style=&#x27;text-align:center;front-weight: bold&#x27;&gt;Madagascar&lt;/h4&gt;&lt;hr style=&#x27;margin:10px; color:white;&#x27;&gt;&lt;ul style=&#x27;color:white; list-style-type:circle; align-item:left;padding-left:20px;padding-right:20px&#x27;&gt;&lt;li&gt;Confirmed: 38380828&lt;/li&gt;&lt;li&gt;Deaths:   783483&lt;/li&gt;&lt;li&gt;Death rate:    2.04&lt;/li&gt;&lt;/ul&gt;&lt;/div&gt;\n",
       "                 &lt;/div&gt;`,\n",
       "                {&quot;sticky&quot;: true}\n",
       "            );\n",
       "        \n",
       "    \n",
       "            var circle_c6fd0ac99379e94c42ee07d594d43015 = L.circle(\n",
       "                [-13.2543, 34.3015],\n",
       "                {&quot;bubblingMouseEvents&quot;: true, &quot;color&quot;: &quot;red&quot;, &quot;dashArray&quot;: null, &quot;dashOffset&quot;: null, &quot;fill&quot;: true, &quot;fillColor&quot;: &quot;blue&quot;, &quot;fillOpacity&quot;: 0.2, &quot;fillRule&quot;: &quot;evenodd&quot;, &quot;lineCap&quot;: &quot;round&quot;, &quot;lineJoin&quot;: &quot;round&quot;, &quot;opacity&quot;: 1.0, &quot;radius&quot;: 258000.0, &quot;stroke&quot;: true, &quot;weight&quot;: 3}\n",
       "            ).addTo(map_feca7f7996749b669ab93ed1eadabcc9);\n",
       "        \n",
       "    \n",
       "            circle_c6fd0ac99379e94c42ee07d594d43015.bindTooltip(\n",
       "                `&lt;div&gt;\n",
       "                     &lt;div style=&#x27;margin:0; background-color:black; color:white;&#x27;&gt;&lt;h4 style=&#x27;text-align:center;front-weight: bold&#x27;&gt;Malawi&lt;/h4&gt;&lt;hr style=&#x27;margin:10px; color:white;&#x27;&gt;&lt;ul style=&#x27;color:white; list-style-type:circle; align-item:left;padding-left:20px;padding-right:20px&#x27;&gt;&lt;li&gt;Confirmed: 47148365&lt;/li&gt;&lt;li&gt;Deaths:   1504951&lt;/li&gt;&lt;li&gt;Death rate:    3.19&lt;/li&gt;&lt;/ul&gt;&lt;/div&gt;\n",
       "                 &lt;/div&gt;`,\n",
       "                {&quot;sticky&quot;: true}\n",
       "            );\n",
       "        \n",
       "    \n",
       "            var circle_0c974cb9b29c3cd36f39bbe845afb5b2 = L.circle(\n",
       "                [4.210484, 101.975766],\n",
       "                {&quot;bubblingMouseEvents&quot;: true, &quot;color&quot;: &quot;red&quot;, &quot;dashArray&quot;: null, &quot;dashOffset&quot;: null, &quot;fill&quot;: true, &quot;fillColor&quot;: &quot;blue&quot;, &quot;fillOpacity&quot;: 0.2, &quot;fillRule&quot;: &quot;evenodd&quot;, &quot;lineCap&quot;: &quot;round&quot;, &quot;lineJoin&quot;: &quot;round&quot;, &quot;opacity&quot;: 1.0, &quot;radius&quot;: 318000.0, &quot;stroke&quot;: true, &quot;weight&quot;: 3}\n",
       "            ).addTo(map_feca7f7996749b669ab93ed1eadabcc9);\n",
       "        \n",
       "    \n",
       "            circle_0c974cb9b29c3cd36f39bbe845afb5b2.bindTooltip(\n",
       "                `&lt;div&gt;\n",
       "                     &lt;div style=&#x27;margin:0; background-color:black; color:white;&#x27;&gt;&lt;h4 style=&#x27;text-align:center;front-weight: bold&#x27;&gt;Malaysia&lt;/h4&gt;&lt;hr style=&#x27;margin:10px; color:white;&#x27;&gt;&lt;ul style=&#x27;color:white; list-style-type:circle; align-item:left;padding-left:20px;padding-right:20px&#x27;&gt;&lt;li&gt;Confirmed: 1946285610&lt;/li&gt;&lt;li&gt;Deaths:   16579238&lt;/li&gt;&lt;li&gt;Death rate:    0.85&lt;/li&gt;&lt;/ul&gt;&lt;/div&gt;\n",
       "                 &lt;/div&gt;`,\n",
       "                {&quot;sticky&quot;: true}\n",
       "            );\n",
       "        \n",
       "    \n",
       "            var circle_e32d52f4aa3769dce0164304b9d108ae = L.circle(\n",
       "                [3.2028, 73.2207],\n",
       "                {&quot;bubblingMouseEvents&quot;: true, &quot;color&quot;: &quot;red&quot;, &quot;dashArray&quot;: null, &quot;dashOffset&quot;: null, &quot;fill&quot;: true, &quot;fillColor&quot;: &quot;blue&quot;, &quot;fillOpacity&quot;: 0.2, &quot;fillRule&quot;: &quot;evenodd&quot;, &quot;lineCap&quot;: &quot;round&quot;, &quot;lineJoin&quot;: &quot;round&quot;, &quot;opacity&quot;: 1.0, &quot;radius&quot;: 273000.0, &quot;stroke&quot;: true, &quot;weight&quot;: 3}\n",
       "            ).addTo(map_feca7f7996749b669ab93ed1eadabcc9);\n",
       "        \n",
       "    \n",
       "            circle_e32d52f4aa3769dce0164304b9d108ae.bindTooltip(\n",
       "                `&lt;div&gt;\n",
       "                     &lt;div style=&#x27;margin:0; background-color:black; color:white;&#x27;&gt;&lt;h4 style=&#x27;text-align:center;front-weight: bold&#x27;&gt;Maldives&lt;/h4&gt;&lt;hr style=&#x27;margin:10px; color:white;&#x27;&gt;&lt;ul style=&#x27;color:white; list-style-type:circle; align-item:left;padding-left:20px;padding-right:20px&#x27;&gt;&lt;li&gt;Confirmed: 83740521&lt;/li&gt;&lt;li&gt;Deaths:   170140&lt;/li&gt;&lt;li&gt;Death rate:    0.2&lt;/li&gt;&lt;/ul&gt;&lt;/div&gt;\n",
       "                 &lt;/div&gt;`,\n",
       "                {&quot;sticky&quot;: true}\n",
       "            );\n",
       "        \n",
       "    \n",
       "            var circle_b0eebf226f72f39de74032b48c4e4fb8 = L.circle(\n",
       "                [17.570692, -3.996166],\n",
       "                {&quot;bubblingMouseEvents&quot;: true, &quot;color&quot;: &quot;red&quot;, &quot;dashArray&quot;: null, &quot;dashOffset&quot;: null, &quot;fill&quot;: true, &quot;fillColor&quot;: &quot;blue&quot;, &quot;fillOpacity&quot;: 0.2, &quot;fillRule&quot;: &quot;evenodd&quot;, &quot;lineCap&quot;: &quot;round&quot;, &quot;lineJoin&quot;: &quot;round&quot;, &quot;opacity&quot;: 1.0, &quot;radius&quot;: 243000.0, &quot;stroke&quot;: true, &quot;weight&quot;: 3}\n",
       "            ).addTo(map_feca7f7996749b669ab93ed1eadabcc9);\n",
       "        \n",
       "    \n",
       "            circle_b0eebf226f72f39de74032b48c4e4fb8.bindTooltip(\n",
       "                `&lt;div&gt;\n",
       "                     &lt;div style=&#x27;margin:0; background-color:black; color:white;&#x27;&gt;&lt;h4 style=&#x27;text-align:center;front-weight: bold&#x27;&gt;Mali&lt;/h4&gt;&lt;hr style=&#x27;margin:10px; color:white;&#x27;&gt;&lt;ul style=&#x27;color:white; list-style-type:circle; align-item:left;padding-left:20px;padding-right:20px&#x27;&gt;&lt;li&gt;Confirmed: 16474255&lt;/li&gt;&lt;li&gt;Deaths:   464126&lt;/li&gt;&lt;li&gt;Death rate:    2.82&lt;/li&gt;&lt;/ul&gt;&lt;/div&gt;\n",
       "                 &lt;/div&gt;`,\n",
       "                {&quot;sticky&quot;: true}\n",
       "            );\n",
       "        \n",
       "    \n",
       "            var circle_18a75572c5109c8d527259737e5bb505 = L.circle(\n",
       "                [35.9375, 14.3754],\n",
       "                {&quot;bubblingMouseEvents&quot;: true, &quot;color&quot;: &quot;red&quot;, &quot;dashArray&quot;: null, &quot;dashOffset&quot;: null, &quot;fill&quot;: true, &quot;fillColor&quot;: &quot;blue&quot;, &quot;fillOpacity&quot;: 0.2, &quot;fillRule&quot;: &quot;evenodd&quot;, &quot;lineCap&quot;: &quot;round&quot;, &quot;lineJoin&quot;: &quot;round&quot;, &quot;opacity&quot;: 1.0, &quot;radius&quot;: 258000.0, &quot;stroke&quot;: true, &quot;weight&quot;: 3}\n",
       "            ).addTo(map_feca7f7996749b669ab93ed1eadabcc9);\n",
       "        \n",
       "    \n",
       "            circle_18a75572c5109c8d527259737e5bb505.bindTooltip(\n",
       "                `&lt;div&gt;\n",
       "                     &lt;div style=&#x27;margin:0; background-color:black; color:white;&#x27;&gt;&lt;h4 style=&#x27;text-align:center;front-weight: bold&#x27;&gt;Malta&lt;/h4&gt;&lt;hr style=&#x27;margin:10px; color:white;&#x27;&gt;&lt;ul style=&#x27;color:white; list-style-type:circle; align-item:left;padding-left:20px;padding-right:20px&#x27;&gt;&lt;li&gt;Confirmed: 46034436&lt;/li&gt;&lt;li&gt;Deaths:   407397&lt;/li&gt;&lt;li&gt;Death rate:    0.88&lt;/li&gt;&lt;/ul&gt;&lt;/div&gt;\n",
       "                 &lt;/div&gt;`,\n",
       "                {&quot;sticky&quot;: true}\n",
       "            );\n",
       "        \n",
       "    \n",
       "            var circle_8182969792ef395c921d2de680529523 = L.circle(\n",
       "                [7.1315, 171.1845],\n",
       "                {&quot;bubblingMouseEvents&quot;: true, &quot;color&quot;: &quot;red&quot;, &quot;dashArray&quot;: null, &quot;dashOffset&quot;: null, &quot;fill&quot;: true, &quot;fillColor&quot;: &quot;blue&quot;, &quot;fillOpacity&quot;: 0.2, &quot;fillRule&quot;: &quot;evenodd&quot;, &quot;lineCap&quot;: &quot;round&quot;, &quot;lineJoin&quot;: &quot;round&quot;, &quot;opacity&quot;: 1.0, &quot;radius&quot;: 213000.0, &quot;stroke&quot;: true, &quot;weight&quot;: 3}\n",
       "            ).addTo(map_feca7f7996749b669ab93ed1eadabcc9);\n",
       "        \n",
       "    \n",
       "            circle_8182969792ef395c921d2de680529523.bindTooltip(\n",
       "                `&lt;div&gt;\n",
       "                     &lt;div style=&#x27;margin:0; background-color:black; color:white;&#x27;&gt;&lt;h4 style=&#x27;text-align:center;front-weight: bold&#x27;&gt;Marshall Islands&lt;/h4&gt;&lt;hr style=&#x27;margin:10px; color:white;&#x27;&gt;&lt;ul style=&#x27;color:white; list-style-type:circle; align-item:left;padding-left:20px;padding-right:20px&#x27;&gt;&lt;li&gt;Confirmed: 1811421&lt;/li&gt;&lt;li&gt;Deaths:   2018&lt;/li&gt;&lt;li&gt;Death rate:    0.11&lt;/li&gt;&lt;/ul&gt;&lt;/div&gt;\n",
       "                 &lt;/div&gt;`,\n",
       "                {&quot;sticky&quot;: true}\n",
       "            );\n",
       "        \n",
       "    \n",
       "            var circle_82e0c85aec2783c22833bbf33979079e = L.circle(\n",
       "                [21.0079, -10.9408],\n",
       "                {&quot;bubblingMouseEvents&quot;: true, &quot;color&quot;: &quot;red&quot;, &quot;dashArray&quot;: null, &quot;dashOffset&quot;: null, &quot;fill&quot;: true, &quot;fillColor&quot;: &quot;blue&quot;, &quot;fillOpacity&quot;: 0.2, &quot;fillRule&quot;: &quot;evenodd&quot;, &quot;lineCap&quot;: &quot;round&quot;, &quot;lineJoin&quot;: &quot;round&quot;, &quot;opacity&quot;: 1.0, &quot;radius&quot;: 258000.0, &quot;stroke&quot;: true, &quot;weight&quot;: 3}\n",
       "            ).addTo(map_feca7f7996749b669ab93ed1eadabcc9);\n",
       "        \n",
       "    \n",
       "            circle_82e0c85aec2783c22833bbf33979079e.bindTooltip(\n",
       "                `&lt;div&gt;\n",
       "                     &lt;div style=&#x27;margin:0; background-color:black; color:white;&#x27;&gt;&lt;h4 style=&#x27;text-align:center;front-weight: bold&#x27;&gt;Mauritania&lt;/h4&gt;&lt;hr style=&#x27;margin:10px; color:white;&#x27;&gt;&lt;ul style=&#x27;color:white; list-style-type:circle; align-item:left;padding-left:20px;padding-right:20px&#x27;&gt;&lt;li&gt;Confirmed: 31904058&lt;/li&gt;&lt;li&gt;Deaths:   589726&lt;/li&gt;&lt;li&gt;Death rate:    1.85&lt;/li&gt;&lt;/ul&gt;&lt;/div&gt;\n",
       "                 &lt;/div&gt;`,\n",
       "                {&quot;sticky&quot;: true}\n",
       "            );\n",
       "        \n",
       "    \n",
       "            var circle_30b4c23c8ca0c35f2071ebe84234dc77 = L.circle(\n",
       "                [-20.348404, 57.552152],\n",
       "                {&quot;bubblingMouseEvents&quot;: true, &quot;color&quot;: &quot;red&quot;, &quot;dashArray&quot;: null, &quot;dashOffset&quot;: null, &quot;fill&quot;: true, &quot;fillColor&quot;: &quot;blue&quot;, &quot;fillOpacity&quot;: 0.2, &quot;fillRule&quot;: &quot;evenodd&quot;, &quot;lineCap&quot;: &quot;round&quot;, &quot;lineJoin&quot;: &quot;round&quot;, &quot;opacity&quot;: 1.0, &quot;radius&quot;: 273000.0, &quot;stroke&quot;: true, &quot;weight&quot;: 3}\n",
       "            ).addTo(map_feca7f7996749b669ab93ed1eadabcc9);\n",
       "        \n",
       "    \n",
       "            circle_30b4c23c8ca0c35f2071ebe84234dc77.bindTooltip(\n",
       "                `&lt;div&gt;\n",
       "                     &lt;div style=&#x27;margin:0; background-color:black; color:white;&#x27;&gt;&lt;h4 style=&#x27;text-align:center;front-weight: bold&#x27;&gt;Mauritius&lt;/h4&gt;&lt;hr style=&#x27;margin:10px; color:white;&#x27;&gt;&lt;ul style=&#x27;color:white; list-style-type:circle; align-item:left;padding-left:20px;padding-right:20px&#x27;&gt;&lt;li&gt;Confirmed: 80067864&lt;/li&gt;&lt;li&gt;Deaths:   382401&lt;/li&gt;&lt;li&gt;Death rate:    0.48&lt;/li&gt;&lt;/ul&gt;&lt;/div&gt;\n",
       "                 &lt;/div&gt;`,\n",
       "                {&quot;sticky&quot;: true}\n",
       "            );\n",
       "        \n",
       "    \n",
       "            var circle_161c9f36e122f2566f3c8d68d11d0b28 = L.circle(\n",
       "                [23.6345, -102.5528],\n",
       "                {&quot;bubblingMouseEvents&quot;: true, &quot;color&quot;: &quot;red&quot;, &quot;dashArray&quot;: null, &quot;dashOffset&quot;: null, &quot;fill&quot;: true, &quot;fillColor&quot;: &quot;blue&quot;, &quot;fillOpacity&quot;: 0.2, &quot;fillRule&quot;: &quot;evenodd&quot;, &quot;lineCap&quot;: &quot;round&quot;, &quot;lineJoin&quot;: &quot;round&quot;, &quot;opacity&quot;: 1.0, &quot;radius&quot;: 318000.0, &quot;stroke&quot;: true, &quot;weight&quot;: 3}\n",
       "            ).addTo(map_feca7f7996749b669ab93ed1eadabcc9);\n",
       "        \n",
       "    \n",
       "            circle_161c9f36e122f2566f3c8d68d11d0b28.bindTooltip(\n",
       "                `&lt;div&gt;\n",
       "                     &lt;div style=&#x27;margin:0; background-color:black; color:white;&#x27;&gt;&lt;h4 style=&#x27;text-align:center;front-weight: bold&#x27;&gt;Mexico&lt;/h4&gt;&lt;hr style=&#x27;margin:10px; color:white;&#x27;&gt;&lt;ul style=&#x27;color:white; list-style-type:circle; align-item:left;padding-left:20px;padding-right:20px&#x27;&gt;&lt;li&gt;Confirmed: 3320140661&lt;/li&gt;&lt;li&gt;Deaths:   212866434&lt;/li&gt;&lt;li&gt;Death rate:    6.41&lt;/li&gt;&lt;/ul&gt;&lt;/div&gt;\n",
       "                 &lt;/div&gt;`,\n",
       "                {&quot;sticky&quot;: true}\n",
       "            );\n",
       "        \n",
       "    \n",
       "            var circle_90c9903c089071443bcf07f80afbcc0d = L.circle(\n",
       "                [7.4256, 150.5508],\n",
       "                {&quot;bubblingMouseEvents&quot;: true, &quot;color&quot;: &quot;red&quot;, &quot;dashArray&quot;: null, &quot;dashOffset&quot;: null, &quot;fill&quot;: true, &quot;fillColor&quot;: &quot;blue&quot;, &quot;fillOpacity&quot;: 0.2, &quot;fillRule&quot;: &quot;evenodd&quot;, &quot;lineCap&quot;: &quot;round&quot;, &quot;lineJoin&quot;: &quot;round&quot;, &quot;opacity&quot;: 1.0, &quot;radius&quot;: 213000.0, &quot;stroke&quot;: true, &quot;weight&quot;: 3}\n",
       "            ).addTo(map_feca7f7996749b669ab93ed1eadabcc9);\n",
       "        \n",
       "    \n",
       "            circle_90c9903c089071443bcf07f80afbcc0d.bindTooltip(\n",
       "                `&lt;div&gt;\n",
       "                     &lt;div style=&#x27;margin:0; background-color:black; color:white;&#x27;&gt;&lt;h4 style=&#x27;text-align:center;front-weight: bold&#x27;&gt;Micronesia&lt;/h4&gt;&lt;hr style=&#x27;margin:10px; color:white;&#x27;&gt;&lt;ul style=&#x27;color:white; list-style-type:circle; align-item:left;padding-left:20px;padding-right:20px&#x27;&gt;&lt;li&gt;Confirmed: 2132214&lt;/li&gt;&lt;li&gt;Deaths:   5528&lt;/li&gt;&lt;li&gt;Death rate:    0.26&lt;/li&gt;&lt;/ul&gt;&lt;/div&gt;\n",
       "                 &lt;/div&gt;`,\n",
       "                {&quot;sticky&quot;: true}\n",
       "            );\n",
       "        \n",
       "    \n",
       "            var circle_af49c7dcbcf58f3374070472a8c6d411 = L.circle(\n",
       "                [47.4116, 28.3699],\n",
       "                {&quot;bubblingMouseEvents&quot;: true, &quot;color&quot;: &quot;red&quot;, &quot;dashArray&quot;: null, &quot;dashOffset&quot;: null, &quot;fill&quot;: true, &quot;fillColor&quot;: &quot;blue&quot;, &quot;fillOpacity&quot;: 0.2, &quot;fillRule&quot;: &quot;evenodd&quot;, &quot;lineCap&quot;: &quot;round&quot;, &quot;lineJoin&quot;: &quot;round&quot;, &quot;opacity&quot;: 1.0, &quot;radius&quot;: 288000.0, &quot;stroke&quot;: true, &quot;weight&quot;: 3}\n",
       "            ).addTo(map_feca7f7996749b669ab93ed1eadabcc9);\n",
       "        \n",
       "    \n",
       "            circle_af49c7dcbcf58f3374070472a8c6d411.bindTooltip(\n",
       "                `&lt;div&gt;\n",
       "                     &lt;div style=&#x27;margin:0; background-color:black; color:white;&#x27;&gt;&lt;h4 style=&#x27;text-align:center;front-weight: bold&#x27;&gt;Moldova&lt;/h4&gt;&lt;hr style=&#x27;margin:10px; color:white;&#x27;&gt;&lt;ul style=&#x27;color:white; list-style-type:circle; align-item:left;padding-left:20px;padding-right:20px&#x27;&gt;&lt;li&gt;Confirmed: 291720991&lt;/li&gt;&lt;li&gt;Deaths:   6527684&lt;/li&gt;&lt;li&gt;Death rate:    2.24&lt;/li&gt;&lt;/ul&gt;&lt;/div&gt;\n",
       "                 &lt;/div&gt;`,\n",
       "                {&quot;sticky&quot;: true}\n",
       "            );\n",
       "        \n",
       "    \n",
       "            var circle_2d18c76c696f62d907646d80a44f1f60 = L.circle(\n",
       "                [43.7333, 7.4167],\n",
       "                {&quot;bubblingMouseEvents&quot;: true, &quot;color&quot;: &quot;red&quot;, &quot;dashArray&quot;: null, &quot;dashOffset&quot;: null, &quot;fill&quot;: true, &quot;fillColor&quot;: &quot;blue&quot;, &quot;fillOpacity&quot;: 0.2, &quot;fillRule&quot;: &quot;evenodd&quot;, &quot;lineCap&quot;: &quot;round&quot;, &quot;lineJoin&quot;: &quot;round&quot;, &quot;opacity&quot;: 1.0, &quot;radius&quot;: 228000.0, &quot;stroke&quot;: true, &quot;weight&quot;: 3}\n",
       "            ).addTo(map_feca7f7996749b669ab93ed1eadabcc9);\n",
       "        \n",
       "    \n",
       "            circle_2d18c76c696f62d907646d80a44f1f60.bindTooltip(\n",
       "                `&lt;div&gt;\n",
       "                     &lt;div style=&#x27;margin:0; background-color:black; color:white;&#x27;&gt;&lt;h4 style=&#x27;text-align:center;front-weight: bold&#x27;&gt;Monaco&lt;/h4&gt;&lt;hr style=&#x27;margin:10px; color:white;&#x27;&gt;&lt;ul style=&#x27;color:white; list-style-type:circle; align-item:left;padding-left:20px;padding-right:20px&#x27;&gt;&lt;li&gt;Confirmed: 5358068&lt;/li&gt;&lt;li&gt;Deaths:   31669&lt;/li&gt;&lt;li&gt;Death rate:    0.59&lt;/li&gt;&lt;/ul&gt;&lt;/div&gt;\n",
       "                 &lt;/div&gt;`,\n",
       "                {&quot;sticky&quot;: true}\n",
       "            );\n",
       "        \n",
       "    \n",
       "            var circle_fb3545db16843eaf59dd00a8d55af864 = L.circle(\n",
       "                [46.8625, 103.8467],\n",
       "                {&quot;bubblingMouseEvents&quot;: true, &quot;color&quot;: &quot;red&quot;, &quot;dashArray&quot;: null, &quot;dashOffset&quot;: null, &quot;fill&quot;: true, &quot;fillColor&quot;: &quot;blue&quot;, &quot;fillOpacity&quot;: 0.2, &quot;fillRule&quot;: &quot;evenodd&quot;, &quot;lineCap&quot;: &quot;round&quot;, &quot;lineJoin&quot;: &quot;round&quot;, &quot;opacity&quot;: 1.0, &quot;radius&quot;: 288000.0, &quot;stroke&quot;: true, &quot;weight&quot;: 3}\n",
       "            ).addTo(map_feca7f7996749b669ab93ed1eadabcc9);\n",
       "        \n",
       "    \n",
       "            circle_fb3545db16843eaf59dd00a8d55af864.bindTooltip(\n",
       "                `&lt;div&gt;\n",
       "                     &lt;div style=&#x27;margin:0; background-color:black; color:white;&#x27;&gt;&lt;h4 style=&#x27;text-align:center;front-weight: bold&#x27;&gt;Mongolia&lt;/h4&gt;&lt;hr style=&#x27;margin:10px; color:white;&#x27;&gt;&lt;ul style=&#x27;color:white; list-style-type:circle; align-item:left;padding-left:20px;padding-right:20px&#x27;&gt;&lt;li&gt;Confirmed: 402061736&lt;/li&gt;&lt;li&gt;Deaths:   985463&lt;/li&gt;&lt;li&gt;Death rate:    0.25&lt;/li&gt;&lt;/ul&gt;&lt;/div&gt;\n",
       "                 &lt;/div&gt;`,\n",
       "                {&quot;sticky&quot;: true}\n",
       "            );\n",
       "        \n",
       "    \n",
       "            var circle_aa8c94d9d590798148563bb75ccb88a6 = L.circle(\n",
       "                [42.708678, 19.37439],\n",
       "                {&quot;bubblingMouseEvents&quot;: true, &quot;color&quot;: &quot;red&quot;, &quot;dashArray&quot;: null, &quot;dashOffset&quot;: null, &quot;fill&quot;: true, &quot;fillColor&quot;: &quot;blue&quot;, &quot;fillOpacity&quot;: 0.2, &quot;fillRule&quot;: &quot;evenodd&quot;, &quot;lineCap&quot;: &quot;round&quot;, &quot;lineJoin&quot;: &quot;round&quot;, &quot;opacity&quot;: 1.0, &quot;radius&quot;: 273000.0, &quot;stroke&quot;: true, &quot;weight&quot;: 3}\n",
       "            ).addTo(map_feca7f7996749b669ab93ed1eadabcc9);\n",
       "        \n",
       "    \n",
       "            circle_aa8c94d9d590798148563bb75ccb88a6.bindTooltip(\n",
       "                `&lt;div&gt;\n",
       "                     &lt;div style=&#x27;margin:0; background-color:black; color:white;&#x27;&gt;&lt;h4 style=&#x27;text-align:center;front-weight: bold&#x27;&gt;Montenegro&lt;/h4&gt;&lt;hr style=&#x27;margin:10px; color:white;&#x27;&gt;&lt;ul style=&#x27;color:white; list-style-type:circle; align-item:left;padding-left:20px;padding-right:20px&#x27;&gt;&lt;li&gt;Confirmed: 129030275&lt;/li&gt;&lt;li&gt;Deaths:   1570402&lt;/li&gt;&lt;li&gt;Death rate:    1.22&lt;/li&gt;&lt;/ul&gt;&lt;/div&gt;\n",
       "                 &lt;/div&gt;`,\n",
       "                {&quot;sticky&quot;: true}\n",
       "            );\n",
       "        \n",
       "    \n",
       "            var circle_290084971322d276a6af6b4db0f8c458 = L.circle(\n",
       "                [31.7917, -7.0926],\n",
       "                {&quot;bubblingMouseEvents&quot;: true, &quot;color&quot;: &quot;red&quot;, &quot;dashArray&quot;: null, &quot;dashOffset&quot;: null, &quot;fill&quot;: true, &quot;fillColor&quot;: &quot;blue&quot;, &quot;fillOpacity&quot;: 0.2, &quot;fillRule&quot;: &quot;evenodd&quot;, &quot;lineCap&quot;: &quot;round&quot;, &quot;lineJoin&quot;: &quot;round&quot;, &quot;opacity&quot;: 1.0, &quot;radius&quot;: 303000.0, &quot;stroke&quot;: true, &quot;weight&quot;: 3}\n",
       "            ).addTo(map_feca7f7996749b669ab93ed1eadabcc9);\n",
       "        \n",
       "    \n",
       "            circle_290084971322d276a6af6b4db0f8c458.bindTooltip(\n",
       "                `&lt;div&gt;\n",
       "                     &lt;div style=&#x27;margin:0; background-color:black; color:white;&#x27;&gt;&lt;h4 style=&#x27;text-align:center;front-weight: bold&#x27;&gt;Morocco&lt;/h4&gt;&lt;hr style=&#x27;margin:10px; color:white;&#x27;&gt;&lt;ul style=&#x27;color:white; list-style-type:circle; align-item:left;padding-left:20px;padding-right:20px&#x27;&gt;&lt;li&gt;Confirmed: 694835553&lt;/li&gt;&lt;li&gt;Deaths:   10102450&lt;/li&gt;&lt;li&gt;Death rate:    1.45&lt;/li&gt;&lt;/ul&gt;&lt;/div&gt;\n",
       "                 &lt;/div&gt;`,\n",
       "                {&quot;sticky&quot;: true}\n",
       "            );\n",
       "        \n",
       "    \n",
       "            var circle_3e20ab17ce3ba03933f89525c5f59764 = L.circle(\n",
       "                [-18.665695, 35.529562],\n",
       "                {&quot;bubblingMouseEvents&quot;: true, &quot;color&quot;: &quot;red&quot;, &quot;dashArray&quot;: null, &quot;dashOffset&quot;: null, &quot;fill&quot;: true, &quot;fillColor&quot;: &quot;blue&quot;, &quot;fillOpacity&quot;: 0.2, &quot;fillRule&quot;: &quot;evenodd&quot;, &quot;lineCap&quot;: &quot;round&quot;, &quot;lineJoin&quot;: &quot;round&quot;, &quot;opacity&quot;: 1.0, &quot;radius&quot;: 273000.0, &quot;stroke&quot;: true, &quot;weight&quot;: 3}\n",
       "            ).addTo(map_feca7f7996749b669ab93ed1eadabcc9);\n",
       "        \n",
       "    \n",
       "            circle_3e20ab17ce3ba03933f89525c5f59764.bindTooltip(\n",
       "                `&lt;div&gt;\n",
       "                     &lt;div style=&#x27;margin:0; background-color:black; color:white;&#x27;&gt;&lt;h4 style=&#x27;text-align:center;front-weight: bold&#x27;&gt;Mozambique&lt;/h4&gt;&lt;hr style=&#x27;margin:10px; color:white;&#x27;&gt;&lt;ul style=&#x27;color:white; list-style-type:circle; align-item:left;padding-left:20px;padding-right:20px&#x27;&gt;&lt;li&gt;Confirmed: 117171039&lt;/li&gt;&lt;li&gt;Deaths:   1220976&lt;/li&gt;&lt;li&gt;Death rate:    1.04&lt;/li&gt;&lt;/ul&gt;&lt;/div&gt;\n",
       "                 &lt;/div&gt;`,\n",
       "                {&quot;sticky&quot;: true}\n",
       "            );\n",
       "        \n",
       "    \n",
       "            var circle_5cfa45927b3d124b17739058219d53d4 = L.circle(\n",
       "                [-22.9576, 18.4904],\n",
       "                {&quot;bubblingMouseEvents&quot;: true, &quot;color&quot;: &quot;red&quot;, &quot;dashArray&quot;: null, &quot;dashOffset&quot;: null, &quot;fill&quot;: true, &quot;fillColor&quot;: &quot;blue&quot;, &quot;fillOpacity&quot;: 0.2, &quot;fillRule&quot;: &quot;evenodd&quot;, &quot;lineCap&quot;: &quot;round&quot;, &quot;lineJoin&quot;: &quot;round&quot;, &quot;opacity&quot;: 1.0, &quot;radius&quot;: 273000.0, &quot;stroke&quot;: true, &quot;weight&quot;: 3}\n",
       "            ).addTo(map_feca7f7996749b669ab93ed1eadabcc9);\n",
       "        \n",
       "    \n",
       "            circle_5cfa45927b3d124b17739058219d53d4.bindTooltip(\n",
       "                `&lt;div&gt;\n",
       "                     &lt;div style=&#x27;margin:0; background-color:black; color:white;&#x27;&gt;&lt;h4 style=&#x27;text-align:center;front-weight: bold&#x27;&gt;Namibia&lt;/h4&gt;&lt;hr style=&#x27;margin:10px; color:white;&#x27;&gt;&lt;ul style=&#x27;color:white; list-style-type:circle; align-item:left;padding-left:20px;padding-right:20px&#x27;&gt;&lt;li&gt;Confirmed: 90275497&lt;/li&gt;&lt;li&gt;Deaths:   2131326&lt;/li&gt;&lt;li&gt;Death rate:    2.36&lt;/li&gt;&lt;/ul&gt;&lt;/div&gt;\n",
       "                 &lt;/div&gt;`,\n",
       "                {&quot;sticky&quot;: true}\n",
       "            );\n",
       "        \n",
       "    \n",
       "            var circle_be0810933e819b64c86cd500f590eb19 = L.circle(\n",
       "                [-0.5228, 166.9315],\n",
       "                {&quot;bubblingMouseEvents&quot;: true, &quot;color&quot;: &quot;red&quot;, &quot;dashArray&quot;: null, &quot;dashOffset&quot;: null, &quot;fill&quot;: true, &quot;fillColor&quot;: &quot;blue&quot;, &quot;fillOpacity&quot;: 0.2, &quot;fillRule&quot;: &quot;evenodd&quot;, &quot;lineCap&quot;: &quot;round&quot;, &quot;lineJoin&quot;: &quot;round&quot;, &quot;opacity&quot;: 1.0, &quot;radius&quot;: 198000.0, &quot;stroke&quot;: true, &quot;weight&quot;: 3}\n",
       "            ).addTo(map_feca7f7996749b669ab93ed1eadabcc9);\n",
       "        \n",
       "    \n",
       "            circle_be0810933e819b64c86cd500f590eb19.bindTooltip(\n",
       "                `&lt;div&gt;\n",
       "                     &lt;div style=&#x27;margin:0; background-color:black; color:white;&#x27;&gt;&lt;h4 style=&#x27;text-align:center;front-weight: bold&#x27;&gt;Nauru&lt;/h4&gt;&lt;hr style=&#x27;margin:10px; color:white;&#x27;&gt;&lt;ul style=&#x27;color:white; list-style-type:circle; align-item:left;padding-left:20px;padding-right:20px&#x27;&gt;&lt;li&gt;Confirmed: 776889&lt;/li&gt;&lt;li&gt;Deaths:   166&lt;/li&gt;&lt;li&gt;Death rate:    0.02&lt;/li&gt;&lt;/ul&gt;&lt;/div&gt;\n",
       "                 &lt;/div&gt;`,\n",
       "                {&quot;sticky&quot;: true}\n",
       "            );\n",
       "        \n",
       "    \n",
       "            var circle_efe8e4467ae0c7da2bc28c648879b8f3 = L.circle(\n",
       "                [28.1667, 84.25],\n",
       "                {&quot;bubblingMouseEvents&quot;: true, &quot;color&quot;: &quot;red&quot;, &quot;dashArray&quot;: null, &quot;dashOffset&quot;: null, &quot;fill&quot;: true, &quot;fillColor&quot;: &quot;blue&quot;, &quot;fillOpacity&quot;: 0.2, &quot;fillRule&quot;: &quot;evenodd&quot;, &quot;lineCap&quot;: &quot;round&quot;, &quot;lineJoin&quot;: &quot;round&quot;, &quot;opacity&quot;: 1.0, &quot;radius&quot;: 303000.0, &quot;stroke&quot;: true, &quot;weight&quot;: 3}\n",
       "            ).addTo(map_feca7f7996749b669ab93ed1eadabcc9);\n",
       "        \n",
       "    \n",
       "            circle_efe8e4467ae0c7da2bc28c648879b8f3.bindTooltip(\n",
       "                `&lt;div&gt;\n",
       "                     &lt;div style=&#x27;margin:0; background-color:black; color:white;&#x27;&gt;&lt;h4 style=&#x27;text-align:center;front-weight: bold&#x27;&gt;Nepal&lt;/h4&gt;&lt;hr style=&#x27;margin:10px; color:white;&#x27;&gt;&lt;ul style=&#x27;color:white; list-style-type:circle; align-item:left;padding-left:20px;padding-right:20px&#x27;&gt;&lt;li&gt;Confirmed: 568446070&lt;/li&gt;&lt;li&gt;Deaths:   6999966&lt;/li&gt;&lt;li&gt;Death rate:    1.23&lt;/li&gt;&lt;/ul&gt;&lt;/div&gt;\n",
       "                 &lt;/div&gt;`,\n",
       "                {&quot;sticky&quot;: true}\n",
       "            );\n",
       "        \n",
       "    \n",
       "            var circle_a68387238adc4717c21b9a7753cb890c = L.circle(\n",
       "                [12.5211, -69.9683],\n",
       "                {&quot;bubblingMouseEvents&quot;: true, &quot;color&quot;: &quot;red&quot;, &quot;dashArray&quot;: null, &quot;dashOffset&quot;: null, &quot;fill&quot;: true, &quot;fillColor&quot;: &quot;blue&quot;, &quot;fillOpacity&quot;: 0.2, &quot;fillRule&quot;: &quot;evenodd&quot;, &quot;lineCap&quot;: &quot;round&quot;, &quot;lineJoin&quot;: &quot;round&quot;, &quot;opacity&quot;: 1.0, &quot;radius&quot;: 243000.0, &quot;stroke&quot;: true, &quot;weight&quot;: 3}\n",
       "            ).addTo(map_feca7f7996749b669ab93ed1eadabcc9);\n",
       "        \n",
       "    \n",
       "            circle_a68387238adc4717c21b9a7753cb890c.bindTooltip(\n",
       "                `&lt;div&gt;\n",
       "                     &lt;div style=&#x27;margin:0; background-color:black; color:white;&#x27;&gt;&lt;h4 style=&#x27;text-align:center;front-weight: bold&#x27;&gt;Netherlands&lt;/h4&gt;&lt;hr style=&#x27;margin:10px; color:white;&#x27;&gt;&lt;ul style=&#x27;color:white; list-style-type:circle; align-item:left;padding-left:20px;padding-right:20px&#x27;&gt;&lt;li&gt;Confirmed: 18312613&lt;/li&gt;&lt;li&gt;Deaths:   123964&lt;/li&gt;&lt;li&gt;Death rate:    0.68&lt;/li&gt;&lt;/ul&gt;&lt;/div&gt;\n",
       "                 &lt;/div&gt;`,\n",
       "                {&quot;sticky&quot;: true}\n",
       "            );\n",
       "        \n",
       "    \n",
       "            var circle_380d8b23f41fa6cfff49cb87fcde9322 = L.circle(\n",
       "                [12.1784, -68.2385],\n",
       "                {&quot;bubblingMouseEvents&quot;: true, &quot;color&quot;: &quot;red&quot;, &quot;dashArray&quot;: null, &quot;dashOffset&quot;: null, &quot;fill&quot;: true, &quot;fillColor&quot;: &quot;blue&quot;, &quot;fillOpacity&quot;: 0.2, &quot;fillRule&quot;: &quot;evenodd&quot;, &quot;lineCap&quot;: &quot;round&quot;, &quot;lineJoin&quot;: &quot;round&quot;, &quot;opacity&quot;: 1.0, &quot;radius&quot;: 228000.0, &quot;stroke&quot;: true, &quot;weight&quot;: 3}\n",
       "            ).addTo(map_feca7f7996749b669ab93ed1eadabcc9);\n",
       "        \n",
       "    \n",
       "            circle_380d8b23f41fa6cfff49cb87fcde9322.bindTooltip(\n",
       "                `&lt;div&gt;\n",
       "                     &lt;div style=&#x27;margin:0; background-color:black; color:white;&#x27;&gt;&lt;h4 style=&#x27;text-align:center;front-weight: bold&#x27;&gt;Netherlands&lt;/h4&gt;&lt;hr style=&#x27;margin:10px; color:white;&#x27;&gt;&lt;ul style=&#x27;color:white; list-style-type:circle; align-item:left;padding-left:20px;padding-right:20px&#x27;&gt;&lt;li&gt;Confirmed: 3937638&lt;/li&gt;&lt;li&gt;Deaths:   17235&lt;/li&gt;&lt;li&gt;Death rate:    0.44&lt;/li&gt;&lt;/ul&gt;&lt;/div&gt;\n",
       "                 &lt;/div&gt;`,\n",
       "                {&quot;sticky&quot;: true}\n",
       "            );\n",
       "        \n",
       "    \n",
       "            var circle_4841f501388e4d3ca4cc75a3b4c3f9cf = L.circle(\n",
       "                [12.1696, -68.99],\n",
       "                {&quot;bubblingMouseEvents&quot;: true, &quot;color&quot;: &quot;red&quot;, &quot;dashArray&quot;: null, &quot;dashOffset&quot;: null, &quot;fill&quot;: true, &quot;fillColor&quot;: &quot;blue&quot;, &quot;fillOpacity&quot;: 0.2, &quot;fillRule&quot;: &quot;evenodd&quot;, &quot;lineCap&quot;: &quot;round&quot;, &quot;lineJoin&quot;: &quot;round&quot;, &quot;opacity&quot;: 1.0, &quot;radius&quot;: 243000.0, &quot;stroke&quot;: true, &quot;weight&quot;: 3}\n",
       "            ).addTo(map_feca7f7996749b669ab93ed1eadabcc9);\n",
       "        \n",
       "    \n",
       "            circle_4841f501388e4d3ca4cc75a3b4c3f9cf.bindTooltip(\n",
       "                `&lt;div&gt;\n",
       "                     &lt;div style=&#x27;margin:0; background-color:black; color:white;&#x27;&gt;&lt;h4 style=&#x27;text-align:center;front-weight: bold&#x27;&gt;Netherlands&lt;/h4&gt;&lt;hr style=&#x27;margin:10px; color:white;&#x27;&gt;&lt;ul style=&#x27;color:white; list-style-type:circle; align-item:left;padding-left:20px;padding-right:20px&#x27;&gt;&lt;li&gt;Confirmed: 19411522&lt;/li&gt;&lt;li&gt;Deaths:   135970&lt;/li&gt;&lt;li&gt;Death rate:    0.7&lt;/li&gt;&lt;/ul&gt;&lt;/div&gt;\n",
       "                 &lt;/div&gt;`,\n",
       "                {&quot;sticky&quot;: true}\n",
       "            );\n",
       "        \n",
       "    \n",
       "            var circle_80508404222d7177f2d662ccb30bd15a = L.circle(\n",
       "                [18.0425, -63.0548],\n",
       "                {&quot;bubblingMouseEvents&quot;: true, &quot;color&quot;: &quot;red&quot;, &quot;dashArray&quot;: null, &quot;dashOffset&quot;: null, &quot;fill&quot;: true, &quot;fillColor&quot;: &quot;blue&quot;, &quot;fillOpacity&quot;: 0.2, &quot;fillRule&quot;: &quot;evenodd&quot;, &quot;lineCap&quot;: &quot;round&quot;, &quot;lineJoin&quot;: &quot;round&quot;, &quot;opacity&quot;: 1.0, &quot;radius&quot;: 228000.0, &quot;stroke&quot;: true, &quot;weight&quot;: 3}\n",
       "            ).addTo(map_feca7f7996749b669ab93ed1eadabcc9);\n",
       "        \n",
       "    \n",
       "            circle_80508404222d7177f2d662ccb30bd15a.bindTooltip(\n",
       "                `&lt;div&gt;\n",
       "                     &lt;div style=&#x27;margin:0; background-color:black; color:white;&#x27;&gt;&lt;h4 style=&#x27;text-align:center;front-weight: bold&#x27;&gt;Netherlands&lt;/h4&gt;&lt;hr style=&#x27;margin:10px; color:white;&#x27;&gt;&lt;ul style=&#x27;color:white; list-style-type:circle; align-item:left;padding-left:20px;padding-right:20px&#x27;&gt;&lt;li&gt;Confirmed: 4779128&lt;/li&gt;&lt;li&gt;Deaths:   50626&lt;/li&gt;&lt;li&gt;Death rate:    1.06&lt;/li&gt;&lt;/ul&gt;&lt;/div&gt;\n",
       "                 &lt;/div&gt;`,\n",
       "                {&quot;sticky&quot;: true}\n",
       "            );\n",
       "        \n",
       "    \n",
       "            var circle_c93ef771211f8747c0ad918000dc00dd = L.circle(\n",
       "                [52.1326, 5.2913],\n",
       "                {&quot;bubblingMouseEvents&quot;: true, &quot;color&quot;: &quot;red&quot;, &quot;dashArray&quot;: null, &quot;dashOffset&quot;: null, &quot;fill&quot;: true, &quot;fillColor&quot;: &quot;blue&quot;, &quot;fillOpacity&quot;: 0.2, &quot;fillRule&quot;: &quot;evenodd&quot;, &quot;lineCap&quot;: &quot;round&quot;, &quot;lineJoin&quot;: &quot;round&quot;, &quot;opacity&quot;: 1.0, &quot;radius&quot;: 318000.0, &quot;stroke&quot;: true, &quot;weight&quot;: 3}\n",
       "            ).addTo(map_feca7f7996749b669ab93ed1eadabcc9);\n",
       "        \n",
       "    \n",
       "            circle_c93ef771211f8747c0ad918000dc00dd.bindTooltip(\n",
       "                `&lt;div&gt;\n",
       "                     &lt;div style=&#x27;margin:0; background-color:black; color:white;&#x27;&gt;&lt;h4 style=&#x27;text-align:center;front-weight: bold&#x27;&gt;Netherlands&lt;/h4&gt;&lt;hr style=&#x27;margin:10px; color:white;&#x27;&gt;&lt;ul style=&#x27;color:white; list-style-type:circle; align-item:left;padding-left:20px;padding-right:20px&#x27;&gt;&lt;li&gt;Confirmed: 3324562575&lt;/li&gt;&lt;li&gt;Deaths:   15848465&lt;/li&gt;&lt;li&gt;Death rate:    0.48&lt;/li&gt;&lt;/ul&gt;&lt;/div&gt;\n",
       "                 &lt;/div&gt;`,\n",
       "                {&quot;sticky&quot;: true}\n",
       "            );\n",
       "        \n",
       "    \n",
       "            var circle_e3ca2e696ea2bdecbf6126104daf7207 = L.circle(\n",
       "                [-21.2367, -159.7777],\n",
       "                {&quot;bubblingMouseEvents&quot;: true, &quot;color&quot;: &quot;red&quot;, &quot;dashArray&quot;: null, &quot;dashOffset&quot;: null, &quot;fill&quot;: true, &quot;fillColor&quot;: &quot;blue&quot;, &quot;fillOpacity&quot;: 0.2, &quot;fillRule&quot;: &quot;evenodd&quot;, &quot;lineCap&quot;: &quot;round&quot;, &quot;lineJoin&quot;: &quot;round&quot;, &quot;opacity&quot;: 1.0, &quot;radius&quot;: 213000.0, &quot;stroke&quot;: true, &quot;weight&quot;: 3}\n",
       "            ).addTo(map_feca7f7996749b669ab93ed1eadabcc9);\n",
       "        \n",
       "    \n",
       "            circle_e3ca2e696ea2bdecbf6126104daf7207.bindTooltip(\n",
       "                `&lt;div&gt;\n",
       "                     &lt;div style=&#x27;margin:0; background-color:black; color:white;&#x27;&gt;&lt;h4 style=&#x27;text-align:center;front-weight: bold&#x27;&gt;New Zealand&lt;/h4&gt;&lt;hr style=&#x27;margin:10px; color:white;&#x27;&gt;&lt;ul style=&#x27;color:white; list-style-type:circle; align-item:left;padding-left:20px;padding-right:20px&#x27;&gt;&lt;li&gt;Confirmed: 1519987&lt;/li&gt;&lt;li&gt;Deaths:   234&lt;/li&gt;&lt;li&gt;Death rate:    0.02&lt;/li&gt;&lt;/ul&gt;&lt;/div&gt;\n",
       "                 &lt;/div&gt;`,\n",
       "                {&quot;sticky&quot;: true}\n",
       "            );\n",
       "        \n",
       "    \n",
       "            var circle_cca12ddf1ff91b5217e25e321576bd84 = L.circle(\n",
       "                [-19.0544, -169.8672],\n",
       "                {&quot;bubblingMouseEvents&quot;: true, &quot;color&quot;: &quot;red&quot;, &quot;dashArray&quot;: null, &quot;dashOffset&quot;: null, &quot;fill&quot;: true, &quot;fillColor&quot;: &quot;blue&quot;, &quot;fillOpacity&quot;: 0.2, &quot;fillRule&quot;: &quot;evenodd&quot;, &quot;lineCap&quot;: &quot;round&quot;, &quot;lineJoin&quot;: &quot;round&quot;, &quot;opacity&quot;: 1.0, &quot;radius&quot;: 138000.0, &quot;stroke&quot;: true, &quot;weight&quot;: 3}\n",
       "            ).addTo(map_feca7f7996749b669ab93ed1eadabcc9);\n",
       "        \n",
       "    \n",
       "            circle_cca12ddf1ff91b5217e25e321576bd84.bindTooltip(\n",
       "                `&lt;div&gt;\n",
       "                     &lt;div style=&#x27;margin:0; background-color:black; color:white;&#x27;&gt;&lt;h4 style=&#x27;text-align:center;front-weight: bold&#x27;&gt;New Zealand&lt;/h4&gt;&lt;hr style=&#x27;margin:10px; color:white;&#x27;&gt;&lt;ul style=&#x27;color:white; list-style-type:circle; align-item:left;padding-left:20px;padding-right:20px&#x27;&gt;&lt;li&gt;Confirmed: 13837&lt;/li&gt;&lt;li&gt;Deaths:   0&lt;/li&gt;&lt;li&gt;Death rate:    0.0&lt;/li&gt;&lt;/ul&gt;&lt;/div&gt;\n",
       "                 &lt;/div&gt;`,\n",
       "                {&quot;sticky&quot;: true}\n",
       "            );\n",
       "        \n",
       "    \n",
       "            var circle_d2016205efa64083683a94b3086a61f8 = L.circle(\n",
       "                [-40.9006, 174.886],\n",
       "                {&quot;bubblingMouseEvents&quot;: true, &quot;color&quot;: &quot;red&quot;, &quot;dashArray&quot;: null, &quot;dashOffset&quot;: null, &quot;fill&quot;: true, &quot;fillColor&quot;: &quot;blue&quot;, &quot;fillOpacity&quot;: 0.2, &quot;fillRule&quot;: &quot;evenodd&quot;, &quot;lineCap&quot;: &quot;round&quot;, &quot;lineJoin&quot;: &quot;round&quot;, &quot;opacity&quot;: 1.0, &quot;radius&quot;: 288000.0, &quot;stroke&quot;: true, &quot;weight&quot;: 3}\n",
       "            ).addTo(map_feca7f7996749b669ab93ed1eadabcc9);\n",
       "        \n",
       "    \n",
       "            circle_d2016205efa64083683a94b3086a61f8.bindTooltip(\n",
       "                `&lt;div&gt;\n",
       "                     &lt;div style=&#x27;margin:0; background-color:black; color:white;&#x27;&gt;&lt;h4 style=&#x27;text-align:center;front-weight: bold&#x27;&gt;New Zealand&lt;/h4&gt;&lt;hr style=&#x27;margin:10px; color:white;&#x27;&gt;&lt;ul style=&#x27;color:white; list-style-type:circle; align-item:left;padding-left:20px;padding-right:20px&#x27;&gt;&lt;li&gt;Confirmed: 404364208&lt;/li&gt;&lt;li&gt;Deaths:   411704&lt;/li&gt;&lt;li&gt;Death rate:    0.1&lt;/li&gt;&lt;/ul&gt;&lt;/div&gt;\n",
       "                 &lt;/div&gt;`,\n",
       "                {&quot;sticky&quot;: true}\n",
       "            );\n",
       "        \n",
       "    \n",
       "            var circle_d4d738285c97a2269fff6c1d3777c031 = L.circle(\n",
       "                [12.865416, -85.207229],\n",
       "                {&quot;bubblingMouseEvents&quot;: true, &quot;color&quot;: &quot;red&quot;, &quot;dashArray&quot;: null, &quot;dashOffset&quot;: null, &quot;fill&quot;: true, &quot;fillColor&quot;: &quot;blue&quot;, &quot;fillOpacity&quot;: 0.2, &quot;fillRule&quot;: &quot;evenodd&quot;, &quot;lineCap&quot;: &quot;round&quot;, &quot;lineJoin&quot;: &quot;round&quot;, &quot;opacity&quot;: 1.0, &quot;radius&quot;: 228000.0, &quot;stroke&quot;: true, &quot;weight&quot;: 3}\n",
       "            ).addTo(map_feca7f7996749b669ab93ed1eadabcc9);\n",
       "        \n",
       "    \n",
       "            circle_d4d738285c97a2269fff6c1d3777c031.bindTooltip(\n",
       "                `&lt;div&gt;\n",
       "                     &lt;div style=&#x27;margin:0; background-color:black; color:white;&#x27;&gt;&lt;h4 style=&#x27;text-align:center;front-weight: bold&#x27;&gt;Nicaragua&lt;/h4&gt;&lt;hr style=&#x27;margin:10px; color:white;&#x27;&gt;&lt;ul style=&#x27;color:white; list-style-type:circle; align-item:left;padding-left:20px;padding-right:20px&#x27;&gt;&lt;li&gt;Confirmed: 8792055&lt;/li&gt;&lt;li&gt;Deaths:   180018&lt;/li&gt;&lt;li&gt;Death rate:    2.05&lt;/li&gt;&lt;/ul&gt;&lt;/div&gt;\n",
       "                 &lt;/div&gt;`,\n",
       "                {&quot;sticky&quot;: true}\n",
       "            );\n",
       "        \n",
       "    \n",
       "            var circle_744a753bc997cc5512ee4b4184577187 = L.circle(\n",
       "                [17.607789, 8.081666],\n",
       "                {&quot;bubblingMouseEvents&quot;: true, &quot;color&quot;: &quot;red&quot;, &quot;dashArray&quot;: null, &quot;dashOffset&quot;: null, &quot;fill&quot;: true, &quot;fillColor&quot;: &quot;blue&quot;, &quot;fillOpacity&quot;: 0.2, &quot;fillRule&quot;: &quot;evenodd&quot;, &quot;lineCap&quot;: &quot;round&quot;, &quot;lineJoin&quot;: &quot;round&quot;, &quot;opacity&quot;: 1.0, &quot;radius&quot;: 228000.0, &quot;stroke&quot;: true, &quot;weight&quot;: 3}\n",
       "            ).addTo(map_feca7f7996749b669ab93ed1eadabcc9);\n",
       "        \n",
       "    \n",
       "            circle_744a753bc997cc5512ee4b4184577187.bindTooltip(\n",
       "                `&lt;div&gt;\n",
       "                     &lt;div style=&#x27;margin:0; background-color:black; color:white;&#x27;&gt;&lt;h4 style=&#x27;text-align:center;front-weight: bold&#x27;&gt;Niger&lt;/h4&gt;&lt;hr style=&#x27;margin:10px; color:white;&#x27;&gt;&lt;ul style=&#x27;color:white; list-style-type:circle; align-item:left;padding-left:20px;padding-right:20px&#x27;&gt;&lt;li&gt;Confirmed: 5507017&lt;/li&gt;&lt;li&gt;Deaths:   196483&lt;/li&gt;&lt;li&gt;Death rate:    3.57&lt;/li&gt;&lt;/ul&gt;&lt;/div&gt;\n",
       "                 &lt;/div&gt;`,\n",
       "                {&quot;sticky&quot;: true}\n",
       "            );\n",
       "        \n",
       "    \n",
       "            var circle_4805b734afecfef3b64f5e21f26200d2 = L.circle(\n",
       "                [9.082, 8.6753],\n",
       "                {&quot;bubblingMouseEvents&quot;: true, &quot;color&quot;: &quot;red&quot;, &quot;dashArray&quot;: null, &quot;dashOffset&quot;: null, &quot;fill&quot;: true, &quot;fillColor&quot;: &quot;blue&quot;, &quot;fillOpacity&quot;: 0.2, &quot;fillRule&quot;: &quot;evenodd&quot;, &quot;lineCap&quot;: &quot;round&quot;, &quot;lineJoin&quot;: &quot;round&quot;, &quot;opacity&quot;: 1.0, &quot;radius&quot;: 273000.0, &quot;stroke&quot;: true, &quot;weight&quot;: 3}\n",
       "            ).addTo(map_feca7f7996749b669ab93ed1eadabcc9);\n",
       "        \n",
       "    \n",
       "            circle_4805b734afecfef3b64f5e21f26200d2.bindTooltip(\n",
       "                `&lt;div&gt;\n",
       "                     &lt;div style=&#x27;margin:0; background-color:black; color:white;&#x27;&gt;&lt;h4 style=&#x27;text-align:center;front-weight: bold&#x27;&gt;Nigeria&lt;/h4&gt;&lt;hr style=&#x27;margin:10px; color:white;&#x27;&gt;&lt;ul style=&#x27;color:white; list-style-type:circle; align-item:left;padding-left:20px;padding-right:20px&#x27;&gt;&lt;li&gt;Confirmed: 165650835&lt;/li&gt;&lt;li&gt;Deaths:   2133946&lt;/li&gt;&lt;li&gt;Death rate:    1.29&lt;/li&gt;&lt;/ul&gt;&lt;/div&gt;\n",
       "                 &lt;/div&gt;`,\n",
       "                {&quot;sticky&quot;: true}\n",
       "            );\n",
       "        \n",
       "    \n",
       "            var circle_eae8643f63db1a01378864371037a791 = L.circle(\n",
       "                [41.6086, 21.7453],\n",
       "                {&quot;bubblingMouseEvents&quot;: true, &quot;color&quot;: &quot;red&quot;, &quot;dashArray&quot;: null, &quot;dashOffset&quot;: null, &quot;fill&quot;: true, &quot;fillColor&quot;: &quot;blue&quot;, &quot;fillOpacity&quot;: 0.2, &quot;fillRule&quot;: &quot;evenodd&quot;, &quot;lineCap&quot;: &quot;round&quot;, &quot;lineJoin&quot;: &quot;round&quot;, &quot;opacity&quot;: 1.0, &quot;radius&quot;: 273000.0, &quot;stroke&quot;: true, &quot;weight&quot;: 3}\n",
       "            ).addTo(map_feca7f7996749b669ab93ed1eadabcc9);\n",
       "        \n",
       "    \n",
       "            circle_eae8643f63db1a01378864371037a791.bindTooltip(\n",
       "                `&lt;div&gt;\n",
       "                     &lt;div style=&#x27;margin:0; background-color:black; color:white;&#x27;&gt;&lt;h4 style=&#x27;text-align:center;front-weight: bold&#x27;&gt;North Macedonia&lt;/h4&gt;&lt;hr style=&#x27;margin:10px; color:white;&#x27;&gt;&lt;ul style=&#x27;color:white; list-style-type:circle; align-item:left;padding-left:20px;padding-right:20px&#x27;&gt;&lt;li&gt;Confirmed: 172968348&lt;/li&gt;&lt;li&gt;Deaths:   5344662&lt;/li&gt;&lt;li&gt;Death rate:    3.09&lt;/li&gt;&lt;/ul&gt;&lt;/div&gt;\n",
       "                 &lt;/div&gt;`,\n",
       "                {&quot;sticky&quot;: true}\n",
       "            );\n",
       "        \n",
       "    \n",
       "            var circle_5a100670ad031721a8d0546f0af7f226 = L.circle(\n",
       "                [60.472, 8.4689],\n",
       "                {&quot;bubblingMouseEvents&quot;: true, &quot;color&quot;: &quot;red&quot;, &quot;dashArray&quot;: null, &quot;dashOffset&quot;: null, &quot;fill&quot;: true, &quot;fillColor&quot;: &quot;blue&quot;, &quot;fillOpacity&quot;: 0.2, &quot;fillRule&quot;: &quot;evenodd&quot;, &quot;lineCap&quot;: &quot;round&quot;, &quot;lineJoin&quot;: &quot;round&quot;, &quot;opacity&quot;: 1.0, &quot;radius&quot;: 303000.0, &quot;stroke&quot;: true, &quot;weight&quot;: 3}\n",
       "            ).addTo(map_feca7f7996749b669ab93ed1eadabcc9);\n",
       "        \n",
       "    \n",
       "            circle_5a100670ad031721a8d0546f0af7f226.bindTooltip(\n",
       "                `&lt;div&gt;\n",
       "                     &lt;div style=&#x27;margin:0; background-color:black; color:white;&#x27;&gt;&lt;h4 style=&#x27;text-align:center;front-weight: bold&#x27;&gt;Norway&lt;/h4&gt;&lt;hr style=&#x27;margin:10px; color:white;&#x27;&gt;&lt;ul style=&#x27;color:white; list-style-type:circle; align-item:left;padding-left:20px;padding-right:20px&#x27;&gt;&lt;li&gt;Confirmed: 521347540&lt;/li&gt;&lt;li&gt;Deaths:   1452342&lt;/li&gt;&lt;li&gt;Death rate:    0.28&lt;/li&gt;&lt;/ul&gt;&lt;/div&gt;\n",
       "                 &lt;/div&gt;`,\n",
       "                {&quot;sticky&quot;: true}\n",
       "            );\n",
       "        \n",
       "    \n",
       "            var circle_ce98b91ea1b0123854f1592f8e9b42b7 = L.circle(\n",
       "                [21.512583, 55.923255],\n",
       "                {&quot;bubblingMouseEvents&quot;: true, &quot;color&quot;: &quot;red&quot;, &quot;dashArray&quot;: null, &quot;dashOffset&quot;: null, &quot;fill&quot;: true, &quot;fillColor&quot;: &quot;blue&quot;, &quot;fillOpacity&quot;: 0.2, &quot;fillRule&quot;: &quot;evenodd&quot;, &quot;lineCap&quot;: &quot;round&quot;, &quot;lineJoin&quot;: &quot;round&quot;, &quot;opacity&quot;: 1.0, &quot;radius&quot;: 288000.0, &quot;stroke&quot;: true, &quot;weight&quot;: 3}\n",
       "            ).addTo(map_feca7f7996749b669ab93ed1eadabcc9);\n",
       "        \n",
       "    \n",
       "            circle_ce98b91ea1b0123854f1592f8e9b42b7.bindTooltip(\n",
       "                `&lt;div&gt;\n",
       "                     &lt;div style=&#x27;margin:0; background-color:black; color:white;&#x27;&gt;&lt;h4 style=&#x27;text-align:center;front-weight: bold&#x27;&gt;Oman&lt;/h4&gt;&lt;hr style=&#x27;margin:10px; color:white;&#x27;&gt;&lt;ul style=&#x27;color:white; list-style-type:circle; align-item:left;padding-left:20px;padding-right:20px&#x27;&gt;&lt;li&gt;Confirmed: 239522064&lt;/li&gt;&lt;li&gt;Deaths:   2792075&lt;/li&gt;&lt;li&gt;Death rate:    1.17&lt;/li&gt;&lt;/ul&gt;&lt;/div&gt;\n",
       "                 &lt;/div&gt;`,\n",
       "                {&quot;sticky&quot;: true}\n",
       "            );\n",
       "        \n",
       "    \n",
       "            var circle_a5c45da571f973dccc5696db904ac320 = L.circle(\n",
       "                [30.3753, 69.3451],\n",
       "                {&quot;bubblingMouseEvents&quot;: true, &quot;color&quot;: &quot;red&quot;, &quot;dashArray&quot;: null, &quot;dashOffset&quot;: null, &quot;fill&quot;: true, &quot;fillColor&quot;: &quot;blue&quot;, &quot;fillOpacity&quot;: 0.2, &quot;fillRule&quot;: &quot;evenodd&quot;, &quot;lineCap&quot;: &quot;round&quot;, &quot;lineJoin&quot;: &quot;round&quot;, &quot;opacity&quot;: 1.0, &quot;radius&quot;: 303000.0, &quot;stroke&quot;: true, &quot;weight&quot;: 3}\n",
       "            ).addTo(map_feca7f7996749b669ab93ed1eadabcc9);\n",
       "        \n",
       "    \n",
       "            circle_a5c45da571f973dccc5696db904ac320.bindTooltip(\n",
       "                `&lt;div&gt;\n",
       "                     &lt;div style=&#x27;margin:0; background-color:black; color:white;&#x27;&gt;&lt;h4 style=&#x27;text-align:center;front-weight: bold&#x27;&gt;Pakistan&lt;/h4&gt;&lt;hr style=&#x27;margin:10px; color:white;&#x27;&gt;&lt;ul style=&#x27;color:white; list-style-type:circle; align-item:left;padding-left:20px;padding-right:20px&#x27;&gt;&lt;li&gt;Confirmed: 945789376&lt;/li&gt;&lt;li&gt;Deaths:   19684521&lt;/li&gt;&lt;li&gt;Death rate:    2.08&lt;/li&gt;&lt;/ul&gt;&lt;/div&gt;\n",
       "                 &lt;/div&gt;`,\n",
       "                {&quot;sticky&quot;: true}\n",
       "            );\n",
       "        \n",
       "    \n",
       "            var circle_47123ba0707dec2527bbfb642a07390e = L.circle(\n",
       "                [7.515, 134.5825],\n",
       "                {&quot;bubblingMouseEvents&quot;: true, &quot;color&quot;: &quot;red&quot;, &quot;dashArray&quot;: null, &quot;dashOffset&quot;: null, &quot;fill&quot;: true, &quot;fillColor&quot;: &quot;blue&quot;, &quot;fillOpacity&quot;: 0.2, &quot;fillRule&quot;: &quot;evenodd&quot;, &quot;lineCap&quot;: &quot;round&quot;, &quot;lineJoin&quot;: &quot;round&quot;, &quot;opacity&quot;: 1.0, &quot;radius&quot;: 213000.0, &quot;stroke&quot;: true, &quot;weight&quot;: 3}\n",
       "            ).addTo(map_feca7f7996749b669ab93ed1eadabcc9);\n",
       "        \n",
       "    \n",
       "            circle_47123ba0707dec2527bbfb642a07390e.bindTooltip(\n",
       "                `&lt;div&gt;\n",
       "                     &lt;div style=&#x27;margin:0; background-color:black; color:white;&#x27;&gt;&lt;h4 style=&#x27;text-align:center;front-weight: bold&#x27;&gt;Palau&lt;/h4&gt;&lt;hr style=&#x27;margin:10px; color:white;&#x27;&gt;&lt;ul style=&#x27;color:white; list-style-type:circle; align-item:left;padding-left:20px;padding-right:20px&#x27;&gt;&lt;li&gt;Confirmed: 1566067&lt;/li&gt;&lt;li&gt;Deaths:   1883&lt;/li&gt;&lt;li&gt;Death rate:    0.12&lt;/li&gt;&lt;/ul&gt;&lt;/div&gt;\n",
       "                 &lt;/div&gt;`,\n",
       "                {&quot;sticky&quot;: true}\n",
       "            );\n",
       "        \n",
       "    \n",
       "            var circle_cc15c7ba1e0970b376270dae54df84c8 = L.circle(\n",
       "                [8.538, -80.7821],\n",
       "                {&quot;bubblingMouseEvents&quot;: true, &quot;color&quot;: &quot;red&quot;, &quot;dashArray&quot;: null, &quot;dashOffset&quot;: null, &quot;fill&quot;: true, &quot;fillColor&quot;: &quot;blue&quot;, &quot;fillOpacity&quot;: 0.2, &quot;fillRule&quot;: &quot;evenodd&quot;, &quot;lineCap&quot;: &quot;round&quot;, &quot;lineJoin&quot;: &quot;round&quot;, &quot;opacity&quot;: 1.0, &quot;radius&quot;: 288000.0, &quot;stroke&quot;: true, &quot;weight&quot;: 3}\n",
       "            ).addTo(map_feca7f7996749b669ab93ed1eadabcc9);\n",
       "        \n",
       "    \n",
       "            circle_cc15c7ba1e0970b376270dae54df84c8.bindTooltip(\n",
       "                `&lt;div&gt;\n",
       "                     &lt;div style=&#x27;margin:0; background-color:black; color:white;&#x27;&gt;&lt;h4 style=&#x27;text-align:center;front-weight: bold&#x27;&gt;Panama&lt;/h4&gt;&lt;hr style=&#x27;margin:10px; color:white;&#x27;&gt;&lt;ul style=&#x27;color:white; list-style-type:circle; align-item:left;padding-left:20px;padding-right:20px&#x27;&gt;&lt;li&gt;Confirmed: 471128838&lt;/li&gt;&lt;li&gt;Deaths:   5700044&lt;/li&gt;&lt;li&gt;Death rate:    1.21&lt;/li&gt;&lt;/ul&gt;&lt;/div&gt;\n",
       "                 &lt;/div&gt;`,\n",
       "                {&quot;sticky&quot;: true}\n",
       "            );\n",
       "        \n",
       "    \n",
       "            var circle_a6a9a19b2ef3e68c05c0f630f7d53947 = L.circle(\n",
       "                [-6.314993, 143.95555],\n",
       "                {&quot;bubblingMouseEvents&quot;: true, &quot;color&quot;: &quot;red&quot;, &quot;dashArray&quot;: null, &quot;dashOffset&quot;: null, &quot;fill&quot;: true, &quot;fillColor&quot;: &quot;blue&quot;, &quot;fillOpacity&quot;: 0.2, &quot;fillRule&quot;: &quot;evenodd&quot;, &quot;lineCap&quot;: &quot;round&quot;, &quot;lineJoin&quot;: &quot;round&quot;, &quot;opacity&quot;: 1.0, &quot;radius&quot;: 243000.0, &quot;stroke&quot;: true, &quot;weight&quot;: 3}\n",
       "            ).addTo(map_feca7f7996749b669ab93ed1eadabcc9);\n",
       "        \n",
       "    \n",
       "            circle_a6a9a19b2ef3e68c05c0f630f7d53947.bindTooltip(\n",
       "                `&lt;div&gt;\n",
       "                     &lt;div style=&#x27;margin:0; background-color:black; color:white;&#x27;&gt;&lt;h4 style=&#x27;text-align:center;front-weight: bold&#x27;&gt;Papua New Guinea&lt;/h4&gt;&lt;hr style=&#x27;margin:10px; color:white;&#x27;&gt;&lt;ul style=&#x27;color:white; list-style-type:circle; align-item:left;padding-left:20px;padding-right:20px&#x27;&gt;&lt;li&gt;Confirmed: 21025668&lt;/li&gt;&lt;li&gt;Deaths:   298562&lt;/li&gt;&lt;li&gt;Death rate:    1.42&lt;/li&gt;&lt;/ul&gt;&lt;/div&gt;\n",
       "                 &lt;/div&gt;`,\n",
       "                {&quot;sticky&quot;: true}\n",
       "            );\n",
       "        \n",
       "    \n",
       "            var circle_2d868daead3c0cb9883776c3c73ed0f0 = L.circle(\n",
       "                [-23.4425, -58.4438],\n",
       "                {&quot;bubblingMouseEvents&quot;: true, &quot;color&quot;: &quot;red&quot;, &quot;dashArray&quot;: null, &quot;dashOffset&quot;: null, &quot;fill&quot;: true, &quot;fillColor&quot;: &quot;blue&quot;, &quot;fillOpacity&quot;: 0.2, &quot;fillRule&quot;: &quot;evenodd&quot;, &quot;lineCap&quot;: &quot;round&quot;, &quot;lineJoin&quot;: &quot;round&quot;, &quot;opacity&quot;: 1.0, &quot;radius&quot;: 288000.0, &quot;stroke&quot;: true, &quot;weight&quot;: 3}\n",
       "            ).addTo(map_feca7f7996749b669ab93ed1eadabcc9);\n",
       "        \n",
       "    \n",
       "            circle_2d868daead3c0cb9883776c3c73ed0f0.bindTooltip(\n",
       "                `&lt;div&gt;\n",
       "                     &lt;div style=&#x27;margin:0; background-color:black; color:white;&#x27;&gt;&lt;h4 style=&#x27;text-align:center;front-weight: bold&#x27;&gt;Paraguay&lt;/h4&gt;&lt;hr style=&#x27;margin:10px; color:white;&#x27;&gt;&lt;ul style=&#x27;color:white; list-style-type:circle; align-item:left;padding-left:20px;padding-right:20px&#x27;&gt;&lt;li&gt;Confirmed: 366496698&lt;/li&gt;&lt;li&gt;Deaths:   10639103&lt;/li&gt;&lt;li&gt;Death rate:    2.9&lt;/li&gt;&lt;/ul&gt;&lt;/div&gt;\n",
       "                 &lt;/div&gt;`,\n",
       "                {&quot;sticky&quot;: true}\n",
       "            );\n",
       "        \n",
       "    \n",
       "            var circle_d49ad3d8bd3ef2498b424a6a10792e07 = L.circle(\n",
       "                [-9.19, -75.0152],\n",
       "                {&quot;bubblingMouseEvents&quot;: true, &quot;color&quot;: &quot;red&quot;, &quot;dashArray&quot;: null, &quot;dashOffset&quot;: null, &quot;fill&quot;: true, &quot;fillColor&quot;: &quot;blue&quot;, &quot;fillOpacity&quot;: 0.2, &quot;fillRule&quot;: &quot;evenodd&quot;, &quot;lineCap&quot;: &quot;round&quot;, &quot;lineJoin&quot;: &quot;round&quot;, &quot;opacity&quot;: 1.0, &quot;radius&quot;: 318000.0, &quot;stroke&quot;: true, &quot;weight&quot;: 3}\n",
       "            ).addTo(map_feca7f7996749b669ab93ed1eadabcc9);\n",
       "        \n",
       "    \n",
       "            circle_d49ad3d8bd3ef2498b424a6a10792e07.bindTooltip(\n",
       "                `&lt;div&gt;\n",
       "                     &lt;div style=&#x27;margin:0; background-color:black; color:white;&#x27;&gt;&lt;h4 style=&#x27;text-align:center;front-weight: bold&#x27;&gt;Peru&lt;/h4&gt;&lt;hr style=&#x27;margin:10px; color:white;&#x27;&gt;&lt;ul style=&#x27;color:white; list-style-type:circle; align-item:left;padding-left:20px;padding-right:20px&#x27;&gt;&lt;li&gt;Confirmed: 2119484405&lt;/li&gt;&lt;li&gt;Deaths:   152153571&lt;/li&gt;&lt;li&gt;Death rate:    7.18&lt;/li&gt;&lt;/ul&gt;&lt;/div&gt;\n",
       "                 &lt;/div&gt;`,\n",
       "                {&quot;sticky&quot;: true}\n",
       "            );\n",
       "        \n",
       "    \n",
       "            var circle_941e2f9bae8e3103503bcaec3b633bdb = L.circle(\n",
       "                [12.879721, 121.774017],\n",
       "                {&quot;bubblingMouseEvents&quot;: true, &quot;color&quot;: &quot;red&quot;, &quot;dashArray&quot;: null, &quot;dashOffset&quot;: null, &quot;fill&quot;: true, &quot;fillColor&quot;: &quot;blue&quot;, &quot;fillOpacity&quot;: 0.2, &quot;fillRule&quot;: &quot;evenodd&quot;, &quot;lineCap&quot;: &quot;round&quot;, &quot;lineJoin&quot;: &quot;round&quot;, &quot;opacity&quot;: 1.0, &quot;radius&quot;: 318000.0, &quot;stroke&quot;: true, &quot;weight&quot;: 3}\n",
       "            ).addTo(map_feca7f7996749b669ab93ed1eadabcc9);\n",
       "        \n",
       "    \n",
       "            circle_941e2f9bae8e3103503bcaec3b633bdb.bindTooltip(\n",
       "                `&lt;div&gt;\n",
       "                     &lt;div style=&#x27;margin:0; background-color:black; color:white;&#x27;&gt;&lt;h4 style=&#x27;text-align:center;front-weight: bold&#x27;&gt;Philippines&lt;/h4&gt;&lt;hr style=&#x27;margin:10px; color:white;&#x27;&gt;&lt;ul style=&#x27;color:white; list-style-type:circle; align-item:left;padding-left:20px;padding-right:20px&#x27;&gt;&lt;li&gt;Confirmed: 1935668924&lt;/li&gt;&lt;li&gt;Deaths:   31778090&lt;/li&gt;&lt;li&gt;Death rate:    1.64&lt;/li&gt;&lt;/ul&gt;&lt;/div&gt;\n",
       "                 &lt;/div&gt;`,\n",
       "                {&quot;sticky&quot;: true}\n",
       "            );\n",
       "        \n",
       "    \n",
       "            var circle_6b9cc84d34ceb4035e71fc79cb2ec3a7 = L.circle(\n",
       "                [51.9194, 19.1451],\n",
       "                {&quot;bubblingMouseEvents&quot;: true, &quot;color&quot;: &quot;red&quot;, &quot;dashArray&quot;: null, &quot;dashOffset&quot;: null, &quot;fill&quot;: true, &quot;fillColor&quot;: &quot;blue&quot;, &quot;fillOpacity&quot;: 0.2, &quot;fillRule&quot;: &quot;evenodd&quot;, &quot;lineCap&quot;: &quot;round&quot;, &quot;lineJoin&quot;: &quot;round&quot;, &quot;opacity&quot;: 1.0, &quot;radius&quot;: 318000.0, &quot;stroke&quot;: true, &quot;weight&quot;: 3}\n",
       "            ).addTo(map_feca7f7996749b669ab93ed1eadabcc9);\n",
       "        \n",
       "    \n",
       "            circle_6b9cc84d34ceb4035e71fc79cb2ec3a7.bindTooltip(\n",
       "                `&lt;div&gt;\n",
       "                     &lt;div style=&#x27;margin:0; background-color:black; color:white;&#x27;&gt;&lt;h4 style=&#x27;text-align:center;front-weight: bold&#x27;&gt;Poland&lt;/h4&gt;&lt;hr style=&#x27;margin:10px; color:white;&#x27;&gt;&lt;ul style=&#x27;color:white; list-style-type:circle; align-item:left;padding-left:20px;padding-right:20px&#x27;&gt;&lt;li&gt;Confirmed: 3100913781&lt;/li&gt;&lt;li&gt;Deaths:   65712708&lt;/li&gt;&lt;li&gt;Death rate:    2.12&lt;/li&gt;&lt;/ul&gt;&lt;/div&gt;\n",
       "                 &lt;/div&gt;`,\n",
       "                {&quot;sticky&quot;: true}\n",
       "            );\n",
       "        \n",
       "    \n",
       "            var circle_1434213d001b99efcef2ca859c272dd7 = L.circle(\n",
       "                [39.3999, -8.2245],\n",
       "                {&quot;bubblingMouseEvents&quot;: true, &quot;color&quot;: &quot;red&quot;, &quot;dashArray&quot;: null, &quot;dashOffset&quot;: null, &quot;fill&quot;: true, &quot;fillColor&quot;: &quot;blue&quot;, &quot;fillOpacity&quot;: 0.2, &quot;fillRule&quot;: &quot;evenodd&quot;, &quot;lineCap&quot;: &quot;round&quot;, &quot;lineJoin&quot;: &quot;round&quot;, &quot;opacity&quot;: 1.0, &quot;radius&quot;: 318000.0, &quot;stroke&quot;: true, &quot;weight&quot;: 3}\n",
       "            ).addTo(map_feca7f7996749b669ab93ed1eadabcc9);\n",
       "        \n",
       "    \n",
       "            circle_1434213d001b99efcef2ca859c272dd7.bindTooltip(\n",
       "                `&lt;div&gt;\n",
       "                     &lt;div style=&#x27;margin:0; background-color:black; color:white;&#x27;&gt;&lt;h4 style=&#x27;text-align:center;front-weight: bold&#x27;&gt;Portugal&lt;/h4&gt;&lt;hr style=&#x27;margin:10px; color:white;&#x27;&gt;&lt;ul style=&#x27;color:white; list-style-type:circle; align-item:left;padding-left:20px;padding-right:20px&#x27;&gt;&lt;li&gt;Confirmed: 1933025406&lt;/li&gt;&lt;li&gt;Deaths:   14765069&lt;/li&gt;&lt;li&gt;Death rate:    0.76&lt;/li&gt;&lt;/ul&gt;&lt;/div&gt;\n",
       "                 &lt;/div&gt;`,\n",
       "                {&quot;sticky&quot;: true}\n",
       "            );\n",
       "        \n",
       "    \n",
       "            var circle_8d483a3e8c8f391221960dd805959807 = L.circle(\n",
       "                [25.3548, 51.1839],\n",
       "                {&quot;bubblingMouseEvents&quot;: true, &quot;color&quot;: &quot;red&quot;, &quot;dashArray&quot;: null, &quot;dashOffset&quot;: null, &quot;fill&quot;: true, &quot;fillColor&quot;: &quot;blue&quot;, &quot;fillOpacity&quot;: 0.2, &quot;fillRule&quot;: &quot;evenodd&quot;, &quot;lineCap&quot;: &quot;round&quot;, &quot;lineJoin&quot;: &quot;round&quot;, &quot;opacity&quot;: 1.0, &quot;radius&quot;: 288000.0, &quot;stroke&quot;: true, &quot;weight&quot;: 3}\n",
       "            ).addTo(map_feca7f7996749b669ab93ed1eadabcc9);\n",
       "        \n",
       "    \n",
       "            circle_8d483a3e8c8f391221960dd805959807.bindTooltip(\n",
       "                `&lt;div&gt;\n",
       "                     &lt;div style=&#x27;margin:0; background-color:black; color:white;&#x27;&gt;&lt;h4 style=&#x27;text-align:center;front-weight: bold&#x27;&gt;Qatar&lt;/h4&gt;&lt;hr style=&#x27;margin:10px; color:white;&#x27;&gt;&lt;ul style=&#x27;color:white; list-style-type:circle; align-item:left;padding-left:20px;padding-right:20px&#x27;&gt;&lt;li&gt;Confirmed: 240609021&lt;/li&gt;&lt;li&gt;Deaths:   454869&lt;/li&gt;&lt;li&gt;Death rate:    0.19&lt;/li&gt;&lt;/ul&gt;&lt;/div&gt;\n",
       "                 &lt;/div&gt;`,\n",
       "                {&quot;sticky&quot;: true}\n",
       "            );\n",
       "        \n",
       "    \n",
       "            var circle_035661a5b2ee84f2934fc9c0298d1c38 = L.circle(\n",
       "                [45.9432, 24.9668],\n",
       "                {&quot;bubblingMouseEvents&quot;: true, &quot;color&quot;: &quot;red&quot;, &quot;dashArray&quot;: null, &quot;dashOffset&quot;: null, &quot;fill&quot;: true, &quot;fillColor&quot;: &quot;blue&quot;, &quot;fillOpacity&quot;: 0.2, &quot;fillRule&quot;: &quot;evenodd&quot;, &quot;lineCap&quot;: &quot;round&quot;, &quot;lineJoin&quot;: &quot;round&quot;, &quot;opacity&quot;: 1.0, &quot;radius&quot;: 318000.0, &quot;stroke&quot;: true, &quot;weight&quot;: 3}\n",
       "            ).addTo(map_feca7f7996749b669ab93ed1eadabcc9);\n",
       "        \n",
       "    \n",
       "            circle_035661a5b2ee84f2934fc9c0298d1c38.bindTooltip(\n",
       "                `&lt;div&gt;\n",
       "                     &lt;div style=&#x27;margin:0; background-color:black; color:white;&#x27;&gt;&lt;h4 style=&#x27;text-align:center;front-weight: bold&#x27;&gt;Romania&lt;/h4&gt;&lt;hr style=&#x27;margin:10px; color:white;&#x27;&gt;&lt;ul style=&#x27;color:white; list-style-type:circle; align-item:left;padding-left:20px;padding-right:20px&#x27;&gt;&lt;li&gt;Confirmed: 1478476406&lt;/li&gt;&lt;li&gt;Deaths:   36196352&lt;/li&gt;&lt;li&gt;Death rate:    2.45&lt;/li&gt;&lt;/ul&gt;&lt;/div&gt;\n",
       "                 &lt;/div&gt;`,\n",
       "                {&quot;sticky&quot;: true}\n",
       "            );\n",
       "        \n",
       "    \n",
       "            var circle_344d6592b4bc68c15a845c05ed366741 = L.circle(\n",
       "                [61.52401, 105.318756],\n",
       "                {&quot;bubblingMouseEvents&quot;: true, &quot;color&quot;: &quot;red&quot;, &quot;dashArray&quot;: null, &quot;dashOffset&quot;: null, &quot;fill&quot;: true, &quot;fillColor&quot;: &quot;blue&quot;, &quot;fillOpacity&quot;: 0.2, &quot;fillRule&quot;: &quot;evenodd&quot;, &quot;lineCap&quot;: &quot;round&quot;, &quot;lineJoin&quot;: &quot;round&quot;, &quot;opacity&quot;: 1.0, &quot;radius&quot;: 333000.0, &quot;stroke&quot;: true, &quot;weight&quot;: 3}\n",
       "            ).addTo(map_feca7f7996749b669ab93ed1eadabcc9);\n",
       "        \n",
       "    \n",
       "            circle_344d6592b4bc68c15a845c05ed366741.bindTooltip(\n",
       "                `&lt;div&gt;\n",
       "                     &lt;div style=&#x27;margin:0; background-color:black; color:white;&#x27;&gt;&lt;h4 style=&#x27;text-align:center;front-weight: bold&#x27;&gt;Russia&lt;/h4&gt;&lt;hr style=&#x27;margin:10px; color:white;&#x27;&gt;&lt;ul style=&#x27;color:white; list-style-type:circle; align-item:left;padding-left:20px;padding-right:20px&#x27;&gt;&lt;li&gt;Confirmed: 8737149987&lt;/li&gt;&lt;li&gt;Deaths:   188101897&lt;/li&gt;&lt;li&gt;Death rate:    2.15&lt;/li&gt;&lt;/ul&gt;&lt;/div&gt;\n",
       "                 &lt;/div&gt;`,\n",
       "                {&quot;sticky&quot;: true}\n",
       "            );\n",
       "        \n",
       "    \n",
       "            var circle_3046281d82a74f7837bdc72fd166910e = L.circle(\n",
       "                [-1.9403, 29.8739],\n",
       "                {&quot;bubblingMouseEvents&quot;: true, &quot;color&quot;: &quot;red&quot;, &quot;dashArray&quot;: null, &quot;dashOffset&quot;: null, &quot;fill&quot;: true, &quot;fillColor&quot;: &quot;blue&quot;, &quot;fillOpacity&quot;: 0.2, &quot;fillRule&quot;: &quot;evenodd&quot;, &quot;lineCap&quot;: &quot;round&quot;, &quot;lineJoin&quot;: &quot;round&quot;, &quot;opacity&quot;: 1.0, &quot;radius&quot;: 273000.0, &quot;stroke&quot;: true, &quot;weight&quot;: 3}\n",
       "            ).addTo(map_feca7f7996749b669ab93ed1eadabcc9);\n",
       "        \n",
       "    \n",
       "            circle_3046281d82a74f7837bdc72fd166910e.bindTooltip(\n",
       "                `&lt;div&gt;\n",
       "                     &lt;div style=&#x27;margin:0; background-color:black; color:white;&#x27;&gt;&lt;h4 style=&#x27;text-align:center;front-weight: bold&#x27;&gt;Rwanda&lt;/h4&gt;&lt;hr style=&#x27;margin:10px; color:white;&#x27;&gt;&lt;ul style=&#x27;color:white; list-style-type:circle; align-item:left;padding-left:20px;padding-right:20px&#x27;&gt;&lt;li&gt;Confirmed: 66392158&lt;/li&gt;&lt;li&gt;Deaths:   771205&lt;/li&gt;&lt;li&gt;Death rate:    1.16&lt;/li&gt;&lt;/ul&gt;&lt;/div&gt;\n",
       "                 &lt;/div&gt;`,\n",
       "                {&quot;sticky&quot;: true}\n",
       "            );\n",
       "        \n",
       "    \n",
       "            var circle_d7e71fd41b5b58d9df272af91df2c9c4 = L.circle(\n",
       "                [17.357822, -62.782998],\n",
       "                {&quot;bubblingMouseEvents&quot;: true, &quot;color&quot;: &quot;red&quot;, &quot;dashArray&quot;: null, &quot;dashOffset&quot;: null, &quot;fill&quot;: true, &quot;fillColor&quot;: &quot;blue&quot;, &quot;fillOpacity&quot;: 0.2, &quot;fillRule&quot;: &quot;evenodd&quot;, &quot;lineCap&quot;: &quot;round&quot;, &quot;lineJoin&quot;: &quot;round&quot;, &quot;opacity&quot;: 1.0, &quot;radius&quot;: 213000.0, &quot;stroke&quot;: true, &quot;weight&quot;: 3}\n",
       "            ).addTo(map_feca7f7996749b669ab93ed1eadabcc9);\n",
       "        \n",
       "    \n",
       "            circle_d7e71fd41b5b58d9df272af91df2c9c4.bindTooltip(\n",
       "                `&lt;div&gt;\n",
       "                     &lt;div style=&#x27;margin:0; background-color:black; color:white;&#x27;&gt;&lt;h4 style=&#x27;text-align:center;front-weight: bold&#x27;&gt;Saint Kitts and Nevis&lt;/h4&gt;&lt;hr style=&#x27;margin:10px; color:white;&#x27;&gt;&lt;ul style=&#x27;color:white; list-style-type:circle; align-item:left;padding-left:20px;padding-right:20px&#x27;&gt;&lt;li&gt;Confirmed: 2421629&lt;/li&gt;&lt;li&gt;Deaths:   17602&lt;/li&gt;&lt;li&gt;Death rate:    0.73&lt;/li&gt;&lt;/ul&gt;&lt;/div&gt;\n",
       "                 &lt;/div&gt;`,\n",
       "                {&quot;sticky&quot;: true}\n",
       "            );\n",
       "        \n",
       "    \n",
       "            var circle_11896c3c039e58f69f22d0c24318c995 = L.circle(\n",
       "                [13.9094, -60.9789],\n",
       "                {&quot;bubblingMouseEvents&quot;: true, &quot;color&quot;: &quot;red&quot;, &quot;dashArray&quot;: null, &quot;dashOffset&quot;: null, &quot;fill&quot;: true, &quot;fillColor&quot;: &quot;blue&quot;, &quot;fillOpacity&quot;: 0.2, &quot;fillRule&quot;: &quot;evenodd&quot;, &quot;lineCap&quot;: &quot;round&quot;, &quot;lineJoin&quot;: &quot;round&quot;, &quot;opacity&quot;: 1.0, &quot;radius&quot;: 243000.0, &quot;stroke&quot;: true, &quot;weight&quot;: 3}\n",
       "            ).addTo(map_feca7f7996749b669ab93ed1eadabcc9);\n",
       "        \n",
       "    \n",
       "            circle_11896c3c039e58f69f22d0c24318c995.bindTooltip(\n",
       "                `&lt;div&gt;\n",
       "                     &lt;div style=&#x27;margin:0; background-color:black; color:white;&#x27;&gt;&lt;h4 style=&#x27;text-align:center;front-weight: bold&#x27;&gt;Saint Lucia&lt;/h4&gt;&lt;hr style=&#x27;margin:10px; color:white;&#x27;&gt;&lt;ul style=&#x27;color:white; list-style-type:circle; align-item:left;padding-left:20px;padding-right:20px&#x27;&gt;&lt;li&gt;Confirmed: 11449349&lt;/li&gt;&lt;li&gt;Deaths:   174352&lt;/li&gt;&lt;li&gt;Death rate:    1.52&lt;/li&gt;&lt;/ul&gt;&lt;/div&gt;\n",
       "                 &lt;/div&gt;`,\n",
       "                {&quot;sticky&quot;: true}\n",
       "            );\n",
       "        \n",
       "    \n",
       "            var circle_84ac2792ab6b9493fe8e0d2d86d0fbf2 = L.circle(\n",
       "                [12.9843, -61.2872],\n",
       "                {&quot;bubblingMouseEvents&quot;: true, &quot;color&quot;: &quot;red&quot;, &quot;dashArray&quot;: null, &quot;dashOffset&quot;: null, &quot;fill&quot;: true, &quot;fillColor&quot;: &quot;blue&quot;, &quot;fillOpacity&quot;: 0.2, &quot;fillRule&quot;: &quot;evenodd&quot;, &quot;lineCap&quot;: &quot;round&quot;, &quot;lineJoin&quot;: &quot;round&quot;, &quot;opacity&quot;: 1.0, &quot;radius&quot;: 228000.0, &quot;stroke&quot;: true, &quot;weight&quot;: 3}\n",
       "            ).addTo(map_feca7f7996749b669ab93ed1eadabcc9);\n",
       "        \n",
       "    \n",
       "            circle_84ac2792ab6b9493fe8e0d2d86d0fbf2.bindTooltip(\n",
       "                `&lt;div&gt;\n",
       "                     &lt;div style=&#x27;margin:0; background-color:black; color:white;&#x27;&gt;&lt;h4 style=&#x27;text-align:center;front-weight: bold&#x27;&gt;Saint Vincent and the Grenadines&lt;/h4&gt;&lt;hr style=&#x27;margin:10px; color:white;&#x27;&gt;&lt;ul style=&#x27;color:white; list-style-type:circle; align-item:left;padding-left:20px;padding-right:20px&#x27;&gt;&lt;li&gt;Confirmed: 4047828&lt;/li&gt;&lt;li&gt;Deaths:   46541&lt;/li&gt;&lt;li&gt;Death rate:    1.15&lt;/li&gt;&lt;/ul&gt;&lt;/div&gt;\n",
       "                 &lt;/div&gt;`,\n",
       "                {&quot;sticky&quot;: true}\n",
       "            );\n",
       "        \n",
       "    \n",
       "            var circle_4508edc9e11e8ede00c9a9889b3384bc = L.circle(\n",
       "                [-13.759, -172.1046],\n",
       "                {&quot;bubblingMouseEvents&quot;: true, &quot;color&quot;: &quot;red&quot;, &quot;dashArray&quot;: null, &quot;dashOffset&quot;: null, &quot;fill&quot;: true, &quot;fillColor&quot;: &quot;blue&quot;, &quot;fillOpacity&quot;: 0.2, &quot;fillRule&quot;: &quot;evenodd&quot;, &quot;lineCap&quot;: &quot;round&quot;, &quot;lineJoin&quot;: &quot;round&quot;, &quot;opacity&quot;: 1.0, &quot;radius&quot;: 228000.0, &quot;stroke&quot;: true, &quot;weight&quot;: 3}\n",
       "            ).addTo(map_feca7f7996749b669ab93ed1eadabcc9);\n",
       "        \n",
       "    \n",
       "            circle_4508edc9e11e8ede00c9a9889b3384bc.bindTooltip(\n",
       "                `&lt;div&gt;\n",
       "                     &lt;div style=&#x27;margin:0; background-color:black; color:white;&#x27;&gt;&lt;h4 style=&#x27;text-align:center;front-weight: bold&#x27;&gt;Samoa&lt;/h4&gt;&lt;hr style=&#x27;margin:10px; color:white;&#x27;&gt;&lt;ul style=&#x27;color:white; list-style-type:circle; align-item:left;padding-left:20px;padding-right:20px&#x27;&gt;&lt;li&gt;Confirmed: 3590190&lt;/li&gt;&lt;li&gt;Deaths:   6677&lt;/li&gt;&lt;li&gt;Death rate:    0.19&lt;/li&gt;&lt;/ul&gt;&lt;/div&gt;\n",
       "                 &lt;/div&gt;`,\n",
       "                {&quot;sticky&quot;: true}\n",
       "            );\n",
       "        \n",
       "    \n",
       "            var circle_1239a2251dc48871f54b8b66d5c5587b = L.circle(\n",
       "                [43.9424, 12.4578],\n",
       "                {&quot;bubblingMouseEvents&quot;: true, &quot;color&quot;: &quot;red&quot;, &quot;dashArray&quot;: null, &quot;dashOffset&quot;: null, &quot;fill&quot;: true, &quot;fillColor&quot;: &quot;blue&quot;, &quot;fillOpacity&quot;: 0.2, &quot;fillRule&quot;: &quot;evenodd&quot;, &quot;lineCap&quot;: &quot;round&quot;, &quot;lineJoin&quot;: &quot;round&quot;, &quot;opacity&quot;: 1.0, &quot;radius&quot;: 228000.0, &quot;stroke&quot;: true, &quot;weight&quot;: 3}\n",
       "            ).addTo(map_feca7f7996749b669ab93ed1eadabcc9);\n",
       "        \n",
       "    \n",
       "            circle_1239a2251dc48871f54b8b66d5c5587b.bindTooltip(\n",
       "                `&lt;div&gt;\n",
       "                     &lt;div style=&#x27;margin:0; background-color:black; color:white;&#x27;&gt;&lt;h4 style=&#x27;text-align:center;front-weight: bold&#x27;&gt;San Marino&lt;/h4&gt;&lt;hr style=&#x27;margin:10px; color:white;&#x27;&gt;&lt;ul style=&#x27;color:white; list-style-type:circle; align-item:left;padding-left:20px;padding-right:20px&#x27;&gt;&lt;li&gt;Confirmed: 8204856&lt;/li&gt;&lt;li&gt;Deaths:   83311&lt;/li&gt;&lt;li&gt;Death rate:    1.02&lt;/li&gt;&lt;/ul&gt;&lt;/div&gt;\n",
       "                 &lt;/div&gt;`,\n",
       "                {&quot;sticky&quot;: true}\n",
       "            );\n",
       "        \n",
       "    \n",
       "            var circle_7a31739ee084c7b0302b1bb9d675b58b = L.circle(\n",
       "                [0.1864, 6.6131],\n",
       "                {&quot;bubblingMouseEvents&quot;: true, &quot;color&quot;: &quot;red&quot;, &quot;dashArray&quot;: null, &quot;dashOffset&quot;: null, &quot;fill&quot;: true, &quot;fillColor&quot;: &quot;blue&quot;, &quot;fillOpacity&quot;: 0.2, &quot;fillRule&quot;: &quot;evenodd&quot;, &quot;lineCap&quot;: &quot;round&quot;, &quot;lineJoin&quot;: &quot;round&quot;, &quot;opacity&quot;: 1.0, &quot;radius&quot;: 213000.0, &quot;stroke&quot;: true, &quot;weight&quot;: 3}\n",
       "            ).addTo(map_feca7f7996749b669ab93ed1eadabcc9);\n",
       "        \n",
       "    \n",
       "            circle_7a31739ee084c7b0302b1bb9d675b58b.bindTooltip(\n",
       "                `&lt;div&gt;\n",
       "                     &lt;div style=&#x27;margin:0; background-color:black; color:white;&#x27;&gt;&lt;h4 style=&#x27;text-align:center;front-weight: bold&#x27;&gt;Sao Tome and Principe&lt;/h4&gt;&lt;hr style=&#x27;margin:10px; color:white;&#x27;&gt;&lt;ul style=&#x27;color:white; list-style-type:circle; align-item:left;padding-left:20px;padding-right:20px&#x27;&gt;&lt;li&gt;Confirmed: 3219508&lt;/li&gt;&lt;li&gt;Deaths:   43127&lt;/li&gt;&lt;li&gt;Death rate:    1.34&lt;/li&gt;&lt;/ul&gt;&lt;/div&gt;\n",
       "                 &lt;/div&gt;`,\n",
       "                {&quot;sticky&quot;: true}\n",
       "            );\n",
       "        \n",
       "    \n",
       "            var circle_b0b0329b142f1d5b3ccdca14da4c8c82 = L.circle(\n",
       "                [23.885942, 45.079162],\n",
       "                {&quot;bubblingMouseEvents&quot;: true, &quot;color&quot;: &quot;red&quot;, &quot;dashArray&quot;: null, &quot;dashOffset&quot;: null, &quot;fill&quot;: true, &quot;fillColor&quot;: &quot;blue&quot;, &quot;fillOpacity&quot;: 0.2, &quot;fillRule&quot;: &quot;evenodd&quot;, &quot;lineCap&quot;: &quot;round&quot;, &quot;lineJoin&quot;: &quot;round&quot;, &quot;opacity&quot;: 1.0, &quot;radius&quot;: 303000.0, &quot;stroke&quot;: true, &quot;weight&quot;: 3}\n",
       "            ).addTo(map_feca7f7996749b669ab93ed1eadabcc9);\n",
       "        \n",
       "    \n",
       "            circle_b0b0329b142f1d5b3ccdca14da4c8c82.bindTooltip(\n",
       "                `&lt;div&gt;\n",
       "                     &lt;div style=&#x27;margin:0; background-color:black; color:white;&#x27;&gt;&lt;h4 style=&#x27;text-align:center;front-weight: bold&#x27;&gt;Saudi Arabia&lt;/h4&gt;&lt;hr style=&#x27;margin:10px; color:white;&#x27;&gt;&lt;ul style=&#x27;color:white; list-style-type:circle; align-item:left;padding-left:20px;padding-right:20px&#x27;&gt;&lt;li&gt;Confirmed: 505863722&lt;/li&gt;&lt;li&gt;Deaths:   6879654&lt;/li&gt;&lt;li&gt;Death rate:    1.36&lt;/li&gt;&lt;/ul&gt;&lt;/div&gt;\n",
       "                 &lt;/div&gt;`,\n",
       "                {&quot;sticky&quot;: true}\n",
       "            );\n",
       "        \n",
       "    \n",
       "            var circle_e136da7978eb07a53b33425482238bcf = L.circle(\n",
       "                [14.4974, -14.4524],\n",
       "                {&quot;bubblingMouseEvents&quot;: true, &quot;color&quot;: &quot;red&quot;, &quot;dashArray&quot;: null, &quot;dashOffset&quot;: null, &quot;fill&quot;: true, &quot;fillColor&quot;: &quot;blue&quot;, &quot;fillOpacity&quot;: 0.2, &quot;fillRule&quot;: &quot;evenodd&quot;, &quot;lineCap&quot;: &quot;round&quot;, &quot;lineJoin&quot;: &quot;round&quot;, &quot;opacity&quot;: 1.0, &quot;radius&quot;: 258000.0, &quot;stroke&quot;: true, &quot;weight&quot;: 3}\n",
       "            ).addTo(map_feca7f7996749b669ab93ed1eadabcc9);\n",
       "        \n",
       "    \n",
       "            circle_e136da7978eb07a53b33425482238bcf.bindTooltip(\n",
       "                `&lt;div&gt;\n",
       "                     &lt;div style=&#x27;margin:0; background-color:black; color:white;&#x27;&gt;&lt;h4 style=&#x27;text-align:center;front-weight: bold&#x27;&gt;Senegal&lt;/h4&gt;&lt;hr style=&#x27;margin:10px; color:white;&#x27;&gt;&lt;ul style=&#x27;color:white; list-style-type:circle; align-item:left;padding-left:20px;padding-right:20px&#x27;&gt;&lt;li&gt;Confirmed: 52110265&lt;/li&gt;&lt;li&gt;Deaths:   1222582&lt;/li&gt;&lt;li&gt;Death rate:    2.35&lt;/li&gt;&lt;/ul&gt;&lt;/div&gt;\n",
       "                 &lt;/div&gt;`,\n",
       "                {&quot;sticky&quot;: true}\n",
       "            );\n",
       "        \n",
       "    \n",
       "            var circle_18389423e9c801e8c56af8da3c57a946 = L.circle(\n",
       "                [44.0165, 21.0059],\n",
       "                {&quot;bubblingMouseEvents&quot;: true, &quot;color&quot;: &quot;red&quot;, &quot;dashArray&quot;: null, &quot;dashOffset&quot;: null, &quot;fill&quot;: true, &quot;fillColor&quot;: &quot;blue&quot;, &quot;fillOpacity&quot;: 0.2, &quot;fillRule&quot;: &quot;evenodd&quot;, &quot;lineCap&quot;: &quot;round&quot;, &quot;lineJoin&quot;: &quot;round&quot;, &quot;opacity&quot;: 1.0, &quot;radius&quot;: 303000.0, &quot;stroke&quot;: true, &quot;weight&quot;: 3}\n",
       "            ).addTo(map_feca7f7996749b669ab93ed1eadabcc9);\n",
       "        \n",
       "    \n",
       "            circle_18389423e9c801e8c56af8da3c57a946.bindTooltip(\n",
       "                `&lt;div&gt;\n",
       "                     &lt;div style=&#x27;margin:0; background-color:black; color:white;&#x27;&gt;&lt;h4 style=&#x27;text-align:center;front-weight: bold&#x27;&gt;Serbia&lt;/h4&gt;&lt;hr style=&#x27;margin:10px; color:white;&#x27;&gt;&lt;ul style=&#x27;color:white; list-style-type:circle; align-item:left;padding-left:20px;padding-right:20px&#x27;&gt;&lt;li&gt;Confirmed: 1019950345&lt;/li&gt;&lt;li&gt;Deaths:   8409942&lt;/li&gt;&lt;li&gt;Death rate:    0.82&lt;/li&gt;&lt;/ul&gt;&lt;/div&gt;\n",
       "                 &lt;/div&gt;`,\n",
       "                {&quot;sticky&quot;: true}\n",
       "            );\n",
       "        \n",
       "    \n",
       "            var circle_bd05907311607b142708e2aa48454106 = L.circle(\n",
       "                [-4.6796, 55.492],\n",
       "                {&quot;bubblingMouseEvents&quot;: true, &quot;color&quot;: &quot;red&quot;, &quot;dashArray&quot;: null, &quot;dashOffset&quot;: null, &quot;fill&quot;: true, &quot;fillColor&quot;: &quot;blue&quot;, &quot;fillOpacity&quot;: 0.2, &quot;fillRule&quot;: &quot;evenodd&quot;, &quot;lineCap&quot;: &quot;round&quot;, &quot;lineJoin&quot;: &quot;round&quot;, &quot;opacity&quot;: 1.0, &quot;radius&quot;: 243000.0, &quot;stroke&quot;: true, &quot;weight&quot;: 3}\n",
       "            ).addTo(map_feca7f7996749b669ab93ed1eadabcc9);\n",
       "        \n",
       "    \n",
       "            circle_bd05907311607b142708e2aa48454106.bindTooltip(\n",
       "                `&lt;div&gt;\n",
       "                     &lt;div style=&#x27;margin:0; background-color:black; color:white;&#x27;&gt;&lt;h4 style=&#x27;text-align:center;front-weight: bold&#x27;&gt;Seychelles&lt;/h4&gt;&lt;hr style=&#x27;margin:10px; color:white;&#x27;&gt;&lt;ul style=&#x27;color:white; list-style-type:circle; align-item:left;padding-left:20px;padding-right:20px&#x27;&gt;&lt;li&gt;Confirmed: 19978254&lt;/li&gt;&lt;li&gt;Deaths:   80750&lt;/li&gt;&lt;li&gt;Death rate:    0.4&lt;/li&gt;&lt;/ul&gt;&lt;/div&gt;\n",
       "                 &lt;/div&gt;`,\n",
       "                {&quot;sticky&quot;: true}\n",
       "            );\n",
       "        \n",
       "    \n",
       "            var circle_54671ce07883e0f702aa7008d29cc63f = L.circle(\n",
       "                [8.460555, -11.779889],\n",
       "                {&quot;bubblingMouseEvents&quot;: true, &quot;color&quot;: &quot;red&quot;, &quot;dashArray&quot;: null, &quot;dashOffset&quot;: null, &quot;fill&quot;: true, &quot;fillColor&quot;: &quot;blue&quot;, &quot;fillOpacity&quot;: 0.2, &quot;fillRule&quot;: &quot;evenodd&quot;, &quot;lineCap&quot;: &quot;round&quot;, &quot;lineJoin&quot;: &quot;round&quot;, &quot;opacity&quot;: 1.0, &quot;radius&quot;: 228000.0, &quot;stroke&quot;: true, &quot;weight&quot;: 3}\n",
       "            ).addTo(map_feca7f7996749b669ab93ed1eadabcc9);\n",
       "        \n",
       "    \n",
       "            circle_54671ce07883e0f702aa7008d29cc63f.bindTooltip(\n",
       "                `&lt;div&gt;\n",
       "                     &lt;div style=&#x27;margin:0; background-color:black; color:white;&#x27;&gt;&lt;h4 style=&#x27;text-align:center;front-weight: bold&#x27;&gt;Sierra Leone&lt;/h4&gt;&lt;hr style=&#x27;margin:10px; color:white;&#x27;&gt;&lt;ul style=&#x27;color:white; list-style-type:circle; align-item:left;padding-left:20px;padding-right:20px&#x27;&gt;&lt;li&gt;Confirmed: 5001956&lt;/li&gt;&lt;li&gt;Deaths:   95571&lt;/li&gt;&lt;li&gt;Death rate:    1.91&lt;/li&gt;&lt;/ul&gt;&lt;/div&gt;\n",
       "                 &lt;/div&gt;`,\n",
       "                {&quot;sticky&quot;: true}\n",
       "            );\n",
       "        \n",
       "    \n",
       "            var circle_5377e21bbe49ba529fcdf34228678e4c = L.circle(\n",
       "                [1.2833, 103.8333],\n",
       "                {&quot;bubblingMouseEvents&quot;: true, &quot;color&quot;: &quot;red&quot;, &quot;dashArray&quot;: null, &quot;dashOffset&quot;: null, &quot;fill&quot;: true, &quot;fillColor&quot;: &quot;blue&quot;, &quot;fillOpacity&quot;: 0.2, &quot;fillRule&quot;: &quot;evenodd&quot;, &quot;lineCap&quot;: &quot;round&quot;, &quot;lineJoin&quot;: &quot;round&quot;, &quot;opacity&quot;: 1.0, &quot;radius&quot;: 303000.0, &quot;stroke&quot;: true, &quot;weight&quot;: 3}\n",
       "            ).addTo(map_feca7f7996749b669ab93ed1eadabcc9);\n",
       "        \n",
       "    \n",
       "            circle_5377e21bbe49ba529fcdf34228678e4c.bindTooltip(\n",
       "                `&lt;div&gt;\n",
       "                     &lt;div style=&#x27;margin:0; background-color:black; color:white;&#x27;&gt;&lt;h4 style=&#x27;text-align:center;front-weight: bold&#x27;&gt;Singapore&lt;/h4&gt;&lt;hr style=&#x27;margin:10px; color:white;&#x27;&gt;&lt;ul style=&#x27;color:white; list-style-type:circle; align-item:left;padding-left:20px;padding-right:20px&#x27;&gt;&lt;li&gt;Confirmed: 535407895&lt;/li&gt;&lt;li&gt;Deaths:   545212&lt;/li&gt;&lt;li&gt;Death rate:    0.1&lt;/li&gt;&lt;/ul&gt;&lt;/div&gt;\n",
       "                 &lt;/div&gt;`,\n",
       "                {&quot;sticky&quot;: true}\n",
       "            );\n",
       "        \n",
       "    \n",
       "            var circle_891f72e81ef9d0949e281cda54ecd75d = L.circle(\n",
       "                [48.669, 19.699],\n",
       "                {&quot;bubblingMouseEvents&quot;: true, &quot;color&quot;: &quot;red&quot;, &quot;dashArray&quot;: null, &quot;dashOffset&quot;: null, &quot;fill&quot;: true, &quot;fillColor&quot;: &quot;blue&quot;, &quot;fillOpacity&quot;: 0.2, &quot;fillRule&quot;: &quot;evenodd&quot;, &quot;lineCap&quot;: &quot;round&quot;, &quot;lineJoin&quot;: &quot;round&quot;, &quot;opacity&quot;: 1.0, &quot;radius&quot;: 303000.0, &quot;stroke&quot;: true, &quot;weight&quot;: 3}\n",
       "            ).addTo(map_feca7f7996749b669ab93ed1eadabcc9);\n",
       "        \n",
       "    \n",
       "            circle_891f72e81ef9d0949e281cda54ecd75d.bindTooltip(\n",
       "                `&lt;div&gt;\n",
       "                     &lt;div style=&#x27;margin:0; background-color:black; color:white;&#x27;&gt;&lt;h4 style=&#x27;text-align:center;front-weight: bold&#x27;&gt;Slovakia&lt;/h4&gt;&lt;hr style=&#x27;margin:10px; color:white;&#x27;&gt;&lt;ul style=&#x27;color:white; list-style-type:circle; align-item:left;padding-left:20px;padding-right:20px&#x27;&gt;&lt;li&gt;Confirmed: 1128270891&lt;/li&gt;&lt;li&gt;Deaths:   10984757&lt;/li&gt;&lt;li&gt;Death rate:    0.97&lt;/li&gt;&lt;/ul&gt;&lt;/div&gt;\n",
       "                 &lt;/div&gt;`,\n",
       "                {&quot;sticky&quot;: true}\n",
       "            );\n",
       "        \n",
       "    \n",
       "            var circle_7855d4c6f2c18ccc3672ede71bffc8bb = L.circle(\n",
       "                [46.1512, 14.9955],\n",
       "                {&quot;bubblingMouseEvents&quot;: true, &quot;color&quot;: &quot;red&quot;, &quot;dashArray&quot;: null, &quot;dashOffset&quot;: null, &quot;fill&quot;: true, &quot;fillColor&quot;: &quot;blue&quot;, &quot;fillOpacity&quot;: 0.2, &quot;fillRule&quot;: &quot;evenodd&quot;, &quot;lineCap&quot;: &quot;round&quot;, &quot;lineJoin&quot;: &quot;round&quot;, &quot;opacity&quot;: 1.0, &quot;radius&quot;: 288000.0, &quot;stroke&quot;: true, &quot;weight&quot;: 3}\n",
       "            ).addTo(map_feca7f7996749b669ab93ed1eadabcc9);\n",
       "        \n",
       "    \n",
       "            circle_7855d4c6f2c18ccc3672ede71bffc8bb.bindTooltip(\n",
       "                `&lt;div&gt;\n",
       "                     &lt;div style=&#x27;margin:0; background-color:black; color:white;&#x27;&gt;&lt;h4 style=&#x27;text-align:center;front-weight: bold&#x27;&gt;Slovenia&lt;/h4&gt;&lt;hr style=&#x27;margin:10px; color:white;&#x27;&gt;&lt;ul style=&#x27;color:white; list-style-type:circle; align-item:left;padding-left:20px;padding-right:20px&#x27;&gt;&lt;li&gt;Confirmed: 459385340&lt;/li&gt;&lt;li&gt;Deaths:   3988750&lt;/li&gt;&lt;li&gt;Death rate:    0.87&lt;/li&gt;&lt;/ul&gt;&lt;/div&gt;\n",
       "                 &lt;/div&gt;`,\n",
       "                {&quot;sticky&quot;: true}\n",
       "            );\n",
       "        \n",
       "    \n",
       "            var circle_b7b44f051d3de74e15ba5f746d8e98b6 = L.circle(\n",
       "                [-9.6457, 160.1562],\n",
       "                {&quot;bubblingMouseEvents&quot;: true, &quot;color&quot;: &quot;red&quot;, &quot;dashArray&quot;: null, &quot;dashOffset&quot;: null, &quot;fill&quot;: true, &quot;fillColor&quot;: &quot;blue&quot;, &quot;fillOpacity&quot;: 0.2, &quot;fillRule&quot;: &quot;evenodd&quot;, &quot;lineCap&quot;: &quot;round&quot;, &quot;lineJoin&quot;: &quot;round&quot;, &quot;opacity&quot;: 1.0, &quot;radius&quot;: 228000.0, &quot;stroke&quot;: true, &quot;weight&quot;: 3}\n",
       "            ).addTo(map_feca7f7996749b669ab93ed1eadabcc9);\n",
       "        \n",
       "    \n",
       "            circle_b7b44f051d3de74e15ba5f746d8e98b6.bindTooltip(\n",
       "                `&lt;div&gt;\n",
       "                     &lt;div style=&#x27;margin:0; background-color:black; color:white;&#x27;&gt;&lt;h4 style=&#x27;text-align:center;front-weight: bold&#x27;&gt;Solomon Islands&lt;/h4&gt;&lt;hr style=&#x27;margin:10px; color:white;&#x27;&gt;&lt;ul style=&#x27;color:white; list-style-type:circle; align-item:left;padding-left:20px;padding-right:20px&#x27;&gt;&lt;li&gt;Confirmed: 5681333&lt;/li&gt;&lt;li&gt;Deaths:   44233&lt;/li&gt;&lt;li&gt;Death rate:    0.78&lt;/li&gt;&lt;/ul&gt;&lt;/div&gt;\n",
       "                 &lt;/div&gt;`,\n",
       "                {&quot;sticky&quot;: true}\n",
       "            );\n",
       "        \n",
       "    \n",
       "            var circle_06b7673c8c670f0b4f02d7adb36a7c4f = L.circle(\n",
       "                [5.152149, 46.199616],\n",
       "                {&quot;bubblingMouseEvents&quot;: true, &quot;color&quot;: &quot;red&quot;, &quot;dashArray&quot;: null, &quot;dashOffset&quot;: null, &quot;fill&quot;: true, &quot;fillColor&quot;: &quot;blue&quot;, &quot;fillOpacity&quot;: 0.2, &quot;fillRule&quot;: &quot;evenodd&quot;, &quot;lineCap&quot;: &quot;round&quot;, &quot;lineJoin&quot;: &quot;round&quot;, &quot;opacity&quot;: 1.0, &quot;radius&quot;: 243000.0, &quot;stroke&quot;: true, &quot;weight&quot;: 3}\n",
       "            ).addTo(map_feca7f7996749b669ab93ed1eadabcc9);\n",
       "        \n",
       "    \n",
       "            circle_06b7673c8c670f0b4f02d7adb36a7c4f.bindTooltip(\n",
       "                `&lt;div&gt;\n",
       "                     &lt;div style=&#x27;margin:0; background-color:black; color:white;&#x27;&gt;&lt;h4 style=&#x27;text-align:center;front-weight: bold&#x27;&gt;Somalia&lt;/h4&gt;&lt;hr style=&#x27;margin:10px; color:white;&#x27;&gt;&lt;ul style=&#x27;color:white; list-style-type:circle; align-item:left;padding-left:20px;padding-right:20px&#x27;&gt;&lt;li&gt;Confirmed: 15542309&lt;/li&gt;&lt;li&gt;Deaths:   782033&lt;/li&gt;&lt;li&gt;Death rate:    5.03&lt;/li&gt;&lt;/ul&gt;&lt;/div&gt;\n",
       "                 &lt;/div&gt;`,\n",
       "                {&quot;sticky&quot;: true}\n",
       "            );\n",
       "        \n",
       "    \n",
       "            var circle_c6c2c23025f0ab9973ad10ed381f57e9 = L.circle(\n",
       "                [-30.5595, 22.9375],\n",
       "                {&quot;bubblingMouseEvents&quot;: true, &quot;color&quot;: &quot;red&quot;, &quot;dashArray&quot;: null, &quot;dashOffset&quot;: null, &quot;fill&quot;: true, &quot;fillColor&quot;: &quot;blue&quot;, &quot;fillOpacity&quot;: 0.2, &quot;fillRule&quot;: &quot;evenodd&quot;, &quot;lineCap&quot;: &quot;round&quot;, &quot;lineJoin&quot;: &quot;round&quot;, &quot;opacity&quot;: 1.0, &quot;radius&quot;: 318000.0, &quot;stroke&quot;: true, &quot;weight&quot;: 3}\n",
       "            ).addTo(map_feca7f7996749b669ab93ed1eadabcc9);\n",
       "        \n",
       "    \n",
       "            circle_c6c2c23025f0ab9973ad10ed381f57e9.bindTooltip(\n",
       "                `&lt;div&gt;\n",
       "                     &lt;div style=&#x27;margin:0; background-color:black; color:white;&#x27;&gt;&lt;h4 style=&#x27;text-align:center;front-weight: bold&#x27;&gt;South Africa&lt;/h4&gt;&lt;hr style=&#x27;margin:10px; color:white;&#x27;&gt;&lt;ul style=&#x27;color:white; list-style-type:circle; align-item:left;padding-left:20px;padding-right:20px&#x27;&gt;&lt;li&gt;Confirmed: 2268420407&lt;/li&gt;&lt;li&gt;Deaths:   62311476&lt;/li&gt;&lt;li&gt;Death rate:    2.75&lt;/li&gt;&lt;/ul&gt;&lt;/div&gt;\n",
       "                 &lt;/div&gt;`,\n",
       "                {&quot;sticky&quot;: true}\n",
       "            );\n",
       "        \n",
       "    \n",
       "            var circle_1164f15b47c90be3fcc7b6daef692930 = L.circle(\n",
       "                [6.877, 31.307],\n",
       "                {&quot;bubblingMouseEvents&quot;: true, &quot;color&quot;: &quot;red&quot;, &quot;dashArray&quot;: null, &quot;dashOffset&quot;: null, &quot;fill&quot;: true, &quot;fillColor&quot;: &quot;blue&quot;, &quot;fillOpacity&quot;: 0.2, &quot;fillRule&quot;: &quot;evenodd&quot;, &quot;lineCap&quot;: &quot;round&quot;, &quot;lineJoin&quot;: &quot;round&quot;, &quot;opacity&quot;: 1.0, &quot;radius&quot;: 243000.0, &quot;stroke&quot;: true, &quot;weight&quot;: 3}\n",
       "            ).addTo(map_feca7f7996749b669ab93ed1eadabcc9);\n",
       "        \n",
       "    \n",
       "            circle_1164f15b47c90be3fcc7b6daef692930.bindTooltip(\n",
       "                `&lt;div&gt;\n",
       "                     &lt;div style=&#x27;margin:0; background-color:black; color:white;&#x27;&gt;&lt;h4 style=&#x27;text-align:center;front-weight: bold&#x27;&gt;South Sudan&lt;/h4&gt;&lt;hr style=&#x27;margin:10px; color:white;&#x27;&gt;&lt;ul style=&#x27;color:white; list-style-type:circle; align-item:left;padding-left:20px;padding-right:20px&#x27;&gt;&lt;li&gt;Confirmed: 10406838&lt;/li&gt;&lt;li&gt;Deaths:   99424&lt;/li&gt;&lt;li&gt;Death rate:    0.96&lt;/li&gt;&lt;/ul&gt;&lt;/div&gt;\n",
       "                 &lt;/div&gt;`,\n",
       "                {&quot;sticky&quot;: true}\n",
       "            );\n",
       "        \n",
       "    \n",
       "            var circle_0d63ceea065cd8df14b0115d22009391 = L.circle(\n",
       "                [40.463667, -3.74922],\n",
       "                {&quot;bubblingMouseEvents&quot;: true, &quot;color&quot;: &quot;red&quot;, &quot;dashArray&quot;: null, &quot;dashOffset&quot;: null, &quot;fill&quot;: true, &quot;fillColor&quot;: &quot;blue&quot;, &quot;fillOpacity&quot;: 0.2, &quot;fillRule&quot;: &quot;evenodd&quot;, &quot;lineCap&quot;: &quot;round&quot;, &quot;lineJoin&quot;: &quot;round&quot;, &quot;opacity&quot;: 1.0, &quot;radius&quot;: 333000.0, &quot;stroke&quot;: true, &quot;weight&quot;: 3}\n",
       "            ).addTo(map_feca7f7996749b669ab93ed1eadabcc9);\n",
       "        \n",
       "    \n",
       "            circle_0d63ceea065cd8df14b0115d22009391.bindTooltip(\n",
       "                `&lt;div&gt;\n",
       "                     &lt;div style=&#x27;margin:0; background-color:black; color:white;&#x27;&gt;&lt;h4 style=&#x27;text-align:center;front-weight: bold&#x27;&gt;Spain&lt;/h4&gt;&lt;hr style=&#x27;margin:10px; color:white;&#x27;&gt;&lt;ul style=&#x27;color:white; list-style-type:circle; align-item:left;padding-left:20px;padding-right:20px&#x27;&gt;&lt;li&gt;Confirmed: 5905128177&lt;/li&gt;&lt;li&gt;Deaths:   74530243&lt;/li&gt;&lt;li&gt;Death rate:    1.26&lt;/li&gt;&lt;/ul&gt;&lt;/div&gt;\n",
       "                 &lt;/div&gt;`,\n",
       "                {&quot;sticky&quot;: true}\n",
       "            );\n",
       "        \n",
       "    \n",
       "            var circle_7aeda86817606bd134f05f82e2226dac = L.circle(\n",
       "                [7.873054, 80.771797],\n",
       "                {&quot;bubblingMouseEvents&quot;: true, &quot;color&quot;: &quot;red&quot;, &quot;dashArray&quot;: null, &quot;dashOffset&quot;: null, &quot;fill&quot;: true, &quot;fillColor&quot;: &quot;blue&quot;, &quot;fillOpacity&quot;: 0.2, &quot;fillRule&quot;: &quot;evenodd&quot;, &quot;lineCap&quot;: &quot;round&quot;, &quot;lineJoin&quot;: &quot;round&quot;, &quot;opacity&quot;: 1.0, &quot;radius&quot;: 288000.0, &quot;stroke&quot;: true, &quot;weight&quot;: 3}\n",
       "            ).addTo(map_feca7f7996749b669ab93ed1eadabcc9);\n",
       "        \n",
       "    \n",
       "            circle_7aeda86817606bd134f05f82e2226dac.bindTooltip(\n",
       "                `&lt;div&gt;\n",
       "                     &lt;div style=&#x27;margin:0; background-color:black; color:white;&#x27;&gt;&lt;h4 style=&#x27;text-align:center;front-weight: bold&#x27;&gt;Sri Lanka&lt;/h4&gt;&lt;hr style=&#x27;margin:10px; color:white;&#x27;&gt;&lt;ul style=&#x27;color:white; list-style-type:circle; align-item:left;padding-left:20px;padding-right:20px&#x27;&gt;&lt;li&gt;Confirmed: 337240882&lt;/li&gt;&lt;li&gt;Deaths:   7832740&lt;/li&gt;&lt;li&gt;Death rate:    2.32&lt;/li&gt;&lt;/ul&gt;&lt;/div&gt;\n",
       "                 &lt;/div&gt;`,\n",
       "                {&quot;sticky&quot;: true}\n",
       "            );\n",
       "        \n",
       "    \n",
       "            var circle_5fb40fe17be27134a61742e21877db8a = L.circle(\n",
       "                [12.8628, 30.2176],\n",
       "                {&quot;bubblingMouseEvents&quot;: true, &quot;color&quot;: &quot;red&quot;, &quot;dashArray&quot;: null, &quot;dashOffset&quot;: null, &quot;fill&quot;: true, &quot;fillColor&quot;: &quot;blue&quot;, &quot;fillOpacity&quot;: 0.2, &quot;fillRule&quot;: &quot;evenodd&quot;, &quot;lineCap&quot;: &quot;round&quot;, &quot;lineJoin&quot;: &quot;round&quot;, &quot;opacity&quot;: 1.0, &quot;radius&quot;: 258000.0, &quot;stroke&quot;: true, &quot;weight&quot;: 3}\n",
       "            ).addTo(map_feca7f7996749b669ab93ed1eadabcc9);\n",
       "        \n",
       "    \n",
       "            circle_5fb40fe17be27134a61742e21877db8a.bindTooltip(\n",
       "                `&lt;div&gt;\n",
       "                     &lt;div style=&#x27;margin:0; background-color:black; color:white;&#x27;&gt;&lt;h4 style=&#x27;text-align:center;front-weight: bold&#x27;&gt;Sudan&lt;/h4&gt;&lt;hr style=&#x27;margin:10px; color:white;&#x27;&gt;&lt;ul style=&#x27;color:white; list-style-type:circle; align-item:left;padding-left:20px;padding-right:20px&#x27;&gt;&lt;li&gt;Confirmed: 37519415&lt;/li&gt;&lt;li&gt;Deaths:   2755702&lt;/li&gt;&lt;li&gt;Death rate:    7.34&lt;/li&gt;&lt;/ul&gt;&lt;/div&gt;\n",
       "                 &lt;/div&gt;`,\n",
       "                {&quot;sticky&quot;: true}\n",
       "            );\n",
       "        \n",
       "    \n",
       "            var circle_4c69ef1ba79954ad693c9c858e86b06c = L.circle(\n",
       "                [35.6491, 139.7737],\n",
       "                {&quot;bubblingMouseEvents&quot;: true, &quot;color&quot;: &quot;red&quot;, &quot;dashArray&quot;: null, &quot;dashOffset&quot;: null, &quot;fill&quot;: true, &quot;fillColor&quot;: &quot;blue&quot;, &quot;fillOpacity&quot;: 0.2, &quot;fillRule&quot;: &quot;evenodd&quot;, &quot;lineCap&quot;: &quot;round&quot;, &quot;lineJoin&quot;: &quot;round&quot;, &quot;opacity&quot;: 1.0, &quot;radius&quot;: 183000.0, &quot;stroke&quot;: true, &quot;weight&quot;: 3}\n",
       "            ).addTo(map_feca7f7996749b669ab93ed1eadabcc9);\n",
       "        \n",
       "    \n",
       "            circle_4c69ef1ba79954ad693c9c858e86b06c.bindTooltip(\n",
       "                `&lt;div&gt;\n",
       "                     &lt;div style=&#x27;margin:0; background-color:black; color:white;&#x27;&gt;&lt;h4 style=&#x27;text-align:center;front-weight: bold&#x27;&gt;Summer Olympics 2020&lt;/h4&gt;&lt;hr style=&#x27;margin:10px; color:white;&#x27;&gt;&lt;ul style=&#x27;color:white; list-style-type:circle; align-item:left;padding-left:20px;padding-right:20px&#x27;&gt;&lt;li&gt;Confirmed: 425163&lt;/li&gt;&lt;li&gt;Deaths:   0&lt;/li&gt;&lt;li&gt;Death rate:    0.0&lt;/li&gt;&lt;/ul&gt;&lt;/div&gt;\n",
       "                 &lt;/div&gt;`,\n",
       "                {&quot;sticky&quot;: true}\n",
       "            );\n",
       "        \n",
       "    \n",
       "            var circle_693ba2fb89a49bcb2a3bd0d3f23b6e8a = L.circle(\n",
       "                [3.9193, -56.0278],\n",
       "                {&quot;bubblingMouseEvents&quot;: true, &quot;color&quot;: &quot;red&quot;, &quot;dashArray&quot;: null, &quot;dashOffset&quot;: null, &quot;fill&quot;: true, &quot;fillColor&quot;: &quot;blue&quot;, &quot;fillOpacity&quot;: 0.2, &quot;fillRule&quot;: &quot;evenodd&quot;, &quot;lineCap&quot;: &quot;round&quot;, &quot;lineJoin&quot;: &quot;round&quot;, &quot;opacity&quot;: 1.0, &quot;radius&quot;: 258000.0, &quot;stroke&quot;: true, &quot;weight&quot;: 3}\n",
       "            ).addTo(map_feca7f7996749b669ab93ed1eadabcc9);\n",
       "        \n",
       "    \n",
       "            circle_693ba2fb89a49bcb2a3bd0d3f23b6e8a.bindTooltip(\n",
       "                `&lt;div&gt;\n",
       "                     &lt;div style=&#x27;margin:0; background-color:black; color:white;&#x27;&gt;&lt;h4 style=&#x27;text-align:center;front-weight: bold&#x27;&gt;Suriname&lt;/h4&gt;&lt;hr style=&#x27;margin:10px; color:white;&#x27;&gt;&lt;ul style=&#x27;color:white; list-style-type:circle; align-item:left;padding-left:20px;padding-right:20px&#x27;&gt;&lt;li&gt;Confirmed: 37308435&lt;/li&gt;&lt;li&gt;Deaths:   689039&lt;/li&gt;&lt;li&gt;Death rate:    1.85&lt;/li&gt;&lt;/ul&gt;&lt;/div&gt;\n",
       "                 &lt;/div&gt;`,\n",
       "                {&quot;sticky&quot;: true}\n",
       "            );\n",
       "        \n",
       "    \n",
       "            var circle_46d2072a6544e3fc3ab262c181d46f75 = L.circle(\n",
       "                [60.128161, 18.643501],\n",
       "                {&quot;bubblingMouseEvents&quot;: true, &quot;color&quot;: &quot;red&quot;, &quot;dashArray&quot;: null, &quot;dashOffset&quot;: null, &quot;fill&quot;: true, &quot;fillColor&quot;: &quot;blue&quot;, &quot;fillOpacity&quot;: 0.2, &quot;fillRule&quot;: &quot;evenodd&quot;, &quot;lineCap&quot;: &quot;round&quot;, &quot;lineJoin&quot;: &quot;round&quot;, &quot;opacity&quot;: 1.0, &quot;radius&quot;: 303000.0, &quot;stroke&quot;: true, &quot;weight&quot;: 3}\n",
       "            ).addTo(map_feca7f7996749b669ab93ed1eadabcc9);\n",
       "        \n",
       "    \n",
       "            circle_46d2072a6544e3fc3ab262c181d46f75.bindTooltip(\n",
       "                `&lt;div&gt;\n",
       "                     &lt;div style=&#x27;margin:0; background-color:black; color:white;&#x27;&gt;&lt;h4 style=&#x27;text-align:center;front-weight: bold&#x27;&gt;Sweden&lt;/h4&gt;&lt;hr style=&#x27;margin:10px; color:white;&#x27;&gt;&lt;ul style=&#x27;color:white; list-style-type:circle; align-item:left;padding-left:20px;padding-right:20px&#x27;&gt;&lt;li&gt;Confirmed: 1242694580&lt;/li&gt;&lt;li&gt;Deaths:   13117775&lt;/li&gt;&lt;li&gt;Death rate:    1.06&lt;/li&gt;&lt;/ul&gt;&lt;/div&gt;\n",
       "                 &lt;/div&gt;`,\n",
       "                {&quot;sticky&quot;: true}\n",
       "            );\n",
       "        \n",
       "    \n",
       "            var circle_94e7e49d3b56dfdf13698c795c4df62b = L.circle(\n",
       "                [46.8182, 8.2275],\n",
       "                {&quot;bubblingMouseEvents&quot;: true, &quot;color&quot;: &quot;red&quot;, &quot;dashArray&quot;: null, &quot;dashOffset&quot;: null, &quot;fill&quot;: true, &quot;fillColor&quot;: &quot;blue&quot;, &quot;fillOpacity&quot;: 0.2, &quot;fillRule&quot;: &quot;evenodd&quot;, &quot;lineCap&quot;: &quot;round&quot;, &quot;lineJoin&quot;: &quot;round&quot;, &quot;opacity&quot;: 1.0, &quot;radius&quot;: 318000.0, &quot;stroke&quot;: true, &quot;weight&quot;: 3}\n",
       "            ).addTo(map_feca7f7996749b669ab93ed1eadabcc9);\n",
       "        \n",
       "    \n",
       "            circle_94e7e49d3b56dfdf13698c795c4df62b.bindTooltip(\n",
       "                `&lt;div&gt;\n",
       "                     &lt;div style=&#x27;margin:0; background-color:black; color:white;&#x27;&gt;&lt;h4 style=&#x27;text-align:center;front-weight: bold&#x27;&gt;Switzerland&lt;/h4&gt;&lt;hr style=&#x27;margin:10px; color:white;&#x27;&gt;&lt;ul style=&#x27;color:white; list-style-type:circle; align-item:left;padding-left:20px;padding-right:20px&#x27;&gt;&lt;li&gt;Confirmed: 1538703719&lt;/li&gt;&lt;li&gt;Deaths:   9328821&lt;/li&gt;&lt;li&gt;Death rate:    0.61&lt;/li&gt;&lt;/ul&gt;&lt;/div&gt;\n",
       "                 &lt;/div&gt;`,\n",
       "                {&quot;sticky&quot;: true}\n",
       "            );\n",
       "        \n",
       "    \n",
       "            var circle_34b4415ea5c29077bf83c49fdaab5f6f = L.circle(\n",
       "                [34.802075, 38.996815],\n",
       "                {&quot;bubblingMouseEvents&quot;: true, &quot;color&quot;: &quot;red&quot;, &quot;dashArray&quot;: null, &quot;dashOffset&quot;: null, &quot;fill&quot;: true, &quot;fillColor&quot;: &quot;blue&quot;, &quot;fillOpacity&quot;: 0.2, &quot;fillRule&quot;: &quot;evenodd&quot;, &quot;lineCap&quot;: &quot;round&quot;, &quot;lineJoin&quot;: &quot;round&quot;, &quot;opacity&quot;: 1.0, &quot;radius&quot;: 258000.0, &quot;stroke&quot;: true, &quot;weight&quot;: 3}\n",
       "            ).addTo(map_feca7f7996749b669ab93ed1eadabcc9);\n",
       "        \n",
       "    \n",
       "            circle_34b4415ea5c29077bf83c49fdaab5f6f.bindTooltip(\n",
       "                `&lt;div&gt;\n",
       "                     &lt;div style=&#x27;margin:0; background-color:black; color:white;&#x27;&gt;&lt;h4 style=&#x27;text-align:center;front-weight: bold&#x27;&gt;Syria&lt;/h4&gt;&lt;hr style=&#x27;margin:10px; color:white;&#x27;&gt;&lt;ul style=&#x27;color:white; list-style-type:circle; align-item:left;padding-left:20px;padding-right:20px&#x27;&gt;&lt;li&gt;Confirmed: 30326448&lt;/li&gt;&lt;li&gt;Deaths:   1793790&lt;/li&gt;&lt;li&gt;Death rate:    5.91&lt;/li&gt;&lt;/ul&gt;&lt;/div&gt;\n",
       "                 &lt;/div&gt;`,\n",
       "                {&quot;sticky&quot;: true}\n",
       "            );\n",
       "        \n",
       "    \n",
       "            var circle_5d5c1315a5b58cc80cad194eb74bc406 = L.circle(\n",
       "                [23.7, 121.0],\n",
       "                {&quot;bubblingMouseEvents&quot;: true, &quot;color&quot;: &quot;red&quot;, &quot;dashArray&quot;: null, &quot;dashOffset&quot;: null, &quot;fill&quot;: true, &quot;fillColor&quot;: &quot;blue&quot;, &quot;fillOpacity&quot;: 0.2, &quot;fillRule&quot;: &quot;evenodd&quot;, &quot;lineCap&quot;: &quot;round&quot;, &quot;lineJoin&quot;: &quot;round&quot;, &quot;opacity&quot;: 1.0, &quot;radius&quot;: 303000.0, &quot;stroke&quot;: true, &quot;weight&quot;: 3}\n",
       "            ).addTo(map_feca7f7996749b669ab93ed1eadabcc9);\n",
       "        \n",
       "    \n",
       "            circle_5d5c1315a5b58cc80cad194eb74bc406.bindTooltip(\n",
       "                `&lt;div&gt;\n",
       "                     &lt;div style=&#x27;margin:0; background-color:black; color:white;&#x27;&gt;&lt;h4 style=&#x27;text-align:center;front-weight: bold&#x27;&gt;Taiwan*&lt;/h4&gt;&lt;hr style=&#x27;margin:10px; color:white;&#x27;&gt;&lt;ul style=&#x27;color:white; list-style-type:circle; align-item:left;padding-left:20px;padding-right:20px&#x27;&gt;&lt;li&gt;Confirmed: 1168417698&lt;/li&gt;&lt;li&gt;Deaths:   2287180&lt;/li&gt;&lt;li&gt;Death rate:    0.2&lt;/li&gt;&lt;/ul&gt;&lt;/div&gt;\n",
       "                 &lt;/div&gt;`,\n",
       "                {&quot;sticky&quot;: true}\n",
       "            );\n",
       "        \n",
       "    \n",
       "            var circle_c125e5334fabf2352ce5c3cc09ca2761 = L.circle(\n",
       "                [38.861, 71.2761],\n",
       "                {&quot;bubblingMouseEvents&quot;: true, &quot;color&quot;: &quot;red&quot;, &quot;dashArray&quot;: null, &quot;dashOffset&quot;: null, &quot;fill&quot;: true, &quot;fillColor&quot;: &quot;blue&quot;, &quot;fillOpacity&quot;: 0.2, &quot;fillRule&quot;: &quot;evenodd&quot;, &quot;lineCap&quot;: &quot;round&quot;, &quot;lineJoin&quot;: &quot;round&quot;, &quot;opacity&quot;: 1.0, &quot;radius&quot;: 243000.0, &quot;stroke&quot;: true, &quot;weight&quot;: 3}\n",
       "            ).addTo(map_feca7f7996749b669ab93ed1eadabcc9);\n",
       "        \n",
       "    \n",
       "            circle_c125e5334fabf2352ce5c3cc09ca2761.bindTooltip(\n",
       "                `&lt;div&gt;\n",
       "                     &lt;div style=&#x27;margin:0; background-color:black; color:white;&#x27;&gt;&lt;h4 style=&#x27;text-align:center;front-weight: bold&#x27;&gt;Tajikistan&lt;/h4&gt;&lt;hr style=&#x27;margin:10px; color:white;&#x27;&gt;&lt;ul style=&#x27;color:white; list-style-type:circle; align-item:left;padding-left:20px;padding-right:20px&#x27;&gt;&lt;li&gt;Confirmed: 13757451&lt;/li&gt;&lt;li&gt;Deaths:   98466&lt;/li&gt;&lt;li&gt;Death rate:    0.72&lt;/li&gt;&lt;/ul&gt;&lt;/div&gt;\n",
       "                 &lt;/div&gt;`,\n",
       "                {&quot;sticky&quot;: true}\n",
       "            );\n",
       "        \n",
       "    \n",
       "            var circle_489d197e5b8d6d65b070ad45799f3cfc = L.circle(\n",
       "                [-6.369028, 34.888822],\n",
       "                {&quot;bubblingMouseEvents&quot;: true, &quot;color&quot;: &quot;red&quot;, &quot;dashArray&quot;: null, &quot;dashOffset&quot;: null, &quot;fill&quot;: true, &quot;fillColor&quot;: &quot;blue&quot;, &quot;fillOpacity&quot;: 0.2, &quot;fillRule&quot;: &quot;evenodd&quot;, &quot;lineCap&quot;: &quot;round&quot;, &quot;lineJoin&quot;: &quot;round&quot;, &quot;opacity&quot;: 1.0, &quot;radius&quot;: 243000.0, &quot;stroke&quot;: true, &quot;weight&quot;: 3}\n",
       "            ).addTo(map_feca7f7996749b669ab93ed1eadabcc9);\n",
       "        \n",
       "    \n",
       "            circle_489d197e5b8d6d65b070ad45799f3cfc.bindTooltip(\n",
       "                `&lt;div&gt;\n",
       "                     &lt;div style=&#x27;margin:0; background-color:black; color:white;&#x27;&gt;&lt;h4 style=&#x27;text-align:center;front-weight: bold&#x27;&gt;Tanzania&lt;/h4&gt;&lt;hr style=&#x27;margin:10px; color:white;&#x27;&gt;&lt;ul style=&#x27;color:white; list-style-type:circle; align-item:left;padding-left:20px;padding-right:20px&#x27;&gt;&lt;li&gt;Confirmed: 15558574&lt;/li&gt;&lt;li&gt;Deaths:   365607&lt;/li&gt;&lt;li&gt;Death rate:    2.35&lt;/li&gt;&lt;/ul&gt;&lt;/div&gt;\n",
       "                 &lt;/div&gt;`,\n",
       "                {&quot;sticky&quot;: true}\n",
       "            );\n",
       "        \n",
       "    \n",
       "            var circle_819926c3ce02dbe5531d55a9c6e1d058 = L.circle(\n",
       "                [15.870032, 100.992541],\n",
       "                {&quot;bubblingMouseEvents&quot;: true, &quot;color&quot;: &quot;red&quot;, &quot;dashArray&quot;: null, &quot;dashOffset&quot;: null, &quot;fill&quot;: true, &quot;fillColor&quot;: &quot;blue&quot;, &quot;fillOpacity&quot;: 0.2, &quot;fillRule&quot;: &quot;evenodd&quot;, &quot;lineCap&quot;: &quot;round&quot;, &quot;lineJoin&quot;: &quot;round&quot;, &quot;opacity&quot;: 1.0, &quot;radius&quot;: 318000.0, &quot;stroke&quot;: true, &quot;weight&quot;: 3}\n",
       "            ).addTo(map_feca7f7996749b669ab93ed1eadabcc9);\n",
       "        \n",
       "    \n",
       "            circle_819926c3ce02dbe5531d55a9c6e1d058.bindTooltip(\n",
       "                `&lt;div&gt;\n",
       "                     &lt;div style=&#x27;margin:0; background-color:black; color:white;&#x27;&gt;&lt;h4 style=&#x27;text-align:center;front-weight: bold&#x27;&gt;Thailand&lt;/h4&gt;&lt;hr style=&#x27;margin:10px; color:white;&#x27;&gt;&lt;ul style=&#x27;color:white; list-style-type:circle; align-item:left;padding-left:20px;padding-right:20px&#x27;&gt;&lt;li&gt;Confirmed: 1694013800&lt;/li&gt;&lt;li&gt;Deaths:   12787792&lt;/li&gt;&lt;li&gt;Death rate:    0.75&lt;/li&gt;&lt;/ul&gt;&lt;/div&gt;\n",
       "                 &lt;/div&gt;`,\n",
       "                {&quot;sticky&quot;: true}\n",
       "            );\n",
       "        \n",
       "    \n",
       "            var circle_da5576e7c9ba9358a23223f9c7cc5511 = L.circle(\n",
       "                [-8.874217, 125.727539],\n",
       "                {&quot;bubblingMouseEvents&quot;: true, &quot;color&quot;: &quot;red&quot;, &quot;dashArray&quot;: null, &quot;dashOffset&quot;: null, &quot;fill&quot;: true, &quot;fillColor&quot;: &quot;blue&quot;, &quot;fillOpacity&quot;: 0.2, &quot;fillRule&quot;: &quot;evenodd&quot;, &quot;lineCap&quot;: &quot;round&quot;, &quot;lineJoin&quot;: &quot;round&quot;, &quot;opacity&quot;: 1.0, &quot;radius&quot;: 243000.0, &quot;stroke&quot;: true, &quot;weight&quot;: 3}\n",
       "            ).addTo(map_feca7f7996749b669ab93ed1eadabcc9);\n",
       "        \n",
       "    \n",
       "            circle_da5576e7c9ba9358a23223f9c7cc5511.bindTooltip(\n",
       "                `&lt;div&gt;\n",
       "                     &lt;div style=&#x27;margin:0; background-color:black; color:white;&#x27;&gt;&lt;h4 style=&#x27;text-align:center;front-weight: bold&#x27;&gt;Timor-Leste&lt;/h4&gt;&lt;hr style=&#x27;margin:10px; color:white;&#x27;&gt;&lt;ul style=&#x27;color:white; list-style-type:circle; align-item:left;padding-left:20px;padding-right:20px&#x27;&gt;&lt;li&gt;Confirmed: 11429682&lt;/li&gt;&lt;li&gt;Deaths:   62964&lt;/li&gt;&lt;li&gt;Death rate:    0.55&lt;/li&gt;&lt;/ul&gt;&lt;/div&gt;\n",
       "                 &lt;/div&gt;`,\n",
       "                {&quot;sticky&quot;: true}\n",
       "            );\n",
       "        \n",
       "    \n",
       "            var circle_843df6e016ba535728c604779bd5d493 = L.circle(\n",
       "                [8.6195, 0.8248],\n",
       "                {&quot;bubblingMouseEvents&quot;: true, &quot;color&quot;: &quot;red&quot;, &quot;dashArray&quot;: null, &quot;dashOffset&quot;: null, &quot;fill&quot;: true, &quot;fillColor&quot;: &quot;blue&quot;, &quot;fillOpacity&quot;: 0.2, &quot;fillRule&quot;: &quot;evenodd&quot;, &quot;lineCap&quot;: &quot;round&quot;, &quot;lineJoin&quot;: &quot;round&quot;, &quot;opacity&quot;: 1.0, &quot;radius&quot;: 243000.0, &quot;stroke&quot;: true, &quot;weight&quot;: 3}\n",
       "            ).addTo(map_feca7f7996749b669ab93ed1eadabcc9);\n",
       "        \n",
       "    \n",
       "            circle_843df6e016ba535728c604779bd5d493.bindTooltip(\n",
       "                `&lt;div&gt;\n",
       "                     &lt;div style=&#x27;margin:0; background-color:black; color:white;&#x27;&gt;&lt;h4 style=&#x27;text-align:center;front-weight: bold&#x27;&gt;Togo&lt;/h4&gt;&lt;hr style=&#x27;margin:10px; color:white;&#x27;&gt;&lt;ul style=&#x27;color:white; list-style-type:circle; align-item:left;padding-left:20px;padding-right:20px&#x27;&gt;&lt;li&gt;Confirmed: 19386914&lt;/li&gt;&lt;li&gt;Deaths:   161850&lt;/li&gt;&lt;li&gt;Death rate:    0.83&lt;/li&gt;&lt;/ul&gt;&lt;/div&gt;\n",
       "                 &lt;/div&gt;`,\n",
       "                {&quot;sticky&quot;: true}\n",
       "            );\n",
       "        \n",
       "    \n",
       "            var circle_aa0be2531b916062aa02f7894401183a = L.circle(\n",
       "                [-21.179, -175.1982],\n",
       "                {&quot;bubblingMouseEvents&quot;: true, &quot;color&quot;: &quot;red&quot;, &quot;dashArray&quot;: null, &quot;dashOffset&quot;: null, &quot;fill&quot;: true, &quot;fillColor&quot;: &quot;blue&quot;, &quot;fillOpacity&quot;: 0.2, &quot;fillRule&quot;: &quot;evenodd&quot;, &quot;lineCap&quot;: &quot;round&quot;, &quot;lineJoin&quot;: &quot;round&quot;, &quot;opacity&quot;: 1.0, &quot;radius&quot;: 228000.0, &quot;stroke&quot;: true, &quot;weight&quot;: 3}\n",
       "            ).addTo(map_feca7f7996749b669ab93ed1eadabcc9);\n",
       "        \n",
       "    \n",
       "            circle_aa0be2531b916062aa02f7894401183a.bindTooltip(\n",
       "                `&lt;div&gt;\n",
       "                     &lt;div style=&#x27;margin:0; background-color:black; color:white;&#x27;&gt;&lt;h4 style=&#x27;text-align:center;front-weight: bold&#x27;&gt;Tonga&lt;/h4&gt;&lt;hr style=&#x27;margin:10px; color:white;&#x27;&gt;&lt;ul style=&#x27;color:white; list-style-type:circle; align-item:left;padding-left:20px;padding-right:20px&#x27;&gt;&lt;li&gt;Confirmed: 3565104&lt;/li&gt;&lt;li&gt;Deaths:   3063&lt;/li&gt;&lt;li&gt;Death rate:    0.09&lt;/li&gt;&lt;/ul&gt;&lt;/div&gt;\n",
       "                 &lt;/div&gt;`,\n",
       "                {&quot;sticky&quot;: true}\n",
       "            );\n",
       "        \n",
       "    \n",
       "            var circle_e44467c23ae76e64610bb56fe01ced94 = L.circle(\n",
       "                [10.6918, -61.2225],\n",
       "                {&quot;bubblingMouseEvents&quot;: true, &quot;color&quot;: &quot;red&quot;, &quot;dashArray&quot;: null, &quot;dashOffset&quot;: null, &quot;fill&quot;: true, &quot;fillColor&quot;: &quot;blue&quot;, &quot;fillOpacity&quot;: 0.2, &quot;fillRule&quot;: &quot;evenodd&quot;, &quot;lineCap&quot;: &quot;round&quot;, &quot;lineJoin&quot;: &quot;round&quot;, &quot;opacity&quot;: 1.0, &quot;radius&quot;: 273000.0, &quot;stroke&quot;: true, &quot;weight&quot;: 3}\n",
       "            ).addTo(map_feca7f7996749b669ab93ed1eadabcc9);\n",
       "        \n",
       "    \n",
       "            circle_e44467c23ae76e64610bb56fe01ced94.bindTooltip(\n",
       "                `&lt;div&gt;\n",
       "                     &lt;div style=&#x27;margin:0; background-color:black; color:white;&#x27;&gt;&lt;h4 style=&#x27;text-align:center;front-weight: bold&#x27;&gt;Trinidad and Tobago&lt;/h4&gt;&lt;hr style=&#x27;margin:10px; color:white;&#x27;&gt;&lt;ul style=&#x27;color:white; list-style-type:circle; align-item:left;padding-left:20px;padding-right:20px&#x27;&gt;&lt;li&gt;Confirmed: 67705203&lt;/li&gt;&lt;li&gt;Deaths:   1713642&lt;/li&gt;&lt;li&gt;Death rate:    2.53&lt;/li&gt;&lt;/ul&gt;&lt;/div&gt;\n",
       "                 &lt;/div&gt;`,\n",
       "                {&quot;sticky&quot;: true}\n",
       "            );\n",
       "        \n",
       "    \n",
       "            var circle_9c6c795b1be7828bad09e8537b2eb529 = L.circle(\n",
       "                [33.886917, 9.537499],\n",
       "                {&quot;bubblingMouseEvents&quot;: true, &quot;color&quot;: &quot;red&quot;, &quot;dashArray&quot;: null, &quot;dashOffset&quot;: null, &quot;fill&quot;: true, &quot;fillColor&quot;: &quot;blue&quot;, &quot;fillOpacity&quot;: 0.2, &quot;fillRule&quot;: &quot;evenodd&quot;, &quot;lineCap&quot;: &quot;round&quot;, &quot;lineJoin&quot;: &quot;round&quot;, &quot;opacity&quot;: 1.0, &quot;radius&quot;: 303000.0, &quot;stroke&quot;: true, &quot;weight&quot;: 3}\n",
       "            ).addTo(map_feca7f7996749b669ab93ed1eadabcc9);\n",
       "        \n",
       "    \n",
       "            circle_9c6c795b1be7828bad09e8537b2eb529.bindTooltip(\n",
       "                `&lt;div&gt;\n",
       "                     &lt;div style=&#x27;margin:0; background-color:black; color:white;&#x27;&gt;&lt;h4 style=&#x27;text-align:center;front-weight: bold&#x27;&gt;Tunisia&lt;/h4&gt;&lt;hr style=&#x27;margin:10px; color:white;&#x27;&gt;&lt;ul style=&#x27;color:white; list-style-type:circle; align-item:left;padding-left:20px;padding-right:20px&#x27;&gt;&lt;li&gt;Confirmed: 546708792&lt;/li&gt;&lt;li&gt;Deaths:   16107670&lt;/li&gt;&lt;li&gt;Death rate:    2.95&lt;/li&gt;&lt;/ul&gt;&lt;/div&gt;\n",
       "                 &lt;/div&gt;`,\n",
       "                {&quot;sticky&quot;: true}\n",
       "            );\n",
       "        \n",
       "    \n",
       "            var circle_f2d0b780385351b8fd00a68cc0db2555 = L.circle(\n",
       "                [38.9637, 35.2433],\n",
       "                {&quot;bubblingMouseEvents&quot;: true, &quot;color&quot;: &quot;red&quot;, &quot;dashArray&quot;: null, &quot;dashOffset&quot;: null, &quot;fill&quot;: true, &quot;fillColor&quot;: &quot;blue&quot;, &quot;fillOpacity&quot;: 0.2, &quot;fillRule&quot;: &quot;evenodd&quot;, &quot;lineCap&quot;: &quot;round&quot;, &quot;lineJoin&quot;: &quot;round&quot;, &quot;opacity&quot;: 1.0, &quot;radius&quot;: 333000.0, &quot;stroke&quot;: true, &quot;weight&quot;: 3}\n",
       "            ).addTo(map_feca7f7996749b669ab93ed1eadabcc9);\n",
       "        \n",
       "    \n",
       "            circle_f2d0b780385351b8fd00a68cc0db2555.bindTooltip(\n",
       "                `&lt;div&gt;\n",
       "                     &lt;div style=&#x27;margin:0; background-color:black; color:white;&#x27;&gt;&lt;h4 style=&#x27;text-align:center;front-weight: bold&#x27;&gt;Turkey&lt;/h4&gt;&lt;hr style=&#x27;margin:10px; color:white;&#x27;&gt;&lt;ul style=&#x27;color:white; list-style-type:circle; align-item:left;padding-left:20px;padding-right:20px&#x27;&gt;&lt;li&gt;Confirmed: 7394203757&lt;/li&gt;&lt;li&gt;Deaths:   54186807&lt;/li&gt;&lt;li&gt;Death rate:    0.73&lt;/li&gt;&lt;/ul&gt;&lt;/div&gt;\n",
       "                 &lt;/div&gt;`,\n",
       "                {&quot;sticky&quot;: true}\n",
       "            );\n",
       "        \n",
       "    \n",
       "            var circle_3de727fb634f1578124ddf341a8780af = L.circle(\n",
       "                [-7.1095, 177.6493],\n",
       "                {&quot;bubblingMouseEvents&quot;: true, &quot;color&quot;: &quot;red&quot;, &quot;dashArray&quot;: null, &quot;dashOffset&quot;: null, &quot;fill&quot;: true, &quot;fillColor&quot;: &quot;blue&quot;, &quot;fillOpacity&quot;: 0.2, &quot;fillRule&quot;: &quot;evenodd&quot;, &quot;lineCap&quot;: &quot;round&quot;, &quot;lineJoin&quot;: &quot;round&quot;, &quot;opacity&quot;: 1.0, &quot;radius&quot;: 168000.0, &quot;stroke&quot;: true, &quot;weight&quot;: 3}\n",
       "            ).addTo(map_feca7f7996749b669ab93ed1eadabcc9);\n",
       "        \n",
       "    \n",
       "            circle_3de727fb634f1578124ddf341a8780af.bindTooltip(\n",
       "                `&lt;div&gt;\n",
       "                     &lt;div style=&#x27;margin:0; background-color:black; color:white;&#x27;&gt;&lt;h4 style=&#x27;text-align:center;front-weight: bold&#x27;&gt;Tuvalu&lt;/h4&gt;&lt;hr style=&#x27;margin:10px; color:white;&#x27;&gt;&lt;ul style=&#x27;color:white; list-style-type:circle; align-item:left;padding-left:20px;padding-right:20px&#x27;&gt;&lt;li&gt;Confirmed: 84476&lt;/li&gt;&lt;li&gt;Deaths:   0&lt;/li&gt;&lt;li&gt;Death rate:    0.0&lt;/li&gt;&lt;/ul&gt;&lt;/div&gt;\n",
       "                 &lt;/div&gt;`,\n",
       "                {&quot;sticky&quot;: true}\n",
       "            );\n",
       "        \n",
       "    \n",
       "            var circle_9ccbab7aa02c58b3ce8374d7a83672f1 = L.circle(\n",
       "                [40.0, -100.0],\n",
       "                {&quot;bubblingMouseEvents&quot;: true, &quot;color&quot;: &quot;red&quot;, &quot;dashArray&quot;: null, &quot;dashOffset&quot;: null, &quot;fill&quot;: true, &quot;fillColor&quot;: &quot;blue&quot;, &quot;fillOpacity&quot;: 0.2, &quot;fillRule&quot;: &quot;evenodd&quot;, &quot;lineCap&quot;: &quot;round&quot;, &quot;lineJoin&quot;: &quot;round&quot;, &quot;opacity&quot;: 1.0, &quot;radius&quot;: 363000.0, &quot;stroke&quot;: true, &quot;weight&quot;: 3}\n",
       "            ).addTo(map_feca7f7996749b669ab93ed1eadabcc9);\n",
       "        \n",
       "    \n",
       "            circle_9ccbab7aa02c58b3ce8374d7a83672f1.bindTooltip(\n",
       "                `&lt;div&gt;\n",
       "                     &lt;div style=&#x27;margin:0; background-color:black; color:white;&#x27;&gt;&lt;h4 style=&#x27;text-align:center;front-weight: bold&#x27;&gt;US&lt;/h4&gt;&lt;hr style=&#x27;margin:10px; color:white;&#x27;&gt;&lt;ul style=&#x27;color:white; list-style-type:circle; align-item:left;padding-left:20px;padding-right:20px&#x27;&gt;&lt;li&gt;Confirmed: 45142918434&lt;/li&gt;&lt;li&gt;Deaths:   619961486&lt;/li&gt;&lt;li&gt;Death rate:    1.37&lt;/li&gt;&lt;/ul&gt;&lt;/div&gt;\n",
       "                 &lt;/div&gt;`,\n",
       "                {&quot;sticky&quot;: true}\n",
       "            );\n",
       "        \n",
       "    \n",
       "            var circle_37334cf7953b040dbbff2d812b4d8706 = L.circle(\n",
       "                [1.373333, 32.290275],\n",
       "                {&quot;bubblingMouseEvents&quot;: true, &quot;color&quot;: &quot;red&quot;, &quot;dashArray&quot;: null, &quot;dashOffset&quot;: null, &quot;fill&quot;: true, &quot;fillColor&quot;: &quot;blue&quot;, &quot;fillOpacity&quot;: 0.2, &quot;fillRule&quot;: &quot;evenodd&quot;, &quot;lineCap&quot;: &quot;round&quot;, &quot;lineJoin&quot;: &quot;round&quot;, &quot;opacity&quot;: 1.0, &quot;radius&quot;: 273000.0, &quot;stroke&quot;: true, &quot;weight&quot;: 3}\n",
       "            ).addTo(map_feca7f7996749b669ab93ed1eadabcc9);\n",
       "        \n",
       "    \n",
       "            circle_37334cf7953b040dbbff2d812b4d8706.bindTooltip(\n",
       "                `&lt;div&gt;\n",
       "                     &lt;div style=&#x27;margin:0; background-color:black; color:white;&#x27;&gt;&lt;h4 style=&#x27;text-align:center;front-weight: bold&#x27;&gt;Uganda&lt;/h4&gt;&lt;hr style=&#x27;margin:10px; color:white;&#x27;&gt;&lt;ul style=&#x27;color:white; list-style-type:circle; align-item:left;padding-left:20px;padding-right:20px&#x27;&gt;&lt;li&gt;Confirmed: 89116642&lt;/li&gt;&lt;li&gt;Deaths:   1881935&lt;/li&gt;&lt;li&gt;Death rate:    2.11&lt;/li&gt;&lt;/ul&gt;&lt;/div&gt;\n",
       "                 &lt;/div&gt;`,\n",
       "                {&quot;sticky&quot;: true}\n",
       "            );\n",
       "        \n",
       "    \n",
       "            var circle_27e298c7ed79c9eb80ed367022644c46 = L.circle(\n",
       "                [48.3794, 31.1656],\n",
       "                {&quot;bubblingMouseEvents&quot;: true, &quot;color&quot;: &quot;red&quot;, &quot;dashArray&quot;: null, &quot;dashOffset&quot;: null, &quot;fill&quot;: true, &quot;fillColor&quot;: &quot;blue&quot;, &quot;fillOpacity&quot;: 0.2, &quot;fillRule&quot;: &quot;evenodd&quot;, &quot;lineCap&quot;: &quot;round&quot;, &quot;lineJoin&quot;: &quot;round&quot;, &quot;opacity&quot;: 1.0, &quot;radius&quot;: 318000.0, &quot;stroke&quot;: true, &quot;weight&quot;: 3}\n",
       "            ).addTo(map_feca7f7996749b669ab93ed1eadabcc9);\n",
       "        \n",
       "    \n",
       "            circle_27e298c7ed79c9eb80ed367022644c46.bindTooltip(\n",
       "                `&lt;div&gt;\n",
       "                     &lt;div style=&#x27;margin:0; background-color:black; color:white;&#x27;&gt;&lt;h4 style=&#x27;text-align:center;front-weight: bold&#x27;&gt;Ukraine&lt;/h4&gt;&lt;hr style=&#x27;margin:10px; color:white;&#x27;&gt;&lt;ul style=&#x27;color:white; list-style-type:circle; align-item:left;padding-left:20px;padding-right:20px&#x27;&gt;&lt;li&gt;Confirmed: 2707921869&lt;/li&gt;&lt;li&gt;Deaths:   60611324&lt;/li&gt;&lt;li&gt;Death rate:    2.24&lt;/li&gt;&lt;/ul&gt;&lt;/div&gt;\n",
       "                 &lt;/div&gt;`,\n",
       "                {&quot;sticky&quot;: true}\n",
       "            );\n",
       "        \n",
       "    \n",
       "            var circle_6436e13276135fb2dde74b3be4cbddf1 = L.circle(\n",
       "                [23.424076, 53.847818],\n",
       "                {&quot;bubblingMouseEvents&quot;: true, &quot;color&quot;: &quot;red&quot;, &quot;dashArray&quot;: null, &quot;dashOffset&quot;: null, &quot;fill&quot;: true, &quot;fillColor&quot;: &quot;blue&quot;, &quot;fillOpacity&quot;: 0.2, &quot;fillRule&quot;: &quot;evenodd&quot;, &quot;lineCap&quot;: &quot;round&quot;, &quot;lineJoin&quot;: &quot;round&quot;, &quot;opacity&quot;: 1.0, &quot;radius&quot;: 303000.0, &quot;stroke&quot;: true, &quot;weight&quot;: 3}\n",
       "            ).addTo(map_feca7f7996749b669ab93ed1eadabcc9);\n",
       "        \n",
       "    \n",
       "            circle_6436e13276135fb2dde74b3be4cbddf1.bindTooltip(\n",
       "                `&lt;div&gt;\n",
       "                     &lt;div style=&#x27;margin:0; background-color:black; color:white;&#x27;&gt;&lt;h4 style=&#x27;text-align:center;front-weight: bold&#x27;&gt;United Arab Emirates&lt;/h4&gt;&lt;hr style=&#x27;margin:10px; color:white;&#x27;&gt;&lt;ul style=&#x27;color:white; list-style-type:circle; align-item:left;padding-left:20px;padding-right:20px&#x27;&gt;&lt;li&gt;Confirmed: 564377935&lt;/li&gt;&lt;li&gt;Deaths:   1527112&lt;/li&gt;&lt;li&gt;Death rate:    0.27&lt;/li&gt;&lt;/ul&gt;&lt;/div&gt;\n",
       "                 &lt;/div&gt;`,\n",
       "                {&quot;sticky&quot;: true}\n",
       "            );\n",
       "        \n",
       "    \n",
       "            var circle_01826250f6f36d06fdc77f97027c9dec = L.circle(\n",
       "                [18.2206, -63.0686],\n",
       "                {&quot;bubblingMouseEvents&quot;: true, &quot;color&quot;: &quot;red&quot;, &quot;dashArray&quot;: null, &quot;dashOffset&quot;: null, &quot;fill&quot;: true, &quot;fillColor&quot;: &quot;blue&quot;, &quot;fillOpacity&quot;: 0.2, &quot;fillRule&quot;: &quot;evenodd&quot;, &quot;lineCap&quot;: &quot;round&quot;, &quot;lineJoin&quot;: &quot;round&quot;, &quot;opacity&quot;: 1.0, &quot;radius&quot;: 213000.0, &quot;stroke&quot;: true, &quot;weight&quot;: 3}\n",
       "            ).addTo(map_feca7f7996749b669ab93ed1eadabcc9);\n",
       "        \n",
       "    \n",
       "            circle_01826250f6f36d06fdc77f97027c9dec.bindTooltip(\n",
       "                `&lt;div&gt;\n",
       "                     &lt;div style=&#x27;margin:0; background-color:black; color:white;&#x27;&gt;&lt;h4 style=&#x27;text-align:center;front-weight: bold&#x27;&gt;United Kingdom&lt;/h4&gt;&lt;hr style=&#x27;margin:10px; color:white;&#x27;&gt;&lt;ul style=&#x27;color:white; list-style-type:circle; align-item:left;padding-left:20px;padding-right:20px&#x27;&gt;&lt;li&gt;Confirmed: 1252696&lt;/li&gt;&lt;li&gt;Deaths:   3652&lt;/li&gt;&lt;li&gt;Death rate:    0.29&lt;/li&gt;&lt;/ul&gt;&lt;/div&gt;\n",
       "                 &lt;/div&gt;`,\n",
       "                {&quot;sticky&quot;: true}\n",
       "            );\n",
       "        \n",
       "    \n",
       "            var circle_9378fb326e9f41a5509c94556755b207 = L.circle(\n",
       "                [32.3078, -64.7505],\n",
       "                {&quot;bubblingMouseEvents&quot;: true, &quot;color&quot;: &quot;red&quot;, &quot;dashArray&quot;: null, &quot;dashOffset&quot;: null, &quot;fill&quot;: true, &quot;fillColor&quot;: &quot;blue&quot;, &quot;fillOpacity&quot;: 0.2, &quot;fillRule&quot;: &quot;evenodd&quot;, &quot;lineCap&quot;: &quot;round&quot;, &quot;lineJoin&quot;: &quot;round&quot;, &quot;opacity&quot;: 1.0, &quot;radius&quot;: 228000.0, &quot;stroke&quot;: true, &quot;weight&quot;: 3}\n",
       "            ).addTo(map_feca7f7996749b669ab93ed1eadabcc9);\n",
       "        \n",
       "    \n",
       "            circle_9378fb326e9f41a5509c94556755b207.bindTooltip(\n",
       "                `&lt;div&gt;\n",
       "                     &lt;div style=&#x27;margin:0; background-color:black; color:white;&#x27;&gt;&lt;h4 style=&#x27;text-align:center;front-weight: bold&#x27;&gt;United Kingdom&lt;/h4&gt;&lt;hr style=&#x27;margin:10px; color:white;&#x27;&gt;&lt;ul style=&#x27;color:white; list-style-type:circle; align-item:left;padding-left:20px;padding-right:20px&#x27;&gt;&lt;li&gt;Confirmed: 6369516&lt;/li&gt;&lt;li&gt;Deaths:   66064&lt;/li&gt;&lt;li&gt;Death rate:    1.04&lt;/li&gt;&lt;/ul&gt;&lt;/div&gt;\n",
       "                 &lt;/div&gt;`,\n",
       "                {&quot;sticky&quot;: true}\n",
       "            );\n",
       "        \n",
       "    \n",
       "            var circle_5bc65d04dc3dda65c552fa79a4ef282a = L.circle(\n",
       "                [18.4207, -64.64],\n",
       "                {&quot;bubblingMouseEvents&quot;: true, &quot;color&quot;: &quot;red&quot;, &quot;dashArray&quot;: null, &quot;dashOffset&quot;: null, &quot;fill&quot;: true, &quot;fillColor&quot;: &quot;blue&quot;, &quot;fillOpacity&quot;: 0.2, &quot;fillRule&quot;: &quot;evenodd&quot;, &quot;lineCap&quot;: &quot;round&quot;, &quot;lineJoin&quot;: &quot;round&quot;, &quot;opacity&quot;: 1.0, &quot;radius&quot;: 213000.0, &quot;stroke&quot;: true, &quot;weight&quot;: 3}\n",
       "            ).addTo(map_feca7f7996749b669ab93ed1eadabcc9);\n",
       "        \n",
       "    \n",
       "            circle_5bc65d04dc3dda65c552fa79a4ef282a.bindTooltip(\n",
       "                `&lt;div&gt;\n",
       "                     &lt;div style=&#x27;margin:0; background-color:black; color:white;&#x27;&gt;&lt;h4 style=&#x27;text-align:center;front-weight: bold&#x27;&gt;United Kingdom&lt;/h4&gt;&lt;hr style=&#x27;margin:10px; color:white;&#x27;&gt;&lt;ul style=&#x27;color:white; list-style-type:circle; align-item:left;padding-left:20px;padding-right:20px&#x27;&gt;&lt;li&gt;Confirmed: 2821570&lt;/li&gt;&lt;li&gt;Deaths:   27737&lt;/li&gt;&lt;li&gt;Death rate:    0.98&lt;/li&gt;&lt;/ul&gt;&lt;/div&gt;\n",
       "                 &lt;/div&gt;`,\n",
       "                {&quot;sticky&quot;: true}\n",
       "            );\n",
       "        \n",
       "    \n",
       "            var circle_ff7bfe4acb81a320522d4df1a3b54ff5 = L.circle(\n",
       "                [19.3133, -81.2546],\n",
       "                {&quot;bubblingMouseEvents&quot;: true, &quot;color&quot;: &quot;red&quot;, &quot;dashArray&quot;: null, &quot;dashOffset&quot;: null, &quot;fill&quot;: true, &quot;fillColor&quot;: &quot;blue&quot;, &quot;fillOpacity&quot;: 0.2, &quot;fillRule&quot;: &quot;evenodd&quot;, &quot;lineCap&quot;: &quot;round&quot;, &quot;lineJoin&quot;: &quot;round&quot;, &quot;opacity&quot;: 1.0, &quot;radius&quot;: 243000.0, &quot;stroke&quot;: true, &quot;weight&quot;: 3}\n",
       "            ).addTo(map_feca7f7996749b669ab93ed1eadabcc9);\n",
       "        \n",
       "    \n",
       "            circle_ff7bfe4acb81a320522d4df1a3b54ff5.bindTooltip(\n",
       "                `&lt;div&gt;\n",
       "                     &lt;div style=&#x27;margin:0; background-color:black; color:white;&#x27;&gt;&lt;h4 style=&#x27;text-align:center;front-weight: bold&#x27;&gt;United Kingdom&lt;/h4&gt;&lt;hr style=&#x27;margin:10px; color:white;&#x27;&gt;&lt;ul style=&#x27;color:white; list-style-type:circle; align-item:left;padding-left:20px;padding-right:20px&#x27;&gt;&lt;li&gt;Confirmed: 9297291&lt;/li&gt;&lt;li&gt;Deaths:   10648&lt;/li&gt;&lt;li&gt;Death rate:    0.11&lt;/li&gt;&lt;/ul&gt;&lt;/div&gt;\n",
       "                 &lt;/div&gt;`,\n",
       "                {&quot;sticky&quot;: true}\n",
       "            );\n",
       "        \n",
       "    \n",
       "            var circle_3085489b97b8157ba6a145fd26e6ba42 = L.circle(\n",
       "                [49.3723, -2.3644],\n",
       "                {&quot;bubblingMouseEvents&quot;: true, &quot;color&quot;: &quot;red&quot;, &quot;dashArray&quot;: null, &quot;dashOffset&quot;: null, &quot;fill&quot;: true, &quot;fillColor&quot;: &quot;blue&quot;, &quot;fillOpacity&quot;: 0.2, &quot;fillRule&quot;: &quot;evenodd&quot;, &quot;lineCap&quot;: &quot;round&quot;, &quot;lineJoin&quot;: &quot;round&quot;, &quot;opacity&quot;: 1.0, &quot;radius&quot;: 3000.0, &quot;stroke&quot;: true, &quot;weight&quot;: 3}\n",
       "            ).addTo(map_feca7f7996749b669ab93ed1eadabcc9);\n",
       "        \n",
       "    \n",
       "            circle_3085489b97b8157ba6a145fd26e6ba42.bindTooltip(\n",
       "                `&lt;div&gt;\n",
       "                     &lt;div style=&#x27;margin:0; background-color:black; color:white;&#x27;&gt;&lt;h4 style=&#x27;text-align:center;front-weight: bold&#x27;&gt;United Kingdom&lt;/h4&gt;&lt;hr style=&#x27;margin:10px; color:white;&#x27;&gt;&lt;ul style=&#x27;color:white; list-style-type:circle; align-item:left;padding-left:20px;padding-right:20px&#x27;&gt;&lt;li&gt;Confirmed: 0&lt;/li&gt;&lt;li&gt;Deaths:   0&lt;/li&gt;&lt;li&gt;Death rate:    0.0&lt;/li&gt;&lt;/ul&gt;&lt;/div&gt;\n",
       "                 &lt;/div&gt;`,\n",
       "                {&quot;sticky&quot;: true}\n",
       "            );\n",
       "        \n",
       "    \n",
       "            var circle_4ae335b6c3eca326628b84599c9a3991 = L.circle(\n",
       "                [-51.7963, -59.5236],\n",
       "                {&quot;bubblingMouseEvents&quot;: true, &quot;color&quot;: &quot;red&quot;, &quot;dashArray&quot;: null, &quot;dashOffset&quot;: null, &quot;fill&quot;: true, &quot;fillColor&quot;: &quot;blue&quot;, &quot;fillOpacity&quot;: 0.2, &quot;fillRule&quot;: &quot;evenodd&quot;, &quot;lineCap&quot;: &quot;round&quot;, &quot;lineJoin&quot;: &quot;round&quot;, &quot;opacity&quot;: 1.0, &quot;radius&quot;: 183000.0, &quot;stroke&quot;: true, &quot;weight&quot;: 3}\n",
       "            ).addTo(map_feca7f7996749b669ab93ed1eadabcc9);\n",
       "        \n",
       "    \n",
       "            circle_4ae335b6c3eca326628b84599c9a3991.bindTooltip(\n",
       "                `&lt;div&gt;\n",
       "                     &lt;div style=&#x27;margin:0; background-color:black; color:white;&#x27;&gt;&lt;h4 style=&#x27;text-align:center;front-weight: bold&#x27;&gt;United Kingdom&lt;/h4&gt;&lt;hr style=&#x27;margin:10px; color:white;&#x27;&gt;&lt;ul style=&#x27;color:white; list-style-type:circle; align-item:left;padding-left:20px;padding-right:20px&#x27;&gt;&lt;li&gt;Confirmed: 440780&lt;/li&gt;&lt;li&gt;Deaths:   0&lt;/li&gt;&lt;li&gt;Death rate:    0.0&lt;/li&gt;&lt;/ul&gt;&lt;/div&gt;\n",
       "                 &lt;/div&gt;`,\n",
       "                {&quot;sticky&quot;: true}\n",
       "            );\n",
       "        \n",
       "    \n",
       "            var circle_7d6da68062896a3fd4bbeff8f4b41135 = L.circle(\n",
       "                [36.1408, -5.3536],\n",
       "                {&quot;bubblingMouseEvents&quot;: true, &quot;color&quot;: &quot;red&quot;, &quot;dashArray&quot;: null, &quot;dashOffset&quot;: null, &quot;fill&quot;: true, &quot;fillColor&quot;: &quot;blue&quot;, &quot;fillOpacity&quot;: 0.2, &quot;fillRule&quot;: &quot;evenodd&quot;, &quot;lineCap&quot;: &quot;round&quot;, &quot;lineJoin&quot;: &quot;round&quot;, &quot;opacity&quot;: 1.0, &quot;radius&quot;: 228000.0, &quot;stroke&quot;: true, &quot;weight&quot;: 3}\n",
       "            ).addTo(map_feca7f7996749b669ab93ed1eadabcc9);\n",
       "        \n",
       "    \n",
       "            circle_7d6da68062896a3fd4bbeff8f4b41135.bindTooltip(\n",
       "                `&lt;div&gt;\n",
       "                     &lt;div style=&#x27;margin:0; background-color:black; color:white;&#x27;&gt;&lt;h4 style=&#x27;text-align:center;front-weight: bold&#x27;&gt;United Kingdom&lt;/h4&gt;&lt;hr style=&#x27;margin:10px; color:white;&#x27;&gt;&lt;ul style=&#x27;color:white; list-style-type:circle; align-item:left;padding-left:20px;padding-right:20px&#x27;&gt;&lt;li&gt;Confirmed: 8195503&lt;/li&gt;&lt;li&gt;Deaths:   69401&lt;/li&gt;&lt;li&gt;Death rate:    0.85&lt;/li&gt;&lt;/ul&gt;&lt;/div&gt;\n",
       "                 &lt;/div&gt;`,\n",
       "                {&quot;sticky&quot;: true}\n",
       "            );\n",
       "        \n",
       "    \n",
       "            var circle_b4cf1b7376c458e26fd5f374f3c851b7 = L.circle(\n",
       "                [49.448196, -2.58949],\n",
       "                {&quot;bubblingMouseEvents&quot;: true, &quot;color&quot;: &quot;red&quot;, &quot;dashArray&quot;: null, &quot;dashOffset&quot;: null, &quot;fill&quot;: true, &quot;fillColor&quot;: &quot;blue&quot;, &quot;fillOpacity&quot;: 0.2, &quot;fillRule&quot;: &quot;evenodd&quot;, &quot;lineCap&quot;: &quot;round&quot;, &quot;lineJoin&quot;: &quot;round&quot;, &quot;opacity&quot;: 1.0, &quot;radius&quot;: 243000.0, &quot;stroke&quot;: true, &quot;weight&quot;: 3}\n",
       "            ).addTo(map_feca7f7996749b669ab93ed1eadabcc9);\n",
       "        \n",
       "    \n",
       "            circle_b4cf1b7376c458e26fd5f374f3c851b7.bindTooltip(\n",
       "                `&lt;div&gt;\n",
       "                     &lt;div style=&#x27;margin:0; background-color:black; color:white;&#x27;&gt;&lt;h4 style=&#x27;text-align:center;front-weight: bold&#x27;&gt;United Kingdom&lt;/h4&gt;&lt;hr style=&#x27;margin:10px; color:white;&#x27;&gt;&lt;ul style=&#x27;color:white; list-style-type:circle; align-item:left;padding-left:20px;padding-right:20px&#x27;&gt;&lt;li&gt;Confirmed: 9277641&lt;/li&gt;&lt;li&gt;Deaths:   27891&lt;/li&gt;&lt;li&gt;Death rate:    0.3&lt;/li&gt;&lt;/ul&gt;&lt;/div&gt;\n",
       "                 &lt;/div&gt;`,\n",
       "                {&quot;sticky&quot;: true}\n",
       "            );\n",
       "        \n",
       "    \n",
       "            var circle_8a4915adf6e5d4292825de604d25236e = L.circle(\n",
       "                [54.2361, -4.5481],\n",
       "                {&quot;bubblingMouseEvents&quot;: true, &quot;color&quot;: &quot;red&quot;, &quot;dashArray&quot;: null, &quot;dashOffset&quot;: null, &quot;fill&quot;: true, &quot;fillColor&quot;: &quot;blue&quot;, &quot;fillOpacity&quot;: 0.2, &quot;fillRule&quot;: &quot;evenodd&quot;, &quot;lineCap&quot;: &quot;round&quot;, &quot;lineJoin&quot;: &quot;round&quot;, &quot;opacity&quot;: 1.0, &quot;radius&quot;: 243000.0, &quot;stroke&quot;: true, &quot;weight&quot;: 3}\n",
       "            ).addTo(map_feca7f7996749b669ab93ed1eadabcc9);\n",
       "        \n",
       "    \n",
       "            circle_8a4915adf6e5d4292825de604d25236e.bindTooltip(\n",
       "                `&lt;div&gt;\n",
       "                     &lt;div style=&#x27;margin:0; background-color:black; color:white;&#x27;&gt;&lt;h4 style=&#x27;text-align:center;front-weight: bold&#x27;&gt;United Kingdom&lt;/h4&gt;&lt;hr style=&#x27;margin:10px; color:white;&#x27;&gt;&lt;ul style=&#x27;color:white; list-style-type:circle; align-item:left;padding-left:20px;padding-right:20px&#x27;&gt;&lt;li&gt;Confirmed: 13010857&lt;/li&gt;&lt;li&gt;Deaths:   55115&lt;/li&gt;&lt;li&gt;Death rate:    0.42&lt;/li&gt;&lt;/ul&gt;&lt;/div&gt;\n",
       "                 &lt;/div&gt;`,\n",
       "                {&quot;sticky&quot;: true}\n",
       "            );\n",
       "        \n",
       "    \n",
       "            var circle_d038d380ec21566ea31a3e23cb055c86 = L.circle(\n",
       "                [49.2138, -2.1358],\n",
       "                {&quot;bubblingMouseEvents&quot;: true, &quot;color&quot;: &quot;red&quot;, &quot;dashArray&quot;: null, &quot;dashOffset&quot;: null, &quot;fill&quot;: true, &quot;fillColor&quot;: &quot;blue&quot;, &quot;fillOpacity&quot;: 0.2, &quot;fillRule&quot;: &quot;evenodd&quot;, &quot;lineCap&quot;: &quot;round&quot;, &quot;lineJoin&quot;: &quot;round&quot;, &quot;opacity&quot;: 1.0, &quot;radius&quot;: 243000.0, &quot;stroke&quot;: true, &quot;weight&quot;: 3}\n",
       "            ).addTo(map_feca7f7996749b669ab93ed1eadabcc9);\n",
       "        \n",
       "    \n",
       "            circle_d038d380ec21566ea31a3e23cb055c86.bindTooltip(\n",
       "                `&lt;div&gt;\n",
       "                     &lt;div style=&#x27;margin:0; background-color:black; color:white;&#x27;&gt;&lt;h4 style=&#x27;text-align:center;front-weight: bold&#x27;&gt;United Kingdom&lt;/h4&gt;&lt;hr style=&#x27;margin:10px; color:white;&#x27;&gt;&lt;ul style=&#x27;color:white; list-style-type:circle; align-item:left;padding-left:20px;padding-right:20px&#x27;&gt;&lt;li&gt;Confirmed: 20238559&lt;/li&gt;&lt;li&gt;Deaths:   78175&lt;/li&gt;&lt;li&gt;Death rate:    0.39&lt;/li&gt;&lt;/ul&gt;&lt;/div&gt;\n",
       "                 &lt;/div&gt;`,\n",
       "                {&quot;sticky&quot;: true}\n",
       "            );\n",
       "        \n",
       "    \n",
       "            var circle_7f0843765b8218d23bb56565eb72af4e = L.circle(\n",
       "                [16.742498, -62.187366],\n",
       "                {&quot;bubblingMouseEvents&quot;: true, &quot;color&quot;: &quot;red&quot;, &quot;dashArray&quot;: null, &quot;dashOffset&quot;: null, &quot;fill&quot;: true, &quot;fillColor&quot;: &quot;blue&quot;, &quot;fillOpacity&quot;: 0.2, &quot;fillRule&quot;: &quot;evenodd&quot;, &quot;lineCap&quot;: &quot;round&quot;, &quot;lineJoin&quot;: &quot;round&quot;, &quot;opacity&quot;: 1.0, &quot;radius&quot;: 183000.0, &quot;stroke&quot;: true, &quot;weight&quot;: 3}\n",
       "            ).addTo(map_feca7f7996749b669ab93ed1eadabcc9);\n",
       "        \n",
       "    \n",
       "            circle_7f0843765b8218d23bb56565eb72af4e.bindTooltip(\n",
       "                `&lt;div&gt;\n",
       "                     &lt;div style=&#x27;margin:0; background-color:black; color:white;&#x27;&gt;&lt;h4 style=&#x27;text-align:center;front-weight: bold&#x27;&gt;United Kingdom&lt;/h4&gt;&lt;hr style=&#x27;margin:10px; color:white;&#x27;&gt;&lt;ul style=&#x27;color:white; list-style-type:circle; align-item:left;padding-left:20px;padding-right:20px&#x27;&gt;&lt;li&gt;Confirmed: 295207&lt;/li&gt;&lt;li&gt;Deaths:   2495&lt;/li&gt;&lt;li&gt;Death rate:    0.85&lt;/li&gt;&lt;/ul&gt;&lt;/div&gt;\n",
       "                 &lt;/div&gt;`,\n",
       "                {&quot;sticky&quot;: true}\n",
       "            );\n",
       "        \n",
       "    \n",
       "            var circle_aac410463a9f17ecbaf7edbe82485e55 = L.circle(\n",
       "                [-24.3768, -128.3242],\n",
       "                {&quot;bubblingMouseEvents&quot;: true, &quot;color&quot;: &quot;red&quot;, &quot;dashArray&quot;: null, &quot;dashOffset&quot;: null, &quot;fill&quot;: true, &quot;fillColor&quot;: &quot;blue&quot;, &quot;fillOpacity&quot;: 0.2, &quot;fillRule&quot;: &quot;evenodd&quot;, &quot;lineCap&quot;: &quot;round&quot;, &quot;lineJoin&quot;: &quot;round&quot;, &quot;opacity&quot;: 1.0, &quot;radius&quot;: 93000.0, &quot;stroke&quot;: true, &quot;weight&quot;: 3}\n",
       "            ).addTo(map_feca7f7996749b669ab93ed1eadabcc9);\n",
       "        \n",
       "    \n",
       "            circle_aac410463a9f17ecbaf7edbe82485e55.bindTooltip(\n",
       "                `&lt;div&gt;\n",
       "                     &lt;div style=&#x27;margin:0; background-color:black; color:white;&#x27;&gt;&lt;h4 style=&#x27;text-align:center;front-weight: bold&#x27;&gt;United Kingdom&lt;/h4&gt;&lt;hr style=&#x27;margin:10px; color:white;&#x27;&gt;&lt;ul style=&#x27;color:white; list-style-type:circle; align-item:left;padding-left:20px;padding-right:20px&#x27;&gt;&lt;li&gt;Confirmed: 592&lt;/li&gt;&lt;li&gt;Deaths:   0&lt;/li&gt;&lt;li&gt;Death rate:    0.0&lt;/li&gt;&lt;/ul&gt;&lt;/div&gt;\n",
       "                 &lt;/div&gt;`,\n",
       "                {&quot;sticky&quot;: true}\n",
       "            );\n",
       "        \n",
       "    \n",
       "            var circle_749bed8a2c62d6022efca046b3d87c41 = L.circle(\n",
       "                [-7.9467, -14.3559],\n",
       "                {&quot;bubblingMouseEvents&quot;: true, &quot;color&quot;: &quot;red&quot;, &quot;dashArray&quot;: null, &quot;dashOffset&quot;: null, &quot;fill&quot;: true, &quot;fillColor&quot;: &quot;blue&quot;, &quot;fillOpacity&quot;: 0.2, &quot;fillRule&quot;: &quot;evenodd&quot;, &quot;lineCap&quot;: &quot;round&quot;, &quot;lineJoin&quot;: &quot;round&quot;, &quot;opacity&quot;: 1.0, &quot;radius&quot;: 183000.0, &quot;stroke&quot;: true, &quot;weight&quot;: 3}\n",
       "            ).addTo(map_feca7f7996749b669ab93ed1eadabcc9);\n",
       "        \n",
       "    \n",
       "            circle_749bed8a2c62d6022efca046b3d87c41.bindTooltip(\n",
       "                `&lt;div&gt;\n",
       "                     &lt;div style=&#x27;margin:0; background-color:black; color:white;&#x27;&gt;&lt;h4 style=&#x27;text-align:center;front-weight: bold&#x27;&gt;United Kingdom&lt;/h4&gt;&lt;hr style=&#x27;margin:10px; color:white;&#x27;&gt;&lt;ul style=&#x27;color:white; list-style-type:circle; align-item:left;padding-left:20px;padding-right:20px&#x27;&gt;&lt;li&gt;Confirmed: 169749&lt;/li&gt;&lt;li&gt;Deaths:   4&lt;/li&gt;&lt;li&gt;Death rate:    0.0&lt;/li&gt;&lt;/ul&gt;&lt;/div&gt;\n",
       "                 &lt;/div&gt;`,\n",
       "                {&quot;sticky&quot;: true}\n",
       "            );\n",
       "        \n",
       "    \n",
       "            var circle_49adb3c2167f04c08422174cdbbe4cf4 = L.circle(\n",
       "                [21.694, -71.7979],\n",
       "                {&quot;bubblingMouseEvents&quot;: true, &quot;color&quot;: &quot;red&quot;, &quot;dashArray&quot;: null, &quot;dashOffset&quot;: null, &quot;fill&quot;: true, &quot;fillColor&quot;: &quot;blue&quot;, &quot;fillOpacity&quot;: 0.2, &quot;fillRule&quot;: &quot;evenodd&quot;, &quot;lineCap&quot;: &quot;round&quot;, &quot;lineJoin&quot;: &quot;round&quot;, &quot;opacity&quot;: 1.0, &quot;radius&quot;: 213000.0, &quot;stroke&quot;: true, &quot;weight&quot;: 3}\n",
       "            ).addTo(map_feca7f7996749b669ab93ed1eadabcc9);\n",
       "        \n",
       "    \n",
       "            circle_49adb3c2167f04c08422174cdbbe4cf4.bindTooltip(\n",
       "                `&lt;div&gt;\n",
       "                     &lt;div style=&#x27;margin:0; background-color:black; color:white;&#x27;&gt;&lt;h4 style=&#x27;text-align:center;front-weight: bold&#x27;&gt;United Kingdom&lt;/h4&gt;&lt;hr style=&#x27;margin:10px; color:white;&#x27;&gt;&lt;ul style=&#x27;color:white; list-style-type:circle; align-item:left;padding-left:20px;padding-right:20px&#x27;&gt;&lt;li&gt;Confirmed: 3100738&lt;/li&gt;&lt;li&gt;Deaths:   19807&lt;/li&gt;&lt;li&gt;Death rate:    0.64&lt;/li&gt;&lt;/ul&gt;&lt;/div&gt;\n",
       "                 &lt;/div&gt;`,\n",
       "                {&quot;sticky&quot;: true}\n",
       "            );\n",
       "        \n",
       "    \n",
       "            var circle_8f288cba3d0948d35e1f0b17a2bd7746 = L.circle(\n",
       "                [55.3781, -3.436],\n",
       "                {&quot;bubblingMouseEvents&quot;: true, &quot;color&quot;: &quot;red&quot;, &quot;dashArray&quot;: null, &quot;dashOffset&quot;: null, &quot;fill&quot;: true, &quot;fillColor&quot;: &quot;blue&quot;, &quot;fillOpacity&quot;: 0.2, &quot;fillRule&quot;: &quot;evenodd&quot;, &quot;lineCap&quot;: &quot;round&quot;, &quot;lineJoin&quot;: &quot;round&quot;, &quot;opacity&quot;: 1.0, &quot;radius&quot;: 348000.0, &quot;stroke&quot;: true, &quot;weight&quot;: 3}\n",
       "            ).addTo(map_feca7f7996749b669ab93ed1eadabcc9);\n",
       "        \n",
       "    \n",
       "            circle_8f288cba3d0948d35e1f0b17a2bd7746.bindTooltip(\n",
       "                `&lt;div&gt;\n",
       "                     &lt;div style=&#x27;margin:0; background-color:black; color:white;&#x27;&gt;&lt;h4 style=&#x27;text-align:center;front-weight: bold&#x27;&gt;United Kingdom&lt;/h4&gt;&lt;hr style=&#x27;margin:10px; color:white;&#x27;&gt;&lt;ul style=&#x27;color:white; list-style-type:circle; align-item:left;padding-left:20px;padding-right:20px&#x27;&gt;&lt;li&gt;Confirmed: 9962186872&lt;/li&gt;&lt;li&gt;Deaths:   141793191&lt;/li&gt;&lt;li&gt;Death rate:    1.42&lt;/li&gt;&lt;/ul&gt;&lt;/div&gt;\n",
       "                 &lt;/div&gt;`,\n",
       "                {&quot;sticky&quot;: true}\n",
       "            );\n",
       "        \n",
       "    \n",
       "            var circle_246e253b3dba74b42c5d91914a16125e = L.circle(\n",
       "                [-32.5228, -55.7658],\n",
       "                {&quot;bubblingMouseEvents&quot;: true, &quot;color&quot;: &quot;red&quot;, &quot;dashArray&quot;: null, &quot;dashOffset&quot;: null, &quot;fill&quot;: true, &quot;fillColor&quot;: &quot;blue&quot;, &quot;fillOpacity&quot;: 0.2, &quot;fillRule&quot;: &quot;evenodd&quot;, &quot;lineCap&quot;: &quot;round&quot;, &quot;lineJoin&quot;: &quot;round&quot;, &quot;opacity&quot;: 1.0, &quot;radius&quot;: 288000.0, &quot;stroke&quot;: true, &quot;weight&quot;: 3}\n",
       "            ).addTo(map_feca7f7996749b669ab93ed1eadabcc9);\n",
       "        \n",
       "    \n",
       "            circle_246e253b3dba74b42c5d91914a16125e.bindTooltip(\n",
       "                `&lt;div&gt;\n",
       "                     &lt;div style=&#x27;margin:0; background-color:black; color:white;&#x27;&gt;&lt;h4 style=&#x27;text-align:center;front-weight: bold&#x27;&gt;Uruguay&lt;/h4&gt;&lt;hr style=&#x27;margin:10px; color:white;&#x27;&gt;&lt;ul style=&#x27;color:white; list-style-type:circle; align-item:left;padding-left:20px;padding-right:20px&#x27;&gt;&lt;li&gt;Confirmed: 411763907&lt;/li&gt;&lt;li&gt;Deaths:   3991920&lt;/li&gt;&lt;li&gt;Death rate:    0.97&lt;/li&gt;&lt;/ul&gt;&lt;/div&gt;\n",
       "                 &lt;/div&gt;`,\n",
       "                {&quot;sticky&quot;: true}\n",
       "            );\n",
       "        \n",
       "    \n",
       "            var circle_4656c551f2061451525230e98d5e661a = L.circle(\n",
       "                [41.377491, 64.585262],\n",
       "                {&quot;bubblingMouseEvents&quot;: true, &quot;color&quot;: &quot;red&quot;, &quot;dashArray&quot;: null, &quot;dashOffset&quot;: null, &quot;fill&quot;: true, &quot;fillColor&quot;: &quot;blue&quot;, &quot;fillOpacity&quot;: 0.2, &quot;fillRule&quot;: &quot;evenodd&quot;, &quot;lineCap&quot;: &quot;round&quot;, &quot;lineJoin&quot;: &quot;round&quot;, &quot;opacity&quot;: 1.0, &quot;radius&quot;: 273000.0, &quot;stroke&quot;: true, &quot;weight&quot;: 3}\n",
       "            ).addTo(map_feca7f7996749b669ab93ed1eadabcc9);\n",
       "        \n",
       "    \n",
       "            circle_4656c551f2061451525230e98d5e661a.bindTooltip(\n",
       "                `&lt;div&gt;\n",
       "                     &lt;div style=&#x27;margin:0; background-color:black; color:white;&#x27;&gt;&lt;h4 style=&#x27;text-align:center;front-weight: bold&#x27;&gt;Uzbekistan&lt;/h4&gt;&lt;hr style=&#x27;margin:10px; color:white;&#x27;&gt;&lt;ul style=&#x27;color:white; list-style-type:circle; align-item:left;padding-left:20px;padding-right:20px&#x27;&gt;&lt;li&gt;Confirmed: 138871367&lt;/li&gt;&lt;li&gt;Deaths:   973480&lt;/li&gt;&lt;li&gt;Death rate:    0.7&lt;/li&gt;&lt;/ul&gt;&lt;/div&gt;\n",
       "                 &lt;/div&gt;`,\n",
       "                {&quot;sticky&quot;: true}\n",
       "            );\n",
       "        \n",
       "    \n",
       "            var circle_54d55eaeb172c4193ba459e043200c71 = L.circle(\n",
       "                [-15.3767, 166.9592],\n",
       "                {&quot;bubblingMouseEvents&quot;: true, &quot;color&quot;: &quot;red&quot;, &quot;dashArray&quot;: null, &quot;dashOffset&quot;: null, &quot;fill&quot;: true, &quot;fillColor&quot;: &quot;blue&quot;, &quot;fillOpacity&quot;: 0.2, &quot;fillRule&quot;: &quot;evenodd&quot;, &quot;lineCap&quot;: &quot;round&quot;, &quot;lineJoin&quot;: &quot;round&quot;, &quot;opacity&quot;: 1.0, &quot;radius&quot;: 213000.0, &quot;stroke&quot;: true, &quot;weight&quot;: 3}\n",
       "            ).addTo(map_feca7f7996749b669ab93ed1eadabcc9);\n",
       "        \n",
       "    \n",
       "            circle_54d55eaeb172c4193ba459e043200c71.bindTooltip(\n",
       "                `&lt;div&gt;\n",
       "                     &lt;div style=&#x27;margin:0; background-color:black; color:white;&#x27;&gt;&lt;h4 style=&#x27;text-align:center;front-weight: bold&#x27;&gt;Vanuatu&lt;/h4&gt;&lt;hr style=&#x27;margin:10px; color:white;&#x27;&gt;&lt;ul style=&#x27;color:white; list-style-type:circle; align-item:left;padding-left:20px;padding-right:20px&#x27;&gt;&lt;li&gt;Confirmed: 2761655&lt;/li&gt;&lt;li&gt;Deaths:   3749&lt;/li&gt;&lt;li&gt;Death rate:    0.14&lt;/li&gt;&lt;/ul&gt;&lt;/div&gt;\n",
       "                 &lt;/div&gt;`,\n",
       "                {&quot;sticky&quot;: true}\n",
       "            );\n",
       "        \n",
       "    \n",
       "            var circle_3f3532a708cc5e8061bf0db95a39f42c = L.circle(\n",
       "                [6.4238, -66.5897],\n",
       "                {&quot;bubblingMouseEvents&quot;: true, &quot;color&quot;: &quot;red&quot;, &quot;dashArray&quot;: null, &quot;dashOffset&quot;: null, &quot;fill&quot;: true, &quot;fillColor&quot;: &quot;blue&quot;, &quot;fillOpacity&quot;: 0.2, &quot;fillRule&quot;: &quot;evenodd&quot;, &quot;lineCap&quot;: &quot;round&quot;, &quot;lineJoin&quot;: &quot;round&quot;, &quot;opacity&quot;: 1.0, &quot;radius&quot;: 288000.0, &quot;stroke&quot;: true, &quot;weight&quot;: 3}\n",
       "            ).addTo(map_feca7f7996749b669ab93ed1eadabcc9);\n",
       "        \n",
       "    \n",
       "            circle_3f3532a708cc5e8061bf0db95a39f42c.bindTooltip(\n",
       "                `&lt;div&gt;\n",
       "                     &lt;div style=&#x27;margin:0; background-color:black; color:white;&#x27;&gt;&lt;h4 style=&#x27;text-align:center;front-weight: bold&#x27;&gt;Venezuela&lt;/h4&gt;&lt;hr style=&#x27;margin:10px; color:white;&#x27;&gt;&lt;ul style=&#x27;color:white; list-style-type:circle; align-item:left;padding-left:20px;padding-right:20px&#x27;&gt;&lt;li&gt;Confirmed: 294333655&lt;/li&gt;&lt;li&gt;Deaths:   3233471&lt;/li&gt;&lt;li&gt;Death rate:    1.1&lt;/li&gt;&lt;/ul&gt;&lt;/div&gt;\n",
       "                 &lt;/div&gt;`,\n",
       "                {&quot;sticky&quot;: true}\n",
       "            );\n",
       "        \n",
       "    \n",
       "            var circle_80baeeca9f691af1fb76094e94111722 = L.circle(\n",
       "                [14.058324, 108.277199],\n",
       "                {&quot;bubblingMouseEvents&quot;: true, &quot;color&quot;: &quot;red&quot;, &quot;dashArray&quot;: null, &quot;dashOffset&quot;: null, &quot;fill&quot;: true, &quot;fillColor&quot;: &quot;blue&quot;, &quot;fillOpacity&quot;: 0.2, &quot;fillRule&quot;: &quot;evenodd&quot;, &quot;lineCap&quot;: &quot;round&quot;, &quot;lineJoin&quot;: &quot;round&quot;, &quot;opacity&quot;: 1.0, &quot;radius&quot;: 318000.0, &quot;stroke&quot;: true, &quot;weight&quot;: 3}\n",
       "            ).addTo(map_feca7f7996749b669ab93ed1eadabcc9);\n",
       "        \n",
       "    \n",
       "            circle_80baeeca9f691af1fb76094e94111722.bindTooltip(\n",
       "                `&lt;div&gt;\n",
       "                     &lt;div style=&#x27;margin:0; background-color:black; color:white;&#x27;&gt;&lt;h4 style=&#x27;text-align:center;front-weight: bold&#x27;&gt;Vietnam&lt;/h4&gt;&lt;hr style=&#x27;margin:10px; color:white;&#x27;&gt;&lt;ul style=&#x27;color:white; list-style-type:circle; align-item:left;padding-left:20px;padding-right:20px&#x27;&gt;&lt;li&gt;Confirmed: 3334895339&lt;/li&gt;&lt;li&gt;Deaths:   17539609&lt;/li&gt;&lt;li&gt;Death rate:    0.53&lt;/li&gt;&lt;/ul&gt;&lt;/div&gt;\n",
       "                 &lt;/div&gt;`,\n",
       "                {&quot;sticky&quot;: true}\n",
       "            );\n",
       "        \n",
       "    \n",
       "            var circle_9d4513cc0f052734989fdd4dc5d9fd02 = L.circle(\n",
       "                [31.9522, 35.2332],\n",
       "                {&quot;bubblingMouseEvents&quot;: true, &quot;color&quot;: &quot;red&quot;, &quot;dashArray&quot;: null, &quot;dashOffset&quot;: null, &quot;fill&quot;: true, &quot;fillColor&quot;: &quot;blue&quot;, &quot;fillOpacity&quot;: 0.2, &quot;fillRule&quot;: &quot;evenodd&quot;, &quot;lineCap&quot;: &quot;round&quot;, &quot;lineJoin&quot;: &quot;round&quot;, &quot;opacity&quot;: 1.0, &quot;radius&quot;: 288000.0, &quot;stroke&quot;: true, &quot;weight&quot;: 3}\n",
       "            ).addTo(map_feca7f7996749b669ab93ed1eadabcc9);\n",
       "        \n",
       "    \n",
       "            circle_9d4513cc0f052734989fdd4dc5d9fd02.bindTooltip(\n",
       "                `&lt;div&gt;\n",
       "                     &lt;div style=&#x27;margin:0; background-color:black; color:white;&#x27;&gt;&lt;h4 style=&#x27;text-align:center;front-weight: bold&#x27;&gt;West Bank and Gaza&lt;/h4&gt;&lt;hr style=&#x27;margin:10px; color:white;&#x27;&gt;&lt;ul style=&#x27;color:white; list-style-type:circle; align-item:left;padding-left:20px;padding-right:20px&#x27;&gt;&lt;li&gt;Confirmed: 352769316&lt;/li&gt;&lt;li&gt;Deaths:   3269529&lt;/li&gt;&lt;li&gt;Death rate:    0.93&lt;/li&gt;&lt;/ul&gt;&lt;/div&gt;\n",
       "                 &lt;/div&gt;`,\n",
       "                {&quot;sticky&quot;: true}\n",
       "            );\n",
       "        \n",
       "    \n",
       "            var circle_589c7b209172e7c66143804d7bdcf056 = L.circle(\n",
       "                [39.9042, 116.4074],\n",
       "                {&quot;bubblingMouseEvents&quot;: true, &quot;color&quot;: &quot;red&quot;, &quot;dashArray&quot;: null, &quot;dashOffset&quot;: null, &quot;fill&quot;: true, &quot;fillColor&quot;: &quot;blue&quot;, &quot;fillOpacity&quot;: 0.2, &quot;fillRule&quot;: &quot;evenodd&quot;, &quot;lineCap&quot;: &quot;round&quot;, &quot;lineJoin&quot;: &quot;round&quot;, &quot;opacity&quot;: 1.0, &quot;radius&quot;: 183000.0, &quot;stroke&quot;: true, &quot;weight&quot;: 3}\n",
       "            ).addTo(map_feca7f7996749b669ab93ed1eadabcc9);\n",
       "        \n",
       "    \n",
       "            circle_589c7b209172e7c66143804d7bdcf056.bindTooltip(\n",
       "                `&lt;div&gt;\n",
       "                     &lt;div style=&#x27;margin:0; background-color:black; color:white;&#x27;&gt;&lt;h4 style=&#x27;text-align:center;front-weight: bold&#x27;&gt;Winter Olympics 2022&lt;/h4&gt;&lt;hr style=&#x27;margin:10px; color:white;&#x27;&gt;&lt;ul style=&#x27;color:white; list-style-type:circle; align-item:left;padding-left:20px;padding-right:20px&#x27;&gt;&lt;li&gt;Confirmed: 168987&lt;/li&gt;&lt;li&gt;Deaths:   0&lt;/li&gt;&lt;li&gt;Death rate:    0.0&lt;/li&gt;&lt;/ul&gt;&lt;/div&gt;\n",
       "                 &lt;/div&gt;`,\n",
       "                {&quot;sticky&quot;: true}\n",
       "            );\n",
       "        \n",
       "    \n",
       "            var circle_0d84853d3c9bbbb7d995a8c325757c2a = L.circle(\n",
       "                [15.552727, 48.516388],\n",
       "                {&quot;bubblingMouseEvents&quot;: true, &quot;color&quot;: &quot;red&quot;, &quot;dashArray&quot;: null, &quot;dashOffset&quot;: null, &quot;fill&quot;: true, &quot;fillColor&quot;: &quot;blue&quot;, &quot;fillOpacity&quot;: 0.2, &quot;fillRule&quot;: &quot;evenodd&quot;, &quot;lineCap&quot;: &quot;round&quot;, &quot;lineJoin&quot;: &quot;round&quot;, &quot;opacity&quot;: 1.0, &quot;radius&quot;: 228000.0, &quot;stroke&quot;: true, &quot;weight&quot;: 3}\n",
       "            ).addTo(map_feca7f7996749b669ab93ed1eadabcc9);\n",
       "        \n",
       "    \n",
       "            circle_0d84853d3c9bbbb7d995a8c325757c2a.bindTooltip(\n",
       "                `&lt;div&gt;\n",
       "                     &lt;div style=&#x27;margin:0; background-color:black; color:white;&#x27;&gt;&lt;h4 style=&#x27;text-align:center;front-weight: bold&#x27;&gt;Yemen&lt;/h4&gt;&lt;hr style=&#x27;margin:10px; color:white;&#x27;&gt;&lt;ul style=&#x27;color:white; list-style-type:circle; align-item:left;padding-left:20px;padding-right:20px&#x27;&gt;&lt;li&gt;Confirmed: 6864110&lt;/li&gt;&lt;li&gt;Deaths:   1331931&lt;/li&gt;&lt;li&gt;Death rate:    19.4&lt;/li&gt;&lt;/ul&gt;&lt;/div&gt;\n",
       "                 &lt;/div&gt;`,\n",
       "                {&quot;sticky&quot;: true}\n",
       "            );\n",
       "        \n",
       "    \n",
       "            var circle_da728e2ee69566cd687212fe85c53b5d = L.circle(\n",
       "                [-13.133897, 27.849332],\n",
       "                {&quot;bubblingMouseEvents&quot;: true, &quot;color&quot;: &quot;red&quot;, &quot;dashArray&quot;: null, &quot;dashOffset&quot;: null, &quot;fill&quot;: true, &quot;fillColor&quot;: &quot;blue&quot;, &quot;fillOpacity&quot;: 0.2, &quot;fillRule&quot;: &quot;evenodd&quot;, &quot;lineCap&quot;: &quot;round&quot;, &quot;lineJoin&quot;: &quot;round&quot;, &quot;opacity&quot;: 1.0, &quot;radius&quot;: 273000.0, &quot;stroke&quot;: true, &quot;weight&quot;: 3}\n",
       "            ).addTo(map_feca7f7996749b669ab93ed1eadabcc9);\n",
       "        \n",
       "    \n",
       "            circle_da728e2ee69566cd687212fe85c53b5d.bindTooltip(\n",
       "                `&lt;div&gt;\n",
       "                     &lt;div style=&#x27;margin:0; background-color:black; color:white;&#x27;&gt;&lt;h4 style=&#x27;text-align:center;front-weight: bold&#x27;&gt;Zambia&lt;/h4&gt;&lt;hr style=&#x27;margin:10px; color:white;&#x27;&gt;&lt;ul style=&#x27;color:white; list-style-type:circle; align-item:left;padding-left:20px;padding-right:20px&#x27;&gt;&lt;li&gt;Confirmed: 167141200&lt;/li&gt;&lt;li&gt;Deaths:   2288332&lt;/li&gt;&lt;li&gt;Death rate:    1.37&lt;/li&gt;&lt;/ul&gt;&lt;/div&gt;\n",
       "                 &lt;/div&gt;`,\n",
       "                {&quot;sticky&quot;: true}\n",
       "            );\n",
       "        \n",
       "    \n",
       "            var circle_c05434fed898dd01851882b149a41e75 = L.circle(\n",
       "                [-19.015438, 29.154857],\n",
       "                {&quot;bubblingMouseEvents&quot;: true, &quot;color&quot;: &quot;red&quot;, &quot;dashArray&quot;: null, &quot;dashOffset&quot;: null, &quot;fill&quot;: true, &quot;fillColor&quot;: &quot;blue&quot;, &quot;fillOpacity&quot;: 0.2, &quot;fillRule&quot;: &quot;evenodd&quot;, &quot;lineCap&quot;: &quot;round&quot;, &quot;lineJoin&quot;: &quot;round&quot;, &quot;opacity&quot;: 1.0, &quot;radius&quot;: 273000.0, &quot;stroke&quot;: true, &quot;weight&quot;: 3}\n",
       "            ).addTo(map_feca7f7996749b669ab93ed1eadabcc9);\n",
       "        \n",
       "    \n",
       "            circle_c05434fed898dd01851882b149a41e75.bindTooltip(\n",
       "                `&lt;div&gt;\n",
       "                     &lt;div style=&#x27;margin:0; background-color:black; color:white;&#x27;&gt;&lt;h4 style=&#x27;text-align:center;front-weight: bold&#x27;&gt;Zimbabwe&lt;/h4&gt;&lt;hr style=&#x27;margin:10px; color:white;&#x27;&gt;&lt;ul style=&#x27;color:white; list-style-type:circle; align-item:left;padding-left:20px;padding-right:20px&#x27;&gt;&lt;li&gt;Confirmed: 118148092&lt;/li&gt;&lt;li&gt;Deaths:   2980584&lt;/li&gt;&lt;li&gt;Death rate:    2.52&lt;/li&gt;&lt;/ul&gt;&lt;/div&gt;\n",
       "                 &lt;/div&gt;`,\n",
       "                {&quot;sticky&quot;: true}\n",
       "            );\n",
       "        \n",
       "&lt;/script&gt;\n",
       "&lt;/html&gt;\" style=\"position:absolute;width:100%;height:100%;left:0;top:0;border:none !important;\" allowfullscreen webkitallowfullscreen mozallowfullscreen></iframe></div></div>"
      ],
      "text/plain": [
       "<folium.folium.Map at 0x1cf15c01520>"
      ]
     },
     "execution_count": 29,
     "metadata": {},
     "output_type": "execute_result"
    }
   ],
   "source": [
    "world_map = folium.Map(location=[11,0], tiles='cartodbpositron', zoom_start=2, max_zoom=6, min_zoom=2)\n",
    "\n",
    "df_confirmed = dfs['confirmed'].dropna()\n",
    "\n",
    "for i in range(len(df_confirmed)):\n",
    "    folium.Circle(\n",
    "        location=[df_confirmed.iloc[i]['lat'], df_confirmed.iloc[i]['long']],\n",
    "        fill=True,\n",
    "        radius=(int((np.log(df_confirmed.iloc[i, -1] + 1.00001))) + 0.2) * 15000,\n",
    "        fill_color = 'blue',\n",
    "        color='red',\n",
    "        tooltip=\"<div style='margin:0; background-color:black; color:white;'>\"+\n",
    "                \"<h4 style='text-align:center;front-weight: bold'>\"+df_confirmed.iloc[i]['country']+\"</h4>\"+\n",
    "                \"<hr style='margin:10px; color:white;'>\"+\n",
    "                \"<ul style='color:white; list-style-type:circle; align-item:left;padding-left:20px;padding-right:20px'>\"+\n",
    "                    \"<li>Confirmed: \"+str(df_confirmed.iloc[i,-1])+\"</li>\"+\n",
    "                    \"<li>Deaths:   \"+str(dfs['death'].dropna().iloc[i, -1])+\"</li>\"+\n",
    "                    \"<li>Death rate:    \"+str(np.round(dfs['death'].dropna().iloc[i, -1]/(df_confirmed.iloc[i,-1]+1.00001)*100,2))+\"</li>\"+\n",
    "                \"</ul></div>\",\n",
    "    ).add_to(world_map)\n",
    "\n",
    "world_map"
   ]
  }
 ],
 "metadata": {
  "kernelspec": {
   "display_name": "base",
   "language": "python",
   "name": "python3"
  },
  "language_info": {
   "codemirror_mode": {
    "name": "ipython",
    "version": 3
   },
   "file_extension": ".py",
   "mimetype": "text/x-python",
   "name": "python",
   "nbconvert_exporter": "python",
   "pygments_lexer": "ipython3",
   "version": "3.9.13"
  },
  "orig_nbformat": 4,
  "vscode": {
   "interpreter": {
    "hash": "700029e5f9c8992c55d37e3a404b0b432c68d401a3c06e21a848c27e97636ef3"
   }
  }
 },
 "nbformat": 4,
 "nbformat_minor": 2
}
