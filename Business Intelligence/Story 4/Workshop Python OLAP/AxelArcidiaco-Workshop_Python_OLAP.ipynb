{
 "cells": [
  {
   "attachments": {},
   "cell_type": "markdown",
   "metadata": {},
   "source": [
    "## Workshop Python OLAP"
   ]
  },
  {
   "cell_type": "code",
   "execution_count": 4,
   "metadata": {},
   "outputs": [
    {
     "name": "stderr",
     "output_type": "stream",
     "text": [
      "Deleting existing \"Unnamed\" session to create the new one.\n"
     ]
    },
    {
     "data": {
      "text/html": [
       "<div>\n",
       "<style scoped>\n",
       "    .dataframe tbody tr th:only-of-type {\n",
       "        vertical-align: middle;\n",
       "    }\n",
       "\n",
       "    .dataframe tbody tr th {\n",
       "        vertical-align: top;\n",
       "    }\n",
       "\n",
       "    .dataframe thead th {\n",
       "        text-align: right;\n",
       "    }\n",
       "</style>\n",
       "<table border=\"1\" class=\"dataframe\">\n",
       "  <thead>\n",
       "    <tr style=\"text-align: right;\">\n",
       "      <th></th>\n",
       "      <th>Salesperson</th>\n",
       "      <th>Continent</th>\n",
       "      <th>Country</th>\n",
       "      <th>Amount</th>\n",
       "    </tr>\n",
       "    <tr>\n",
       "      <th>Customer</th>\n",
       "      <th></th>\n",
       "      <th></th>\n",
       "      <th></th>\n",
       "      <th></th>\n",
       "    </tr>\n",
       "  </thead>\n",
       "  <tbody>\n",
       "    <tr>\n",
       "      <th>Ubisoft</th>\n",
       "      <td>Léodagan</td>\n",
       "      <td>Europe</td>\n",
       "      <td>France</td>\n",
       "      <td>100000.0</td>\n",
       "    </tr>\n",
       "    <tr>\n",
       "      <th>Decathlon</th>\n",
       "      <td>Lancelot</td>\n",
       "      <td>Europe</td>\n",
       "      <td>France</td>\n",
       "      <td>150000.0</td>\n",
       "    </tr>\n",
       "    <tr>\n",
       "      <th>Airbus</th>\n",
       "      <td>Karadoc</td>\n",
       "      <td>Europe</td>\n",
       "      <td>France</td>\n",
       "      <td>80000.0</td>\n",
       "    </tr>\n",
       "    <tr>\n",
       "      <th>EDF</th>\n",
       "      <td>Bohort</td>\n",
       "      <td>Europe</td>\n",
       "      <td>France</td>\n",
       "      <td>120000.0</td>\n",
       "    </tr>\n",
       "    <tr>\n",
       "      <th>Air France</th>\n",
       "      <td>Lancelot</td>\n",
       "      <td>Europe</td>\n",
       "      <td>France</td>\n",
       "      <td>70000.0</td>\n",
       "    </tr>\n",
       "  </tbody>\n",
       "</table>\n",
       "</div>"
      ],
      "text/plain": [
       "            Salesperson  Continent  Country    Amount\n",
       "Customer                                             \n",
       "Ubisoft        Léodagan     Europe   France  100000.0\n",
       "Decathlon      Lancelot     Europe   France  150000.0\n",
       "Airbus          Karadoc     Europe   France   80000.0\n",
       "EDF              Bohort     Europe   France  120000.0\n",
       "Air France     Lancelot     Europe   France   70000.0"
      ]
     },
     "execution_count": 4,
     "metadata": {},
     "output_type": "execute_result"
    }
   ],
   "source": [
    "# Importation des modules et bibliothèques Python\n",
    "import atoti as tt\n",
    "\n",
    "# Création d'une session atoti\n",
    "session = tt.Session()\n",
    "\n",
    "# Chargement du csv projected_sales\n",
    "sales = session.read_csv(\"data/projected_sales.csv\", keys=[\"Customer\"])\n",
    "\n",
    "# Affichage des 5 premières lignes de données du csv projected_sales\n",
    "sales.head()"
   ]
  }
 ],
 "metadata": {
  "kernelspec": {
   "display_name": "base",
   "language": "python",
   "name": "python3"
  },
  "language_info": {
   "codemirror_mode": {
    "name": "ipython",
    "version": 3
   },
   "file_extension": ".py",
   "mimetype": "text/x-python",
   "name": "python",
   "nbconvert_exporter": "python",
   "pygments_lexer": "ipython3",
   "version": "3.9.13"
  },
  "orig_nbformat": 4,
  "vscode": {
   "interpreter": {
    "hash": "700029e5f9c8992c55d37e3a404b0b432c68d401a3c06e21a848c27e97636ef3"
   }
  }
 },
 "nbformat": 4,
 "nbformat_minor": 2
}
