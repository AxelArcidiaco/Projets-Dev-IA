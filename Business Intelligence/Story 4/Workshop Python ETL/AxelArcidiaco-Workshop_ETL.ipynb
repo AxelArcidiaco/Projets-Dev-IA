{
 "cells": [
  {
   "attachments": {},
   "cell_type": "markdown",
   "metadata": {},
   "source": [
    "## Workshop ETL Python"
   ]
  },
  {
   "attachments": {},
   "cell_type": "markdown",
   "metadata": {},
   "source": [
    "# Importation des modules et bibliothèques de Python"
   ]
  },
  {
   "cell_type": "code",
   "execution_count": 31,
   "metadata": {},
   "outputs": [],
   "source": [
    "# Importation des modules et librairies\n",
    "import pandas as pd\n",
    "import glob\n",
    "from datetime import datetime"
   ]
  },
  {
   "attachments": {},
   "cell_type": "markdown",
   "metadata": {},
   "source": [
    "# Fonction de log des activités de ce programme ETL"
   ]
  },
  {
   "cell_type": "code",
   "execution_count": 32,
   "metadata": {},
   "outputs": [],
   "source": [
    "# Fonction permettant de générer un log des utilisations\n",
    "def log(message):\n",
    "\ttimestamp_format = \"%Y/%h/%d - %H:%M:%S\"\n",
    "\tnow = datetime.now()\n",
    "\ttimestamp = now.strftime(timestamp_format)\n",
    "\twith open(\"logfile.txt\", \"a\") as f:\n",
    "\t\tf.write(timestamp + \" --> \" + message + \"\\n\")"
   ]
  },
  {
   "attachments": {},
   "cell_type": "markdown",
   "metadata": {},
   "source": [
    "# Récupération des différents fichiers"
   ]
  },
  {
   "cell_type": "code",
   "execution_count": 33,
   "metadata": {},
   "outputs": [],
   "source": [
    "# Récupération des fichiers csv\n",
    "list_csv = glob.glob(\"*.csv\")\n",
    "list_csv:[\"source1.csv\", \"source2.csv\", \"source3.csv\"]\n",
    "\n",
    "\n",
    "# Récupération des fichiers .json\n",
    "list_json = glob.glob(\"*.json\")\n",
    "list_json:[\"source1.json\", \"source2.json\", \"source3.json\"]\n",
    "\n",
    "# Récupération des fichiers .xml\n",
    "list_xml = glob.glob(\"*.xml\")\n",
    "list_xml:[\"source1.xml\", \"source2.xml\", \"source3.xml\"]"
   ]
  },
  {
   "attachments": {},
   "cell_type": "markdown",
   "metadata": {},
   "source": [
    "# Extraction des données"
   ]
  },
  {
   "cell_type": "code",
   "execution_count": 34,
   "metadata": {},
   "outputs": [
    {
     "name": "stdout",
     "output_type": "stream",
     "text": [
      "    name  height  weight\n",
      "0   alex   65.78  112.99\n",
      "1   ajay   71.52  136.49\n",
      "2  alice   69.40  153.03\n",
      "3   ravi   68.22  142.34\n",
      "4    joe   67.79  144.30\n",
      "0   alex   65.78  112.99\n",
      "1   ajay   71.52  136.49\n",
      "2  alice   69.40  153.03\n",
      "3   ravi   68.22  142.34\n",
      "4    joe   67.79  144.30\n",
      "0   alex   65.78  112.99\n",
      "1   ajay   71.52  136.49\n",
      "2  alice   69.40  153.03\n",
      "3   ravi   68.22  142.34\n",
      "4    joe   67.79  144.30\n",
      "0   jack   68.70  123.30\n",
      "1    tom   69.80  141.49\n",
      "2  tracy   70.01  136.46\n",
      "3   john   67.90  112.37\n",
      "0   jack   68.70  123.30\n",
      "1    tom   69.80  141.49\n",
      "2  tracy   70.01  136.46\n",
      "3   john   67.90  112.37\n",
      "0   jack   68.70  123.30\n",
      "1    tom   69.80  141.49\n",
      "2  tracy   70.01  136.46\n",
      "3   john   67.90  112.37\n",
      "0  simon   67.90  112.37\n",
      "1  jacob   66.78  120.67\n",
      "2  cindy   66.49  127.45\n",
      "3   ivan   67.62  114.14\n",
      "0  simon   67.90  112.37\n",
      "1  jacob   66.78  120.67\n",
      "2  cindy   66.49  127.45\n",
      "3   ivan   67.62  114.14\n",
      "0  simon   67.90  112.37\n",
      "1  jacob   66.78  120.67\n",
      "2  cindy   66.49  127.45\n",
      "3   ivan   67.62  114.14\n"
     ]
    }
   ],
   "source": [
    "# Fonction permettant d'extraire les données contenues dans un fichier csv. Retourne une dataframe.\n",
    "def extract_from_csv(csv_file):\n",
    "\tdataframe = pd.read_csv(csv_file)\n",
    "\treturn dataframe\n",
    "\n",
    "# Fonction permettant d'extraire les données contenues dans un fichier json. Retourne une dataframe.\n",
    "def extract_from_json(json_file):\n",
    "\tdataframe = pd.read_json(json_file, lines= True)\n",
    "\treturn dataframe\n",
    "\n",
    "# Fonction permettant d'extraire les données contenues dans un fichier xml. Retourne une dataframe.\n",
    "def extract_from_xml(xml_file):\n",
    "    dataframe = pd.read_xml(xml_file)\n",
    "    return dataframe\n",
    "\n",
    "# Fonction qui permet d'extraire les données de plusieurs fichiers dont le format est différent et d'obtenir une nouvelle dataframe qui contient l'ensemble de ses données extraites\n",
    "def extract():\n",
    "\t# Création d'un dataframe vide qui va nous permettre de regrouper toutes nos données collectées\n",
    "\textracted_data = pd.DataFrame(columns=['name', 'height', 'weight'])\n",
    "\n",
    "\t# On récupère les données des fichiers en .csv\n",
    "\tfor csvfile in glob.glob(\"*.csv\"):\n",
    "\t\tdata = extract_from_csv(csvfile)\n",
    "\t\tframes = [extracted_data, data]\n",
    "\t\t# On utilise concat plutôt que append comme dans la vidéo de coursera car la fonction append de pandas est déprécié et va être supprimer\n",
    "\t\textracted_data = pd.concat(frames)\n",
    "\n",
    "\t# On récupère les données des fichiers en .json\n",
    "\tfor jsonfile in glob.glob(\"*.json\"):\n",
    "\t\tdata = extract_from_json(jsonfile)\n",
    "\t\tframes = [extracted_data, data]\n",
    "\t\t# On utilise concat plutôt que append comme dans la vidéo de coursera car la fonction append de pandas est déprécié et va être supprimer\n",
    "\t\textracted_data = pd.concat(frames)\n",
    "\n",
    "\t# On récupère les données des fichiers en .xml\n",
    "\tfor xmlfile in glob.glob(\"*.xml\"):\n",
    "\t\tdata = extract_from_xml(xmlfile)\n",
    "\t\tframes = [extracted_data, data]\n",
    "\t\t# On utilise concat plutôt que append comme dans la vidéo de coursera car la fonction append de pandas est déprécié et va être supprimer\n",
    "\t\textracted_data = pd.concat(frames)\n",
    "\n",
    "    # On renvoie la dataframe extracted_data\n",
    "\treturn extracted_data\n",
    "\n",
    "# Récupération de nos données dans une seule dataframe + messages de logs\n",
    "log(\"ETL Job Started\")\n",
    "log(\"Extract phase Started\")\n",
    "extracted_data = extract()\n",
    "# Vérification de l'extraction des données\n",
    "print(extracted_data)\n",
    "log(\"Extract phase Ended\")"
   ]
  },
  {
   "attachments": {},
   "cell_type": "markdown",
   "metadata": {},
   "source": [
    "# Transformation des données"
   ]
  },
  {
   "cell_type": "code",
   "execution_count": 35,
   "metadata": {},
   "outputs": [
    {
     "name": "stdout",
     "output_type": "stream",
     "text": [
      "    name  height  weight\n",
      "0   alex    1.67   51.25\n",
      "1   ajay    1.82   61.91\n",
      "2  alice    1.76   69.41\n",
      "3   ravi    1.73   64.56\n",
      "4    joe    1.72   65.45\n",
      "0   alex    1.67   51.25\n",
      "1   ajay    1.82   61.91\n",
      "2  alice    1.76   69.41\n",
      "3   ravi    1.73   64.56\n",
      "4    joe    1.72   65.45\n",
      "0   alex    1.67   51.25\n",
      "1   ajay    1.82   61.91\n",
      "2  alice    1.76   69.41\n",
      "3   ravi    1.73   64.56\n",
      "4    joe    1.72   65.45\n",
      "0   jack    1.74   55.93\n",
      "1    tom    1.77   64.18\n",
      "2  tracy    1.78   61.90\n",
      "3   john    1.72   50.97\n",
      "0   jack    1.74   55.93\n",
      "1    tom    1.77   64.18\n",
      "2  tracy    1.78   61.90\n",
      "3   john    1.72   50.97\n",
      "0   jack    1.74   55.93\n",
      "1    tom    1.77   64.18\n",
      "2  tracy    1.78   61.90\n",
      "3   john    1.72   50.97\n",
      "0  simon    1.72   50.97\n",
      "1  jacob    1.70   54.73\n",
      "2  cindy    1.69   57.81\n",
      "3   ivan    1.72   51.77\n",
      "0  simon    1.72   50.97\n",
      "1  jacob    1.70   54.73\n",
      "2  cindy    1.69   57.81\n",
      "3   ivan    1.72   51.77\n",
      "0  simon    1.72   50.97\n",
      "1  jacob    1.70   54.73\n",
      "2  cindy    1.69   57.81\n",
      "3   ivan    1.72   51.77\n"
     ]
    }
   ],
   "source": [
    "# Fonction qui prend un dataframe en paramètre où les données de poids et de taille sont renseignées avec les unités de mesure du système impérial (inches et pounds) et renvoie un dataframe où ces données ont été convertie aux unités mesure du système métrique\n",
    "def transform(data):\n",
    "\t# Conversion de la taille des individus dans le dataframe passé en paramètre de la fonction du système impérial (inches) au système métrique (mètre). 1 inch = 0.0254 mètre\n",
    "\tdata[\"height\"] = round(data.height * 0.0254, 2)\n",
    "\n",
    "\t# Conversion du poids des individus dans le dataframe passé en paramètre de la fonction du système impérial (pounds) au système métrique (kilogramme). 1 pound = 0.45359237 kilogramme\n",
    "\tdata[\"weight\"] = round(data.weight * 0.45359237, 2)\n",
    "\n",
    "\treturn data\n",
    "\n",
    "# Transformation de données\n",
    "log(\"Transform Job Started\")\n",
    "transformed_data = transform(extracted_data)\n",
    "# Vérification de la transformation des données\n",
    "print(extracted_data)\n",
    "log(\"Transform Job Ended\")"
   ]
  },
  {
   "attachments": {},
   "cell_type": "markdown",
   "metadata": {},
   "source": [
    "# Chargement des données sur un nouveau fichier csv"
   ]
  },
  {
   "cell_type": "code",
   "execution_count": 36,
   "metadata": {},
   "outputs": [],
   "source": [
    "# Fonction qui permet d'exporter nos données sur un fichier csv\n",
    "def load(targetfile, data_to_load):\n",
    "\tdata_to_load.to_csv(targetfile)\n",
    "\n",
    "targetfile = \"transformed_data.csv\"\n",
    "\n",
    "log(\"Load Job Started\")\n",
    "load(targetfile, transformed_data)\n",
    "log(\"Load Job Ended\")\n",
    "log(\"ETL Job Ended\")"
   ]
  }
 ],
 "metadata": {
  "kernelspec": {
   "display_name": "Python 3 (ipykernel)",
   "language": "python",
   "name": "python3"
  },
  "language_info": {
   "codemirror_mode": {
    "name": "ipython",
    "version": 3
   },
   "file_extension": ".py",
   "mimetype": "text/x-python",
   "name": "python",
   "nbconvert_exporter": "python",
   "pygments_lexer": "ipython3",
   "version": "3.9.13"
  },
  "vscode": {
   "interpreter": {
    "hash": "700029e5f9c8992c55d37e3a404b0b432c68d401a3c06e21a848c27e97636ef3"
   }
  }
 },
 "nbformat": 4,
 "nbformat_minor": 2
}
